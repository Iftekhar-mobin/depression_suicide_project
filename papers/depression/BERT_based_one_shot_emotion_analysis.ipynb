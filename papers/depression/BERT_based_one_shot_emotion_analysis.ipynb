{
 "cells": [
  {
   "cell_type": "code",
   "execution_count": 3,
   "id": "1cf0a064",
   "metadata": {},
   "outputs": [],
   "source": [
    "import pandas as pd"
   ]
  },
  {
   "cell_type": "code",
   "execution_count": 1,
   "id": "2dea62be",
   "metadata": {},
   "outputs": [
    {
     "name": "stderr",
     "output_type": "stream",
     "text": [
      "2022-12-28 19:04:52.126510: I tensorflow/core/platform/cpu_feature_guard.cc:193] This TensorFlow binary is optimized with oneAPI Deep Neural Network Library (oneDNN) to use the following CPU instructions in performance-critical operations:  AVX2 FMA\n",
      "To enable them in other operations, rebuild TensorFlow with the appropriate compiler flags.\n",
      "2022-12-28 19:04:52.424488: W tensorflow/compiler/xla/stream_executor/platform/default/dso_loader.cc:64] Could not load dynamic library 'libcudart.so.11.0'; dlerror: libcudart.so.11.0: cannot open shared object file: No such file or directory\n",
      "2022-12-28 19:04:52.424530: I tensorflow/compiler/xla/stream_executor/cuda/cudart_stub.cc:29] Ignore above cudart dlerror if you do not have a GPU set up on your machine.\n",
      "2022-12-28 19:04:53.569080: W tensorflow/compiler/xla/stream_executor/platform/default/dso_loader.cc:64] Could not load dynamic library 'libnvinfer.so.7'; dlerror: libnvinfer.so.7: cannot open shared object file: No such file or directory\n",
      "2022-12-28 19:04:53.569134: W tensorflow/compiler/xla/stream_executor/platform/default/dso_loader.cc:64] Could not load dynamic library 'libnvinfer_plugin.so.7'; dlerror: libnvinfer_plugin.so.7: cannot open shared object file: No such file or directory\n",
      "2022-12-28 19:04:53.569140: W tensorflow/compiler/tf2tensorrt/utils/py_utils.cc:38] TF-TRT Warning: Cannot dlopen some TensorRT libraries. If you would like to use Nvidia GPU with TensorRT, please make sure the missing libraries mentioned above are installed properly.\n"
     ]
    },
    {
     "data": {
      "application/vnd.jupyter.widget-view+json": {
       "model_id": "7d57401dff314f1792b51b8661cb93d8",
       "version_major": 2,
       "version_minor": 0
      },
      "text/plain": [
       "Downloading:   0%|          | 0.00/768 [00:00<?, ?B/s]"
      ]
     },
     "metadata": {},
     "output_type": "display_data"
    },
    {
     "data": {
      "application/vnd.jupyter.widget-view+json": {
       "model_id": "ddf607a6f5694d2080a829d2289b2d2b",
       "version_major": 2,
       "version_minor": 0
      },
      "text/plain": [
       "Downloading:   0%|          | 0.00/899k [00:00<?, ?B/s]"
      ]
     },
     "metadata": {},
     "output_type": "display_data"
    },
    {
     "data": {
      "application/vnd.jupyter.widget-view+json": {
       "model_id": "9eaed18bac204982b15d8b72b2692124",
       "version_major": 2,
       "version_minor": 0
      },
      "text/plain": [
       "Downloading:   0%|          | 0.00/456k [00:00<?, ?B/s]"
      ]
     },
     "metadata": {},
     "output_type": "display_data"
    },
    {
     "data": {
      "application/vnd.jupyter.widget-view+json": {
       "model_id": "537f50e013f946b7841154f0b3a8567c",
       "version_major": 2,
       "version_minor": 0
      },
      "text/plain": [
       "Downloading:   0%|          | 0.00/150 [00:00<?, ?B/s]"
      ]
     },
     "metadata": {},
     "output_type": "display_data"
    },
    {
     "data": {
      "application/vnd.jupyter.widget-view+json": {
       "model_id": "77ee8d2fbfc9494b988965cec0987d23",
       "version_major": 2,
       "version_minor": 0
      },
      "text/plain": [
       "Downloading:   0%|          | 0.00/499M [00:00<?, ?B/s]"
      ]
     },
     "metadata": {},
     "output_type": "display_data"
    },
    {
     "name": "stdout",
     "output_type": "stream",
     "text": [
      "1) joy 0.9382\n",
      "2) optimism 0.0362\n",
      "3) anger 0.0145\n",
      "4) sadness 0.0112\n"
     ]
    }
   ],
   "source": [
    "from transformers import AutoModelForSequenceClassification\n",
    "from transformers import TFAutoModelForSequenceClassification\n",
    "from transformers import AutoTokenizer\n",
    "import numpy as np\n",
    "from scipy.special import softmax\n",
    "import csv\n",
    "import urllib.request\n",
    "\n",
    "# Preprocess text (username and link placeholders)\n",
    "def preprocess(text):\n",
    "    new_text = []\n",
    "    for t in text.split(\" \"):\n",
    "        t = '@user' if t.startswith('@') and len(t) > 1 else t\n",
    "        t = 'http' if t.startswith('http') else t\n",
    "        new_text.append(t)\n",
    "    return \" \".join(new_text)\n",
    "\n",
    "# Tasks:\n",
    "# emoji, emotion, hate, irony, offensive, sentiment\n",
    "# stance/abortion, stance/atheism, stance/climate, stance/feminist, stance/hillary\n",
    "\n",
    "task='emotion'\n",
    "MODEL = f\"cardiffnlp/twitter-roberta-base-{task}\"\n",
    "\n",
    "tokenizer = AutoTokenizer.from_pretrained(MODEL)\n",
    "\n",
    "# download label mapping\n",
    "mapping_link = f\"https://raw.githubusercontent.com/cardiffnlp/tweeteval/main/datasets/{task}/mapping.txt\"\n",
    "with urllib.request.urlopen(mapping_link) as f:\n",
    "    html = f.read().decode('utf-8').split(\"\\n\")\n",
    "    csvreader = csv.reader(html, delimiter='\\t')\n",
    "labels = [row[1] for row in csvreader if len(row) > 1]\n",
    "\n",
    "# PT\n",
    "model = AutoModelForSequenceClassification.from_pretrained(MODEL)\n",
    "model.save_pretrained(MODEL)\n",
    "\n",
    "text = \"Celebrating my promotion 😎\"\n",
    "text = preprocess(text)\n",
    "encoded_input = tokenizer(text, return_tensors='pt')\n",
    "output = model(**encoded_input)\n",
    "scores = output[0][0].detach().numpy()\n",
    "scores = softmax(scores)\n",
    "\n",
    "# # TF\n",
    "# model = TFAutoModelForSequenceClassification.from_pretrained(MODEL)\n",
    "# model.save_pretrained(MODEL)\n",
    "\n",
    "# text = \"Celebrating my promotion 😎\"\n",
    "# encoded_input = tokenizer(text, return_tensors='tf')\n",
    "# output = model(encoded_input)\n",
    "# scores = output[0][0].numpy()\n",
    "# scores = softmax(scores)\n",
    "\n",
    "ranking = np.argsort(scores)\n",
    "ranking = ranking[::-1]\n",
    "for i in range(scores.shape[0]):\n",
    "    l = labels[ranking[i]]\n",
    "    s = scores[ranking[i]]\n",
    "    print(f\"{i+1}) {l} {np.round(float(s), 4)}\")\n",
    "\n"
   ]
  },
  {
   "cell_type": "code",
   "execution_count": 2,
   "id": "d2f00e9f",
   "metadata": {},
   "outputs": [],
   "source": [
    "def generate_sentiment(msg):\n",
    "#     text = \"Celebrating my promotion 😎\"\n",
    "    text = preprocess(msg)\n",
    "    encoded_input = tokenizer(text, return_tensors='pt')\n",
    "    output = model(**encoded_input)\n",
    "    scores = output[0][0].detach().numpy()\n",
    "    scores = softmax(scores)\n",
    "\n",
    "    # # TF\n",
    "    # model = TFAutoModelForSequenceClassification.from_pretrained(MODEL)\n",
    "    # model.save_pretrained(MODEL)\n",
    "\n",
    "    # text = \"Celebrating my promotion 😎\"\n",
    "    # encoded_input = tokenizer(text, return_tensors='tf')\n",
    "    # output = model(encoded_input)\n",
    "    # scores = output[0][0].numpy()\n",
    "    # scores = softmax(scores)\n",
    "\n",
    "    ranking = np.argsort(scores)\n",
    "    ranking = ranking[::-1]\n",
    "    for i in range(scores.shape[0]):\n",
    "        l = labels[ranking[i]]\n",
    "        s = scores[ranking[i]]\n",
    "        # print(f\"{i+1}) {l} {np.round(float(s), 4)}\")\n",
    "        break\n",
    "\n",
    "    return l, np.round(float(s), 4)"
   ]
  },
  {
   "cell_type": "code",
   "execution_count": 6,
   "id": "c01e3add",
   "metadata": {},
   "outputs": [],
   "source": [
    "df_int =pd.read_csv('/home/ifte-home/Documents/mental_health/suicide/CSSRS/reddit_dataset_with_CSSR_intensity.csv')"
   ]
  },
  {
   "cell_type": "code",
   "execution_count": 7,
   "id": "7fdbb145",
   "metadata": {},
   "outputs": [
    {
     "data": {
      "text/html": [
       "<div>\n",
       "<style scoped>\n",
       "    .dataframe tbody tr th:only-of-type {\n",
       "        vertical-align: middle;\n",
       "    }\n",
       "\n",
       "    .dataframe tbody tr th {\n",
       "        vertical-align: top;\n",
       "    }\n",
       "\n",
       "    .dataframe thead th {\n",
       "        text-align: right;\n",
       "    }\n",
       "</style>\n",
       "<table border=\"1\" class=\"dataframe\">\n",
       "  <thead>\n",
       "    <tr style=\"text-align: right;\">\n",
       "      <th></th>\n",
       "      <th>Unnamed: 0</th>\n",
       "      <th>Unnamed: 0.1</th>\n",
       "      <th>processed</th>\n",
       "      <th>class</th>\n",
       "      <th>category</th>\n",
       "      <th>suicide_intensity</th>\n",
       "      <th>intensity</th>\n",
       "    </tr>\n",
       "  </thead>\n",
       "  <tbody>\n",
       "    <tr>\n",
       "      <th>0</th>\n",
       "      <td>0</td>\n",
       "      <td>0</td>\n",
       "      <td>ex wife threatening suiciderecently left wife ...</td>\n",
       "      <td>suicide</td>\n",
       "      <td>1</td>\n",
       "      <td>2</td>\n",
       "      <td>Ideation</td>\n",
       "    </tr>\n",
       "    <tr>\n",
       "      <th>1</th>\n",
       "      <td>1</td>\n",
       "      <td>1</td>\n",
       "      <td>weird get affected compliment coming someone k...</td>\n",
       "      <td>non-suicide</td>\n",
       "      <td>0</td>\n",
       "      <td>2</td>\n",
       "      <td>Ideation</td>\n",
       "    </tr>\n",
       "    <tr>\n",
       "      <th>2</th>\n",
       "      <td>2</td>\n",
       "      <td>2</td>\n",
       "      <td>finally almost never hear ha bad year ever swe...</td>\n",
       "      <td>non-suicide</td>\n",
       "      <td>0</td>\n",
       "      <td>2</td>\n",
       "      <td>Ideation</td>\n",
       "    </tr>\n",
       "    <tr>\n",
       "      <th>3</th>\n",
       "      <td>3</td>\n",
       "      <td>3</td>\n",
       "      <td>need helpjust help im cry hard</td>\n",
       "      <td>suicide</td>\n",
       "      <td>1</td>\n",
       "      <td>2</td>\n",
       "      <td>Ideation</td>\n",
       "    </tr>\n",
       "    <tr>\n",
       "      <th>4</th>\n",
       "      <td>4</td>\n",
       "      <td>4</td>\n",
       "      <td>losthello name adam struggling year afraid pas...</td>\n",
       "      <td>suicide</td>\n",
       "      <td>1</td>\n",
       "      <td>2</td>\n",
       "      <td>Ideation</td>\n",
       "    </tr>\n",
       "    <tr>\n",
       "      <th>...</th>\n",
       "      <td>...</td>\n",
       "      <td>...</td>\n",
       "      <td>...</td>\n",
       "      <td>...</td>\n",
       "      <td>...</td>\n",
       "      <td>...</td>\n",
       "      <td>...</td>\n",
       "    </tr>\n",
       "    <tr>\n",
       "      <th>231991</th>\n",
       "      <td>232069</td>\n",
       "      <td>232069</td>\n",
       "      <td>like rock going get anything go http musictast...</td>\n",
       "      <td>non-suicide</td>\n",
       "      <td>0</td>\n",
       "      <td>2</td>\n",
       "      <td>Ideation</td>\n",
       "    </tr>\n",
       "    <tr>\n",
       "      <th>231992</th>\n",
       "      <td>232070</td>\n",
       "      <td>232070</td>\n",
       "      <td>tell many friend lonely everything deprived pr...</td>\n",
       "      <td>non-suicide</td>\n",
       "      <td>0</td>\n",
       "      <td>2</td>\n",
       "      <td>Ideation</td>\n",
       "    </tr>\n",
       "    <tr>\n",
       "      <th>231993</th>\n",
       "      <td>232071</td>\n",
       "      <td>232071</td>\n",
       "      <td>pee probably taste like salty tea someone dran...</td>\n",
       "      <td>non-suicide</td>\n",
       "      <td>0</td>\n",
       "      <td>2</td>\n",
       "      <td>Ideation</td>\n",
       "    </tr>\n",
       "    <tr>\n",
       "      <th>231994</th>\n",
       "      <td>232072</td>\n",
       "      <td>232072</td>\n",
       "      <td>usual stuff find herei posting sympathy pity k...</td>\n",
       "      <td>suicide</td>\n",
       "      <td>1</td>\n",
       "      <td>2</td>\n",
       "      <td>Ideation</td>\n",
       "    </tr>\n",
       "    <tr>\n",
       "      <th>231995</th>\n",
       "      <td>232073</td>\n",
       "      <td>232073</td>\n",
       "      <td>still beaten first bos hollow knight fought ti...</td>\n",
       "      <td>non-suicide</td>\n",
       "      <td>0</td>\n",
       "      <td>2</td>\n",
       "      <td>Ideation</td>\n",
       "    </tr>\n",
       "  </tbody>\n",
       "</table>\n",
       "<p>231996 rows × 7 columns</p>\n",
       "</div>"
      ],
      "text/plain": [
       "        Unnamed: 0  Unnamed: 0.1  \\\n",
       "0                0             0   \n",
       "1                1             1   \n",
       "2                2             2   \n",
       "3                3             3   \n",
       "4                4             4   \n",
       "...            ...           ...   \n",
       "231991      232069        232069   \n",
       "231992      232070        232070   \n",
       "231993      232071        232071   \n",
       "231994      232072        232072   \n",
       "231995      232073        232073   \n",
       "\n",
       "                                                processed        class  \\\n",
       "0       ex wife threatening suiciderecently left wife ...      suicide   \n",
       "1       weird get affected compliment coming someone k...  non-suicide   \n",
       "2       finally almost never hear ha bad year ever swe...  non-suicide   \n",
       "3                          need helpjust help im cry hard      suicide   \n",
       "4       losthello name adam struggling year afraid pas...      suicide   \n",
       "...                                                   ...          ...   \n",
       "231991  like rock going get anything go http musictast...  non-suicide   \n",
       "231992  tell many friend lonely everything deprived pr...  non-suicide   \n",
       "231993  pee probably taste like salty tea someone dran...  non-suicide   \n",
       "231994  usual stuff find herei posting sympathy pity k...      suicide   \n",
       "231995  still beaten first bos hollow knight fought ti...  non-suicide   \n",
       "\n",
       "        category  suicide_intensity intensity  \n",
       "0              1                  2  Ideation  \n",
       "1              0                  2  Ideation  \n",
       "2              0                  2  Ideation  \n",
       "3              1                  2  Ideation  \n",
       "4              1                  2  Ideation  \n",
       "...          ...                ...       ...  \n",
       "231991         0                  2  Ideation  \n",
       "231992         0                  2  Ideation  \n",
       "231993         0                  2  Ideation  \n",
       "231994         1                  2  Ideation  \n",
       "231995         0                  2  Ideation  \n",
       "\n",
       "[231996 rows x 7 columns]"
      ]
     },
     "execution_count": 7,
     "metadata": {},
     "output_type": "execute_result"
    }
   ],
   "source": [
    "df_int"
   ]
  },
  {
   "cell_type": "code",
   "execution_count": 8,
   "id": "52be02cc",
   "metadata": {},
   "outputs": [],
   "source": [
    "import re\n",
    "def remove_characters(text):\n",
    "    text = text.split()\n",
    "    text = [x for x in text if len(x)>3]\n",
    "    return ' '.join(text)\n",
    "df_int['processed'] = df_int.processed.apply(lambda x: remove_characters(x))"
   ]
  },
  {
   "cell_type": "code",
   "execution_count": 9,
   "id": "d4a07055",
   "metadata": {},
   "outputs": [],
   "source": [
    "df_int = df_int.astype('str')\n",
    "df_int =df_int.dropna()"
   ]
  },
  {
   "cell_type": "code",
   "execution_count": 10,
   "id": "35a39e50",
   "metadata": {},
   "outputs": [],
   "source": [
    "def filter_doc(text):\n",
    "    text = text.split()\n",
    "    if len(text) < 500:\n",
    "        return ' '.join(text)\n",
    "    else: \n",
    "        text = text[0:480]\n",
    "        return ' '.join(text)"
   ]
  },
  {
   "cell_type": "code",
   "execution_count": 11,
   "id": "fd180383",
   "metadata": {},
   "outputs": [],
   "source": [
    "sent, score = generate_sentiment(df.text.values[0])"
   ]
  },
  {
   "cell_type": "code",
   "execution_count": 14,
   "id": "01372510",
   "metadata": {},
   "outputs": [
    {
     "data": {
      "text/plain": [
       "('sadness', 0.6941)"
      ]
     },
     "execution_count": 14,
     "metadata": {},
     "output_type": "execute_result"
    }
   ],
   "source": [
    "generate_sentiment(filter_doc(df_int['processed'].iloc[134]))"
   ]
  },
  {
   "cell_type": "code",
   "execution_count": 16,
   "id": "5249ca2d",
   "metadata": {},
   "outputs": [],
   "source": [
    "df_int['emotion'] = np.nan\n",
    "df_int['score'] = np.nan"
   ]
  },
  {
   "cell_type": "code",
   "execution_count": 18,
   "id": "aa56dfed",
   "metadata": {},
   "outputs": [
    {
     "name": "stderr",
     "output_type": "stream",
     "text": [
      "/home/ifte-home/venvs/exp-Env/lib/python3.7/site-packages/pandas/core/indexing.py:1732: SettingWithCopyWarning: \n",
      "A value is trying to be set on a copy of a slice from a DataFrame\n",
      "\n",
      "See the caveats in the documentation: https://pandas.pydata.org/pandas-docs/stable/user_guide/indexing.html#returning-a-view-versus-a-copy\n",
      "  self._setitem_single_block(indexer, value, name)\n"
     ]
    },
    {
     "name": "stdout",
     "output_type": "stream",
     "text": [
      ", 520\n",
      ", 994\n",
      ", 1118\n",
      ", 1235\n",
      ", 1898\n",
      ", 2070\n",
      ", 2795\n",
      ", 4139\n",
      ", 5227\n",
      ", 5383\n",
      ", 5568\n",
      ", 6068\n",
      ", 6228\n",
      ", 6853\n",
      ", 7189\n",
      ", 7220\n",
      ", 7323\n",
      ", 7333\n",
      ", 8009\n",
      ", 8435\n",
      ", 8437\n",
      ", 8661\n",
      ", 8783\n",
      ", 9241\n",
      ", 9379\n",
      ", 9825\n",
      ", 9919\n",
      ", 10473\n",
      ", 10969\n",
      ", 11550\n",
      ", 12152\n",
      ", 13363\n",
      ", 13460\n",
      ", 13682\n",
      ", 13811\n",
      ", 14549\n",
      ", 15582\n",
      ", 15737\n",
      ", 15880\n",
      ", 16127\n",
      ", 16700\n",
      ", 16980\n",
      ", 17373\n",
      ", 17885\n",
      ", 18053\n",
      ", 18668\n",
      ", 18699\n",
      ", 18770\n",
      ", 19384\n",
      ", 19489\n",
      ", 19496\n",
      ", 19628\n",
      ", 20257\n",
      ", 20770\n",
      ", 21400\n",
      ", 22484\n",
      ", 22879\n",
      ", 22920\n",
      ", 23620\n",
      ", 23635\n",
      ", 25070\n",
      ", 25534\n",
      ", 26392\n",
      ", 26811\n",
      ", 27433\n",
      ", 27456\n",
      ", 28110\n",
      ", 28269\n",
      ", 28343\n",
      ", 28520\n",
      ", 28826\n",
      ", 29363\n",
      ", 29585\n",
      ", 30468\n",
      ", 30591\n",
      ", 30772\n",
      ", 30853\n",
      ", 31027\n",
      ", 31534\n",
      ", 31672\n",
      ", 31769\n",
      ", 31962\n",
      ", 32274\n",
      ", 32351\n",
      ", 32362\n",
      ", 33636\n",
      ", 33882\n",
      ", 34360\n",
      ", 34393\n",
      ", 34420\n",
      ", 34612\n",
      ", 35258\n",
      ", 35651\n",
      ", 35672\n",
      ", 37218\n",
      ", 37458\n",
      ", 37812\n",
      ", 37900\n",
      ", 38570\n",
      ", 38578\n",
      ", 38750\n",
      ", 39470\n",
      ", 40266\n",
      ", 40294\n",
      ", 40353\n",
      ", 40354\n",
      ", 40449\n",
      ", 40516\n",
      ", 40629\n",
      ", 41527\n",
      ", 41839\n",
      ", 41987\n",
      ", 42247\n",
      ", 42384\n",
      ", 43228\n",
      ", 43919\n",
      ", 44370\n",
      ", 44445\n",
      ", 44581\n",
      ", 44628\n",
      ", 44953\n",
      ", 45157\n",
      ", 45890\n",
      ", 46400\n",
      ", 46734\n",
      ", 47036\n",
      ", 47086\n",
      ", 47176\n",
      ", 47614\n",
      ", 48417\n",
      ", 48626\n",
      ", 48710\n",
      ", 49024\n",
      ", 49040\n",
      ", 49284\n",
      ", 49556\n",
      ", 49718\n",
      ", 49943\n",
      ", 50914\n",
      ", 51264\n",
      ", 51672\n",
      ", 51819\n",
      ", 51885\n",
      ", 52059\n",
      ", 52307\n",
      ", 52398\n",
      ", 52594\n",
      ", 53161\n",
      ", 53396\n",
      ", 53566\n",
      ", 54034\n",
      ", 54205\n",
      ", 54264\n",
      ", 54556\n",
      ", 55233\n",
      ", 55681\n",
      ", 55902\n",
      ", 56294\n",
      ", 56398\n",
      ", 56510\n",
      ", 56731\n",
      ", 57078\n",
      ", 57189\n",
      ", 57706\n",
      ", 57717\n",
      ", 57726\n",
      ", 58062\n",
      ", 58154\n",
      ", 58707\n",
      ", 58912\n",
      ", 61003\n",
      ", 61646\n",
      ", 61751\n",
      ", 61828\n",
      ", 62196\n",
      ", 62859\n",
      ", 63471\n",
      ", 64227\n",
      ", 65070\n",
      ", 65873\n",
      ", 65895\n",
      ", 66014\n",
      ", 66294\n",
      ", 66593\n",
      ", 66986\n",
      ", 67689\n",
      ", 67990\n",
      ", 68030\n",
      ", 68188\n",
      ", 68650\n",
      ", 69039\n",
      ", 69870\n",
      ", 69926\n",
      ", 70474\n",
      ", 70581\n",
      ", 70726\n",
      ", 71549\n",
      ", 72072\n",
      ", 72213\n",
      ", 72359\n",
      ", 73725\n",
      ", 73915\n",
      ", 74024\n",
      ", 74345\n",
      ", 74372\n",
      ", 74805\n",
      ", 74908\n",
      ", 75401\n",
      ", 76178\n",
      ", 76321\n",
      ", 76641\n",
      ", 76777\n",
      ", 76841\n",
      ", 77037\n",
      ", 77386\n",
      ", 77775\n",
      ", 78235\n",
      ", 78395\n",
      ", 78958\n",
      ", 79197\n",
      ", 79526\n",
      ", 79730\n",
      ", 79765\n",
      ", 79804\n",
      ", 80099\n",
      ", 80647\n",
      ", 80989\n",
      ", 81202\n",
      ", 81557\n",
      ", 81596\n",
      ", 82015\n",
      ", 82128\n",
      ", 82263\n",
      ", 82580\n",
      ", 83128\n",
      ", 83314\n",
      ", 83936\n",
      ", 84140\n",
      ", 85009\n",
      ", 85012\n",
      ", 85026\n",
      ", 85096\n",
      ", 85410\n",
      ", 86088\n",
      ", 87616\n",
      ", 88171\n",
      ", 88272\n",
      ", 88639\n",
      ", 88694\n",
      ", 88873\n",
      ", 89320\n",
      ", 89825\n",
      ", 90418\n",
      ", 90585\n",
      ", 90656\n",
      ", 90702\n",
      ", 92072\n",
      ", 92200\n",
      ", 92218\n",
      ", 92308\n",
      ", 92758\n",
      ", 93526\n",
      ", 94161\n",
      ", 94253\n",
      ", 94320\n",
      ", 94550\n",
      ", 94816\n",
      ", 95044\n",
      ", 95469\n",
      ", 95779\n",
      ", 96624\n",
      ", 96854\n",
      ", 97264\n",
      ", 97463\n",
      ", 97734\n",
      ", 97934\n",
      ", 98233\n",
      ", 98783\n",
      ", 99046\n",
      ", 99189\n",
      ", 99597\n",
      ", 99976\n",
      ", 100141\n",
      ", 101023\n",
      ", 101726\n",
      ", 102020\n",
      ", 102193\n",
      ", 102333\n",
      ", 102579\n",
      ", 102695\n",
      ", 103005\n",
      ", 103474\n",
      ", 104144\n",
      ", 105493\n",
      ", 105604\n",
      ", 105798\n",
      ", 106072\n",
      ", 106326\n",
      ", 107681\n",
      ", 107827\n",
      ", 108426\n",
      ", 108807\n",
      ", 109084\n",
      ", 110322\n",
      ", 110719\n",
      ", 110915\n",
      ", 112533\n",
      ", 113175\n",
      ", 113789\n",
      ", 113876\n",
      ", 114294\n",
      ", 114607\n",
      ", 114963\n",
      ", 115012\n",
      ", 115023\n",
      ", 115935\n",
      ", 116775\n",
      ", 117382\n",
      ", 117421\n",
      ", 118137\n",
      ", 118441\n",
      ", 118521\n",
      ", 118680\n",
      ", 119838\n",
      ", 120663\n",
      ", 120724\n",
      ", 120995\n",
      ", 122003\n",
      ", 122141\n",
      ", 122256\n",
      ", 122876\n",
      ", 123847\n",
      ", 123872\n",
      ", 124413\n",
      ", 124603\n",
      ", 126038\n",
      ", 126628\n",
      ", 126685\n",
      ", 127405\n",
      ", 128450\n",
      ", 128961\n",
      ", 129080\n",
      ", 129151\n",
      ", 129292\n",
      ", 129404\n",
      ", 129685\n",
      ", 129887\n",
      ", 129890\n",
      ", 130348\n",
      ", 130511\n",
      ", 130776\n",
      ", 131386\n",
      ", 131844\n",
      ", 132452\n",
      ", 132754\n",
      ", 132773\n",
      ", 133065\n",
      ", 133077\n",
      ", 133615\n",
      ", 133756\n",
      ", 134291\n",
      ", 134683\n",
      ", 134909\n",
      ", 135127\n",
      ", 136195\n",
      ", 136251\n",
      ", 136272\n",
      ", 136370\n",
      ", 136558\n",
      ", 136613\n",
      ", 137184\n",
      ", 138032\n",
      ", 138237\n",
      ", 138483\n",
      ", 138696\n",
      ", 139398\n",
      ", 139615\n",
      ", 139717\n",
      ", 139787\n",
      ", 140298\n",
      ", 140366\n",
      ", 140432\n",
      ", 140651\n",
      ", 140809\n",
      ", 141115\n",
      ", 141659\n",
      ", 141794\n",
      ", 142003\n",
      ", 142068\n",
      ", 142186\n",
      ", 143033\n",
      ", 143347\n",
      ", 143499\n",
      ", 143554\n",
      ", 144429\n",
      ", 145089\n",
      ", 145480\n",
      ", 145631\n",
      ", 145718\n",
      ", 145733\n",
      ", 146063\n",
      ", 146130\n",
      ", 146497\n",
      ", 147278\n",
      ", 147342\n",
      ", 147870\n",
      ", 147872\n",
      ", 148527\n",
      ", 148532\n",
      ", 148933\n",
      ", 149492\n",
      ", 149675\n",
      ", 150029\n",
      ", 150168\n",
      ", 150584\n",
      ", 151215\n",
      ", 152791\n",
      ", 152826\n",
      ", 152899\n",
      ", 153388\n",
      ", 154648\n",
      ", 155646\n",
      ", 155925\n",
      ", 156357\n",
      ", 156765\n",
      ", 156903\n",
      ", 158113\n",
      ", 158428\n",
      ", 158981\n",
      ", 159137\n",
      ", 159395\n",
      ", 160066\n",
      ", 160099\n",
      ", 160325\n",
      ", 160359\n",
      ", 160659\n",
      ", 161242\n",
      ", 161389\n",
      ", 161935\n",
      ", 162037\n",
      ", 162542\n",
      ", 163335\n",
      ", 163991\n",
      ", 166964\n",
      ", 167200\n",
      ", 167298\n",
      ", 167704\n",
      ", 167766\n",
      ", 168003\n",
      ", 168433\n",
      ", 168822\n",
      ", 169243\n",
      ", 169880\n",
      ", 170487\n",
      ", 170659\n",
      ", 170993\n",
      ", 171104\n",
      ", 171369\n",
      ", 171414\n",
      ", 172006\n",
      ", 172035\n",
      ", 172310\n",
      ", 172837\n",
      ", 173091\n",
      ", 173495\n",
      ", 173681\n",
      ", 174111\n",
      ", 175105\n",
      ", 176170\n",
      ", 176172\n",
      ", 176570\n",
      ", 176807\n",
      ", 177222\n",
      ", 178006\n",
      ", 179913\n",
      ", 179929\n",
      ", 180023\n",
      ", 180204\n",
      ", 180258\n",
      ", 180336\n",
      ", 180892\n",
      ", 181078\n",
      ", 181624\n",
      ", 181781\n",
      ", 181943\n",
      ", 181986\n",
      ", 182035\n",
      ", 182288\n",
      ", 182347\n",
      ", 182438\n",
      ", 183660\n",
      ", 183701\n",
      ", 183925\n",
      ", 184314\n",
      ", 185704\n",
      ", 186897\n",
      ", 187024\n",
      ", 188030\n",
      ", 188341\n",
      ", 188461\n",
      ", 188877\n",
      ", 189082\n",
      ", 189091\n",
      ", 189794\n",
      ", 189864\n",
      ", 190484\n",
      ", 190698\n",
      ", 191714\n",
      ", 192388\n",
      ", 193277\n",
      ", 193321\n",
      ", 194312\n",
      ", 194568\n",
      ", 194570\n",
      ", 194584\n",
      ", 194788\n",
      ", 195032\n",
      ", 195373\n",
      ", 195734\n",
      ", 196577\n",
      ", 196741\n",
      ", 196896\n",
      ", 196946\n",
      ", 197251\n",
      ", 197614\n",
      ", 198237\n",
      ", 198485\n",
      ", 199599\n",
      ", 201360\n",
      ", 202039\n",
      ", 202154\n",
      ", 202739\n",
      ", 203471\n",
      ", 203608\n",
      ", 203699\n",
      ", 204505\n",
      ", 204573\n",
      ", 205570\n",
      ", 205617\n",
      ", 205922\n",
      ", 206048\n",
      ", 206251\n",
      ", 207055\n",
      ", 207241\n",
      ", 207335\n",
      ", 207818\n",
      ", 208475\n",
      ", 208750\n",
      ", 209123\n",
      ", 210025\n",
      ", 210904\n",
      ", 211942\n",
      ", 212567\n",
      ", 212679\n",
      ", 212719\n",
      ", 212807\n",
      ", 212883\n",
      ", 213070\n",
      ", 213326\n",
      ", 213814\n",
      ", 213862\n",
      ", 214059\n",
      ", 214079\n",
      ", 214142\n",
      ", 214262\n",
      ", 215100\n",
      ", 216216\n",
      ", 216957\n",
      ", 217091\n",
      ", 217751\n",
      ", 218017\n",
      ", 218453\n",
      ", 218582\n",
      ", 218698\n",
      ", 219057\n",
      ", 219147\n",
      ", 220375\n",
      ", 220637\n",
      ", 221090\n",
      ", 221947\n",
      ", 222116\n",
      ", 222392\n",
      ", 222910\n",
      ", 223592\n",
      ", 223619\n",
      ", 223987\n",
      ", 224004\n",
      ", 225180\n",
      ", 225795\n",
      ", 226703\n",
      ", 228023\n",
      ", 228031\n",
      ", 228840\n",
      ", 230209\n",
      ", 230401\n",
      ", 231103\n",
      ", 231732\n",
      ", 231984\n"
     ]
    }
   ],
   "source": [
    "i=0\n",
    "for row, col in df_int.iterrows():\n",
    "    try:\n",
    "        sentiment, score = generate_sentiment(filter_doc(col['processed']))\n",
    "        df_int['emotion'].iloc[i] = sentiment\n",
    "        df_int['score'].iloc[i] = score\n",
    "#     print(i,\"-\",sentiment,\"-\",score)\n",
    "    except (RuntimeError, IndexError) as error: \n",
    "        print(',', i)\n",
    "    i+=1"
   ]
  },
  {
   "cell_type": "code",
   "execution_count": 19,
   "id": "2dd3fed1",
   "metadata": {},
   "outputs": [
    {
     "data": {
      "text/html": [
       "<div>\n",
       "<style scoped>\n",
       "    .dataframe tbody tr th:only-of-type {\n",
       "        vertical-align: middle;\n",
       "    }\n",
       "\n",
       "    .dataframe tbody tr th {\n",
       "        vertical-align: top;\n",
       "    }\n",
       "\n",
       "    .dataframe thead th {\n",
       "        text-align: right;\n",
       "    }\n",
       "</style>\n",
       "<table border=\"1\" class=\"dataframe\">\n",
       "  <thead>\n",
       "    <tr style=\"text-align: right;\">\n",
       "      <th></th>\n",
       "      <th>Unnamed: 0</th>\n",
       "      <th>Unnamed: 0.1</th>\n",
       "      <th>processed</th>\n",
       "      <th>class</th>\n",
       "      <th>category</th>\n",
       "      <th>suicide_intensity</th>\n",
       "      <th>intensity</th>\n",
       "      <th>emotion</th>\n",
       "      <th>score</th>\n",
       "    </tr>\n",
       "  </thead>\n",
       "  <tbody>\n",
       "    <tr>\n",
       "      <th>0</th>\n",
       "      <td>0</td>\n",
       "      <td>0</td>\n",
       "      <td>wife threatening suiciderecently left wife goo...</td>\n",
       "      <td>suicide</td>\n",
       "      <td>1</td>\n",
       "      <td>2</td>\n",
       "      <td>Ideation</td>\n",
       "      <td>sadness</td>\n",
       "      <td>0.9002</td>\n",
       "    </tr>\n",
       "    <tr>\n",
       "      <th>1</th>\n",
       "      <td>1</td>\n",
       "      <td>1</td>\n",
       "      <td>weird affected compliment coming someone know ...</td>\n",
       "      <td>non-suicide</td>\n",
       "      <td>0</td>\n",
       "      <td>2</td>\n",
       "      <td>Ideation</td>\n",
       "      <td>sadness</td>\n",
       "      <td>0.4589</td>\n",
       "    </tr>\n",
       "    <tr>\n",
       "      <th>2</th>\n",
       "      <td>2</td>\n",
       "      <td>2</td>\n",
       "      <td>finally almost never hear year ever swear fuck...</td>\n",
       "      <td>non-suicide</td>\n",
       "      <td>0</td>\n",
       "      <td>2</td>\n",
       "      <td>Ideation</td>\n",
       "      <td>anger</td>\n",
       "      <td>0.9841</td>\n",
       "    </tr>\n",
       "    <tr>\n",
       "      <th>3</th>\n",
       "      <td>3</td>\n",
       "      <td>3</td>\n",
       "      <td>need helpjust help hard</td>\n",
       "      <td>suicide</td>\n",
       "      <td>1</td>\n",
       "      <td>2</td>\n",
       "      <td>Ideation</td>\n",
       "      <td>sadness</td>\n",
       "      <td>0.9469</td>\n",
       "    </tr>\n",
       "    <tr>\n",
       "      <th>4</th>\n",
       "      <td>4</td>\n",
       "      <td>4</td>\n",
       "      <td>losthello name adam struggling year afraid pas...</td>\n",
       "      <td>suicide</td>\n",
       "      <td>1</td>\n",
       "      <td>2</td>\n",
       "      <td>Ideation</td>\n",
       "      <td>sadness</td>\n",
       "      <td>0.9653</td>\n",
       "    </tr>\n",
       "    <tr>\n",
       "      <th>...</th>\n",
       "      <td>...</td>\n",
       "      <td>...</td>\n",
       "      <td>...</td>\n",
       "      <td>...</td>\n",
       "      <td>...</td>\n",
       "      <td>...</td>\n",
       "      <td>...</td>\n",
       "      <td>...</td>\n",
       "      <td>...</td>\n",
       "    </tr>\n",
       "    <tr>\n",
       "      <th>231991</th>\n",
       "      <td>232069</td>\n",
       "      <td>232069</td>\n",
       "      <td>like rock going anything http musictaste space...</td>\n",
       "      <td>non-suicide</td>\n",
       "      <td>0</td>\n",
       "      <td>2</td>\n",
       "      <td>Ideation</td>\n",
       "      <td>joy</td>\n",
       "      <td>0.8891</td>\n",
       "    </tr>\n",
       "    <tr>\n",
       "      <th>231992</th>\n",
       "      <td>232070</td>\n",
       "      <td>232070</td>\n",
       "      <td>tell many friend lonely everything deprived bo...</td>\n",
       "      <td>non-suicide</td>\n",
       "      <td>0</td>\n",
       "      <td>2</td>\n",
       "      <td>Ideation</td>\n",
       "      <td>sadness</td>\n",
       "      <td>0.9739</td>\n",
       "    </tr>\n",
       "    <tr>\n",
       "      <th>231993</th>\n",
       "      <td>232071</td>\n",
       "      <td>232071</td>\n",
       "      <td>probably taste like salty someone drank confirm</td>\n",
       "      <td>non-suicide</td>\n",
       "      <td>0</td>\n",
       "      <td>2</td>\n",
       "      <td>Ideation</td>\n",
       "      <td>joy</td>\n",
       "      <td>0.5339</td>\n",
       "    </tr>\n",
       "    <tr>\n",
       "      <th>231994</th>\n",
       "      <td>232072</td>\n",
       "      <td>232072</td>\n",
       "      <td>usual stuff find herei posting sympathy pity k...</td>\n",
       "      <td>suicide</td>\n",
       "      <td>1</td>\n",
       "      <td>2</td>\n",
       "      <td>Ideation</td>\n",
       "      <td>sadness</td>\n",
       "      <td>0.5559</td>\n",
       "    </tr>\n",
       "    <tr>\n",
       "      <th>231995</th>\n",
       "      <td>232073</td>\n",
       "      <td>232073</td>\n",
       "      <td>still beaten first hollow knight fought time a...</td>\n",
       "      <td>non-suicide</td>\n",
       "      <td>0</td>\n",
       "      <td>2</td>\n",
       "      <td>Ideation</td>\n",
       "      <td>anger</td>\n",
       "      <td>0.7623</td>\n",
       "    </tr>\n",
       "  </tbody>\n",
       "</table>\n",
       "<p>231996 rows × 9 columns</p>\n",
       "</div>"
      ],
      "text/plain": [
       "       Unnamed: 0 Unnamed: 0.1  \\\n",
       "0               0            0   \n",
       "1               1            1   \n",
       "2               2            2   \n",
       "3               3            3   \n",
       "4               4            4   \n",
       "...           ...          ...   \n",
       "231991     232069       232069   \n",
       "231992     232070       232070   \n",
       "231993     232071       232071   \n",
       "231994     232072       232072   \n",
       "231995     232073       232073   \n",
       "\n",
       "                                                processed        class  \\\n",
       "0       wife threatening suiciderecently left wife goo...      suicide   \n",
       "1       weird affected compliment coming someone know ...  non-suicide   \n",
       "2       finally almost never hear year ever swear fuck...  non-suicide   \n",
       "3                                 need helpjust help hard      suicide   \n",
       "4       losthello name adam struggling year afraid pas...      suicide   \n",
       "...                                                   ...          ...   \n",
       "231991  like rock going anything http musictaste space...  non-suicide   \n",
       "231992  tell many friend lonely everything deprived bo...  non-suicide   \n",
       "231993    probably taste like salty someone drank confirm  non-suicide   \n",
       "231994  usual stuff find herei posting sympathy pity k...      suicide   \n",
       "231995  still beaten first hollow knight fought time a...  non-suicide   \n",
       "\n",
       "       category suicide_intensity intensity  emotion   score  \n",
       "0             1                 2  Ideation  sadness  0.9002  \n",
       "1             0                 2  Ideation  sadness  0.4589  \n",
       "2             0                 2  Ideation    anger  0.9841  \n",
       "3             1                 2  Ideation  sadness  0.9469  \n",
       "4             1                 2  Ideation  sadness  0.9653  \n",
       "...         ...               ...       ...      ...     ...  \n",
       "231991        0                 2  Ideation      joy  0.8891  \n",
       "231992        0                 2  Ideation  sadness  0.9739  \n",
       "231993        0                 2  Ideation      joy  0.5339  \n",
       "231994        1                 2  Ideation  sadness  0.5559  \n",
       "231995        0                 2  Ideation    anger  0.7623  \n",
       "\n",
       "[231996 rows x 9 columns]"
      ]
     },
     "execution_count": 19,
     "metadata": {},
     "output_type": "execute_result"
    }
   ],
   "source": [
    "df_int"
   ]
  },
  {
   "cell_type": "code",
   "execution_count": 20,
   "id": "dd6de49d",
   "metadata": {},
   "outputs": [],
   "source": [
    "df_int.to_csv('/home/ifte-home/Documents/mental_health/suicide/CSSRS/Twitter_dataset_with_CSSR_reddit_intensity_feelings.csv')"
   ]
  },
  {
   "cell_type": "code",
   "execution_count": 26,
   "id": "80b6a3f5",
   "metadata": {},
   "outputs": [
    {
     "data": {
      "text/html": [
       "<div>\n",
       "<style scoped>\n",
       "    .dataframe tbody tr th:only-of-type {\n",
       "        vertical-align: middle;\n",
       "    }\n",
       "\n",
       "    .dataframe tbody tr th {\n",
       "        vertical-align: top;\n",
       "    }\n",
       "\n",
       "    .dataframe thead th {\n",
       "        text-align: right;\n",
       "    }\n",
       "</style>\n",
       "<table border=\"1\" class=\"dataframe\">\n",
       "  <thead>\n",
       "    <tr style=\"text-align: right;\">\n",
       "      <th></th>\n",
       "      <th>processed</th>\n",
       "      <th>class</th>\n",
       "      <th>category</th>\n",
       "      <th>suicide_intensity</th>\n",
       "      <th>intensity</th>\n",
       "      <th>emotion</th>\n",
       "      <th>score</th>\n",
       "    </tr>\n",
       "  </thead>\n",
       "  <tbody>\n",
       "    <tr>\n",
       "      <th>0</th>\n",
       "      <td>wife threatening suiciderecently left wife goo...</td>\n",
       "      <td>suicide</td>\n",
       "      <td>1</td>\n",
       "      <td>2</td>\n",
       "      <td>Ideation</td>\n",
       "      <td>sadness</td>\n",
       "      <td>0.9002</td>\n",
       "    </tr>\n",
       "    <tr>\n",
       "      <th>1</th>\n",
       "      <td>weird affected compliment coming someone know ...</td>\n",
       "      <td>non-suicide</td>\n",
       "      <td>0</td>\n",
       "      <td>2</td>\n",
       "      <td>Ideation</td>\n",
       "      <td>sadness</td>\n",
       "      <td>0.4589</td>\n",
       "    </tr>\n",
       "    <tr>\n",
       "      <th>2</th>\n",
       "      <td>finally almost never hear year ever swear fuck...</td>\n",
       "      <td>non-suicide</td>\n",
       "      <td>0</td>\n",
       "      <td>2</td>\n",
       "      <td>Ideation</td>\n",
       "      <td>anger</td>\n",
       "      <td>0.9841</td>\n",
       "    </tr>\n",
       "    <tr>\n",
       "      <th>3</th>\n",
       "      <td>need helpjust help hard</td>\n",
       "      <td>suicide</td>\n",
       "      <td>1</td>\n",
       "      <td>2</td>\n",
       "      <td>Ideation</td>\n",
       "      <td>sadness</td>\n",
       "      <td>0.9469</td>\n",
       "    </tr>\n",
       "    <tr>\n",
       "      <th>4</th>\n",
       "      <td>losthello name adam struggling year afraid pas...</td>\n",
       "      <td>suicide</td>\n",
       "      <td>1</td>\n",
       "      <td>2</td>\n",
       "      <td>Ideation</td>\n",
       "      <td>sadness</td>\n",
       "      <td>0.9653</td>\n",
       "    </tr>\n",
       "    <tr>\n",
       "      <th>...</th>\n",
       "      <td>...</td>\n",
       "      <td>...</td>\n",
       "      <td>...</td>\n",
       "      <td>...</td>\n",
       "      <td>...</td>\n",
       "      <td>...</td>\n",
       "      <td>...</td>\n",
       "    </tr>\n",
       "    <tr>\n",
       "      <th>231991</th>\n",
       "      <td>like rock going anything http musictaste space...</td>\n",
       "      <td>non-suicide</td>\n",
       "      <td>0</td>\n",
       "      <td>2</td>\n",
       "      <td>Ideation</td>\n",
       "      <td>joy</td>\n",
       "      <td>0.8891</td>\n",
       "    </tr>\n",
       "    <tr>\n",
       "      <th>231992</th>\n",
       "      <td>tell many friend lonely everything deprived bo...</td>\n",
       "      <td>non-suicide</td>\n",
       "      <td>0</td>\n",
       "      <td>2</td>\n",
       "      <td>Ideation</td>\n",
       "      <td>sadness</td>\n",
       "      <td>0.9739</td>\n",
       "    </tr>\n",
       "    <tr>\n",
       "      <th>231993</th>\n",
       "      <td>probably taste like salty someone drank confirm</td>\n",
       "      <td>non-suicide</td>\n",
       "      <td>0</td>\n",
       "      <td>2</td>\n",
       "      <td>Ideation</td>\n",
       "      <td>joy</td>\n",
       "      <td>0.5339</td>\n",
       "    </tr>\n",
       "    <tr>\n",
       "      <th>231994</th>\n",
       "      <td>usual stuff find herei posting sympathy pity k...</td>\n",
       "      <td>suicide</td>\n",
       "      <td>1</td>\n",
       "      <td>2</td>\n",
       "      <td>Ideation</td>\n",
       "      <td>sadness</td>\n",
       "      <td>0.5559</td>\n",
       "    </tr>\n",
       "    <tr>\n",
       "      <th>231995</th>\n",
       "      <td>still beaten first hollow knight fought time a...</td>\n",
       "      <td>non-suicide</td>\n",
       "      <td>0</td>\n",
       "      <td>2</td>\n",
       "      <td>Ideation</td>\n",
       "      <td>anger</td>\n",
       "      <td>0.7623</td>\n",
       "    </tr>\n",
       "  </tbody>\n",
       "</table>\n",
       "<p>231996 rows × 7 columns</p>\n",
       "</div>"
      ],
      "text/plain": [
       "                                                processed        class  \\\n",
       "0       wife threatening suiciderecently left wife goo...      suicide   \n",
       "1       weird affected compliment coming someone know ...  non-suicide   \n",
       "2       finally almost never hear year ever swear fuck...  non-suicide   \n",
       "3                                 need helpjust help hard      suicide   \n",
       "4       losthello name adam struggling year afraid pas...      suicide   \n",
       "...                                                   ...          ...   \n",
       "231991  like rock going anything http musictaste space...  non-suicide   \n",
       "231992  tell many friend lonely everything deprived bo...  non-suicide   \n",
       "231993    probably taste like salty someone drank confirm  non-suicide   \n",
       "231994  usual stuff find herei posting sympathy pity k...      suicide   \n",
       "231995  still beaten first hollow knight fought time a...  non-suicide   \n",
       "\n",
       "       category suicide_intensity intensity  emotion   score  \n",
       "0             1                 2  Ideation  sadness  0.9002  \n",
       "1             0                 2  Ideation  sadness  0.4589  \n",
       "2             0                 2  Ideation    anger  0.9841  \n",
       "3             1                 2  Ideation  sadness  0.9469  \n",
       "4             1                 2  Ideation  sadness  0.9653  \n",
       "...         ...               ...       ...      ...     ...  \n",
       "231991        0                 2  Ideation      joy  0.8891  \n",
       "231992        0                 2  Ideation  sadness  0.9739  \n",
       "231993        0                 2  Ideation      joy  0.5339  \n",
       "231994        1                 2  Ideation  sadness  0.5559  \n",
       "231995        0                 2  Ideation    anger  0.7623  \n",
       "\n",
       "[231996 rows x 7 columns]"
      ]
     },
     "execution_count": 26,
     "metadata": {},
     "output_type": "execute_result"
    }
   ],
   "source": [
    "df_int"
   ]
  },
  {
   "cell_type": "code",
   "execution_count": 25,
   "id": "7379f1e1",
   "metadata": {},
   "outputs": [],
   "source": [
    "df_int = df_int[['processed', 'class', 'category',\n",
    "       'suicide_intensity', 'intensity', 'emotion', 'score']]"
   ]
  },
  {
   "cell_type": "code",
   "execution_count": 43,
   "id": "ec0a43ec",
   "metadata": {},
   "outputs": [],
   "source": [
    "def f(x):\n",
    "    return x['score']/x['emotion']\n",
    "\n",
    "def process_data(dataset):\n",
    "    res = dataset.groupby(['class', 'intensity', 'emotion']) \\\n",
    "    ['emotion', 'score'].agg({'emotion': 'count', 'score': 'sum'})\n",
    "    res['confidence'] = res[['emotion','score']].apply(lambda x: f(x), axis=1)\n",
    "    return res"
   ]
  },
  {
   "cell_type": "code",
   "execution_count": 29,
   "id": "b5c2ea1f",
   "metadata": {},
   "outputs": [
    {
     "data": {
      "text/plain": [
       "Index(['processed', 'class', 'category', 'suicide_intensity', 'intensity',\n",
       "       'emotion', 'score'],\n",
       "      dtype='object')"
      ]
     },
     "execution_count": 29,
     "metadata": {},
     "output_type": "execute_result"
    }
   ],
   "source": [
    "df_int.columns"
   ]
  },
  {
   "cell_type": "code",
   "execution_count": 44,
   "id": "a6c398e0",
   "metadata": {},
   "outputs": [
    {
     "name": "stderr",
     "output_type": "stream",
     "text": [
      "/home/ifte-home/venvs/exp-Env/lib/python3.7/site-packages/ipykernel_launcher.py:6: FutureWarning:\n",
      "\n",
      "Indexing with multiple keys (implicitly converted to a tuple of keys) will be deprecated, use a list instead.\n",
      "\n"
     ]
    }
   ],
   "source": [
    "d = process_data(df_int)"
   ]
  },
  {
   "cell_type": "code",
   "execution_count": 34,
   "id": "367acad8",
   "metadata": {
    "collapsed": true
   },
   "outputs": [
    {
     "data": {
      "text/html": [
       "<div>\n",
       "<style scoped>\n",
       "    .dataframe tbody tr th:only-of-type {\n",
       "        vertical-align: middle;\n",
       "    }\n",
       "\n",
       "    .dataframe tbody tr th {\n",
       "        vertical-align: top;\n",
       "    }\n",
       "\n",
       "    .dataframe thead th {\n",
       "        text-align: right;\n",
       "    }\n",
       "</style>\n",
       "<table border=\"1\" class=\"dataframe\">\n",
       "  <thead>\n",
       "    <tr style=\"text-align: right;\">\n",
       "      <th></th>\n",
       "      <th></th>\n",
       "      <th></th>\n",
       "      <th>emotion</th>\n",
       "      <th>score</th>\n",
       "      <th>confidence</th>\n",
       "    </tr>\n",
       "    <tr>\n",
       "      <th>class</th>\n",
       "      <th>intensity</th>\n",
       "      <th>emotion</th>\n",
       "      <th></th>\n",
       "      <th></th>\n",
       "      <th></th>\n",
       "    </tr>\n",
       "  </thead>\n",
       "  <tbody>\n",
       "    <tr>\n",
       "      <th rowspan=\"14\" valign=\"top\">non-suicide</th>\n",
       "      <th rowspan=\"2\" valign=\"top\">Attempt</th>\n",
       "      <th>anger</th>\n",
       "      <td>1</td>\n",
       "      <td>0.8813</td>\n",
       "      <td>0.881300</td>\n",
       "    </tr>\n",
       "    <tr>\n",
       "      <th>joy</th>\n",
       "      <td>1</td>\n",
       "      <td>0.4237</td>\n",
       "      <td>0.423700</td>\n",
       "    </tr>\n",
       "    <tr>\n",
       "      <th rowspan=\"4\" valign=\"top\">Behavior</th>\n",
       "      <th>anger</th>\n",
       "      <td>30</td>\n",
       "      <td>21.6359</td>\n",
       "      <td>0.721197</td>\n",
       "    </tr>\n",
       "    <tr>\n",
       "      <th>joy</th>\n",
       "      <td>22</td>\n",
       "      <td>16.7319</td>\n",
       "      <td>0.760541</td>\n",
       "    </tr>\n",
       "    <tr>\n",
       "      <th>optimism</th>\n",
       "      <td>3</td>\n",
       "      <td>1.6939</td>\n",
       "      <td>0.564633</td>\n",
       "    </tr>\n",
       "    <tr>\n",
       "      <th>sadness</th>\n",
       "      <td>19</td>\n",
       "      <td>14.1007</td>\n",
       "      <td>0.742142</td>\n",
       "    </tr>\n",
       "    <tr>\n",
       "      <th rowspan=\"4\" valign=\"top\">Ideation</th>\n",
       "      <th>anger</th>\n",
       "      <td>31647</td>\n",
       "      <td>24442.1169</td>\n",
       "      <td>0.772336</td>\n",
       "    </tr>\n",
       "    <tr>\n",
       "      <th>joy</th>\n",
       "      <td>39844</td>\n",
       "      <td>29836.1809</td>\n",
       "      <td>0.748825</td>\n",
       "    </tr>\n",
       "    <tr>\n",
       "      <th>optimism</th>\n",
       "      <td>2767</td>\n",
       "      <td>1501.8298</td>\n",
       "      <td>0.542765</td>\n",
       "    </tr>\n",
       "    <tr>\n",
       "      <th>sadness</th>\n",
       "      <td>38509</td>\n",
       "      <td>28761.3948</td>\n",
       "      <td>0.746875</td>\n",
       "    </tr>\n",
       "    <tr>\n",
       "      <th rowspan=\"4\" valign=\"top\">Indicator</th>\n",
       "      <th>anger</th>\n",
       "      <td>818</td>\n",
       "      <td>609.5309</td>\n",
       "      <td>0.745148</td>\n",
       "    </tr>\n",
       "    <tr>\n",
       "      <th>joy</th>\n",
       "      <td>1120</td>\n",
       "      <td>815.6553</td>\n",
       "      <td>0.728264</td>\n",
       "    </tr>\n",
       "    <tr>\n",
       "      <th>optimism</th>\n",
       "      <td>123</td>\n",
       "      <td>67.0017</td>\n",
       "      <td>0.544729</td>\n",
       "    </tr>\n",
       "    <tr>\n",
       "      <th>sadness</th>\n",
       "      <td>906</td>\n",
       "      <td>626.0458</td>\n",
       "      <td>0.691000</td>\n",
       "    </tr>\n",
       "    <tr>\n",
       "      <th rowspan=\"15\" valign=\"top\">suicide</th>\n",
       "      <th rowspan=\"3\" valign=\"top\">Attempt</th>\n",
       "      <th>anger</th>\n",
       "      <td>2</td>\n",
       "      <td>0.9396</td>\n",
       "      <td>0.469800</td>\n",
       "    </tr>\n",
       "    <tr>\n",
       "      <th>joy</th>\n",
       "      <td>1</td>\n",
       "      <td>0.4202</td>\n",
       "      <td>0.420200</td>\n",
       "    </tr>\n",
       "    <tr>\n",
       "      <th>sadness</th>\n",
       "      <td>4</td>\n",
       "      <td>3.1319</td>\n",
       "      <td>0.782975</td>\n",
       "    </tr>\n",
       "    <tr>\n",
       "      <th rowspan=\"4\" valign=\"top\">Behavior</th>\n",
       "      <th>anger</th>\n",
       "      <td>39</td>\n",
       "      <td>28.2666</td>\n",
       "      <td>0.724785</td>\n",
       "    </tr>\n",
       "    <tr>\n",
       "      <th>joy</th>\n",
       "      <td>8</td>\n",
       "      <td>4.4610</td>\n",
       "      <td>0.557625</td>\n",
       "    </tr>\n",
       "    <tr>\n",
       "      <th>optimism</th>\n",
       "      <td>2</td>\n",
       "      <td>1.1042</td>\n",
       "      <td>0.552100</td>\n",
       "    </tr>\n",
       "    <tr>\n",
       "      <th>sadness</th>\n",
       "      <td>97</td>\n",
       "      <td>81.0073</td>\n",
       "      <td>0.835127</td>\n",
       "    </tr>\n",
       "    <tr>\n",
       "      <th rowspan=\"4\" valign=\"top\">Ideation</th>\n",
       "      <th>anger</th>\n",
       "      <td>15197</td>\n",
       "      <td>11664.4614</td>\n",
       "      <td>0.767550</td>\n",
       "    </tr>\n",
       "    <tr>\n",
       "      <th>joy</th>\n",
       "      <td>3066</td>\n",
       "      <td>2027.7530</td>\n",
       "      <td>0.661368</td>\n",
       "    </tr>\n",
       "    <tr>\n",
       "      <th>optimism</th>\n",
       "      <td>1650</td>\n",
       "      <td>984.5862</td>\n",
       "      <td>0.596719</td>\n",
       "    </tr>\n",
       "    <tr>\n",
       "      <th>sadness</th>\n",
       "      <td>94669</td>\n",
       "      <td>83140.0094</td>\n",
       "      <td>0.878218</td>\n",
       "    </tr>\n",
       "    <tr>\n",
       "      <th rowspan=\"4\" valign=\"top\">Indicator</th>\n",
       "      <th>anger</th>\n",
       "      <td>136</td>\n",
       "      <td>101.5259</td>\n",
       "      <td>0.746514</td>\n",
       "    </tr>\n",
       "    <tr>\n",
       "      <th>joy</th>\n",
       "      <td>57</td>\n",
       "      <td>36.2606</td>\n",
       "      <td>0.636151</td>\n",
       "    </tr>\n",
       "    <tr>\n",
       "      <th>optimism</th>\n",
       "      <td>64</td>\n",
       "      <td>39.1236</td>\n",
       "      <td>0.611306</td>\n",
       "    </tr>\n",
       "    <tr>\n",
       "      <th>sadness</th>\n",
       "      <td>596</td>\n",
       "      <td>495.5250</td>\n",
       "      <td>0.831418</td>\n",
       "    </tr>\n",
       "  </tbody>\n",
       "</table>\n",
       "</div>"
      ],
      "text/plain": [
       "                                emotion       score  confidence\n",
       "class       intensity emotion                                  \n",
       "non-suicide Attempt   anger           1      0.8813    0.881300\n",
       "                      joy             1      0.4237    0.423700\n",
       "            Behavior  anger          30     21.6359    0.721197\n",
       "                      joy            22     16.7319    0.760541\n",
       "                      optimism        3      1.6939    0.564633\n",
       "                      sadness        19     14.1007    0.742142\n",
       "            Ideation  anger       31647  24442.1169    0.772336\n",
       "                      joy         39844  29836.1809    0.748825\n",
       "                      optimism     2767   1501.8298    0.542765\n",
       "                      sadness     38509  28761.3948    0.746875\n",
       "            Indicator anger         818    609.5309    0.745148\n",
       "                      joy          1120    815.6553    0.728264\n",
       "                      optimism      123     67.0017    0.544729\n",
       "                      sadness       906    626.0458    0.691000\n",
       "suicide     Attempt   anger           2      0.9396    0.469800\n",
       "                      joy             1      0.4202    0.420200\n",
       "                      sadness         4      3.1319    0.782975\n",
       "            Behavior  anger          39     28.2666    0.724785\n",
       "                      joy             8      4.4610    0.557625\n",
       "                      optimism        2      1.1042    0.552100\n",
       "                      sadness        97     81.0073    0.835127\n",
       "            Ideation  anger       15197  11664.4614    0.767550\n",
       "                      joy          3066   2027.7530    0.661368\n",
       "                      optimism     1650    984.5862    0.596719\n",
       "                      sadness     94669  83140.0094    0.878218\n",
       "            Indicator anger         136    101.5259    0.746514\n",
       "                      joy            57     36.2606    0.636151\n",
       "                      optimism       64     39.1236    0.611306\n",
       "                      sadness       596    495.5250    0.831418"
      ]
     },
     "execution_count": 34,
     "metadata": {},
     "output_type": "execute_result"
    }
   ],
   "source": [
    "d"
   ]
  },
  {
   "cell_type": "code",
   "execution_count": 35,
   "id": "6667983b",
   "metadata": {},
   "outputs": [],
   "source": [
    "d.to_csv('/home/ifte-home/Downloads/out_emotion.csv')"
   ]
  },
  {
   "cell_type": "code",
   "execution_count": 6,
   "id": "35736697",
   "metadata": {},
   "outputs": [],
   "source": [
    "import plotly.express as px  "
   ]
  },
  {
   "cell_type": "code",
   "execution_count": 46,
   "id": "bed49182",
   "metadata": {},
   "outputs": [],
   "source": [
    "import pandas as pd\n",
    "df = pd.read_csv('/home/ifte-home/Downloads/out_emotion.csv')\n",
    "\n",
    "df['confidence'] = df.confidence.apply(lambda x: x*100)\n"
   ]
  },
  {
   "cell_type": "code",
   "execution_count": 49,
   "id": "3eedceed",
   "metadata": {},
   "outputs": [
    {
     "data": {
      "text/html": [
       "<div>\n",
       "<style scoped>\n",
       "    .dataframe tbody tr th:only-of-type {\n",
       "        vertical-align: middle;\n",
       "    }\n",
       "\n",
       "    .dataframe tbody tr th {\n",
       "        vertical-align: top;\n",
       "    }\n",
       "\n",
       "    .dataframe thead th {\n",
       "        text-align: right;\n",
       "    }\n",
       "</style>\n",
       "<table border=\"1\" class=\"dataframe\">\n",
       "  <thead>\n",
       "    <tr style=\"text-align: right;\">\n",
       "      <th></th>\n",
       "      <th>class</th>\n",
       "      <th>intensity</th>\n",
       "      <th>emotion</th>\n",
       "      <th>count</th>\n",
       "      <th>score</th>\n",
       "      <th>confidence</th>\n",
       "      <th>logscale</th>\n",
       "      <th>#NAME?</th>\n",
       "      <th>Unnamed: 8</th>\n",
       "      <th>logscale.1</th>\n",
       "    </tr>\n",
       "  </thead>\n",
       "  <tbody>\n",
       "    <tr>\n",
       "      <th>0</th>\n",
       "      <td>non-suicide</td>\n",
       "      <td>Attempt</td>\n",
       "      <td>anger</td>\n",
       "      <td>2</td>\n",
       "      <td>0.8813</td>\n",
       "      <td>88.130000</td>\n",
       "      <td>1.000000</td>\n",
       "      <td>0.30103</td>\n",
       "      <td>-6.578813</td>\n",
       "      <td>6.578813</td>\n",
       "    </tr>\n",
       "    <tr>\n",
       "      <th>1</th>\n",
       "      <td>non-suicide</td>\n",
       "      <td>Attempt</td>\n",
       "      <td>sadness</td>\n",
       "      <td>1</td>\n",
       "      <td>0.4237</td>\n",
       "      <td>42.370000</td>\n",
       "      <td>0.000000</td>\n",
       "      <td>0.00000</td>\n",
       "      <td>0.000000</td>\n",
       "      <td>0.000000</td>\n",
       "    </tr>\n",
       "    <tr>\n",
       "      <th>2</th>\n",
       "      <td>non-suicide</td>\n",
       "      <td>Behavior</td>\n",
       "      <td>anger</td>\n",
       "      <td>20</td>\n",
       "      <td>21.6359</td>\n",
       "      <td>72.119667</td>\n",
       "      <td>4.321928</td>\n",
       "      <td>1.30103</td>\n",
       "      <td>-28.433159</td>\n",
       "      <td>28.433159</td>\n",
       "    </tr>\n",
       "  </tbody>\n",
       "</table>\n",
       "</div>"
      ],
      "text/plain": [
       "         class intensity  emotion  count    score  confidence  logscale  \\\n",
       "0  non-suicide   Attempt    anger      2   0.8813   88.130000  1.000000   \n",
       "1  non-suicide   Attempt  sadness      1   0.4237   42.370000  0.000000   \n",
       "2  non-suicide  Behavior    anger     20  21.6359   72.119667  4.321928   \n",
       "\n",
       "    #NAME?  Unnamed: 8  logscale.1  \n",
       "0  0.30103   -6.578813    6.578813  \n",
       "1  0.00000    0.000000    0.000000  \n",
       "2  1.30103  -28.433159   28.433159  "
      ]
     },
     "execution_count": 49,
     "metadata": {},
     "output_type": "execute_result"
    }
   ],
   "source": [
    "df.head(3)"
   ]
  },
  {
   "cell_type": "code",
   "execution_count": 47,
   "id": "172875ee",
   "metadata": {},
   "outputs": [
    {
     "data": {
      "text/plain": [
       "['non-suicide', 'suicide']"
      ]
     },
     "execution_count": 47,
     "metadata": {},
     "output_type": "execute_result"
    }
   ],
   "source": [
    "df['class'].unique().tolist()"
   ]
  },
  {
   "cell_type": "code",
   "execution_count": 51,
   "id": "dfcdbd54",
   "metadata": {},
   "outputs": [
    {
     "data": {
      "application/vnd.plotly.v1+json": {
       "config": {
        "plotlyServerURL": "https://plot.ly"
       },
       "data": [
        {
         "branchvalues": "total",
         "customdata": [
          [
           "Attempt"
          ],
          [
           "Attempt"
          ],
          [
           "Behavior"
          ],
          [
           "Behavior"
          ],
          [
           "Behavior"
          ],
          [
           "Behavior"
          ],
          [
           "Ideation"
          ],
          [
           "Ideation"
          ],
          [
           "Indicator"
          ],
          [
           "Indicator"
          ],
          [
           "Ideation"
          ],
          [
           "Ideation"
          ],
          [
           "Behavior"
          ],
          [
           "Attempt"
          ],
          [
           "Attempt"
          ],
          [
           "Behavior"
          ],
          [
           "Behavior"
          ],
          [
           "Indicator"
          ],
          [
           "Indicator"
          ],
          [
           "Behavior"
          ],
          [
           "Ideation"
          ],
          [
           "Ideation"
          ],
          [
           "Indicator"
          ],
          [
           "Indicator"
          ],
          [
           "Ideation"
          ],
          [
           "Ideation"
          ],
          [
           "Indicator"
          ],
          [
           "Indicator"
          ],
          [
           "Attempt"
          ],
          [
           "Attempt"
          ],
          [
           "Behavior"
          ],
          [
           "Behavior"
          ],
          [
           "Ideation"
          ],
          [
           "Ideation"
          ],
          [
           "Indicator"
          ],
          [
           "Indicator"
          ],
          [
           "(?)"
          ],
          [
           "(?)"
          ]
         ],
         "domain": {
          "x": [
           0,
           1
          ],
          "y": [
           0,
           1
          ]
         },
         "hovertemplate": "labels=%{label}<br>logscale.1=%{value}<br>parent=%{parent}<br>id=%{id}<br>intensity=%{customdata[0]}<extra></extra>",
         "ids": [
          "non-suicide/Attempt/anger",
          "suicide/Attempt/anger",
          "suicide/Behavior/optimism",
          "non-suicide/Behavior/optimism",
          "non-suicide/Behavior/anger",
          "suicide/Behavior/anger",
          "non-suicide/Ideation/anger",
          "suicide/Ideation/anger",
          "suicide/Indicator/optimism",
          "non-suicide/Indicator/optimism",
          "suicide/Ideation/optimism",
          "non-suicide/Ideation/optimism",
          "non-suicide/Behavior/sadness",
          "suicide/Attempt/sadness",
          "non-suicide/Attempt/sadness",
          "suicide/Behavior/joy",
          "non-suicide/Behavior/joy",
          "suicide/Indicator/anger",
          "non-suicide/Indicator/anger",
          "suicide/Behavior/sadness",
          "non-suicide/Ideation/sadness",
          "suicide/Ideation/sadness",
          "suicide/Indicator/joy",
          "non-suicide/Indicator/joy",
          "suicide/Ideation/joy",
          "non-suicide/Ideation/joy",
          "non-suicide/Indicator/sadness",
          "suicide/Indicator/sadness",
          "non-suicide/Attempt",
          "suicide/Attempt",
          "non-suicide/Behavior",
          "suicide/Behavior",
          "non-suicide/Ideation",
          "suicide/Ideation",
          "non-suicide/Indicator",
          "suicide/Indicator",
          "non-suicide",
          "suicide"
         ],
         "labels": [
          "anger",
          "anger",
          "optimism",
          "optimism",
          "anger",
          "anger",
          "anger",
          "anger",
          "optimism",
          "optimism",
          "optimism",
          "optimism",
          "sadness",
          "sadness",
          "sadness",
          "joy",
          "joy",
          "anger",
          "anger",
          "sadness",
          "sadness",
          "sadness",
          "joy",
          "joy",
          "joy",
          "joy",
          "sadness",
          "sadness",
          "Attempt",
          "Attempt",
          "Behavior",
          "Behavior",
          "Ideation",
          "Ideation",
          "Indicator",
          "Indicator",
          "non-suicide",
          "suicide"
         ],
         "marker": {
          "colors": [
           "#636efa",
           "#636efa",
           "#EF553B",
           "#EF553B",
           "#EF553B",
           "#EF553B",
           "#00cc96",
           "#00cc96",
           "#ab63fa",
           "#ab63fa",
           "#00cc96",
           "#00cc96",
           "#EF553B",
           "#636efa",
           "#636efa",
           "#EF553B",
           "#EF553B",
           "#ab63fa",
           "#ab63fa",
           "#EF553B",
           "#00cc96",
           "#00cc96",
           "#ab63fa",
           "#ab63fa",
           "#00cc96",
           "#00cc96",
           "#ab63fa",
           "#ab63fa",
           "#636efa",
           "#636efa",
           "#EF553B",
           "#EF553B",
           "#00cc96",
           "#00cc96",
           "#ab63fa",
           "#ab63fa",
           "#FFA15A",
           "#FFA15A"
          ]
         },
         "name": "",
         "parents": [
          "non-suicide/Attempt",
          "suicide/Attempt",
          "suicide/Behavior",
          "non-suicide/Behavior",
          "non-suicide/Behavior",
          "suicide/Behavior",
          "non-suicide/Ideation",
          "suicide/Ideation",
          "suicide/Indicator",
          "non-suicide/Indicator",
          "suicide/Ideation",
          "non-suicide/Ideation",
          "non-suicide/Behavior",
          "suicide/Attempt",
          "non-suicide/Attempt",
          "suicide/Behavior",
          "non-suicide/Behavior",
          "suicide/Indicator",
          "non-suicide/Indicator",
          "suicide/Behavior",
          "non-suicide/Ideation",
          "suicide/Ideation",
          "suicide/Indicator",
          "non-suicide/Indicator",
          "suicide/Ideation",
          "non-suicide/Ideation",
          "non-suicide/Indicator",
          "suicide/Indicator",
          "non-suicide",
          "suicide",
          "non-suicide",
          "suicide",
          "non-suicide",
          "suicide",
          "non-suicide",
          "suicide",
          "",
          ""
         ],
         "textinfo": "label+percent parent",
         "type": "sunburst",
         "values": [
          6.57881347896059,
          6.57881347896059,
          18.4690644014589,
          21.8543453267828,
          28.4331588057434,
          34.7716753591791,
          100.537920131926,
          91.389580421234,
          43.1214174864616,
          63.6563165501607,
          77.8515784149662,
          98.3518215685592,
          34.7716753591791,
          15.2755318478223,
          0,
          10.4271726633914,
          15.2755318478223,
          46.62709607165,
          66.6386636440841,
          43.4195955661457,
          100.214460732912,
          108.751763452552,
          31.2815179901743,
          45.6735080056052,
          66.1696515169621,
          75.2228567818158,
          64.626100807596,
          60.6511901272256,
          6.57881347896059,
          21.85434532678289,
          100.3347113395276,
          107.0875079901751,
          374.327059215213,
          344.1625738057143,
          240.59458900744602,
          181.6812216755115,
          721.8351730411472,
          654.7856487981838
         ]
        }
       ],
       "layout": {
        "font": {
         "size": 8
        },
        "legend": {
         "tracegroupgap": 0
        },
        "margin": {
         "t": 60
        },
        "template": {
         "data": {
          "bar": [
           {
            "error_x": {
             "color": "#2a3f5f"
            },
            "error_y": {
             "color": "#2a3f5f"
            },
            "marker": {
             "line": {
              "color": "#E5ECF6",
              "width": 0.5
             },
             "pattern": {
              "fillmode": "overlay",
              "size": 10,
              "solidity": 0.2
             }
            },
            "type": "bar"
           }
          ],
          "barpolar": [
           {
            "marker": {
             "line": {
              "color": "#E5ECF6",
              "width": 0.5
             },
             "pattern": {
              "fillmode": "overlay",
              "size": 10,
              "solidity": 0.2
             }
            },
            "type": "barpolar"
           }
          ],
          "carpet": [
           {
            "aaxis": {
             "endlinecolor": "#2a3f5f",
             "gridcolor": "white",
             "linecolor": "white",
             "minorgridcolor": "white",
             "startlinecolor": "#2a3f5f"
            },
            "baxis": {
             "endlinecolor": "#2a3f5f",
             "gridcolor": "white",
             "linecolor": "white",
             "minorgridcolor": "white",
             "startlinecolor": "#2a3f5f"
            },
            "type": "carpet"
           }
          ],
          "choropleth": [
           {
            "colorbar": {
             "outlinewidth": 0,
             "ticks": ""
            },
            "type": "choropleth"
           }
          ],
          "contour": [
           {
            "colorbar": {
             "outlinewidth": 0,
             "ticks": ""
            },
            "colorscale": [
             [
              0,
              "#0d0887"
             ],
             [
              0.1111111111111111,
              "#46039f"
             ],
             [
              0.2222222222222222,
              "#7201a8"
             ],
             [
              0.3333333333333333,
              "#9c179e"
             ],
             [
              0.4444444444444444,
              "#bd3786"
             ],
             [
              0.5555555555555556,
              "#d8576b"
             ],
             [
              0.6666666666666666,
              "#ed7953"
             ],
             [
              0.7777777777777778,
              "#fb9f3a"
             ],
             [
              0.8888888888888888,
              "#fdca26"
             ],
             [
              1,
              "#f0f921"
             ]
            ],
            "type": "contour"
           }
          ],
          "contourcarpet": [
           {
            "colorbar": {
             "outlinewidth": 0,
             "ticks": ""
            },
            "type": "contourcarpet"
           }
          ],
          "heatmap": [
           {
            "colorbar": {
             "outlinewidth": 0,
             "ticks": ""
            },
            "colorscale": [
             [
              0,
              "#0d0887"
             ],
             [
              0.1111111111111111,
              "#46039f"
             ],
             [
              0.2222222222222222,
              "#7201a8"
             ],
             [
              0.3333333333333333,
              "#9c179e"
             ],
             [
              0.4444444444444444,
              "#bd3786"
             ],
             [
              0.5555555555555556,
              "#d8576b"
             ],
             [
              0.6666666666666666,
              "#ed7953"
             ],
             [
              0.7777777777777778,
              "#fb9f3a"
             ],
             [
              0.8888888888888888,
              "#fdca26"
             ],
             [
              1,
              "#f0f921"
             ]
            ],
            "type": "heatmap"
           }
          ],
          "heatmapgl": [
           {
            "colorbar": {
             "outlinewidth": 0,
             "ticks": ""
            },
            "colorscale": [
             [
              0,
              "#0d0887"
             ],
             [
              0.1111111111111111,
              "#46039f"
             ],
             [
              0.2222222222222222,
              "#7201a8"
             ],
             [
              0.3333333333333333,
              "#9c179e"
             ],
             [
              0.4444444444444444,
              "#bd3786"
             ],
             [
              0.5555555555555556,
              "#d8576b"
             ],
             [
              0.6666666666666666,
              "#ed7953"
             ],
             [
              0.7777777777777778,
              "#fb9f3a"
             ],
             [
              0.8888888888888888,
              "#fdca26"
             ],
             [
              1,
              "#f0f921"
             ]
            ],
            "type": "heatmapgl"
           }
          ],
          "histogram": [
           {
            "marker": {
             "pattern": {
              "fillmode": "overlay",
              "size": 10,
              "solidity": 0.2
             }
            },
            "type": "histogram"
           }
          ],
          "histogram2d": [
           {
            "colorbar": {
             "outlinewidth": 0,
             "ticks": ""
            },
            "colorscale": [
             [
              0,
              "#0d0887"
             ],
             [
              0.1111111111111111,
              "#46039f"
             ],
             [
              0.2222222222222222,
              "#7201a8"
             ],
             [
              0.3333333333333333,
              "#9c179e"
             ],
             [
              0.4444444444444444,
              "#bd3786"
             ],
             [
              0.5555555555555556,
              "#d8576b"
             ],
             [
              0.6666666666666666,
              "#ed7953"
             ],
             [
              0.7777777777777778,
              "#fb9f3a"
             ],
             [
              0.8888888888888888,
              "#fdca26"
             ],
             [
              1,
              "#f0f921"
             ]
            ],
            "type": "histogram2d"
           }
          ],
          "histogram2dcontour": [
           {
            "colorbar": {
             "outlinewidth": 0,
             "ticks": ""
            },
            "colorscale": [
             [
              0,
              "#0d0887"
             ],
             [
              0.1111111111111111,
              "#46039f"
             ],
             [
              0.2222222222222222,
              "#7201a8"
             ],
             [
              0.3333333333333333,
              "#9c179e"
             ],
             [
              0.4444444444444444,
              "#bd3786"
             ],
             [
              0.5555555555555556,
              "#d8576b"
             ],
             [
              0.6666666666666666,
              "#ed7953"
             ],
             [
              0.7777777777777778,
              "#fb9f3a"
             ],
             [
              0.8888888888888888,
              "#fdca26"
             ],
             [
              1,
              "#f0f921"
             ]
            ],
            "type": "histogram2dcontour"
           }
          ],
          "mesh3d": [
           {
            "colorbar": {
             "outlinewidth": 0,
             "ticks": ""
            },
            "type": "mesh3d"
           }
          ],
          "parcoords": [
           {
            "line": {
             "colorbar": {
              "outlinewidth": 0,
              "ticks": ""
             }
            },
            "type": "parcoords"
           }
          ],
          "pie": [
           {
            "automargin": true,
            "type": "pie"
           }
          ],
          "scatter": [
           {
            "fillpattern": {
             "fillmode": "overlay",
             "size": 10,
             "solidity": 0.2
            },
            "type": "scatter"
           }
          ],
          "scatter3d": [
           {
            "line": {
             "colorbar": {
              "outlinewidth": 0,
              "ticks": ""
             }
            },
            "marker": {
             "colorbar": {
              "outlinewidth": 0,
              "ticks": ""
             }
            },
            "type": "scatter3d"
           }
          ],
          "scattercarpet": [
           {
            "marker": {
             "colorbar": {
              "outlinewidth": 0,
              "ticks": ""
             }
            },
            "type": "scattercarpet"
           }
          ],
          "scattergeo": [
           {
            "marker": {
             "colorbar": {
              "outlinewidth": 0,
              "ticks": ""
             }
            },
            "type": "scattergeo"
           }
          ],
          "scattergl": [
           {
            "marker": {
             "colorbar": {
              "outlinewidth": 0,
              "ticks": ""
             }
            },
            "type": "scattergl"
           }
          ],
          "scattermapbox": [
           {
            "marker": {
             "colorbar": {
              "outlinewidth": 0,
              "ticks": ""
             }
            },
            "type": "scattermapbox"
           }
          ],
          "scatterpolar": [
           {
            "marker": {
             "colorbar": {
              "outlinewidth": 0,
              "ticks": ""
             }
            },
            "type": "scatterpolar"
           }
          ],
          "scatterpolargl": [
           {
            "marker": {
             "colorbar": {
              "outlinewidth": 0,
              "ticks": ""
             }
            },
            "type": "scatterpolargl"
           }
          ],
          "scatterternary": [
           {
            "marker": {
             "colorbar": {
              "outlinewidth": 0,
              "ticks": ""
             }
            },
            "type": "scatterternary"
           }
          ],
          "surface": [
           {
            "colorbar": {
             "outlinewidth": 0,
             "ticks": ""
            },
            "colorscale": [
             [
              0,
              "#0d0887"
             ],
             [
              0.1111111111111111,
              "#46039f"
             ],
             [
              0.2222222222222222,
              "#7201a8"
             ],
             [
              0.3333333333333333,
              "#9c179e"
             ],
             [
              0.4444444444444444,
              "#bd3786"
             ],
             [
              0.5555555555555556,
              "#d8576b"
             ],
             [
              0.6666666666666666,
              "#ed7953"
             ],
             [
              0.7777777777777778,
              "#fb9f3a"
             ],
             [
              0.8888888888888888,
              "#fdca26"
             ],
             [
              1,
              "#f0f921"
             ]
            ],
            "type": "surface"
           }
          ],
          "table": [
           {
            "cells": {
             "fill": {
              "color": "#EBF0F8"
             },
             "line": {
              "color": "white"
             }
            },
            "header": {
             "fill": {
              "color": "#C8D4E3"
             },
             "line": {
              "color": "white"
             }
            },
            "type": "table"
           }
          ]
         },
         "layout": {
          "annotationdefaults": {
           "arrowcolor": "#2a3f5f",
           "arrowhead": 0,
           "arrowwidth": 1
          },
          "autotypenumbers": "strict",
          "coloraxis": {
           "colorbar": {
            "outlinewidth": 0,
            "ticks": ""
           }
          },
          "colorscale": {
           "diverging": [
            [
             0,
             "#8e0152"
            ],
            [
             0.1,
             "#c51b7d"
            ],
            [
             0.2,
             "#de77ae"
            ],
            [
             0.3,
             "#f1b6da"
            ],
            [
             0.4,
             "#fde0ef"
            ],
            [
             0.5,
             "#f7f7f7"
            ],
            [
             0.6,
             "#e6f5d0"
            ],
            [
             0.7,
             "#b8e186"
            ],
            [
             0.8,
             "#7fbc41"
            ],
            [
             0.9,
             "#4d9221"
            ],
            [
             1,
             "#276419"
            ]
           ],
           "sequential": [
            [
             0,
             "#0d0887"
            ],
            [
             0.1111111111111111,
             "#46039f"
            ],
            [
             0.2222222222222222,
             "#7201a8"
            ],
            [
             0.3333333333333333,
             "#9c179e"
            ],
            [
             0.4444444444444444,
             "#bd3786"
            ],
            [
             0.5555555555555556,
             "#d8576b"
            ],
            [
             0.6666666666666666,
             "#ed7953"
            ],
            [
             0.7777777777777778,
             "#fb9f3a"
            ],
            [
             0.8888888888888888,
             "#fdca26"
            ],
            [
             1,
             "#f0f921"
            ]
           ],
           "sequentialminus": [
            [
             0,
             "#0d0887"
            ],
            [
             0.1111111111111111,
             "#46039f"
            ],
            [
             0.2222222222222222,
             "#7201a8"
            ],
            [
             0.3333333333333333,
             "#9c179e"
            ],
            [
             0.4444444444444444,
             "#bd3786"
            ],
            [
             0.5555555555555556,
             "#d8576b"
            ],
            [
             0.6666666666666666,
             "#ed7953"
            ],
            [
             0.7777777777777778,
             "#fb9f3a"
            ],
            [
             0.8888888888888888,
             "#fdca26"
            ],
            [
             1,
             "#f0f921"
            ]
           ]
          },
          "colorway": [
           "#636efa",
           "#EF553B",
           "#00cc96",
           "#ab63fa",
           "#FFA15A",
           "#19d3f3",
           "#FF6692",
           "#B6E880",
           "#FF97FF",
           "#FECB52"
          ],
          "font": {
           "color": "#2a3f5f"
          },
          "geo": {
           "bgcolor": "white",
           "lakecolor": "white",
           "landcolor": "#E5ECF6",
           "showlakes": true,
           "showland": true,
           "subunitcolor": "white"
          },
          "hoverlabel": {
           "align": "left"
          },
          "hovermode": "closest",
          "mapbox": {
           "style": "light"
          },
          "paper_bgcolor": "white",
          "plot_bgcolor": "#E5ECF6",
          "polar": {
           "angularaxis": {
            "gridcolor": "white",
            "linecolor": "white",
            "ticks": ""
           },
           "bgcolor": "#E5ECF6",
           "radialaxis": {
            "gridcolor": "white",
            "linecolor": "white",
            "ticks": ""
           }
          },
          "scene": {
           "xaxis": {
            "backgroundcolor": "#E5ECF6",
            "gridcolor": "white",
            "gridwidth": 2,
            "linecolor": "white",
            "showbackground": true,
            "ticks": "",
            "zerolinecolor": "white"
           },
           "yaxis": {
            "backgroundcolor": "#E5ECF6",
            "gridcolor": "white",
            "gridwidth": 2,
            "linecolor": "white",
            "showbackground": true,
            "ticks": "",
            "zerolinecolor": "white"
           },
           "zaxis": {
            "backgroundcolor": "#E5ECF6",
            "gridcolor": "white",
            "gridwidth": 2,
            "linecolor": "white",
            "showbackground": true,
            "ticks": "",
            "zerolinecolor": "white"
           }
          },
          "shapedefaults": {
           "line": {
            "color": "#2a3f5f"
           }
          },
          "ternary": {
           "aaxis": {
            "gridcolor": "white",
            "linecolor": "white",
            "ticks": ""
           },
           "baxis": {
            "gridcolor": "white",
            "linecolor": "white",
            "ticks": ""
           },
           "bgcolor": "#E5ECF6",
           "caxis": {
            "gridcolor": "white",
            "linecolor": "white",
            "ticks": ""
           }
          },
          "title": {
           "x": 0.05
          },
          "xaxis": {
           "automargin": true,
           "gridcolor": "white",
           "linecolor": "white",
           "ticks": "",
           "title": {
            "standoff": 15
           },
           "zerolinecolor": "white",
           "zerolinewidth": 2
          },
          "yaxis": {
           "automargin": true,
           "gridcolor": "white",
           "linecolor": "white",
           "ticks": "",
           "title": {
            "standoff": 15
           },
           "zerolinecolor": "white",
           "zerolinewidth": 2
          }
         }
        },
        "title": {
         "text": "Two-level Sunburst Diagram"
        }
       }
      },
      "text/html": [
       "<div>                            <div id=\"b7bd75f3-216f-466a-ac89-c6772ae95d28\" class=\"plotly-graph-div\" style=\"height:525px; width:100%;\"></div>            <script type=\"text/javascript\">                require([\"plotly\"], function(Plotly) {                    window.PLOTLYENV=window.PLOTLYENV || {};                                    if (document.getElementById(\"b7bd75f3-216f-466a-ac89-c6772ae95d28\")) {                    Plotly.newPlot(                        \"b7bd75f3-216f-466a-ac89-c6772ae95d28\",                        [{\"branchvalues\":\"total\",\"customdata\":[[\"Attempt\"],[\"Attempt\"],[\"Behavior\"],[\"Behavior\"],[\"Behavior\"],[\"Behavior\"],[\"Ideation\"],[\"Ideation\"],[\"Indicator\"],[\"Indicator\"],[\"Ideation\"],[\"Ideation\"],[\"Behavior\"],[\"Attempt\"],[\"Attempt\"],[\"Behavior\"],[\"Behavior\"],[\"Indicator\"],[\"Indicator\"],[\"Behavior\"],[\"Ideation\"],[\"Ideation\"],[\"Indicator\"],[\"Indicator\"],[\"Ideation\"],[\"Ideation\"],[\"Indicator\"],[\"Indicator\"],[\"Attempt\"],[\"Attempt\"],[\"Behavior\"],[\"Behavior\"],[\"Ideation\"],[\"Ideation\"],[\"Indicator\"],[\"Indicator\"],[\"(?)\"],[\"(?)\"]],\"domain\":{\"x\":[0.0,1.0],\"y\":[0.0,1.0]},\"hovertemplate\":\"labels=%{label}<br>logscale.1=%{value}<br>parent=%{parent}<br>id=%{id}<br>intensity=%{customdata[0]}<extra></extra>\",\"ids\":[\"non-suicide/Attempt/anger\",\"suicide/Attempt/anger\",\"suicide/Behavior/optimism\",\"non-suicide/Behavior/optimism\",\"non-suicide/Behavior/anger\",\"suicide/Behavior/anger\",\"non-suicide/Ideation/anger\",\"suicide/Ideation/anger\",\"suicide/Indicator/optimism\",\"non-suicide/Indicator/optimism\",\"suicide/Ideation/optimism\",\"non-suicide/Ideation/optimism\",\"non-suicide/Behavior/sadness\",\"suicide/Attempt/sadness\",\"non-suicide/Attempt/sadness\",\"suicide/Behavior/joy\",\"non-suicide/Behavior/joy\",\"suicide/Indicator/anger\",\"non-suicide/Indicator/anger\",\"suicide/Behavior/sadness\",\"non-suicide/Ideation/sadness\",\"suicide/Ideation/sadness\",\"suicide/Indicator/joy\",\"non-suicide/Indicator/joy\",\"suicide/Ideation/joy\",\"non-suicide/Ideation/joy\",\"non-suicide/Indicator/sadness\",\"suicide/Indicator/sadness\",\"non-suicide/Attempt\",\"suicide/Attempt\",\"non-suicide/Behavior\",\"suicide/Behavior\",\"non-suicide/Ideation\",\"suicide/Ideation\",\"non-suicide/Indicator\",\"suicide/Indicator\",\"non-suicide\",\"suicide\"],\"labels\":[\"anger\",\"anger\",\"optimism\",\"optimism\",\"anger\",\"anger\",\"anger\",\"anger\",\"optimism\",\"optimism\",\"optimism\",\"optimism\",\"sadness\",\"sadness\",\"sadness\",\"joy\",\"joy\",\"anger\",\"anger\",\"sadness\",\"sadness\",\"sadness\",\"joy\",\"joy\",\"joy\",\"joy\",\"sadness\",\"sadness\",\"Attempt\",\"Attempt\",\"Behavior\",\"Behavior\",\"Ideation\",\"Ideation\",\"Indicator\",\"Indicator\",\"non-suicide\",\"suicide\"],\"marker\":{\"colors\":[\"#636efa\",\"#636efa\",\"#EF553B\",\"#EF553B\",\"#EF553B\",\"#EF553B\",\"#00cc96\",\"#00cc96\",\"#ab63fa\",\"#ab63fa\",\"#00cc96\",\"#00cc96\",\"#EF553B\",\"#636efa\",\"#636efa\",\"#EF553B\",\"#EF553B\",\"#ab63fa\",\"#ab63fa\",\"#EF553B\",\"#00cc96\",\"#00cc96\",\"#ab63fa\",\"#ab63fa\",\"#00cc96\",\"#00cc96\",\"#ab63fa\",\"#ab63fa\",\"#636efa\",\"#636efa\",\"#EF553B\",\"#EF553B\",\"#00cc96\",\"#00cc96\",\"#ab63fa\",\"#ab63fa\",\"#FFA15A\",\"#FFA15A\"]},\"name\":\"\",\"parents\":[\"non-suicide/Attempt\",\"suicide/Attempt\",\"suicide/Behavior\",\"non-suicide/Behavior\",\"non-suicide/Behavior\",\"suicide/Behavior\",\"non-suicide/Ideation\",\"suicide/Ideation\",\"suicide/Indicator\",\"non-suicide/Indicator\",\"suicide/Ideation\",\"non-suicide/Ideation\",\"non-suicide/Behavior\",\"suicide/Attempt\",\"non-suicide/Attempt\",\"suicide/Behavior\",\"non-suicide/Behavior\",\"suicide/Indicator\",\"non-suicide/Indicator\",\"suicide/Behavior\",\"non-suicide/Ideation\",\"suicide/Ideation\",\"suicide/Indicator\",\"non-suicide/Indicator\",\"suicide/Ideation\",\"non-suicide/Ideation\",\"non-suicide/Indicator\",\"suicide/Indicator\",\"non-suicide\",\"suicide\",\"non-suicide\",\"suicide\",\"non-suicide\",\"suicide\",\"non-suicide\",\"suicide\",\"\",\"\"],\"values\":[6.57881347896059,6.57881347896059,18.4690644014589,21.8543453267828,28.4331588057434,34.7716753591791,100.537920131926,91.389580421234,43.1214174864616,63.6563165501607,77.8515784149662,98.3518215685592,34.7716753591791,15.2755318478223,0.0,10.4271726633914,15.2755318478223,46.62709607165,66.6386636440841,43.4195955661457,100.214460732912,108.751763452552,31.2815179901743,45.6735080056052,66.1696515169621,75.2228567818158,64.626100807596,60.6511901272256,6.57881347896059,21.85434532678289,100.3347113395276,107.0875079901751,374.327059215213,344.1625738057143,240.59458900744602,181.6812216755115,721.8351730411472,654.7856487981838],\"type\":\"sunburst\",\"textinfo\":\"label+percent parent\"}],                        {\"template\":{\"data\":{\"histogram2dcontour\":[{\"type\":\"histogram2dcontour\",\"colorbar\":{\"outlinewidth\":0,\"ticks\":\"\"},\"colorscale\":[[0.0,\"#0d0887\"],[0.1111111111111111,\"#46039f\"],[0.2222222222222222,\"#7201a8\"],[0.3333333333333333,\"#9c179e\"],[0.4444444444444444,\"#bd3786\"],[0.5555555555555556,\"#d8576b\"],[0.6666666666666666,\"#ed7953\"],[0.7777777777777778,\"#fb9f3a\"],[0.8888888888888888,\"#fdca26\"],[1.0,\"#f0f921\"]]}],\"choropleth\":[{\"type\":\"choropleth\",\"colorbar\":{\"outlinewidth\":0,\"ticks\":\"\"}}],\"histogram2d\":[{\"type\":\"histogram2d\",\"colorbar\":{\"outlinewidth\":0,\"ticks\":\"\"},\"colorscale\":[[0.0,\"#0d0887\"],[0.1111111111111111,\"#46039f\"],[0.2222222222222222,\"#7201a8\"],[0.3333333333333333,\"#9c179e\"],[0.4444444444444444,\"#bd3786\"],[0.5555555555555556,\"#d8576b\"],[0.6666666666666666,\"#ed7953\"],[0.7777777777777778,\"#fb9f3a\"],[0.8888888888888888,\"#fdca26\"],[1.0,\"#f0f921\"]]}],\"heatmap\":[{\"type\":\"heatmap\",\"colorbar\":{\"outlinewidth\":0,\"ticks\":\"\"},\"colorscale\":[[0.0,\"#0d0887\"],[0.1111111111111111,\"#46039f\"],[0.2222222222222222,\"#7201a8\"],[0.3333333333333333,\"#9c179e\"],[0.4444444444444444,\"#bd3786\"],[0.5555555555555556,\"#d8576b\"],[0.6666666666666666,\"#ed7953\"],[0.7777777777777778,\"#fb9f3a\"],[0.8888888888888888,\"#fdca26\"],[1.0,\"#f0f921\"]]}],\"heatmapgl\":[{\"type\":\"heatmapgl\",\"colorbar\":{\"outlinewidth\":0,\"ticks\":\"\"},\"colorscale\":[[0.0,\"#0d0887\"],[0.1111111111111111,\"#46039f\"],[0.2222222222222222,\"#7201a8\"],[0.3333333333333333,\"#9c179e\"],[0.4444444444444444,\"#bd3786\"],[0.5555555555555556,\"#d8576b\"],[0.6666666666666666,\"#ed7953\"],[0.7777777777777778,\"#fb9f3a\"],[0.8888888888888888,\"#fdca26\"],[1.0,\"#f0f921\"]]}],\"contourcarpet\":[{\"type\":\"contourcarpet\",\"colorbar\":{\"outlinewidth\":0,\"ticks\":\"\"}}],\"contour\":[{\"type\":\"contour\",\"colorbar\":{\"outlinewidth\":0,\"ticks\":\"\"},\"colorscale\":[[0.0,\"#0d0887\"],[0.1111111111111111,\"#46039f\"],[0.2222222222222222,\"#7201a8\"],[0.3333333333333333,\"#9c179e\"],[0.4444444444444444,\"#bd3786\"],[0.5555555555555556,\"#d8576b\"],[0.6666666666666666,\"#ed7953\"],[0.7777777777777778,\"#fb9f3a\"],[0.8888888888888888,\"#fdca26\"],[1.0,\"#f0f921\"]]}],\"surface\":[{\"type\":\"surface\",\"colorbar\":{\"outlinewidth\":0,\"ticks\":\"\"},\"colorscale\":[[0.0,\"#0d0887\"],[0.1111111111111111,\"#46039f\"],[0.2222222222222222,\"#7201a8\"],[0.3333333333333333,\"#9c179e\"],[0.4444444444444444,\"#bd3786\"],[0.5555555555555556,\"#d8576b\"],[0.6666666666666666,\"#ed7953\"],[0.7777777777777778,\"#fb9f3a\"],[0.8888888888888888,\"#fdca26\"],[1.0,\"#f0f921\"]]}],\"mesh3d\":[{\"type\":\"mesh3d\",\"colorbar\":{\"outlinewidth\":0,\"ticks\":\"\"}}],\"scatter\":[{\"fillpattern\":{\"fillmode\":\"overlay\",\"size\":10,\"solidity\":0.2},\"type\":\"scatter\"}],\"parcoords\":[{\"type\":\"parcoords\",\"line\":{\"colorbar\":{\"outlinewidth\":0,\"ticks\":\"\"}}}],\"scatterpolargl\":[{\"type\":\"scatterpolargl\",\"marker\":{\"colorbar\":{\"outlinewidth\":0,\"ticks\":\"\"}}}],\"bar\":[{\"error_x\":{\"color\":\"#2a3f5f\"},\"error_y\":{\"color\":\"#2a3f5f\"},\"marker\":{\"line\":{\"color\":\"#E5ECF6\",\"width\":0.5},\"pattern\":{\"fillmode\":\"overlay\",\"size\":10,\"solidity\":0.2}},\"type\":\"bar\"}],\"scattergeo\":[{\"type\":\"scattergeo\",\"marker\":{\"colorbar\":{\"outlinewidth\":0,\"ticks\":\"\"}}}],\"scatterpolar\":[{\"type\":\"scatterpolar\",\"marker\":{\"colorbar\":{\"outlinewidth\":0,\"ticks\":\"\"}}}],\"histogram\":[{\"marker\":{\"pattern\":{\"fillmode\":\"overlay\",\"size\":10,\"solidity\":0.2}},\"type\":\"histogram\"}],\"scattergl\":[{\"type\":\"scattergl\",\"marker\":{\"colorbar\":{\"outlinewidth\":0,\"ticks\":\"\"}}}],\"scatter3d\":[{\"type\":\"scatter3d\",\"line\":{\"colorbar\":{\"outlinewidth\":0,\"ticks\":\"\"}},\"marker\":{\"colorbar\":{\"outlinewidth\":0,\"ticks\":\"\"}}}],\"scattermapbox\":[{\"type\":\"scattermapbox\",\"marker\":{\"colorbar\":{\"outlinewidth\":0,\"ticks\":\"\"}}}],\"scatterternary\":[{\"type\":\"scatterternary\",\"marker\":{\"colorbar\":{\"outlinewidth\":0,\"ticks\":\"\"}}}],\"scattercarpet\":[{\"type\":\"scattercarpet\",\"marker\":{\"colorbar\":{\"outlinewidth\":0,\"ticks\":\"\"}}}],\"carpet\":[{\"aaxis\":{\"endlinecolor\":\"#2a3f5f\",\"gridcolor\":\"white\",\"linecolor\":\"white\",\"minorgridcolor\":\"white\",\"startlinecolor\":\"#2a3f5f\"},\"baxis\":{\"endlinecolor\":\"#2a3f5f\",\"gridcolor\":\"white\",\"linecolor\":\"white\",\"minorgridcolor\":\"white\",\"startlinecolor\":\"#2a3f5f\"},\"type\":\"carpet\"}],\"table\":[{\"cells\":{\"fill\":{\"color\":\"#EBF0F8\"},\"line\":{\"color\":\"white\"}},\"header\":{\"fill\":{\"color\":\"#C8D4E3\"},\"line\":{\"color\":\"white\"}},\"type\":\"table\"}],\"barpolar\":[{\"marker\":{\"line\":{\"color\":\"#E5ECF6\",\"width\":0.5},\"pattern\":{\"fillmode\":\"overlay\",\"size\":10,\"solidity\":0.2}},\"type\":\"barpolar\"}],\"pie\":[{\"automargin\":true,\"type\":\"pie\"}]},\"layout\":{\"autotypenumbers\":\"strict\",\"colorway\":[\"#636efa\",\"#EF553B\",\"#00cc96\",\"#ab63fa\",\"#FFA15A\",\"#19d3f3\",\"#FF6692\",\"#B6E880\",\"#FF97FF\",\"#FECB52\"],\"font\":{\"color\":\"#2a3f5f\"},\"hovermode\":\"closest\",\"hoverlabel\":{\"align\":\"left\"},\"paper_bgcolor\":\"white\",\"plot_bgcolor\":\"#E5ECF6\",\"polar\":{\"bgcolor\":\"#E5ECF6\",\"angularaxis\":{\"gridcolor\":\"white\",\"linecolor\":\"white\",\"ticks\":\"\"},\"radialaxis\":{\"gridcolor\":\"white\",\"linecolor\":\"white\",\"ticks\":\"\"}},\"ternary\":{\"bgcolor\":\"#E5ECF6\",\"aaxis\":{\"gridcolor\":\"white\",\"linecolor\":\"white\",\"ticks\":\"\"},\"baxis\":{\"gridcolor\":\"white\",\"linecolor\":\"white\",\"ticks\":\"\"},\"caxis\":{\"gridcolor\":\"white\",\"linecolor\":\"white\",\"ticks\":\"\"}},\"coloraxis\":{\"colorbar\":{\"outlinewidth\":0,\"ticks\":\"\"}},\"colorscale\":{\"sequential\":[[0.0,\"#0d0887\"],[0.1111111111111111,\"#46039f\"],[0.2222222222222222,\"#7201a8\"],[0.3333333333333333,\"#9c179e\"],[0.4444444444444444,\"#bd3786\"],[0.5555555555555556,\"#d8576b\"],[0.6666666666666666,\"#ed7953\"],[0.7777777777777778,\"#fb9f3a\"],[0.8888888888888888,\"#fdca26\"],[1.0,\"#f0f921\"]],\"sequentialminus\":[[0.0,\"#0d0887\"],[0.1111111111111111,\"#46039f\"],[0.2222222222222222,\"#7201a8\"],[0.3333333333333333,\"#9c179e\"],[0.4444444444444444,\"#bd3786\"],[0.5555555555555556,\"#d8576b\"],[0.6666666666666666,\"#ed7953\"],[0.7777777777777778,\"#fb9f3a\"],[0.8888888888888888,\"#fdca26\"],[1.0,\"#f0f921\"]],\"diverging\":[[0,\"#8e0152\"],[0.1,\"#c51b7d\"],[0.2,\"#de77ae\"],[0.3,\"#f1b6da\"],[0.4,\"#fde0ef\"],[0.5,\"#f7f7f7\"],[0.6,\"#e6f5d0\"],[0.7,\"#b8e186\"],[0.8,\"#7fbc41\"],[0.9,\"#4d9221\"],[1,\"#276419\"]]},\"xaxis\":{\"gridcolor\":\"white\",\"linecolor\":\"white\",\"ticks\":\"\",\"title\":{\"standoff\":15},\"zerolinecolor\":\"white\",\"automargin\":true,\"zerolinewidth\":2},\"yaxis\":{\"gridcolor\":\"white\",\"linecolor\":\"white\",\"ticks\":\"\",\"title\":{\"standoff\":15},\"zerolinecolor\":\"white\",\"automargin\":true,\"zerolinewidth\":2},\"scene\":{\"xaxis\":{\"backgroundcolor\":\"#E5ECF6\",\"gridcolor\":\"white\",\"linecolor\":\"white\",\"showbackground\":true,\"ticks\":\"\",\"zerolinecolor\":\"white\",\"gridwidth\":2},\"yaxis\":{\"backgroundcolor\":\"#E5ECF6\",\"gridcolor\":\"white\",\"linecolor\":\"white\",\"showbackground\":true,\"ticks\":\"\",\"zerolinecolor\":\"white\",\"gridwidth\":2},\"zaxis\":{\"backgroundcolor\":\"#E5ECF6\",\"gridcolor\":\"white\",\"linecolor\":\"white\",\"showbackground\":true,\"ticks\":\"\",\"zerolinecolor\":\"white\",\"gridwidth\":2}},\"shapedefaults\":{\"line\":{\"color\":\"#2a3f5f\"}},\"annotationdefaults\":{\"arrowcolor\":\"#2a3f5f\",\"arrowhead\":0,\"arrowwidth\":1},\"geo\":{\"bgcolor\":\"white\",\"landcolor\":\"#E5ECF6\",\"subunitcolor\":\"white\",\"showland\":true,\"showlakes\":true,\"lakecolor\":\"white\"},\"title\":{\"x\":0.05},\"mapbox\":{\"style\":\"light\"}}},\"legend\":{\"tracegroupgap\":0},\"margin\":{\"t\":60},\"title\":{\"text\":\"Two-level Sunburst Diagram\"},\"font\":{\"size\":8}},                        {\"responsive\": true}                    ).then(function(){\n",
       "                            \n",
       "var gd = document.getElementById('b7bd75f3-216f-466a-ac89-c6772ae95d28');\n",
       "var x = new MutationObserver(function (mutations, observer) {{\n",
       "        var display = window.getComputedStyle(gd).display;\n",
       "        if (!display || display === 'none') {{\n",
       "            console.log([gd, 'removed!']);\n",
       "            Plotly.purge(gd);\n",
       "            observer.disconnect();\n",
       "        }}\n",
       "}});\n",
       "\n",
       "// Listen for the removal of the full notebook cells\n",
       "var notebookContainer = gd.closest('#notebook-container');\n",
       "if (notebookContainer) {{\n",
       "    x.observe(notebookContainer, {childList: true});\n",
       "}}\n",
       "\n",
       "// Listen for the clearing of the current output cell\n",
       "var outputEl = gd.closest('.output');\n",
       "if (outputEl) {{\n",
       "    x.observe(outputEl, {childList: true});\n",
       "}}\n",
       "\n",
       "                        })                };                });            </script>        </div>"
      ]
     },
     "metadata": {},
     "output_type": "display_data"
    }
   ],
   "source": [
    "def create_sunburst(result):\n",
    "    fig = px.sunburst(result, path=['class', 'intensity', 'emotion'], \n",
    "                      values='logscale.1', color='intensity')\n",
    "    fig.update_traces(textinfo=\"label+percent parent\")\n",
    "    fig.update_layout(title_text=\"Two-level Sunburst Diagram\", font_size=8)\n",
    "    fig.show()\n",
    "\n",
    "create_sunburst(df)"
   ]
  }
 ],
 "metadata": {
  "kernelspec": {
   "display_name": "Python 3 (ipykernel)",
   "language": "python",
   "name": "python3"
  },
  "language_info": {
   "codemirror_mode": {
    "name": "ipython",
    "version": 3
   },
   "file_extension": ".py",
   "mimetype": "text/x-python",
   "name": "python",
   "nbconvert_exporter": "python",
   "pygments_lexer": "ipython3",
   "version": "3.7.15"
  }
 },
 "nbformat": 4,
 "nbformat_minor": 5
}
