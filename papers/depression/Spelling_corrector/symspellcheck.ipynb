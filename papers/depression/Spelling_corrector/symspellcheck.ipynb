{
 "cells": [
  {
   "cell_type": "code",
   "execution_count": 1,
   "metadata": {},
   "outputs": [
    {
     "name": "stdout",
     "output_type": "stream",
     "text": [
      "[('the', 23135851162), ('of', 13151942776), ('and', 12997637966), ('to', 12136980858), ('a', 9081174698)]\n"
     ]
    }
   ],
   "source": [
    "from itertools import islice\n",
    "import pkg_resources\n",
    "from symspellpy import SymSpell\n",
    "\n",
    "sym_spell = SymSpell()\"\n",
    "dictionary_path = pkg_resources.resource_filename(\n",
    "    \"symspellpy\", \"frequency_dictionary_en_82_765.txt\")\n",
    "sym_spell.load_dictionary(dictionary_path, 0, 1)\n",
    "\n",
    "# Print out first 5 elements to demonstrate that dictionary is\n",
    "# successfully loaded\n",
    "print(list(islice(sym_spell.words.items(), 5)))"
   ]
  },
  {
   "cell_type": "code",
   "execution_count": 30,
   "metadata": {},
   "outputs": [],
   "source": [
    "import pkg_resources\n",
    "from symspellpy import SymSpell, Verbosity\n",
    "\n",
    "sym_spell = SymSpell(max_dictionary_edit_distance=2, prefix_length=7)\n",
    "dictionary_path = pkg_resources.resource_filename(\n",
    "    \"symspellpy\", \"frequency_dictionary_en_82_765.txt\")\n",
    "# term_index is the column of the term and count_index is the\n",
    "# column of the term frequency\n",
    "sym_spell.load_dictionary(dictionary_path, term_index=0, count_index=1)\n",
    "\"\n",
    "# lookup suggestions for single-word input strings\n",
    "input_term = \"mxfdfsdxn\"  # misspelling of \"members\"\n",
    "# max edit distance per lookup\n",
    "# (max_edit_distance_lookup <= max_dictionary_edit_distance)\n",
    "suggestions = sym_spell.lookup(input_term, Verbosity.CLOSEST,\n",
    "                               max_edit_distance=2)\n",
    "# display suggestion term, term fre\"quency, and edit distance\n",
    "for suggestion in suggestions:\n",
    "    print(suggestion)\n",
    "    "
   ]
  },
  {
   "cell_type": "code",
   "execution_count": 28,
   "metadata": {},
   "outputs": [
    {
     "name": "stdout",
     "output_type": "stream",
     "text": [
      "man\n"
     ]
    }
   ],
   "source": [
    "for suggestion in suggestions:\n",
    "    print(str(suggestion).split(',')[0])\n",
    "    break"
   ]
  },
  {
   "cell_type": "code",
   "execution_count": 21,
   "metadata": {},
   "outputs": [
    {
     "data": {
      "text/plain": [
       "[<symspellpy.symspellpy.SuggestItem at 0x7f765b08e2b0>]"
      ]
     },
     "execution_count": 21,
     "metadata": {},
     "output_type": "execute_result"
    }
   ],
   "source": [
    "[i for i in suggestions if i]"
   ]
  },
  {
   "cell_type": "code",
   "execution_count": 14,
   "metadata": {},
   "outputs": [],
   "source": [
    "from collections import Counter\n",
    "c = Counter('abcdeabcdabcaba')\n",
    "with open(\"abc\", 'w') as f:\n",
    "    for k,v in  c.most_common():\n",
    "        f.write( \"{} {}\\n\".format(k,v))"
   ]
  },
  {
   "cell_type": "code",
   "execution_count": 31,
   "metadata": {},
   "outputs": [],
   "source": [
    "def dump_frequency_dict(word_dict, file_path):\n",
    "    temp_file = 'temp.txt'\n",
    "    with open(temp_file, 'w') as f:\n",
    "        for k, v in word_dict:\n",
    "            f.write(\"{} {}\\n\".format(k, v))\n",
    "    dump_to_file(file_path, open(temp_file))\n",
    "    os.remove(temp_file)"
   ]
  },
  {
   "cell_type": "code",
   "execution_count": 32,
   "metadata": {},
   "outputs": [],
   "source": [
    "\n",
    "from re import findall\n",
    "\n",
    "def vocabulary_spelling(output_dir, processed_texts):\n",
    "    data = self.single_character_remover(\" \".join(processed_texts))\n",
    "    word_dict = Counter(findall(r'\\w+', data.lower())).most_common()\n",
    "    file_path = os.path.join(output_dir, FREQUENCY_DICTIONARY)\n",
    "    dump_frequency_dict(word_dict, file_path)\n",
    "\n",
    "    vocab_file = os.path.join(output_dir, VOCAB_FILE)\n",
    "    vocabulary = list(set(data.split()))\n",
    "    with open(vocab_file, 'w') as out:\n",
    "        out.writelines(\"%s\\n\" % vocab for vocab in vocabulary)"
   ]
  },
  {
   "cell_type": "code",
   "execution_count": 34,
   "metadata": {},
   "outputs": [],
   "source": [
    "with open('/home/ifte/resource/data/processed_texts.txt') as f:\n",
    "    texts = f.readlines()"
   ]
  },
  {
   "cell_type": "code",
   "execution_count": 37,
   "metadata": {},
   "outputs": [],
   "source": [
    "def single_character_remover(text):\n",
    "    collector = []\n",
    "    for items in text.split():\n",
    "        if len(items) < 2:\n",
    "            replaced = re.sub(r'[ぁ-んァ-ン]', '', items)\n",
    "            replaced = re.sub(r'[A-Za-z]', '', replaced)\n",
    "            replaced = re.sub(r'[0-9]', '', replaced)\n",
    "            collector.append(replaced)\n",
    "        else:\n",
    "            collector.append(items)\n",
    "    return ' '.join([temp.strip(' ') for temp in collector])"
   ]
  },
  {
   "cell_type": "code",
   "execution_count": 41,
   "metadata": {},
   "outputs": [],
   "source": [
    "from collections import Counter\n",
    "import re\n",
    "data = single_character_remover(\" \".join(texts))\n",
    "word_dict = Counter(re.findall(r'\\w+', data.lower())).most_common()"
   ]
  },
  {
   "cell_type": "code",
   "execution_count": 44,
   "metadata": {},
   "outputs": [],
   "source": [
    "import os\n",
    "FREQUENCY_DICTIONARY = 'frequency_dict.pk'\n",
    "file_path = os.path.join('/home/ifte/resource/data/', FREQUENCY_DICTIONARY)\n",
    "temp_file = 'temp.txt'\n",
    "with open(temp_file, 'w') as f:\n",
    "    for k, v in word_dict:\n",
    "        f.write(\"{} {}\\n\".format(k, v))\n"
   ]
  },
  {
   "cell_type": "code",
   "execution_count": 48,
   "metadata": {},
   "outputs": [],
   "source": [
    "with open(temp_file, 'r') as f:\n",
    "    lines = f.readlines()\n",
    "    "
   ]
  },
  {
   "cell_type": "code",
   "execution_count": 3,
   "metadata": {},
   "outputs": [],
   "source": [
    "import pandas as pd\n",
    "df = pd.read_csv('/home/iftekhar/WebMaster/app/data/nlu_dict_frame.csv')"
   ]
  },
  {
   "cell_type": "code",
   "execution_count": 8,
   "metadata": {},
   "outputs": [
    {
     "data": {
      "text/plain": [
       "[1, '3']"
      ]
     },
     "execution_count": 8,
     "metadata": {},
     "output_type": "execute_result"
    }
   ],
   "source": [
    "\n",
    "[x for x in [1, 2, '3'] if x in ['3', '2', 1]]"
   ]
  }
 ],
 "metadata": {
  "kernelspec": {
   "display_name": "Python 3",
   "language": "python",
   "name": "python3"
  },
  "language_info": {
   "codemirror_mode": {
    "name": "ipython",
    "version": 3
   },
   "file_extension": ".py",
   "mimetype": "text/x-python",
   "name": "python",
   "nbconvert_exporter": "python",
   "pygments_lexer": "ipython3",
   "version": "3.6.9"
  }
 },
 "nbformat": 4,
 "nbformat_minor": 4
}
