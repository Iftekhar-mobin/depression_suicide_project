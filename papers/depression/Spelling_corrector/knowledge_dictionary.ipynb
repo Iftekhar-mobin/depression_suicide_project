{
 "cells": [
  {
   "cell_type": "code",
   "execution_count": 1,
   "metadata": {},
   "outputs": [],
   "source": [
    "import json\n",
    "from difflib import get_close_matches"
   ]
  },
  {
   "cell_type": "code",
   "execution_count": 2,
   "metadata": {},
   "outputs": [],
   "source": [
    "words_data = json.load(open(\"/home/ifte/alechat_core/assets/correction_dict/confirmation_words_dict.json\"))"
   ]
  },
  {
   "cell_type": "code",
   "execution_count": 3,
   "metadata": {},
   "outputs": [],
   "source": [
    "def word_meaning(word):\n",
    "  \n",
    "    # translate the word in lowercase, since all the words in json file is in lower case.\n",
    "    word = word.lower()\n",
    "    \n",
    "    # check if word exists in words_data dict, If yes than return the value of that word by using d[key] method of dictionary,\n",
    "    if word in words_data:\n",
    "        return words_data[word]\n",
    "      \n",
    "    # tile() is a string method which converts the First letter of every word in uppercase, since some words have first letter in uppercase\n",
    "    # so we will be checking it in below mentioned way as well.\n",
    "    elif word.title() in words_data:\n",
    "        return words_data[word.title()]\n",
    "      \n",
    "    # some words are completely in uppercase, such as GIMP\n",
    "    elif word.upper() in words_data:\n",
    "        return words_data[word.upper()]\n",
    "      \n",
    "    # now lets say, you wanted to find meaning of word 'canopy' but somehow you misspelled it to 'canpy', then,\n",
    "    # get_close_matches() function will find matching keys from words_data dict and we can use them to ask users if\n",
    "    # they meant another word from the returned list of similar_words_list\n",
    "    elif len(get_close_matches(word, words_data.keys())) >0:\n",
    "      \n",
    "        # getting similar list of words and converting them to string format\n",
    "        similar_words_list = list(map(str, get_close_matches(word, words_data.keys())))\n",
    "        \n",
    "        # asking users if they mean any other word form the list of similar_words_list\n",
    "        ans = input(\"Did you mean %s instead? Enter 'Y' If yes or 'N' if No \" % similar_words_list)\n",
    "        \n",
    "        if ans.lower() == 'y':\n",
    "            # asking user to select the word\n",
    "            index = input(\"Enter the position number of word to select the word. Ex 1 or 2 or 3 : \")\n",
    "            return word_meaning(get_close_matches(word, words_data.keys())[int(index)-1])\n",
    "        elif ans.lower() == 'n':\n",
    "            print(\"Word Doesnt exists. Please double check it!!!\")\n",
    "        else:\n",
    "            print(\"Sorry, We don't understand you!!!!\")\n",
    "    else:\n",
    "        print(\"Word Doesnt exists. Please double check it!!!\")\n"
   ]
  },
  {
   "cell_type": "code",
   "execution_count": 40,
   "metadata": {},
   "outputs": [
    {
     "name": "stdout",
     "output_type": "stream",
     "text": [
      "Enter a word :worde\n",
      "Did you mean ['word', 'wordnet', 'worse'] instead? Enter 'Y' If yes or 'N' if No x\n",
      "Sorry, We don't understand you!!!!\n"
     ]
    },
    {
     "ename": "TypeError",
     "evalue": "'NoneType' object is not subscriptable",
     "output_type": "error",
     "traceback": [
      "\u001b[0;31m---------------------------------------------------------------------------\u001b[0m",
      "\u001b[0;31mTypeError\u001b[0m                                 Traceback (most recent call last)",
      "\u001b[0;32m<ipython-input-40-eaaca1494f8c>\u001b[0m in \u001b[0;36m<module>\u001b[0;34m\u001b[0m\n\u001b[1;32m      1\u001b[0m \u001b[0;32mimport\u001b[0m \u001b[0mre\u001b[0m\u001b[0;34m\u001b[0m\u001b[0;34m\u001b[0m\u001b[0m\n\u001b[1;32m      2\u001b[0m \u001b[0mword\u001b[0m \u001b[0;34m=\u001b[0m \u001b[0minput\u001b[0m\u001b[0;34m(\u001b[0m\u001b[0;34m\"Enter a word :\"\u001b[0m\u001b[0;34m)\u001b[0m\u001b[0;34m\u001b[0m\u001b[0;34m\u001b[0m\u001b[0m\n\u001b[0;32m----> 3\u001b[0;31m \u001b[0mmeaning\u001b[0m \u001b[0;34m=\u001b[0m \u001b[0mword_meaning\u001b[0m\u001b[0;34m(\u001b[0m\u001b[0mword\u001b[0m\u001b[0;34m)\u001b[0m\u001b[0;34m[\u001b[0m\u001b[0;36m0\u001b[0m\u001b[0;34m]\u001b[0m\u001b[0;34m\u001b[0m\u001b[0;34m\u001b[0m\u001b[0m\n\u001b[0m\u001b[1;32m      4\u001b[0m \u001b[0mmeaning\u001b[0m \u001b[0;34m=\u001b[0m \u001b[0mmeaning\u001b[0m\u001b[0;34m.\u001b[0m\u001b[0msplit\u001b[0m\u001b[0;34m(\u001b[0m\u001b[0;34m'\\n'\u001b[0m\u001b[0;34m)\u001b[0m\u001b[0;34m[\u001b[0m\u001b[0;36m0\u001b[0m\u001b[0;34m]\u001b[0m\u001b[0;34m\u001b[0m\u001b[0;34m\u001b[0m\u001b[0m\n\u001b[1;32m      5\u001b[0m \u001b[0;34m'Did you mean: ... '\u001b[0m \u001b[0;34m+\u001b[0m \u001b[0mre\u001b[0m\u001b[0;34m.\u001b[0m\u001b[0msplit\u001b[0m\u001b[0;34m(\u001b[0m\u001b[0;34m'\\.|;'\u001b[0m\u001b[0;34m,\u001b[0m \u001b[0mmeaning\u001b[0m\u001b[0;34m)\u001b[0m\u001b[0;34m[\u001b[0m\u001b[0;36m0\u001b[0m\u001b[0;34m]\u001b[0m \u001b[0;34m+\u001b[0m \u001b[0;34m' ...'\u001b[0m\u001b[0;34m\u001b[0m\u001b[0;34m\u001b[0m\u001b[0m\n",
      "\u001b[0;31mTypeError\u001b[0m: 'NoneType' object is not subscriptable"
     ]
    }
   ],
   "source": [
    "import re\n",
    "word = input(\"Enter a word :\")\n",
    "meaning = word_meaning(word)[0]\n",
    "meaning = meaning.split('\\n')[0]\n",
    "'Did you mean: ... ' + re.split('\\.|;', meaning)[0] + ' ...'"
   ]
  },
  {
   "cell_type": "code",
   "execution_count": 45,
   "metadata": {},
   "outputs": [],
   "source": [
    "a = 'asjhd '\n",
    "b = [1, 2, 3]"
   ]
  },
  {
   "cell_type": "code",
   "execution_count": 46,
   "metadata": {},
   "outputs": [
    {
     "data": {
      "text/plain": [
       "'asjhd [1, 2, 3]'"
      ]
     },
     "execution_count": 46,
     "metadata": {},
     "output_type": "execute_result"
    }
   ],
   "source": [
    "a + str(b)"
   ]
  }
 ],
 "metadata": {
  "kernelspec": {
   "display_name": "Python 3",
   "language": "python",
   "name": "python3"
  },
  "language_info": {
   "codemirror_mode": {
    "name": "ipython",
    "version": 3
   },
   "file_extension": ".py",
   "mimetype": "text/x-python",
   "name": "python",
   "nbconvert_exporter": "python",
   "pygments_lexer": "ipython3",
   "version": "3.6.9"
  }
 },
 "nbformat": 4,
 "nbformat_minor": 4
}
