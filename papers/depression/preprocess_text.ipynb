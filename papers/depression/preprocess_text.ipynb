{
 "cells": [
  {
   "cell_type": "code",
   "execution_count": 5,
   "id": "1f657f58",
   "metadata": {},
   "outputs": [],
   "source": [
    "import pandas as pd\n",
    "from sklearn.metrics.pairwise import cosine_similarity\n",
    "import pandas as pd\n",
    "from sklearn.feature_extraction.text import CountVectorizer, TfidfVectorizer, TfidfTransformer\n",
    "import re \n",
    "import random\n",
    "import nltk\n",
    "from nltk.stem import WordNetLemmatizer\n",
    "from nltk.corpus import stopwords\n",
    "from nltk.tokenize import word_tokenize\n",
    "import string\n",
    "lemmer = WordNetLemmatizer()\n",
    "stop_words_nltk = set(stopwords.words('english'))\n",
    "\n",
    "#WordNet is a semantically-oriented dictionary of English included in NLTK.\n",
    "def LemTokens(tokens):\n",
    "    return [w for w in [lemmer.lemmatize(token) for token in tokens] if not w in stop_words_nltk]\n",
    "\n",
    "remove_punct_dict = dict((ord(punct), ' ') for punct in string.punctuation)\n",
    "\n",
    "def LemNormalize(text):\n",
    "#     text = process(text)\n",
    "    return LemTokens(nltk.word_tokenize(text.lower().translate(remove_punct_dict)))\n",
    "\n",
    "def preprocess(text):\n",
    "    text = ' '.join(LemNormalize(str(text)))\n",
    "    collect_text = []\n",
    "    text = re.sub(r'[0-9]', ' ', text)\n",
    "    for items in text.split():\n",
    "        if len(items) > 1:\n",
    "            collect_text.append(items)\n",
    "    return ' '.join(collect_text)"
   ]
  },
  {
   "cell_type": "code",
   "execution_count": 6,
   "id": "04977f53",
   "metadata": {},
   "outputs": [
    {
     "data": {
      "text/plain": [
       "'hello coming'"
      ]
     },
     "execution_count": 6,
     "metadata": {},
     "output_type": "execute_result"
    }
   ],
   "source": [
    "preprocess('hello I am coming')"
   ]
  },
  {
   "cell_type": "code",
   "execution_count": null,
   "id": "b2388d91",
   "metadata": {},
   "outputs": [],
   "source": []
  },
  {
   "cell_type": "code",
   "execution_count": null,
   "id": "d9f03c7b",
   "metadata": {},
   "outputs": [],
   "source": []
  }
 ],
 "metadata": {
  "kernelspec": {
   "display_name": "Python 3 (ipykernel)",
   "language": "python",
   "name": "python3"
  },
  "language_info": {
   "codemirror_mode": {
    "name": "ipython",
    "version": 3
   },
   "file_extension": ".py",
   "mimetype": "text/x-python",
   "name": "python",
   "nbconvert_exporter": "python",
   "pygments_lexer": "ipython3",
   "version": "3.7.15"
  }
 },
 "nbformat": 4,
 "nbformat_minor": 5
}
