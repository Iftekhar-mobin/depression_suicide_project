{
 "cells": [
  {
   "cell_type": "markdown",
   "metadata": {},
   "source": [
    "# Training\n",
    "### https://radimrehurek.com/gensim/models/fasttext.html"
   ]
  },
  {
   "cell_type": "markdown",
   "metadata": {},
   "source": [
    "### https://medium.com/nerd-for-tech/train-python-code-embedding-with-fasttext-1e225f193cc\n",
    "### https://stackabuse.com/python-for-nlp-working-with-facebook-fasttext-library/"
   ]
  },
  {
   "cell_type": "code",
   "execution_count": null,
   "metadata": {},
   "outputs": [],
   "source": [
    "from gensim.models import FastText\n",
    "\n",
    "embed_model = FastText(vector_size=meta_hyper['vector_size'], \n",
    "                       window=meta_hyper['window'], \n",
    "                       min_count = meta_hyper['min_count'], \n",
    "                       alpha= meta_hyper['alpha'], \n",
    "                       workers=meta_hyper['CPU'])\n",
    "\n",
    "embed_model.build_vocab(tokenized_data)\n",
    "\n",
    "import time\n",
    "start = time.time()\n",
    "\n",
    "embed_model.train(tokenized_data, total_examples=len(tokenized_data), epochs=meta_hyper['epochs'])  \n",
    "\n",
    "end = time.time()\n",
    "\n",
    "embed_model.save('fasttext_{}.mdl'.format(meta_hyper['vector_size']))"
   ]
  },
  {
   "cell_type": "code",
   "execution_count": null,
   "metadata": {},
   "outputs": [],
   "source": [
    "from gensim.models.fasttext import FastText"
   ]
  },
  {
   "cell_type": "code",
   "execution_count": null,
   "metadata": {},
   "outputs": [],
   "source": [
    "ft_model = FastText(word_tokenized_corpus,\n",
    "                      size=embedding_size,\n",
    "                      window=window_size,\n",
    "                      min_count=min_word,\n",
    "                      sample=down_sampling,\n",
    "                      sg=1,\n",
    "                      iter=100)"
   ]
  },
  {
   "cell_type": "code",
   "execution_count": null,
   "metadata": {},
   "outputs": [],
   "source": [
    "print(ft_model.wv['artificial'])"
   ]
  },
  {
   "cell_type": "code",
   "execution_count": null,
   "metadata": {},
   "outputs": [],
   "source": [
    "from gensim.models.fasttext import load_facebook_model\n",
    "fasttext_model = load_facebook_model('/home/iftekhar/myworkplace/AI-system/2VECs_models/word2vec/fasttext_model.bin')"
   ]
  },
  {
   "cell_type": "code",
   "execution_count": 6,
   "metadata": {},
   "outputs": [
    {
     "name": "stderr",
     "output_type": "stream",
     "text": [
      "\n"
     ]
    }
   ],
   "source": [
    "import fasttext\n",
    "fast_model = fasttext.load_model(\"page_ranker.bin\")"
   ]
  },
  {
   "cell_type": "code",
   "execution_count": null,
   "metadata": {},
   "outputs": [],
   "source": [
    "def cos_sim(v1, v2):\n",
    "    return np.dot(v1, v2) / (np.linalg.norm(v1) * np.linalg.norm(v2))\n",
    "\n",
    "def fasttext_ranks(self, matched_sequence, question, fasttext):\n",
    "    query_vec = fasttext.wv.get_vector(question)\n",
    "    rank = []\n",
    "    ids_list = []\n",
    "    for id_num, items in matched_sequence:\n",
    "        for sentences in items:\n",
    "            corpus_vec = fasttext.wv.get_vector(sentences)\n",
    "            ids_list.append(id_num)\n",
    "            rank.append(self.cos_sim(query_vec, corpus_vec))\n",
    "    return sorted(zip(ids_list, rank), key=lambda l: l[1], reverse=True)[:3]"
   ]
  },
  {
   "cell_type": "code",
   "execution_count": null,
   "metadata": {},
   "outputs": [],
   "source": []
  }
 ],
 "metadata": {
  "kernelspec": {
   "display_name": "Python 3 (ipykernel)",
   "language": "python",
   "name": "python3"
  },
  "language_info": {
   "codemirror_mode": {
    "name": "ipython",
    "version": 3
   },
   "file_extension": ".py",
   "mimetype": "text/x-python",
   "name": "python",
   "nbconvert_exporter": "python",
   "pygments_lexer": "ipython3",
   "version": "3.7.15"
  }
 },
 "nbformat": 4,
 "nbformat_minor": 4
}
