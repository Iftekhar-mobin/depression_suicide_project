{
 "cells": [
  {
   "cell_type": "code",
   "execution_count": 1,
   "id": "3a5c73da",
   "metadata": {},
   "outputs": [
    {
     "name": "stdout",
     "output_type": "stream",
     "text": [
      "Requirement already satisfied: pandas in /home/iftekhar/ENV/lib/python3.7/site-packages (1.3.5)\r\n",
      "Requirement already satisfied: python-dateutil>=2.7.3 in /home/iftekhar/ENV/lib/python3.7/site-packages (from pandas) (2.9.0.post0)\r\n",
      "Requirement already satisfied: pytz>=2017.3 in /home/iftekhar/ENV/lib/python3.7/site-packages (from pandas) (2024.1)\r\n",
      "Requirement already satisfied: numpy>=1.17.3 in /home/iftekhar/ENV/lib/python3.7/site-packages (from pandas) (1.21.6)\r\n",
      "Requirement already satisfied: six>=1.5 in /home/iftekhar/ENV/lib/python3.7/site-packages (from python-dateutil>=2.7.3->pandas) (1.16.0)\r\n"
     ]
    }
   ],
   "source": [
    "!pip3 install pandas\n"
   ]
  },
  {
   "cell_type": "code",
   "execution_count": 2,
   "id": "06aade29",
   "metadata": {},
   "outputs": [
    {
     "ename": "ModuleNotFoundError",
     "evalue": "No module named 'sklearn'",
     "output_type": "error",
     "traceback": [
      "\u001b[0;31m---------------------------------------------------------------------------\u001b[0m",
      "\u001b[0;31mModuleNotFoundError\u001b[0m                       Traceback (most recent call last)",
      "\u001b[0;32m/tmp/ipykernel_4622/983144892.py\u001b[0m in \u001b[0;36m<module>\u001b[0;34m\u001b[0m\n\u001b[1;32m      1\u001b[0m \u001b[0;32mimport\u001b[0m \u001b[0mrandom\u001b[0m\u001b[0;34m\u001b[0m\u001b[0;34m\u001b[0m\u001b[0m\n\u001b[1;32m      2\u001b[0m \u001b[0;32mimport\u001b[0m \u001b[0mpandas\u001b[0m \u001b[0;32mas\u001b[0m \u001b[0mpd\u001b[0m\u001b[0;34m\u001b[0m\u001b[0;34m\u001b[0m\u001b[0m\n\u001b[0;32m----> 3\u001b[0;31m \u001b[0;32mfrom\u001b[0m \u001b[0msklearn\u001b[0m\u001b[0;34m.\u001b[0m\u001b[0mfeature_extraction\u001b[0m\u001b[0;34m.\u001b[0m\u001b[0mtext\u001b[0m \u001b[0;32mimport\u001b[0m \u001b[0mCountVectorizer\u001b[0m\u001b[0;34m\u001b[0m\u001b[0;34m\u001b[0m\u001b[0m\n\u001b[0m\u001b[1;32m      4\u001b[0m \u001b[0;32mfrom\u001b[0m \u001b[0msklearn\u001b[0m\u001b[0;34m.\u001b[0m\u001b[0mfeature_extraction\u001b[0m\u001b[0;34m.\u001b[0m\u001b[0mtext\u001b[0m \u001b[0;32mimport\u001b[0m \u001b[0mTfidfTransformer\u001b[0m\u001b[0;34m\u001b[0m\u001b[0;34m\u001b[0m\u001b[0m\n\u001b[1;32m      5\u001b[0m \u001b[0;32mfrom\u001b[0m \u001b[0msklearn\u001b[0m\u001b[0;34m.\u001b[0m\u001b[0mpipeline\u001b[0m \u001b[0;32mimport\u001b[0m \u001b[0mPipeline\u001b[0m\u001b[0;34m\u001b[0m\u001b[0;34m\u001b[0m\u001b[0m\n",
      "\u001b[0;31mModuleNotFoundError\u001b[0m: No module named 'sklearn'"
     ]
    }
   ],
   "source": [
    "import random\n",
    "import pandas as pd\n",
    "from sklearn.feature_extraction.text import CountVectorizer\n",
    "from sklearn.feature_extraction.text import TfidfTransformer\n",
    "from sklearn.pipeline import Pipeline\n",
    "from sklearn.model_selection import train_test_split\n",
    "from sklearn.metrics import accuracy_score, precision_score, recall_score, f1_score\n",
    "import numpy as np\n",
    "import matplotlib.pyplot as plt"
   ]
  },
  {
   "cell_type": "code",
   "execution_count": 3,
   "id": "c7b589b3",
   "metadata": {},
   "outputs": [],
   "source": [
    "from sklearn.ensemble import AdaBoostClassifier\n",
    "from sklearn.ensemble import GradientBoostingClassifier\n",
    "from sklearn.ensemble import RandomForestClassifier\n",
    "from sklearn.neighbors import KNeighborsClassifier\n",
    "from sklearn.naive_bayes import GaussianNB\n",
    "from sklearn.gaussian_process import GaussianProcessClassifier\n",
    "from sklearn.gaussian_process.kernels import RBF\n",
    "from sklearn.tree import DecisionTreeClassifier\n",
    "from sklearn.neural_network import MLPClassifier\n",
    "from sklearn.discriminant_analysis import QuadraticDiscriminantAnalysis\n",
    "from sklearn.linear_model import LogisticRegression\n",
    "from sklearn.model_selection import GridSearchCV\n",
    "from sklearn.metrics import accuracy_score, log_loss\n",
    "from sklearn.metrics import confusion_matrix, classification_report"
   ]
  },
  {
   "cell_type": "code",
   "execution_count": 1,
   "id": "6efaa3fc",
   "metadata": {},
   "outputs": [],
   "source": [
    "import pandas as pd"
   ]
  },
  {
   "cell_type": "code",
   "execution_count": 2,
   "id": "3eaf9359",
   "metadata": {},
   "outputs": [],
   "source": [
    "path = '/home/ifte-home/Documents/mental_health/suicide/CSSRS/'"
   ]
  },
  {
   "cell_type": "code",
   "execution_count": 3,
   "id": "35b1feb8",
   "metadata": {},
   "outputs": [],
   "source": [
    "df = pd.read_csv('/home/ifte-home/Documents/mental_health/suicide/CSSRS/500_Reddit_users_posts_labels.csv', encoding = \"ISO-8859-1\")"
   ]
  },
  {
   "cell_type": "code",
   "execution_count": 4,
   "id": "ef5d8e67",
   "metadata": {},
   "outputs": [
    {
     "data": {
      "text/html": [
       "<div>\n",
       "<style scoped>\n",
       "    .dataframe tbody tr th:only-of-type {\n",
       "        vertical-align: middle;\n",
       "    }\n",
       "\n",
       "    .dataframe tbody tr th {\n",
       "        vertical-align: top;\n",
       "    }\n",
       "\n",
       "    .dataframe thead th {\n",
       "        text-align: right;\n",
       "    }\n",
       "</style>\n",
       "<table border=\"1\" class=\"dataframe\">\n",
       "  <thead>\n",
       "    <tr style=\"text-align: right;\">\n",
       "      <th></th>\n",
       "      <th>User</th>\n",
       "      <th>Post</th>\n",
       "      <th>Label</th>\n",
       "    </tr>\n",
       "  </thead>\n",
       "  <tbody>\n",
       "    <tr>\n",
       "      <th>0</th>\n",
       "      <td>user-0</td>\n",
       "      <td>['Its not a viable option, and youll be leavin...</td>\n",
       "      <td>Supportive</td>\n",
       "    </tr>\n",
       "    <tr>\n",
       "      <th>1</th>\n",
       "      <td>user-1</td>\n",
       "      <td>['It can be hard to appreciate the notion that...</td>\n",
       "      <td>Ideation</td>\n",
       "    </tr>\n",
       "    <tr>\n",
       "      <th>2</th>\n",
       "      <td>user-2</td>\n",
       "      <td>['Hi, so last night i was sitting on the ledge...</td>\n",
       "      <td>Behavior</td>\n",
       "    </tr>\n",
       "    <tr>\n",
       "      <th>3</th>\n",
       "      <td>user-3</td>\n",
       "      <td>['I tried to kill my self once and failed badl...</td>\n",
       "      <td>Attempt</td>\n",
       "    </tr>\n",
       "    <tr>\n",
       "      <th>4</th>\n",
       "      <td>user-4</td>\n",
       "      <td>['Hi NEM3030. What sorts of things do you enjo...</td>\n",
       "      <td>Ideation</td>\n",
       "    </tr>\n",
       "    <tr>\n",
       "      <th>...</th>\n",
       "      <td>...</td>\n",
       "      <td>...</td>\n",
       "      <td>...</td>\n",
       "    </tr>\n",
       "    <tr>\n",
       "      <th>495</th>\n",
       "      <td>user-495</td>\n",
       "      <td>['Its not the end, it just feels that way. Or ...</td>\n",
       "      <td>Supportive</td>\n",
       "    </tr>\n",
       "    <tr>\n",
       "      <th>496</th>\n",
       "      <td>user-496</td>\n",
       "      <td>['It was a skype call, but she ended it and Ve...</td>\n",
       "      <td>Indicator</td>\n",
       "    </tr>\n",
       "    <tr>\n",
       "      <th>497</th>\n",
       "      <td>user-497</td>\n",
       "      <td>['That sounds really weird.Maybe you were Dist...</td>\n",
       "      <td>Supportive</td>\n",
       "    </tr>\n",
       "    <tr>\n",
       "      <th>498</th>\n",
       "      <td>user-498</td>\n",
       "      <td>['Dont know there as dumb as it sounds I feel ...</td>\n",
       "      <td>Attempt</td>\n",
       "    </tr>\n",
       "    <tr>\n",
       "      <th>499</th>\n",
       "      <td>user-499</td>\n",
       "      <td>['&amp;gt;It gets better, trust me.Ive spent long ...</td>\n",
       "      <td>Behavior</td>\n",
       "    </tr>\n",
       "  </tbody>\n",
       "</table>\n",
       "<p>500 rows × 3 columns</p>\n",
       "</div>"
      ],
      "text/plain": [
       "         User                                               Post       Label\n",
       "0      user-0  ['Its not a viable option, and youll be leavin...  Supportive\n",
       "1      user-1  ['It can be hard to appreciate the notion that...    Ideation\n",
       "2      user-2  ['Hi, so last night i was sitting on the ledge...    Behavior\n",
       "3      user-3  ['I tried to kill my self once and failed badl...     Attempt\n",
       "4      user-4  ['Hi NEM3030. What sorts of things do you enjo...    Ideation\n",
       "..        ...                                                ...         ...\n",
       "495  user-495  ['Its not the end, it just feels that way. Or ...  Supportive\n",
       "496  user-496  ['It was a skype call, but she ended it and Ve...   Indicator\n",
       "497  user-497  ['That sounds really weird.Maybe you were Dist...  Supportive\n",
       "498  user-498  ['Dont know there as dumb as it sounds I feel ...     Attempt\n",
       "499  user-499  ['&gt;It gets better, trust me.Ive spent long ...    Behavior\n",
       "\n",
       "[500 rows x 3 columns]"
      ]
     },
     "execution_count": 4,
     "metadata": {},
     "output_type": "execute_result"
    }
   ],
   "source": [
    "df"
   ]
  },
  {
   "cell_type": "code",
   "execution_count": 7,
   "id": "55addd70",
   "metadata": {},
   "outputs": [
    {
     "data": {
      "text/plain": [
       "Ideation      171\n",
       "Supportive    108\n",
       "Indicator      99\n",
       "Behavior       77\n",
       "Attempt        45\n",
       "Name: Label, dtype: int64"
      ]
     },
     "execution_count": 7,
     "metadata": {},
     "output_type": "execute_result"
    }
   ],
   "source": [
    "df.Label.value_counts()"
   ]
  },
  {
   "cell_type": "code",
   "execution_count": 3,
   "id": "59a7341e",
   "metadata": {},
   "outputs": [],
   "source": [
    "def generate_dataset(categories, res):\n",
    "    data = []\n",
    "    category = []\n",
    "    for p in res:\n",
    "        data.append(''.join(p))\n",
    "        category.append(categories)\n",
    "\n",
    "    return pd.DataFrame(zip(data,category), columns=['Post', 'Label'])"
   ]
  },
  {
   "cell_type": "code",
   "execution_count": 5,
   "id": "aee594a3",
   "metadata": {},
   "outputs": [],
   "source": [
    "import random \n",
    "categories = ['Attempt']\n",
    "file_names = [ 'suicidal_attempt.csv']\n",
    "\n",
    "sentence_num = 10\n",
    "index = 0\n",
    "dataset = pd.DataFrame()\n",
    "\n",
    "for items in file_names:\n",
    "    frame = pd.read_csv(path+items)\n",
    "    # print(datframe.columns)\n",
    "    col_name = list(frame.columns)\n",
    "    if index==0:\n",
    "        size=4\n",
    "    elif index==1:\n",
    "        size=52\n",
    "    elif index==3:\n",
    "        size=14\n",
    "    else:\n",
    "        size=45\n",
    "    for k in range(size):        \n",
    "        temp = [col_name[i:i+sentence_num] for i in range(0, len(col_name), sentence_num)]\n",
    "        dataset = pd.concat([dataset,generate_dataset(categories[index], temp)])\n",
    "        random.shuffle(col_name)\n",
    "    index+=1\n",
    "#     break\n",
    "dataset = dataset.sample(frac=1)"
   ]
  },
  {
   "cell_type": "code",
   "execution_count": 8,
   "id": "014dea20",
   "metadata": {},
   "outputs": [],
   "source": [
    "categories = ['Indicator', 'Attempt','Behavior','Ideation']\n",
    "file_names = ['suicidal_indicator.csv', \n",
    "              'suicidal_attempt.csv', \n",
    "              'suicidal_behavior.csv', \n",
    "              'suicidal_ideation.csv']\n",
    "\n",
    "sentence_num = 10\n",
    "index = 0\n",
    "dataset = pd.DataFrame()\n",
    "\n",
    "for items in file_names:\n",
    "    frame = pd.read_csv(path+items)\n",
    "    # print(datframe.columns)\n",
    "    col_name = list(frame.columns)\n",
    "    if index==0:\n",
    "        size=4\n",
    "    elif index==1:\n",
    "        size=52\n",
    "    elif index==3:\n",
    "        size=14\n",
    "    else:\n",
    "        size=45\n",
    "    for k in range(size):        \n",
    "        temp = [col_name[i:i+sentence_num] for i in range(0, len(col_name), sentence_num)]\n",
    "        dataset = pd.concat([dataset,generate_dataset(categories[index], temp)])\n",
    "        random.shuffle(col_name)\n",
    "    index+=1\n",
    "#     break\n",
    "dataset = dataset.sample(frac=1)"
   ]
  },
  {
   "cell_type": "code",
   "execution_count": 6,
   "id": "88fc669f",
   "metadata": {},
   "outputs": [
    {
     "data": {
      "text/plain": [
       "Attempt    52\n",
       "Name: Label, dtype: int64"
      ]
     },
     "execution_count": 6,
     "metadata": {},
     "output_type": "execute_result"
    }
   ],
   "source": [
    "dataset.Label.value_counts()"
   ]
  },
  {
   "cell_type": "code",
   "execution_count": 9,
   "id": "9f748f81",
   "metadata": {},
   "outputs": [],
   "source": [
    "dataset.to_csv(path+'Reddit C-SSRS Suicide Attempt labeled Dataset.csv')"
   ]
  },
  {
   "cell_type": "code",
   "execution_count": 9,
   "id": "0f239288",
   "metadata": {},
   "outputs": [],
   "source": [
    "total_dataframe = pd.concat([df,dataset])"
   ]
  },
  {
   "cell_type": "code",
   "execution_count": 10,
   "id": "14666c83",
   "metadata": {},
   "outputs": [
    {
     "data": {
      "text/html": [
       "<div>\n",
       "<style scoped>\n",
       "    .dataframe tbody tr th:only-of-type {\n",
       "        vertical-align: middle;\n",
       "    }\n",
       "\n",
       "    .dataframe tbody tr th {\n",
       "        vertical-align: top;\n",
       "    }\n",
       "\n",
       "    .dataframe thead th {\n",
       "        text-align: right;\n",
       "    }\n",
       "</style>\n",
       "<table border=\"1\" class=\"dataframe\">\n",
       "  <thead>\n",
       "    <tr style=\"text-align: right;\">\n",
       "      <th></th>\n",
       "      <th>User</th>\n",
       "      <th>Post</th>\n",
       "      <th>Label</th>\n",
       "    </tr>\n",
       "  </thead>\n",
       "  <tbody>\n",
       "    <tr>\n",
       "      <th>0</th>\n",
       "      <td>user-0</td>\n",
       "      <td>['Its not a viable option, and youll be leavin...</td>\n",
       "      <td>Supportive</td>\n",
       "    </tr>\n",
       "    <tr>\n",
       "      <th>1</th>\n",
       "      <td>user-1</td>\n",
       "      <td>['It can be hard to appreciate the notion that...</td>\n",
       "      <td>Ideation</td>\n",
       "    </tr>\n",
       "    <tr>\n",
       "      <th>2</th>\n",
       "      <td>user-2</td>\n",
       "      <td>['Hi, so last night i was sitting on the ledge...</td>\n",
       "      <td>Behavior</td>\n",
       "    </tr>\n",
       "    <tr>\n",
       "      <th>3</th>\n",
       "      <td>user-3</td>\n",
       "      <td>['I tried to kill my self once and failed badl...</td>\n",
       "      <td>Attempt</td>\n",
       "    </tr>\n",
       "    <tr>\n",
       "      <th>4</th>\n",
       "      <td>user-4</td>\n",
       "      <td>['Hi NEM3030. What sorts of things do you enjo...</td>\n",
       "      <td>Ideation</td>\n",
       "    </tr>\n",
       "    <tr>\n",
       "      <th>...</th>\n",
       "      <td>...</td>\n",
       "      <td>...</td>\n",
       "      <td>...</td>\n",
       "    </tr>\n",
       "    <tr>\n",
       "      <th>1</th>\n",
       "      <td>NaN</td>\n",
       "      <td>I jumped Suicide or self-injury by placing se...</td>\n",
       "      <td>Attempt</td>\n",
       "    </tr>\n",
       "    <tr>\n",
       "      <th>7</th>\n",
       "      <td>NaN</td>\n",
       "      <td>Suicide or self-injury by jumping from bridge...</td>\n",
       "      <td>Attempt</td>\n",
       "    </tr>\n",
       "    <tr>\n",
       "      <th>11</th>\n",
       "      <td>NaN</td>\n",
       "      <td>Went in the freezer Suicide or self-inflicted...</td>\n",
       "      <td>Attempt</td>\n",
       "    </tr>\n",
       "    <tr>\n",
       "      <th>1</th>\n",
       "      <td>NaN</td>\n",
       "      <td>Involuntary hold Suicide or self-injury by sc...</td>\n",
       "      <td>Attempt</td>\n",
       "    </tr>\n",
       "    <tr>\n",
       "      <th>10</th>\n",
       "      <td>NaN</td>\n",
       "      <td>Died in hospital Died before reaching hospita...</td>\n",
       "      <td>Attempt</td>\n",
       "    </tr>\n",
       "  </tbody>\n",
       "</table>\n",
       "<p>552 rows × 3 columns</p>\n",
       "</div>"
      ],
      "text/plain": [
       "      User                                               Post       Label\n",
       "0   user-0  ['Its not a viable option, and youll be leavin...  Supportive\n",
       "1   user-1  ['It can be hard to appreciate the notion that...    Ideation\n",
       "2   user-2  ['Hi, so last night i was sitting on the ledge...    Behavior\n",
       "3   user-3  ['I tried to kill my self once and failed badl...     Attempt\n",
       "4   user-4  ['Hi NEM3030. What sorts of things do you enjo...    Ideation\n",
       "..     ...                                                ...         ...\n",
       "1      NaN   I jumped Suicide or self-injury by placing se...     Attempt\n",
       "7      NaN   Suicide or self-injury by jumping from bridge...     Attempt\n",
       "11     NaN   Went in the freezer Suicide or self-inflicted...     Attempt\n",
       "1      NaN   Involuntary hold Suicide or self-injury by sc...     Attempt\n",
       "10     NaN   Died in hospital Died before reaching hospita...     Attempt\n",
       "\n",
       "[552 rows x 3 columns]"
      ]
     },
     "execution_count": 10,
     "metadata": {},
     "output_type": "execute_result"
    }
   ],
   "source": [
    "total_dataframe"
   ]
  },
  {
   "cell_type": "code",
   "execution_count": 11,
   "id": "7bbe4620",
   "metadata": {},
   "outputs": [
    {
     "data": {
      "text/plain": [
       "Ideation      171\n",
       "Supportive    108\n",
       "Indicator      99\n",
       "Attempt        97\n",
       "Behavior       77\n",
       "Name: Label, dtype: int64"
      ]
     },
     "execution_count": 11,
     "metadata": {},
     "output_type": "execute_result"
    }
   ],
   "source": [
    "total_dataframe.Label.value_counts()"
   ]
  },
  {
   "cell_type": "code",
   "execution_count": 12,
   "id": "230ac159",
   "metadata": {},
   "outputs": [],
   "source": [
    "total_dataframe = total_dataframe[total_dataframe['Label']!='Supportive']"
   ]
  },
  {
   "cell_type": "code",
   "execution_count": 14,
   "id": "c2ca1c52",
   "metadata": {},
   "outputs": [],
   "source": [
    "total_dataframe = pd.read_csv(path+'Reddit C-SSRS Suicide Dataset.csv', index_col=0)"
   ]
  },
  {
   "cell_type": "code",
   "execution_count": 13,
   "id": "70a05580",
   "metadata": {},
   "outputs": [],
   "source": [
    "total_dataframe = total_dataframe[total_dataframe['Label']=='Attempt']"
   ]
  },
  {
   "cell_type": "markdown",
   "id": "b1c5a549",
   "metadata": {},
   "source": [
    "## Preprocessing of dataset"
   ]
  },
  {
   "cell_type": "code",
   "execution_count": 15,
   "id": "826d1aeb",
   "metadata": {},
   "outputs": [],
   "source": [
    "from ipynb.fs.full.preprocess_text import preprocess"
   ]
  },
  {
   "cell_type": "code",
   "execution_count": 16,
   "id": "f6f6a9e1",
   "metadata": {},
   "outputs": [],
   "source": [
    "total_dataframe['Post'] = total_dataframe.Post.apply(lambda x: preprocess(x))"
   ]
  },
  {
   "cell_type": "code",
   "execution_count": 17,
   "id": "4c82194b",
   "metadata": {},
   "outputs": [],
   "source": [
    "from ipynb.fs.full import preprocess_dataset"
   ]
  },
  {
   "cell_type": "code",
   "execution_count": null,
   "id": "1108a3bd",
   "metadata": {},
   "outputs": [],
   "source": [
    "total_dataframe = preprocess_dataset()"
   ]
  },
  {
   "cell_type": "code",
   "execution_count": 18,
   "id": "0a28969f",
   "metadata": {},
   "outputs": [],
   "source": [
    "total_dataframe['processed'] = total_dataframe.Post.apply(lambda x: preprocess(x))"
   ]
  },
  {
   "cell_type": "code",
   "execution_count": 18,
   "id": "51fab5e5",
   "metadata": {},
   "outputs": [],
   "source": [
    "total_dataframe = total_dataframe[['Post', 'Label']]"
   ]
  },
  {
   "cell_type": "code",
   "execution_count": 20,
   "id": "70d64274",
   "metadata": {},
   "outputs": [],
   "source": [
    "total_dataframe.to_csv(path+'Reddit C-SSRS Suicide Attempt Dataset.csv')"
   ]
  },
  {
   "cell_type": "code",
   "execution_count": 42,
   "id": "c7082310",
   "metadata": {},
   "outputs": [],
   "source": [
    "total_dataframe.to_csv(path+'Reddit C-SSRS Suicide Dataset.csv')"
   ]
  },
  {
   "cell_type": "code",
   "execution_count": 11,
   "id": "14621a01",
   "metadata": {},
   "outputs": [],
   "source": [
    "import pandas as pd"
   ]
  },
  {
   "cell_type": "code",
   "execution_count": 12,
   "id": "4bd51bf6",
   "metadata": {},
   "outputs": [],
   "source": [
    "df = pd.read_csv(path+'Reddit C-SSRS Suicide Dataset.csv', index_col=0)"
   ]
  },
  {
   "cell_type": "code",
   "execution_count": 30,
   "id": "178ba28e",
   "metadata": {},
   "outputs": [],
   "source": [
    "df = total_dataframe"
   ]
  },
  {
   "cell_type": "code",
   "execution_count": 14,
   "id": "ce8668c7",
   "metadata": {},
   "outputs": [],
   "source": [
    "from sklearn.preprocessing import LabelEncoder\n",
    "Le = LabelEncoder()\n",
    "df['code'] = Le.fit_transform(df['Label'])"
   ]
  },
  {
   "cell_type": "code",
   "execution_count": 7,
   "id": "679c356c",
   "metadata": {},
   "outputs": [
    {
     "ename": "NameError",
     "evalue": "name 'df' is not defined",
     "output_type": "error",
     "traceback": [
      "\u001b[0;31m---------------------------------------------------------------------------\u001b[0m",
      "\u001b[0;31mNameError\u001b[0m                                 Traceback (most recent call last)",
      "\u001b[0;32m/tmp/ipykernel_5796/2526182337.py\u001b[0m in \u001b[0;36m<module>\u001b[0;34m\u001b[0m\n\u001b[0;32m----> 1\u001b[0;31m \u001b[0mdf\u001b[0m\u001b[0;34m.\u001b[0m\u001b[0mto_csv\u001b[0m\u001b[0;34m(\u001b[0m\u001b[0mpath\u001b[0m\u001b[0;34m+\u001b[0m\u001b[0;34m'Reddit C-SSRS Suicide Dataset.csv'\u001b[0m\u001b[0;34m)\u001b[0m\u001b[0;34m\u001b[0m\u001b[0;34m\u001b[0m\u001b[0m\n\u001b[0m",
      "\u001b[0;31mNameError\u001b[0m: name 'df' is not defined"
     ]
    }
   ],
   "source": [
    "df.to_csv(path+'Reddit C-SSRS Suicide Dataset.csv')"
   ]
  },
  {
   "cell_type": "code",
   "execution_count": 15,
   "id": "4215293a",
   "metadata": {},
   "outputs": [
    {
     "data": {
      "text/html": [
       "<div>\n",
       "<style scoped>\n",
       "    .dataframe tbody tr th:only-of-type {\n",
       "        vertical-align: middle;\n",
       "    }\n",
       "\n",
       "    .dataframe tbody tr th {\n",
       "        vertical-align: top;\n",
       "    }\n",
       "\n",
       "    .dataframe thead th {\n",
       "        text-align: right;\n",
       "    }\n",
       "</style>\n",
       "<table border=\"1\" class=\"dataframe\">\n",
       "  <thead>\n",
       "    <tr style=\"text-align: right;\">\n",
       "      <th></th>\n",
       "      <th>User</th>\n",
       "      <th>Post</th>\n",
       "      <th>Label</th>\n",
       "      <th>processed</th>\n",
       "      <th>code</th>\n",
       "    </tr>\n",
       "  </thead>\n",
       "  <tbody>\n",
       "    <tr>\n",
       "      <th>1</th>\n",
       "      <td>user-1</td>\n",
       "      <td>['It can be hard to appreciate the notion that...</td>\n",
       "      <td>Ideation</td>\n",
       "      <td>hard appreci notion could meet someon els make...</td>\n",
       "      <td>2</td>\n",
       "    </tr>\n",
       "    <tr>\n",
       "      <th>2</th>\n",
       "      <td>user-2</td>\n",
       "      <td>['Hi, so last night i was sitting on the ledge...</td>\n",
       "      <td>Behavior</td>\n",
       "      <td>hi last night wa sit ledg window contempl whet...</td>\n",
       "      <td>1</td>\n",
       "    </tr>\n",
       "    <tr>\n",
       "      <th>3</th>\n",
       "      <td>user-3</td>\n",
       "      <td>['I tried to kill my self once and failed badl...</td>\n",
       "      <td>Attempt</td>\n",
       "      <td>tri kill self onc fail badli caus moment want ...</td>\n",
       "      <td>0</td>\n",
       "    </tr>\n",
       "    <tr>\n",
       "      <th>4</th>\n",
       "      <td>user-4</td>\n",
       "      <td>['Hi NEM3030. What sorts of things do you enjo...</td>\n",
       "      <td>Ideation</td>\n",
       "      <td>hi nem sort thing enjoy person alway welcom mu...</td>\n",
       "      <td>2</td>\n",
       "    </tr>\n",
       "    <tr>\n",
       "      <th>7</th>\n",
       "      <td>user-7</td>\n",
       "      <td>['Dont see it as failing at killing yourself, ...</td>\n",
       "      <td>Ideation</td>\n",
       "      <td>dont see fail kill reason whi live someth eart...</td>\n",
       "      <td>2</td>\n",
       "    </tr>\n",
       "    <tr>\n",
       "      <th>...</th>\n",
       "      <td>...</td>\n",
       "      <td>...</td>\n",
       "      <td>...</td>\n",
       "      <td>...</td>\n",
       "      <td>...</td>\n",
       "    </tr>\n",
       "    <tr>\n",
       "      <th>73</th>\n",
       "      <td>NaN</td>\n",
       "      <td>Phencyclidine induced mental problem Tolerant...</td>\n",
       "      <td>Indicator</td>\n",
       "      <td>phencyclidin induc mental problem toler metal ...</td>\n",
       "      <td>3</td>\n",
       "    </tr>\n",
       "    <tr>\n",
       "      <th>10</th>\n",
       "      <td>NaN</td>\n",
       "      <td>Assault by corrosive substance incomplete att...</td>\n",
       "      <td>Behavior</td>\n",
       "      <td>assault corros substanc incomplet attempt buy ...</td>\n",
       "      <td>1</td>\n",
       "    </tr>\n",
       "    <tr>\n",
       "      <th>17</th>\n",
       "      <td>NaN</td>\n",
       "      <td>Skin disorder due to physical agent or foreig...</td>\n",
       "      <td>Indicator</td>\n",
       "      <td>skin disord due physic agent foreign substanc ...</td>\n",
       "      <td>3</td>\n",
       "    </tr>\n",
       "    <tr>\n",
       "      <th>108</th>\n",
       "      <td>NaN</td>\n",
       "      <td>Family history of neurological disorder Hodgk...</td>\n",
       "      <td>Indicator</td>\n",
       "      <td>famili histori neurolog disord hodgkin diseas ...</td>\n",
       "      <td>3</td>\n",
       "    </tr>\n",
       "    <tr>\n",
       "      <th>38</th>\n",
       "      <td>NaN</td>\n",
       "      <td>Senile dementia with delirium Stress incontin...</td>\n",
       "      <td>Ideation</td>\n",
       "      <td>senil dementia delirium stress incontin commit...</td>\n",
       "      <td>2</td>\n",
       "    </tr>\n",
       "  </tbody>\n",
       "</table>\n",
       "<p>3282 rows × 5 columns</p>\n",
       "</div>"
      ],
      "text/plain": [
       "       User                                               Post      Label  \\\n",
       "1    user-1  ['It can be hard to appreciate the notion that...   Ideation   \n",
       "2    user-2  ['Hi, so last night i was sitting on the ledge...   Behavior   \n",
       "3    user-3  ['I tried to kill my self once and failed badl...    Attempt   \n",
       "4    user-4  ['Hi NEM3030. What sorts of things do you enjo...   Ideation   \n",
       "7    user-7  ['Dont see it as failing at killing yourself, ...   Ideation   \n",
       "..      ...                                                ...        ...   \n",
       "73      NaN   Phencyclidine induced mental problem Tolerant...  Indicator   \n",
       "10      NaN   Assault by corrosive substance incomplete att...   Behavior   \n",
       "17      NaN   Skin disorder due to physical agent or foreig...  Indicator   \n",
       "108     NaN   Family history of neurological disorder Hodgk...  Indicator   \n",
       "38      NaN   Senile dementia with delirium Stress incontin...   Ideation   \n",
       "\n",
       "                                             processed  code  \n",
       "1    hard appreci notion could meet someon els make...     2  \n",
       "2    hi last night wa sit ledg window contempl whet...     1  \n",
       "3    tri kill self onc fail badli caus moment want ...     0  \n",
       "4    hi nem sort thing enjoy person alway welcom mu...     2  \n",
       "7    dont see fail kill reason whi live someth eart...     2  \n",
       "..                                                 ...   ...  \n",
       "73   phencyclidin induc mental problem toler metal ...     3  \n",
       "10   assault corros substanc incomplet attempt buy ...     1  \n",
       "17   skin disord due physic agent foreign substanc ...     3  \n",
       "108  famili histori neurolog disord hodgkin diseas ...     3  \n",
       "38   senil dementia delirium stress incontin commit...     2  \n",
       "\n",
       "[3282 rows x 5 columns]"
      ]
     },
     "execution_count": 15,
     "metadata": {},
     "output_type": "execute_result"
    }
   ],
   "source": [
    "df"
   ]
  },
  {
   "cell_type": "code",
   "execution_count": 25,
   "id": "c88fad2f",
   "metadata": {},
   "outputs": [],
   "source": [
    "from sklearn.preprocessing import FunctionTransformer"
   ]
  },
  {
   "cell_type": "code",
   "execution_count": 27,
   "id": "5c738d66",
   "metadata": {},
   "outputs": [],
   "source": [
    "pipeline = Pipeline([('vect', CountVectorizer()), ('tfidf', TfidfTransformer())])\n",
    "\n",
    "vectorized_data = pipeline.fit_transform(df['processed'])\n",
    "\n",
    "n_x_train, n_x_val, n_y_train, n_y_val = train_test_split(vectorized_data, \n",
    "                                                    df.code, test_size=0.2, \n",
    "                                                    random_state=0)"
   ]
  },
  {
   "cell_type": "code",
   "execution_count": 33,
   "id": "c6d3209d",
   "metadata": {},
   "outputs": [
    {
     "ename": "AttributeError",
     "evalue": "'matrix' object has no attribute 'todense'",
     "output_type": "error",
     "traceback": [
      "\u001b[0;31m---------------------------------------------------------------------------\u001b[0m",
      "\u001b[0;31mAttributeError\u001b[0m                            Traceback (most recent call last)",
      "\u001b[0;32m/tmp/ipykernel_5796/597153940.py\u001b[0m in \u001b[0;36m<module>\u001b[0;34m\u001b[0m\n\u001b[0;32m----> 1\u001b[0;31m \u001b[0mn_x_train\u001b[0m \u001b[0;34m=\u001b[0m \u001b[0mn_x_train\u001b[0m\u001b[0;34m.\u001b[0m\u001b[0mtodense\u001b[0m\u001b[0;34m(\u001b[0m\u001b[0;34m)\u001b[0m\u001b[0;34m\u001b[0m\u001b[0;34m\u001b[0m\u001b[0m\n\u001b[0m",
      "\u001b[0;31mAttributeError\u001b[0m: 'matrix' object has no attribute 'todense'"
     ]
    }
   ],
   "source": [
    "n_x_train = n_x_train.todense()"
   ]
  },
  {
   "cell_type": "code",
   "execution_count": null,
   "id": "36986db8",
   "metadata": {},
   "outputs": [],
   "source": []
  },
  {
   "cell_type": "markdown",
   "id": "54e7b3f5",
   "metadata": {},
   "source": [
    "## Applying Grid searching in classifiers"
   ]
  },
  {
   "cell_type": "code",
   "execution_count": 71,
   "id": "54ec8727",
   "metadata": {},
   "outputs": [],
   "source": [
    "seed=1\n",
    "models = [\n",
    "#             'ADB',\n",
    "            'GBC',\n",
    "            'RFC',\n",
    "            'KNC',\n",
    "            'SVC',\n",
    "            'logisticRegression'\n",
    "         ]\n",
    "clfs = [\n",
    "#         AdaBoostClassifier(random_state=seed),\n",
    "        GradientBoostingClassifier(random_state=seed),\n",
    "        RandomForestClassifier(random_state=seed,n_jobs=-1),\n",
    "        KNeighborsClassifier(n_jobs=-1),\n",
    "        SVC(random_state=seed,probability=True),\n",
    "        LogisticRegression(solver='newton-cg', multi_class='multinomial')\n",
    "        ]\n",
    "params = {\n",
    "#             models[0]:{'learning_rate':[0.01], 'n_estimators':[150]},\n",
    "            models[0]:{'learning_rate':[0.01],'n_estimators':[100], 'max_depth':[3],\n",
    "                       'min_samples_split':[2],'min_samples_leaf': [2]},\n",
    "            models[1]:{'n_estimators':[100], 'criterion':['gini'],'min_samples_split':[2],\n",
    "                      'min_samples_leaf': [4]},\n",
    "            models[2]:{'n_neighbors':[5], 'weights':['distance'],'leaf_size':[15]},\n",
    "            models[3]: {'C':[100], 'tol': [0.005],\n",
    "                       'kernel':['sigmoid']},\n",
    "            models[4]: {'C':[2000], 'tol': [0.0001]}\n",
    "         }"
   ]
  },
  {
   "cell_type": "code",
   "execution_count": 72,
   "id": "ef0cbc0d",
   "metadata": {
    "collapsed": true
   },
   "outputs": [
    {
     "name": "stdout",
     "output_type": "stream",
     "text": [
      "GBC\n"
     ]
    },
    {
     "ename": "KeyboardInterrupt",
     "evalue": "",
     "output_type": "error",
     "traceback": [
      "\u001b[0;31m---------------------------------------------------------------------------\u001b[0m",
      "\u001b[0;31mKeyboardInterrupt\u001b[0m                         Traceback (most recent call last)",
      "\u001b[0;32m/tmp/ipykernel_7458/1807301659.py\u001b[0m in \u001b[0;36m<module>\u001b[0;34m\u001b[0m\n\u001b[1;32m      4\u001b[0m     \u001b[0mprint\u001b[0m\u001b[0;34m(\u001b[0m\u001b[0mname\u001b[0m\u001b[0;34m)\u001b[0m\u001b[0;34m\u001b[0m\u001b[0;34m\u001b[0m\u001b[0m\n\u001b[1;32m      5\u001b[0m     \u001b[0mclf\u001b[0m \u001b[0;34m=\u001b[0m \u001b[0mGridSearchCV\u001b[0m\u001b[0;34m(\u001b[0m\u001b[0mestimator\u001b[0m\u001b[0;34m,\u001b[0m \u001b[0mparams\u001b[0m\u001b[0;34m[\u001b[0m\u001b[0mname\u001b[0m\u001b[0;34m]\u001b[0m\u001b[0;34m,\u001b[0m \u001b[0mrefit\u001b[0m\u001b[0;34m=\u001b[0m\u001b[0;34m'True'\u001b[0m\u001b[0;34m,\u001b[0m \u001b[0mn_jobs\u001b[0m\u001b[0;34m=\u001b[0m\u001b[0;34m-\u001b[0m\u001b[0;36m1\u001b[0m\u001b[0;34m,\u001b[0m \u001b[0mcv\u001b[0m\u001b[0;34m=\u001b[0m\u001b[0;36m5\u001b[0m\u001b[0;34m)\u001b[0m\u001b[0;34m\u001b[0m\u001b[0;34m\u001b[0m\u001b[0m\n\u001b[0;32m----> 6\u001b[0;31m     \u001b[0mclf\u001b[0m\u001b[0;34m.\u001b[0m\u001b[0mfit\u001b[0m\u001b[0;34m(\u001b[0m\u001b[0mn_x_train\u001b[0m\u001b[0;34m,\u001b[0m \u001b[0mn_y_train\u001b[0m\u001b[0;34m)\u001b[0m\u001b[0;34m\u001b[0m\u001b[0;34m\u001b[0m\u001b[0m\n\u001b[0m\u001b[1;32m      7\u001b[0m \u001b[0;34m\u001b[0m\u001b[0m\n\u001b[1;32m      8\u001b[0m     \u001b[0mprint\u001b[0m\u001b[0;34m(\u001b[0m\u001b[0;34m\"best params: \"\u001b[0m \u001b[0;34m+\u001b[0m \u001b[0mstr\u001b[0m\u001b[0;34m(\u001b[0m\u001b[0mclf\u001b[0m\u001b[0;34m.\u001b[0m\u001b[0mbest_params_\u001b[0m\u001b[0;34m)\u001b[0m\u001b[0;34m)\u001b[0m\u001b[0;34m\u001b[0m\u001b[0;34m\u001b[0m\u001b[0m\n",
      "\u001b[0;32m~/venvs/exp-Env/lib/python3.7/site-packages/sklearn/model_selection/_search.py\u001b[0m in \u001b[0;36mfit\u001b[0;34m(self, X, y, groups, **fit_params)\u001b[0m\n\u001b[1;32m    924\u001b[0m             \u001b[0mrefit_start_time\u001b[0m \u001b[0;34m=\u001b[0m \u001b[0mtime\u001b[0m\u001b[0;34m.\u001b[0m\u001b[0mtime\u001b[0m\u001b[0;34m(\u001b[0m\u001b[0;34m)\u001b[0m\u001b[0;34m\u001b[0m\u001b[0;34m\u001b[0m\u001b[0m\n\u001b[1;32m    925\u001b[0m             \u001b[0;32mif\u001b[0m \u001b[0my\u001b[0m \u001b[0;32mis\u001b[0m \u001b[0;32mnot\u001b[0m \u001b[0;32mNone\u001b[0m\u001b[0;34m:\u001b[0m\u001b[0;34m\u001b[0m\u001b[0;34m\u001b[0m\u001b[0m\n\u001b[0;32m--> 926\u001b[0;31m                 \u001b[0mself\u001b[0m\u001b[0;34m.\u001b[0m\u001b[0mbest_estimator_\u001b[0m\u001b[0;34m.\u001b[0m\u001b[0mfit\u001b[0m\u001b[0;34m(\u001b[0m\u001b[0mX\u001b[0m\u001b[0;34m,\u001b[0m \u001b[0my\u001b[0m\u001b[0;34m,\u001b[0m \u001b[0;34m**\u001b[0m\u001b[0mfit_params\u001b[0m\u001b[0;34m)\u001b[0m\u001b[0;34m\u001b[0m\u001b[0;34m\u001b[0m\u001b[0m\n\u001b[0m\u001b[1;32m    927\u001b[0m             \u001b[0;32melse\u001b[0m\u001b[0;34m:\u001b[0m\u001b[0;34m\u001b[0m\u001b[0;34m\u001b[0m\u001b[0m\n\u001b[1;32m    928\u001b[0m                 \u001b[0mself\u001b[0m\u001b[0;34m.\u001b[0m\u001b[0mbest_estimator_\u001b[0m\u001b[0;34m.\u001b[0m\u001b[0mfit\u001b[0m\u001b[0;34m(\u001b[0m\u001b[0mX\u001b[0m\u001b[0;34m,\u001b[0m \u001b[0;34m**\u001b[0m\u001b[0mfit_params\u001b[0m\u001b[0;34m)\u001b[0m\u001b[0;34m\u001b[0m\u001b[0;34m\u001b[0m\u001b[0m\n",
      "\u001b[0;32m~/venvs/exp-Env/lib/python3.7/site-packages/sklearn/ensemble/_gb.py\u001b[0m in \u001b[0;36mfit\u001b[0;34m(self, X, y, sample_weight, monitor)\u001b[0m\n\u001b[1;32m    594\u001b[0m             \u001b[0msample_weight_val\u001b[0m\u001b[0;34m,\u001b[0m\u001b[0;34m\u001b[0m\u001b[0;34m\u001b[0m\u001b[0m\n\u001b[1;32m    595\u001b[0m             \u001b[0mbegin_at_stage\u001b[0m\u001b[0;34m,\u001b[0m\u001b[0;34m\u001b[0m\u001b[0;34m\u001b[0m\u001b[0m\n\u001b[0;32m--> 596\u001b[0;31m             \u001b[0mmonitor\u001b[0m\u001b[0;34m,\u001b[0m\u001b[0;34m\u001b[0m\u001b[0;34m\u001b[0m\u001b[0m\n\u001b[0m\u001b[1;32m    597\u001b[0m         )\n\u001b[1;32m    598\u001b[0m \u001b[0;34m\u001b[0m\u001b[0m\n",
      "\u001b[0;32m~/venvs/exp-Env/lib/python3.7/site-packages/sklearn/ensemble/_gb.py\u001b[0m in \u001b[0;36m_fit_stages\u001b[0;34m(self, X, y, raw_predictions, sample_weight, random_state, X_val, y_val, sample_weight_val, begin_at_stage, monitor)\u001b[0m\n\u001b[1;32m    670\u001b[0m                 \u001b[0mrandom_state\u001b[0m\u001b[0;34m,\u001b[0m\u001b[0;34m\u001b[0m\u001b[0;34m\u001b[0m\u001b[0m\n\u001b[1;32m    671\u001b[0m                 \u001b[0mX_csc\u001b[0m\u001b[0;34m,\u001b[0m\u001b[0;34m\u001b[0m\u001b[0;34m\u001b[0m\u001b[0m\n\u001b[0;32m--> 672\u001b[0;31m                 \u001b[0mX_csr\u001b[0m\u001b[0;34m,\u001b[0m\u001b[0;34m\u001b[0m\u001b[0;34m\u001b[0m\u001b[0m\n\u001b[0m\u001b[1;32m    673\u001b[0m             )\n\u001b[1;32m    674\u001b[0m \u001b[0;34m\u001b[0m\u001b[0m\n",
      "\u001b[0;32m~/venvs/exp-Env/lib/python3.7/site-packages/sklearn/ensemble/_gb.py\u001b[0m in \u001b[0;36m_fit_stage\u001b[0;34m(self, i, X, y, raw_predictions, sample_weight, sample_mask, random_state, X_csc, X_csr)\u001b[0m\n\u001b[1;32m    244\u001b[0m \u001b[0;34m\u001b[0m\u001b[0m\n\u001b[1;32m    245\u001b[0m             \u001b[0mX\u001b[0m \u001b[0;34m=\u001b[0m \u001b[0mX_csr\u001b[0m \u001b[0;32mif\u001b[0m \u001b[0mX_csr\u001b[0m \u001b[0;32mis\u001b[0m \u001b[0;32mnot\u001b[0m \u001b[0;32mNone\u001b[0m \u001b[0;32melse\u001b[0m \u001b[0mX\u001b[0m\u001b[0;34m\u001b[0m\u001b[0;34m\u001b[0m\u001b[0m\n\u001b[0;32m--> 246\u001b[0;31m             \u001b[0mtree\u001b[0m\u001b[0;34m.\u001b[0m\u001b[0mfit\u001b[0m\u001b[0;34m(\u001b[0m\u001b[0mX\u001b[0m\u001b[0;34m,\u001b[0m \u001b[0mresidual\u001b[0m\u001b[0;34m,\u001b[0m \u001b[0msample_weight\u001b[0m\u001b[0;34m=\u001b[0m\u001b[0msample_weight\u001b[0m\u001b[0;34m,\u001b[0m \u001b[0mcheck_input\u001b[0m\u001b[0;34m=\u001b[0m\u001b[0;32mFalse\u001b[0m\u001b[0;34m)\u001b[0m\u001b[0;34m\u001b[0m\u001b[0;34m\u001b[0m\u001b[0m\n\u001b[0m\u001b[1;32m    247\u001b[0m \u001b[0;34m\u001b[0m\u001b[0m\n\u001b[1;32m    248\u001b[0m             \u001b[0;31m# update tree leaves\u001b[0m\u001b[0;34m\u001b[0m\u001b[0;34m\u001b[0m\u001b[0;34m\u001b[0m\u001b[0m\n",
      "\u001b[0;32m~/venvs/exp-Env/lib/python3.7/site-packages/sklearn/tree/_classes.py\u001b[0m in \u001b[0;36mfit\u001b[0;34m(self, X, y, sample_weight, check_input, X_idx_sorted)\u001b[0m\n\u001b[1;32m   1318\u001b[0m             \u001b[0msample_weight\u001b[0m\u001b[0;34m=\u001b[0m\u001b[0msample_weight\u001b[0m\u001b[0;34m,\u001b[0m\u001b[0;34m\u001b[0m\u001b[0;34m\u001b[0m\u001b[0m\n\u001b[1;32m   1319\u001b[0m             \u001b[0mcheck_input\u001b[0m\u001b[0;34m=\u001b[0m\u001b[0mcheck_input\u001b[0m\u001b[0;34m,\u001b[0m\u001b[0;34m\u001b[0m\u001b[0;34m\u001b[0m\u001b[0m\n\u001b[0;32m-> 1320\u001b[0;31m             \u001b[0mX_idx_sorted\u001b[0m\u001b[0;34m=\u001b[0m\u001b[0mX_idx_sorted\u001b[0m\u001b[0;34m,\u001b[0m\u001b[0;34m\u001b[0m\u001b[0;34m\u001b[0m\u001b[0m\n\u001b[0m\u001b[1;32m   1321\u001b[0m         )\n\u001b[1;32m   1322\u001b[0m         \u001b[0;32mreturn\u001b[0m \u001b[0mself\u001b[0m\u001b[0;34m\u001b[0m\u001b[0;34m\u001b[0m\u001b[0m\n",
      "\u001b[0;32m~/venvs/exp-Env/lib/python3.7/site-packages/sklearn/tree/_classes.py\u001b[0m in \u001b[0;36mfit\u001b[0;34m(self, X, y, sample_weight, check_input, X_idx_sorted)\u001b[0m\n\u001b[1;32m    418\u001b[0m             )\n\u001b[1;32m    419\u001b[0m \u001b[0;34m\u001b[0m\u001b[0m\n\u001b[0;32m--> 420\u001b[0;31m         \u001b[0mbuilder\u001b[0m\u001b[0;34m.\u001b[0m\u001b[0mbuild\u001b[0m\u001b[0;34m(\u001b[0m\u001b[0mself\u001b[0m\u001b[0;34m.\u001b[0m\u001b[0mtree_\u001b[0m\u001b[0;34m,\u001b[0m \u001b[0mX\u001b[0m\u001b[0;34m,\u001b[0m \u001b[0my\u001b[0m\u001b[0;34m,\u001b[0m \u001b[0msample_weight\u001b[0m\u001b[0;34m)\u001b[0m\u001b[0;34m\u001b[0m\u001b[0;34m\u001b[0m\u001b[0m\n\u001b[0m\u001b[1;32m    421\u001b[0m \u001b[0;34m\u001b[0m\u001b[0m\n\u001b[1;32m    422\u001b[0m         \u001b[0;32mif\u001b[0m \u001b[0mself\u001b[0m\u001b[0;34m.\u001b[0m\u001b[0mn_outputs_\u001b[0m \u001b[0;34m==\u001b[0m \u001b[0;36m1\u001b[0m \u001b[0;32mand\u001b[0m \u001b[0mis_classifier\u001b[0m\u001b[0;34m(\u001b[0m\u001b[0mself\u001b[0m\u001b[0;34m)\u001b[0m\u001b[0;34m:\u001b[0m\u001b[0;34m\u001b[0m\u001b[0;34m\u001b[0m\u001b[0m\n",
      "\u001b[0;31mKeyboardInterrupt\u001b[0m: "
     ]
    }
   ],
   "source": [
    "test_scores = []\n",
    "\n",
    "for name, estimator in zip(models,clfs):\n",
    "    print(name)\n",
    "    clf = GridSearchCV(estimator, params[name], refit='True', n_jobs=-1, cv=5)\n",
    "    clf.fit(n_x_train, n_y_train)\n",
    "\n",
    "    print(\"best params: \" + str(clf.best_params_))\n",
    "    print(\"best scores: \" + str(clf.best_score_))\n",
    "    estimates = clf.predict_proba(n_x_val)\n",
    "    acc = accuracy_score(n_y_val, clf.predict(n_x_val))\n",
    "    print(\"Accuracy: {:.4%}\".format(acc))\n",
    "    \n",
    "    test_scores.append((acc,clf.best_score_))"
   ]
  },
  {
   "cell_type": "code",
   "execution_count": 73,
   "id": "d1c0700f",
   "metadata": {
    "collapsed": true
   },
   "outputs": [
    {
     "name": "stdout",
     "output_type": "stream",
     "text": [
      "Fitting 5 folds for each of 4 candidates, totalling 20 fits\n",
      "[CV 1/5] END ...degree=2, gamma=0.2, kernel=rbf;, score=0.507 total time=   7.7s\n",
      "[CV 2/5] END ...degree=2, gamma=0.2, kernel=rbf;, score=0.558 total time=   5.2s\n",
      "[CV 3/5] END ...degree=2, gamma=0.2, kernel=rbf;, score=0.529 total time=   4.9s\n",
      "[CV 4/5] END ...degree=2, gamma=0.2, kernel=rbf;, score=0.587 total time=   5.0s\n",
      "[CV 5/5] END ...degree=2, gamma=0.2, kernel=rbf;, score=0.577 total time=   5.2s\n",
      "[CV 1/5] END ...degree=2, gamma=0.4, kernel=rbf;, score=0.514 total time=   5.1s\n",
      "[CV 2/5] END ...degree=2, gamma=0.4, kernel=rbf;, score=0.558 total time=   5.1s\n",
      "[CV 3/5] END ...degree=2, gamma=0.4, kernel=rbf;, score=0.565 total time=   5.2s\n",
      "[CV 4/5] END ...degree=2, gamma=0.4, kernel=rbf;, score=0.594 total time=   5.2s\n",
      "[CV 5/5] END ...degree=2, gamma=0.4, kernel=rbf;, score=0.591 total time=   5.3s\n",
      "[CV 1/5] END ...degree=2, gamma=0.7, kernel=rbf;, score=0.522 total time=   5.5s\n",
      "[CV 2/5] END ...degree=2, gamma=0.7, kernel=rbf;, score=0.558 total time=   5.6s\n",
      "[CV 3/5] END ...degree=2, gamma=0.7, kernel=rbf;, score=0.551 total time=   5.6s\n",
      "[CV 4/5] END ...degree=2, gamma=0.7, kernel=rbf;, score=0.594 total time=   6.2s\n",
      "[CV 5/5] END ...degree=2, gamma=0.7, kernel=rbf;, score=0.599 total time=   5.7s\n",
      "[CV 1/5] END .....degree=2, gamma=2, kernel=rbf;, score=0.514 total time=   6.6s\n",
      "[CV 2/5] END .....degree=2, gamma=2, kernel=rbf;, score=0.543 total time=   6.9s\n",
      "[CV 3/5] END .....degree=2, gamma=2, kernel=rbf;, score=0.507 total time=   6.6s\n",
      "[CV 4/5] END .....degree=2, gamma=2, kernel=rbf;, score=0.529 total time=   6.4s\n",
      "[CV 5/5] END .....degree=2, gamma=2, kernel=rbf;, score=0.526 total time=   6.3s\n",
      "best params: {'degree': 2, 'gamma': 0.7, 'kernel': 'rbf'}\n",
      "best scores: 0.5646355654289643\n"
     ]
    },
    {
     "ename": "AttributeError",
     "evalue": "predict_proba is not available when  probability=False",
     "output_type": "error",
     "traceback": [
      "\u001b[0;31m---------------------------------------------------------------------------\u001b[0m",
      "\u001b[0;31mAttributeError\u001b[0m                            Traceback (most recent call last)",
      "\u001b[0;32m/tmp/ipykernel_7458/2071320046.py\u001b[0m in \u001b[0;36m<module>\u001b[0;34m\u001b[0m\n\u001b[1;32m      8\u001b[0m \u001b[0mprint\u001b[0m\u001b[0;34m(\u001b[0m\u001b[0;34m\"best params: \"\u001b[0m \u001b[0;34m+\u001b[0m \u001b[0mstr\u001b[0m\u001b[0;34m(\u001b[0m\u001b[0mclf\u001b[0m\u001b[0;34m.\u001b[0m\u001b[0mbest_params_\u001b[0m\u001b[0;34m)\u001b[0m\u001b[0;34m)\u001b[0m\u001b[0;34m\u001b[0m\u001b[0;34m\u001b[0m\u001b[0m\n\u001b[1;32m      9\u001b[0m \u001b[0mprint\u001b[0m\u001b[0;34m(\u001b[0m\u001b[0;34m\"best scores: \"\u001b[0m \u001b[0;34m+\u001b[0m \u001b[0mstr\u001b[0m\u001b[0;34m(\u001b[0m\u001b[0mclf\u001b[0m\u001b[0;34m.\u001b[0m\u001b[0mbest_score_\u001b[0m\u001b[0;34m)\u001b[0m\u001b[0;34m)\u001b[0m\u001b[0;34m\u001b[0m\u001b[0;34m\u001b[0m\u001b[0m\n\u001b[0;32m---> 10\u001b[0;31m \u001b[0mestimates\u001b[0m \u001b[0;34m=\u001b[0m \u001b[0mclf\u001b[0m\u001b[0;34m.\u001b[0m\u001b[0mpredict_proba\u001b[0m\u001b[0;34m(\u001b[0m\u001b[0mn_x_val\u001b[0m\u001b[0;34m)\u001b[0m\u001b[0;34m\u001b[0m\u001b[0;34m\u001b[0m\u001b[0m\n\u001b[0m\u001b[1;32m     11\u001b[0m \u001b[0macc\u001b[0m \u001b[0;34m=\u001b[0m \u001b[0maccuracy_score\u001b[0m\u001b[0;34m(\u001b[0m\u001b[0mn_y_val\u001b[0m\u001b[0;34m,\u001b[0m \u001b[0mclf\u001b[0m\u001b[0;34m.\u001b[0m\u001b[0mpredict\u001b[0m\u001b[0;34m(\u001b[0m\u001b[0mn_x_val\u001b[0m\u001b[0;34m)\u001b[0m\u001b[0;34m)\u001b[0m\u001b[0;34m\u001b[0m\u001b[0;34m\u001b[0m\u001b[0m\n\u001b[1;32m     12\u001b[0m \u001b[0mprint\u001b[0m\u001b[0;34m(\u001b[0m\u001b[0;34m'Predict_prob'\u001b[0m\u001b[0;34m,\u001b[0m \u001b[0mestimates\u001b[0m \u001b[0;34m,\u001b[0m \u001b[0;34m\"Accuracy: {:.4%}\"\u001b[0m\u001b[0;34m.\u001b[0m\u001b[0mformat\u001b[0m\u001b[0;34m(\u001b[0m\u001b[0macc\u001b[0m\u001b[0;34m)\u001b[0m\u001b[0;34m)\u001b[0m\u001b[0;34m\u001b[0m\u001b[0;34m\u001b[0m\u001b[0m\n",
      "\u001b[0;32m~/venvs/exp-Env/lib/python3.7/site-packages/sklearn/utils/metaestimators.py\u001b[0m in \u001b[0;36m__get__\u001b[0;34m(self, obj, owner)\u001b[0m\n\u001b[1;32m    107\u001b[0m             \u001b[0;31m# delegate only on instances, not the classes.\u001b[0m\u001b[0;34m\u001b[0m\u001b[0;34m\u001b[0m\u001b[0;34m\u001b[0m\u001b[0m\n\u001b[1;32m    108\u001b[0m             \u001b[0;31m# this is to allow access to the docstrings.\u001b[0m\u001b[0;34m\u001b[0m\u001b[0;34m\u001b[0m\u001b[0;34m\u001b[0m\u001b[0m\n\u001b[0;32m--> 109\u001b[0;31m             \u001b[0;32mif\u001b[0m \u001b[0;32mnot\u001b[0m \u001b[0mself\u001b[0m\u001b[0;34m.\u001b[0m\u001b[0mcheck\u001b[0m\u001b[0;34m(\u001b[0m\u001b[0mobj\u001b[0m\u001b[0;34m)\u001b[0m\u001b[0;34m:\u001b[0m\u001b[0;34m\u001b[0m\u001b[0;34m\u001b[0m\u001b[0m\n\u001b[0m\u001b[1;32m    110\u001b[0m                 \u001b[0;32mraise\u001b[0m \u001b[0mattr_err\u001b[0m\u001b[0;34m\u001b[0m\u001b[0;34m\u001b[0m\u001b[0m\n\u001b[1;32m    111\u001b[0m \u001b[0;34m\u001b[0m\u001b[0m\n",
      "\u001b[0;32m~/venvs/exp-Env/lib/python3.7/site-packages/sklearn/model_selection/_search.py\u001b[0m in \u001b[0;36mcheck\u001b[0;34m(self)\u001b[0m\n\u001b[1;32m    371\u001b[0m         \u001b[0;32mif\u001b[0m \u001b[0mhasattr\u001b[0m\u001b[0;34m(\u001b[0m\u001b[0mself\u001b[0m\u001b[0;34m,\u001b[0m \u001b[0;34m\"best_estimator_\"\u001b[0m\u001b[0;34m)\u001b[0m\u001b[0;34m:\u001b[0m\u001b[0;34m\u001b[0m\u001b[0;34m\u001b[0m\u001b[0m\n\u001b[1;32m    372\u001b[0m             \u001b[0;31m# raise an AttributeError if `attr` does not exist\u001b[0m\u001b[0;34m\u001b[0m\u001b[0;34m\u001b[0m\u001b[0;34m\u001b[0m\u001b[0m\n\u001b[0;32m--> 373\u001b[0;31m             \u001b[0mgetattr\u001b[0m\u001b[0;34m(\u001b[0m\u001b[0mself\u001b[0m\u001b[0;34m.\u001b[0m\u001b[0mbest_estimator_\u001b[0m\u001b[0;34m,\u001b[0m \u001b[0mattr\u001b[0m\u001b[0;34m)\u001b[0m\u001b[0;34m\u001b[0m\u001b[0;34m\u001b[0m\u001b[0m\n\u001b[0m\u001b[1;32m    374\u001b[0m             \u001b[0;32mreturn\u001b[0m \u001b[0;32mTrue\u001b[0m\u001b[0;34m\u001b[0m\u001b[0;34m\u001b[0m\u001b[0m\n\u001b[1;32m    375\u001b[0m         \u001b[0;31m# raise an AttributeError if `attr` does not exist\u001b[0m\u001b[0;34m\u001b[0m\u001b[0;34m\u001b[0m\u001b[0;34m\u001b[0m\u001b[0m\n",
      "\u001b[0;32m~/venvs/exp-Env/lib/python3.7/site-packages/sklearn/utils/metaestimators.py\u001b[0m in \u001b[0;36m__get__\u001b[0;34m(self, obj, owner)\u001b[0m\n\u001b[1;32m    107\u001b[0m             \u001b[0;31m# delegate only on instances, not the classes.\u001b[0m\u001b[0;34m\u001b[0m\u001b[0;34m\u001b[0m\u001b[0;34m\u001b[0m\u001b[0m\n\u001b[1;32m    108\u001b[0m             \u001b[0;31m# this is to allow access to the docstrings.\u001b[0m\u001b[0;34m\u001b[0m\u001b[0;34m\u001b[0m\u001b[0;34m\u001b[0m\u001b[0m\n\u001b[0;32m--> 109\u001b[0;31m             \u001b[0;32mif\u001b[0m \u001b[0;32mnot\u001b[0m \u001b[0mself\u001b[0m\u001b[0;34m.\u001b[0m\u001b[0mcheck\u001b[0m\u001b[0;34m(\u001b[0m\u001b[0mobj\u001b[0m\u001b[0;34m)\u001b[0m\u001b[0;34m:\u001b[0m\u001b[0;34m\u001b[0m\u001b[0;34m\u001b[0m\u001b[0m\n\u001b[0m\u001b[1;32m    110\u001b[0m                 \u001b[0;32mraise\u001b[0m \u001b[0mattr_err\u001b[0m\u001b[0;34m\u001b[0m\u001b[0;34m\u001b[0m\u001b[0m\n\u001b[1;32m    111\u001b[0m \u001b[0;34m\u001b[0m\u001b[0m\n",
      "\u001b[0;32m~/venvs/exp-Env/lib/python3.7/site-packages/sklearn/svm/_base.py\u001b[0m in \u001b[0;36m_check_proba\u001b[0;34m(self)\u001b[0m\n\u001b[1;32m    799\u001b[0m         \u001b[0;32mif\u001b[0m \u001b[0;32mnot\u001b[0m \u001b[0mself\u001b[0m\u001b[0;34m.\u001b[0m\u001b[0mprobability\u001b[0m\u001b[0;34m:\u001b[0m\u001b[0;34m\u001b[0m\u001b[0;34m\u001b[0m\u001b[0m\n\u001b[1;32m    800\u001b[0m             raise AttributeError(\n\u001b[0;32m--> 801\u001b[0;31m                 \u001b[0;34m\"predict_proba is not available when  probability=False\"\u001b[0m\u001b[0;34m\u001b[0m\u001b[0;34m\u001b[0m\u001b[0m\n\u001b[0m\u001b[1;32m    802\u001b[0m             )\n\u001b[1;32m    803\u001b[0m         \u001b[0;32mif\u001b[0m \u001b[0mself\u001b[0m\u001b[0;34m.\u001b[0m\u001b[0m_impl\u001b[0m \u001b[0;32mnot\u001b[0m \u001b[0;32min\u001b[0m \u001b[0;34m(\u001b[0m\u001b[0;34m\"c_svc\"\u001b[0m\u001b[0;34m,\u001b[0m \u001b[0;34m\"nu_svc\"\u001b[0m\u001b[0;34m)\u001b[0m\u001b[0;34m:\u001b[0m\u001b[0;34m\u001b[0m\u001b[0;34m\u001b[0m\u001b[0m\n",
      "\u001b[0;31mAttributeError\u001b[0m: predict_proba is not available when  probability=False"
     ]
    }
   ],
   "source": [
    "param_grid = {'kernel': ['rbf'] , \n",
    "              'gamma': [0.2, 0.4, 0.7, 2], \n",
    "              'degree' : [2]}\n",
    "\n",
    "clf = GridSearchCV(SVC() , param_grid , refit=True , verbose=3)\n",
    "clf.fit(n_x_train, n_y_train)\n",
    "\n",
    "print(\"best params: \" + str(clf.best_params_))\n",
    "print(\"best scores: \" + str(clf.best_score_))\n",
    "estimates = clf.predict_proba(n_x_val)\n",
    "acc = accuracy_score(n_y_val, clf.predict(n_x_val))\n",
    "print('Predict_prob', estimates , \"Accuracy: {:.4%}\".format(acc))"
   ]
  },
  {
   "cell_type": "code",
   "execution_count": 34,
   "id": "c53a3525",
   "metadata": {},
   "outputs": [],
   "source": [
    "names = [\n",
    "#     \"Nearest Neighbors\",\n",
    "#     \"RBF SVM\",\n",
    "    \"Gaussian Process\",\n",
    "#     \"Decision Tree\",\n",
    "#     \"Random Forest\",\n",
    "#     \"Neural Net\",\n",
    "#     \"AdaBoost\",\n",
    "    \"Naive Bayes\",\n",
    "    \"QDA\",\n",
    "]\n",
    "\n",
    "classifiers = [\n",
    "#     KNeighborsClassifier(),\n",
    "#     SVC(kernel=\"rbf\"),\n",
    "    GaussianProcessClassifier(),\n",
    "#     DecisionTreeClassifier(max_depth=5),\n",
    "#     RandomForestClassifier(max_depth=5, n_estimators=10, max_features=1),\n",
    "#     MLPClassifier(alpha=1, max_iter=1000),\n",
    "#     AdaBoostClassifier(),\n",
    "    GaussianNB(),\n",
    "    QuadraticDiscriminantAnalysis(),\n",
    "]"
   ]
  },
  {
   "cell_type": "code",
   "execution_count": 36,
   "id": "fb87327b",
   "metadata": {},
   "outputs": [
    {
     "name": "stdout",
     "output_type": "stream",
     "text": [
      "Gaussian Process\n"
     ]
    },
    {
     "name": "stderr",
     "output_type": "stream",
     "text": [
      "/home/ifte-home/venvs/exp-Env/lib/python3.7/site-packages/sklearn/utils/validation.py:598: FutureWarning: np.matrix usage is deprecated in 1.0 and will raise a TypeError in 1.2. Please convert to a numpy array with np.asarray. For more information see: https://numpy.org/doc/stable/reference/generated/numpy.matrix.html\n",
      "  FutureWarning,\n",
      "/home/ifte-home/venvs/exp-Env/lib/python3.7/site-packages/sklearn/utils/validation.py:598: FutureWarning: np.matrix usage is deprecated in 1.0 and will raise a TypeError in 1.2. Please convert to a numpy array with np.asarray. For more information see: https://numpy.org/doc/stable/reference/generated/numpy.matrix.html\n",
      "  FutureWarning,\n",
      "/home/ifte-home/venvs/exp-Env/lib/python3.7/site-packages/sklearn/utils/validation.py:598: FutureWarning: np.matrix usage is deprecated in 1.0 and will raise a TypeError in 1.2. Please convert to a numpy array with np.asarray. For more information see: https://numpy.org/doc/stable/reference/generated/numpy.matrix.html\n",
      "  FutureWarning,\n"
     ]
    },
    {
     "name": "stdout",
     "output_type": "stream",
     "text": [
      "Precision: 0.940 Recall: 0.921 Accuracy: 92.0852% F1 Score: 0.924\n",
      "Naive Bayes\n"
     ]
    },
    {
     "name": "stderr",
     "output_type": "stream",
     "text": [
      "/home/ifte-home/venvs/exp-Env/lib/python3.7/site-packages/sklearn/utils/validation.py:598: FutureWarning: np.matrix usage is deprecated in 1.0 and will raise a TypeError in 1.2. Please convert to a numpy array with np.asarray. For more information see: https://numpy.org/doc/stable/reference/generated/numpy.matrix.html\n",
      "  FutureWarning,\n",
      "/home/ifte-home/venvs/exp-Env/lib/python3.7/site-packages/sklearn/utils/validation.py:598: FutureWarning: np.matrix usage is deprecated in 1.0 and will raise a TypeError in 1.2. Please convert to a numpy array with np.asarray. For more information see: https://numpy.org/doc/stable/reference/generated/numpy.matrix.html\n",
      "  FutureWarning,\n",
      "/home/ifte-home/venvs/exp-Env/lib/python3.7/site-packages/sklearn/utils/validation.py:598: FutureWarning: np.matrix usage is deprecated in 1.0 and will raise a TypeError in 1.2. Please convert to a numpy array with np.asarray. For more information see: https://numpy.org/doc/stable/reference/generated/numpy.matrix.html\n",
      "  FutureWarning,\n"
     ]
    },
    {
     "name": "stdout",
     "output_type": "stream",
     "text": [
      "Precision: 0.923 Recall: 0.918 Accuracy: 91.7808% F1 Score: 0.919\n",
      "QDA\n"
     ]
    },
    {
     "name": "stderr",
     "output_type": "stream",
     "text": [
      "/home/ifte-home/venvs/exp-Env/lib/python3.7/site-packages/sklearn/utils/validation.py:598: FutureWarning: np.matrix usage is deprecated in 1.0 and will raise a TypeError in 1.2. Please convert to a numpy array with np.asarray. For more information see: https://numpy.org/doc/stable/reference/generated/numpy.matrix.html\n",
      "  FutureWarning,\n",
      "/home/ifte-home/venvs/exp-Env/lib/python3.7/site-packages/sklearn/discriminant_analysis.py:878: UserWarning: Variables are collinear\n",
      "  warnings.warn(\"Variables are collinear\")\n",
      "/home/ifte-home/venvs/exp-Env/lib/python3.7/site-packages/sklearn/utils/validation.py:598: FutureWarning: np.matrix usage is deprecated in 1.0 and will raise a TypeError in 1.2. Please convert to a numpy array with np.asarray. For more information see: https://numpy.org/doc/stable/reference/generated/numpy.matrix.html\n",
      "  FutureWarning,\n",
      "/home/ifte-home/venvs/exp-Env/lib/python3.7/site-packages/sklearn/utils/validation.py:598: FutureWarning: np.matrix usage is deprecated in 1.0 and will raise a TypeError in 1.2. Please convert to a numpy array with np.asarray. For more information see: https://numpy.org/doc/stable/reference/generated/numpy.matrix.html\n",
      "  FutureWarning,\n"
     ]
    },
    {
     "name": "stdout",
     "output_type": "stream",
     "text": [
      "Precision: 0.931 Recall: 0.909 Accuracy: 90.8676% F1 Score: 0.912\n"
     ]
    }
   ],
   "source": [
    "for name, clf in zip(names,classifiers):\n",
    "    print(name)\n",
    "#     n_x_train = n_x_train.toarray()\n",
    "#     if name=='Gaussian Process':\n",
    "#         n_x_train = n_x_train.toarray()\n",
    "#         clf.fit(n_x_train, n_y_train)\n",
    "#     else:\n",
    "    clf.fit(n_x_train, n_y_train)\n",
    "        \n",
    "    score = clf.score(n_x_val, n_y_val)\n",
    "\n",
    "#     print(\"best params: \" + str(clf.best_params_))\n",
    "#     print(\"best scores: \" + str(clf.best_score_))\n",
    "#     estimates = clf.predict_proba(n_x_val)\n",
    "    y_pred = clf.predict(n_x_val)\n",
    "    print('Precision: %.3f' % precision_score(n_y_val, y_pred, average='weighted'),\n",
    "          'Recall: %.3f' % recall_score(n_y_val, y_pred, average='weighted'),\n",
    "          \"Accuracy: {:.4%}\".format(accuracy_score(n_y_val, y_pred)),\n",
    "          'F1 Score: %.3f' % f1_score(n_y_val, y_pred, average='weighted'))"
   ]
  },
  {
   "cell_type": "markdown",
   "id": "8c33de73",
   "metadata": {},
   "source": [
    "### Generating Predictions"
   ]
  },
  {
   "cell_type": "code",
   "execution_count": 6,
   "id": "71068bc9",
   "metadata": {},
   "outputs": [
    {
     "name": "stdout",
     "output_type": "stream",
     "text": [
      "Fitting 5 folds for each of 1 candidates, totalling 5 fits\n",
      "[CV 1/5] END ...degree=2, gamma=0.7, kernel=rbf;, score=0.522 total time=  11.4s\n",
      "[CV 2/5] END ...degree=2, gamma=0.7, kernel=rbf;, score=0.558 total time=  10.6s\n",
      "[CV 3/5] END ...degree=2, gamma=0.7, kernel=rbf;, score=0.551 total time=  13.1s\n",
      "[CV 4/5] END ...degree=2, gamma=0.7, kernel=rbf;, score=0.594 total time=  12.9s\n",
      "[CV 5/5] END ...degree=2, gamma=0.7, kernel=rbf;, score=0.599 total time=  12.0s\n"
     ]
    },
    {
     "data": {
      "text/plain": [
       "GridSearchCV(estimator=SVC(),\n",
       "             param_grid={'degree': [2], 'gamma': [0.7], 'kernel': ['rbf']},\n",
       "             verbose=3)"
      ]
     },
     "execution_count": 6,
     "metadata": {},
     "output_type": "execute_result"
    }
   ],
   "source": [
    "param_grid = {'kernel': ['rbf'], 'gamma': [0.7], 'degree' : [2]}\n",
    "\n",
    "clf = GridSearchCV(SVC() , param_grid , refit=True , verbose=3)\n",
    "clf.fit(n_x_train, n_y_train)"
   ]
  },
  {
   "cell_type": "code",
   "execution_count": 26,
   "id": "655daa02",
   "metadata": {},
   "outputs": [],
   "source": [
    "from sklearn.svm import SVC"
   ]
  },
  {
   "cell_type": "code",
   "execution_count": 37,
   "id": "ff17f08f",
   "metadata": {},
   "outputs": [
    {
     "data": {
      "text/plain": [
       "SVC(degree=2, gamma=0.7)"
      ]
     },
     "execution_count": 37,
     "metadata": {},
     "output_type": "execute_result"
    }
   ],
   "source": [
    "clf = SVC(kernel='rbf', gamma=0.7, degree=2)\n",
    "clf.fit(n_x_train, n_y_train)"
   ]
  },
  {
   "cell_type": "code",
   "execution_count": 18,
   "id": "295bd0b9",
   "metadata": {},
   "outputs": [
    {
     "name": "stdout",
     "output_type": "stream",
     "text": [
      "Fitting 5 folds for each of 1 candidates, totalling 5 fits\n",
      "[CV 1/5] END ...degree=2, gamma=0.7, kernel=rbf;, score=0.522 total time=   7.0s\n",
      "[CV 2/5] END ...degree=2, gamma=0.7, kernel=rbf;, score=0.558 total time=   5.7s\n",
      "[CV 3/5] END ...degree=2, gamma=0.7, kernel=rbf;, score=0.551 total time=   5.6s\n",
      "[CV 4/5] END ...degree=2, gamma=0.7, kernel=rbf;, score=0.594 total time=   5.8s\n",
      "[CV 5/5] END ...degree=2, gamma=0.7, kernel=rbf;, score=0.599 total time=   5.9s\n",
      "best params: {'degree': 2, 'gamma': 0.7, 'kernel': 'rbf'}\n",
      "best scores: 0.5646355654289643\n"
     ]
    },
    {
     "ename": "AttributeError",
     "evalue": "predict_proba is not available when  probability=False",
     "output_type": "error",
     "traceback": [
      "\u001b[0;31m---------------------------------------------------------------------------\u001b[0m",
      "\u001b[0;31mAttributeError\u001b[0m                            Traceback (most recent call last)",
      "\u001b[0;32m/tmp/ipykernel_3710/2485264751.py\u001b[0m in \u001b[0;36m<module>\u001b[0;34m\u001b[0m\n\u001b[1;32m      6\u001b[0m \u001b[0mprint\u001b[0m\u001b[0;34m(\u001b[0m\u001b[0;34m\"best params: \"\u001b[0m \u001b[0;34m+\u001b[0m \u001b[0mstr\u001b[0m\u001b[0;34m(\u001b[0m\u001b[0mclf\u001b[0m\u001b[0;34m.\u001b[0m\u001b[0mbest_params_\u001b[0m\u001b[0;34m)\u001b[0m\u001b[0;34m)\u001b[0m\u001b[0;34m\u001b[0m\u001b[0;34m\u001b[0m\u001b[0m\n\u001b[1;32m      7\u001b[0m \u001b[0mprint\u001b[0m\u001b[0;34m(\u001b[0m\u001b[0;34m\"best scores: \"\u001b[0m \u001b[0;34m+\u001b[0m \u001b[0mstr\u001b[0m\u001b[0;34m(\u001b[0m\u001b[0mclf\u001b[0m\u001b[0;34m.\u001b[0m\u001b[0mbest_score_\u001b[0m\u001b[0;34m)\u001b[0m\u001b[0;34m)\u001b[0m\u001b[0;34m\u001b[0m\u001b[0;34m\u001b[0m\u001b[0m\n\u001b[0;32m----> 8\u001b[0;31m \u001b[0mestimates\u001b[0m \u001b[0;34m=\u001b[0m \u001b[0mclf\u001b[0m\u001b[0;34m.\u001b[0m\u001b[0mpredict_proba\u001b[0m\u001b[0;34m(\u001b[0m\u001b[0mn_x_val\u001b[0m\u001b[0;34m)\u001b[0m\u001b[0;34m\u001b[0m\u001b[0;34m\u001b[0m\u001b[0m\n\u001b[0m\u001b[1;32m      9\u001b[0m \u001b[0macc\u001b[0m \u001b[0;34m=\u001b[0m \u001b[0maccuracy_score\u001b[0m\u001b[0;34m(\u001b[0m\u001b[0mn_y_val\u001b[0m\u001b[0;34m,\u001b[0m \u001b[0mclf\u001b[0m\u001b[0;34m.\u001b[0m\u001b[0mpredict\u001b[0m\u001b[0;34m(\u001b[0m\u001b[0mn_x_val\u001b[0m\u001b[0;34m)\u001b[0m\u001b[0;34m)\u001b[0m\u001b[0;34m\u001b[0m\u001b[0;34m\u001b[0m\u001b[0m\n\u001b[1;32m     10\u001b[0m \u001b[0mprint\u001b[0m\u001b[0;34m(\u001b[0m\u001b[0;34m'Predict_prob'\u001b[0m\u001b[0;34m,\u001b[0m \u001b[0mestimates\u001b[0m \u001b[0;34m,\u001b[0m \u001b[0;34m\"Accuracy: {:.4%}\"\u001b[0m\u001b[0;34m.\u001b[0m\u001b[0mformat\u001b[0m\u001b[0;34m(\u001b[0m\u001b[0macc\u001b[0m\u001b[0;34m)\u001b[0m\u001b[0;34m)\u001b[0m\u001b[0;34m\u001b[0m\u001b[0;34m\u001b[0m\u001b[0m\n",
      "\u001b[0;32m~/venvs/exp-Env/lib/python3.7/site-packages/sklearn/utils/metaestimators.py\u001b[0m in \u001b[0;36m__get__\u001b[0;34m(self, obj, owner)\u001b[0m\n\u001b[1;32m    107\u001b[0m             \u001b[0;31m# delegate only on instances, not the classes.\u001b[0m\u001b[0;34m\u001b[0m\u001b[0;34m\u001b[0m\u001b[0;34m\u001b[0m\u001b[0m\n\u001b[1;32m    108\u001b[0m             \u001b[0;31m# this is to allow access to the docstrings.\u001b[0m\u001b[0;34m\u001b[0m\u001b[0;34m\u001b[0m\u001b[0;34m\u001b[0m\u001b[0m\n\u001b[0;32m--> 109\u001b[0;31m             \u001b[0;32mif\u001b[0m \u001b[0;32mnot\u001b[0m \u001b[0mself\u001b[0m\u001b[0;34m.\u001b[0m\u001b[0mcheck\u001b[0m\u001b[0;34m(\u001b[0m\u001b[0mobj\u001b[0m\u001b[0;34m)\u001b[0m\u001b[0;34m:\u001b[0m\u001b[0;34m\u001b[0m\u001b[0;34m\u001b[0m\u001b[0m\n\u001b[0m\u001b[1;32m    110\u001b[0m                 \u001b[0;32mraise\u001b[0m \u001b[0mattr_err\u001b[0m\u001b[0;34m\u001b[0m\u001b[0;34m\u001b[0m\u001b[0m\n\u001b[1;32m    111\u001b[0m \u001b[0;34m\u001b[0m\u001b[0m\n",
      "\u001b[0;32m~/venvs/exp-Env/lib/python3.7/site-packages/sklearn/model_selection/_search.py\u001b[0m in \u001b[0;36mcheck\u001b[0;34m(self)\u001b[0m\n\u001b[1;32m    371\u001b[0m         \u001b[0;32mif\u001b[0m \u001b[0mhasattr\u001b[0m\u001b[0;34m(\u001b[0m\u001b[0mself\u001b[0m\u001b[0;34m,\u001b[0m \u001b[0;34m\"best_estimator_\"\u001b[0m\u001b[0;34m)\u001b[0m\u001b[0;34m:\u001b[0m\u001b[0;34m\u001b[0m\u001b[0;34m\u001b[0m\u001b[0m\n\u001b[1;32m    372\u001b[0m             \u001b[0;31m# raise an AttributeError if `attr` does not exist\u001b[0m\u001b[0;34m\u001b[0m\u001b[0;34m\u001b[0m\u001b[0;34m\u001b[0m\u001b[0m\n\u001b[0;32m--> 373\u001b[0;31m             \u001b[0mgetattr\u001b[0m\u001b[0;34m(\u001b[0m\u001b[0mself\u001b[0m\u001b[0;34m.\u001b[0m\u001b[0mbest_estimator_\u001b[0m\u001b[0;34m,\u001b[0m \u001b[0mattr\u001b[0m\u001b[0;34m)\u001b[0m\u001b[0;34m\u001b[0m\u001b[0;34m\u001b[0m\u001b[0m\n\u001b[0m\u001b[1;32m    374\u001b[0m             \u001b[0;32mreturn\u001b[0m \u001b[0;32mTrue\u001b[0m\u001b[0;34m\u001b[0m\u001b[0;34m\u001b[0m\u001b[0m\n\u001b[1;32m    375\u001b[0m         \u001b[0;31m# raise an AttributeError if `attr` does not exist\u001b[0m\u001b[0;34m\u001b[0m\u001b[0;34m\u001b[0m\u001b[0;34m\u001b[0m\u001b[0m\n",
      "\u001b[0;32m~/venvs/exp-Env/lib/python3.7/site-packages/sklearn/utils/metaestimators.py\u001b[0m in \u001b[0;36m__get__\u001b[0;34m(self, obj, owner)\u001b[0m\n\u001b[1;32m    107\u001b[0m             \u001b[0;31m# delegate only on instances, not the classes.\u001b[0m\u001b[0;34m\u001b[0m\u001b[0;34m\u001b[0m\u001b[0;34m\u001b[0m\u001b[0m\n\u001b[1;32m    108\u001b[0m             \u001b[0;31m# this is to allow access to the docstrings.\u001b[0m\u001b[0;34m\u001b[0m\u001b[0;34m\u001b[0m\u001b[0;34m\u001b[0m\u001b[0m\n\u001b[0;32m--> 109\u001b[0;31m             \u001b[0;32mif\u001b[0m \u001b[0;32mnot\u001b[0m \u001b[0mself\u001b[0m\u001b[0;34m.\u001b[0m\u001b[0mcheck\u001b[0m\u001b[0;34m(\u001b[0m\u001b[0mobj\u001b[0m\u001b[0;34m)\u001b[0m\u001b[0;34m:\u001b[0m\u001b[0;34m\u001b[0m\u001b[0;34m\u001b[0m\u001b[0m\n\u001b[0m\u001b[1;32m    110\u001b[0m                 \u001b[0;32mraise\u001b[0m \u001b[0mattr_err\u001b[0m\u001b[0;34m\u001b[0m\u001b[0;34m\u001b[0m\u001b[0m\n\u001b[1;32m    111\u001b[0m \u001b[0;34m\u001b[0m\u001b[0m\n",
      "\u001b[0;32m~/venvs/exp-Env/lib/python3.7/site-packages/sklearn/svm/_base.py\u001b[0m in \u001b[0;36m_check_proba\u001b[0;34m(self)\u001b[0m\n\u001b[1;32m    799\u001b[0m         \u001b[0;32mif\u001b[0m \u001b[0;32mnot\u001b[0m \u001b[0mself\u001b[0m\u001b[0;34m.\u001b[0m\u001b[0mprobability\u001b[0m\u001b[0;34m:\u001b[0m\u001b[0;34m\u001b[0m\u001b[0;34m\u001b[0m\u001b[0m\n\u001b[1;32m    800\u001b[0m             raise AttributeError(\n\u001b[0;32m--> 801\u001b[0;31m                 \u001b[0;34m\"predict_proba is not available when  probability=False\"\u001b[0m\u001b[0;34m\u001b[0m\u001b[0;34m\u001b[0m\u001b[0m\n\u001b[0m\u001b[1;32m    802\u001b[0m             )\n\u001b[1;32m    803\u001b[0m         \u001b[0;32mif\u001b[0m \u001b[0mself\u001b[0m\u001b[0;34m.\u001b[0m\u001b[0m_impl\u001b[0m \u001b[0;32mnot\u001b[0m \u001b[0;32min\u001b[0m \u001b[0;34m(\u001b[0m\u001b[0;34m\"c_svc\"\u001b[0m\u001b[0;34m,\u001b[0m \u001b[0;34m\"nu_svc\"\u001b[0m\u001b[0;34m)\u001b[0m\u001b[0;34m:\u001b[0m\u001b[0;34m\u001b[0m\u001b[0;34m\u001b[0m\u001b[0m\n",
      "\u001b[0;31mAttributeError\u001b[0m: predict_proba is not available when  probability=False"
     ]
    }
   ],
   "source": [
    "print(\"best params: \" + str(clf.best_params_))\n",
    "print(\"best scores: \" + str(clf.best_score_))\n",
    "estimates = clf.predict_proba(n_x_val)\n",
    "acc = accuracy_score(n_y_val, clf.predict(n_x_val))\n",
    "print('Predict_prob', estimates , \"Accuracy: {:.4%}\".format(acc))"
   ]
  },
  {
   "cell_type": "code",
   "execution_count": 40,
   "id": "eae012fd",
   "metadata": {},
   "outputs": [
    {
     "name": "stdout",
     "output_type": "stream",
     "text": [
      "Accuracy: 92.3896%\n"
     ]
    }
   ],
   "source": [
    "# print(\"best params: \" + str(clf.best_params_))\n",
    "# print(\"best scores: \" + str(clf.best_score_))\n",
    "acc = accuracy_score(n_y_val, clf.predict(n_x_val))\n",
    "print(\"Accuracy: {:.4%}\".format(acc))"
   ]
  },
  {
   "cell_type": "code",
   "execution_count": 41,
   "id": "db163915",
   "metadata": {},
   "outputs": [],
   "source": [
    "import pickle"
   ]
  },
  {
   "cell_type": "code",
   "execution_count": 42,
   "id": "4f1992b2",
   "metadata": {},
   "outputs": [],
   "source": [
    "# save the model to disk\n",
    "filename = path+'finalized_classifier_model.sav'"
   ]
  },
  {
   "cell_type": "code",
   "execution_count": 43,
   "id": "ebaf59ea",
   "metadata": {},
   "outputs": [],
   "source": [
    "pickle.dump(clf, open(filename, 'wb'))"
   ]
  },
  {
   "cell_type": "code",
   "execution_count": 44,
   "id": "023926a1",
   "metadata": {},
   "outputs": [],
   "source": [
    "# load the model from disk\n",
    "clf = pickle.load(open(filename, 'rb'))"
   ]
  },
  {
   "cell_type": "code",
   "execution_count": 45,
   "id": "3a750d8e",
   "metadata": {},
   "outputs": [
    {
     "data": {
      "text/plain": [
       "(657, 10976)"
      ]
     },
     "execution_count": 45,
     "metadata": {},
     "output_type": "execute_result"
    }
   ],
   "source": [
    "n_x_val.shape"
   ]
  },
  {
   "cell_type": "code",
   "execution_count": 46,
   "id": "2eee2681",
   "metadata": {
    "collapsed": true
   },
   "outputs": [
    {
     "data": {
      "text/plain": [
       "array([1, 3, 1, 1, 0, 2, 0, 0, 2, 2, 1, 1, 0, 0, 2, 3, 3, 2, 2, 3, 2, 1,\n",
       "       2, 1, 1, 0, 3, 1, 2, 1, 3, 3, 2, 0, 1, 0, 0, 3, 1, 1, 2, 2, 2, 1,\n",
       "       1, 0, 2, 3, 0, 3, 2, 1, 0, 3, 3, 2, 3, 3, 1, 2, 3, 2, 3, 0, 3, 0,\n",
       "       2, 2, 1, 3, 0, 2, 2, 0, 2, 3, 0, 2, 3, 2, 0, 0, 2, 3, 3, 1, 1, 2,\n",
       "       1, 1, 1, 2, 2, 2, 1, 0, 1, 3, 1, 1, 2, 1, 0, 1, 2, 1, 3, 3, 1, 3,\n",
       "       2, 0, 3, 2, 3, 3, 2, 1, 1, 3, 3, 0, 1, 3, 2, 1, 3, 2, 2, 3, 3, 2,\n",
       "       1, 2, 0, 2, 2, 3, 1, 0, 1, 2, 1, 2, 2, 0, 0, 2, 3, 2, 2, 0, 3, 2,\n",
       "       2, 0, 2, 1, 1, 3, 1, 3, 3, 2, 1, 3, 3, 1, 2, 1, 0, 0, 1, 3, 0, 0,\n",
       "       2, 1, 3, 2, 1, 2, 3, 1, 2, 3, 2, 1, 1, 2, 2, 0, 1, 1, 0, 2, 2, 1,\n",
       "       1, 0, 3, 2, 2, 1, 1, 2, 1, 3, 3, 3, 2, 1, 0, 3, 3, 1, 0, 0, 0, 1,\n",
       "       2, 3, 2, 3, 2, 1, 1, 3, 2, 3, 0, 3, 2, 1, 3, 3, 1, 2, 3, 1, 0, 3,\n",
       "       2, 1, 2, 0, 3, 1, 2, 3, 1, 3, 3, 0, 0, 0, 2, 3, 0, 0, 2, 0, 3, 3,\n",
       "       2, 2, 2, 2, 1, 3, 1, 0, 2, 0, 1, 2, 1, 1, 3, 1, 2, 0, 2, 3, 2, 2,\n",
       "       2, 2, 1, 2, 0, 2, 3, 0, 1, 0, 3, 0, 2, 3, 3, 2, 2, 1, 3, 1, 2, 2,\n",
       "       2, 0, 2, 3, 1, 3, 0, 2, 1, 2, 1, 3, 2, 3, 0, 1, 2, 3, 2, 3, 2, 2,\n",
       "       3, 0, 0, 2, 1, 0, 3, 3, 0, 3, 2, 2, 2, 1, 0, 0, 2, 0, 2, 2, 3, 0,\n",
       "       2, 1, 3, 0, 2, 3, 3, 2, 3, 0, 2, 3, 2, 2, 3, 2, 1, 3, 0, 2, 3, 1,\n",
       "       3, 0, 0, 2, 3, 0, 2, 1, 0, 2, 0, 2, 3, 1, 1, 3, 3, 0, 0, 2, 1, 2,\n",
       "       1, 0, 3, 3, 2, 1, 2, 2, 3, 0, 3, 1, 0, 2, 2, 2, 1, 2, 2, 0, 0, 3,\n",
       "       2, 0, 1, 1, 2, 0, 3, 2, 2, 3, 1, 0, 2, 2, 0, 3, 3, 2, 1, 2, 0, 1,\n",
       "       2, 3, 2, 2, 3, 1, 1, 2, 3, 0, 3, 1, 3, 1, 2, 2, 1, 0, 3, 3, 1, 1,\n",
       "       2, 3, 2, 3, 3, 1, 3, 0, 0, 2, 2, 1, 1, 3, 2, 1, 2, 2, 0, 1, 3, 1,\n",
       "       0, 2, 0, 3, 1, 2, 1, 3, 3, 0, 3, 1, 3, 2, 1, 1, 2, 2, 1, 3, 3, 0,\n",
       "       1, 2, 2, 0, 2, 2, 3, 1, 1, 1, 1, 2, 1, 3, 3, 0, 1, 2, 2, 0, 1, 2,\n",
       "       2, 3, 2, 0, 3, 3, 3, 1, 0, 1, 1, 0, 3, 3, 0, 0, 3, 3, 3, 1, 2, 1,\n",
       "       2, 2, 1, 0, 0, 3, 3, 3, 3, 2, 2, 1, 3, 0, 1, 2, 3, 2, 0, 3, 2, 0,\n",
       "       0, 2, 1, 0, 2, 3, 1, 2, 3, 3, 2, 2, 1, 1, 0, 2, 2, 3, 3, 0, 0, 0,\n",
       "       2, 3, 3, 1, 2, 2, 0, 2, 1, 2, 0, 0, 2, 2, 2, 0, 3, 2, 1, 3, 0, 1,\n",
       "       2, 0, 2, 1, 2, 0, 1, 1, 2, 2, 1, 1, 0, 2, 3, 2, 3, 1, 3, 2, 2, 2,\n",
       "       2, 2, 2, 1, 2, 2, 3, 1, 2, 0, 2, 1, 1, 2, 0, 0, 2, 3, 2])"
      ]
     },
     "execution_count": 46,
     "metadata": {},
     "output_type": "execute_result"
    }
   ],
   "source": [
    "clf.predict(n_x_val)"
   ]
  },
  {
   "cell_type": "code",
   "execution_count": 57,
   "id": "c8485a5d",
   "metadata": {},
   "outputs": [],
   "source": [
    "reddit_dataset = pd.read_csv(\n",
    "    '/home/ifte-home/Documents/mental_health/suicide/Suicide_Detection_processed_equal_class.csv'\n",
    ")"
   ]
  },
  {
   "cell_type": "code",
   "execution_count": 58,
   "id": "e38fb5ba",
   "metadata": {},
   "outputs": [
    {
     "data": {
      "text/html": [
       "<div>\n",
       "<style scoped>\n",
       "    .dataframe tbody tr th:only-of-type {\n",
       "        vertical-align: middle;\n",
       "    }\n",
       "\n",
       "    .dataframe tbody tr th {\n",
       "        vertical-align: top;\n",
       "    }\n",
       "\n",
       "    .dataframe thead th {\n",
       "        text-align: right;\n",
       "    }\n",
       "</style>\n",
       "<table border=\"1\" class=\"dataframe\">\n",
       "  <thead>\n",
       "    <tr style=\"text-align: right;\">\n",
       "      <th></th>\n",
       "      <th>Unnamed: 0</th>\n",
       "      <th>Unnamed: 0.1</th>\n",
       "      <th>processed</th>\n",
       "      <th>class</th>\n",
       "      <th>category</th>\n",
       "    </tr>\n",
       "  </thead>\n",
       "  <tbody>\n",
       "    <tr>\n",
       "      <th>0</th>\n",
       "      <td>93816</td>\n",
       "      <td>93816</td>\n",
       "      <td>afraid creeping backat least past two week pre...</td>\n",
       "      <td>suicide</td>\n",
       "      <td>1</td>\n",
       "    </tr>\n",
       "    <tr>\n",
       "      <th>1</th>\n",
       "      <td>20179</td>\n",
       "      <td>20179</td>\n",
       "      <td>point usually lurker really post really live a...</td>\n",
       "      <td>suicide</td>\n",
       "      <td>1</td>\n",
       "    </tr>\n",
       "    <tr>\n",
       "      <th>2</th>\n",
       "      <td>96909</td>\n",
       "      <td>96909</td>\n",
       "      <td>donei try keep brief every time go something s...</td>\n",
       "      <td>suicide</td>\n",
       "      <td>1</td>\n",
       "    </tr>\n",
       "    <tr>\n",
       "      <th>3</th>\n",
       "      <td>11200</td>\n",
       "      <td>11200</td>\n",
       "      <td>becoming much necessarily suicidal person shit...</td>\n",
       "      <td>suicide</td>\n",
       "      <td>1</td>\n",
       "    </tr>\n",
       "    <tr>\n",
       "      <th>4</th>\n",
       "      <td>47942</td>\n",
       "      <td>47942</td>\n",
       "      <td>weird never even kissed girl relationship</td>\n",
       "      <td>non-suicide</td>\n",
       "      <td>0</td>\n",
       "    </tr>\n",
       "    <tr>\n",
       "      <th>...</th>\n",
       "      <td>...</td>\n",
       "      <td>...</td>\n",
       "      <td>...</td>\n",
       "      <td>...</td>\n",
       "      <td>...</td>\n",
       "    </tr>\n",
       "    <tr>\n",
       "      <th>34188</th>\n",
       "      <td>51367</td>\n",
       "      <td>51367</td>\n",
       "      <td>popular community whose rule regularly enforce...</td>\n",
       "      <td>non-suicide</td>\n",
       "      <td>0</td>\n",
       "    </tr>\n",
       "    <tr>\n",
       "      <th>34189</th>\n",
       "      <td>203615</td>\n",
       "      <td>203615</td>\n",
       "      <td>post make picture mom dead cat sent trying pos...</td>\n",
       "      <td>suicide</td>\n",
       "      <td>1</td>\n",
       "    </tr>\n",
       "    <tr>\n",
       "      <th>34190</th>\n",
       "      <td>125617</td>\n",
       "      <td>125617</td>\n",
       "      <td>stand worki high school dropout friend greatly...</td>\n",
       "      <td>suicide</td>\n",
       "      <td>1</td>\n",
       "    </tr>\n",
       "    <tr>\n",
       "      <th>34191</th>\n",
       "      <td>37828</td>\n",
       "      <td>37828</td>\n",
       "      <td>anyone else feeling like point pandemic doe an...</td>\n",
       "      <td>non-suicide</td>\n",
       "      <td>0</td>\n",
       "    </tr>\n",
       "    <tr>\n",
       "      <th>34192</th>\n",
       "      <td>128899</td>\n",
       "      <td>128899</td>\n",
       "      <td>good day please thank good day good day good d...</td>\n",
       "      <td>non-suicide</td>\n",
       "      <td>0</td>\n",
       "    </tr>\n",
       "  </tbody>\n",
       "</table>\n",
       "<p>34193 rows × 5 columns</p>\n",
       "</div>"
      ],
      "text/plain": [
       "       Unnamed: 0  Unnamed: 0.1  \\\n",
       "0           93816         93816   \n",
       "1           20179         20179   \n",
       "2           96909         96909   \n",
       "3           11200         11200   \n",
       "4           47942         47942   \n",
       "...           ...           ...   \n",
       "34188       51367         51367   \n",
       "34189      203615        203615   \n",
       "34190      125617        125617   \n",
       "34191       37828         37828   \n",
       "34192      128899        128899   \n",
       "\n",
       "                                               processed        class  \\\n",
       "0      afraid creeping backat least past two week pre...      suicide   \n",
       "1      point usually lurker really post really live a...      suicide   \n",
       "2      donei try keep brief every time go something s...      suicide   \n",
       "3      becoming much necessarily suicidal person shit...      suicide   \n",
       "4              weird never even kissed girl relationship  non-suicide   \n",
       "...                                                  ...          ...   \n",
       "34188  popular community whose rule regularly enforce...  non-suicide   \n",
       "34189  post make picture mom dead cat sent trying pos...      suicide   \n",
       "34190  stand worki high school dropout friend greatly...      suicide   \n",
       "34191  anyone else feeling like point pandemic doe an...  non-suicide   \n",
       "34192  good day please thank good day good day good d...  non-suicide   \n",
       "\n",
       "       category  \n",
       "0             1  \n",
       "1             1  \n",
       "2             1  \n",
       "3             1  \n",
       "4             0  \n",
       "...         ...  \n",
       "34188         0  \n",
       "34189         1  \n",
       "34190         1  \n",
       "34191         0  \n",
       "34192         0  \n",
       "\n",
       "[34193 rows x 5 columns]"
      ]
     },
     "execution_count": 58,
     "metadata": {},
     "output_type": "execute_result"
    }
   ],
   "source": [
    "reddit_dataset"
   ]
  },
  {
   "cell_type": "code",
   "execution_count": 59,
   "id": "ee24cb71",
   "metadata": {},
   "outputs": [
    {
     "data": {
      "text/plain": [
       "1    18191\n",
       "0    16002\n",
       "Name: category, dtype: int64"
      ]
     },
     "execution_count": 59,
     "metadata": {},
     "output_type": "execute_result"
    }
   ],
   "source": [
    "reddit_dataset.category.value_counts()"
   ]
  },
  {
   "cell_type": "code",
   "execution_count": 75,
   "id": "9a456d27",
   "metadata": {},
   "outputs": [],
   "source": [
    "vectorized_data_red = pipeline.transform(reddit_dataset['processed'])\n",
    "vectorized_data_red_array = vectorized_data_red.toarray()"
   ]
  },
  {
   "cell_type": "code",
   "execution_count": 76,
   "id": "baddd62e",
   "metadata": {},
   "outputs": [],
   "source": [
    "result = clf.predict(vectorized_data_red_array)"
   ]
  },
  {
   "cell_type": "code",
   "execution_count": 83,
   "id": "972db718",
   "metadata": {},
   "outputs": [
    {
     "data": {
      "text/plain": [
       "(34193,)"
      ]
     },
     "execution_count": 83,
     "metadata": {},
     "output_type": "execute_result"
    }
   ],
   "source": [
    "result.shape"
   ]
  },
  {
   "cell_type": "code",
   "execution_count": 77,
   "id": "cb0fd875",
   "metadata": {},
   "outputs": [],
   "source": [
    "reddit_dataset['suicide_intensity'] = result\n",
    "reddit_dataset['intensity'] = list(Le.inverse_transform(result))\n",
    "reddit_dataset.to_csv(path+'reddit_dataset_with_CSSR_intensity.csv')"
   ]
  },
  {
   "cell_type": "code",
   "execution_count": 1,
   "id": "59b929a7",
   "metadata": {},
   "outputs": [],
   "source": [
    "import pandas as pd"
   ]
  },
  {
   "cell_type": "code",
   "execution_count": 3,
   "id": "d29bc411",
   "metadata": {},
   "outputs": [],
   "source": [
    "df = pd.read_csv(path+'reddit_dataset_with_CSSR_intensity.csv')"
   ]
  },
  {
   "cell_type": "code",
   "execution_count": 15,
   "id": "6324737c",
   "metadata": {},
   "outputs": [],
   "source": [
    "p = df.groupby(['class', 'intensity']).count()"
   ]
  },
  {
   "cell_type": "code",
   "execution_count": 16,
   "id": "9c9e77e5",
   "metadata": {},
   "outputs": [
    {
     "data": {
      "text/html": [
       "<div>\n",
       "<style scoped>\n",
       "    .dataframe tbody tr th:only-of-type {\n",
       "        vertical-align: middle;\n",
       "    }\n",
       "\n",
       "    .dataframe tbody tr th {\n",
       "        vertical-align: top;\n",
       "    }\n",
       "\n",
       "    .dataframe thead th {\n",
       "        text-align: right;\n",
       "    }\n",
       "</style>\n",
       "<table border=\"1\" class=\"dataframe\">\n",
       "  <thead>\n",
       "    <tr style=\"text-align: right;\">\n",
       "      <th></th>\n",
       "      <th></th>\n",
       "      <th>Unnamed: 0</th>\n",
       "      <th>Unnamed: 0.1</th>\n",
       "      <th>Unnamed: 0.1.1</th>\n",
       "      <th>processed</th>\n",
       "      <th>category</th>\n",
       "      <th>suicide_intensity</th>\n",
       "    </tr>\n",
       "    <tr>\n",
       "      <th>class</th>\n",
       "      <th>intensity</th>\n",
       "      <th></th>\n",
       "      <th></th>\n",
       "      <th></th>\n",
       "      <th></th>\n",
       "      <th></th>\n",
       "      <th></th>\n",
       "    </tr>\n",
       "  </thead>\n",
       "  <tbody>\n",
       "    <tr>\n",
       "      <th rowspan=\"3\" valign=\"top\">non-suicide</th>\n",
       "      <th>Behavior</th>\n",
       "      <td>1</td>\n",
       "      <td>1</td>\n",
       "      <td>1</td>\n",
       "      <td>1</td>\n",
       "      <td>1</td>\n",
       "      <td>1</td>\n",
       "    </tr>\n",
       "    <tr>\n",
       "      <th>Ideation</th>\n",
       "      <td>14766</td>\n",
       "      <td>14766</td>\n",
       "      <td>14766</td>\n",
       "      <td>14766</td>\n",
       "      <td>14766</td>\n",
       "      <td>14766</td>\n",
       "    </tr>\n",
       "    <tr>\n",
       "      <th>Indicator</th>\n",
       "      <td>1235</td>\n",
       "      <td>1235</td>\n",
       "      <td>1235</td>\n",
       "      <td>1235</td>\n",
       "      <td>1235</td>\n",
       "      <td>1235</td>\n",
       "    </tr>\n",
       "    <tr>\n",
       "      <th rowspan=\"2\" valign=\"top\">suicide</th>\n",
       "      <th>Ideation</th>\n",
       "      <td>18096</td>\n",
       "      <td>18096</td>\n",
       "      <td>18096</td>\n",
       "      <td>18096</td>\n",
       "      <td>18096</td>\n",
       "      <td>18096</td>\n",
       "    </tr>\n",
       "    <tr>\n",
       "      <th>Indicator</th>\n",
       "      <td>95</td>\n",
       "      <td>95</td>\n",
       "      <td>95</td>\n",
       "      <td>95</td>\n",
       "      <td>95</td>\n",
       "      <td>95</td>\n",
       "    </tr>\n",
       "  </tbody>\n",
       "</table>\n",
       "</div>"
      ],
      "text/plain": [
       "                       Unnamed: 0  Unnamed: 0.1  Unnamed: 0.1.1  processed  \\\n",
       "class       intensity                                                        \n",
       "non-suicide Behavior            1             1               1          1   \n",
       "            Ideation        14766         14766           14766      14766   \n",
       "            Indicator        1235          1235            1235       1235   \n",
       "suicide     Ideation        18096         18096           18096      18096   \n",
       "            Indicator          95            95              95         95   \n",
       "\n",
       "                       category  suicide_intensity  \n",
       "class       intensity                               \n",
       "non-suicide Behavior          1                  1  \n",
       "            Ideation      14766              14766  \n",
       "            Indicator      1235               1235  \n",
       "suicide     Ideation      18096              18096  \n",
       "            Indicator        95                 95  "
      ]
     },
     "execution_count": 16,
     "metadata": {},
     "output_type": "execute_result"
    }
   ],
   "source": [
    "p"
   ]
  },
  {
   "cell_type": "code",
   "execution_count": 55,
   "id": "5465f9c7",
   "metadata": {},
   "outputs": [
    {
     "data": {
      "text/html": [
       "<div>\n",
       "<style scoped>\n",
       "    .dataframe tbody tr th:only-of-type {\n",
       "        vertical-align: middle;\n",
       "    }\n",
       "\n",
       "    .dataframe tbody tr th {\n",
       "        vertical-align: top;\n",
       "    }\n",
       "\n",
       "    .dataframe thead th {\n",
       "        text-align: right;\n",
       "    }\n",
       "</style>\n",
       "<table border=\"1\" class=\"dataframe\">\n",
       "  <thead>\n",
       "    <tr style=\"text-align: right;\">\n",
       "      <th></th>\n",
       "      <th>Category</th>\n",
       "      <th>Ideation</th>\n",
       "      <th>Indicator</th>\n",
       "      <th>Behavior</th>\n",
       "    </tr>\n",
       "  </thead>\n",
       "  <tbody>\n",
       "    <tr>\n",
       "      <th>0</th>\n",
       "      <td>Depression</td>\n",
       "      <td>14753</td>\n",
       "      <td>1235</td>\n",
       "      <td>13</td>\n",
       "    </tr>\n",
       "    <tr>\n",
       "      <th>1</th>\n",
       "      <td>Suicide</td>\n",
       "      <td>18096</td>\n",
       "      <td>95</td>\n",
       "      <td>1</td>\n",
       "    </tr>\n",
       "  </tbody>\n",
       "</table>\n",
       "</div>"
      ],
      "text/plain": [
       "     Category  Ideation  Indicator  Behavior\n",
       "0  Depression     14753       1235        13\n",
       "1     Suicide     18096         95         1"
      ]
     },
     "execution_count": 55,
     "metadata": {},
     "output_type": "execute_result"
    }
   ],
   "source": [
    "df"
   ]
  },
  {
   "cell_type": "code",
   "execution_count": 2,
   "id": "b4d246cb",
   "metadata": {},
   "outputs": [
    {
     "ename": "NameError",
     "evalue": "name 'plt' is not defined",
     "output_type": "error",
     "traceback": [
      "\u001b[0;31m---------------------------------------------------------------------------\u001b[0m",
      "\u001b[0;31mNameError\u001b[0m                                 Traceback (most recent call last)",
      "\u001b[0;32m/tmp/ipykernel_7819/1990438812.py\u001b[0m in \u001b[0;36m<module>\u001b[0;34m\u001b[0m\n\u001b[1;32m     11\u001b[0m         \u001b[0mrot\u001b[0m\u001b[0;34m=\u001b[0m\u001b[0;36m0\u001b[0m\u001b[0;34m,\u001b[0m\u001b[0;34m\u001b[0m\u001b[0;34m\u001b[0m\u001b[0m\n\u001b[1;32m     12\u001b[0m         stacked=False)\n\u001b[0;32m---> 13\u001b[0;31m \u001b[0mplt\u001b[0m\u001b[0;34m.\u001b[0m\u001b[0mxlabel\u001b[0m\u001b[0;34m(\u001b[0m\u001b[0;34m'Category'\u001b[0m\u001b[0;34m)\u001b[0m\u001b[0;34m\u001b[0m\u001b[0;34m\u001b[0m\u001b[0m\n\u001b[0m\u001b[1;32m     14\u001b[0m \u001b[0mplt\u001b[0m\u001b[0;34m.\u001b[0m\u001b[0mylabel\u001b[0m\u001b[0;34m(\u001b[0m\u001b[0;34m'Number of samples'\u001b[0m\u001b[0;34m)\u001b[0m\u001b[0;34m\u001b[0m\u001b[0;34m\u001b[0m\u001b[0m\n\u001b[1;32m     15\u001b[0m \u001b[0mplt\u001b[0m\u001b[0;34m.\u001b[0m\u001b[0mtitle\u001b[0m\u001b[0;34m(\u001b[0m\u001b[0;34m'Suicidal Risk Estimation'\u001b[0m\u001b[0;34m)\u001b[0m\u001b[0;34m\u001b[0m\u001b[0;34m\u001b[0m\u001b[0m\n",
      "\u001b[0;31mNameError\u001b[0m: name 'plt' is not defined"
     ]
    },
    {
     "data": {
      "image/png": "[encoded data removed]",
      "text/plain": [
       "<Figure size 640x480 with 1 Axes>"
      ]
     },
     "metadata": {},
     "output_type": "display_data"
    }
   ],
   "source": [
    "# create data\n",
    "df = pd.DataFrame([['Depression', 14753, 1235, 13], ['Suicide', 18096, 95, 1]],\n",
    "                  columns=['Category', 'Ideation', 'Indicator', 'Behavior'])\n",
    "# view data\n",
    "# print(df)\n",
    "  \n",
    "# plot grouped bar chart\n",
    "df.plot(x='Category',\n",
    "        kind='bar',\n",
    "        log=True,\n",
    "        rot=0,\n",
    "        stacked=False)\n",
    "plt.xlabel('Category')\n",
    "plt.ylabel('Number of samples')\n",
    "plt.title('Suicidal Risk Estimation')\n",
    "plt.show()"
   ]
  },
  {
   "cell_type": "code",
   "execution_count": 75,
   "id": "cf4680b0",
   "metadata": {},
   "outputs": [],
   "source": [
    "import pandas as pd\n",
    "df = pd.read_csv('/home/ifte-home/Documents/mental_health/suicide/Suicide_Detection_processed.csv')"
   ]
  },
  {
   "cell_type": "code",
   "execution_count": 76,
   "id": "25cae917",
   "metadata": {},
   "outputs": [
    {
     "data": {
      "text/html": [
       "<div>\n",
       "<style scoped>\n",
       "    .dataframe tbody tr th:only-of-type {\n",
       "        vertical-align: middle;\n",
       "    }\n",
       "\n",
       "    .dataframe tbody tr th {\n",
       "        vertical-align: top;\n",
       "    }\n",
       "\n",
       "    .dataframe thead th {\n",
       "        text-align: right;\n",
       "    }\n",
       "</style>\n",
       "<table border=\"1\" class=\"dataframe\">\n",
       "  <thead>\n",
       "    <tr style=\"text-align: right;\">\n",
       "      <th></th>\n",
       "      <th>Unnamed: 0</th>\n",
       "      <th>processed</th>\n",
       "      <th>class</th>\n",
       "      <th>category</th>\n",
       "    </tr>\n",
       "  </thead>\n",
       "  <tbody>\n",
       "    <tr>\n",
       "      <th>0</th>\n",
       "      <td>0</td>\n",
       "      <td>ex wife threatening suiciderecently left wife ...</td>\n",
       "      <td>suicide</td>\n",
       "      <td>1</td>\n",
       "    </tr>\n",
       "    <tr>\n",
       "      <th>1</th>\n",
       "      <td>1</td>\n",
       "      <td>weird get affected compliment coming someone k...</td>\n",
       "      <td>non-suicide</td>\n",
       "      <td>0</td>\n",
       "    </tr>\n",
       "    <tr>\n",
       "      <th>2</th>\n",
       "      <td>2</td>\n",
       "      <td>finally almost never hear ha bad year ever swe...</td>\n",
       "      <td>non-suicide</td>\n",
       "      <td>0</td>\n",
       "    </tr>\n",
       "    <tr>\n",
       "      <th>3</th>\n",
       "      <td>3</td>\n",
       "      <td>need helpjust help im cry hard</td>\n",
       "      <td>suicide</td>\n",
       "      <td>1</td>\n",
       "    </tr>\n",
       "    <tr>\n",
       "      <th>4</th>\n",
       "      <td>4</td>\n",
       "      <td>losthello name adam struggling year afraid pas...</td>\n",
       "      <td>suicide</td>\n",
       "      <td>1</td>\n",
       "    </tr>\n",
       "    <tr>\n",
       "      <th>...</th>\n",
       "      <td>...</td>\n",
       "      <td>...</td>\n",
       "      <td>...</td>\n",
       "      <td>...</td>\n",
       "    </tr>\n",
       "    <tr>\n",
       "      <th>232069</th>\n",
       "      <td>232069</td>\n",
       "      <td>like rock going get anything go http musictast...</td>\n",
       "      <td>non-suicide</td>\n",
       "      <td>0</td>\n",
       "    </tr>\n",
       "    <tr>\n",
       "      <th>232070</th>\n",
       "      <td>232070</td>\n",
       "      <td>tell many friend lonely everything deprived pr...</td>\n",
       "      <td>non-suicide</td>\n",
       "      <td>0</td>\n",
       "    </tr>\n",
       "    <tr>\n",
       "      <th>232071</th>\n",
       "      <td>232071</td>\n",
       "      <td>pee probably taste like salty tea someone dran...</td>\n",
       "      <td>non-suicide</td>\n",
       "      <td>0</td>\n",
       "    </tr>\n",
       "    <tr>\n",
       "      <th>232072</th>\n",
       "      <td>232072</td>\n",
       "      <td>usual stuff find herei posting sympathy pity k...</td>\n",
       "      <td>suicide</td>\n",
       "      <td>1</td>\n",
       "    </tr>\n",
       "    <tr>\n",
       "      <th>232073</th>\n",
       "      <td>232073</td>\n",
       "      <td>still beaten first bos hollow knight fought ti...</td>\n",
       "      <td>non-suicide</td>\n",
       "      <td>0</td>\n",
       "    </tr>\n",
       "  </tbody>\n",
       "</table>\n",
       "<p>232074 rows × 4 columns</p>\n",
       "</div>"
      ],
      "text/plain": [
       "        Unnamed: 0                                          processed  \\\n",
       "0                0  ex wife threatening suiciderecently left wife ...   \n",
       "1                1  weird get affected compliment coming someone k...   \n",
       "2                2  finally almost never hear ha bad year ever swe...   \n",
       "3                3                     need helpjust help im cry hard   \n",
       "4                4  losthello name adam struggling year afraid pas...   \n",
       "...            ...                                                ...   \n",
       "232069      232069  like rock going get anything go http musictast...   \n",
       "232070      232070  tell many friend lonely everything deprived pr...   \n",
       "232071      232071  pee probably taste like salty tea someone dran...   \n",
       "232072      232072  usual stuff find herei posting sympathy pity k...   \n",
       "232073      232073  still beaten first bos hollow knight fought ti...   \n",
       "\n",
       "              class  category  \n",
       "0           suicide         1  \n",
       "1       non-suicide         0  \n",
       "2       non-suicide         0  \n",
       "3           suicide         1  \n",
       "4           suicide         1  \n",
       "...             ...       ...  \n",
       "232069  non-suicide         0  \n",
       "232070  non-suicide         0  \n",
       "232071  non-suicide         0  \n",
       "232072      suicide         1  \n",
       "232073  non-suicide         0  \n",
       "\n",
       "[232074 rows x 4 columns]"
      ]
     },
     "execution_count": 76,
     "metadata": {},
     "output_type": "execute_result"
    }
   ],
   "source": [
    "df"
   ]
  },
  {
   "cell_type": "code",
   "execution_count": 77,
   "id": "920c2d0b",
   "metadata": {},
   "outputs": [
    {
     "data": {
      "text/plain": [
       "1    116037\n",
       "0    116037\n",
       "Name: category, dtype: int64"
      ]
     },
     "execution_count": 77,
     "metadata": {},
     "output_type": "execute_result"
    }
   ],
   "source": [
    "df.category.value_counts()"
   ]
  },
  {
   "cell_type": "code",
   "execution_count": 49,
   "id": "570145dd",
   "metadata": {},
   "outputs": [
    {
     "data": {
      "text/plain": [
       "SVC(degree=2, gamma=0.7)"
      ]
     },
     "execution_count": 49,
     "metadata": {},
     "output_type": "execute_result"
    }
   ],
   "source": [
    "clf"
   ]
  },
  {
   "cell_type": "code",
   "execution_count": 50,
   "id": "1298735a",
   "metadata": {},
   "outputs": [],
   "source": [
    "df=df.dropna()"
   ]
  },
  {
   "cell_type": "code",
   "execution_count": 51,
   "id": "9c27c88f",
   "metadata": {},
   "outputs": [],
   "source": [
    "vectorized_data_red = pipeline.transform(df['processed'])"
   ]
  },
  {
   "cell_type": "code",
   "execution_count": null,
   "id": "43270d5c",
   "metadata": {},
   "outputs": [],
   "source": [
    "# vectorized_data_red_array = vectorized_data_red.toarray()"
   ]
  },
  {
   "cell_type": "code",
   "execution_count": 52,
   "id": "5dfe6c40",
   "metadata": {},
   "outputs": [],
   "source": [
    "result = clf.predict(vectorized_data_red)"
   ]
  },
  {
   "cell_type": "code",
   "execution_count": 55,
   "id": "311b42dc",
   "metadata": {},
   "outputs": [
    {
     "name": "stderr",
     "output_type": "stream",
     "text": [
      "/home/ifte-home/venvs/exp-Env/lib/python3.7/site-packages/ipykernel_launcher.py:1: SettingWithCopyWarning: \n",
      "A value is trying to be set on a copy of a slice from a DataFrame.\n",
      "Try using .loc[row_indexer,col_indexer] = value instead\n",
      "\n",
      "See the caveats in the documentation: https://pandas.pydata.org/pandas-docs/stable/user_guide/indexing.html#returning-a-view-versus-a-copy\n",
      "  \"\"\"Entry point for launching an IPython kernel.\n",
      "/home/ifte-home/venvs/exp-Env/lib/python3.7/site-packages/ipykernel_launcher.py:2: SettingWithCopyWarning: \n",
      "A value is trying to be set on a copy of a slice from a DataFrame.\n",
      "Try using .loc[row_indexer,col_indexer] = value instead\n",
      "\n",
      "See the caveats in the documentation: https://pandas.pydata.org/pandas-docs/stable/user_guide/indexing.html#returning-a-view-versus-a-copy\n",
      "  \n"
     ]
    },
    {
     "data": {
      "text/html": [
       "<div>\n",
       "<style scoped>\n",
       "    .dataframe tbody tr th:only-of-type {\n",
       "        vertical-align: middle;\n",
       "    }\n",
       "\n",
       "    .dataframe tbody tr th {\n",
       "        vertical-align: top;\n",
       "    }\n",
       "\n",
       "    .dataframe thead th {\n",
       "        text-align: right;\n",
       "    }\n",
       "</style>\n",
       "<table border=\"1\" class=\"dataframe\">\n",
       "  <thead>\n",
       "    <tr style=\"text-align: right;\">\n",
       "      <th></th>\n",
       "      <th></th>\n",
       "      <th>Unnamed: 0</th>\n",
       "      <th>processed</th>\n",
       "      <th>category</th>\n",
       "      <th>suicide_intensity</th>\n",
       "    </tr>\n",
       "    <tr>\n",
       "      <th>class</th>\n",
       "      <th>intensity</th>\n",
       "      <th></th>\n",
       "      <th></th>\n",
       "      <th></th>\n",
       "      <th></th>\n",
       "    </tr>\n",
       "  </thead>\n",
       "  <tbody>\n",
       "    <tr>\n",
       "      <th rowspan=\"4\" valign=\"top\">non-suicide</th>\n",
       "      <th>Attempt</th>\n",
       "      <td>2</td>\n",
       "      <td>2</td>\n",
       "      <td>2</td>\n",
       "      <td>2</td>\n",
       "    </tr>\n",
       "    <tr>\n",
       "      <th>Behavior</th>\n",
       "      <td>74</td>\n",
       "      <td>74</td>\n",
       "      <td>74</td>\n",
       "      <td>74</td>\n",
       "    </tr>\n",
       "    <tr>\n",
       "      <th>Ideation</th>\n",
       "      <td>112929</td>\n",
       "      <td>112929</td>\n",
       "      <td>112929</td>\n",
       "      <td>112929</td>\n",
       "    </tr>\n",
       "    <tr>\n",
       "      <th>Indicator</th>\n",
       "      <td>2971</td>\n",
       "      <td>2971</td>\n",
       "      <td>2971</td>\n",
       "      <td>2971</td>\n",
       "    </tr>\n",
       "    <tr>\n",
       "      <th rowspan=\"4\" valign=\"top\">suicide</th>\n",
       "      <th>Attempt</th>\n",
       "      <td>7</td>\n",
       "      <td>7</td>\n",
       "      <td>7</td>\n",
       "      <td>7</td>\n",
       "    </tr>\n",
       "    <tr>\n",
       "      <th>Behavior</th>\n",
       "      <td>146</td>\n",
       "      <td>146</td>\n",
       "      <td>146</td>\n",
       "      <td>146</td>\n",
       "    </tr>\n",
       "    <tr>\n",
       "      <th>Ideation</th>\n",
       "      <td>115014</td>\n",
       "      <td>115014</td>\n",
       "      <td>115014</td>\n",
       "      <td>115014</td>\n",
       "    </tr>\n",
       "    <tr>\n",
       "      <th>Indicator</th>\n",
       "      <td>853</td>\n",
       "      <td>853</td>\n",
       "      <td>853</td>\n",
       "      <td>853</td>\n",
       "    </tr>\n",
       "  </tbody>\n",
       "</table>\n",
       "</div>"
      ],
      "text/plain": [
       "                       Unnamed: 0  processed  category  suicide_intensity\n",
       "class       intensity                                                    \n",
       "non-suicide Attempt             2          2         2                  2\n",
       "            Behavior           74         74        74                 74\n",
       "            Ideation       112929     112929    112929             112929\n",
       "            Indicator        2971       2971      2971               2971\n",
       "suicide     Attempt             7          7         7                  7\n",
       "            Behavior          146        146       146                146\n",
       "            Ideation       115014     115014    115014             115014\n",
       "            Indicator         853        853       853                853"
      ]
     },
     "execution_count": 55,
     "metadata": {},
     "output_type": "execute_result"
    }
   ],
   "source": [
    "df['suicide_intensity'] = result\n",
    "df['intensity'] = list(Le.inverse_transform(result))\n",
    "df.to_csv(path+'reddit_dataset_with_CSSR_intensity.csv')\n",
    "p = df.groupby(['class', 'intensity']).count()\n",
    "p"
   ]
  },
  {
   "cell_type": "code",
   "execution_count": 2,
   "id": "673c270f",
   "metadata": {},
   "outputs": [],
   "source": [
    "import pandas as pd"
   ]
  },
  {
   "cell_type": "code",
   "execution_count": 5,
   "id": "7fbde711",
   "metadata": {},
   "outputs": [],
   "source": [
    "df = pd.read_csv(path+'reddit_dataset_with_CSSR_intensity.csv')"
   ]
  },
  {
   "cell_type": "code",
   "execution_count": 6,
   "id": "d1175ce0",
   "metadata": {},
   "outputs": [],
   "source": [
    "p = df.groupby(['class', 'intensity']).count()"
   ]
  },
  {
   "cell_type": "code",
   "execution_count": 7,
   "id": "58311498",
   "metadata": {},
   "outputs": [
    {
     "data": {
      "text/plain": [
       "intensity\n",
       "Attempt           7\n",
       "Behavior        146\n",
       "Ideation     115014\n",
       "Indicator       853\n",
       "Name: suicide_intensity, dtype: int64"
      ]
     },
     "execution_count": 7,
     "metadata": {},
     "output_type": "execute_result"
    }
   ],
   "source": [
    "p['suicide_intensity'].get('suicide')"
   ]
  },
  {
   "cell_type": "code",
   "execution_count": 9,
   "id": "8f66be1d",
   "metadata": {},
   "outputs": [],
   "source": [
    "q = p.transpose()"
   ]
  },
  {
   "cell_type": "code",
   "execution_count": 14,
   "id": "f4efec5d",
   "metadata": {},
   "outputs": [
    {
     "data": {
      "text/html": [
       "<div>\n",
       "<style scoped>\n",
       "    .dataframe tbody tr th:only-of-type {\n",
       "        vertical-align: middle;\n",
       "    }\n",
       "\n",
       "    .dataframe tbody tr th {\n",
       "        vertical-align: top;\n",
       "    }\n",
       "\n",
       "    .dataframe thead tr th {\n",
       "        text-align: left;\n",
       "    }\n",
       "</style>\n",
       "<table border=\"1\" class=\"dataframe\">\n",
       "  <thead>\n",
       "    <tr>\n",
       "      <th>class</th>\n",
       "      <th colspan=\"4\" halign=\"left\">non-suicide</th>\n",
       "      <th colspan=\"4\" halign=\"left\">suicide</th>\n",
       "    </tr>\n",
       "    <tr>\n",
       "      <th>intensity</th>\n",
       "      <th>Attempt</th>\n",
       "      <th>Behavior</th>\n",
       "      <th>Ideation</th>\n",
       "      <th>Indicator</th>\n",
       "      <th>Attempt</th>\n",
       "      <th>Behavior</th>\n",
       "      <th>Ideation</th>\n",
       "      <th>Indicator</th>\n",
       "    </tr>\n",
       "  </thead>\n",
       "  <tbody>\n",
       "    <tr>\n",
       "      <th>Unnamed: 0</th>\n",
       "      <td>2</td>\n",
       "      <td>74</td>\n",
       "      <td>112929</td>\n",
       "      <td>2971</td>\n",
       "      <td>7</td>\n",
       "      <td>146</td>\n",
       "      <td>115014</td>\n",
       "      <td>853</td>\n",
       "    </tr>\n",
       "    <tr>\n",
       "      <th>Unnamed: 0.1</th>\n",
       "      <td>2</td>\n",
       "      <td>74</td>\n",
       "      <td>112929</td>\n",
       "      <td>2971</td>\n",
       "      <td>7</td>\n",
       "      <td>146</td>\n",
       "      <td>115014</td>\n",
       "      <td>853</td>\n",
       "    </tr>\n",
       "    <tr>\n",
       "      <th>processed</th>\n",
       "      <td>2</td>\n",
       "      <td>74</td>\n",
       "      <td>112929</td>\n",
       "      <td>2971</td>\n",
       "      <td>7</td>\n",
       "      <td>146</td>\n",
       "      <td>115014</td>\n",
       "      <td>853</td>\n",
       "    </tr>\n",
       "    <tr>\n",
       "      <th>category</th>\n",
       "      <td>2</td>\n",
       "      <td>74</td>\n",
       "      <td>112929</td>\n",
       "      <td>2971</td>\n",
       "      <td>7</td>\n",
       "      <td>146</td>\n",
       "      <td>115014</td>\n",
       "      <td>853</td>\n",
       "    </tr>\n",
       "    <tr>\n",
       "      <th>suicide_intensity</th>\n",
       "      <td>2</td>\n",
       "      <td>74</td>\n",
       "      <td>112929</td>\n",
       "      <td>2971</td>\n",
       "      <td>7</td>\n",
       "      <td>146</td>\n",
       "      <td>115014</td>\n",
       "      <td>853</td>\n",
       "    </tr>\n",
       "  </tbody>\n",
       "</table>\n",
       "</div>"
      ],
      "text/plain": [
       "class             non-suicide                             suicide           \\\n",
       "intensity             Attempt Behavior Ideation Indicator Attempt Behavior   \n",
       "Unnamed: 0                  2       74   112929      2971       7      146   \n",
       "Unnamed: 0.1                2       74   112929      2971       7      146   \n",
       "processed                   2       74   112929      2971       7      146   \n",
       "category                    2       74   112929      2971       7      146   \n",
       "suicide_intensity           2       74   112929      2971       7      146   \n",
       "\n",
       "class                                 \n",
       "intensity         Ideation Indicator  \n",
       "Unnamed: 0          115014       853  \n",
       "Unnamed: 0.1        115014       853  \n",
       "processed           115014       853  \n",
       "category            115014       853  \n",
       "suicide_intensity   115014       853  "
      ]
     },
     "execution_count": 14,
     "metadata": {},
     "output_type": "execute_result"
    }
   ],
   "source": [
    "q"
   ]
  },
  {
   "cell_type": "code",
   "execution_count": 13,
   "id": "d92ac22f",
   "metadata": {},
   "outputs": [
    {
     "name": "stdout",
     "output_type": "stream",
     "text": [
      "Attempt\n",
      "Behavior\n",
      "Ideation\n",
      "Indicator\n",
      "Attempt\n",
      "Behavior\n",
      "Ideation\n",
      "Indicator\n"
     ]
    }
   ],
   "source": [
    "for i, j in q.columns:\n",
    "    print(j)"
   ]
  },
  {
   "cell_type": "code",
   "execution_count": 5,
   "id": "c5384196",
   "metadata": {},
   "outputs": [],
   "source": [
    "import matplotlib.pyplot as plt\n",
    "import seaborn as sns\n",
    "sns.set_style('darkgrid')"
   ]
  },
  {
   "cell_type": "code",
   "execution_count": 13,
   "id": "d409942a",
   "metadata": {},
   "outputs": [
    {
     "data": {
      "image/png": "[encoded data removed]",
      "text/plain": [
       "<Figure size 640x480 with 1 Axes>"
      ]
     },
     "metadata": {},
     "output_type": "display_data"
    }
   ],
   "source": [
    "# create data\n",
    "df = pd.DataFrame([['Depression',4,74,112924,2971,3], \n",
    "                   ['Suicide',14,146,115000,853,7]\n",
    "                  ],\n",
    "              columns=['Category', \n",
    "                       'Attempt',\n",
    "                       'Behavior',\n",
    "                       'Ideation',\n",
    "                       'Indicator', \n",
    "                       'Supportive',\n",
    "                      ]\n",
    "                 )\n",
    "# view data\n",
    "# print(df)\n",
    "  \n",
    "# plot grouped bar chart\n",
    "df.plot(x='Category',\n",
    "        kind='bar',\n",
    "        log=True,\n",
    "        rot=0,\n",
    "        stacked=False)\n",
    "plt.xlabel('Category')\n",
    "plt.ylabel('Number of samples')\n",
    "plt.title('Suicidal Risk Estimation')\n",
    "plt.show()"
   ]
  },
  {
   "cell_type": "code",
   "execution_count": 78,
   "id": "8305d3e4",
   "metadata": {},
   "outputs": [],
   "source": [
    "from sklearn.metrics.pairwise import cosine_similarity"
   ]
  },
  {
   "cell_type": "code",
   "execution_count": 79,
   "id": "315ef698",
   "metadata": {},
   "outputs": [
    {
     "name": "stdout",
     "output_type": "stream",
     "text": [
      "[[0.99982147]]\n"
     ]
    }
   ],
   "source": [
    "import numpy as np\n",
    "array_vec_1 = np.array([[2,74,112929,2971]])\n",
    "array_vec_2 = np.array([[7,146,115014,853]])\n",
    "print(cosine_similarity(array_vec_1, array_vec_2))"
   ]
  },
  {
   "cell_type": "code",
   "execution_count": 3,
   "id": "08871b89",
   "metadata": {},
   "outputs": [],
   "source": [
    "import pandas as pd\n",
    "import matplotlib.pyplot as plt"
   ]
  },
  {
   "cell_type": "code",
   "execution_count": 8,
   "id": "52f40741",
   "metadata": {},
   "outputs": [
    {
     "data": {
      "image/png": "[encoded data removed]",
      "text/plain": [
       "<Figure size 640x480 with 1 Axes>"
      ]
     },
     "metadata": {},
     "output_type": "display_data"
    }
   ],
   "source": [
    "    df = pd.DataFrame([['Depression', 12,118,9703,86098,5155],\n",
    "                       ['Suicide', 46,1060,8701,85935,5206]],\n",
    "                      columns=['Category', 'Attempt', 'Behavior', 'Ideation', 'Indicator', 'Supportive'])\n",
    "\n",
    "#     df = pd.DataFrame([dep, sui_data], columns=COLS)\n",
    "    df.plot(x='Category',\n",
    "            kind='bar',\n",
    "            log=True,\n",
    "            rot=0,\n",
    "            stacked=False)\n",
    "    plt.xlabel('Category')\n",
    "    plt.ylabel('Number of samples')\n",
    "    plt.title('Suicidal Risk Estimation')\n",
    "    plt.show()\n",
    "\n",
    "#     vec_1 = np.array([dep[1:]])\n",
    "#     vec_2 = np.array([sui_data[1:]])\n",
    "#     return cosine_similarity(vec_1, vec_2)"
   ]
  },
  {
   "cell_type": "code",
   "execution_count": 22,
   "id": "d9d70abb",
   "metadata": {},
   "outputs": [
    {
     "data": {
      "image/png": "[encoded data removed]",
      "text/plain": [
       "<Figure size 1400x800 with 1 Axes>"
      ]
     },
     "metadata": {},
     "output_type": "display_data"
    }
   ],
   "source": [
    "import pandas as pd\n",
    "import matplotlib.pyplot as plt\n",
    "import numpy as np\n",
    "import seaborn as sns\n",
    "\n",
    "# Data\n",
    "data = [\n",
    "    ['Depression_W2V', 12, 118, 9703, 86098, 5155],\n",
    "    ['Suicide_W2V', 46, 1060, 8701, 85935, 5206],\n",
    "    ['Depression_TFIDF', 4, 74, 112924, 2971, 3],\n",
    "    ['Suicide_TFIDF', 14, 146, 115000, 853, 7]\n",
    "]\n",
    "\n",
    "\n",
    "# Convert to DataFrame\n",
    "df = pd.DataFrame(data, columns=['Category', 'Attempt', 'Behavior', 'Ideation', 'Indicator', 'Supportive'])\n",
    "\n",
    "# Melt the DataFrame to a long format for Seaborn\n",
    "df_melted = df.melt(id_vars='Category', var_name='Metric', value_name='Count')\n",
    "\n",
    "# Set the aesthetic style of the plots\n",
    "sns.set(style=\"ticks\")  # Set the style to 'ticks' to keep only the axes borders\n",
    "\n",
    "# Create the plot\n",
    "plt.figure(figsize=(14, 8))\n",
    "ax = sns.barplot(x='Category', y='Count', hue='Metric', data=df_melted, palette='rocket')  # Using 'deep' palette\n",
    "\n",
    "# Set log scale for the y-axis\n",
    "ax.set_yscale('log')\n",
    "\n",
    "# Add titles and labels\n",
    "ax.set_title('Suicidal Risk Estimation', fontsize=16)\n",
    "ax.set_xlabel('Category', fontsize=14)\n",
    "ax.set_ylabel('Number of Samples (log scale)', fontsize=14)\n",
    "\n",
    "# Rotate the x-tick labels for better readability\n",
    "plt.xticks(rotation=45, ha='right')\n",
    "\n",
    "# Remove the top and right spines (borders)\n",
    "sns.despine(ax=ax)\n",
    "\n",
    "# Move the legend outside the plot\n",
    "plt.legend(title='Metric', bbox_to_anchor=(1.05, 1), loc='upper left')\n",
    "\n",
    "# Improve layout\n",
    "plt.tight_layout()\n",
    "\n",
    "# Show plot\n",
    "plt.show()"
   ]
  },
  {
   "cell_type": "code",
   "execution_count": 13,
   "id": "85e8cdc3",
   "metadata": {},
   "outputs": [
    {
     "name": "stdout",
     "output_type": "stream",
     "text": [
      "Requirement already satisfied: pandas in /home/iftekhar/ENV/lib/python3.7/site-packages (1.3.5)\r\n",
      "Requirement already satisfied: python-dateutil>=2.7.3 in /home/iftekhar/ENV/lib/python3.7/site-packages (from pandas) (2.9.0.post0)\r\n",
      "Requirement already satisfied: pytz>=2017.3 in /home/iftekhar/ENV/lib/python3.7/site-packages (from pandas) (2024.1)\r\n",
      "Requirement already satisfied: numpy>=1.17.3 in /home/iftekhar/ENV/lib/python3.7/site-packages (from pandas) (1.21.6)\r\n",
      "Requirement already satisfied: six>=1.5 in /home/iftekhar/ENV/lib/python3.7/site-packages (from python-dateutil>=2.7.3->pandas) (1.16.0)\r\n"
     ]
    }
   ],
   "source": [
    "!pip install pandas"
   ]
  },
  {
   "cell_type": "code",
   "execution_count": null,
   "id": "5c63180f",
   "metadata": {},
   "outputs": [],
   "source": []
  },
  {
   "cell_type": "code",
   "execution_count": null,
   "id": "8dcd20b7",
   "metadata": {},
   "outputs": [],
   "source": []
  },
  {
   "cell_type": "code",
   "execution_count": null,
   "id": "aae6863d",
   "metadata": {},
   "outputs": [],
   "source": []
  }
 ],
 "metadata": {
  "kernelspec": {
   "display_name": "Python 3 (ipykernel)",
   "language": "python",
   "name": "python3"
  },
  "language_info": {
   "codemirror_mode": {
    "name": "ipython",
    "version": 3
   },
   "file_extension": ".py",
   "mimetype": "text/x-python",
   "name": "python",
   "nbconvert_exporter": "python",
   "pygments_lexer": "ipython3",
   "version": "3.7.5"
  }
 },
 "nbformat": 4,
 "nbformat_minor": 5
}
