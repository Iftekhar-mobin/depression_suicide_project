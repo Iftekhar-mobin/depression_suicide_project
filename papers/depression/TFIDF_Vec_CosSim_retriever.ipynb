{
 "cells": [
  {
   "cell_type": "code",
   "execution_count": 2,
   "metadata": {},
   "outputs": [],
   "source": [
    "import sys\n",
    "from collections import Counter\n",
    "from sklearn.metrics.pairwise import cosine_similarity\n",
    "import pandas as pd\n",
    "from sklearn.feature_extraction.text import CountVectorizer, TfidfVectorizer, TfidfTransformer\n",
    "from sklearn.pipeline import Pipeline\n",
    "import numpy as np\n",
    "from sklearn.metrics.pairwise import linear_kernel"
   ]
  },
  {
   "cell_type": "code",
   "execution_count": 3,
   "metadata": {},
   "outputs": [],
   "source": [
    "df = pd.read_csv('/home/ifte-home/Documents/mental_health/suicide/Suicide_Detection_processed.csv', index_col=0)"
   ]
  },
  {
   "cell_type": "code",
   "execution_count": 4,
   "metadata": {},
   "outputs": [],
   "source": [
    "df = df[df['label']=='non-suicide']\n",
    "df = df.dropna()\n",
    "df = df.astype('str')\n",
    "df = df[['text', 'label']]\n",
    "df.reset_index(inplace=True, drop=True)"
   ]
  },
  {
   "cell_type": "code",
   "execution_count": 4,
   "metadata": {},
   "outputs": [
    {
     "data": {
      "text/html": [
       "<div>\n",
       "<style scoped>\n",
       "    .dataframe tbody tr th:only-of-type {\n",
       "        vertical-align: middle;\n",
       "    }\n",
       "\n",
       "    .dataframe tbody tr th {\n",
       "        vertical-align: top;\n",
       "    }\n",
       "\n",
       "    .dataframe thead th {\n",
       "        text-align: right;\n",
       "    }\n",
       "</style>\n",
       "<table border=\"1\" class=\"dataframe\">\n",
       "  <thead>\n",
       "    <tr style=\"text-align: right;\">\n",
       "      <th></th>\n",
       "      <th>text</th>\n",
       "      <th>label</th>\n",
       "    </tr>\n",
       "  </thead>\n",
       "  <tbody>\n",
       "    <tr>\n",
       "      <th>0</th>\n",
       "      <td>weird affected compliment coming someone know ...</td>\n",
       "      <td>non-suicide</td>\n",
       "    </tr>\n",
       "    <tr>\n",
       "      <th>1</th>\n",
       "      <td>finally 2020 almost never hear 2020 year ever ...</td>\n",
       "      <td>non-suicide</td>\n",
       "    </tr>\n",
       "    <tr>\n",
       "      <th>2</th>\n",
       "      <td>everyone want edgy making self conscious feel ...</td>\n",
       "      <td>non-suicide</td>\n",
       "    </tr>\n",
       "    <tr>\n",
       "      <th>3</th>\n",
       "      <td>fuck verizon smart family even watch porn priv...</td>\n",
       "      <td>non-suicide</td>\n",
       "    </tr>\n",
       "    <tr>\n",
       "      <th>4</th>\n",
       "      <td>well screwed locked school toilet edit lived t...</td>\n",
       "      <td>non-suicide</td>\n",
       "    </tr>\n",
       "    <tr>\n",
       "      <th>...</th>\n",
       "      <td>...</td>\n",
       "      <td>...</td>\n",
       "    </tr>\n",
       "    <tr>\n",
       "      <th>115889</th>\n",
       "      <td>something today went sledding friend seem like...</td>\n",
       "      <td>non-suicide</td>\n",
       "    </tr>\n",
       "    <tr>\n",
       "      <th>115890</th>\n",
       "      <td>like rock going anything http musictaste space...</td>\n",
       "      <td>non-suicide</td>\n",
       "    </tr>\n",
       "    <tr>\n",
       "      <th>115891</th>\n",
       "      <td>tell many friend lonely everything deprived bo...</td>\n",
       "      <td>non-suicide</td>\n",
       "    </tr>\n",
       "    <tr>\n",
       "      <th>115892</th>\n",
       "      <td>probably taste like salty someone drank confirm</td>\n",
       "      <td>non-suicide</td>\n",
       "    </tr>\n",
       "    <tr>\n",
       "      <th>115893</th>\n",
       "      <td>still beaten first hollow knight fought time a...</td>\n",
       "      <td>non-suicide</td>\n",
       "    </tr>\n",
       "  </tbody>\n",
       "</table>\n",
       "<p>115894 rows × 2 columns</p>\n",
       "</div>"
      ],
      "text/plain": [
       "                                                     text        label\n",
       "0       weird affected compliment coming someone know ...  non-suicide\n",
       "1       finally 2020 almost never hear 2020 year ever ...  non-suicide\n",
       "2       everyone want edgy making self conscious feel ...  non-suicide\n",
       "3       fuck verizon smart family even watch porn priv...  non-suicide\n",
       "4       well screwed locked school toilet edit lived t...  non-suicide\n",
       "...                                                   ...          ...\n",
       "115889  something today went sledding friend seem like...  non-suicide\n",
       "115890  like rock going anything http musictaste space...  non-suicide\n",
       "115891  tell many friend lonely everything deprived bo...  non-suicide\n",
       "115892    probably taste like salty someone drank confirm  non-suicide\n",
       "115893  still beaten first hollow knight fought time a...  non-suicide\n",
       "\n",
       "[115894 rows x 2 columns]"
      ]
     },
     "execution_count": 4,
     "metadata": {},
     "output_type": "execute_result"
    }
   ],
   "source": [
    "df"
   ]
  },
  {
   "cell_type": "code",
   "execution_count": 5,
   "metadata": {},
   "outputs": [],
   "source": [
    "from ipynb.fs.full.preprocess_and_generate_dataset import generate_dataframe"
   ]
  },
  {
   "cell_type": "code",
   "execution_count": 6,
   "metadata": {},
   "outputs": [],
   "source": [
    "class_dataframe = generate_dataframe(10)\n",
    "class_dataframe = class_dataframe.rename(columns={'Post': 'text', 'Label':'label'})\n",
    "CSSR_CAT = ['Indicator', 'Attempt','Behavior','Ideation', 'Supportive']\n",
    "output = dict.fromkeys(CSSR_CAT)"
   ]
  },
  {
   "cell_type": "code",
   "execution_count": 10,
   "metadata": {},
   "outputs": [
    {
     "name": "stdout",
     "output_type": "stream",
     "text": [
      "Training\n"
     ]
    },
    {
     "name": "stderr",
     "output_type": "stream",
     "text": [
      "/home/ifte-home/venvs/exp-Env/lib/python3.7/site-packages/ipykernel_launcher.py:20: SettingWithCopyWarning: \n",
      "A value is trying to be set on a copy of a slice from a DataFrame.\n",
      "Try using .loc[row_indexer,col_indexer] = value instead\n",
      "\n",
      "See the caveats in the documentation: https://pandas.pydata.org/pandas-docs/stable/user_guide/indexing.html#returning-a-view-versus-a-copy\n"
     ]
    },
    {
     "name": "stdout",
     "output_type": "stream",
     "text": [
      "Training\n",
      "Training\n",
      "Training\n",
      "Training\n"
     ]
    },
    {
     "data": {
      "text/plain": [
       "{'Indicator': 0.23291077928902698,\n",
       " 'Attempt': 0.27430460288882347,\n",
       " 'Behavior': 0.284891761030822,\n",
       " 'Ideation': 0.27006992777845823,\n",
       " 'Supportive': 0.25119659352840285}"
      ]
     },
     "execution_count": 10,
     "metadata": {},
     "output_type": "execute_result"
    }
   ],
   "source": [
    "best_df = pd.DataFrame()\n",
    "for i in CSSR_CAT:\n",
    "    classifier_df = class_dataframe[class_dataframe['label']==i]\n",
    "    classifier_df.reset_index(inplace=True, drop=True)\n",
    "#     dr_index = np.array(list(range(len(classifier_df))))\n",
    "#     print('Length:', len(classifier_df), i)\n",
    "\n",
    "    classifier_df = ' '.join(classifier_df['text'].values.tolist())\n",
    "    main_df = pd.concat([pd.DataFrame([classifier_df], columns=['text']), df])\n",
    "    main_df.reset_index(inplace=True, drop=True)\n",
    "    print('Training')\n",
    "    term_matrix, pipe = train_dataset(main_df)\n",
    "#     compare_text = pipe.transform(classifier_df)\n",
    "    temp, best_indices = collect_result(term_matrix)\n",
    "    output[i] = temp\n",
    "#     print(main_df.iloc[best_indices])\n",
    "    \n",
    "#     break\n",
    "    new_df = main_df.iloc[best_indices]\n",
    "    new_df['label'] = np.where(new_df['label'] == 'non-suicide', i, 'non-suicide')\n",
    "    best_df = pd.concat([best_df, new_df])\n",
    "\n",
    "output"
   ]
  },
  {
   "cell_type": "code",
   "execution_count": 11,
   "metadata": {},
   "outputs": [
    {
     "data": {
      "text/plain": [
       "{'Indicator': 0.23291077928902698,\n",
       " 'Attempt': 0.27430460288882347,\n",
       " 'Behavior': 0.284891761030822,\n",
       " 'Ideation': 0.27006992777845823,\n",
       " 'Supportive': 0.25119659352840285}"
      ]
     },
     "execution_count": 11,
     "metadata": {},
     "output_type": "execute_result"
    }
   ],
   "source": [
    "output"
   ]
  },
  {
   "cell_type": "code",
   "execution_count": 12,
   "metadata": {},
   "outputs": [
    {
     "data": {
      "text/html": [
       "<div>\n",
       "<style scoped>\n",
       "    .dataframe tbody tr th:only-of-type {\n",
       "        vertical-align: middle;\n",
       "    }\n",
       "\n",
       "    .dataframe tbody tr th {\n",
       "        vertical-align: top;\n",
       "    }\n",
       "\n",
       "    .dataframe thead th {\n",
       "        text-align: right;\n",
       "    }\n",
       "</style>\n",
       "<table border=\"1\" class=\"dataframe\">\n",
       "  <thead>\n",
       "    <tr style=\"text-align: right;\">\n",
       "      <th></th>\n",
       "      <th>text</th>\n",
       "      <th>label</th>\n",
       "    </tr>\n",
       "  </thead>\n",
       "  <tbody>\n",
       "    <tr>\n",
       "      <th>69567</th>\n",
       "      <td>time read format wanted make book could done j...</td>\n",
       "      <td>Indicator</td>\n",
       "    </tr>\n",
       "    <tr>\n",
       "      <th>5571</th>\n",
       "      <td>depressed year story hope help raise awareness...</td>\n",
       "      <td>Indicator</td>\n",
       "    </tr>\n",
       "    <tr>\n",
       "      <th>34978</th>\n",
       "      <td>long text friend doubt anyone read tldr highly...</td>\n",
       "      <td>Indicator</td>\n",
       "    </tr>\n",
       "    <tr>\n",
       "      <th>28886</th>\n",
       "      <td>fuck idek name call badger year canadian dont ...</td>\n",
       "      <td>Indicator</td>\n",
       "    </tr>\n",
       "    <tr>\n",
       "      <th>87420</th>\n",
       "      <td>pickle pickle existence girl matter born write...</td>\n",
       "      <td>Indicator</td>\n",
       "    </tr>\n",
       "    <tr>\n",
       "      <th>...</th>\n",
       "      <td>...</td>\n",
       "      <td>...</td>\n",
       "    </tr>\n",
       "    <tr>\n",
       "      <th>41618</th>\n",
       "      <td>hentai helped become simp warning loooong text...</td>\n",
       "      <td>Supportive</td>\n",
       "    </tr>\n",
       "    <tr>\n",
       "      <th>31865</th>\n",
       "      <td>anyone need reason live would miss worth alive...</td>\n",
       "      <td>Supportive</td>\n",
       "    </tr>\n",
       "    <tr>\n",
       "      <th>14780</th>\n",
       "      <td>stressing life frankly sick tired world someti...</td>\n",
       "      <td>Supportive</td>\n",
       "    </tr>\n",
       "    <tr>\n",
       "      <th>40249</th>\n",
       "      <td>last advice offer make mistake often severe ot...</td>\n",
       "      <td>Supportive</td>\n",
       "    </tr>\n",
       "    <tr>\n",
       "      <th>69718</th>\n",
       "      <td>faking someone else front people guess would w...</td>\n",
       "      <td>Supportive</td>\n",
       "    </tr>\n",
       "  </tbody>\n",
       "</table>\n",
       "<p>500 rows × 2 columns</p>\n",
       "</div>"
      ],
      "text/plain": [
       "                                                    text       label\n",
       "69567  time read format wanted make book could done j...   Indicator\n",
       "5571   depressed year story hope help raise awareness...   Indicator\n",
       "34978  long text friend doubt anyone read tldr highly...   Indicator\n",
       "28886  fuck idek name call badger year canadian dont ...   Indicator\n",
       "87420  pickle pickle existence girl matter born write...   Indicator\n",
       "...                                                  ...         ...\n",
       "41618  hentai helped become simp warning loooong text...  Supportive\n",
       "31865  anyone need reason live would miss worth alive...  Supportive\n",
       "14780  stressing life frankly sick tired world someti...  Supportive\n",
       "40249  last advice offer make mistake often severe ot...  Supportive\n",
       "69718  faking someone else front people guess would w...  Supportive\n",
       "\n",
       "[500 rows x 2 columns]"
      ]
     },
     "execution_count": 12,
     "metadata": {},
     "output_type": "execute_result"
    }
   ],
   "source": [
    "best_df"
   ]
  },
  {
   "cell_type": "code",
   "execution_count": 13,
   "metadata": {},
   "outputs": [],
   "source": [
    "best_df.to_csv('/home/ifte-home/Documents/mental_health/suicide/CSSRS/TFIDF_result_suicide_intensity.csv')"
   ]
  },
  {
   "cell_type": "code",
   "execution_count": 9,
   "metadata": {},
   "outputs": [],
   "source": [
    "def train_dataset(frame):\n",
    "    pipeline = Pipeline([('vect', CountVectorizer(ngram_range=(1, 2), min_df=5, \n",
    "                                                  max_features=30000)), \n",
    "                         ('tfidf', TfidfTransformer(norm='l2'))])\n",
    "    doc_term_matrix = pipeline.fit_transform(frame['text'])\n",
    "    return doc_term_matrix, pipeline\n",
    "\n",
    "def vectorize_and_get_avg_simiarity(doc_term_matrix):\n",
    "    rank = linear_kernel(doc_term_matrix[0:1], doc_term_matrix)\n",
    "    cosine_similarities = rank.flatten()\n",
    "    related_docs = cosine_similarities.argsort()[:-500:-1]    \n",
    "#     print(collect, related_docs)\n",
    "    output = cosine_similarities[related_docs]\n",
    "    avg_result = np.sum(output)/related_docs.size\n",
    "    return avg_result, related_docs[1:101]\n",
    "\n",
    "def collect_result(doc_term_matrix):\n",
    "#     index_collection = []\n",
    "#     collector = []\n",
    "    \n",
    "#     for i in range(len(suicide_df)):\n",
    "    \n",
    "    \n",
    "    avg_result, best_index = vectorize_and_get_avg_simiarity(doc_term_matrix)\n",
    "#     collector.append(out)\n",
    "#     index_collection.extend(best_index)\n",
    "        \n",
    "#     best_ids = []\n",
    "#     threshold=100\n",
    "#     for i in Counter(index_collection).most_common():\n",
    "#         best_ids.append(i[0])\n",
    "#         threshold-=1\n",
    "#         if threshold < 1:\n",
    "#             break\n",
    "                  \n",
    "#     return sum(collector)/len(collector), best_ids\n",
    "    return avg_result, best_index"
   ]
  },
  {
   "cell_type": "code",
   "execution_count": null,
   "metadata": {},
   "outputs": [],
   "source": []
  },
  {
   "cell_type": "code",
   "execution_count": 58,
   "metadata": {},
   "outputs": [
    {
     "name": "stdout",
     "output_type": "stream",
     "text": [
      "        0\n",
      "0   Geeks\n",
      "1     For\n",
      "2   Geeks\n",
      "3      is\n",
      "4  portal\n",
      "5     for\n",
      "6   Geeks\n"
     ]
    }
   ],
   "source": [
    "# list of strings\n",
    "lst = ['Geeks', 'For', 'Geeks', 'is', \n",
    "            'portal', 'for', 'Geeks']\n",
    " \n",
    "# Calling DataFrame constructor on list\n",
    "df = pd.DataFrame(lst)\n",
    "print(df)"
   ]
  },
  {
   "cell_type": "code",
   "execution_count": 67,
   "metadata": {},
   "outputs": [
    {
     "data": {
      "text/html": [
       "<div>\n",
       "<style scoped>\n",
       "    .dataframe tbody tr th:only-of-type {\n",
       "        vertical-align: middle;\n",
       "    }\n",
       "\n",
       "    .dataframe tbody tr th {\n",
       "        vertical-align: top;\n",
       "    }\n",
       "\n",
       "    .dataframe thead th {\n",
       "        text-align: right;\n",
       "    }\n",
       "</style>\n",
       "<table border=\"1\" class=\"dataframe\">\n",
       "  <thead>\n",
       "    <tr style=\"text-align: right;\">\n",
       "      <th></th>\n",
       "      <th>text</th>\n",
       "    </tr>\n",
       "  </thead>\n",
       "  <tbody>\n",
       "    <tr>\n",
       "      <th>0</th>\n",
       "      <td>Geeks For Geeks is portal for Geeks</td>\n",
       "    </tr>\n",
       "  </tbody>\n",
       "</table>\n",
       "</div>"
      ],
      "text/plain": [
       "                                  text\n",
       "0  Geeks For Geeks is portal for Geeks"
      ]
     },
     "execution_count": 67,
     "metadata": {},
     "output_type": "execute_result"
    }
   ],
   "source": [
    "pd.DataFrame(['Geeks For Geeks is portal for Geeks'], columns=['text'])"
   ]
  },
  {
   "cell_type": "code",
   "execution_count": 54,
   "metadata": {},
   "outputs": [
    {
     "name": "stdout",
     "output_type": "stream",
     "text": [
      "a\n",
      "b\n",
      "d\n",
      "c\n",
      "e\n"
     ]
    }
   ],
   "source": []
  },
  {
   "cell_type": "code",
   "execution_count": 139,
   "metadata": {},
   "outputs": [],
   "source": [
    "term_matrix, pipe = train_dataset(main_df)"
   ]
  },
  {
   "cell_type": "code",
   "execution_count": 140,
   "metadata": {},
   "outputs": [
    {
     "name": "stderr",
     "output_type": "stream",
     "text": [
      "/home/ifte-home/venvs/exp-Env/lib/python3.7/site-packages/ipykernel_launcher.py:14: RuntimeWarning: invalid value encountered in double_scalars\n",
      "  \n"
     ]
    },
    {
     "data": {
      "text/plain": [
       "nan"
      ]
     },
     "execution_count": 140,
     "metadata": {},
     "output_type": "execute_result"
    }
   ],
   "source": [
    "collect_result(classifier_df, term_matrix)"
   ]
  }
 ],
 "metadata": {
  "kernelspec": {
   "display_name": "Python 3 (ipykernel)",
   "language": "python",
   "name": "python3"
  },
  "language_info": {
   "codemirror_mode": {
    "name": "ipython",
    "version": 3
   },
   "file_extension": ".py",
   "mimetype": "text/x-python",
   "name": "python",
   "nbconvert_exporter": "python",
   "pygments_lexer": "ipython3",
   "version": "3.7.15"
  }
 },
 "nbformat": 4,
 "nbformat_minor": 4
}
