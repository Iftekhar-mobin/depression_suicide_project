{
 "cells": [
  {
   "cell_type": "code",
   "execution_count": 2,
   "metadata": {},
   "outputs": [],
   "source": [
    "import pandas as pd"
   ]
  },
  {
   "cell_type": "code",
   "execution_count": 3,
   "metadata": {},
   "outputs": [],
   "source": [
    "df = pd.read_pickle('/home/ifte/alechat_core/corpus/processed/processed_features.pkl')"
   ]
  },
  {
   "cell_type": "code",
   "execution_count": 82,
   "metadata": {},
   "outputs": [
    {
     "data": {
      "text/plain": [
       "'Inveitco Inveitco Blog Custom Pages Clients Blog Contact Us Transitions Left Right Animation Fade Up Down Animation Up In Fade Out Animation Up Down Animation Portfolio Gallery Style Gallery Style Full Width Text Under Image Text Under Image Without Space HOME ABOUT US SERVICES SOLUTIONS PORTFOLIO BLOG CONTACT US HOME ABOUT US SERVICES SOLUTIONS PORTFOLIO BLOG CONTACT US Inveitco Inveitco Blog  page template page template blog masonry page template blog masonry php page page id  ajax fade page not loaded qode theme ver   wpb js composer js comp ver    vc responsive Inveitco Blog No posts were found CONTACT USEmailinfo inveitco comPhone AddressAUSTRALIAEvelyn Street Macquarie Fields NSW  BANGLADESH House  Road  Sector  Uttara Dhaka  MORE LINKSHOME ABOUT US TERMS OF USE PRIVACY POLICY CAREER  by inveitco All Rights Reserved '"
      ]
     },
     "execution_count": 82,
     "metadata": {},
     "output_type": "execute_result"
    }
   ],
   "source": [
    "df.raw_text[0]"
   ]
  },
  {
   "cell_type": "code",
   "execution_count": 74,
   "metadata": {},
   "outputs": [
    {
     "data": {
      "text/plain": [
       "28"
      ]
     },
     "execution_count": 74,
     "metadata": {},
     "output_type": "execute_result"
    }
   ],
   "source": [
    "len(df)"
   ]
  },
  {
   "cell_type": "code",
   "execution_count": null,
   "metadata": {},
   "outputs": [],
   "source": [
    "df.recommend[27]"
   ]
  },
  {
   "cell_type": "code",
   "execution_count": null,
   "metadata": {},
   "outputs": [],
   "source": [
    "[df.recommend[x] for x in [1, 2, 3]]\n"
   ]
  },
  {
   "cell_type": "code",
   "execution_count": 46,
   "metadata": {},
   "outputs": [],
   "source": [
    "collector = []\n",
    "length = len(df)\n",
    "i in range(length):\n",
    "    collector.append([x for x in df.lines[i] if len(x) > 30]"
   ]
  },
  {
   "cell_type": "code",
   "execution_count": 47,
   "metadata": {},
   "outputs": [],
   "source": [
    "def page_text_split(page_text, word_limit):\n",
    "    page_text = page_text.split()\n",
    "    return [' '.join(page_text[i:i + word_limit]) for i in range(0, len(page_text), word_limit)]\n"
   ]
  },
  {
   "cell_type": "code",
   "execution_count": 48,
   "metadata": {},
   "outputs": [],
   "source": [
    "all_sentence = [x for sublist in collector for x in sublist]"
   ]
  },
  {
   "cell_type": "code",
   "execution_count": 49,
   "metadata": {},
   "outputs": [],
   "source": [
    "collector = []\n",
    "for i in all_sentence:\n",
    "    if len(i) > 200:\n",
    "        collector.extend(page_text_split(i, 10))\n",
    "    else:\n",
    "        collector.append(i)"
   ]
  },
  {
   "cell_type": "code",
   "execution_count": null,
   "metadata": {},
   "outputs": [],
   "source": [
    "collector"
   ]
  },
  {
   "cell_type": "code",
   "execution_count": 49,
   "metadata": {},
   "outputs": [],
   "source": [
    "df1 = pd.read_pickle('/home/ifte/alechat_core/corpus/raw/combined_raw_corpus.pkl')"
   ]
  },
  {
   "cell_type": "code",
   "execution_count": 1,
   "metadata": {},
   "outputs": [],
   "source": [
    "import numpy as np\n",
    "import lda\n",
    "X = lda.datasets.load_reuters()\n",
    "# vocab = lda.datasets.load_reuters_vocab()\n",
    "# titles = lda.datasets.load_reuters_titles()\n",
    "# X.shape\n",
    "# (395, 4258)\n",
    "# X.sum()\n",
    "# 84010\n",
    "# model = lda.LDA(n_topics=20, n_iter=1500, random_state=1)\n",
    "# model.fit(X)  # model.fit_transform(X) is also available\n",
    "# topic_word = model.topic_word_  # model.components_ also works\n",
    "# n_top_words = 8\n",
    "# for i, topic_dist in enumerate(topic_word):\n",
    "# ...     topic_words = np.array(vocab)[np.argsort(topic_dist)][:-n_top_words:-1]\n",
    "# ...     print('Topic {}: {}'.format(i, ' '.join(topic_words)))"
   ]
  },
  {
   "cell_type": "code",
   "execution_count": 3,
   "metadata": {},
   "outputs": [
    {
     "data": {
      "text/plain": [
       "array([[1, 0, 1, ..., 0, 0, 0],\n",
       "       [7, 0, 2, ..., 0, 0, 0],\n",
       "       [0, 0, 0, ..., 0, 0, 0],\n",
       "       ...,\n",
       "       [1, 0, 1, ..., 0, 0, 0],\n",
       "       [1, 0, 1, ..., 0, 0, 0],\n",
       "       [1, 0, 1, ..., 0, 0, 0]], dtype=int32)"
      ]
     },
     "execution_count": 3,
     "metadata": {},
     "output_type": "execute_result"
    }
   ],
   "source": [
    "X"
   ]
  },
  {
   "cell_type": "code",
   "execution_count": 51,
   "metadata": {},
   "outputs": [],
   "source": [
    "from sklearn.feature_extraction.text import CountVectorizer\n",
    "corpus = [\n",
    "    'This is the first document. it says about holidays',\n",
    "    'This document is the second document. it talks about religion',\n",
    "    'And this is the third one. It explians about society',\n",
    "    'Is this the first document? taking about leisure',\n",
    "]\n",
    "vectorizer = CountVectorizer()\n",
    "X = vectorizer.fit_transform(collector)\n"
   ]
  },
  {
   "cell_type": "code",
   "execution_count": null,
   "metadata": {},
   "outputs": [],
   "source": [
    "vocab = ' '.join(collector).split()\n",
    "vocab"
   ]
  },
  {
   "cell_type": "code",
   "execution_count": 63,
   "metadata": {},
   "outputs": [],
   "source": [
    "w = []\n",
    "for i, topic_dist in enumerate(topic_word):\n",
    "    w.append(np.array(vocab)[np.argsort(topic_dist)])\n",
    "    "
   ]
  },
  {
   "cell_type": "code",
   "execution_count": 53,
   "metadata": {},
   "outputs": [
    {
     "name": "stderr",
     "output_type": "stream",
     "text": [
      "INFO:lda:n_documents: 1017\n",
      "INFO:lda:vocab_size: 1501\n",
      "INFO:lda:n_words: 9808\n",
      "INFO:lda:n_topics: 10\n",
      "INFO:lda:n_iter: 1500\n",
      "WARNING:lda:all zero row in document-term matrix found\n",
      "INFO:lda:<0> log likelihood: -108426\n",
      "INFO:lda:<10> log likelihood: -64449\n",
      "INFO:lda:<20> log likelihood: -62408\n",
      "INFO:lda:<30> log likelihood: -61589\n",
      "INFO:lda:<40> log likelihood: -61110\n",
      "INFO:lda:<50> log likelihood: -60840\n",
      "INFO:lda:<60> log likelihood: -60774\n",
      "INFO:lda:<70> log likelihood: -60600\n",
      "INFO:lda:<80> log likelihood: -60518\n",
      "INFO:lda:<90> log likelihood: -60409\n",
      "INFO:lda:<100> log likelihood: -60287\n",
      "INFO:lda:<110> log likelihood: -60259\n",
      "INFO:lda:<120> log likelihood: -60253\n",
      "INFO:lda:<130> log likelihood: -60359\n",
      "INFO:lda:<140> log likelihood: -60360\n",
      "INFO:lda:<150> log likelihood: -60206\n",
      "INFO:lda:<160> log likelihood: -60223\n",
      "INFO:lda:<170> log likelihood: -60078\n",
      "INFO:lda:<180> log likelihood: -60116\n",
      "INFO:lda:<190> log likelihood: -60049\n",
      "INFO:lda:<200> log likelihood: -60013\n",
      "INFO:lda:<210> log likelihood: -60030\n",
      "INFO:lda:<220> log likelihood: -60205\n",
      "INFO:lda:<230> log likelihood: -60002\n",
      "INFO:lda:<240> log likelihood: -59971\n",
      "INFO:lda:<250> log likelihood: -59959\n",
      "INFO:lda:<260> log likelihood: -59915\n",
      "INFO:lda:<270> log likelihood: -59918\n",
      "INFO:lda:<280> log likelihood: -59956\n",
      "INFO:lda:<290> log likelihood: -59878\n",
      "INFO:lda:<300> log likelihood: -59840\n",
      "INFO:lda:<310> log likelihood: -59934\n",
      "INFO:lda:<320> log likelihood: -59927\n",
      "INFO:lda:<330> log likelihood: -59965\n",
      "INFO:lda:<340> log likelihood: -59880\n",
      "INFO:lda:<350> log likelihood: -59860\n",
      "INFO:lda:<360> log likelihood: -59878\n",
      "INFO:lda:<370> log likelihood: -59989\n",
      "INFO:lda:<380> log likelihood: -59901\n",
      "INFO:lda:<390> log likelihood: -59986\n",
      "INFO:lda:<400> log likelihood: -59999\n",
      "INFO:lda:<410> log likelihood: -60062\n",
      "INFO:lda:<420> log likelihood: -59926\n",
      "INFO:lda:<430> log likelihood: -59768\n",
      "INFO:lda:<440> log likelihood: -59906\n",
      "INFO:lda:<450> log likelihood: -59807\n",
      "INFO:lda:<460> log likelihood: -59917\n",
      "INFO:lda:<470> log likelihood: -59879\n",
      "INFO:lda:<480> log likelihood: -59848\n",
      "INFO:lda:<490> log likelihood: -59959\n",
      "INFO:lda:<500> log likelihood: -59789\n",
      "INFO:lda:<510> log likelihood: -59850\n",
      "INFO:lda:<520> log likelihood: -59828\n",
      "INFO:lda:<530> log likelihood: -59697\n",
      "INFO:lda:<540> log likelihood: -59766\n",
      "INFO:lda:<550> log likelihood: -59888\n",
      "INFO:lda:<560> log likelihood: -59782\n",
      "INFO:lda:<570> log likelihood: -59923\n",
      "INFO:lda:<580> log likelihood: -59831\n",
      "INFO:lda:<590> log likelihood: -59884\n",
      "INFO:lda:<600> log likelihood: -59801\n",
      "INFO:lda:<610> log likelihood: -59905\n",
      "INFO:lda:<620> log likelihood: -59805\n",
      "INFO:lda:<630> log likelihood: -59799\n",
      "INFO:lda:<640> log likelihood: -59880\n",
      "INFO:lda:<650> log likelihood: -59834\n",
      "INFO:lda:<660> log likelihood: -59746\n",
      "INFO:lda:<670> log likelihood: -59806\n",
      "INFO:lda:<680> log likelihood: -59817\n",
      "INFO:lda:<690> log likelihood: -59808\n",
      "INFO:lda:<700> log likelihood: -59877\n",
      "INFO:lda:<710> log likelihood: -59763\n",
      "INFO:lda:<720> log likelihood: -59733\n",
      "INFO:lda:<730> log likelihood: -59860\n",
      "INFO:lda:<740> log likelihood: -59845\n",
      "INFO:lda:<750> log likelihood: -59838\n",
      "INFO:lda:<760> log likelihood: -59773\n",
      "INFO:lda:<770> log likelihood: -59800\n",
      "INFO:lda:<780> log likelihood: -59764\n",
      "INFO:lda:<790> log likelihood: -59702\n",
      "INFO:lda:<800> log likelihood: -59808\n",
      "INFO:lda:<810> log likelihood: -59662\n",
      "INFO:lda:<820> log likelihood: -59826\n",
      "INFO:lda:<830> log likelihood: -59744\n",
      "INFO:lda:<840> log likelihood: -59800\n",
      "INFO:lda:<850> log likelihood: -59834\n",
      "INFO:lda:<860> log likelihood: -59640\n",
      "INFO:lda:<870> log likelihood: -59721\n",
      "INFO:lda:<880> log likelihood: -59857\n",
      "INFO:lda:<890> log likelihood: -59750\n",
      "INFO:lda:<900> log likelihood: -59756\n",
      "INFO:lda:<910> log likelihood: -59834\n",
      "INFO:lda:<920> log likelihood: -59864\n",
      "INFO:lda:<930> log likelihood: -59709\n",
      "INFO:lda:<940> log likelihood: -59725\n",
      "INFO:lda:<950> log likelihood: -59781\n",
      "INFO:lda:<960> log likelihood: -59662\n",
      "INFO:lda:<970> log likelihood: -59718\n",
      "INFO:lda:<980> log likelihood: -59726\n",
      "INFO:lda:<990> log likelihood: -59727\n",
      "INFO:lda:<1000> log likelihood: -59689\n",
      "INFO:lda:<1010> log likelihood: -59725\n",
      "INFO:lda:<1020> log likelihood: -59663\n",
      "INFO:lda:<1030> log likelihood: -59725\n",
      "INFO:lda:<1040> log likelihood: -59757\n",
      "INFO:lda:<1050> log likelihood: -59924\n",
      "INFO:lda:<1060> log likelihood: -59821\n",
      "INFO:lda:<1070> log likelihood: -59669\n",
      "INFO:lda:<1080> log likelihood: -59651\n",
      "INFO:lda:<1090> log likelihood: -59710\n",
      "INFO:lda:<1100> log likelihood: -59647\n",
      "INFO:lda:<1110> log likelihood: -59761\n",
      "INFO:lda:<1120> log likelihood: -59711\n",
      "INFO:lda:<1130> log likelihood: -59730\n",
      "INFO:lda:<1140> log likelihood: -59645\n",
      "INFO:lda:<1150> log likelihood: -59668\n",
      "INFO:lda:<1160> log likelihood: -59731\n",
      "INFO:lda:<1170> log likelihood: -59708\n",
      "INFO:lda:<1180> log likelihood: -59705\n",
      "INFO:lda:<1190> log likelihood: -59683\n",
      "INFO:lda:<1200> log likelihood: -59573\n",
      "INFO:lda:<1210> log likelihood: -59672\n",
      "INFO:lda:<1220> log likelihood: -59745\n",
      "INFO:lda:<1230> log likelihood: -59717\n",
      "INFO:lda:<1240> log likelihood: -59642\n",
      "INFO:lda:<1250> log likelihood: -59796\n",
      "INFO:lda:<1260> log likelihood: -59859\n",
      "INFO:lda:<1270> log likelihood: -59777\n",
      "INFO:lda:<1280> log likelihood: -59678\n",
      "INFO:lda:<1290> log likelihood: -59689\n",
      "INFO:lda:<1300> log likelihood: -59703\n",
      "INFO:lda:<1310> log likelihood: -59804\n",
      "INFO:lda:<1320> log likelihood: -59599\n",
      "INFO:lda:<1330> log likelihood: -59681\n",
      "INFO:lda:<1340> log likelihood: -59826\n",
      "INFO:lda:<1350> log likelihood: -59805\n",
      "INFO:lda:<1360> log likelihood: -59809\n",
      "INFO:lda:<1370> log likelihood: -59734\n",
      "INFO:lda:<1380> log likelihood: -59691\n",
      "INFO:lda:<1390> log likelihood: -59792\n",
      "INFO:lda:<1400> log likelihood: -59731\n",
      "INFO:lda:<1410> log likelihood: -59653\n",
      "INFO:lda:<1420> log likelihood: -59832\n",
      "INFO:lda:<1430> log likelihood: -59671\n",
      "INFO:lda:<1440> log likelihood: -59729\n",
      "INFO:lda:<1450> log likelihood: -59843\n",
      "INFO:lda:<1460> log likelihood: -59721\n",
      "INFO:lda:<1470> log likelihood: -59748\n",
      "INFO:lda:<1480> log likelihood: -59649\n",
      "INFO:lda:<1490> log likelihood: -59677\n",
      "INFO:lda:<1499> log likelihood: -59710\n"
     ]
    },
    {
     "name": "stdout",
     "output_type": "stream",
     "text": [
      "Topic 0: show use inveitco systematic road down text\n",
      "Topic 1: fypto blog found publication addressaustraliaevelyn about contact\n",
      "Topic 2: blog us inveitco by apply systematic search\n",
      "Topic 3: of inveitco down use use application text\n",
      "Topic 4: inveitco blog to search orderby status animation\n",
      "Topic 5: inveitco by user our material php show\n",
      "Topic 6: do policy more out postid use of\n",
      "Topic 7: inveitco publication include to you author blog\n",
      "Topic 8: blog by publication page inveitco orderby our\n",
      "Topic 9: page maxheight in they date composer host\n"
     ]
    }
   ],
   "source": [
    "model = lda.LDA(n_topics=10, n_iter=1500, random_state=1)\n",
    "model.fit(X)  # model.fit_transform(X) is also available\n",
    "topic_word = model.topic_word_  # model.components_ also works\n",
    "n_top_words = 8\n",
    "for i, topic_dist in enumerate(topic_word):\n",
    "    topic_words = np.array(vocab)[np.argsort(topic_dist)][:-n_top_words:-1]\n",
    "    print('Topic {}: {}'.format(i, ' '.join(topic_words)))"
   ]
  },
  {
   "cell_type": "code",
   "execution_count": 4,
   "metadata": {},
   "outputs": [
    {
     "name": "stdout",
     "output_type": "stream",
     "text": [
      "0.1330     1  portfolio blog contact us inveitco inveitco blog  page template page template blog masonry page template blog masonry\n",
      "[PORTFOLIO BLOG CONTACT US Inveitco Inveitco Blog  page template page template blog masonry page template blog masonry]\n",
      "0.1278     1  portfolio blog contact us home\n",
      "[PORTFOLIO BLOG CONTACT US HOME]\n",
      "0.1239     1  php page page\n",
      "[php page page]\n",
      "0.1161     1  inveitco inveitco blog custom pages\n",
      "[Inveitco Inveitco Blog Custom Pages]\n",
      "0.1025     1  us terms\n",
      "[US TERMS]\n",
      "0.1007     3  us services\n",
      "[US SERVICES, US SERVICES, US SERVICES]\n",
      "0.1003     1  inveitco blog\n",
      "[Inveitco Blog]\n",
      "0.0993     1  ajax fade page\n",
      "[ajax fade page]\n",
      "0.0986     2  us\n",
      "[US, US]\n",
      "0.0983     1  inveitco inveitco blog custom pages clients blog contact us transitions\n",
      "[Inveitco Inveitco Blog Custom Pages Clients Blog Contact Us Transitions]\n",
      "0.0971     1  responsive inveitco blog\n",
      "[responsive Inveitco Blog]\n",
      "0.0831     1  full width text\n",
      "[Full Width Text]\n",
      "0.0807     1  use privacy policy\n",
      "[USE PRIVACY POLICY]\n",
      "0.0776     1  js composer\n",
      "[js composer]\n",
      "0.0767     1  down animation portfolio gallery style gallery style\n",
      "[Down Animation Portfolio Gallery Style Gallery Style]\n",
      "0.0743     1  right animation\n",
      "[Right Animation]\n",
      "0.0735     2  uttara dhaka\n",
      "[Uttara Dhaka, Uttara Dhaka]\n",
      "0.0683     1  js\n",
      "[js]\n",
      "0.0643     1  comphone addressaustraliaevelyn street macquarie fields nsw\n",
      "[comPhone AddressAUSTRALIAEvelyn Street Macquarie Fields NSW]\n",
      "0.0615     2  image\n",
      "[Image, Image]\n",
      "0.0579     1  career\n",
      "[CAREER]\n",
      "0.0572     2  inveitco\n",
      "[inveitco, inveitco]\n",
      "0.0551     1  more linkshome\n",
      "[MORE LINKSHOME]\n",
      "0.0541     1  space home\n",
      "[Space HOME]\n",
      "0.0529     2  solutions\n",
      "[SOLUTIONS, SOLUTIONS]\n",
      "0.0514     1  animation\n",
      "[Animation]\n",
      "0.0512     1  text\n",
      "[Text]\n",
      "0.0481     1  nsw\n",
      "[NSW]\n",
      "0.0401     1  house  road  sector\n",
      "[House  Road  Sector]\n",
      "0.0397     1  fade out animation\n",
      "[Fade Out Animation]\n",
      "0.0351     1  fade\n",
      "[Fade]\n",
      "0.0262     1  all rights\n",
      "[All Rights]\n",
      "0.0219     1  wpb\n",
      "[wpb]\n",
      "0.0219     1  bangladesh\n",
      "[BANGLADESH]\n",
      "0.0199     1  no posts\n",
      "[No posts]\n"
     ]
    }
   ],
   "source": [
    "import spacy\n",
    "import pytextrank\n",
    "\n",
    "nlp = spacy.load('en_core_web_sm')\n",
    "\n",
    "tr = pytextrank.TextRank()\n",
    "nlp.add_pipe(tr.PipelineComponent, name='textrank', last=True)\n",
    "\n",
    "# text = (\"Business Analysis To enhance your business’ efficiency in the future, you need a solid understanding of where you are today. A typical first step in our strategic approach to improving your business is a comprehensive Business Process Review (BPR). Optimising simplifying your business processes can substantially improve your company’s performance. While revised processes alone can make a dramatic difference, but the biggest benefits of re-engineering are usually possible only with investment in technology. We can provide process review, redesign and innovation to ensure that there are clear and controlled processes that make effective use of organisational resources to deliver stakeholder value. By evaluating a company’s current practices and measuring its performance against globally competitive criteria, we are able to determine the most effective and efficient way for an organization to perform its functions, removing unnecessary steps and people in the process. A strategic business process review delivery framework is designed to identify opportunities for business process improvement, thorough the following four steps: Analyse Identify Quantify and Implement The information gathered from this evaluation helps us to: Define critical success factors (CSF’s) – areas in which an organization must perform well in order to be successful. Define existing or potential problems within a particular area. Define potential solutions which will help your organization reduce overall costs and provide more efficient use of resources. Program & Project Managements Our project and program managers are thought leaders and bring a wealth of knowledge and innovation to every engagement. Our objective is to maximise the benefit of an IT project or program initiative taken by your organisation. Both projects are constrained by time, budget and scope. It is the discipline of planning, organising, controlling as well as motivating resources to achieve specific goals. Our focus is to guide you in effectively implementing programs and projects which includes: Planning and Scheduling Estimation and Cost Management Resource Management Governance Risk Management Stakeholder Management\")\n",
    "text = df.raw_text[0]\n",
    "doc = nlp(text)\n",
    "\n",
    "# examine the top-ranked phrases in the document\n",
    "for p in doc._.phrases:\n",
    "    print('{:.4f} {:5d}  {}'.format(p.rank, p.count, p.text))\n",
    "    print(p.chunks)"
   ]
  }
 ],
 "metadata": {
  "kernelspec": {
   "display_name": "Python 3",
   "language": "python",
   "name": "python3"
  },
  "language_info": {
   "codemirror_mode": {
    "name": "ipython",
    "version": 3
   },
   "file_extension": ".py",
   "mimetype": "text/x-python",
   "name": "python",
   "nbconvert_exporter": "python",
   "pygments_lexer": "ipython3",
   "version": "3.6.9"
  }
 },
 "nbformat": 4,
 "nbformat_minor": 4
}
