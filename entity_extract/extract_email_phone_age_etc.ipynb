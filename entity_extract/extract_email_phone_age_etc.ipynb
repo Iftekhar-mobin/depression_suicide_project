{
 "cells": [
  {
   "cell_type": "code",
   "execution_count": 4,
   "metadata": {},
   "outputs": [],
   "source": [
    "import re\n",
    "import phonenumbers\n",
    "import datefinder\n",
    "import pandas as pd"
   ]
  },
  {
   "cell_type": "code",
   "execution_count": 13,
   "metadata": {},
   "outputs": [],
   "source": [
    "# df = pd.read_csv('/home/iftekhar/docomodezwhu/data/merged_corpus.csv')\n",
    "df = pd.read_csv('/home/iftekhar/Downloads/merged_corpus.csv')"
   ]
  },
  {
   "cell_type": "code",
   "execution_count": 14,
   "metadata": {},
   "outputs": [
    {
     "data": {
      "text/html": [
       "<div>\n",
       "<style scoped>\n",
       "    .dataframe tbody tr th:only-of-type {\n",
       "        vertical-align: middle;\n",
       "    }\n",
       "\n",
       "    .dataframe tbody tr th {\n",
       "        vertical-align: top;\n",
       "    }\n",
       "\n",
       "    .dataframe thead th {\n",
       "        text-align: right;\n",
       "    }\n",
       "</style>\n",
       "<table border=\"1\" class=\"dataframe\">\n",
       "  <thead>\n",
       "    <tr style=\"text-align: right;\">\n",
       "      <th></th>\n",
       "      <th>page</th>\n",
       "      <th>title</th>\n",
       "      <th>text</th>\n",
       "      <th>key_phrase</th>\n",
       "    </tr>\n",
       "  </thead>\n",
       "  <tbody>\n",
       "    <tr>\n",
       "      <th>0</th>\n",
       "      <td>0</td>\n",
       "      <td>dマーケット｜もっと、みつかる、たのしめる。｜NTTドコモ公式</td>\n",
       "      <td>トップ サービスを探す ジャンルから探す もっと見る あそんでためる ? × 簡単なゲーム...</td>\n",
       "      <td>毎日 ポイント</td>\n",
       "    </tr>\n",
       "    <tr>\n",
       "      <th>1</th>\n",
       "      <td>1</td>\n",
       "      <td>ファッション・美容｜dマーケット</td>\n",
       "      <td>ファッション 検索 もしかして 検索するキーワードを入力してください。 閉じる の検索結果...</td>\n",
       "      <td>ファッション 検索</td>\n",
       "    </tr>\n",
       "    <tr>\n",
       "      <th>2</th>\n",
       "      <td>2</td>\n",
       "      <td>スポーツ｜dマーケット</td>\n",
       "      <td>スポーツ 検索 もしかして 検索するキーワードを入力してください。 閉じる の検索結果 ス...</td>\n",
       "      <td>スポーツ 検索</td>\n",
       "    </tr>\n",
       "    <tr>\n",
       "      <th>3</th>\n",
       "      <td>3</td>\n",
       "      <td>マイページ - dポイント確認｜dマーケット</td>\n",
       "      <td>マイページ - dポイント確認 dアカウントの発行、もしくはログインが必要です。 dマーケ...</td>\n",
       "      <td>ログイン</td>\n",
       "    </tr>\n",
       "    <tr>\n",
       "      <th>4</th>\n",
       "      <td>4</td>\n",
       "      <td>キッズ｜dマーケット</td>\n",
       "      <td>キッズ 検索 もしかして 検索するキーワードを入力してください。 閉じる の検索結果 キッ...</td>\n",
       "      <td>キッズ 検索</td>\n",
       "    </tr>\n",
       "  </tbody>\n",
       "</table>\n",
       "</div>"
      ],
      "text/plain": [
       "   page                            title  \\\n",
       "0     0  dマーケット｜もっと、みつかる、たのしめる。｜NTTドコモ公式   \n",
       "1     1                 ファッション・美容｜dマーケット   \n",
       "2     2                      スポーツ｜dマーケット   \n",
       "3     3           マイページ - dポイント確認｜dマーケット   \n",
       "4     4                       キッズ｜dマーケット   \n",
       "\n",
       "                                                text key_phrase  \n",
       "0   トップ サービスを探す ジャンルから探す もっと見る あそんでためる ? × 簡単なゲーム...    毎日 ポイント  \n",
       "1   ファッション 検索 もしかして 検索するキーワードを入力してください。 閉じる の検索結果...  ファッション 検索  \n",
       "2   スポーツ 検索 もしかして 検索するキーワードを入力してください。 閉じる の検索結果 ス...    スポーツ 検索  \n",
       "3   マイページ - dポイント確認 dアカウントの発行、もしくはログインが必要です。 dマーケ...       ログイン  \n",
       "4   キッズ 検索 もしかして 検索するキーワードを入力してください。 閉じる の検索結果 キッ...     キッズ 検索  "
      ]
     },
     "execution_count": 14,
     "metadata": {},
     "output_type": "execute_result"
    }
   ],
   "source": [
    "df.head()"
   ]
  },
  {
   "cell_type": "code",
   "execution_count": 28,
   "metadata": {},
   "outputs": [],
   "source": [
    "df['email'] = df.text.apply(lambda x: re.findall(r'[\\w\\.-]+@[\\w\\.-]+', x))\n",
    "df['age_nen'] = df.text.apply(lambda x: re.findall(r'\\d+年', x))\n",
    "df['age_sai'] = df.text.apply(lambda x: re.findall(r'\\d+歳', x))\n",
    "df['price'] = df.text.apply(lambda x: re.findall(r'\\d+万|\\d+円', x))\n",
    "df['phone'] = df.text.apply(lambda x: [re.sub(r'（','', match.raw_string).strip('(') for match in phonenumbers.PhoneNumberMatcher(x, 'JP')]) \n",
    "df['date'] = df.text.apply(lambda x: re.findall(r'\\d{2,4}\\/\\d{2}\\/\\d{2,4}', x)) "
   ]
  },
  {
   "cell_type": "code",
   "execution_count": 22,
   "metadata": {},
   "outputs": [],
   "source": [
    "p = '（042-679-7228'"
   ]
  },
  {
   "cell_type": "code",
   "execution_count": 25,
   "metadata": {},
   "outputs": [
    {
     "data": {
      "text/plain": [
       "'042-679-7228'"
      ]
     },
     "execution_count": 25,
     "metadata": {},
     "output_type": "execute_result"
    }
   ],
   "source": [
    "re.sub(r'（','', p)"
   ]
  },
  {
   "cell_type": "code",
   "execution_count": 30,
   "metadata": {},
   "outputs": [
    {
     "data": {
      "text/plain": [
       "[['名前の下にある@以降の'],\n",
       " ['名前の下にある@以降の'],\n",
       " ['soukin_info@mail1.apl.spmode.ne.jp',\n",
       "  'soukin_info@docomosoukin.com',\n",
       "  'soukin@docomo-bill.ne.jp'],\n",
       " ['soukin_info@mail1.apl.spmode.ne.jp',\n",
       "  'soukin_info@docomosoukin.com',\n",
       "  'soukin@docomo-bill.ne.jp',\n",
       "  'info@sw.job.dmkt-sp.jp'],\n",
       " ['message_r@mail2.apl01.spmode.ne.jp']]"
      ]
     },
     "execution_count": 30,
     "metadata": {},
     "output_type": "execute_result"
    }
   ],
   "source": [
    "[x for x in df.email.values if x]"
   ]
  },
  {
   "cell_type": "code",
   "execution_count": 17,
   "metadata": {},
   "outputs": [
    {
     "data": {
      "text/plain": [
       "[['15歳', '16歳', '19歳'],\n",
       " ['20歳', '20歳'],\n",
       " ['3歳', '10歳', '6歳'],\n",
       " ['20歳'],\n",
       " ['20歳'],\n",
       " ['3歳', '10歳', '4歳', '6歳'],\n",
       " ['15歳', '20歳', '15歳', '20歳', '15歳'],\n",
       " ['12歳', '6歳', '3歳', '12歳'],\n",
       " ['4歳', '5歳'],\n",
       " ['3歳'],\n",
       " ['18歳', '18歳', '20歳'],\n",
       " ['18歳', '18歳', '20歳']]"
      ]
     },
     "execution_count": 17,
     "metadata": {},
     "output_type": "execute_result"
    }
   ],
   "source": [
    "[x for x in df.age_sai.values if x]"
   ]
  },
  {
   "cell_type": "code",
   "execution_count": null,
   "metadata": {
    "scrolled": true
   },
   "outputs": [],
   "source": [
    "[x for x in df.email.values if x]"
   ]
  },
  {
   "cell_type": "code",
   "execution_count": 181,
   "metadata": {},
   "outputs": [
    {
     "name": "stdout",
     "output_type": "stream",
     "text": [
      "2017-01-04 20:00:00\n",
      "2005-01-15 00:00:00\n"
     ]
    }
   ],
   "source": [
    "import datefinder\n",
    "string_with_dates = \"\"\"\n",
    "                    entries are due by January 4th, 2017 at 8:00pm\n",
    "                    created 01/15/2005 by ACME Inc. and associates.\n",
    "                    \"\"\"\n",
    "matches = list(datefinder.find_dates(string_with_dates))\n",
    "i = []\n",
    "for match in matches:\n",
    "    print(match)"
   ]
  },
  {
   "cell_type": "code",
   "execution_count": 185,
   "metadata": {},
   "outputs": [
    {
     "data": {
      "text/plain": [
       "[datetime.datetime(2017, 1, 4, 20, 0), datetime.datetime(2005, 1, 15, 0, 0)]"
      ]
     },
     "execution_count": 185,
     "metadata": {},
     "output_type": "execute_result"
    }
   ],
   "source": [
    "[match for match in matches]"
   ]
  },
  {
   "cell_type": "code",
   "execution_count": 176,
   "metadata": {},
   "outputs": [
    {
     "data": {
      "text/plain": [
       "['01/15/2005']"
      ]
     },
     "execution_count": 176,
     "metadata": {},
     "output_type": "execute_result"
    }
   ],
   "source": [
    "re.findall(r'\\d{2,4}\\/\\d{2}\\/\\d{2,4}', string_with_dates)"
   ]
  },
  {
   "cell_type": "code",
   "execution_count": 89,
   "metadata": {},
   "outputs": [],
   "source": [
    "df['date'] = df.text.apply(lambda x: re.findall(pattern_date, x))"
   ]
  },
  {
   "cell_type": "code",
   "execution_count": null,
   "metadata": {},
   "outputs": [],
   "source": [
    "[x for x in df.date.values if x]"
   ]
  },
  {
   "cell_type": "code",
   "execution_count": null,
   "metadata": {},
   "outputs": [],
   "source": [
    "# This will be some random text that we don't want to match!\n",
    "# 1/2/03\n",
    "# don't want any false/positives a1/2/03\n",
    "\n",
    "# 2/3/04"
   ]
  },
  {
   "cell_type": "code",
   "execution_count": 32,
   "metadata": {},
   "outputs": [],
   "source": [
    "string = '03-3288-9621 05-3288-9621 0332889621 +81-090-1234-5678 09012345678 1234567890 (+81)-123-456-7890 12-3456-7890 123-4567-8901'"
   ]
  },
  {
   "cell_type": "code",
   "execution_count": 91,
   "metadata": {},
   "outputs": [],
   "source": []
  },
  {
   "cell_type": "code",
   "execution_count": 150,
   "metadata": {},
   "outputs": [
    {
     "name": "stdout",
     "output_type": "stream",
     "text": [
      "03-3288-9621\n",
      "05-3288-9621\n",
      "0332889621\n",
      "+81-090-1234-5678\n",
      "09012345678\n"
     ]
    }
   ],
   "source": [
    "x = []\n",
    "for match in phonenumbers.PhoneNumberMatcher(string, 'JP'):\n",
    "    print(match.raw_string)"
   ]
  },
  {
   "cell_type": "code",
   "execution_count": 149,
   "metadata": {},
   "outputs": [
    {
     "data": {
      "text/plain": [
       "PhoneNumberMatch(start=0, raw_string='03-3288-9621', numobj=PhoneNumber(country_code=81, national_number=332889621, extension=None, italian_leading_zero=None, number_of_leading_zeros=None, country_code_source=0, preferred_domestic_carrier_code=None))"
      ]
     },
     "execution_count": 149,
     "metadata": {},
     "output_type": "execute_result"
    }
   ],
   "source": [
    "x[0]"
   ]
  },
  {
   "cell_type": "code",
   "execution_count": 139,
   "metadata": {},
   "outputs": [
    {
     "data": {
      "text/plain": [
       "['+81-090-1234-5678']"
      ]
     },
     "execution_count": 139,
     "metadata": {},
     "output_type": "execute_result"
    }
   ],
   "source": [
    "z=re.findall(\"(\\+?\\d{2,3}?\\-?\\d{3,4}\\-?\\d{3,4}\\-?\\d{4})\", string)\n",
    "z"
   ]
  },
  {
   "cell_type": "code",
   "execution_count": null,
   "metadata": {},
   "outputs": [],
   "source": [
    "[x for x in df.phone.values if x]"
   ]
  },
  {
   "cell_type": "code",
   "execution_count": 33,
   "metadata": {},
   "outputs": [
    {
     "data": {
      "text/plain": [
       "['0332889621',\n",
       " '+81-090-1234-5678',\n",
       " '09012345678',\n",
       " '1234567890',\n",
       " '123-456-7890',\n",
       " '123-4567-8901']"
      ]
     },
     "execution_count": 33,
     "metadata": {},
     "output_type": "execute_result"
    }
   ],
   "source": [
    "z=re.findall(\"([\\+\\d{2}]+\\-?\\d{2,3}\\-?\\d{3,4}\\-?\\d{4})\", string)\n",
    "z"
   ]
  },
  {
   "cell_type": "code",
   "execution_count": 36,
   "metadata": {},
   "outputs": [],
   "source": [
    "df['phone'] = df.text.apply(lambda x: re.findall(\"([\\+\\d{2}]+\\-?\\d{2,3}\\-?\\d{3,4}\\-?\\d{4})\", x))"
   ]
  },
  {
   "cell_type": "code",
   "execution_count": 37,
   "metadata": {},
   "outputs": [
    {
     "data": {
      "text/plain": [
       "[['042-679-7228'],\n",
       " ['042-679-7660'],\n",
       " ['042-679-7228'],\n",
       " ['042-679-7660'],\n",
       " ['042-679-7660'],\n",
       " ['042-679-7228',\n",
       "  '042-679-7228',\n",
       "  '042-679-7228',\n",
       "  '042-679-7228',\n",
       "  '042-679-7228',\n",
       "  '042-679-7228'],\n",
       " ['042-679-7660'],\n",
       " ['042-679-7228',\n",
       "  '042-679-7228',\n",
       "  '042-679-7228',\n",
       "  '042-679-7228',\n",
       "  '042-679-7228',\n",
       "  '042-679-7228'],\n",
       " ['042-679-7228'],\n",
       " ['042-679-7228',\n",
       "  '042-679-7228',\n",
       "  '042-679-7228',\n",
       "  '042-679-7228',\n",
       "  '042-679-7228',\n",
       "  '042-679-7228'],\n",
       " ['042-679-7228',\n",
       "  '042-679-7228',\n",
       "  '042-679-7228',\n",
       "  '042-679-7228',\n",
       "  '042-679-7228',\n",
       "  '042-679-7228'],\n",
       " ['042-679-7660'],\n",
       " ['042-679-7228'],\n",
       " ['042-679-7228'],\n",
       " ['052-201-8060'],\n",
       " ['0312345678'],\n",
       " ['090-3482-2710', '090-2577-2648'],\n",
       " ['058-201-3838',\n",
       "  '058-263-4853',\n",
       "  '058-262-6784',\n",
       "  '058-262-0104',\n",
       "  '058-210-1555'],\n",
       " ['0312345678', '09012345678']]"
      ]
     },
     "execution_count": 37,
     "metadata": {},
     "output_type": "execute_result"
    }
   ],
   "source": [
    "[x for x in df.phone.values if x]"
   ]
  }
 ],
 "metadata": {
  "kernelspec": {
   "display_name": "Python 3",
   "language": "python",
   "name": "python3"
  },
  "language_info": {
   "codemirror_mode": {
    "name": "ipython",
    "version": 3
   },
   "file_extension": ".py",
   "mimetype": "text/x-python",
   "name": "python",
   "nbconvert_exporter": "python",
   "pygments_lexer": "ipython3",
   "version": "3.8.5"
  }
 },
 "nbformat": 4,
 "nbformat_minor": 4
}
