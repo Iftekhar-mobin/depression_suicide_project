{
 "cells": [
  {
   "cell_type": "code",
   "execution_count": 53,
   "metadata": {},
   "outputs": [],
   "source": [
    "import pandas as pd\n",
    "df = pd.read_csv(\"summary_as_entities.csv\")\n",
    "\n",
    "df.Summary = df.Summary.apply(lambda x: clean_text(x))\n",
    "text = str(df.Summary.values.tolist()).replace(\"[\",\"\").replace(\"]\",\"\")\n",
    "doc = nlp(text)"
   ]
  },
  {
   "cell_type": "code",
   "execution_count": 54,
   "metadata": {},
   "outputs": [],
   "source": [
    "patterns = [{\"label\": \"ORG\", \"pattern\": [{\"LOWER\": \"mobicontrol\"}]},\n",
    "{\"label\": \"ORG\", \"pattern\": [{\"LOWER\": \"soti\"}]},\n",
    "{\"label\": \"OPSYS\", \"pattern\": [{\"LOWER\": \"android\"}]},\n",
    "{\"label\": \"OPSYS\", \"pattern\": [{\"LOWER\": \"ios\"}]},\n",
    "{\"label\": \"OPSYS\", \"pattern\": [{\"LOWER\": \"apple\"}]},\n",
    "{\"label\": \"OPSYS\", \"pattern\": [{\"LOWER\": \"windows\"}]},\n",
    "{\"label\": \"OPSYS\", \"pattern\": [{\"LOWER\": \"linux\"}]},\n",
    "{\"label\": \"OPSYS\", \"pattern\": [{\"LOWER\": \"端末\"}, {\"LOWER\": \"os\"}]},\n",
    "{\"label\": \"DOC\", \"pattern\": [{\"LOWER\": \"manual\"}]},\n",
    "{\"label\": \"CONFIGURATION\", \"pattern\": [{\"LOWER\": \"configuration\"}]},\n",
    "{\"label\": \"CONFIGURATION\", \"pattern\": [{\"LOWER\": \"config\"}]},\n",
    "{\"label\": \"CONFIGURATION\", \"pattern\": [{\"LOWER\": \"settings\"}]},\n",
    "{\"label\": \"CONFIGURATION\", \"pattern\": [{\"LOWER\": \"setup\"}]},\n",
    "{\"label\": \"CONFIGURATION\", \"pattern\": [{\"LOWER\": \"ルール\"}]},\n",
    "{\"label\": \"CONFIGURATION\", \"pattern\": [{\"LOWER\": \"rules\"}]},\n",
    "{\"label\": \"CONFIGURATION\", \"pattern\": [{\"LOWER\": \"serverproperties\"}]},\n",
    "{\"label\": \"CONFIGURATION\", \"pattern\": [{\"LOWER\": \"commonsettings\"}]},\n",
    "{\"label\": \"TECHNOTES\", \"pattern\": [{\"LOWER\": \"apns\"}, {\"LOWER\": \"certificate\"}]},\n",
    "{\"label\": \"SETTINGS\", \"pattern\": [{\"LOWER\": \"詳細\"}, {\"LOWER\": \"設定\"}]},\n",
    "{\"label\": \"SETTINGS\", \"pattern\": [{\"LOWER\": \"設定\"}, {\"LOWER\": \" 項目\"}]},\n",
    "{\"label\": \"SETTINGS\", \"pattern\": [{\"LOWER\": \"deleting\"}, {\"LOWER\": \"device\"}]},\n",
    "{\"label\": \"SETTINGS\", \"pattern\": [{\"LOWER\": \"prohibit\"}, {\"LOWER\": \"deletion\"}]},\n",
    "{\"label\": \"SETTINGS\", \"pattern\": \"構成\"},\n",
    "{\"label\": \"ACCOUNT\", \"pattern\":  [{\"LOWER\": \"グループ\"}]},\n",
    "{\"label\": \"CONTACT\", \"pattern\":  [{\"LOWER\": \"contacts\"}]},\n",
    "{\"label\": \"ACCOUNT\", \"pattern\":  [{\"LOWER\": \"account\"}]},\n",
    "{\"label\": \"ACCOUNT\", \"pattern\":  [{\"LOWER\": \"プロファイル\"}]}]"
   ]
  },
  {
   "cell_type": "code",
   "execution_count": 3,
   "metadata": {},
   "outputs": [
    {
     "ename": "OSError",
     "evalue": "[E053] Could not read config.cfg from /home/iftekhar/v_env/exp_env/lib/python3.7/site-packages/ja_ginza/ja_ginza-4.0.0/config.cfg",
     "output_type": "error",
     "traceback": [
      "\u001b[0;31m---------------------------------------------------------------------------\u001b[0m",
      "\u001b[0;31mOSError\u001b[0m                                   Traceback (most recent call last)",
      "\u001b[0;32m<ipython-input-3-bbdfd5be4bfe>\u001b[0m in \u001b[0;36m<module>\u001b[0;34m\u001b[0m\n\u001b[1;32m      2\u001b[0m \u001b[0;32mfrom\u001b[0m \u001b[0mspacy\u001b[0m\u001b[0;34m.\u001b[0m\u001b[0mpipeline\u001b[0m \u001b[0;32mimport\u001b[0m \u001b[0mEntityRuler\u001b[0m\u001b[0;34m\u001b[0m\u001b[0;34m\u001b[0m\u001b[0m\n\u001b[1;32m      3\u001b[0m \u001b[0;34m\u001b[0m\u001b[0m\n\u001b[0;32m----> 4\u001b[0;31m \u001b[0mnlp\u001b[0m \u001b[0;34m=\u001b[0m \u001b[0mspacy\u001b[0m\u001b[0;34m.\u001b[0m\u001b[0mload\u001b[0m\u001b[0;34m(\u001b[0m\u001b[0;34m\"ja_ginza\"\u001b[0m\u001b[0;34m)\u001b[0m\u001b[0;34m\u001b[0m\u001b[0;34m\u001b[0m\u001b[0m\n\u001b[0m\u001b[1;32m      5\u001b[0m \u001b[0mruler\u001b[0m \u001b[0;34m=\u001b[0m \u001b[0mEntityRuler\u001b[0m\u001b[0;34m(\u001b[0m\u001b[0mnlp\u001b[0m\u001b[0;34m)\u001b[0m\u001b[0;34m\u001b[0m\u001b[0;34m\u001b[0m\u001b[0m\n\u001b[1;32m      6\u001b[0m \u001b[0mruler\u001b[0m\u001b[0;34m.\u001b[0m\u001b[0madd_patterns\u001b[0m\u001b[0;34m(\u001b[0m\u001b[0mpatterns\u001b[0m\u001b[0;34m)\u001b[0m\u001b[0;34m\u001b[0m\u001b[0;34m\u001b[0m\u001b[0m\n",
      "\u001b[0;32m~/v_env/exp_env/lib/python3.7/site-packages/spacy/__init__.py\u001b[0m in \u001b[0;36mload\u001b[0;34m(name, vocab, disable, exclude, config)\u001b[0m\n",
      "\u001b[0;32m~/v_env/exp_env/lib/python3.7/site-packages/spacy/util.py\u001b[0m in \u001b[0;36mload_model\u001b[0;34m(name, vocab, disable, exclude, config)\u001b[0m\n\u001b[1;32m    322\u001b[0m         \u001b[0mshell\u001b[0m \u001b[0;34m=\u001b[0m \u001b[0mget_ipython\u001b[0m\u001b[0;34m(\u001b[0m\u001b[0;34m)\u001b[0m\u001b[0;34m.\u001b[0m\u001b[0m__class__\u001b[0m\u001b[0;34m.\u001b[0m\u001b[0m__name__\u001b[0m\u001b[0;34m\u001b[0m\u001b[0;34m\u001b[0m\u001b[0m\n\u001b[1;32m    323\u001b[0m         \u001b[0;32mif\u001b[0m \u001b[0mshell\u001b[0m \u001b[0;34m==\u001b[0m \u001b[0;34m\"ZMQInteractiveShell\"\u001b[0m\u001b[0;34m:\u001b[0m\u001b[0;34m\u001b[0m\u001b[0;34m\u001b[0m\u001b[0m\n\u001b[0;32m--> 324\u001b[0;31m             \u001b[0;32mreturn\u001b[0m \u001b[0;32mTrue\u001b[0m  \u001b[0;31m# Jupyter notebook or qtconsole\u001b[0m\u001b[0;34m\u001b[0m\u001b[0;34m\u001b[0m\u001b[0m\n\u001b[0m\u001b[1;32m    325\u001b[0m     \u001b[0;32mexcept\u001b[0m \u001b[0mNameError\u001b[0m\u001b[0;34m:\u001b[0m\u001b[0;34m\u001b[0m\u001b[0;34m\u001b[0m\u001b[0m\n\u001b[1;32m    326\u001b[0m         \u001b[0;32mreturn\u001b[0m \u001b[0;32mFalse\u001b[0m  \u001b[0;31m# Probably standard Python interpreter\u001b[0m\u001b[0;34m\u001b[0m\u001b[0;34m\u001b[0m\u001b[0m\n",
      "\u001b[0;32m~/v_env/exp_env/lib/python3.7/site-packages/spacy/util.py\u001b[0m in \u001b[0;36mload_model_from_package\u001b[0;34m(name, vocab, disable, exclude, config)\u001b[0m\n\u001b[1;32m    355\u001b[0m         \u001b[0;32mreturn\u001b[0m \u001b[0marray\u001b[0m\u001b[0;34m\u001b[0m\u001b[0;34m\u001b[0m\u001b[0m\n\u001b[1;32m    356\u001b[0m \u001b[0;34m\u001b[0m\u001b[0m\n\u001b[0;32m--> 357\u001b[0;31m \u001b[0;34m\u001b[0m\u001b[0m\n\u001b[0m\u001b[1;32m    358\u001b[0m \u001b[0;32mdef\u001b[0m \u001b[0menv_opt\u001b[0m\u001b[0;34m(\u001b[0m\u001b[0mname\u001b[0m\u001b[0;34m,\u001b[0m \u001b[0mdefault\u001b[0m\u001b[0;34m=\u001b[0m\u001b[0;32mNone\u001b[0m\u001b[0;34m)\u001b[0m\u001b[0;34m:\u001b[0m\u001b[0;34m\u001b[0m\u001b[0;34m\u001b[0m\u001b[0m\n\u001b[1;32m    359\u001b[0m     \u001b[0;32mif\u001b[0m \u001b[0mtype\u001b[0m\u001b[0;34m(\u001b[0m\u001b[0mdefault\u001b[0m\u001b[0;34m)\u001b[0m \u001b[0;32mis\u001b[0m \u001b[0mfloat\u001b[0m\u001b[0;34m:\u001b[0m\u001b[0;34m\u001b[0m\u001b[0;34m\u001b[0m\u001b[0m\n",
      "\u001b[0;32m~/v_env/exp_env/lib/python3.7/site-packages/ja_ginza/__init__.py\u001b[0m in \u001b[0;36mload\u001b[0;34m(**overrides)\u001b[0m\n\u001b[1;32m     10\u001b[0m \u001b[0;34m\u001b[0m\u001b[0m\n\u001b[1;32m     11\u001b[0m \u001b[0;32mdef\u001b[0m \u001b[0mload\u001b[0m\u001b[0;34m(\u001b[0m\u001b[0;34m**\u001b[0m\u001b[0moverrides\u001b[0m\u001b[0;34m)\u001b[0m\u001b[0;34m:\u001b[0m\u001b[0;34m\u001b[0m\u001b[0;34m\u001b[0m\u001b[0m\n\u001b[0;32m---> 12\u001b[0;31m     \u001b[0;32mreturn\u001b[0m \u001b[0mload_model_from_init_py\u001b[0m\u001b[0;34m(\u001b[0m\u001b[0m__file__\u001b[0m\u001b[0;34m,\u001b[0m \u001b[0;34m**\u001b[0m\u001b[0moverrides\u001b[0m\u001b[0;34m)\u001b[0m\u001b[0;34m\u001b[0m\u001b[0;34m\u001b[0m\u001b[0m\n\u001b[0m",
      "\u001b[0;32m~/v_env/exp_env/lib/python3.7/site-packages/spacy/util.py\u001b[0m in \u001b[0;36mload_model_from_init_py\u001b[0;34m(init_file, vocab, disable, exclude, config)\u001b[0m\n\u001b[1;32m    520\u001b[0m         \u001b[0;32myield\u001b[0m \u001b[0mlist\u001b[0m\u001b[0;34m(\u001b[0m\u001b[0mbatch\u001b[0m\u001b[0;34m)\u001b[0m\u001b[0;34m\u001b[0m\u001b[0;34m\u001b[0m\u001b[0m\n\u001b[1;32m    521\u001b[0m \u001b[0;34m\u001b[0m\u001b[0m\n\u001b[0;32m--> 522\u001b[0;31m \u001b[0;34m\u001b[0m\u001b[0m\n\u001b[0m\u001b[1;32m    523\u001b[0m \u001b[0;32mdef\u001b[0m \u001b[0mcompounding\u001b[0m\u001b[0;34m(\u001b[0m\u001b[0mstart\u001b[0m\u001b[0;34m,\u001b[0m \u001b[0mstop\u001b[0m\u001b[0;34m,\u001b[0m \u001b[0mcompound\u001b[0m\u001b[0;34m)\u001b[0m\u001b[0;34m:\u001b[0m\u001b[0;34m\u001b[0m\u001b[0;34m\u001b[0m\u001b[0m\n\u001b[1;32m    524\u001b[0m     \"\"\"Yield an infinite series of compounding values. Each time the\n",
      "\u001b[0;32m~/v_env/exp_env/lib/python3.7/site-packages/spacy/util.py\u001b[0m in \u001b[0;36mload_model_from_path\u001b[0;34m(model_path, meta, vocab, disable, exclude, config)\u001b[0m\n\u001b[1;32m    388\u001b[0m \u001b[0;34m\u001b[0m\u001b[0m\n\u001b[1;32m    389\u001b[0m \u001b[0;32mdef\u001b[0m \u001b[0mcompile_prefix_regex\u001b[0m\u001b[0;34m(\u001b[0m\u001b[0mentries\u001b[0m\u001b[0;34m)\u001b[0m\u001b[0;34m:\u001b[0m\u001b[0;34m\u001b[0m\u001b[0;34m\u001b[0m\u001b[0m\n\u001b[0;32m--> 390\u001b[0;31m     \"\"\"Compile a sequence of prefix rules into a regex object.\n\u001b[0m\u001b[1;32m    391\u001b[0m \u001b[0;34m\u001b[0m\u001b[0m\n\u001b[1;32m    392\u001b[0m     \u001b[0mentries\u001b[0m \u001b[0;34m(\u001b[0m\u001b[0mtuple\u001b[0m\u001b[0;34m)\u001b[0m\u001b[0;34m:\u001b[0m \u001b[0mThe\u001b[0m \u001b[0mprefix\u001b[0m \u001b[0mrules\u001b[0m\u001b[0;34m,\u001b[0m \u001b[0me\u001b[0m\u001b[0;34m.\u001b[0m\u001b[0mg\u001b[0m\u001b[0;34m.\u001b[0m \u001b[0mspacy\u001b[0m\u001b[0;34m.\u001b[0m\u001b[0mlang\u001b[0m\u001b[0;34m.\u001b[0m\u001b[0mpunctuation\u001b[0m\u001b[0;34m.\u001b[0m\u001b[0mTOKENIZER_PREFIXES\u001b[0m\u001b[0;34m.\u001b[0m\u001b[0;34m\u001b[0m\u001b[0;34m\u001b[0m\u001b[0m\n",
      "\u001b[0;32m~/v_env/exp_env/lib/python3.7/site-packages/spacy/util.py\u001b[0m in \u001b[0;36mload_config\u001b[0;34m(path, overrides, interpolate)\u001b[0m\n\u001b[1;32m    545\u001b[0m     \"\"\"Yield an infinite series of values that step from a start value to a\n\u001b[1;32m    546\u001b[0m     \u001b[0mfinal\u001b[0m \u001b[0mvalue\u001b[0m \u001b[0mover\u001b[0m \u001b[0msome\u001b[0m \u001b[0mnumber\u001b[0m \u001b[0mof\u001b[0m \u001b[0msteps\u001b[0m\u001b[0;34m.\u001b[0m \u001b[0mEach\u001b[0m \u001b[0mstep\u001b[0m \u001b[0;32mis\u001b[0m \u001b[0;34m(\u001b[0m\u001b[0mstop\u001b[0m\u001b[0;34m-\u001b[0m\u001b[0mstart\u001b[0m\u001b[0;34m)\u001b[0m\u001b[0;34m/\u001b[0m\u001b[0msteps\u001b[0m\u001b[0;34m.\u001b[0m\u001b[0;34m\u001b[0m\u001b[0;34m\u001b[0m\u001b[0m\n\u001b[0;32m--> 547\u001b[0;31m \u001b[0;34m\u001b[0m\u001b[0m\n\u001b[0m\u001b[1;32m    548\u001b[0m     \u001b[0mAfter\u001b[0m \u001b[0mthe\u001b[0m \u001b[0mfinal\u001b[0m \u001b[0mvalue\u001b[0m \u001b[0;32mis\u001b[0m \u001b[0mreached\u001b[0m\u001b[0;34m,\u001b[0m \u001b[0mthe\u001b[0m \u001b[0mgenerator\u001b[0m \u001b[0mcontinues\u001b[0m \u001b[0myielding\u001b[0m \u001b[0mthat\u001b[0m\u001b[0;34m\u001b[0m\u001b[0;34m\u001b[0m\u001b[0m\n\u001b[1;32m    549\u001b[0m     \u001b[0mvalue\u001b[0m\u001b[0;34m.\u001b[0m\u001b[0;34m\u001b[0m\u001b[0;34m\u001b[0m\u001b[0m\n",
      "\u001b[0;31mOSError\u001b[0m: [E053] Could not read config.cfg from /home/iftekhar/v_env/exp_env/lib/python3.7/site-packages/ja_ginza/ja_ginza-4.0.0/config.cfg"
     ]
    }
   ],
   "source": [
    "import spacy\n",
    "from spacy.pipeline import EntityRuler\n",
    "\n",
    "nlp = spacy.load(\"ja_ginza\")\n",
    "ruler = EntityRuler(nlp)\n",
    "ruler.add_patterns(patterns)\n",
    "nlp.add_pipe(ruler)\n",
    "\n",
    "#print([(ent.text, ent.label_) for ent in doc.ents])\n",
    "\n",
    "for entity in doc.ents:\n",
    "    print(\"\\\"\", entity.label_, \"\\\"\", \"pattern:\", entity.text)\n"
   ]
  },
  {
   "cell_type": "code",
   "execution_count": 49,
   "metadata": {},
   "outputs": [],
   "source": [
    "import re\n",
    "def clean_text(text):\n",
    "    text = text.lower()\n",
    "    replaced_text = re.sub(r'v 14', '', text)       # 【】の除去\n",
    "    replaced_text = re.sub(r'mobicontrol', '', replaced_text)       # ・ の除去\n",
    "    replaced_text = re.sub(r'manual', '', replaced_text)     # （）の除去\n",
    "    replaced_text = re.sub(r'14', '', replaced_text)\n",
    "    replaced_text = re.sub(r'plus', '', replaced_text)\n",
    "    return replaced_text"
   ]
  }
 ],
 "metadata": {
  "kernelspec": {
   "display_name": "Python 3",
   "language": "python",
   "name": "python3"
  },
  "language_info": {
   "codemirror_mode": {
    "name": "ipython",
    "version": 3
   },
   "file_extension": ".py",
   "mimetype": "text/x-python",
   "name": "python",
   "nbconvert_exporter": "python",
   "pygments_lexer": "ipython3",
   "version": "3.7.10"
  }
 },
 "nbformat": 4,
 "nbformat_minor": 4
}
