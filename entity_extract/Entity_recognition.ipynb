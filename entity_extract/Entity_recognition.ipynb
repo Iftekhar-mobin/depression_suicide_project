{
 "cells": [
  {
   "cell_type": "code",
   "execution_count": null,
   "metadata": {},
   "outputs": [],
   "source": [
    "#import nltk\n",
    "#nltk.download('punkt')\n",
    "#nltk.download('averaged_perceptron_tagger')\n",
    "#nltk.download('maxent_ne_chunker')\n",
    "#nltk.download('words')"
   ]
  },
  {
   "cell_type": "code",
   "execution_count": null,
   "metadata": {},
   "outputs": [],
   "source": [
    "import nltk\n",
    "from nltk.tokenize import word_tokenize\n",
    "from nltk.tag import pos_tag\n",
    "from nltk.chunk import ne_chunk\n",
    "sentence = 'European authorities fined Google a record $5.1 billion on Wednesday for abusing its power in the mobile phone market and ordered the company to alter its practices'\n",
    "ne_tree = ne_chunk(pos_tag(word_tokenize(sentence)))\n",
    "\n",
    "def preprocess(sent):\n",
    "    sent = nltk.word_tokenize(sent)\n",
    "    sent = nltk.pos_tag(sent)\n",
    "    return sent\n",
    "sent = preprocess(sentence)\n",
    "sent"
   ]
  },
  {
   "cell_type": "code",
   "execution_count": null,
   "metadata": {},
   "outputs": [],
   "source": [
    "sent"
   ]
  },
  {
   "cell_type": "code",
   "execution_count": null,
   "metadata": {},
   "outputs": [],
   "source": [
    "\n",
    "pattern = 'NP: {<DT>?<JJ>*<NN>}'\n",
    "cp = nltk.RegexpParser(pattern)\n",
    "cs = cp.parse(sent)\n",
    "print(cs)"
   ]
  },
  {
   "cell_type": "code",
   "execution_count": 1,
   "metadata": {},
   "outputs": [
    {
     "name": "stdout",
     "output_type": "stream",
     "text": [
      "today DATE\n",
      "first ORDINAL\n",
      "Business Process Review ORG\n",
      "BPR ORG\n",
      "four CARDINAL\n",
      "CSF ORG\n",
      "Program & Project Managements ORG\n"
     ]
    }
   ],
   "source": [
    "#python -m spacy download en_core_web_lg\n",
    "#python -m spacy download en_core_web_sm\n",
    "#python -m spacy download en\n",
    "import spacy\n",
    "# Load English tokenizer, tagger, parser, NER and word vectors\n",
    "nlp = spacy.load(\"en_core_web_sm\")\n",
    "\n",
    "# Process whole documents\n",
    "text = (\"Business Analysis To enhance your business’ efficiency in the future, you need a solid understanding of where you are today. A typical first step in our strategic approach to improving your business is a comprehensive Business Process Review (BPR). Optimising simplifying your business processes can substantially improve your company’s performance. While revised processes alone can make a dramatic difference, but the biggest benefits of re-engineering are usually possible only with investment in technology. We can provide process review, redesign and innovation to ensure that there are clear and controlled processes that make effective use of organisational resources to deliver stakeholder value. By evaluating a company’s current practices and measuring its performance against globally competitive criteria, we are able to determine the most effective and efficient way for an organization to perform its functions, removing unnecessary steps and people in the process. A strategic business process review delivery framework is designed to identify opportunities for business process improvement, thorough the following four steps: Analyse Identify Quantify and Implement The information gathered from this evaluation helps us to: Define critical success factors (CSF’s) – areas in which an organization must perform well in order to be successful. Define existing or potential problems within a particular area. Define potential solutions which will help your organization reduce overall costs and provide more efficient use of resources. Program & Project Managements Our project and program managers are thought leaders and bring a wealth of knowledge and innovation to every engagement. Our objective is to maximise the benefit of an IT project or program initiative taken by your organisation. Both projects are constrained by time, budget and scope. It is the discipline of planning, organising, controlling as well as motivating resources to achieve specific goals. Our focus is to guide you in effectively implementing programs and projects which includes: Planning and Scheduling Estimation and Cost Management Resource Management Governance Risk Management Stakeholder Management\")\n",
    "doc = nlp(text)\n",
    "\n",
    "# Analyze syntax\n",
    "# print(\"Noun phrases:\", [chunk.text for chunk in doc.noun_chunks])\n",
    "#print(\"Verbs:\", [token.lemma_ for token in doc if token.pos_ == \"VERB\"])\n",
    "\n",
    "# Find named entities, phrases and concepts\n",
    "for entity in doc.ents:\n",
    "    print(entity.text, entity.label_)"
   ]
  },
  {
   "cell_type": "code",
   "execution_count": null,
   "metadata": {},
   "outputs": [],
   "source": [
    "[str(x) for x in doc.noun_chunks]"
   ]
  },
  {
   "cell_type": "code",
   "execution_count": null,
   "metadata": {},
   "outputs": [],
   "source": [
    "for token in doc:\n",
    "    if not token.is_stop and token.pos_ in ['PROPN', 'NOUN']:\n",
    "        print(str(token.lemma_))"
   ]
  },
  {
   "cell_type": "code",
   "execution_count": 2,
   "metadata": {},
   "outputs": [
    {
     "data": {
      "text/plain": [
       "['today',\n",
       " 'first',\n",
       " 'Business Process Review',\n",
       " 'BPR',\n",
       " 'four',\n",
       " 'CSF',\n",
       " 'Program & Project Managements']"
      ]
     },
     "execution_count": 2,
     "metadata": {},
     "output_type": "execute_result"
    }
   ],
   "source": [
    "[entity.text for entity in doc.ents]"
   ]
  },
  {
   "cell_type": "code",
   "execution_count": 7,
   "metadata": {},
   "outputs": [],
   "source": [
    "import os\n",
    "import ast\n",
    "# stop_word_file = os.path.join('/home/ifte/alechat_core/assets/stopwords', 'stop_words_en.txt')\n",
    "def get_stop_words_en():\n",
    "    stop_word_file = os.path.join('/home/ifte/alechat_core/assets/stopwords', 'stop_words_en.txt')\n",
    "\n",
    "    with open(stop_word_file, encoding='utf-8') as fr:\n",
    "        stop_words = ast.literal_eval(fr.read())\n",
    "    return stop_words\n",
    "\n",
    "\n",
    "def remove_stopwords(words, stopwords):\n",
    "    words = [word for word in words if word not in stopwords]\n",
    "    return words"
   ]
  },
  {
   "cell_type": "code",
   "execution_count": 6,
   "metadata": {},
   "outputs": [
    {
     "data": {
      "text/plain": [
       "['Business Analysis',\n",
       " 'To enhance your business’ efficiency in the future, you need a solid understanding of where you are today.',\n",
       " 'A typical first step in our strategic approach to improving your business is a comprehensive Business Process Review (BPR).',\n",
       " 'Optimising simplifying your business processes can substantially improve your company’s performance.',\n",
       " 'While revised processes alone can make a dramatic difference, but the biggest benefits of re-engineering are usually possible only with investment in technology.',\n",
       " 'We can provide process review, redesign and innovation to ensure that there are clear and controlled processes that make effective use of organisational resources to deliver stakeholder value.',\n",
       " 'By evaluating a company’s current practices and measuring its performance against globally competitive criteria, we are able to determine the most effective and efficient way for an organization to perform its functions, removing unnecessary steps and people in the process.',\n",
       " 'A strategic business process review delivery framework is designed to identify opportunities for business process improvement, thorough the following four steps',\n",
       " ': Analyse Identify Quantify and Implement',\n",
       " 'The information gathered from this evaluation',\n",
       " 'helps us to:',\n",
       " 'Define critical success factors (CSF’s) – areas in which an organization must perform well in order to be successful.',\n",
       " 'Define existing or potential problems within a particular area.',\n",
       " 'Define potential solutions which will help your organization reduce overall costs and provide more efficient use of resources.',\n",
       " 'Program & Project Managements',\n",
       " 'Our project and program managers are thought leaders and bring a wealth of knowledge and innovation to every engagement.',\n",
       " 'Our objective is to maximise the benefit of an IT project or program initiative taken by your organisation.',\n",
       " 'Both projects are constrained by time, budget and scope.',\n",
       " 'It is the discipline of planning, organising, controlling as well as motivating resources to achieve specific goals.',\n",
       " 'Our focus is to guide you in effectively implementing programs and projects which includes: Planning and Scheduling Estimation and Cost Management Resource Management Governance Risk Management Stakeholder Management']"
      ]
     },
     "execution_count": 6,
     "metadata": {},
     "output_type": "execute_result"
    }
   ],
   "source": [
    "i for i in [sent.text for sent in doc.sents] if i "
   ]
  },
  {
   "cell_type": "code",
   "execution_count": 20,
   "metadata": {},
   "outputs": [],
   "source": [
    "collector = []\n",
    "for w in [i.split() for i in [str(x).lower() for x in doc.noun_chunks]]:\n",
    "    z = remove_stopwords(w, get_stop_words_en())\n",
    "    if z and len(z) > 1:\n",
    "        collector.append(' '.join(z))\n",
    "#     break"
   ]
  },
  {
   "cell_type": "code",
   "execution_count": null,
   "metadata": {},
   "outputs": [],
   "source": [
    "collector"
   ]
  },
  {
   "cell_type": "code",
   "execution_count": 107,
   "metadata": {},
   "outputs": [],
   "source": [
    "from nltk import ngrams\n",
    "gs = ngrams('hello world boy'.split(), 2)\n"
   ]
  },
  {
   "cell_type": "code",
   "execution_count": 105,
   "metadata": {},
   "outputs": [],
   "source": [
    "collector = []\n",
    "for i,j in [x for x in grams]:\n",
    "    collector.append(i)\n",
    "    collector.append(j)"
   ]
  },
  {
   "cell_type": "code",
   "execution_count": 106,
   "metadata": {},
   "outputs": [
    {
     "data": {
      "text/plain": [
       "['hello', 'world', 'world', 'boy']"
      ]
     },
     "execution_count": 106,
     "metadata": {},
     "output_type": "execute_result"
    }
   ],
   "source": [
    "collector\n"
   ]
  },
  {
   "cell_type": "code",
   "execution_count": 103,
   "metadata": {},
   "outputs": [
    {
     "data": {
      "text/plain": [
       "[('hello', 'world'), ('world', 'boy')]"
      ]
     },
     "execution_count": 103,
     "metadata": {},
     "output_type": "execute_result"
    }
   ],
   "source": [
    "[x for x in grams]"
   ]
  },
  {
   "cell_type": "code",
   "execution_count": 113,
   "metadata": {},
   "outputs": [
    {
     "name": "stdout",
     "output_type": "stream",
     "text": [
      "hello world\n",
      "world boy\n"
     ]
    }
   ],
   "source": [
    "gs = ngrams('hello world boy'.split(), 2)\n",
    "for grams in gs:\n",
    "    print(' '.join(grams))"
   ]
  },
  {
   "cell_type": "code",
   "execution_count": 4,
   "metadata": {},
   "outputs": [
    {
     "name": "stdout",
     "output_type": "stream",
     "text": [
      "business \n",
      "analysis \n",
      "enhance \n",
      "business \n",
      "efficiency \n",
      "future \n",
      "need \n",
      "solid \n",
      "understanding \n",
      "today \n",
      "typical \n",
      "step \n",
      "strategic \n",
      "approach \n",
      "improve \n",
      "business \n",
      "comprehensive \n",
      "Business \n",
      "Process \n",
      "Review \n",
      "BPR \n",
      "optimise \n",
      "simplify \n",
      "business \n",
      "process \n",
      "substantially \n",
      "improve \n",
      "company \n",
      "performance \n",
      "revised \n",
      "process \n",
      "dramatic \n",
      "difference \n",
      "big \n",
      "benefit \n",
      "- \n",
      "engineering \n",
      "usually \n",
      "possible \n",
      "investment \n",
      "technology \n",
      "provide \n",
      "process \n",
      "review \n",
      "redesign \n",
      "innovation \n",
      "ensure \n",
      "clear \n",
      "control \n",
      "process \n",
      "effective \n",
      "use \n",
      "organisational \n",
      "resource \n",
      "deliver \n",
      "stakeholder \n",
      "value \n",
      "evaluate \n",
      "company \n",
      "current \n",
      "practice \n",
      "measure \n",
      "performance \n",
      "globally \n",
      "competitive \n",
      "criterion \n",
      "able \n",
      "determine \n",
      "effective \n",
      "efficient \n",
      "way \n",
      "organization \n",
      "perform \n",
      "function \n",
      "remove \n",
      "unnecessary \n",
      "step \n",
      "people \n",
      "process \n",
      "strategic \n",
      "business \n",
      "process \n",
      "review \n",
      "delivery \n",
      "framework \n",
      "design \n",
      "identify \n",
      "opportunity \n",
      "business \n",
      "process \n",
      "improvement \n",
      "thorough \n",
      "following \n",
      "step \n",
      "Analyse \n",
      "Identify \n",
      "Quantify \n",
      "implement \n",
      "information \n",
      "gather \n",
      "evaluation \n",
      "help \n",
      "define \n",
      "critical \n",
      "success \n",
      "factor \n",
      "CSF \n",
      "area \n",
      "organization \n",
      "perform \n",
      "order \n",
      "successful \n",
      "define \n",
      "existing \n",
      "potential \n",
      "problem \n",
      "particular \n",
      "area \n",
      "define \n",
      "potential \n",
      "solution \n",
      "help \n",
      "organization \n",
      "reduce \n",
      "overall \n",
      "cost \n",
      "provide \n",
      "efficient \n",
      "use \n",
      "resource \n",
      "Program \n",
      "Project \n",
      "Managements \n",
      "project \n",
      "program \n",
      "manager \n",
      "think \n",
      "leader \n",
      "bring \n",
      "wealth \n",
      "knowledge \n",
      "innovation \n",
      "engagement \n",
      "objective \n",
      "maximise \n",
      "benefit \n",
      "project \n",
      "program \n",
      "initiative \n",
      "take \n",
      "organisation \n",
      "project \n",
      "constrain \n",
      "time \n",
      "budget \n",
      "scope \n",
      "discipline \n",
      "planning \n",
      "organise \n",
      "control \n",
      "motivate \n",
      "resource \n",
      "achieve \n",
      "specific \n",
      "goal \n",
      "focus \n",
      "guide \n",
      "effectively \n",
      "implement \n",
      "program \n",
      "project \n",
      "include \n",
      "planning \n",
      "Scheduling \n",
      "Estimation \n",
      "Cost \n",
      "Management \n",
      "Resource \n",
      "Management \n",
      "Governance \n",
      "Risk \n",
      "Management \n",
      "Stakeholder \n",
      "Management \n"
     ]
    }
   ],
   "source": [
    "FEATURES = ['VERB', 'PROPN', 'ADJ', 'NOUN', 'INTJ', 'ADV']\n",
    "for token in doc:\n",
    "#     print(token.text, token.lemma_, token.pos_, token.tag_, token.dep_,\n",
    "#             token.shape_, token.is_alpha, token.is_stop)\n",
    "    \n",
    "        \n",
    "    if not token.is_stop and token.pos_ in FEATURES or token.dep_ is 'neg':\n",
    "        print(token.lemma_ + ' ')\n"
   ]
  },
  {
   "cell_type": "code",
   "execution_count": 49,
   "metadata": {},
   "outputs": [],
   "source": [
    "import os\n",
    "import ast\n",
    "def get_stop_words_en():\n",
    "    stop_word_file = os.path.join('/home/ifte/alechat_core/assets/stopwords', 'stop_words_en.txt')\n",
    "\n",
    "    with open(stop_word_file, encoding='utf-8') as fr:\n",
    "        stop_words = ast.literal_eval(fr.read())\n",
    "    return stop_words"
   ]
  },
  {
   "cell_type": "code",
   "execution_count": null,
   "metadata": {},
   "outputs": [],
   "source": [
    "get_stop_words_en()"
   ]
  },
  {
   "cell_type": "code",
   "execution_count": 51,
   "metadata": {},
   "outputs": [],
   "source": [
    "x = ['hot or cold weather', 'hot', 'cold', 'weather']"
   ]
  },
  {
   "cell_type": "code",
   "execution_count": 52,
   "metadata": {},
   "outputs": [
    {
     "data": {
      "text/plain": [
       "'cold hot weather hot or cold weather'"
      ]
     },
     "execution_count": 52,
     "metadata": {},
     "output_type": "execute_result"
    }
   ],
   "source": [
    "' '.join(list(set(x)))"
   ]
  },
  {
   "cell_type": "code",
   "execution_count": 20,
   "metadata": {},
   "outputs": [
    {
     "name": "stdout",
     "output_type": "stream",
     "text": [
      "['Samsung', 'South Korea']\n"
     ]
    }
   ],
   "source": [
    "import nltk\n",
    "#text = \"who is Barrack Mama\" \n",
    "text = \"Most of the outlay will be at home. No surprise there, either. While Samsung has expanded overseas, South Korea is still host to most of its factories and research engineers. ..\" \n",
    "word = nltk.word_tokenize(text) \n",
    "pos_tag = nltk.pos_tag(word) \n",
    "chunk = nltk.ne_chunk(pos_tag) \n",
    "NE = [\" \".join(w for w, t in ele) for ele in chunk if isinstance(ele, nltk.Tree)] \n",
    "print(NE)"
   ]
  },
  {
   "cell_type": "code",
   "execution_count": 2,
   "metadata": {},
   "outputs": [],
   "source": [
    "#python -m spacy download en_core_web_lg\n",
    "# python -m spacy download ja_core_news_sm\n",
    "#python -m spacy download en\n",
    "import spacy\n",
    "# Load English tokenizer, tagger, parser, NER and word vectors\n",
    "nlp = spacy.load(\"ja_core_news_sm\")"
   ]
  },
  {
   "cell_type": "code",
   "execution_count": 3,
   "metadata": {},
   "outputs": [
    {
     "ename": "AttributeError",
     "evalue": "'spacy.tokens.span.Span' object has no attribute 'string'",
     "output_type": "error",
     "traceback": [
      "\u001b[0;31m---------------------------------------------------------------------------\u001b[0m",
      "\u001b[0;31mAttributeError\u001b[0m                            Traceback (most recent call last)",
      "\u001b[0;32m<ipython-input-3-acf2e5527e93>\u001b[0m in \u001b[0;36m<module>\u001b[0;34m\u001b[0m\n\u001b[1;32m      3\u001b[0m \u001b[0mlabels\u001b[0m \u001b[0;34m=\u001b[0m \u001b[0mset\u001b[0m\u001b[0;34m(\u001b[0m\u001b[0;34m[\u001b[0m\u001b[0mw\u001b[0m\u001b[0;34m.\u001b[0m\u001b[0mlabel_\u001b[0m \u001b[0;32mfor\u001b[0m \u001b[0mw\u001b[0m \u001b[0;32min\u001b[0m \u001b[0mtext\u001b[0m\u001b[0;34m.\u001b[0m\u001b[0ments\u001b[0m\u001b[0;34m]\u001b[0m\u001b[0;34m)\u001b[0m\u001b[0;34m\u001b[0m\u001b[0;34m\u001b[0m\u001b[0m\n\u001b[1;32m      4\u001b[0m \u001b[0;32mfor\u001b[0m \u001b[0mlabel\u001b[0m \u001b[0;32min\u001b[0m \u001b[0mlabels\u001b[0m\u001b[0;34m:\u001b[0m\u001b[0;34m\u001b[0m\u001b[0;34m\u001b[0m\u001b[0m\n\u001b[0;32m----> 5\u001b[0;31m     \u001b[0mentities\u001b[0m \u001b[0;34m=\u001b[0m \u001b[0;34m[\u001b[0m\u001b[0me\u001b[0m\u001b[0;34m.\u001b[0m\u001b[0mstring\u001b[0m \u001b[0;32mfor\u001b[0m \u001b[0me\u001b[0m \u001b[0;32min\u001b[0m \u001b[0mtext\u001b[0m\u001b[0;34m.\u001b[0m\u001b[0ments\u001b[0m \u001b[0;32mif\u001b[0m \u001b[0mlabel\u001b[0m\u001b[0;34m==\u001b[0m\u001b[0me\u001b[0m\u001b[0;34m.\u001b[0m\u001b[0mlabel_\u001b[0m\u001b[0;34m]\u001b[0m\u001b[0;34m\u001b[0m\u001b[0;34m\u001b[0m\u001b[0m\n\u001b[0m\u001b[1;32m      6\u001b[0m     \u001b[0mentities\u001b[0m \u001b[0;34m=\u001b[0m \u001b[0mlist\u001b[0m\u001b[0;34m(\u001b[0m\u001b[0mset\u001b[0m\u001b[0;34m(\u001b[0m\u001b[0mentities\u001b[0m\u001b[0;34m)\u001b[0m\u001b[0;34m)\u001b[0m\u001b[0;34m\u001b[0m\u001b[0;34m\u001b[0m\u001b[0m\n\u001b[1;32m      7\u001b[0m     \u001b[0mprint\u001b[0m\u001b[0;34m(\u001b[0m\u001b[0mlabel\u001b[0m\u001b[0;34m,\u001b[0m\u001b[0mentities\u001b[0m\u001b[0;34m)\u001b[0m\u001b[0;34m\u001b[0m\u001b[0;34m\u001b[0m\u001b[0m\n",
      "\u001b[0;32m<ipython-input-3-acf2e5527e93>\u001b[0m in \u001b[0;36m<listcomp>\u001b[0;34m(.0)\u001b[0m\n\u001b[1;32m      3\u001b[0m \u001b[0mlabels\u001b[0m \u001b[0;34m=\u001b[0m \u001b[0mset\u001b[0m\u001b[0;34m(\u001b[0m\u001b[0;34m[\u001b[0m\u001b[0mw\u001b[0m\u001b[0;34m.\u001b[0m\u001b[0mlabel_\u001b[0m \u001b[0;32mfor\u001b[0m \u001b[0mw\u001b[0m \u001b[0;32min\u001b[0m \u001b[0mtext\u001b[0m\u001b[0;34m.\u001b[0m\u001b[0ments\u001b[0m\u001b[0;34m]\u001b[0m\u001b[0;34m)\u001b[0m\u001b[0;34m\u001b[0m\u001b[0;34m\u001b[0m\u001b[0m\n\u001b[1;32m      4\u001b[0m \u001b[0;32mfor\u001b[0m \u001b[0mlabel\u001b[0m \u001b[0;32min\u001b[0m \u001b[0mlabels\u001b[0m\u001b[0;34m:\u001b[0m\u001b[0;34m\u001b[0m\u001b[0;34m\u001b[0m\u001b[0m\n\u001b[0;32m----> 5\u001b[0;31m     \u001b[0mentities\u001b[0m \u001b[0;34m=\u001b[0m \u001b[0;34m[\u001b[0m\u001b[0me\u001b[0m\u001b[0;34m.\u001b[0m\u001b[0mstring\u001b[0m \u001b[0;32mfor\u001b[0m \u001b[0me\u001b[0m \u001b[0;32min\u001b[0m \u001b[0mtext\u001b[0m\u001b[0;34m.\u001b[0m\u001b[0ments\u001b[0m \u001b[0;32mif\u001b[0m \u001b[0mlabel\u001b[0m\u001b[0;34m==\u001b[0m\u001b[0me\u001b[0m\u001b[0;34m.\u001b[0m\u001b[0mlabel_\u001b[0m\u001b[0;34m]\u001b[0m\u001b[0;34m\u001b[0m\u001b[0;34m\u001b[0m\u001b[0m\n\u001b[0m\u001b[1;32m      6\u001b[0m     \u001b[0mentities\u001b[0m \u001b[0;34m=\u001b[0m \u001b[0mlist\u001b[0m\u001b[0;34m(\u001b[0m\u001b[0mset\u001b[0m\u001b[0;34m(\u001b[0m\u001b[0mentities\u001b[0m\u001b[0;34m)\u001b[0m\u001b[0;34m)\u001b[0m\u001b[0;34m\u001b[0m\u001b[0;34m\u001b[0m\u001b[0m\n\u001b[1;32m      7\u001b[0m     \u001b[0mprint\u001b[0m\u001b[0;34m(\u001b[0m\u001b[0mlabel\u001b[0m\u001b[0;34m,\u001b[0m\u001b[0mentities\u001b[0m\u001b[0;34m)\u001b[0m\u001b[0;34m\u001b[0m\u001b[0;34m\u001b[0m\u001b[0m\n",
      "\u001b[0;31mAttributeError\u001b[0m: 'spacy.tokens.span.Span' object has no attribute 'string'"
     ]
    }
   ],
   "source": [
    "text = \"Most of the outlay will be at home. No surprise there, either. While Samsung has expanded overseas, South Korea is still host to most of its factories and research engineers. ..\" \n",
    "text = nlp(text) \n",
    "labels = set([w.label_ for w in text.ents]) \n",
    "for label in labels: \n",
    "    entities = [e.string for e in text.ents if label==e.label_]\n",
    "    entities = list(set(entities)) \n",
    "    print(label,entities) "
   ]
  },
  {
   "cell_type": "code",
   "execution_count": 11,
   "metadata": {},
   "outputs": [
    {
     "data": {
      "text/plain": [
       "<spacy.vocab.Vocab at 0x7fbb6f48fa50>"
      ]
     },
     "execution_count": 11,
     "metadata": {},
     "output_type": "execute_result"
    }
   ],
   "source": [
    "text."
   ]
  },
  {
   "cell_type": "code",
   "execution_count": 10,
   "metadata": {},
   "outputs": [
    {
     "data": {
      "text/plain": [
       "[Most of the outlay will be at home. No surprise there,\n",
       " either,\n",
       " While Samsung,\n",
       " has expanded overseas,\n",
       " South Korea is still host to most of its factories and research engineers]"
      ]
     },
     "execution_count": 10,
     "metadata": {},
     "output_type": "execute_result"
    }
   ],
   "source": [
    "[x for x in text.noun_chunks]"
   ]
  },
  {
   "cell_type": "code",
   "execution_count": 5,
   "metadata": {},
   "outputs": [
    {
     "data": {
      "text/plain": [
       "(Most of the outlay will be,\n",
       " No surprise there,\n",
       " either. While Samsung has expanded overseas,\n",
       " South Korea is still host to most of its factories and research engineers)"
      ]
     },
     "execution_count": 5,
     "metadata": {},
     "output_type": "execute_result"
    }
   ],
   "source": [
    "text.ents"
   ]
  }
 ],
 "metadata": {
  "kernelspec": {
   "display_name": "Python 3",
   "language": "python",
   "name": "python3"
  },
  "language_info": {
   "codemirror_mode": {
    "name": "ipython",
    "version": 3
   },
   "file_extension": ".py",
   "mimetype": "text/x-python",
   "name": "python",
   "nbconvert_exporter": "python",
   "pygments_lexer": "ipython3",
   "version": "3.7.10"
  }
 },
 "nbformat": 4,
 "nbformat_minor": 4
}
