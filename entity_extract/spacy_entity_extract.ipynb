{
 "cells": [
  {
   "cell_type": "code",
   "execution_count": 2,
   "metadata": {},
   "outputs": [],
   "source": [
    "import spacy\n",
    "nlp = spacy.load(\"ja_ginza\")"
   ]
  },
  {
   "cell_type": "code",
   "execution_count": 4,
   "metadata": {},
   "outputs": [],
   "source": [
    "import pandas as pd"
   ]
  },
  {
   "cell_type": "code",
   "execution_count": 9,
   "metadata": {},
   "outputs": [],
   "source": [
    "df = pd.read_csv(\"/home/iftekhar/mywork/amie_datadir/data/merged_corpus.csv\")"
   ]
  },
  {
   "cell_type": "code",
   "execution_count": 10,
   "metadata": {},
   "outputs": [
    {
     "data": {
      "text/html": [
       "<div>\n",
       "<style scoped>\n",
       "    .dataframe tbody tr th:only-of-type {\n",
       "        vertical-align: middle;\n",
       "    }\n",
       "\n",
       "    .dataframe tbody tr th {\n",
       "        vertical-align: top;\n",
       "    }\n",
       "\n",
       "    .dataframe thead th {\n",
       "        text-align: right;\n",
       "    }\n",
       "</style>\n",
       "<table border=\"1\" class=\"dataframe\">\n",
       "  <thead>\n",
       "    <tr style=\"text-align: right;\">\n",
       "      <th></th>\n",
       "      <th>page</th>\n",
       "      <th>title</th>\n",
       "      <th>text</th>\n",
       "      <th>key_phrase</th>\n",
       "    </tr>\n",
       "  </thead>\n",
       "  <tbody>\n",
       "    <tr>\n",
       "      <th>0</th>\n",
       "      <td>0</td>\n",
       "      <td>dマーケット｜もっと、みつかる、たのしめる。｜NTTドコモ公式</td>\n",
       "      <td>トップ サービスを探す ジャンルから探す もっと見る あそんでためる ? × 簡単なゲーム...</td>\n",
       "      <td>毎日 ポイント</td>\n",
       "    </tr>\n",
       "    <tr>\n",
       "      <th>1</th>\n",
       "      <td>1</td>\n",
       "      <td>ファッション・美容｜dマーケット</td>\n",
       "      <td>ファッション 検索 もしかして 検索するキーワードを入力してください。 閉じる の検索結果...</td>\n",
       "      <td>ファッション 検索</td>\n",
       "    </tr>\n",
       "    <tr>\n",
       "      <th>2</th>\n",
       "      <td>2</td>\n",
       "      <td>スポーツ｜dマーケット</td>\n",
       "      <td>スポーツ 検索 もしかして 検索するキーワードを入力してください。 閉じる の検索結果 ス...</td>\n",
       "      <td>スポーツ 検索</td>\n",
       "    </tr>\n",
       "    <tr>\n",
       "      <th>3</th>\n",
       "      <td>3</td>\n",
       "      <td>マイページ - dポイント確認｜dマーケット</td>\n",
       "      <td>マイページ - dポイント確認 dアカウントの発行、もしくはログインが必要です。 dマーケ...</td>\n",
       "      <td>ログイン</td>\n",
       "    </tr>\n",
       "    <tr>\n",
       "      <th>4</th>\n",
       "      <td>4</td>\n",
       "      <td>キッズ｜dマーケット</td>\n",
       "      <td>キッズ 検索 もしかして 検索するキーワードを入力してください。 閉じる の検索結果 キッ...</td>\n",
       "      <td>キッズ 検索</td>\n",
       "    </tr>\n",
       "  </tbody>\n",
       "</table>\n",
       "</div>"
      ],
      "text/plain": [
       "   page                            title  \\\n",
       "0     0  dマーケット｜もっと、みつかる、たのしめる。｜NTTドコモ公式   \n",
       "1     1                 ファッション・美容｜dマーケット   \n",
       "2     2                      スポーツ｜dマーケット   \n",
       "3     3           マイページ - dポイント確認｜dマーケット   \n",
       "4     4                       キッズ｜dマーケット   \n",
       "\n",
       "                                                text key_phrase  \n",
       "0   トップ サービスを探す ジャンルから探す もっと見る あそんでためる ? × 簡単なゲーム...    毎日 ポイント  \n",
       "1   ファッション 検索 もしかして 検索するキーワードを入力してください。 閉じる の検索結果...  ファッション 検索  \n",
       "2   スポーツ 検索 もしかして 検索するキーワードを入力してください。 閉じる の検索結果 ス...    スポーツ 検索  \n",
       "3   マイページ - dポイント確認 dアカウントの発行、もしくはログインが必要です。 dマーケ...       ログイン  \n",
       "4   キッズ 検索 もしかして 検索するキーワードを入力してください。 閉じる の検索結果 キッ...     キッズ 検索  "
      ]
     },
     "execution_count": 10,
     "metadata": {},
     "output_type": "execute_result"
    }
   ],
   "source": [
    "df.head()"
   ]
  },
  {
   "cell_type": "code",
   "execution_count": 23,
   "metadata": {},
   "outputs": [
    {
     "name": "stdout",
     "output_type": "stream",
     "text": [
      "Page 0 \n",
      "\n",
      "[1, 1, 5, 1, 1, 1, 1, 1, 1, 1, 1, 2, 5, 1, 1, 1, 1, 4, 1, 1, 2, 5, 2, 2, 4, 1, 5, 1, 1, 1, 1, 1, 1, 5, 1, 1, 4]\n"
     ]
    }
   ],
   "source": [
    "j = 0 \n",
    "breaking_point = 5\n",
    "for row, col in df.iterrows():\n",
    "    doc = nlp(col[\"text\"])\n",
    "    x = [chunk.text for chunk in doc.noun_chunks]\n",
    "    print(\"Page\", j, \"\\n\")\n",
    "    print([col[\"text\"].count(i) for i in x])\n",
    "    if j > breaking_point:\n",
    "        break\n",
    "    j += 1\n",
    "    break"
   ]
  },
  {
   "cell_type": "code",
   "execution_count": null,
   "metadata": {},
   "outputs": [],
   "source": []
  },
  {
   "cell_type": "code",
   "execution_count": 1,
   "metadata": {},
   "outputs": [
    {
     "name": "stdout",
     "output_type": "stream",
     "text": [
      "Noun phrases: ['When', 'Sebastian', 'Thrun', 'started', 'working', 'on self-driving cars at', 'Google', 'in 2007, few', 'people outside', 'of the', 'company took', 'him', 'seriously', '“I can', 'tell you', 'very', 'senior', 'CEOs', 'of major', 'American', 'companies', 'would', 'shake my', 'hand and', 'turn', 'away because I wasn', '’t worth talking to', '” said', 'Thrun', 'in an', 'interview', 'with', 'Recode', 'earlier']\n",
      "Verbs: []\n"
     ]
    }
   ],
   "source": [
    "import spacy\n",
    "\n",
    "# Load English tokenizer, tagger, parser, NER and word vectors\n",
    "nlp = spacy.load(\"ja_ginza\")\n",
    "\n",
    "# Process whole documents\n",
    "text = (\"When Sebastian Thrun started working on self-driving cars at \"\n",
    "        \"Google in 2007, few people outside of the company took him \"\n",
    "        \"seriously. “I can tell you very senior CEOs of major American \"\n",
    "        \"car companies would shake my hand and turn away because I wasn’t \"\n",
    "        \"worth talking to,” said Thrun, in an interview with Recode earlier \"\n",
    "        \"this week.\")\n",
    "doc = nlp(text)\n",
    "\n",
    "# Analyze syntax\n",
    "print(\"Noun phrases:\", [chunk.text for chunk in doc.noun_chunks])\n",
    "print(\"Verbs:\", [token.lemma_ for token in doc if token.pos_ == \"VERB\"])"
   ]
  },
  {
   "cell_type": "code",
   "execution_count": null,
   "metadata": {},
   "outputs": [],
   "source": []
  },
  {
   "cell_type": "code",
   "execution_count": 2,
   "metadata": {},
   "outputs": [
    {
     "name": "stdout",
     "output_type": "stream",
     "text": [
      "I can tell you very senior CEOs Product_Other\n",
      "said Thrun Position_Vocation\n"
     ]
    }
   ],
   "source": [
    "# Find named entities, phrases and concepts\n",
    "for entity in doc.ents:\n",
    "    print(entity.text, entity.label_)"
   ]
  },
  {
   "cell_type": "code",
   "execution_count": 18,
   "metadata": {},
   "outputs": [
    {
     "name": "stdout",
     "output_type": "stream",
     "text": [
      "Jeffrey Hinton is a Corporation_Other\n",
      "\\ Famous for researching neural networks. Product_Other\n"
     ]
    }
   ],
   "source": [
    "doc  =  nlp(\"Jeffrey Hinton is a British-born researcher in computer science and cognitive psychology. \\ Famous for researching neural networks. Currently working at the University of Toronto and Google.\" )\n",
    "for entity in doc.ents:\n",
    "    print(entity.text, entity.label_)\n",
    "\n"
   ]
  },
  {
   "cell_type": "code",
   "execution_count": 19,
   "metadata": {},
   "outputs": [
    {
     "name": "stdout",
     "output_type": "stream",
     "text": [
      "[('MobiControl', 'ORG'), ('Android', 'OPSYS')]\n"
     ]
    }
   ],
   "source": [
    "from spacy.lang.en import English\n",
    "from spacy.pipeline import EntityRuler\n",
    "\n",
    "nlp = English()\n",
    "ruler = EntityRuler(nlp)\n",
    "patterns = [{\"label\": \"ORG\", \"pattern\": \"MobiControl\"},\n",
    "            {\"label\": \"OPSYS\", \"pattern\": \"Android\"}]\n",
    "ruler.add_patterns(patterns)\n",
    "nlp.add_pipe(ruler)\n",
    "\n",
    "doc = nlp(\"Apple 製品 MobiControl v 14 Manual ios overall Android 端末\")\n",
    "print([(ent.text, ent.label_) for ent in doc.ents])"
   ]
  },
  {
   "cell_type": "code",
   "execution_count": 3,
   "metadata": {},
   "outputs": [],
   "source": [
    "import spacy\n",
    "nlp = spacy.load('ja_ginza')\n",
    "doc = nlp('※ｄトラベルでは海外発行のクレジットカードのご利用はできません。あらかじめご了承ください。 国内宿泊では、ドコモ払い、クレジットカード払い（dカード、VISA、MasterCard、JCB、AMEX...※ｄトラベルでは海外発行のクレジットカードのご利用はできません。あらかじめご了承ください。 ※JCB、AMEX、ダイナースはご利用いただけません。 Q.利用可能な支払方法について教えてください。（電...\"')\n",
    "# for sent in doc.sents:\n",
    "#     for token in sent:\n",
    "#         print(token.i, token.orth_, token.lemma_, token.pos_, token.tag_, token.dep_, token.head.i)\n",
    "#     print('EOS')\n",
    "#     print(sent)\n",
    "#     break"
   ]
  },
  {
   "cell_type": "code",
   "execution_count": null,
   "metadata": {},
   "outputs": [],
   "source": [
    "doc."
   ]
  },
  {
   "cell_type": "code",
   "execution_count": 10,
   "metadata": {},
   "outputs": [
    {
     "data": {
      "text/plain": [
       "[ｄトラベル,\n",
       " 海外発行,\n",
       " クレジットカード,\n",
       " ご利用,\n",
       " 国内宿泊,\n",
       " ドコモ払い、クレジットカード払い（dカード、VISA,\n",
       " MasterCard,\n",
       " JCB,\n",
       " AMEX,\n",
       " ※ｄトラベル,\n",
       " 海外発行,\n",
       " クレジットカード,\n",
       " ご利用,\n",
       " JCB,\n",
       " AMEX,\n",
       " ダイナース,\n",
       " ご利用,\n",
       " 利用可能な支払方法]"
      ]
     },
     "execution_count": 10,
     "metadata": {},
     "output_type": "execute_result"
    }
   ],
   "source": [
    "[x for x in doc.noun_chunks if len(x) < 10]"
   ]
  },
  {
   "cell_type": "code",
   "execution_count": 11,
   "metadata": {},
   "outputs": [
    {
     "ename": "NameError",
     "evalue": "name 'x' is not defined",
     "output_type": "error",
     "traceback": [
      "\u001b[0;31m---------------------------------------------------------------------------\u001b[0m",
      "\u001b[0;31mNameError\u001b[0m                                 Traceback (most recent call last)",
      "\u001b[0;32m<ipython-input-11-6fcf9dfbd479>\u001b[0m in \u001b[0;36m<module>\u001b[0;34m\u001b[0m\n\u001b[0;32m----> 1\u001b[0;31m \u001b[0mx\u001b[0m\u001b[0;34m\u001b[0m\u001b[0;34m\u001b[0m\u001b[0m\n\u001b[0m",
      "\u001b[0;31mNameError\u001b[0m: name 'x' is not defined"
     ]
    }
   ],
   "source": [
    "x"
   ]
  },
  {
   "cell_type": "code",
   "execution_count": 5,
   "metadata": {},
   "outputs": [
    {
     "name": "stdout",
     "output_type": "stream",
     "text": [
      "[('ｄトラベル', 'Product_Other'), ('ドコモ払い', 'Product_Other'), ('クレジットカード払い', 'Dish'), ('JCB', 'Company'), ('AMEX', 'Company'), ('ｄトラベル', 'Product_Other'), ('JCB', 'Company'), ('AMEX', 'Company'), ('Q.', 'Ordinal_Number')]\n"
     ]
    }
   ],
   "source": [
    "print([(ent.text, ent.label_) for ent in doc.ents])"
   ]
  },
  {
   "cell_type": "code",
   "execution_count": 13,
   "metadata": {},
   "outputs": [
    {
     "name": "stdout",
     "output_type": "stream",
     "text": [
      "[('ドコモ払い', 'Company'), ('クレジットカード払い', 'Doctrine_Method_Other'), ('VISA', 'Product_Other'), ('MasterCard', 'Product_Other'), ('JCB', 'Product_Other'), ('AMEX...※ｄ', 'Product_Other'), ('JCB', 'Product_Other'), ('AMEX', 'Product_Other'), ('ダイナース', 'Product_Other')]\n"
     ]
    }
   ],
   "source": [
    "print([(ent.text, ent.label_) for ent in doc.ents])"
   ]
  }
 ],
 "metadata": {
  "kernelspec": {
   "display_name": "Python 3",
   "language": "python",
   "name": "python3"
  },
  "language_info": {
   "codemirror_mode": {
    "name": "ipython",
    "version": 3
   },
   "file_extension": ".py",
   "mimetype": "text/x-python",
   "name": "python",
   "nbconvert_exporter": "python",
   "pygments_lexer": "ipython3",
   "version": "3.7.10"
  }
 },
 "nbformat": 4,
 "nbformat_minor": 4
}
