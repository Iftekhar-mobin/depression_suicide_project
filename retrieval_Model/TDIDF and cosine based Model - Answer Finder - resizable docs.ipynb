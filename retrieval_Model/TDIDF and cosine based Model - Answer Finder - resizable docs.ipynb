{
 "cells": [
  {
   "cell_type": "code",
   "execution_count": 2,
   "metadata": {},
   "outputs": [],
   "source": [
    "import pandas as pd\n",
    "from pathlib import Path\n",
    "from sklearn.model_selection import train_test_split\n",
    "from sklearn.feature_extraction.text import TfidfVectorizer \n",
    "import random\n",
    "import io\n",
    "import string\n",
    "from sklearn.metrics.pairwise import cosine_similarity\n",
    "import MeCab \n",
    "import numpy as np"
   ]
  },
  {
   "cell_type": "code",
   "execution_count": 101,
   "metadata": {},
   "outputs": [],
   "source": [
    "import re\n",
    "\n",
    "def clean_text(text):\n",
    "    replaced_text = re.sub(r'[【】]', ' ', text)       # 【】の除去\n",
    "    replaced_text = re.sub(r'[・_]', '', replaced_text)       # ・ の除去\n",
    "    replaced_text = re.sub(r'[（）()]', ' ', replaced_text)     # （）の除去\n",
    "    replaced_text = re.sub(r'[［］\\[\\]]', ' ', replaced_text)   # ［］の除去\n",
    "    replaced_text = re.sub(r'[@＠]\\w+', '', replaced_text)  # メンションの除去\n",
    "    replaced_text = re.sub(r'https?:\\/\\/.*?[\\r\\n ]', '', replaced_text)  # URLの除去\n",
    "    replaced_text = re.sub(r'　', ' ', replaced_text)  # 全角空白の除去\n",
    "    replaced_text = re.sub(r'\\d+', '', replaced_text) # 数字の除去\n",
    "    replaced_text = re.sub(r'[-/。,、.=]', ' ', replaced_text)\n",
    "    return replaced_text"
   ]
  },
  {
   "cell_type": "code",
   "execution_count": 102,
   "metadata": {},
   "outputs": [],
   "source": [
    "mecab = MeCab.Tagger('-Owakati')\n",
    "\n",
    "#p = Path(\"/home/ifte/amiebot_project/amie-HelpBot/mobicontrol_data/corpus_mobicontrol.csv\")\n",
    "df = pd.read_csv(\"/home/ifte/amiebot_project/amie-HelpBot/mobicontrol_data/Train_Test_Data/japanese/corpus_ver14.csv\", \n",
    "                 header=0, usecols=[\"page\", \"text\"])"
   ]
  },
  {
   "cell_type": "code",
   "execution_count": 5,
   "metadata": {},
   "outputs": [],
   "source": [
    "stop_words_ja = []\n",
    "STOPWORD_FILE = Path(\"/home/ifte/amiebot_project/amie-HelpBot/amie_helpbot/assets/learning/stop_word.txt\")\n",
    "with open(STOPWORD_FILE, encoding='utf-8') as fr:\n",
    "    stop_w = fr.read().splitlines()\n",
    "\n",
    "len(stop_w)\n",
    "\n",
    "newlist = ['ます', '端末', 'する', '設定', '表示', 'mobicontrol', '選択', '入力', 'アプリ', 'ユーザ', '構成', 'でき', \n",
    "           '画面', '接続', 'ルール', 'ない', 'インストール', 'です', '指定', '管理', 'ad', 'ください', 'この', 'クリック', \n",
    "           '参照', 'ボタン', 'あり', 'チェック', 'コンソール', 'または', '証明', 'id', 'android', '項目', 'なり', 'アクセス',\n",
    "           'データ', '対象', '適用', 'いる', 'pc', 'その']\n",
    "stop_words_ja = stop_w + newlist"
   ]
  },
  {
   "cell_type": "code",
   "execution_count": 135,
   "metadata": {},
   "outputs": [
    {
     "data": {
      "text/plain": [
       "372"
      ]
     },
     "execution_count": 135,
     "metadata": {},
     "output_type": "execute_result"
    }
   ],
   "source": [
    "len(stop_words_ja)"
   ]
  },
  {
   "cell_type": "code",
   "execution_count": 107,
   "metadata": {},
   "outputs": [],
   "source": [
    "y = df[[\"page\"]]\n",
    "X = df[\"text\"].apply(lambda x: mecab.parse(x).strip(\"\\n\"))\n",
    "df['parsed'] = X "
   ]
  },
  {
   "cell_type": "code",
   "execution_count": 108,
   "metadata": {},
   "outputs": [],
   "source": [
    "classes = df.page.unique()\n",
    "c_size = 100\n",
    "\n",
    "result = pd.DataFrame()\n",
    "\n",
    "for i in list(classes):\n",
    "    arr_index = df[df.page == i].parsed.values\n",
    "    data = ''.join(list(arr_index))\n",
    "    \n",
    "    all_data = clean_text(data)\n",
    "    \n",
    "    arr_words = np.array(all_data.split())\n",
    "    #print(arr_words) \n",
    "    \n",
    "    num = arr_words.shape[0]//c_size\n",
    "    full = c_size * num\n",
    "    rest = arr_words.shape[0] - full\n",
    "    \n",
    "    pad = np.zeros([c_size-rest], dtype=int)\n",
    "    sc = np.concatenate((arr_words,pad))\n",
    "    features = sc.reshape(num+1, c_size)\n",
    "    \n",
    "    df_v = pd.DataFrame(features)\n",
    "    df_v[\"cls\"] = i\n",
    "    \n",
    "    result = pd.concat([result, df_v]) \n",
    "\n",
    "    \n",
    "#print(result)\n",
    "#result.to_csv('processed.csv')"
   ]
  },
  {
   "cell_type": "code",
   "execution_count": 109,
   "metadata": {},
   "outputs": [],
   "source": [
    "Data_cols = result.iloc[:,:-1]\n",
    "tog = Data_cols.apply(lambda x: ' '.join(x), axis=1)\n",
    "#tog.to_csv(\"tog.csv\")\n",
    "sent = list(tog.values)"
   ]
  },
  {
   "cell_type": "code",
   "execution_count": null,
   "metadata": {},
   "outputs": [],
   "source": [
    "len(sent)\n",
    "stop_words_ja"
   ]
  },
  {
   "cell_type": "code",
   "execution_count": 164,
   "metadata": {},
   "outputs": [],
   "source": [
    "vectorizer = TfidfVectorizer(ngram_range=(1, 1), stop_words=stop_words_ja, max_df=0.95)\n",
    "vectors = vectorizer.fit_transform(sent)"
   ]
  },
  {
   "cell_type": "code",
   "execution_count": 165,
   "metadata": {},
   "outputs": [
    {
     "data": {
      "text/plain": [
       "TfidfVectorizer(analyzer='word', binary=False, decode_error='strict',\n",
       "                dtype=<class 'numpy.float64'>, encoding='utf-8',\n",
       "                input='content', lowercase=True, max_df=0.95, max_features=None,\n",
       "                min_df=1, ngram_range=(1, 1), norm='l2', preprocessor=None,\n",
       "                smooth_idf=True,\n",
       "                stop_words=['あそこ', 'あたり', 'あちら', 'あっち', 'あと', 'あな', 'あなた', 'あれ',\n",
       "                            'いくつ', 'いつ', 'いま', 'いや', 'いろいろ', 'うち', 'おおまか',\n",
       "                            'おまえ', 'おれ', 'がい', 'かく', 'かたち', 'かやの', 'から', 'がら',\n",
       "                            'きた', 'くせ', 'ここ', 'こっち', 'こと', 'ごと', 'こちら', ...],\n",
       "                strip_accents=None, sublinear_tf=False,\n",
       "                token_pattern='(?u)\\\\b\\\\w\\\\w+\\\\b', tokenizer=None, use_idf=True,\n",
       "                vocabulary=None)"
      ]
     },
     "execution_count": 165,
     "metadata": {},
     "output_type": "execute_result"
    }
   ],
   "source": [
    "vectorizer"
   ]
  },
  {
   "cell_type": "code",
   "execution_count": 166,
   "metadata": {},
   "outputs": [],
   "source": [
    "# idf score \n",
    "#idf = vectorizer.idf_\n",
    "# visulalize idf score\n",
    "#print(dict(zip(vectorizer.get_feature_names(), idf)))\n",
    "\n",
    "weights = np.asarray(vectors.mean(axis=0)).ravel().tolist()\n",
    "weights_df = pd.DataFrame({'term': vectorizer.get_feature_names(), 'weight': weights})"
   ]
  },
  {
   "cell_type": "code",
   "execution_count": 167,
   "metadata": {},
   "outputs": [],
   "source": [
    "TermsWeight = weights_df.sort_values(by='weight', ascending=False).head(50)"
   ]
  },
  {
   "cell_type": "code",
   "execution_count": 168,
   "metadata": {},
   "outputs": [
    {
     "data": {
      "text/plain": [
       "4899         登録\n",
       "2403        サーバ\n",
       "2316       グループ\n",
       "2971     プロファイル\n",
       "2824       ファイル\n",
       "5313         認証\n",
       "3449         作成\n",
       "2775      パスワード\n",
       "4828         現れ\n",
       "1617    windows\n",
       "2204     エージェント\n",
       "3067       メニュー\n",
       "2587     ダウンロード\n",
       "1951         ませ\n",
       "4317         押し\n",
       "4249         情報\n",
       "1589        vpn\n",
       "4437         文字\n",
       "2016      アカウント\n",
       "2051       アドレス\n",
       "4319         押す\n",
       "2003         れる\n",
       "3804         可能\n",
       "1871        として\n",
       "3831         同期\n",
       "3670       割り当て\n",
       "2573        タップ\n",
       "1860        できる\n",
       "1689         ある\n",
       "4405         操作\n",
       "4226         必要\n",
       "2852       フォルダ\n",
       "3661         削除\n",
       "3810         右端\n",
       "429          ds\n",
       "84        apple\n",
       "4641         機能\n",
       "4911         監視\n",
       "1549        url\n",
       "595      google\n",
       "3651         利用\n",
       "5317         説明\n",
       "2452      スクリプト\n",
       "3081        メール\n",
       "3967         変更\n",
       "5435         追加\n",
       "864      manual\n",
       "4184         当該\n",
       "3245         一覧\n",
       "4056         実行\n",
       "Name: term, dtype: object"
      ]
     },
     "execution_count": 168,
     "metadata": {},
     "output_type": "execute_result"
    }
   ],
   "source": [
    "TermsWeight.term"
   ]
  },
  {
   "cell_type": "code",
   "execution_count": 170,
   "metadata": {
    "scrolled": true
   },
   "outputs": [
    {
     "name": "stdout",
     "output_type": "stream",
     "text": [
      "Please enter a question: \n",
      "AndroidEnterise\n",
      "PageID:  135 idx 2639 = 端末 画像 を 印刷 端末 画像 の 変化 を ビデオ 録画 ビデオ 録画 の 中止 ビデオ 録画 の 終了 管理 者 権限 モード に 変える Windows Embedded 端末 で は 次 の 詳細 設定 で 端末 の 機能 に 制限 を 加え ます が これ は 管理 者 権限 モード で は 制限 から 開放 さ れ ます ブラックリストアプリ の 起動 停止 カメラ など 入出力 に関する 機能 の 停止 ランチャー の 強制 起動 電話 の 発 着信 制限 随意 の 電話 番号 に 電話 かけ させ ない 受呼 さ せ ない 管理 者 モード に 変える 方法 は 次 の\n",
      "\n",
      " ########## \n",
      "\n",
      "PageID:  135 idx 2638 = 稼働 中 の プロセス の 一覧 が 表示 さ れ ます 端末 リソース 右 下 の ペイン に は 端末 の リソース が 表示 さ れ ます 図 コマンド として ? を 入力 し コマンド の 種類 全て を 表示 し た 画面 ツール バー 図 の 左上 に ツール バー が 表示 さ れ て い ます 端末 画像 の 縮小 端末 画像 の 拡大 端末 画像 の 回転 端末 画像 の 色 品質 通信 回線 が 遅い 時 は 低 品質 へ 端末 画像 を キャプチャ 画像 を コンソール コンピュータ に 保存 端末 画像 を クリップ ボード へ\n",
      "\n",
      " ########## \n",
      "\n",
      "PageID:  135 idx 2637 = の 端末 画像 の 右 の 「 シェル 」 タブ 赤 矢印 を 選択 する と 端末 画像 の 部分 が 図 の よう に コマンド 入力 画面 に 変わり ます Windows Embedded の コマンド や MobiControl スクリプト を 使っ て コマンド を 入力 し 端末 を 操作 し ます MobiControl スクリプト は 「 」 を 参照 ください アプリケーションマネージャーツール 右 上 の ペイン の 「 アプリケーションマネージャーツール 」 ボタン を 押す と 端末 に 搭載 し て いる アプリケーション 名 が 表示 さ れ ます プロセスマネージャーツール 右 上 の ペイン の 「 プロセスマネージャーツール 」 ボタン を 押す と 端末 で 現在\n",
      "\n",
      " ########## \n",
      "\n",
      "PageID:  135 idx 2636 = 感覚 で 画面 操作 が でき ます スキン の 部分 下部 の 数字 盤 や 「 SCAN 」 の ボタン など の ハードウェア ボタン も 操作 でき ます リモート 閲覧 端末 ユーザ が 操作 する と それ に 伴い 画面 が 変化 し ます ファイル の 送受 左側 の エクスプロラツール を 使う と コンソール コンピュータ と 端末 と の 間 で エクスプロラ 感覚 で ファイル の 送受 が でき ます 端末 が コンソール コンピュータ の 外 付け 端末 として 認識 さ れ て い ます ファイル の コピー 削除 移動 も 可能 です コマンド で 端末 操作 図 の 中央\n",
      "\n",
      " ########## \n",
      "\n",
      "PageID:  135 idx 2635 = を する たび に 「 プラグインベース 」 か 「 ウェブベース 」 の どちら で 実行 する か の プロンプト 図 が ポップアップ し ます 「 ウェブベース 」 の 場合 TCP 経由 で 交信 し ます 「 ブラウザ プラグ イン 」 の 場合 は TCP 経由 で 交信 し ます 端末 の スキン 外 枠 画像 を SOTI の サイト から ダウンロード し て おく 必要 が あり ます 詳しく は を 参照 ください リモート 操作 の 画面 図 リモート 操作 画面 リモート 操作 中央 の 端末 画像 を マウス で クリック する と 現物 を タップ する の と 同じ\n",
      "\n",
      " ########## \n",
      "\n",
      "PageID:  135 idx 2634 = すれ ば 自動的 に 端末 操作 を し て くれる ウェブベース で 端末 画面 を 開け ない 場合 は 当社 に ご 相談 ください 最初 に ブラウザ プラグ イン で の リモート 操作 を 実行 しよ う と する と 図 の よう な ポップアップ が 現れ ます 「 ダウンロード 」 ボタン を 押し て これ を ダウンロード し ます 図 この ブラウザプラグイン の ファイル 名 は S otiRemoteControlInstaller msi です これ を コンソール PC に インストール し 且つ ブラウザ を 再 起動 し ます 図 の 「 毎回 たずねる 」 を ON に し て おく と リモート 操作\n",
      "\n",
      " ########## \n",
      "\n",
      "PageID:  135 idx 2633 = 図 この 操作 は 端末 が MobiControl サーバ に 接続 し て いる とき に 実施 でき ます オフライン の 時 は 図 の 端末 の アイコ ン と 「 リモート 操作 」 の アイコ ン が グレイ アウト し て い ます 図 で 「 リモート 操作 」 を 選択 する と 図 が ポップアップ し ます 図 コンソール 側 の アプリ 特長 ウェブベース ブラウザ ブラウザ プラグ イン の インストール が 不要 ダウンロード 可能 な プラグ イン プラグインアプリ リモート 操作 が 始まっ て から の 操作 ポイント を マクロ として 保存 可能 次回 から は その マクロ を 実行\n",
      "\n",
      " ########## \n",
      "\n",
      "PageID:  135 idx 2632 = さ れ ます MobiControl の コンソール 管理 者 は 端末 の フォルダ に コピー & ペースト の 感覚 で ファイル を 送っ たり 削除 でき ます この 機能 を 使う と Windows Embedded 端末 の アプリ の 不具合 を より 早く 調査 および 解決 が でき ます 社内 アプリ の 使い方 について 端末 ユーザ から 問い合わせ が あっ た とき に 代行 操作 を し て 使い方 の 教育 が でき ます リモート 操作 の 方式 コンソール で 該当 の 端末 の 名前 を クリック する と 右 上 に 図 の よう な アクション アイコ ン が 現われ ます\n",
      "\n",
      " ########## \n",
      "\n",
      "PageID:  134 idx 2630 = 変更 を 受け付け ない よう に する また 「 ルール 」 が 規定 する データ や ファイル の 送受 も 端末 に 拒否 さ せる 項 で 再開 できる 0 0 0 0 0 0 0 0 0 0 0 0 0 0 0 0 0 0 0 0 0 0 0 0 0 0 0 0 0 0 0 0 0 0 0 0 0 0 0 0 0 0 0 0 0 0 0 0 0 0 0 0 0 0 0 0 0 0 0 0 0 0 0 0 0 0 0 0 0 0 0\n",
      "\n",
      " ########## \n",
      "\n",
      "PageID:  444 idx 7922 = バージョンアップ VPP アカウント の 設定 セキュリティ 対策 など 設定 分野 に は 「 構成 プロファイル 」 「 詳細 設定 」 「 ルール 」 が あり ます 端末 に 働きかける 「 端末 画面 に メッセージ 表示 」 「 リモート ロック 」 「 紛失 モード に する 」 「 リモート Wipe 初期 化 」 など 端末 に 働きかける こと が でき ます 端末 状況 を 視る 「 端末 位置 の 地図 表示 」 「 アプリ の 活用 状況 」 など を 監視 でき ます 0 0 0 0 0 0 0 0 0 0 0 0 0 0 0 0 0 0\n",
      "\n",
      " ########## \n",
      "\n"
     ]
    }
   ],
   "source": [
    "# Read a question from the user\n",
    "question = [input('Please enter a question: \\n')]\n",
    "question = vectorizer.transform(question)\n",
    "\n",
    "# Rank all the questions using cosine similarity to the input question\n",
    "rank = cosine_similarity(question, vectorizer.transform(sent))\n",
    "\n",
    "# Grab the top 5\n",
    "top = np.argsort(rank, axis=-1).T[-10:]\n",
    "#print(top)\n",
    "\n",
    "for item in range(len(top)):\n",
    "    idx = top[item,0]\n",
    "    \n",
    "    # if the dataset file structure \"Quesition | Answer\" then use following line  \n",
    "    #print(data['Answer'].iloc[item].values[0])\n",
    "    print(\"PageID: \",result.iloc[idx,-1],\"idx\",idx,\"=\",tog.values[idx])\n",
    "    print(\"\\n ########## \\n\")"
   ]
  }
 ],
 "metadata": {
  "kernelspec": {
   "display_name": "Python 3 (ipykernel)",
   "language": "python",
   "name": "python3"
  },
  "language_info": {
   "codemirror_mode": {
    "name": "ipython",
    "version": 3
   },
   "file_extension": ".py",
   "mimetype": "text/x-python",
   "name": "python",
   "nbconvert_exporter": "python",
   "pygments_lexer": "ipython3",
   "version": "3.7.15"
  }
 },
 "nbformat": 4,
 "nbformat_minor": 2
}
