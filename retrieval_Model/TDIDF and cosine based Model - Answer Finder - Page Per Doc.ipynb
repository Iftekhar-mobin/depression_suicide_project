{
 "cells": [
  {
   "cell_type": "code",
   "execution_count": 1,
   "metadata": {},
   "outputs": [],
   "source": [
    "import pandas as pd\n",
    "from pathlib import Path\n",
    "from sklearn.model_selection import train_test_split\n",
    "from sklearn.feature_extraction.text import TfidfVectorizer \n",
    "import random\n",
    "import io\n",
    "import string\n",
    "from sklearn.metrics.pairwise import cosine_similarity\n",
    "import MeCab \n",
    "import numpy as np"
   ]
  },
  {
   "cell_type": "code",
   "execution_count": 2,
   "metadata": {},
   "outputs": [],
   "source": [
    "#p = Path(\"/home/ifte/amiebot_project/amie-HelpBot/mobicontrol_data/corpus_mobicontrol.csv\")\n",
    "df = pd.read_csv(\"/home/ifte/amiebot_project/Large_files/mobicontrol_data/Train_Test_Data/japanese/corpus_ver14.csv\", \n",
    "                 header=0, usecols=[\"page\", \"text\"])"
   ]
  },
  {
   "cell_type": "code",
   "execution_count": 122,
   "metadata": {},
   "outputs": [
    {
     "data": {
      "text/html": [
       "<div>\n",
       "<style scoped>\n",
       "    .dataframe tbody tr th:only-of-type {\n",
       "        vertical-align: middle;\n",
       "    }\n",
       "\n",
       "    .dataframe tbody tr th {\n",
       "        vertical-align: top;\n",
       "    }\n",
       "\n",
       "    .dataframe thead th {\n",
       "        text-align: right;\n",
       "    }\n",
       "</style>\n",
       "<table border=\"1\" class=\"dataframe\">\n",
       "  <thead>\n",
       "    <tr style=\"text-align: right;\">\n",
       "      <th></th>\n",
       "      <th>page</th>\n",
       "      <th>text</th>\n",
       "      <th>parsed</th>\n",
       "    </tr>\n",
       "  </thead>\n",
       "  <tbody>\n",
       "    <tr>\n",
       "      <td>408</td>\n",
       "      <td>1</td>\n",
       "      <td>iMessageの利用禁止</td>\n",
       "      <td>利用 禁止</td>\n",
       "    </tr>\n",
       "    <tr>\n",
       "      <td>46532</td>\n",
       "      <td>271</td>\n",
       "      <td>iMessageの利用禁止</td>\n",
       "      <td>利用 禁止</td>\n",
       "    </tr>\n",
       "    <tr>\n",
       "      <td>46731</td>\n",
       "      <td>271</td>\n",
       "      <td>iMessageの利用禁止</td>\n",
       "      <td>利用 禁止</td>\n",
       "    </tr>\n",
       "    <tr>\n",
       "      <td>68698</td>\n",
       "      <td>430</td>\n",
       "      <td>iMessageの利用禁止</td>\n",
       "      <td>利用 禁止</td>\n",
       "    </tr>\n",
       "  </tbody>\n",
       "</table>\n",
       "</div>"
      ],
      "text/plain": [
       "       page           text parsed\n",
       "408       1  iMessageの利用禁止  利用 禁止\n",
       "46532   271  iMessageの利用禁止  利用 禁止\n",
       "46731   271  iMessageの利用禁止  利用 禁止\n",
       "68698   430  iMessageの利用禁止  利用 禁止"
      ]
     },
     "execution_count": 122,
     "metadata": {},
     "output_type": "execute_result"
    }
   ],
   "source": [
    "df[df['text'].str.contains('iMessage')]"
   ]
  },
  {
   "cell_type": "code",
   "execution_count": 4,
   "metadata": {},
   "outputs": [],
   "source": [
    "stop_words_ja = []\n",
    "STOPWORD_FILE = Path(\"/home/ifte/amiebot_project/amie-HelpBot/amie_helpbot/\" + '/assets/learning/stop_word.txt')\n",
    "with open(STOPWORD_FILE, encoding='utf-8') as fr:\n",
    "    stop_words_ja = fr.read().splitlines()"
   ]
  },
  {
   "cell_type": "code",
   "execution_count": 5,
   "metadata": {},
   "outputs": [],
   "source": [
    "import re\n",
    "\n",
    "def clean_text(text):\n",
    "    replaced_text = re.sub(r'[【】]', ' ', text)       # 【】の除去\n",
    "    replaced_text = re.sub(r'[・_]', '', replaced_text)       # ・ の除去\n",
    "    replaced_text = re.sub(r'[（）()]', ' ', replaced_text)     # （）の除去\n",
    "    replaced_text = re.sub(r'[［］\\[\\]]', ' ', replaced_text)   # ［］の除去\n",
    "    replaced_text = re.sub(r'[@＠]\\w+', '', replaced_text)  # メンションの除去\n",
    "    replaced_text = re.sub(r'https?:\\/\\/.*?[\\r\\n ]', '', replaced_text)  # URLの除去\n",
    "    replaced_text = re.sub(r'　', ' ', replaced_text)  # 全角空白の除去\n",
    "    replaced_text = re.sub(r'\\d+', '', replaced_text) # 数字の除去\n",
    "    replaced_text = re.sub(r'[-/。,、.=]', ' ', replaced_text)\n",
    "    \n",
    "    return replaced_text"
   ]
  },
  {
   "cell_type": "code",
   "execution_count": 6,
   "metadata": {},
   "outputs": [],
   "source": [
    "# Developed Tagger Parser\n",
    "\tdef cleaning(text, stop_words):\n",
    "\t\t# 形態素解析\n",
    "\t\ttagger = MeCab.Tagger('-d /usr/lib/x86_64-linux-gnu/mecab/dic/mecab-ipadic-neologd')\n",
    "\t\ttagger.parse(\"\")\n",
    "\t\tres = tagger.parseToNode(text.lower())\n",
    "\t\tstr_out = ''\n",
    "\t\t\n",
    "\t\twhile res:\n",
    "\t\t\tarr = res.feature.split(\",\")\n",
    "\t\t\n",
    "\t\t\t# 辞書に登録されている名詞のみ\n",
    "\t\t\tif not arr == None and len(arr) > 7 and arr[0] == '名詞':\n",
    "\t\t\t\tword = arr[6].lower()\n",
    "\t\t\t\t\n",
    "\t\t\t\t# 数値、ストップワード、アルファベット1文字は除外\n",
    "\t\t\t\tif not arr[1] == '数' and not word in stop_words and \\\n",
    "\t\t\t\t\tnot (len(word) == 1 and re.search(r\"[a-xA-Z0-9]\", word) is not None):\n",
    "\t\t\t\t\tstr_out += word + ' '\n",
    "\t\t\tres = res.next\n",
    "\t\t\n",
    "\t\treturn str_out\n"
   ]
  },
  {
   "cell_type": "code",
   "execution_count": 7,
   "metadata": {},
   "outputs": [],
   "source": [
    "y = df[[\"page\"]]\n",
    "X = df[\"text\"].apply(lambda x: cleaning(x,stop_words_ja).strip(\"\\n\").rstrip())\n",
    "df['parsed'] = X \n",
    "\n",
    "classes = df.page.unique()"
   ]
  },
  {
   "cell_type": "code",
   "execution_count": 8,
   "metadata": {},
   "outputs": [],
   "source": [
    "            if set(['page', 'text']).issubset(df.columns):\n",
    "                pages = df.page.unique()\n",
    "                temp_dict = {}\n",
    "                for i in list(pages):\n",
    "                    page_content = df[df.page == i].text.values\n",
    "                    data = ''.join(list(page_content))\n",
    "                    temp_dict[i] = [data]\n",
    "                processed_df = pd.DataFrame.from_dict(temp_dict, orient='index', columns=['Data'])\n",
    "                processed_df['PageID'] = processed_df.index"
   ]
  },
  {
   "cell_type": "code",
   "execution_count": 10,
   "metadata": {},
   "outputs": [
    {
     "data": {
      "text/html": [
       "<div>\n",
       "<style scoped>\n",
       "    .dataframe tbody tr th:only-of-type {\n",
       "        vertical-align: middle;\n",
       "    }\n",
       "\n",
       "    .dataframe tbody tr th {\n",
       "        vertical-align: top;\n",
       "    }\n",
       "\n",
       "    .dataframe thead th {\n",
       "        text-align: right;\n",
       "    }\n",
       "</style>\n",
       "<table border=\"1\" class=\"dataframe\">\n",
       "  <thead>\n",
       "    <tr style=\"text-align: right;\">\n",
       "      <th></th>\n",
       "      <th>Data</th>\n",
       "      <th>PageID</th>\n",
       "    </tr>\n",
       "  </thead>\n",
       "  <tbody>\n",
       "    <tr>\n",
       "      <th>0</th>\n",
       "      <td>カスタマイザーからこのタイトルを設定できます。カスタマイザーからこのサブタイトルを設定できま...</td>\n",
       "      <td>0</td>\n",
       "    </tr>\n",
       "    <tr>\n",
       "      <th>1</th>\n",
       "      <td>Apple製品MobiControl v14 ManualApple製品をMobiContr...</td>\n",
       "      <td>1</td>\n",
       "    </tr>\n",
       "    <tr>\n",
       "      <th>2</th>\n",
       "      <td>Android端末MobiControl v14 ManualAndroidの設定モードA....</td>\n",
       "      <td>2</td>\n",
       "    </tr>\n",
       "    <tr>\n",
       "      <th>3</th>\n",
       "      <td>Windows PCMobiControl v14 ManualWindows PCの根本的...</td>\n",
       "      <td>3</td>\n",
       "    </tr>\n",
       "    <tr>\n",
       "      <th>4</th>\n",
       "      <td>Windows EmbeddedMobiControl v14 ManualWindows ...</td>\n",
       "      <td>4</td>\n",
       "    </tr>\n",
       "  </tbody>\n",
       "</table>\n",
       "</div>"
      ],
      "text/plain": [
       "                                                Data  PageID\n",
       "0  カスタマイザーからこのタイトルを設定できます。カスタマイザーからこのサブタイトルを設定できま...       0\n",
       "1  Apple製品MobiControl v14 ManualApple製品をMobiContr...       1\n",
       "2  Android端末MobiControl v14 ManualAndroidの設定モードA....       2\n",
       "3  Windows PCMobiControl v14 ManualWindows PCの根本的...       3\n",
       "4  Windows EmbeddedMobiControl v14 ManualWindows ...       4"
      ]
     },
     "execution_count": 10,
     "metadata": {},
     "output_type": "execute_result"
    }
   ],
   "source": [
    "processed_df.head()"
   ]
  },
  {
   "cell_type": "code",
   "execution_count": 11,
   "metadata": {},
   "outputs": [],
   "source": [
    "processed_df.to_csv(\"processed.csv\", index=False)"
   ]
  },
  {
   "cell_type": "code",
   "execution_count": 9,
   "metadata": {},
   "outputs": [],
   "source": [
    "                    for index, row in processed_df.iterrows():\n",
    "                        #print(row['Data'])\n",
    "                        test=row['Data']\n",
    "                        break"
   ]
  },
  {
   "cell_type": "code",
   "execution_count": 10,
   "metadata": {},
   "outputs": [
    {
     "data": {
      "text/plain": [
       "str"
      ]
     },
     "execution_count": 10,
     "metadata": {},
     "output_type": "execute_result"
    }
   ],
   "source": [
    "type(test)"
   ]
  },
  {
   "cell_type": "code",
   "execution_count": 93,
   "metadata": {},
   "outputs": [],
   "source": [
    "Dict = {}\n",
    "\n",
    "for i in list(classes):\n",
    "    page_content = df[df.page == i].parsed.values\n",
    "    data = ''.join(list(page_content))\n",
    "    Dict[i] = [data]\n",
    "    \n",
    "d = pd.DataFrame.from_dict(Dict,orient='index', columns=['Data'])\n",
    "d['PageID'] = d.index\n",
    "sent = list(d.Data.values)"
   ]
  },
  {
   "cell_type": "code",
   "execution_count": 114,
   "metadata": {},
   "outputs": [
    {
     "data": {
      "text/html": [
       "<div>\n",
       "<style scoped>\n",
       "    .dataframe tbody tr th:only-of-type {\n",
       "        vertical-align: middle;\n",
       "    }\n",
       "\n",
       "    .dataframe tbody tr th {\n",
       "        vertical-align: top;\n",
       "    }\n",
       "\n",
       "    .dataframe thead th {\n",
       "        text-align: right;\n",
       "    }\n",
       "</style>\n",
       "<table border=\"1\" class=\"dataframe\">\n",
       "  <thead>\n",
       "    <tr style=\"text-align: right;\">\n",
       "      <th></th>\n",
       "      <th>Data</th>\n",
       "      <th>PageID</th>\n",
       "    </tr>\n",
       "  </thead>\n",
       "  <tbody>\n",
       "    <tr>\n",
       "      <td>0</td>\n",
       "      <td>タイトル 設定サブタイトル 設定設定 順序設定 順序設定 順序全て 端末 os 対象オンプレ...</td>\n",
       "      <td>0</td>\n",
       "    </tr>\n",
       "    <tr>\n",
       "      <td>1</td>\n",
       "      <td>apple 製品manualapple製品管理ios 端末 業務 アプリ 管理業務 アプリ ...</td>\n",
       "      <td>1</td>\n",
       "    </tr>\n",
       "    <tr>\n",
       "      <td>2</td>\n",
       "      <td>android 端末manualandroid設定 モードa. android 端末a-1 ...</td>\n",
       "      <td>2</td>\n",
       "    </tr>\n",
       "    <tr>\n",
       "      <td>3</td>\n",
       "      <td>pcmanualpc根本的 セキュリティ対策 リモート 設定貴社 pc 正常 構成 証明図m...</td>\n",
       "      <td>3</td>\n",
       "    </tr>\n",
       "    <tr>\n",
       "      <td>4</td>\n",
       "      <td>windows embeddedmanualwindows embedded端末window...</td>\n",
       "      <td>4</td>\n",
       "    </tr>\n",
       "  </tbody>\n",
       "</table>\n",
       "</div>"
      ],
      "text/plain": [
       "                                                Data  PageID\n",
       "0  タイトル 設定サブタイトル 設定設定 順序設定 順序設定 順序全て 端末 os 対象オンプレ...       0\n",
       "1  apple 製品manualapple製品管理ios 端末 業務 アプリ 管理業務 アプリ ...       1\n",
       "2  android 端末manualandroid設定 モードa. android 端末a-1 ...       2\n",
       "3  pcmanualpc根本的 セキュリティ対策 リモート 設定貴社 pc 正常 構成 証明図m...       3\n",
       "4  windows embeddedmanualwindows embedded端末window...       4"
      ]
     },
     "execution_count": 114,
     "metadata": {},
     "output_type": "execute_result"
    }
   ],
   "source": [
    "d.head()"
   ]
  },
  {
   "cell_type": "code",
   "execution_count": 120,
   "metadata": {},
   "outputs": [
    {
     "data": {
      "text/html": [
       "<div>\n",
       "<style scoped>\n",
       "    .dataframe tbody tr th:only-of-type {\n",
       "        vertical-align: middle;\n",
       "    }\n",
       "\n",
       "    .dataframe tbody tr th {\n",
       "        vertical-align: top;\n",
       "    }\n",
       "\n",
       "    .dataframe thead th {\n",
       "        text-align: right;\n",
       "    }\n",
       "</style>\n",
       "<table border=\"1\" class=\"dataframe\">\n",
       "  <thead>\n",
       "    <tr style=\"text-align: right;\">\n",
       "      <th></th>\n",
       "      <th>Data</th>\n",
       "      <th>PageID</th>\n",
       "    </tr>\n",
       "  </thead>\n",
       "  <tbody>\n",
       "    <tr>\n",
       "      <td>0</td>\n",
       "      <td>タイトル 設定サブタイトル 設定設定 順序設定 順序設定 順序全て 端末 os 対象オンプレ...</td>\n",
       "      <td>0</td>\n",
       "    </tr>\n",
       "    <tr>\n",
       "      <td>1</td>\n",
       "      <td>apple 製品manualapple製品管理ios 端末 業務 アプリ 管理業務 アプリ ...</td>\n",
       "      <td>1</td>\n",
       "    </tr>\n",
       "    <tr>\n",
       "      <td>6</td>\n",
       "      <td>利点manual利点20年 歴史製品 機能 ヶ国 お客様 要望 凝縮業務 アプリ サイレント...</td>\n",
       "      <td>6</td>\n",
       "    </tr>\n",
       "    <tr>\n",
       "      <td>7</td>\n",
       "      <td>バージョン 機能manualバージョン 機能追加 機能 列挙 バージョンアップ 参考ご存知 ...</td>\n",
       "      <td>7</td>\n",
       "    </tr>\n",
       "    <tr>\n",
       "      <td>8</td>\n",
       "      <td>評価 版 設定manual評価 版 設定評価 機会順序 設定管理 コンソール ログインand...</td>\n",
       "      <td>8</td>\n",
       "    </tr>\n",
       "    <tr>\n",
       "      <td>...</td>\n",
       "      <td>...</td>\n",
       "      <td>...</td>\n",
       "    </tr>\n",
       "    <tr>\n",
       "      <td>429</td>\n",
       "      <td>担当者 アカウント 取得manualapple担当者 アカウント 取得apple 担当者 ア...</td>\n",
       "      <td>429</td>\n",
       "    </tr>\n",
       "    <tr>\n",
       "      <td>430</td>\n",
       "      <td>apple 製品manualapple製品管理ios 端末 業務 アプリ 管理業務 アプリ ...</td>\n",
       "      <td>430</td>\n",
       "    </tr>\n",
       "    <tr>\n",
       "      <td>431</td>\n",
       "      <td>トークン 入手manualトークン 入手a. appleapple app store 有料...</td>\n",
       "      <td>431</td>\n",
       "    </tr>\n",
       "    <tr>\n",
       "      <td>437</td>\n",
       "      <td>プロファイル ルール 詳細 設定manual構成 プロファイル ルール 詳細 設定端末 定常...</td>\n",
       "      <td>437</td>\n",
       "    </tr>\n",
       "    <tr>\n",
       "      <td>440</td>\n",
       "      <td>sdk for iosmanualsdk for iossdk for ios管理 端末 ア...</td>\n",
       "      <td>440</td>\n",
       "    </tr>\n",
       "  </tbody>\n",
       "</table>\n",
       "<p>92 rows × 2 columns</p>\n",
       "</div>"
      ],
      "text/plain": [
       "                                                  Data  PageID\n",
       "0    タイトル 設定サブタイトル 設定設定 順序設定 順序設定 順序全て 端末 os 対象オンプレ...       0\n",
       "1    apple 製品manualapple製品管理ios 端末 業務 アプリ 管理業務 アプリ ...       1\n",
       "6    利点manual利点20年 歴史製品 機能 ヶ国 お客様 要望 凝縮業務 アプリ サイレント...       6\n",
       "7    バージョン 機能manualバージョン 機能追加 機能 列挙 バージョンアップ 参考ご存知 ...       7\n",
       "8    評価 版 設定manual評価 版 設定評価 機会順序 設定管理 コンソール ログインand...       8\n",
       "..                                                 ...     ...\n",
       "429  担当者 アカウント 取得manualapple担当者 アカウント 取得apple 担当者 ア...     429\n",
       "430  apple 製品manualapple製品管理ios 端末 業務 アプリ 管理業務 アプリ ...     430\n",
       "431  トークン 入手manualトークン 入手a. appleapple app store 有料...     431\n",
       "437  プロファイル ルール 詳細 設定manual構成 プロファイル ルール 詳細 設定端末 定常...     437\n",
       "440  sdk for iosmanualsdk for iossdk for ios管理 端末 ア...     440\n",
       "\n",
       "[92 rows x 2 columns]"
      ]
     },
     "execution_count": 120,
     "metadata": {},
     "output_type": "execute_result"
    }
   ],
   "source": [
    "d[d['Data'].str.contains('apple')]"
   ]
  },
  {
   "cell_type": "code",
   "execution_count": 98,
   "metadata": {},
   "outputs": [],
   "source": [
    "vectorizer = TfidfVectorizer(ngram_range=(1, 1), stop_words=stop_words_ja, max_df=0.98)\n",
    "vectors = vectorizer.fit_transform(sent)"
   ]
  },
  {
   "cell_type": "code",
   "execution_count": 99,
   "metadata": {},
   "outputs": [
    {
     "data": {
      "text/plain": [
       "TfidfVectorizer(analyzer='word', binary=False, decode_error='strict',\n",
       "                dtype=<class 'numpy.float64'>, encoding='utf-8',\n",
       "                input='content', lowercase=True, max_df=0.98, max_features=None,\n",
       "                min_df=1, ngram_range=(1, 1), norm='l2', preprocessor=None,\n",
       "                smooth_idf=True,\n",
       "                stop_words=['あそこ', 'あたり', 'あちら', 'あっち', 'あと', 'あな', 'あなた', 'あれ',\n",
       "                            'いくつ', 'いつ', 'いま', 'いや', 'いろいろ', 'うち', 'おおまか',\n",
       "                            'おまえ', 'おれ', 'がい', 'かく', 'かたち', 'かやの', 'から', 'がら',\n",
       "                            'きた', 'くせ', 'ここ', 'こっち', 'こと', 'ごと', 'こちら', ...],\n",
       "                strip_accents=None, sublinear_tf=False,\n",
       "                token_pattern='(?u)\\\\b\\\\w\\\\w+\\\\b', tokenizer=None, use_idf=True,\n",
       "                vocabulary=None)"
      ]
     },
     "execution_count": 99,
     "metadata": {},
     "output_type": "execute_result"
    }
   ],
   "source": [
    "vectorizer"
   ]
  },
  {
   "cell_type": "code",
   "execution_count": 100,
   "metadata": {},
   "outputs": [
    {
     "data": {
      "text/plain": [
       "<445x18183 sparse matrix of type '<class 'numpy.float64'>'\n",
       "\twith 74376 stored elements in Compressed Sparse Row format>"
      ]
     },
     "execution_count": 100,
     "metadata": {},
     "output_type": "execute_result"
    }
   ],
   "source": [
    "vectors"
   ]
  },
  {
   "cell_type": "code",
   "execution_count": 78,
   "metadata": {},
   "outputs": [],
   "source": [
    "# idf score \n",
    "#idf = vectorizer.idf_\n",
    "# visulalize idf score\n",
    "#print(dict(zip(vectorizer.get_feature_names(), idf)))\n",
    "\n",
    "weights = np.asarray(vectors.mean(axis=0)).ravel().tolist()\n",
    "weights_df = pd.DataFrame({'term': vectorizer.get_feature_names(), 'weight': weights})"
   ]
  },
  {
   "cell_type": "code",
   "execution_count": 79,
   "metadata": {},
   "outputs": [],
   "source": [
    "TermsWeight = weights_df.sort_values(by='weight', ascending=False).head(50)"
   ]
  },
  {
   "cell_type": "code",
   "execution_count": null,
   "metadata": {},
   "outputs": [],
   "source": [
    "TermsWeight.term"
   ]
  },
  {
   "cell_type": "code",
   "execution_count": 123,
   "metadata": {},
   "outputs": [
    {
     "data": {
      "text/plain": [
       "'利用 禁止 '"
      ]
     },
     "execution_count": 123,
     "metadata": {},
     "output_type": "execute_result"
    }
   ],
   "source": [
    "cleaning('iMessageの利用禁止', stop_words_ja)"
   ]
  },
  {
   "cell_type": "code",
   "execution_count": 131,
   "metadata": {},
   "outputs": [
    {
     "data": {
      "text/plain": [
       "'iMessage\\t名詞,固有名詞,組織,*,*,*,*\\nの\\t助詞,連体化,*,*,*,*,の,ノ,ノ\\n利用\\t名詞,サ変接続,*,*,*,*,利用,リヨウ,リヨー\\n禁止\\t名詞,サ変接続,*,*,*,*,禁止,キンシ,キンシ\\nEOS\\n'"
      ]
     },
     "execution_count": 131,
     "metadata": {},
     "output_type": "execute_result"
    }
   ],
   "source": [
    "MeCab.Tagger().parse('iMessageの利用禁止')"
   ]
  },
  {
   "cell_type": "code",
   "execution_count": 103,
   "metadata": {},
   "outputs": [
    {
     "name": "stdout",
     "output_type": "stream",
     "text": [
      "Please enter a question: \n",
      "iMessageの利用を禁止したい\n",
      "Question:  利用 禁止\n",
      "PageID:  364 idx 364\n",
      "##########\n",
      "PageID:  296 idx 296\n",
      "##########\n",
      "PageID:  330 idx 330\n",
      "##########\n"
     ]
    }
   ],
   "source": [
    "# Read a question from the user\n",
    "question = input('Please enter a question: \\n')\n",
    "\n",
    "parsed_question = cleaning(question, stop_words_ja)\n",
    "parsed_question = parsed_question.strip(\"\\n\").rstrip()\n",
    "\n",
    "print(\"Question: \", parsed_question)\n",
    "\n",
    "q = vectorizer.transform([parsed_question])\n",
    "\n",
    "# Rank all the questions using cosine similarity to the input question\n",
    "rank = cosine_similarity(q, vectorizer.transform(sent))\n",
    "\n",
    "# Grab the top 5\n",
    "top = np.argsort(rank, axis=-1).T[-3:]\n",
    "#print(top)\n",
    "\n",
    "for item in range(len(top)):\n",
    "    idx = top[item,0]\n",
    "    \n",
    "    # if the dataset file structure \"Quesition | Answer\" then use following line  \n",
    "    print(\"PageID: \",d.iloc[idx,-1],\"idx\",idx)\n",
    "    #print(\"PageID: \",d.iloc[idx,-1],\"idx\",idx,\"=\",d.Data.values[idx])\n",
    "    print(\"##########\")\n",
    "    #print(\"PageID:\",d.iloc[idx,-1],\"idx\",idx,\"=\",d.Data.values[idx][0:300])"
   ]
  },
  {
   "cell_type": "code",
   "execution_count": null,
   "metadata": {},
   "outputs": [],
   "source": [
    "rank"
   ]
  },
  {
   "cell_type": "code",
   "execution_count": 126,
   "metadata": {},
   "outputs": [
    {
     "data": {
      "text/plain": [
       "189"
      ]
     },
     "execution_count": 126,
     "metadata": {},
     "output_type": "execute_result"
    }
   ],
   "source": [
    " rank.argsort()[0][-2]"
   ]
  },
  {
   "cell_type": "code",
   "execution_count": 128,
   "metadata": {},
   "outputs": [
    {
     "data": {
      "text/plain": [
       "'ランチャー と タグ MobiControl v 14 Manual ランチャー の タグ ランチャー の 登録 の 「 ランチャー と タグ 」 ページ を ご覧 ください 。 詳しく は Copyright © 2010 - 2019 / Translated by Penetrate of Limits Co ., Ltd .( Tokyo ) 無題 ドキュメント © 2019 MobiControl v 14 Manual . WordPress と で 構築 '"
      ]
     },
     "execution_count": 128,
     "metadata": {},
     "output_type": "execute_result"
    }
   ],
   "source": [
    "sent[189]"
   ]
  },
  {
   "cell_type": "code",
   "execution_count": 127,
   "metadata": {},
   "outputs": [],
   "source": [
    "def parse(unicode_string):\n",
    "    tagger = MeCab.Tagger('-d /usr/lib/x86_64-linux-gnu/mecab/dic/mecab-ipadic-neologd')\n",
    "    node = tagger.parseToNode(unicode_string)\n",
    "\n",
    "    words = []\n",
    "    nouns = []\n",
    "    verbs = []\n",
    "\n",
    "    while node:\n",
    "        pos = node.feature.split(\",\")[0]\n",
    "        print(pos + ' ' + node.feature)\n",
    "        \n",
    "        word = node.feature.split(\",\")[-3]\n",
    "        if pos == \"名詞\":\n",
    "            nouns.append(word)\n",
    "        elif pos == \"??\":\n",
    "            verbs.append(word)\n",
    "        \n",
    "        words.append(word)\n",
    "        node = node.next\n",
    "    parsed_words_dict = {\n",
    "        \"all\": words[1:-1], # ??????????????????\n",
    "        \"nouns\": nouns,\n",
    "        \"verbs\": verbs,\n",
    "        }\n",
    "    return parsed_words_dict"
   ]
  },
  {
   "cell_type": "code",
   "execution_count": 128,
   "metadata": {},
   "outputs": [
    {
     "name": "stdout",
     "output_type": "stream",
     "text": [
      "BOS/EOS BOS/EOS,*,*,*,*,*,*,*,*\n",
      "名詞 名詞,固有名詞,組織,*,*,*,*\n",
      "助詞 助詞,連体化,*,*,*,*,の,ノ,ノ\n",
      "名詞 名詞,サ変接続,*,*,*,*,利用,リヨウ,リヨー\n",
      "名詞 名詞,サ変接続,*,*,*,*,禁止,キンシ,キンシ\n",
      "BOS/EOS BOS/EOS,*,*,*,*,*,*,*,*\n"
     ]
    },
    {
     "data": {
      "text/plain": [
       "{'all': ['*', 'の', '利用', '禁止'], 'nouns': ['*', '利用', '禁止'], 'verbs': []}"
      ]
     },
     "execution_count": 128,
     "metadata": {},
     "output_type": "execute_result"
    }
   ],
   "source": [
    "parse('iMessageの利用禁止')"
   ]
  },
  {
   "cell_type": "code",
   "execution_count": null,
   "metadata": {},
   "outputs": [],
   "source": []
  }
 ],
 "metadata": {
  "kernelspec": {
   "display_name": "Python 3 (ipykernel)",
   "language": "python",
   "name": "python3"
  },
  "language_info": {
   "codemirror_mode": {
    "name": "ipython",
    "version": 3
   },
   "file_extension": ".py",
   "mimetype": "text/x-python",
   "name": "python",
   "nbconvert_exporter": "python",
   "pygments_lexer": "ipython3",
   "version": "3.7.15"
  }
 },
 "nbformat": 4,
 "nbformat_minor": 2
}
