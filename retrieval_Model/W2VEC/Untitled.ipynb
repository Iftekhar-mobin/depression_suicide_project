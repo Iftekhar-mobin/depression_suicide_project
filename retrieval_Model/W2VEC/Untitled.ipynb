{
 "cells": [
  {
   "cell_type": "code",
   "execution_count": 3,
   "metadata": {},
   "outputs": [],
   "source": [
    "from pymagnitude import *\n",
    "vectors = Magnitude(\"/home/ifte/Downloads/glove-lemmatized.6B.100d.magnitude\")"
   ]
  },
  {
   "cell_type": "code",
   "execution_count": 4,
   "metadata": {},
   "outputs": [
    {
     "data": {
      "text/plain": [
       "[('better', 0.7354214),\n",
       " ('work', 0.72812927),\n",
       " ('done', 0.7070805),\n",
       " ('go', 0.7031288),\n",
       " ('now', 0.69797826),\n",
       " ('get', 0.6914082),\n",
       " ('for', 0.6900823),\n",
       " ('time', 0.6869992),\n",
       " ('because', 0.6859483),\n",
       " ('even', 0.68532586),\n",
       " ('staff', 0.68416554),\n",
       " ('nt', 0.6834888),\n",
       " ('looke', 0.6815485),\n",
       " ('sure', 0.6807475),\n",
       " ('take', 0.6801081),\n",
       " ('busines', 0.67789096),\n",
       " ('he', 0.67771065),\n",
       " ('start', 0.67615736),\n",
       " ('experience', 0.6757115),\n",
       " ('lot', 0.67291117)]"
      ]
     },
     "execution_count": 4,
     "metadata": {},
     "output_type": "execute_result"
    }
   ],
   "source": [
    "vectors.most_similar(\"job\", topn = 20) "
   ]
  }
 ],
 "metadata": {
  "kernelspec": {
   "display_name": "Python 3",
   "language": "python",
   "name": "python3"
  },
  "language_info": {
   "codemirror_mode": {
    "name": "ipython",
    "version": 3
   },
   "file_extension": ".py",
   "mimetype": "text/x-python",
   "name": "python",
   "nbconvert_exporter": "python",
   "pygments_lexer": "ipython3",
   "version": "3.6.9"
  }
 },
 "nbformat": 4,
 "nbformat_minor": 4
}
