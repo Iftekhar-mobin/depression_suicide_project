{
 "cells": [
  {
   "cell_type": "code",
   "execution_count": 1,
   "metadata": {},
   "outputs": [
    {
     "name": "stdout",
     "output_type": "stream",
     "text": [
      "[{'label': 'ポジティブ', 'score': 0.9843042492866516}]\n"
     ]
    }
   ],
   "source": [
    "from transformers import AutoTokenizer, AutoModelForSequenceClassification\n",
    "from transformers import pipeline\n",
    "\n",
    "tokenizer = AutoTokenizer.from_pretrained(\"daigo/bert-base-japanese-sentiment\")\n",
    "model = AutoModelForSequenceClassification.from_pretrained(\"daigo/bert-base-japanese-sentiment\")\n",
    "# シンプルな動作確認\n",
    "\n",
    "print(pipeline(\"sentiment-analysis\",model=\"daigo/bert-base-japanese-sentiment\",tokenizer=\"daigo/bert-base-japanese-sentiment\")(\"私は幸福である。\"))\n"
   ]
  },
  {
   "cell_type": "code",
   "execution_count": 3,
   "metadata": {},
   "outputs": [],
   "source": [
    "x = pipeline(\"sentiment-analysis\",model=\"daigo/bert-base-japanese-sentiment\",tokenizer=\"daigo/bert-base-japanese-sentiment\")"
   ]
  },
  {
   "cell_type": "code",
   "execution_count": 13,
   "metadata": {},
   "outputs": [
    {
     "name": "stdout",
     "output_type": "stream",
     "text": [
      "[{'label': 'ポジティブ', 'score': 0.9843042492866516}]\n"
     ]
    }
   ],
   "source": [
    "print(x(\"私は幸福である。\"))\n"
   ]
  },
  {
   "cell_type": "code",
   "execution_count": 2,
   "metadata": {},
   "outputs": [],
   "source": [
    "from transformers import AutoTokenizer, AutoModelForSequenceClassification\n",
    "from transformers import pipeline\n",
    "\n",
    "tokenizer = AutoTokenizer.from_pretrained('/home/iftekhar/bert_model/')\n",
    "model = AutoModelForSequenceClassification.from_pretrained('/home/iftekhar/bert_model/')\n",
    "# シンプルな動作確認\n",
    "\n",
    "# print(pipeline(\"sentiment-analysis\",model=\"/home/iftekhar/bert_sen_model/\",tokenizer=\"daigo/bert-base-japanese-sentiment\")(\"私は幸福である。\"))\n"
   ]
  },
  {
   "cell_type": "code",
   "execution_count": 3,
   "metadata": {},
   "outputs": [],
   "source": [
    "mod = pipeline(\"sentiment-analysis\",model=model, tokenizer=tokenizer)"
   ]
  },
  {
   "cell_type": "code",
   "execution_count": 4,
   "metadata": {},
   "outputs": [
    {
     "name": "stdout",
     "output_type": "stream",
     "text": [
      "[{'label': 'ポジティブ', 'score': 0.9843042492866516}]\n"
     ]
    }
   ],
   "source": [
    "print(mod(\"私は幸福である。\"))"
   ]
  },
  {
   "cell_type": "code",
   "execution_count": 2,
   "metadata": {},
   "outputs": [],
   "source": [
    "model.save_pretrained('/home/iftekhar/bert_sen_model/')"
   ]
  },
  {
   "cell_type": "code",
   "execution_count": 3,
   "metadata": {},
   "outputs": [
    {
     "data": {
      "text/plain": [
       "('/home/iftekhar/bert_sen_model/tokenizer_config.json',\n",
       " '/home/iftekhar/bert_sen_model/special_tokens_map.json',\n",
       " '/home/iftekhar/bert_sen_model/vocab.txt',\n",
       " '/home/iftekhar/bert_sen_model/added_tokens.json')"
      ]
     },
     "execution_count": 3,
     "metadata": {},
     "output_type": "execute_result"
    }
   ],
   "source": [
    "tokenizer.save_pretrained('/home/iftekhar/bert_sen_model/')"
   ]
  },
  {
   "cell_type": "code",
   "execution_count": 5,
   "metadata": {},
   "outputs": [],
   "source": [
    "import pandas as pd"
   ]
  },
  {
   "cell_type": "code",
   "execution_count": 6,
   "metadata": {},
   "outputs": [],
   "source": [
    "df = pd.read_csv('/home/iftekhar/docomodezwhu/data/chat_history.csv')"
   ]
  },
  {
   "cell_type": "code",
   "execution_count": 7,
   "metadata": {},
   "outputs": [
    {
     "data": {
      "text/plain": [
       "0                                        hi\n",
       "1                                   明日の天気は？\n",
       "2                                   今日の天気は？\n",
       "3                                        やあ\n",
       "4                                     ディズニー\n",
       "                        ...                \n",
       "14033                     dポイントの有効期限はありますか？\n",
       "14034                     dポイントはどのように使えますか？\n",
       "14035    報酬受取をdポイントに設定しているが、今後の報酬を現金へ変更したい。\n",
       "14036        dポイントで受け取った報酬を、現金に換えることができますか？\n",
       "14037              キャンセルした予約のdポイントが返還されません。\n",
       "Name: text, Length: 14038, dtype: object"
      ]
     },
     "execution_count": 7,
     "metadata": {},
     "output_type": "execute_result"
    }
   ],
   "source": [
    "df.text"
   ]
  },
  {
   "cell_type": "code",
   "execution_count": 17,
   "metadata": {},
   "outputs": [],
   "source": [
    "label = []\n",
    "scr = []\n",
    "for items in df.text:\n",
    "    try:\n",
    "        p = mod(items)\n",
    "        label.append(p[0]['label'])\n",
    "        scr.append(p[0]['score'])\n",
    "    except RuntimeError:\n",
    "        label.append('')\n",
    "        scr.append('')"
   ]
  },
  {
   "cell_type": "code",
   "execution_count": 23,
   "metadata": {},
   "outputs": [],
   "source": [
    "df['score'] = scr"
   ]
  },
  {
   "cell_type": "code",
   "execution_count": 22,
   "metadata": {},
   "outputs": [],
   "source": [
    "df['sentiment'] = label"
   ]
  },
  {
   "cell_type": "code",
   "execution_count": 25,
   "metadata": {},
   "outputs": [
    {
     "data": {
      "text/html": [
       "<div>\n",
       "<style scoped>\n",
       "    .dataframe tbody tr th:only-of-type {\n",
       "        vertical-align: middle;\n",
       "    }\n",
       "\n",
       "    .dataframe tbody tr th {\n",
       "        vertical-align: top;\n",
       "    }\n",
       "\n",
       "    .dataframe thead th {\n",
       "        text-align: right;\n",
       "    }\n",
       "</style>\n",
       "<table border=\"1\" class=\"dataframe\">\n",
       "  <thead>\n",
       "    <tr style=\"text-align: right;\">\n",
       "      <th></th>\n",
       "      <th>text</th>\n",
       "      <th>query_cleaning</th>\n",
       "      <th>sentiment</th>\n",
       "      <th>score</th>\n",
       "    </tr>\n",
       "  </thead>\n",
       "  <tbody>\n",
       "    <tr>\n",
       "      <th>0</th>\n",
       "      <td>hi</td>\n",
       "      <td>NaN</td>\n",
       "      <td>ポジティブ</td>\n",
       "      <td>0.978282</td>\n",
       "    </tr>\n",
       "    <tr>\n",
       "      <th>1</th>\n",
       "      <td>明日の天気は？</td>\n",
       "      <td>明日の天気</td>\n",
       "      <td>ポジティブ</td>\n",
       "      <td>0.950326</td>\n",
       "    </tr>\n",
       "    <tr>\n",
       "      <th>2</th>\n",
       "      <td>今日の天気は？</td>\n",
       "      <td>今日の天気</td>\n",
       "      <td>ポジティブ</td>\n",
       "      <td>0.956305</td>\n",
       "    </tr>\n",
       "    <tr>\n",
       "      <th>3</th>\n",
       "      <td>やあ</td>\n",
       "      <td>NaN</td>\n",
       "      <td>ポジティブ</td>\n",
       "      <td>0.98718</td>\n",
       "    </tr>\n",
       "    <tr>\n",
       "      <th>4</th>\n",
       "      <td>ディズニー</td>\n",
       "      <td>ディズニー</td>\n",
       "      <td>ポジティブ</td>\n",
       "      <td>0.990382</td>\n",
       "    </tr>\n",
       "  </tbody>\n",
       "</table>\n",
       "</div>"
      ],
      "text/plain": [
       "      text query_cleaning sentiment     score\n",
       "0       hi            NaN     ポジティブ  0.978282\n",
       "1  明日の天気は？          明日の天気     ポジティブ  0.950326\n",
       "2  今日の天気は？          今日の天気     ポジティブ  0.956305\n",
       "3       やあ            NaN     ポジティブ   0.98718\n",
       "4    ディズニー          ディズニー     ポジティブ  0.990382"
      ]
     },
     "execution_count": 25,
     "metadata": {},
     "output_type": "execute_result"
    }
   ],
   "source": [
    "df.head()"
   ]
  },
  {
   "cell_type": "code",
   "execution_count": 26,
   "metadata": {},
   "outputs": [],
   "source": [
    "df.to_csv('/home/iftekhar/docomodezwhu/data/chat_history_sentiment.csv')"
   ]
  }
 ],
 "metadata": {
  "kernelspec": {
   "display_name": "Python 3",
   "language": "python",
   "name": "python3"
  },
  "language_info": {
   "codemirror_mode": {
    "name": "ipython",
    "version": 3
   },
   "file_extension": ".py",
   "mimetype": "text/x-python",
   "name": "python",
   "nbconvert_exporter": "python",
   "pygments_lexer": "ipython3",
   "version": "3.6.9"
  }
 },
 "nbformat": 4,
 "nbformat_minor": 4
}
