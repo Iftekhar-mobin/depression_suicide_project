{
 "cells": [
  {
   "cell_type": "code",
   "execution_count": 7,
   "id": "271b742a",
   "metadata": {},
   "outputs": [],
   "source": [
    "import pandas as pd\n",
    "import string\n",
    "# import io\n",
    "# import random\n",
    "#  # to process standard python strings\n",
    "# import warnings\n",
    "# import numpy as np\n",
    "from sklearn.feature_extraction.text import TfidfVectorizer\n",
    "from sklearn.metrics.pairwise import linear_kernel\n",
    "import nltk\n",
    "from nltk.stem import PorterStemmer\n",
    "from nltk.corpus import stopwords\n",
    "from nltk.tokenize import word_tokenize\n",
    "lemmer = PorterStemmer()\n",
    "stop_words = set(stopwords.words('english'))"
   ]
  },
  {
   "cell_type": "code",
   "execution_count": 8,
   "id": "47c14c65",
   "metadata": {},
   "outputs": [],
   "source": [
    "df1 = pd.read_csv('/home/ifte-home/Documents/mental_health/20200325_counsel_chat.csv')\n",
    "df2 = pd.read_csv('/home/ifte-home/Documents/mental_health/emotion-emotion_69k.csv')\n",
    "df3 = pd.read_csv('/home/ifte-home/Documents/mental_health/Mental_Health_FAQ.csv')"
   ]
  },
  {
   "cell_type": "code",
   "execution_count": 9,
   "id": "8ee8c5a5",
   "metadata": {},
   "outputs": [
    {
     "data": {
      "text/html": [
       "<div>\n",
       "<style scoped>\n",
       "    .dataframe tbody tr th:only-of-type {\n",
       "        vertical-align: middle;\n",
       "    }\n",
       "\n",
       "    .dataframe tbody tr th {\n",
       "        vertical-align: top;\n",
       "    }\n",
       "\n",
       "    .dataframe thead th {\n",
       "        text-align: right;\n",
       "    }\n",
       "</style>\n",
       "<table border=\"1\" class=\"dataframe\">\n",
       "  <thead>\n",
       "    <tr style=\"text-align: right;\">\n",
       "      <th></th>\n",
       "      <th>Unnamed: 0</th>\n",
       "      <th>Situation</th>\n",
       "      <th>emotion</th>\n",
       "      <th>empathetic_dialogues</th>\n",
       "      <th>labels</th>\n",
       "      <th>Unnamed: 5</th>\n",
       "      <th>Unnamed: 6</th>\n",
       "    </tr>\n",
       "  </thead>\n",
       "  <tbody>\n",
       "    <tr>\n",
       "      <th>0</th>\n",
       "      <td>0</td>\n",
       "      <td>I remember going to the fireworks with my best...</td>\n",
       "      <td>sentimental</td>\n",
       "      <td>Customer :I remember going to see the firework...</td>\n",
       "      <td>Was this a friend you were in love with, or ju...</td>\n",
       "      <td>NaN</td>\n",
       "      <td>NaN</td>\n",
       "    </tr>\n",
       "    <tr>\n",
       "      <th>1</th>\n",
       "      <td>1</td>\n",
       "      <td>I remember going to the fireworks with my best...</td>\n",
       "      <td>sentimental</td>\n",
       "      <td>Customer :This was a best friend. I miss her.\\...</td>\n",
       "      <td>Where has she gone?</td>\n",
       "      <td>NaN</td>\n",
       "      <td>NaN</td>\n",
       "    </tr>\n",
       "  </tbody>\n",
       "</table>\n",
       "</div>"
      ],
      "text/plain": [
       "   Unnamed: 0                                          Situation      emotion  \\\n",
       "0           0  I remember going to the fireworks with my best...  sentimental   \n",
       "1           1  I remember going to the fireworks with my best...  sentimental   \n",
       "\n",
       "                                empathetic_dialogues  \\\n",
       "0  Customer :I remember going to see the firework...   \n",
       "1  Customer :This was a best friend. I miss her.\\...   \n",
       "\n",
       "                                              labels Unnamed: 5 Unnamed: 6  \n",
       "0  Was this a friend you were in love with, or ju...        NaN        NaN  \n",
       "1                                Where has she gone?        NaN        NaN  "
      ]
     },
     "execution_count": 9,
     "metadata": {},
     "output_type": "execute_result"
    }
   ],
   "source": [
    "df2.head(2)"
   ]
  },
  {
   "cell_type": "code",
   "execution_count": 10,
   "id": "dd147686",
   "metadata": {},
   "outputs": [
    {
     "data": {
      "text/html": [
       "<div>\n",
       "<style scoped>\n",
       "    .dataframe tbody tr th:only-of-type {\n",
       "        vertical-align: middle;\n",
       "    }\n",
       "\n",
       "    .dataframe tbody tr th {\n",
       "        vertical-align: top;\n",
       "    }\n",
       "\n",
       "    .dataframe thead th {\n",
       "        text-align: right;\n",
       "    }\n",
       "</style>\n",
       "<table border=\"1\" class=\"dataframe\">\n",
       "  <thead>\n",
       "    <tr style=\"text-align: right;\">\n",
       "      <th></th>\n",
       "      <th>ques</th>\n",
       "      <th>ans</th>\n",
       "    </tr>\n",
       "  </thead>\n",
       "  <tbody>\n",
       "    <tr>\n",
       "      <th>0</th>\n",
       "      <td>I'm going through some things with my feelings...</td>\n",
       "      <td>If everyone thinks you're worthless, then mayb...</td>\n",
       "    </tr>\n",
       "    <tr>\n",
       "      <th>1</th>\n",
       "      <td>I'm going through some things with my feelings...</td>\n",
       "      <td>Hello, and thank you for your question and see...</td>\n",
       "    </tr>\n",
       "    <tr>\n",
       "      <th>2</th>\n",
       "      <td>I'm going through some things with my feelings...</td>\n",
       "      <td>First thing I'd suggest is getting the sleep y...</td>\n",
       "    </tr>\n",
       "    <tr>\n",
       "      <th>3</th>\n",
       "      <td>I'm going through some things with my feelings...</td>\n",
       "      <td>Therapy is essential for those that are feelin...</td>\n",
       "    </tr>\n",
       "    <tr>\n",
       "      <th>4</th>\n",
       "      <td>I'm going through some things with my feelings...</td>\n",
       "      <td>I first want to let you know that you are not ...</td>\n",
       "    </tr>\n",
       "    <tr>\n",
       "      <th>...</th>\n",
       "      <td>...</td>\n",
       "      <td>...</td>\n",
       "    </tr>\n",
       "    <tr>\n",
       "      <th>93</th>\n",
       "      <td>How do I know if I'm drinking too much?</td>\n",
       "      <td>Sorting out if you are drinking too much can b...</td>\n",
       "    </tr>\n",
       "    <tr>\n",
       "      <th>94</th>\n",
       "      <td>If cannabis is dangerous, why are we legalizin...</td>\n",
       "      <td>Cannabis smoke, for example, contains cancer-c...</td>\n",
       "    </tr>\n",
       "    <tr>\n",
       "      <th>95</th>\n",
       "      <td>How can I convince my kids not to use drugs?</td>\n",
       "      <td>You can't. But you can influence their capacit...</td>\n",
       "    </tr>\n",
       "    <tr>\n",
       "      <th>96</th>\n",
       "      <td>What is the legal status (and evidence) of CBD...</td>\n",
       "      <td>Cannabidiol or CBD is a naturally occurring co...</td>\n",
       "    </tr>\n",
       "    <tr>\n",
       "      <th>97</th>\n",
       "      <td>What is the evidence on vaping?</td>\n",
       "      <td>\"Vaping\" is the term for using a device where ...</td>\n",
       "    </tr>\n",
       "  </tbody>\n",
       "</table>\n",
       "<p>66863 rows × 2 columns</p>\n",
       "</div>"
      ],
      "text/plain": [
       "                                                 ques  \\\n",
       "0   I'm going through some things with my feelings...   \n",
       "1   I'm going through some things with my feelings...   \n",
       "2   I'm going through some things with my feelings...   \n",
       "3   I'm going through some things with my feelings...   \n",
       "4   I'm going through some things with my feelings...   \n",
       "..                                                ...   \n",
       "93            How do I know if I'm drinking too much?   \n",
       "94  If cannabis is dangerous, why are we legalizin...   \n",
       "95       How can I convince my kids not to use drugs?   \n",
       "96  What is the legal status (and evidence) of CBD...   \n",
       "97                    What is the evidence on vaping?   \n",
       "\n",
       "                                                  ans  \n",
       "0   If everyone thinks you're worthless, then mayb...  \n",
       "1   Hello, and thank you for your question and see...  \n",
       "2   First thing I'd suggest is getting the sleep y...  \n",
       "3   Therapy is essential for those that are feelin...  \n",
       "4   I first want to let you know that you are not ...  \n",
       "..                                                ...  \n",
       "93  Sorting out if you are drinking too much can b...  \n",
       "94  Cannabis smoke, for example, contains cancer-c...  \n",
       "95  You can't. But you can influence their capacit...  \n",
       "96  Cannabidiol or CBD is a naturally occurring co...  \n",
       "97  \"Vaping\" is the term for using a device where ...  \n",
       "\n",
       "[66863 rows x 2 columns]"
      ]
     },
     "execution_count": 10,
     "metadata": {},
     "output_type": "execute_result"
    }
   ],
   "source": [
    "df1_main = pd.DataFrame()\n",
    "df2_main = pd.DataFrame()\n",
    "df3_main = pd.DataFrame()\n",
    "\n",
    "df1_main = df1[['questionText', 'answerText']]\n",
    "df1_main.columns = ['ques', 'ans']\n",
    "\n",
    "df2_main = df2[['Situation', 'labels']]\n",
    "df2_main.columns = ['ques', 'ans']\n",
    "\n",
    "df3_main = df3[['Questions', 'Answers']]\n",
    "df3_main.columns = ['ques', 'ans']\n",
    "\n",
    "df_all = pd.concat([df1_main, df2_main, df3_main])\n",
    "\n",
    "df_all"
   ]
  },
  {
   "cell_type": "code",
   "execution_count": 44,
   "id": "61a51601",
   "metadata": {},
   "outputs": [],
   "source": [
    "df_all.to_csv('/home/ifte-home/work/AI-system/chatbot/Dataset/mental_health_QA.csv')"
   ]
  },
  {
   "cell_type": "code",
   "execution_count": 11,
   "id": "87511a63",
   "metadata": {},
   "outputs": [
    {
     "data": {
      "text/html": [
       "<div>\n",
       "<style scoped>\n",
       "    .dataframe tbody tr th:only-of-type {\n",
       "        vertical-align: middle;\n",
       "    }\n",
       "\n",
       "    .dataframe tbody tr th {\n",
       "        vertical-align: top;\n",
       "    }\n",
       "\n",
       "    .dataframe thead th {\n",
       "        text-align: right;\n",
       "    }\n",
       "</style>\n",
       "<table border=\"1\" class=\"dataframe\">\n",
       "  <thead>\n",
       "    <tr style=\"text-align: right;\">\n",
       "      <th></th>\n",
       "      <th>ques</th>\n",
       "      <th>ans</th>\n",
       "    </tr>\n",
       "  </thead>\n",
       "  <tbody>\n",
       "    <tr>\n",
       "      <th>0</th>\n",
       "      <td>I'm going through some things with my feelings...</td>\n",
       "      <td>If everyone thinks you're worthless, then mayb...</td>\n",
       "    </tr>\n",
       "    <tr>\n",
       "      <th>1</th>\n",
       "      <td>I'm going through some things with my feelings...</td>\n",
       "      <td>Hello, and thank you for your question and see...</td>\n",
       "    </tr>\n",
       "    <tr>\n",
       "      <th>2</th>\n",
       "      <td>I'm going through some things with my feelings...</td>\n",
       "      <td>First thing I'd suggest is getting the sleep y...</td>\n",
       "    </tr>\n",
       "    <tr>\n",
       "      <th>3</th>\n",
       "      <td>I'm going through some things with my feelings...</td>\n",
       "      <td>Therapy is essential for those that are feelin...</td>\n",
       "    </tr>\n",
       "    <tr>\n",
       "      <th>4</th>\n",
       "      <td>I'm going through some things with my feelings...</td>\n",
       "      <td>I first want to let you know that you are not ...</td>\n",
       "    </tr>\n",
       "    <tr>\n",
       "      <th>...</th>\n",
       "      <td>...</td>\n",
       "      <td>...</td>\n",
       "    </tr>\n",
       "    <tr>\n",
       "      <th>93</th>\n",
       "      <td>How do I know if I'm drinking too much?</td>\n",
       "      <td>Sorting out if you are drinking too much can b...</td>\n",
       "    </tr>\n",
       "    <tr>\n",
       "      <th>94</th>\n",
       "      <td>If cannabis is dangerous, why are we legalizin...</td>\n",
       "      <td>Cannabis smoke, for example, contains cancer-c...</td>\n",
       "    </tr>\n",
       "    <tr>\n",
       "      <th>95</th>\n",
       "      <td>How can I convince my kids not to use drugs?</td>\n",
       "      <td>You can't. But you can influence their capacit...</td>\n",
       "    </tr>\n",
       "    <tr>\n",
       "      <th>96</th>\n",
       "      <td>What is the legal status (and evidence) of CBD...</td>\n",
       "      <td>Cannabidiol or CBD is a naturally occurring co...</td>\n",
       "    </tr>\n",
       "    <tr>\n",
       "      <th>97</th>\n",
       "      <td>What is the evidence on vaping?</td>\n",
       "      <td>\"Vaping\" is the term for using a device where ...</td>\n",
       "    </tr>\n",
       "  </tbody>\n",
       "</table>\n",
       "<p>66863 rows × 2 columns</p>\n",
       "</div>"
      ],
      "text/plain": [
       "                                                 ques  \\\n",
       "0   I'm going through some things with my feelings...   \n",
       "1   I'm going through some things with my feelings...   \n",
       "2   I'm going through some things with my feelings...   \n",
       "3   I'm going through some things with my feelings...   \n",
       "4   I'm going through some things with my feelings...   \n",
       "..                                                ...   \n",
       "93            How do I know if I'm drinking too much?   \n",
       "94  If cannabis is dangerous, why are we legalizin...   \n",
       "95       How can I convince my kids not to use drugs?   \n",
       "96  What is the legal status (and evidence) of CBD...   \n",
       "97                    What is the evidence on vaping?   \n",
       "\n",
       "                                                  ans  \n",
       "0   If everyone thinks you're worthless, then mayb...  \n",
       "1   Hello, and thank you for your question and see...  \n",
       "2   First thing I'd suggest is getting the sleep y...  \n",
       "3   Therapy is essential for those that are feelin...  \n",
       "4   I first want to let you know that you are not ...  \n",
       "..                                                ...  \n",
       "93  Sorting out if you are drinking too much can b...  \n",
       "94  Cannabis smoke, for example, contains cancer-c...  \n",
       "95  You can't. But you can influence their capacit...  \n",
       "96  Cannabidiol or CBD is a naturally occurring co...  \n",
       "97  \"Vaping\" is the term for using a device where ...  \n",
       "\n",
       "[66863 rows x 2 columns]"
      ]
     },
     "execution_count": 11,
     "metadata": {},
     "output_type": "execute_result"
    }
   ],
   "source": [
    "df_all"
   ]
  },
  {
   "cell_type": "code",
   "execution_count": 12,
   "id": "99aa343c",
   "metadata": {},
   "outputs": [],
   "source": [
    "#WordNet is a semantically-oriented dictionary of English included in NLTK.\n",
    "def LemTokens(tokens):\n",
    "    return [w for w in [lemmer.stem(token) for token in tokens] if not w in stop_words]\n",
    "\n",
    "remove_punct_dict = dict((ord(punct), ' ') for punct in string.punctuation)\n",
    "\n",
    "def LemNormalize(text):\n",
    "    return LemTokens(nltk.word_tokenize(text.lower().translate(remove_punct_dict)))"
   ]
  },
  {
   "cell_type": "code",
   "execution_count": 13,
   "id": "70b0b9dd",
   "metadata": {},
   "outputs": [],
   "source": [
    "df_all['ques_processed'] = df_all.ques.apply(lambda x : LemNormalize(x))\n",
    "df_all['ques_lines'] = df_all.ques_processed.apply(lambda x: ' '.join(x))"
   ]
  },
  {
   "cell_type": "code",
   "execution_count": 2,
   "id": "adcae094",
   "metadata": {},
   "outputs": [],
   "source": [
    "df_all = pd.read_csv('/home/ifte-home/work/AI-system/chatbot/Dataset/mental_health_QA.csv')"
   ]
  },
  {
   "cell_type": "code",
   "execution_count": 14,
   "id": "8da89eaf",
   "metadata": {},
   "outputs": [
    {
     "data": {
      "text/html": [
       "<div>\n",
       "<style scoped>\n",
       "    .dataframe tbody tr th:only-of-type {\n",
       "        vertical-align: middle;\n",
       "    }\n",
       "\n",
       "    .dataframe tbody tr th {\n",
       "        vertical-align: top;\n",
       "    }\n",
       "\n",
       "    .dataframe thead th {\n",
       "        text-align: right;\n",
       "    }\n",
       "</style>\n",
       "<table border=\"1\" class=\"dataframe\">\n",
       "  <thead>\n",
       "    <tr style=\"text-align: right;\">\n",
       "      <th></th>\n",
       "      <th>ques</th>\n",
       "      <th>ans</th>\n",
       "      <th>ques_processed</th>\n",
       "      <th>ques_lines</th>\n",
       "    </tr>\n",
       "  </thead>\n",
       "  <tbody>\n",
       "    <tr>\n",
       "      <th>0</th>\n",
       "      <td>I'm going through some things with my feelings...</td>\n",
       "      <td>If everyone thinks you're worthless, then mayb...</td>\n",
       "      <td>[go, thing, feel, bare, sleep, noth, think, wo...</td>\n",
       "      <td>go thing feel bare sleep noth think worthless ...</td>\n",
       "    </tr>\n",
       "    <tr>\n",
       "      <th>1</th>\n",
       "      <td>I'm going through some things with my feelings...</td>\n",
       "      <td>Hello, and thank you for your question and see...</td>\n",
       "      <td>[go, thing, feel, bare, sleep, noth, think, wo...</td>\n",
       "      <td>go thing feel bare sleep noth think worthless ...</td>\n",
       "    </tr>\n",
       "    <tr>\n",
       "      <th>2</th>\n",
       "      <td>I'm going through some things with my feelings...</td>\n",
       "      <td>First thing I'd suggest is getting the sleep y...</td>\n",
       "      <td>[go, thing, feel, bare, sleep, noth, think, wo...</td>\n",
       "      <td>go thing feel bare sleep noth think worthless ...</td>\n",
       "    </tr>\n",
       "    <tr>\n",
       "      <th>3</th>\n",
       "      <td>I'm going through some things with my feelings...</td>\n",
       "      <td>Therapy is essential for those that are feelin...</td>\n",
       "      <td>[go, thing, feel, bare, sleep, noth, think, wo...</td>\n",
       "      <td>go thing feel bare sleep noth think worthless ...</td>\n",
       "    </tr>\n",
       "    <tr>\n",
       "      <th>4</th>\n",
       "      <td>I'm going through some things with my feelings...</td>\n",
       "      <td>I first want to let you know that you are not ...</td>\n",
       "      <td>[go, thing, feel, bare, sleep, noth, think, wo...</td>\n",
       "      <td>go thing feel bare sleep noth think worthless ...</td>\n",
       "    </tr>\n",
       "    <tr>\n",
       "      <th>...</th>\n",
       "      <td>...</td>\n",
       "      <td>...</td>\n",
       "      <td>...</td>\n",
       "      <td>...</td>\n",
       "    </tr>\n",
       "    <tr>\n",
       "      <th>93</th>\n",
       "      <td>How do I know if I'm drinking too much?</td>\n",
       "      <td>Sorting out if you are drinking too much can b...</td>\n",
       "      <td>[know, drink, much]</td>\n",
       "      <td>know drink much</td>\n",
       "    </tr>\n",
       "    <tr>\n",
       "      <th>94</th>\n",
       "      <td>If cannabis is dangerous, why are we legalizin...</td>\n",
       "      <td>Cannabis smoke, for example, contains cancer-c...</td>\n",
       "      <td>[cannabi, danger, whi, legal]</td>\n",
       "      <td>cannabi danger whi legal</td>\n",
       "    </tr>\n",
       "    <tr>\n",
       "      <th>95</th>\n",
       "      <td>How can I convince my kids not to use drugs?</td>\n",
       "      <td>You can't. But you can influence their capacit...</td>\n",
       "      <td>[convinc, kid, use, drug]</td>\n",
       "      <td>convinc kid use drug</td>\n",
       "    </tr>\n",
       "    <tr>\n",
       "      <th>96</th>\n",
       "      <td>What is the legal status (and evidence) of CBD...</td>\n",
       "      <td>Cannabidiol or CBD is a naturally occurring co...</td>\n",
       "      <td>[legal, statu, evid, cbd, oil]</td>\n",
       "      <td>legal statu evid cbd oil</td>\n",
       "    </tr>\n",
       "    <tr>\n",
       "      <th>97</th>\n",
       "      <td>What is the evidence on vaping?</td>\n",
       "      <td>\"Vaping\" is the term for using a device where ...</td>\n",
       "      <td>[evid, vape]</td>\n",
       "      <td>evid vape</td>\n",
       "    </tr>\n",
       "  </tbody>\n",
       "</table>\n",
       "<p>66863 rows × 4 columns</p>\n",
       "</div>"
      ],
      "text/plain": [
       "                                                 ques  \\\n",
       "0   I'm going through some things with my feelings...   \n",
       "1   I'm going through some things with my feelings...   \n",
       "2   I'm going through some things with my feelings...   \n",
       "3   I'm going through some things with my feelings...   \n",
       "4   I'm going through some things with my feelings...   \n",
       "..                                                ...   \n",
       "93            How do I know if I'm drinking too much?   \n",
       "94  If cannabis is dangerous, why are we legalizin...   \n",
       "95       How can I convince my kids not to use drugs?   \n",
       "96  What is the legal status (and evidence) of CBD...   \n",
       "97                    What is the evidence on vaping?   \n",
       "\n",
       "                                                  ans  \\\n",
       "0   If everyone thinks you're worthless, then mayb...   \n",
       "1   Hello, and thank you for your question and see...   \n",
       "2   First thing I'd suggest is getting the sleep y...   \n",
       "3   Therapy is essential for those that are feelin...   \n",
       "4   I first want to let you know that you are not ...   \n",
       "..                                                ...   \n",
       "93  Sorting out if you are drinking too much can b...   \n",
       "94  Cannabis smoke, for example, contains cancer-c...   \n",
       "95  You can't. But you can influence their capacit...   \n",
       "96  Cannabidiol or CBD is a naturally occurring co...   \n",
       "97  \"Vaping\" is the term for using a device where ...   \n",
       "\n",
       "                                       ques_processed  \\\n",
       "0   [go, thing, feel, bare, sleep, noth, think, wo...   \n",
       "1   [go, thing, feel, bare, sleep, noth, think, wo...   \n",
       "2   [go, thing, feel, bare, sleep, noth, think, wo...   \n",
       "3   [go, thing, feel, bare, sleep, noth, think, wo...   \n",
       "4   [go, thing, feel, bare, sleep, noth, think, wo...   \n",
       "..                                                ...   \n",
       "93                                [know, drink, much]   \n",
       "94                      [cannabi, danger, whi, legal]   \n",
       "95                          [convinc, kid, use, drug]   \n",
       "96                     [legal, statu, evid, cbd, oil]   \n",
       "97                                       [evid, vape]   \n",
       "\n",
       "                                           ques_lines  \n",
       "0   go thing feel bare sleep noth think worthless ...  \n",
       "1   go thing feel bare sleep noth think worthless ...  \n",
       "2   go thing feel bare sleep noth think worthless ...  \n",
       "3   go thing feel bare sleep noth think worthless ...  \n",
       "4   go thing feel bare sleep noth think worthless ...  \n",
       "..                                                ...  \n",
       "93                                    know drink much  \n",
       "94                           cannabi danger whi legal  \n",
       "95                               convinc kid use drug  \n",
       "96                           legal statu evid cbd oil  \n",
       "97                                          evid vape  \n",
       "\n",
       "[66863 rows x 4 columns]"
      ]
     },
     "execution_count": 14,
     "metadata": {},
     "output_type": "execute_result"
    }
   ],
   "source": [
    "df_all"
   ]
  },
  {
   "cell_type": "code",
   "execution_count": 15,
   "id": "2f2ce024",
   "metadata": {},
   "outputs": [],
   "source": [
    "#Tfidf vectorizer\n",
    "tf=TfidfVectorizer()\n",
    "#transformed train reviews\n",
    "tf_train=tf.fit_transform(df_all[\"ques_lines\"].values.tolist())\n"
   ]
  },
  {
   "cell_type": "code",
   "execution_count": 16,
   "id": "67bc0a78",
   "metadata": {},
   "outputs": [
    {
     "data": {
      "text/plain": [
       "(66863, 7758)"
      ]
     },
     "execution_count": 16,
     "metadata": {},
     "output_type": "execute_result"
    }
   ],
   "source": [
    "tf_train.shape"
   ]
  },
  {
   "cell_type": "code",
   "execution_count": 17,
   "id": "41af2b8d",
   "metadata": {},
   "outputs": [],
   "source": [
    "question = 'i am dangerous'"
   ]
  },
  {
   "cell_type": "code",
   "execution_count": 22,
   "id": "d05b9f25",
   "metadata": {},
   "outputs": [],
   "source": [
    "clean_question = ' '.join(LemNormalize(question))"
   ]
  },
  {
   "cell_type": "code",
   "execution_count": 23,
   "id": "7f028700",
   "metadata": {},
   "outputs": [],
   "source": [
    "answers = df_all.ans.values.tolist()"
   ]
  },
  {
   "cell_type": "code",
   "execution_count": 24,
   "id": "c379e682",
   "metadata": {},
   "outputs": [],
   "source": [
    "question_tfidf = tf.transform(list(clean_question))\n",
    "vals = linear_kernel(tf_train, question_tfidf)"
   ]
  },
  {
   "cell_type": "code",
   "execution_count": 21,
   "id": "16ff9718",
   "metadata": {},
   "outputs": [
    {
     "data": {
      "text/plain": [
       "(66863, 6)"
      ]
     },
     "execution_count": 21,
     "metadata": {},
     "output_type": "execute_result"
    }
   ],
   "source": [
    "vals.shape"
   ]
  },
  {
   "cell_type": "code",
   "execution_count": 85,
   "id": "290db3ed",
   "metadata": {},
   "outputs": [
    {
     "data": {
      "text/plain": [
       "array([0, 1, 2, 3, 4, 5])"
      ]
     },
     "execution_count": 85,
     "metadata": {},
     "output_type": "execute_result"
    }
   ],
   "source": [
    "vals.argsort()[0]"
   ]
  },
  {
   "cell_type": "code",
   "execution_count": 84,
   "id": "bfc5ea9d",
   "metadata": {},
   "outputs": [
    {
     "data": {
      "text/plain": [
       "4"
      ]
     },
     "execution_count": 84,
     "metadata": {},
     "output_type": "execute_result"
    }
   ],
   "source": [
    "vals.argsort()[0][-2]"
   ]
  },
  {
   "cell_type": "code",
   "execution_count": 64,
   "id": "a114b6e6",
   "metadata": {},
   "outputs": [
    {
     "name": "stdout",
     "output_type": "stream",
     "text": [
      "I am sorry! I don't understand you\n"
     ]
    }
   ],
   "source": [
    "question_tfidf = tf.transform(list(clean_question))\n",
    "vals = linear_kernel(tf_train, question_tfidf)\n",
    "idx=vals.argsort()[0][-2]\n",
    "# flat = vals.flatten()\n",
    "# flat.sort()\n",
    "# req_tfidf = flat[-2]\n",
    "if(req_tfidf==0):\n",
    "    print(\"I am sorry! I don't understand you\")\n",
    "else:\n",
    "    print(answers[idx])"
   ]
  },
  {
   "cell_type": "code",
   "execution_count": 65,
   "id": "0f400922",
   "metadata": {},
   "outputs": [
    {
     "data": {
      "text/plain": [
       "'I first want to let you know that you are not alone in your feelings and there is always someone there to help. You can always change your feelings and change your way of thinking by being open to trying to change. You can always make yourself available to learning new things or volunteering so that you can make a purpose for yourself.'"
      ]
     },
     "execution_count": 65,
     "metadata": {},
     "output_type": "execute_result"
    }
   ],
   "source": [
    "answers[idx]"
   ]
  },
  {
   "cell_type": "code",
   "execution_count": 25,
   "id": "e3df2d2c",
   "metadata": {},
   "outputs": [],
   "source": [
    "from sklearn.svm import LinearSVC"
   ]
  },
  {
   "cell_type": "code",
   "execution_count": 26,
   "id": "b7460758",
   "metadata": {},
   "outputs": [],
   "source": [
    "from sklearn.preprocessing import LabelEncoder\n",
    "label = LabelEncoder()\n",
    "df_all['AnswersEncode'] = label.fit_transform(df_all['ans'])\n"
   ]
  },
  {
   "cell_type": "code",
   "execution_count": 27,
   "id": "a47ff243",
   "metadata": {},
   "outputs": [],
   "source": [
    "text = df_all['ques']\n",
    "y= df_all['AnswersEncode'].values"
   ]
  },
  {
   "cell_type": "code",
   "execution_count": null,
   "id": "ba9ffaec",
   "metadata": {},
   "outputs": [],
   "source": [
    "lsvc = LinearSVC(random_state = 2021)\n",
    "lsvc.fit(tf_train, y)"
   ]
  },
  {
   "cell_type": "code",
   "execution_count": null,
   "id": "13b8d9f7",
   "metadata": {},
   "outputs": [],
   "source": [
    "# search_test = [\n",
    "#     \"How can I recover?\",\n",
    "#     \"Is cannabis dangerous?\",\n",
    "#     \"What is the side effect of drinking?\"\n",
    "# ]\n",
    "\n",
    "search_engine = tfidf.transform(list(clean_question))\n",
    "result = lsvc.predict(search_engine)\n",
    "\n",
    "for question in result:\n",
    "    faq_data = df_all.loc[df_all.isin([question]).any(axis=1)]\n",
    "    print(\"Answer: \", faq_data['Answers'].values)"
   ]
  }
 ],
 "metadata": {
  "kernelspec": {
   "display_name": "Python 3",
   "language": "python",
   "name": "python3"
  },
  "language_info": {
   "codemirror_mode": {
    "name": "ipython",
    "version": 3
   },
   "file_extension": ".py",
   "mimetype": "text/x-python",
   "name": "python",
   "nbconvert_exporter": "python",
   "pygments_lexer": "ipython3",
   "version": "3.6.9"
  }
 },
 "nbformat": 4,
 "nbformat_minor": 5
}
