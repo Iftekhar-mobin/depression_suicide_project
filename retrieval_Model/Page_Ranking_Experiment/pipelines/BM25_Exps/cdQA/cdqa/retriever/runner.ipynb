{
 "cells": [
  {
   "cell_type": "code",
   "execution_count": 2,
   "metadata": {},
   "outputs": [],
   "source": [
    "from retriever_sklearn import BM25Retriever\n",
    "    \n",
    "retriever = BM25Retriever(ngram_range=(1, 1), max_df=0.85, stop_words='english')\n"
   ]
  },
  {
   "cell_type": "code",
   "execution_count": 1,
   "metadata": {},
   "outputs": [
    {
     "data": {
      "text/html": [
       "<div>\n",
       "<style scoped>\n",
       "    .dataframe tbody tr th:only-of-type {\n",
       "        vertical-align: middle;\n",
       "    }\n",
       "\n",
       "    .dataframe tbody tr th {\n",
       "        vertical-align: top;\n",
       "    }\n",
       "\n",
       "    .dataframe thead th {\n",
       "        text-align: right;\n",
       "    }\n",
       "</style>\n",
       "<table border=\"1\" class=\"dataframe\">\n",
       "  <thead>\n",
       "    <tr style=\"text-align: right;\">\n",
       "      <th></th>\n",
       "      <th>Unnamed: 0</th>\n",
       "      <th>Unnamed: 0.1</th>\n",
       "      <th>Article</th>\n",
       "      <th>Summary</th>\n",
       "      <th>PageID</th>\n",
       "      <th>content</th>\n",
       "    </tr>\n",
       "  </thead>\n",
       "  <tbody>\n",
       "    <tr>\n",
       "      <th>0</th>\n",
       "      <td>0</td>\n",
       "      <td>0</td>\n",
       "      <td>カスタマイザー から サブタイトル 設定 MobiControl 設定 順序 MobiCon...</td>\n",
       "      <td>MobiControl v14 Manual – MobiControl v14 Manual</td>\n",
       "      <td>0</td>\n",
       "      <td>カスタマイザー から サブタイトル 設定 MobiControl 設定 順序 MobiCon...</td>\n",
       "    </tr>\n",
       "    <tr>\n",
       "      <th>1</th>\n",
       "      <td>1</td>\n",
       "      <td>1</td>\n",
       "      <td>MobiControl v Manual Apple 製品 MobiControl 管理 i...</td>\n",
       "      <td>Apple製品 – MobiControl v14 Manual ios overall</td>\n",
       "      <td>1</td>\n",
       "      <td>MobiControl v Manual Apple 製品 MobiControl 管理 i...</td>\n",
       "    </tr>\n",
       "    <tr>\n",
       "      <th>2</th>\n",
       "      <td>2</td>\n",
       "      <td>2</td>\n",
       "      <td>MobiControl v Manual Android 設定 モード A MobiCont...</td>\n",
       "      <td>Android端末 – MobiControl v14 Manual plus overall</td>\n",
       "      <td>2</td>\n",
       "      <td>MobiControl v Manual Android 設定 モード A MobiCont...</td>\n",
       "    </tr>\n",
       "    <tr>\n",
       "      <th>3</th>\n",
       "      <td>3</td>\n",
       "      <td>3</td>\n",
       "      <td>MobiControl v Manual Windows PC 根本 セキュリティ 対策 リ...</td>\n",
       "      <td>Windows PC – MobiControl v14 Manual wpc overall</td>\n",
       "      <td>3</td>\n",
       "      <td>MobiControl v Manual Windows PC 根本 セキュリティ 対策 リ...</td>\n",
       "    </tr>\n",
       "    <tr>\n",
       "      <th>4</th>\n",
       "      <td>4</td>\n",
       "      <td>4</td>\n",
       "      <td>MobiControl v Manual Windows Embedded 端末 Windo...</td>\n",
       "      <td>Windows Embedded – MobiControl v14 Manual wm o...</td>\n",
       "      <td>4</td>\n",
       "      <td>MobiControl v Manual Windows Embedded 端末 Windo...</td>\n",
       "    </tr>\n",
       "  </tbody>\n",
       "</table>\n",
       "</div>"
      ],
      "text/plain": [
       "   Unnamed: 0  Unnamed: 0.1  \\\n",
       "0           0             0   \n",
       "1           1             1   \n",
       "2           2             2   \n",
       "3           3             3   \n",
       "4           4             4   \n",
       "\n",
       "                                             Article  \\\n",
       "0  カスタマイザー から サブタイトル 設定 MobiControl 設定 順序 MobiCon...   \n",
       "1  MobiControl v Manual Apple 製品 MobiControl 管理 i...   \n",
       "2  MobiControl v Manual Android 設定 モード A MobiCont...   \n",
       "3  MobiControl v Manual Windows PC 根本 セキュリティ 対策 リ...   \n",
       "4  MobiControl v Manual Windows Embedded 端末 Windo...   \n",
       "\n",
       "                                             Summary  PageID  \\\n",
       "0   MobiControl v14 Manual – MobiControl v14 Manual        0   \n",
       "1      Apple製品 – MobiControl v14 Manual ios overall        1   \n",
       "2   Android端末 – MobiControl v14 Manual plus overall        2   \n",
       "3   Windows PC – MobiControl v14 Manual wpc overall        3   \n",
       "4  Windows Embedded – MobiControl v14 Manual wm o...       4   \n",
       "\n",
       "                                             content  \n",
       "0  カスタマイザー から サブタイトル 設定 MobiControl 設定 順序 MobiCon...  \n",
       "1  MobiControl v Manual Apple 製品 MobiControl 管理 i...  \n",
       "2  MobiControl v Manual Android 設定 モード A MobiCont...  \n",
       "3  MobiControl v Manual Windows PC 根本 セキュリティ 対策 リ...  \n",
       "4  MobiControl v Manual Windows Embedded 端末 Windo...  "
      ]
     },
     "execution_count": 1,
     "metadata": {},
     "output_type": "execute_result"
    }
   ],
   "source": [
    "import pandas as pd\n",
    "df = pd.read_csv('/home/iftekhar/AI-system/Helpers/Title_link_merged_corpus.csv')\n",
    "\n",
    "df['content'] = df.Article\n",
    "df.head()\n"
   ]
  },
  {
   "cell_type": "code",
   "execution_count": 7,
   "metadata": {},
   "outputs": [
    {
     "data": {
      "text/plain": [
       "BM25Retriever(b=0.75, floor=None, k1=2.0, lowercase=True, max_df=0.85, min_df=2,\n",
       "              ngram_range=(1, 2), preprocessor=None, stop_words='english',\n",
       "              token_pattern='(?u)\\\\b\\\\w\\\\w+\\\\b', tokenizer=None, top_n=20,\n",
       "              verbose=False, vocabulary=None)"
      ]
     },
     "execution_count": 7,
     "metadata": {},
     "output_type": "execute_result"
    }
   ],
   "source": [
    "retriever.fit(df)"
   ]
  },
  {
   "cell_type": "code",
   "execution_count": 9,
   "metadata": {},
   "outputs": [
    {
     "data": {
      "text/plain": [
       "OrderedDict([(32, array([22.45995466])),\n",
       "             (31, array([21.85905365])),\n",
       "             (3, array([21.48020365])),\n",
       "             (248, array([21.29864536])),\n",
       "             (423, array([20.65980265])),\n",
       "             (149, array([20.50078324])),\n",
       "             (178, array([20.48746576])),\n",
       "             (365, array([20.14102567])),\n",
       "             (30, array([15.04870297])),\n",
       "             (247, array([14.76604831])),\n",
       "             (75, array([13.66807741])),\n",
       "             (325, array([11.38112972])),\n",
       "             (93, array([10.06499078])),\n",
       "             (239, array([8.75575783])),\n",
       "             (238, array([8.27348381])),\n",
       "             (397, array([7.24092373])),\n",
       "             (108, array([7.21927616])),\n",
       "             (152, array([6.85247507])),\n",
       "             (181, array([6.84116515])),\n",
       "             (61, array([6.72935323]))])"
      ]
     },
     "execution_count": 9,
     "metadata": {},
     "output_type": "execute_result"
    }
   ],
   "source": [
    "best_idx_scores = retriever.predict(query='ウィルス 対策 実施')\n",
    "best_idx_scores"
   ]
  },
  {
   "cell_type": "code",
   "execution_count": null,
   "metadata": {},
   "outputs": [],
   "source": []
  },
  {
   "cell_type": "code",
   "execution_count": null,
   "metadata": {},
   "outputs": [],
   "source": []
  }
 ],
 "metadata": {
  "kernelspec": {
   "display_name": "Python 3",
   "language": "python",
   "name": "python3"
  },
  "language_info": {
   "codemirror_mode": {
    "name": "ipython",
    "version": 3
   },
   "file_extension": ".py",
   "mimetype": "text/x-python",
   "name": "python",
   "nbconvert_exporter": "python",
   "pygments_lexer": "ipython3",
   "version": "3.6.9"
  }
 },
 "nbformat": 4,
 "nbformat_minor": 4
}
