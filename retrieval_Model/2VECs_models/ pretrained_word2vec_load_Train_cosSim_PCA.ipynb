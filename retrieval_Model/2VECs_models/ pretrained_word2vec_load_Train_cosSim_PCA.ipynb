{
 "cells": [
  {
   "cell_type": "markdown",
   "metadata": {},
   "source": [
    "## Training"
   ]
  },
  {
   "cell_type": "code",
   "execution_count": 101,
   "metadata": {},
   "outputs": [],
   "source": [
    "import pandas as pd\n",
    "from gensim.models import Word2Vec\n",
    "import holoviews\n",
    "import hvplot.pandas\n",
    "from argparse import Namespace"
   ]
  },
  {
   "cell_type": "code",
   "execution_count": 103,
   "metadata": {},
   "outputs": [],
   "source": [
    "Plot = Namespace(\n",
    "    width=900,\n",
    "    height=680,\n",
    "    fontscale=2,\n",
    "    tan=\"#ddb377\",\n",
    "    blue=\"#4687b7\",\n",
    "    red=\"#ce7b6d\",\n",
    "    color_cycle = holoviews.Cycle([\"#4687b7\", \"#ce7b6d\"])\n",
    ")"
   ]
  },
  {
   "cell_type": "code",
   "execution_count": 2,
   "metadata": {},
   "outputs": [],
   "source": [
    "scatter_data = pd.read_pickle(\n",
    "    '/home/ifte-home/Documents/mental_health/suicide/Suicide_Detection_scatter.csv'\n",
    ")"
   ]
  },
  {
   "cell_type": "code",
   "execution_count": 7,
   "metadata": {},
   "outputs": [],
   "source": [
    "depressed_text = scatter_data.processed[scatter_data['category']==0]\n",
    "suicide_text = scatter_data.processed[scatter_data['category']==1]"
   ]
  },
  {
   "cell_type": "code",
   "execution_count": 8,
   "metadata": {},
   "outputs": [],
   "source": [
    "depressed_dataset = [i.split() for i in depressed_text.values]\n",
    "suicide_dataset = [i.split() for i in suicide_text.values]"
   ]
  },
  {
   "cell_type": "code",
   "execution_count": 9,
   "metadata": {},
   "outputs": [],
   "source": [
    "path = '/home/ifte-home/work/resources/'\n",
    "mod_dep_name = 'sentiment'\n",
    "mod_sui_name = 'depression'"
   ]
  },
  {
   "cell_type": "code",
   "execution_count": 10,
   "metadata": {},
   "outputs": [],
   "source": [
    "def train_corpus(sentences, model_name):\n",
    "    # instantiating and training the Word2Vec model\n",
    "    model = Word2Vec(\n",
    "        sentences,\n",
    "        min_count=1,\n",
    "        # compute_loss=True,\n",
    "        hs=0,\n",
    "        sg=1,\n",
    "        seed=42,\n",
    "    )\n",
    "    # save model\n",
    "    model.save(path+model_name+'.bin')\n",
    "    return model\n",
    "\n",
    "# # getting the training loss value\n",
    "# training_loss = model_with_loss.get_latest_training_loss()\n",
    "# print(training_loss)\n",
    "\n",
    "# define training data\n",
    "# sentences = [['this', 'is', 'the', 'first', 'sentence', 'for', 'word2vec'],\n",
    "# \t\t\t['this', 'is', 'the', 'second', 'sentence'],\n",
    "# \t\t\t['yet', 'another', 'sentence'],\n",
    "# \t\t\t['one', 'more', 'sentence'],\n",
    "# \t\t\t['and', 'the', 'final', 'sentence']]\n",
    "\n",
    "# # summarize vocabulary\n",
    "# words = list(model.wv.vocab)\n",
    "# print(words)\n",
    "\n"
   ]
  },
  {
   "cell_type": "code",
   "execution_count": 11,
   "metadata": {},
   "outputs": [],
   "source": [
    "mod_dep = train_corpus(depressed_dataset, mod_dep_name)\n",
    "mod_sui = train_corpus(suicide_dataset, mod_sui_name)"
   ]
  },
  {
   "cell_type": "code",
   "execution_count": 75,
   "metadata": {},
   "outputs": [],
   "source": [
    "# load model\n",
    "model_dep = Word2Vec.load(path + mod_dep_name +'.bin')\n",
    "model_sui = Word2Vec.load(path + mod_sui_name + '.bin')"
   ]
  },
  {
   "cell_type": "code",
   "execution_count": 76,
   "metadata": {},
   "outputs": [],
   "source": [
    "import numpy as np\n",
    "from sklearn.decomposition import PCA\n",
    "from matplotlib import pyplot"
   ]
  },
  {
   "cell_type": "code",
   "execution_count": 77,
   "metadata": {},
   "outputs": [],
   "source": [
    "def get_word_embeddings(embeddings, set_words):\n",
    "    word_embeddings = []\n",
    "    search_words = []\n",
    "    for word in set_words:\n",
    "        if word in embeddings.wv.key_to_index.keys():\n",
    "            word_embeddings.append(embeddings.wv.get_vector(word))\n",
    "            search_words.append(word)\n",
    "    return np.array(word_embeddings), search_words"
   ]
  },
  {
   "cell_type": "code",
   "execution_count": 68,
   "metadata": {},
   "outputs": [],
   "source": [
    "words = ['king', 'queen', 'oil', 'gas', 'happy', 'sad', 'city', 'town', 'village', 'country', 'continent', 'petroleum', 'joyful']"
   ]
  },
  {
   "cell_type": "code",
   "execution_count": 71,
   "metadata": {},
   "outputs": [],
   "source": [
    "def get_word_embeddings(embeddings, set_words):\n",
    "    word_embeddings = []\n",
    "    search_words = []\n",
    "    for word in set_words:\n",
    "        if word in embeddings.wv.key_to_index.keys():\n",
    "            word_embeddings.append(embeddings.wv.get_vector(word))\n",
    "            search_words.append(word)\n",
    "    return np.array(word_embeddings), search_words"
   ]
  },
  {
   "cell_type": "code",
   "execution_count": 81,
   "metadata": {},
   "outputs": [],
   "source": [
    "word_embeddings, searched_words = get_word_embeddings(mod_sui, words)"
   ]
  },
  {
   "cell_type": "code",
   "execution_count": 83,
   "metadata": {},
   "outputs": [],
   "source": [
    "model = PCA(n_components=2)\n",
    "reduced = model.fit(word_embeddings).transform(word_embeddings)\n",
    "reduced = pd.DataFrame(reduced, columns=\"X Y\".split())\n",
    "reduced[\"Word\"] = searched_words\n",
    "labels = reduced.hvplot.labels(x=\"X\", y=\"Y\", text=\"Word\", text_baseline=\"top\")\n",
    "points = reduced.hvplot.scatter(x=\"X\", y=\"Y\", color=Plot.blue, padding=0.5)"
   ]
  },
  {
   "cell_type": "code",
   "execution_count": 104,
   "metadata": {},
   "outputs": [],
   "source": [
    "plot = (points * labels).opts(\n",
    "    title=\"PCA of Words (SKLearn)\",\n",
    "    width=Plot.width,\n",
    "    height=Plot.height,\n",
    "    fontscale=Plot.fontscale,\n",
    ")"
   ]
  },
  {
   "cell_type": "code",
   "execution_count": 105,
   "metadata": {},
   "outputs": [
    {
     "data": {},
     "metadata": {},
     "output_type": "display_data"
    },
    {
     "data": {
      "application/vnd.holoviews_exec.v0+json": "",
      "text/html": [
       "<div id='1137'>\n",
       "  <div class=\"bk-root\" id=\"06c6f7e6-af1a-4e56-bf46-a59078ce5525\" data-root-id=\"1137\"></div>\n",
       "</div>\n",
       "<script type=\"application/javascript\">(function(root) {\n",
       "  function embed_document(root) {\n",
       "    var docs_json = {\"bb623f0d-0905-48f8-abea-942c4a258a98\":{\"defs\":[{\"extends\":null,\"module\":null,\"name\":\"ReactiveHTML1\",\"overrides\":[],\"properties\":[]},{\"extends\":null,\"module\":null,\"name\":\"FlexBox1\",\"overrides\":[],\"properties\":[{\"default\":\"flex-start\",\"kind\":null,\"name\":\"align_content\"},{\"default\":\"flex-start\",\"kind\":null,\"name\":\"align_items\"},{\"default\":\"row\",\"kind\":null,\"name\":\"flex_direction\"},{\"default\":\"wrap\",\"kind\":null,\"name\":\"flex_wrap\"},{\"default\":\"flex-start\",\"kind\":null,\"name\":\"justify_content\"}]},{\"extends\":null,\"module\":null,\"name\":\"GridStack1\",\"overrides\":[],\"properties\":[{\"default\":\"warn\",\"kind\":null,\"name\":\"mode\"},{\"default\":null,\"kind\":null,\"name\":\"ncols\"},{\"default\":null,\"kind\":null,\"name\":\"nrows\"},{\"default\":true,\"kind\":null,\"name\":\"allow_resize\"},{\"default\":true,\"kind\":null,\"name\":\"allow_drag\"},{\"default\":[],\"kind\":null,\"name\":\"state\"}]},{\"extends\":null,\"module\":null,\"name\":\"click1\",\"overrides\":[],\"properties\":[{\"default\":\"\",\"kind\":null,\"name\":\"terminal_output\"},{\"default\":\"\",\"kind\":null,\"name\":\"debug_name\"},{\"default\":0,\"kind\":null,\"name\":\"clears\"}]},{\"extends\":null,\"module\":null,\"name\":\"NotificationAreaBase1\",\"overrides\":[],\"properties\":[{\"default\":\"bottom-right\",\"kind\":null,\"name\":\"position\"},{\"default\":0,\"kind\":null,\"name\":\"_clear\"}]},{\"extends\":null,\"module\":null,\"name\":\"NotificationArea1\",\"overrides\":[],\"properties\":[{\"default\":[],\"kind\":null,\"name\":\"notifications\"},{\"default\":\"bottom-right\",\"kind\":null,\"name\":\"position\"},{\"default\":0,\"kind\":null,\"name\":\"_clear\"},{\"default\":[{\"background\":\"#ffc107\",\"icon\":{\"className\":\"fas fa-exclamation-triangle\",\"color\":\"white\",\"tagName\":\"i\"},\"type\":\"warning\"},{\"background\":\"#007bff\",\"icon\":{\"className\":\"fas fa-info-circle\",\"color\":\"white\",\"tagName\":\"i\"},\"type\":\"info\"}],\"kind\":null,\"name\":\"types\"}]},{\"extends\":null,\"module\":null,\"name\":\"Notification\",\"overrides\":[],\"properties\":[{\"default\":null,\"kind\":null,\"name\":\"background\"},{\"default\":3000,\"kind\":null,\"name\":\"duration\"},{\"default\":null,\"kind\":null,\"name\":\"icon\"},{\"default\":\"\",\"kind\":null,\"name\":\"message\"},{\"default\":null,\"kind\":null,\"name\":\"notification_type\"},{\"default\":false,\"kind\":null,\"name\":\"_destroyed\"}]},{\"extends\":null,\"module\":null,\"name\":\"TemplateActions1\",\"overrides\":[],\"properties\":[{\"default\":0,\"kind\":null,\"name\":\"open_modal\"},{\"default\":0,\"kind\":null,\"name\":\"close_modal\"}]},{\"extends\":null,\"module\":null,\"name\":\"MaterialTemplateActions1\",\"overrides\":[],\"properties\":[{\"default\":0,\"kind\":null,\"name\":\"open_modal\"},{\"default\":0,\"kind\":null,\"name\":\"close_modal\"}]}],\"roots\":{\"references\":[{\"attributes\":{\"fill_color\":{\"value\":\"#4687b7\"},\"hatch_color\":{\"value\":\"#4687b7\"},\"line_color\":{\"value\":\"#4687b7\"},\"size\":{\"value\":5.477225575051661},\"x\":{\"field\":\"X\"},\"y\":{\"field\":\"Y\"}},\"id\":\"1183\",\"type\":\"Scatter\"},{\"attributes\":{},\"id\":\"1178\",\"type\":\"BasicTickFormatter\"},{\"attributes\":{\"end\":3.860461503267288,\"reset_end\":3.860461503267288,\"reset_start\":-2.443383067846298,\"start\":-2.443383067846298,\"tags\":[[[\"Y\",\"Y\",null]]]},\"id\":\"1140\",\"type\":\"Range1d\"},{\"attributes\":{\"coordinates\":null,\"group\":null,\"text\":\"PCA of Words (SKLearn)\",\"text_color\":\"black\",\"text_font_size\":\"24pt\"},\"id\":\"1144\",\"type\":\"Title\"},{\"attributes\":{\"source\":{\"id\":\"1180\"}},\"id\":\"1187\",\"type\":\"CDSView\"},{\"attributes\":{},\"id\":\"1162\",\"type\":\"WheelZoomTool\"},{\"attributes\":{\"margin\":[5,5,5,5],\"name\":\"HSpacer01048\",\"sizing_mode\":\"stretch_width\"},\"id\":\"1138\",\"type\":\"Spacer\"},{\"attributes\":{},\"id\":\"1164\",\"type\":\"ResetTool\"},{\"attributes\":{\"fill_alpha\":{\"value\":0.1},\"fill_color\":{\"value\":\"#4687b7\"},\"hatch_alpha\":{\"value\":0.1},\"hatch_color\":{\"value\":\"#4687b7\"},\"line_alpha\":{\"value\":0.1},\"line_color\":{\"value\":\"#4687b7\"},\"size\":{\"value\":5.477225575051661},\"x\":{\"field\":\"X\"},\"y\":{\"field\":\"Y\"}},\"id\":\"1184\",\"type\":\"Scatter\"},{\"attributes\":{\"coordinates\":null,\"data_source\":{\"id\":\"1189\"},\"glyph\":{\"id\":\"1192\"},\"group\":null,\"hover_glyph\":null,\"muted_glyph\":{\"id\":\"1194\"},\"nonselection_glyph\":{\"id\":\"1193\"},\"selection_glyph\":{\"id\":\"1197\"},\"view\":{\"id\":\"1196\"}},\"id\":\"1195\",\"type\":\"GlyphRenderer\"},{\"attributes\":{},\"id\":\"1148\",\"type\":\"LinearScale\"},{\"attributes\":{\"angle\":{\"value\":0.0},\"fill_alpha\":{\"value\":1.0},\"fill_color\":{\"value\":\"#4687b7\"},\"hatch_alpha\":{\"value\":1.0},\"hatch_color\":{\"value\":\"#4687b7\"},\"hatch_scale\":{\"value\":12.0},\"hatch_weight\":{\"value\":1.0},\"line_alpha\":{\"value\":1.0},\"line_cap\":{\"value\":\"butt\"},\"line_color\":{\"value\":\"#4687b7\"},\"line_dash\":{\"value\":[]},\"line_dash_offset\":{\"value\":0},\"line_join\":{\"value\":\"bevel\"},\"line_width\":{\"value\":1},\"marker\":{\"value\":\"circle\"},\"size\":{\"value\":5.477225575051661},\"x\":{\"field\":\"X\"},\"y\":{\"field\":\"Y\"}},\"id\":\"1188\",\"type\":\"Scatter\"},{\"attributes\":{\"overlay\":{\"id\":\"1165\"}},\"id\":\"1163\",\"type\":\"BoxZoomTool\"},{\"attributes\":{\"data\":{\"X\":{\"__ndarray__\":\"GM5Uv00ZhL9tufm9du+NPklyvr8Bfra/KpPMP3olxz/mw2c/fTW3P93S0D5odKO/\",\"dtype\":\"float32\",\"order\":\"little\",\"shape\":[12]},\"Y\":{\"__ndarray__\":\"KHWJvf6U276SdPU/QTUSQP/A+b5yNRq/cb4Fv3oh1b7KFwK+XQ9evwGOnL4yB8G+\",\"dtype\":\"float32\",\"order\":\"little\",\"shape\":[12]}},\"selected\":{\"id\":\"1181\"},\"selection_policy\":{\"id\":\"1205\"}},\"id\":\"1180\",\"type\":\"ColumnDataSource\"},{\"attributes\":{\"text\":{\"field\":\"Word\"},\"text_align\":{\"value\":\"center\"},\"text_baseline\":{\"value\":\"top\"},\"text_color\":{\"value\":\"black\"},\"x\":{\"field\":\"X\"},\"y\":{\"field\":\"Y\"}},\"id\":\"1192\",\"type\":\"Text\"},{\"attributes\":{\"text\":{\"field\":\"Word\"},\"text_align\":{\"value\":\"center\"},\"text_alpha\":{\"value\":0.1},\"text_baseline\":{\"value\":\"top\"},\"text_color\":{\"value\":\"black\"},\"x\":{\"field\":\"X\"},\"y\":{\"field\":\"Y\"}},\"id\":\"1193\",\"type\":\"Text\"},{\"attributes\":{},\"id\":\"1179\",\"type\":\"AllLabels\"},{\"attributes\":{},\"id\":\"1190\",\"type\":\"Selection\"},{\"attributes\":{\"axis\":{\"id\":\"1156\"},\"coordinates\":null,\"dimension\":1,\"grid_line_color\":null,\"group\":null,\"ticker\":null},\"id\":\"1159\",\"type\":\"Grid\"},{\"attributes\":{},\"id\":\"1150\",\"type\":\"LinearScale\"},{\"attributes\":{\"bottom_units\":\"screen\",\"coordinates\":null,\"fill_alpha\":0.5,\"fill_color\":\"lightgrey\",\"group\":null,\"left_units\":\"screen\",\"level\":\"overlay\",\"line_alpha\":1.0,\"line_color\":\"black\",\"line_dash\":[4,4],\"line_width\":2,\"right_units\":\"screen\",\"syncable\":false,\"top_units\":\"screen\"},\"id\":\"1165\",\"type\":\"BoxAnnotation\"},{\"attributes\":{\"text\":{\"field\":\"Word\"},\"text_align\":{\"value\":\"center\"},\"text_alpha\":{\"value\":0.2},\"text_baseline\":{\"value\":\"top\"},\"text_color\":{\"value\":\"black\"},\"x\":{\"field\":\"X\"},\"y\":{\"field\":\"Y\"}},\"id\":\"1194\",\"type\":\"Text\"},{\"attributes\":{\"callback\":null,\"renderers\":[{\"id\":\"1186\"}],\"tags\":[\"hv_created\"],\"tooltips\":[[\"X\",\"@{X}\"],[\"Y\",\"@{Y}\"]]},\"id\":\"1141\",\"type\":\"HoverTool\"},{\"attributes\":{},\"id\":\"1161\",\"type\":\"PanTool\"},{\"attributes\":{\"axis_label\":\"X\",\"axis_label_text_font_size\":\"26px\",\"coordinates\":null,\"formatter\":{\"id\":\"1175\"},\"group\":null,\"major_label_policy\":{\"id\":\"1176\"},\"major_label_text_font_size\":\"22px\",\"ticker\":{\"id\":\"1153\"}},\"id\":\"1152\",\"type\":\"LinearAxis\"},{\"attributes\":{},\"id\":\"1153\",\"type\":\"BasicTicker\"},{\"attributes\":{\"end\":2.7641025251812406,\"reset_end\":2.7641025251812406,\"reset_start\":-2.6537241405910916,\"start\":-2.6537241405910916,\"tags\":[[[\"X\",\"X\",null]]]},\"id\":\"1139\",\"type\":\"Range1d\"},{\"attributes\":{\"coordinates\":null,\"data_source\":{\"id\":\"1180\"},\"glyph\":{\"id\":\"1183\"},\"group\":null,\"hover_glyph\":null,\"muted_glyph\":{\"id\":\"1185\"},\"nonselection_glyph\":{\"id\":\"1184\"},\"selection_glyph\":{\"id\":\"1188\"},\"view\":{\"id\":\"1187\"}},\"id\":\"1186\",\"type\":\"GlyphRenderer\"},{\"attributes\":{\"axis\":{\"id\":\"1152\"},\"coordinates\":null,\"grid_line_color\":null,\"group\":null,\"ticker\":null},\"id\":\"1155\",\"type\":\"Grid\"},{\"attributes\":{\"below\":[{\"id\":\"1152\"}],\"center\":[{\"id\":\"1155\"},{\"id\":\"1159\"}],\"height\":680,\"left\":[{\"id\":\"1156\"}],\"margin\":[5,5,5,5],\"min_border_bottom\":10,\"min_border_left\":10,\"min_border_right\":10,\"min_border_top\":10,\"renderers\":[{\"id\":\"1186\"},{\"id\":\"1195\"}],\"sizing_mode\":\"fixed\",\"title\":{\"id\":\"1144\"},\"toolbar\":{\"id\":\"1166\"},\"width\":900,\"x_range\":{\"id\":\"1139\"},\"x_scale\":{\"id\":\"1148\"},\"y_range\":{\"id\":\"1140\"},\"y_scale\":{\"id\":\"1150\"}},\"id\":\"1143\",\"subtype\":\"Figure\",\"type\":\"Plot\"},{\"attributes\":{\"margin\":[5,5,5,5],\"name\":\"HSpacer01049\",\"sizing_mode\":\"stretch_width\"},\"id\":\"1210\",\"type\":\"Spacer\"},{\"attributes\":{\"tools\":[{\"id\":\"1141\"},{\"id\":\"1142\"},{\"id\":\"1160\"},{\"id\":\"1161\"},{\"id\":\"1162\"},{\"id\":\"1163\"},{\"id\":\"1164\"}]},\"id\":\"1166\",\"type\":\"Toolbar\"},{\"attributes\":{},\"id\":\"1157\",\"type\":\"BasicTicker\"},{\"attributes\":{\"axis_label\":\"Y\",\"axis_label_text_font_size\":\"26px\",\"coordinates\":null,\"formatter\":{\"id\":\"1178\"},\"group\":null,\"major_label_policy\":{\"id\":\"1179\"},\"major_label_text_font_size\":\"22px\",\"ticker\":{\"id\":\"1157\"}},\"id\":\"1156\",\"type\":\"LinearAxis\"},{\"attributes\":{\"source\":{\"id\":\"1189\"}},\"id\":\"1196\",\"type\":\"CDSView\"},{\"attributes\":{\"angle\":{\"value\":0},\"text\":{\"field\":\"Word\"},\"text_align\":{\"value\":\"center\"},\"text_alpha\":{\"value\":1.0},\"text_baseline\":{\"value\":\"top\"},\"text_color\":{\"value\":\"black\"},\"text_font_style\":{\"value\":\"normal\"},\"text_line_height\":{\"value\":1.2},\"x\":{\"field\":\"X\"},\"x_offset\":{\"value\":0},\"y\":{\"field\":\"Y\"},\"y_offset\":{\"value\":0}},\"id\":\"1197\",\"type\":\"Text\"},{\"attributes\":{},\"id\":\"1181\",\"type\":\"Selection\"},{\"attributes\":{},\"id\":\"1205\",\"type\":\"UnionRenderers\"},{\"attributes\":{\"children\":[{\"id\":\"1138\"},{\"id\":\"1143\"},{\"id\":\"1210\"}],\"margin\":[0,0,0,0],\"name\":\"Row01044\",\"tags\":[\"embedded\"]},\"id\":\"1137\",\"type\":\"Row\"},{\"attributes\":{},\"id\":\"1176\",\"type\":\"AllLabels\"},{\"attributes\":{\"fill_alpha\":{\"value\":0.2},\"fill_color\":{\"value\":\"#4687b7\"},\"hatch_alpha\":{\"value\":0.2},\"hatch_color\":{\"value\":\"#4687b7\"},\"line_alpha\":{\"value\":0.2},\"line_color\":{\"value\":\"#4687b7\"},\"size\":{\"value\":5.477225575051661},\"x\":{\"field\":\"X\"},\"y\":{\"field\":\"Y\"}},\"id\":\"1185\",\"type\":\"Scatter\"},{\"attributes\":{},\"id\":\"1175\",\"type\":\"BasicTickFormatter\"},{\"attributes\":{\"data\":{\"Word\":[\"king\",\"queen\",\"oil\",\"gas\",\"happy\",\"sad\",\"city\",\"town\",\"village\",\"country\",\"continent\",\"joyful\"],\"X\":{\"__ndarray__\":\"GM5Uv00ZhL9tufm9du+NPklyvr8Bfra/KpPMP3olxz/mw2c/fTW3P93S0D5odKO/\",\"dtype\":\"float32\",\"order\":\"little\",\"shape\":[12]},\"Y\":{\"__ndarray__\":\"KHWJvf6U276SdPU/QTUSQP/A+b5yNRq/cb4Fv3oh1b7KFwK+XQ9evwGOnL4yB8G+\",\"dtype\":\"float32\",\"order\":\"little\",\"shape\":[12]}},\"selected\":{\"id\":\"1190\"},\"selection_policy\":{\"id\":\"1207\"}},\"id\":\"1189\",\"type\":\"ColumnDataSource\"},{\"attributes\":{},\"id\":\"1207\",\"type\":\"UnionRenderers\"},{\"attributes\":{\"callback\":null,\"renderers\":[{\"id\":\"1195\"}],\"tags\":[\"hv_created\"],\"tooltips\":[[\"X\",\"@{X}\"],[\"Y\",\"@{Y}\"],[\"Word\",\"@{Word}\"]]},\"id\":\"1142\",\"type\":\"HoverTool\"},{\"attributes\":{},\"id\":\"1160\",\"type\":\"SaveTool\"}],\"root_ids\":[\"1137\"]},\"title\":\"Bokeh Application\",\"version\":\"2.4.3\"}};\n",
       "    var render_items = [{\"docid\":\"bb623f0d-0905-48f8-abea-942c4a258a98\",\"root_ids\":[\"1137\"],\"roots\":{\"1137\":\"06c6f7e6-af1a-4e56-bf46-a59078ce5525\"}}];\n",
       "    root.Bokeh.embed.embed_items_notebook(docs_json, render_items);\n",
       "    for (const render_item of render_items) {\n",
       "      for (const root_id of render_item.root_ids) {\n",
       "\tconst id_el = document.getElementById(root_id)\n",
       "\tif (id_el.children.length && (id_el.children[0].className === 'bk-root')) {\n",
       "\t  const root_el = id_el.children[0]\n",
       "\t  root_el.id = root_el.id + '-rendered'\n",
       "\t}\n",
       "      }\n",
       "    }\n",
       "  }\n",
       "  if (root.Bokeh !== undefined && root.Bokeh.Panel !== undefined) {\n",
       "    embed_document(root);\n",
       "  } else {\n",
       "    var attempts = 0;\n",
       "    var timer = setInterval(function(root) {\n",
       "      if (root.Bokeh !== undefined && root.Bokeh.Panel !== undefined) {\n",
       "        clearInterval(timer);\n",
       "        embed_document(root);\n",
       "      } else if (document.readyState == \"complete\") {\n",
       "        attempts++;\n",
       "        if (attempts > 200) {\n",
       "          clearInterval(timer);\n",
       "          console.log(\"Bokeh: ERROR: Unable to run BokehJS code because BokehJS library is missing\");\n",
       "        }\n",
       "      }\n",
       "    }, 25, root)\n",
       "  }\n",
       "})(window);</script>"
      ],
      "text/plain": [
       ":Overlay\n",
       "   .Scatter.I :Scatter   [X]   (Y)\n",
       "   .Labels.I  :Labels   [X,Y]   (Word)"
      ]
     },
     "execution_count": 105,
     "metadata": {
      "application/vnd.holoviews_exec.v0+json": {
       "id": "1137"
      }
     },
     "output_type": "execute_result"
    }
   ],
   "source": [
    "plot"
   ]
  },
  {
   "cell_type": "code",
   "execution_count": null,
   "metadata": {},
   "outputs": [],
   "source": [
    "from gensim.test.utils import datapath\n",
    "from gensim.models.fasttext import load_facebook_model\n",
    "model = load_facebook_model(datapath('/home/ubuntu/amie-HelpBot/amie_helpbot/model_test/cc.ja.300.bin'))\n",
    "\n",
    "with open('/home/ubuntu/amie-HelpBot/amie_helpbot/model_test/1810/data/processed_texts.txt') as f:\n",
    "    lines = f.readlines()\n",
    "\n",
    "new_sent = []\n",
    "[new_sent.append(i.split()) for i in lines]\n",
    "\n",
    "model.build_vocab(new_sent, update=True)\n",
    "model.train(sentences=new_sent, total_examples=len(new_sent), epochs=5)\n",
    "model.save('trained.300.bin')\n",
    "\n",
    "\n",
    "from gensim.models import Word2Vec\n",
    "w = Word2Vec.load(\"trained.300.bin\")\n",
    "word_vec = w.wv\n",
    "word_vec.save('trained_300.vec')\n"
   ]
  },
  {
   "cell_type": "code",
   "execution_count": null,
   "metadata": {},
   "outputs": [],
   "source": []
  },
  {
   "cell_type": "code",
   "execution_count": null,
   "metadata": {},
   "outputs": [],
   "source": []
  },
  {
   "cell_type": "markdown",
   "metadata": {},
   "source": [
    "## Loading"
   ]
  },
  {
   "cell_type": "code",
   "execution_count": 14,
   "metadata": {},
   "outputs": [],
   "source": [
    "import numpy as np\n",
    "from gensim.models import KeyedVectors\n",
    "from gensim import models\n",
    "\n",
    "word2vec_path = '/home/ifte-home/work/resources/w2v_300/model.bin'\n",
    "w2v_model = models.KeyedVectors.load_word2vec_format(word2vec_path, binary=True)"
   ]
  },
  {
   "cell_type": "code",
   "execution_count": 18,
   "metadata": {
    "collapsed": true
   },
   "outputs": [
    {
     "data": {
      "text/plain": [
       "array([ 0.099807 ,  0.0051745,  0.0013675,  0.0234705, -0.0042555,\n",
       "       -0.0021525,  0.0138855,  0.002189 , -0.0247165,  0.047063 ,\n",
       "        0.0352565,  0.007039 ,  0.007992 , -0.0078635, -0.0332165,\n",
       "       -0.014593 , -0.023771 , -0.0133485,  0.0596435, -0.0729945,\n",
       "       -0.0260285, -0.024943 ,  0.0033605,  0.0993615, -0.0388315,\n",
       "        0.088591 , -0.0216135,  0.0118035,  0.076895 , -0.0853995,\n",
       "        0.013475 ,  0.086955 , -0.017773 ,  0.061952 , -0.0275875,\n",
       "        0.00107  , -0.0462345, -0.057961 ,  0.022148 ,  0.0703865,\n",
       "        0.039504 ,  0.0063135, -0.0389795,  0.042865 ,  0.0223755,\n",
       "        0.0096575, -0.0187345,  0.050197 , -0.038642 , -0.0230235,\n",
       "       -0.0450825,  0.0768665,  0.000289 , -0.055362 , -0.072812 ,\n",
       "        0.019706 , -0.077871 , -0.078717 , -0.0587805,  0.0376015,\n",
       "        0.0666355,  0.0726475, -0.029526 , -0.0005845,  0.0051035,\n",
       "       -0.033285 , -0.02231  , -0.0264125, -0.028492 ,  0.050821 ,\n",
       "       -0.0794915, -0.0285015,  0.063002 , -0.005341 , -0.0438975,\n",
       "       -0.047444 , -0.052406 ,  0.006333 ,  0.035997 ,  0.1219975,\n",
       "        0.012218 , -0.0568745,  0.045038 , -0.0669155,  0.01438  ,\n",
       "        0.024318 ,  0.006933 , -0.0343005, -0.04511  ,  0.043524 ,\n",
       "       -0.114394 , -0.0152295,  0.0552425,  0.0521245, -0.030447 ,\n",
       "        0.008416 , -0.0408975, -0.041232 ,  0.0538395,  0.0058125,\n",
       "        0.016025 , -0.0613535,  0.003156 ,  0.0282925, -0.088568 ,\n",
       "       -0.003625 , -0.0607725, -0.0619575,  0.003687 ,  0.106937 ,\n",
       "       -0.027352 ,  0.0848925, -0.002741 , -0.0127035, -0.0444435,\n",
       "        0.0019725,  0.036372 ,  0.048256 ,  0.0354585, -0.021384 ,\n",
       "       -0.0665165,  0.133265 , -0.029634 ,  0.0024595,  0.067149 ,\n",
       "        0.0122405,  0.010573 ,  0.0239185,  0.0243675, -0.002757 ,\n",
       "       -0.0224325, -0.002838 , -0.0017   ,  0.0013855,  0.029368 ,\n",
       "        0.0107395, -0.109314 , -0.056215 ,  0.090622 ,  0.024667 ,\n",
       "       -0.0365775,  0.0462295, -0.037753 ,  0.023365 , -0.0108505,\n",
       "       -0.011989 ,  0.007189 ,  0.0082295,  0.0334005,  0.1067825,\n",
       "        0.0411375,  0.053145 ,  0.022083 ,  0.0008535, -0.070558 ,\n",
       "        0.0040925,  0.0291685,  0.0004695,  0.016588 ,  0.000802 ,\n",
       "        0.1306735,  0.1316995, -0.042596 ,  0.0086795, -0.068574 ,\n",
       "        0.0079305, -0.040263 ,  0.016749 ,  0.0228085, -0.0206755,\n",
       "        0.0233915,  0.0143865, -0.0338785,  0.0133155,  0.103037 ,\n",
       "       -0.0797625,  0.001168 ,  0.0349565, -0.0049305, -0.0689395,\n",
       "        0.0074305,  0.0617805, -0.0042685,  0.0287205, -0.065758 ,\n",
       "        0.0266705, -0.042389 , -0.056075 , -0.085993 , -0.0188385,\n",
       "       -0.0571915, -0.039862 , -0.051679 , -0.0761835,  0.0891435,\n",
       "        0.0361885, -0.0930175,  0.022451 , -0.0822985, -0.058989 ,\n",
       "        0.0104025, -0.0064545, -0.1060705, -0.0369185,  0.0666735,\n",
       "       -0.028949 , -0.0870885,  0.000598 , -0.0006115,  0.04091  ,\n",
       "        0.047436 ,  0.1016315,  0.0018315, -0.019435 ,  0.020169 ,\n",
       "       -0.0354675,  0.0361385, -0.0246155,  0.0133565, -0.0116835,\n",
       "        0.031227 ,  0.0328475,  0.0801685,  0.0059105,  0.0368765,\n",
       "       -0.007492 , -0.042877 , -0.0282245,  0.080478 ,  0.024012 ,\n",
       "       -0.027759 ,  0.055065 ,  0.008623 , -0.0443145, -0.065717 ,\n",
       "       -0.006595 ,  0.0636685, -0.0242785, -0.0264415,  0.0074735,\n",
       "       -0.0131785,  0.011919 , -0.1136765, -0.013076 , -0.068269 ,\n",
       "        0.0266275, -0.049161 , -0.019247 , -0.0439485, -0.000419 ,\n",
       "       -0.0193705, -0.115802 , -0.097706 ,  0.0436425,  0.019847 ,\n",
       "        0.0783235,  0.0037325, -0.0358375,  0.0122815, -0.0571745,\n",
       "        0.0476905, -0.0015435, -0.089215 ,  0.103482 ,  0.003448 ,\n",
       "       -0.077947 , -0.0341375,  0.021872 ,  0.01114  , -0.0505705,\n",
       "       -0.040427 , -0.0341945, -0.0287915, -0.039545 ,  0.046897 ,\n",
       "       -0.0360515,  0.0295655,  0.0355025, -0.010111 , -0.050038 ,\n",
       "        0.090673 ,  0.039946 , -0.0170125,  0.1155165,  0.003831 ,\n",
       "        0.055366 , -0.0434845, -0.043327 , -0.0190815,  0.008618 ,\n",
       "        0.060684 ,  0.070307 ,  0.063797 ,  0.042775 , -0.071729 ,\n",
       "        0.0354955,  0.0070515,  0.0260815, -0.0362275,  0.0473995])"
      ]
     },
     "execution_count": 18,
     "metadata": {},
     "output_type": "execute_result"
    }
   ],
   "source": [
    "avg_sentence_vec('feel like', w2v_model)"
   ]
  },
  {
   "cell_type": "code",
   "execution_count": 19,
   "metadata": {},
   "outputs": [],
   "source": [
    "def cosine_sim(a, b):\n",
    "    return np.dot(a, b) / (np.linalg.norm(a) * np.linalg.norm(b))"
   ]
  },
  {
   "cell_type": "code",
   "execution_count": 11,
   "metadata": {},
   "outputs": [
    {
     "data": {
      "text/plain": [
       "[('alcoholism', 0.5386406183242798),\n",
       " ('bipolar', 0.5376881957054138),\n",
       " ('1930', 0.5367476344108582),\n",
       " ('anxiety', 0.5248644948005676),\n",
       " ('psychosis', 0.5229313969612122),\n",
       " ('depressive', 0.5120813846588135),\n",
       " ('manic-depression', 0.505470335483551),\n",
       " ('schizophrenia', 0.503425657749176),\n",
       " ('1930s', 0.4985997974872589),\n",
       " ('postpartum', 0.49737656116485596)]"
      ]
     },
     "execution_count": 11,
     "metadata": {},
     "output_type": "execute_result"
    }
   ],
   "source": [
    "w2v_model.most_similar(positive=['depression'], topn=10)"
   ]
  },
  {
   "cell_type": "code",
   "execution_count": 7,
   "metadata": {
    "collapsed": true
   },
   "outputs": [
    {
     "data": {
      "text/plain": [
       "array([-0.032239, -0.038598,  0.065033, -0.039873,  0.018795,  0.023296,\n",
       "        0.04842 , -0.13027 ,  0.010037,  0.116995, -0.083329, -0.019554,\n",
       "       -0.028747,  0.054575, -0.081104, -0.134971,  0.001219, -0.050914,\n",
       "        0.092552,  0.006815, -0.071115, -0.129863,  0.028538,  0.11956 ,\n",
       "       -0.002413, -0.010297, -0.00776 ,  0.064922, -0.087704,  0.028716,\n",
       "       -0.072479,  0.030825, -0.068559, -0.025799,  0.028184,  0.075053,\n",
       "       -0.06513 , -0.045668,  0.0244  , -0.036117, -0.036645,  0.029798,\n",
       "       -0.079034,  0.003262,  0.009539,  0.034887, -0.153954, -0.026047,\n",
       "       -0.063681, -0.06537 , -0.008745,  0.05282 ,  0.048677, -0.096541,\n",
       "       -0.024671, -0.039407, -0.005938, -0.111143, -0.00192 , -0.003461,\n",
       "       -0.003263,  0.146304, -0.004196, -0.022503, -0.047314,  0.02428 ,\n",
       "        0.019675,  0.132447,  0.047523, -0.010692, -0.13118 , -0.07081 ,\n",
       "       -0.052371, -0.021887, -0.051504, -0.073592, -0.052133,  0.077535,\n",
       "       -0.006845, -0.019664, -0.099965, -0.086803, -0.057626, -0.062294,\n",
       "        0.038015,  0.046632,  0.021529,  0.099279,  0.024374, -0.021581,\n",
       "       -0.023663, -0.012031, -0.025557, -0.022579, -0.060811, -0.035307,\n",
       "        0.170705,  0.034985, -0.071644,  0.034588, -0.029173, -0.106426,\n",
       "        0.035693, -0.048916, -0.049734,  0.042772, -0.058335, -0.047236,\n",
       "       -0.06777 ,  0.021066, -0.029273,  0.002841,  0.066913, -0.067298,\n",
       "        0.083285, -0.026073,  0.007209, -0.015954,  0.026919, -0.017864,\n",
       "       -0.022723, -0.028337,  0.021412,  0.034265,  0.001302,  0.049766,\n",
       "       -0.004168,  0.062208, -0.02197 ,  0.026758, -0.073539, -0.051431,\n",
       "       -0.018011,  0.033713, -0.027382, -0.063361, -0.094821,  0.017316,\n",
       "       -0.03854 ,  0.063332, -0.022041, -0.025832,  0.069147,  0.109074,\n",
       "       -0.016217,  0.069447,  0.004315,  0.014311,  0.013835,  0.109111,\n",
       "       -0.013313,  0.145855, -0.036949, -0.047992, -0.035301, -0.018483,\n",
       "       -0.001894, -0.036315, -0.081229, -0.046834, -0.029949, -0.005606,\n",
       "       -0.024962,  0.084403,  0.004541, -0.063669, -0.016096, -0.062289,\n",
       "        0.021643,  0.01916 ,  0.022544, -0.032213, -0.029366,  0.06126 ,\n",
       "       -0.061791, -0.006952,  0.07839 , -0.057048, -0.090973, -0.023945,\n",
       "       -0.06889 , -0.038807, -0.055127, -0.09393 , -0.014529, -0.037777,\n",
       "        0.089008, -0.007248,  0.024899, -0.048347, -0.014583, -0.002629,\n",
       "       -0.051605,  0.048549, -0.071297,  0.0152  , -0.055408, -0.04049 ,\n",
       "       -0.023363, -0.03836 ,  0.058729, -0.014347,  0.065828, -0.014357,\n",
       "        0.104913, -0.184104, -0.091283,  0.050605,  0.014226, -0.05729 ,\n",
       "        0.01843 ,  0.072293,  0.077066, -0.030974,  0.052112, -0.077348,\n",
       "        0.073076,  0.031604, -0.031567, -0.025078,  0.009431, -0.05626 ,\n",
       "        0.010107, -0.008404, -0.038062,  0.015445,  0.103012,  0.051913,\n",
       "        0.006283, -0.016892, -0.010283,  0.094891, -0.020804,  0.040467,\n",
       "        0.046239,  0.017245,  0.041153,  0.038516,  0.053387,  0.029342,\n",
       "       -0.030767, -0.031818,  0.064917, -0.002909,  0.01255 ,  0.041389,\n",
       "        0.013591, -0.007122, -0.068364, -0.059316, -0.077644, -0.028382,\n",
       "       -0.0286  , -0.082883,  0.028151,  0.047355, -0.007231,  0.04089 ,\n",
       "        0.026764, -0.123693,  0.101658,  0.007497, -0.04621 ,  0.069609,\n",
       "       -0.044559, -0.03641 , -0.041631,  0.154038,  0.022356, -0.061047,\n",
       "       -0.050339, -0.057568, -0.004045, -0.050596,  0.027727, -0.019271,\n",
       "        0.084592, -0.058721, -0.107904, -0.013209,  0.041931,  0.080041,\n",
       "       -0.045304,  0.047535,  0.107569,  0.067879,  0.00233 , -0.042153,\n",
       "        0.059909,  0.016729,  0.043464,  0.111992,  0.020455, -0.04649 ,\n",
       "       -0.000285, -0.045341,  0.040553, -0.033765, -0.024619,  0.098734],\n",
       "      dtype=float32)"
      ]
     },
     "execution_count": 7,
     "metadata": {},
     "output_type": "execute_result"
    }
   ],
   "source": [
    "w2v_model.get_vector('depression')"
   ]
  },
  {
   "cell_type": "code",
   "execution_count": 1,
   "metadata": {},
   "outputs": [],
   "source": [
    "from gensim.models import KeyedVectors\n",
    "from gensim.test.utils import common_texts, get_tmpfile"
   ]
  },
  {
   "cell_type": "code",
   "execution_count": 4,
   "metadata": {},
   "outputs": [],
   "source": [
    "k = KeyedVectors.load('/home/hduser_/Downloads/1810/trained_300.vec')"
   ]
  },
  {
   "cell_type": "code",
   "execution_count": null,
   "metadata": {},
   "outputs": [],
   "source": [
    "k.wv['x']"
   ]
  },
  {
   "cell_type": "markdown",
   "metadata": {},
   "source": [
    "## collect vector"
   ]
  },
  {
   "cell_type": "code",
   "execution_count": 7,
   "metadata": {},
   "outputs": [],
   "source": [
    "with open('/home/hduser_/Downloads/1810/data/processed_texts.txt') as f:\n",
    "    lines = f.readlines()"
   ]
  },
  {
   "cell_type": "code",
   "execution_count": 16,
   "metadata": {},
   "outputs": [],
   "source": [
    "def avg_sentence_vec(text, model):\n",
    "    sum_vec = np.zeros(300)\n",
    "    word_count = 0\n",
    "    for items in text.split():\n",
    "        try: \n",
    "            temp = model.get_vector(items)\n",
    "        except KeyError:\n",
    "            temp = 0\n",
    "        sum_vec += temp\n",
    "        word_count += 1\n",
    "    return sum_vec / word_count\n"
   ]
  },
  {
   "cell_type": "code",
   "execution_count": 14,
   "metadata": {},
   "outputs": [
    {
     "name": "stderr",
     "output_type": "stream",
     "text": [
      "/home/iftekhar/amiebot/experiment_env/lib/python3.6/site-packages/ipykernel_launcher.py:7: DeprecationWarning: Call to deprecated `wv` (Attribute will be removed in 4.0.0, use self instead).\n",
      "  import sys\n"
     ]
    }
   ],
   "source": [
    "collect = []\n",
    "for items in lines:\n",
    "    collect.append(get_vector(items))"
   ]
  },
  {
   "cell_type": "code",
   "execution_count": 16,
   "metadata": {},
   "outputs": [],
   "source": [
    "import _pickle as pickle\n",
    "def dump_to_file(file_path, data):\n",
    "    with open(file_path, 'wb') as output_file:\n",
    "        pickle.dump(data, output_file)\n"
   ]
  },
  {
   "cell_type": "code",
   "execution_count": 17,
   "metadata": {},
   "outputs": [],
   "source": [
    "dump_to_file('vectors_300.pkl', collect)"
   ]
  },
  {
   "cell_type": "code",
   "execution_count": 3,
   "metadata": {},
   "outputs": [],
   "source": [
    "wv_from_text = word2vec.Word2Vec.load('/home/ifte/alechat_core/assets/wikipedia_w2v/en_wiki_w2v_dim_100_voc_1000000.model')  # C text format\n"
   ]
  },
  {
   "cell_type": "code",
   "execution_count": 7,
   "metadata": {},
   "outputs": [],
   "source": [
    "path = get_tmpfile(\"/home/ifte/alechat_core/assets/wikipedia_w2v/en_wiki_w2v_dim_100_voc_1000000.kv\")"
   ]
  },
  {
   "cell_type": "code",
   "execution_count": 8,
   "metadata": {},
   "outputs": [],
   "source": [
    "# path = \"home/ifte/alechat_core/assets/wikipedia_w2v/en_wiki_w2v_dim_100_voc_1000000.model.wv\"\n",
    "wv_from_text.wv.save(path)\n",
    "# wv = KeyedVectors.load(\"model.wv\", mmap='r')\n",
    "# vector = wv['computer']  # numpy vector of a word"
   ]
  },
  {
   "cell_type": "code",
   "execution_count": 2,
   "metadata": {},
   "outputs": [],
   "source": [
    "# model = word2vec.Word2Vec.load(\"/home/ifte/resource/wikiextractor/wikidata/wiki_w2v_dim_100_voc_1000000.model\") # これはダウンロードしたやつ\n",
    "# print(model.corpus_count)\n",
    "en_wiki_w2v_dim_100_voc_1000000.model.wv.vectors.npy\n",
    "en_wiki_w2v_dim_100_voc_1000000.model.wv.vectors.npy"
   ]
  },
  {
   "cell_type": "code",
   "execution_count": 2,
   "metadata": {},
   "outputs": [],
   "source": [
    "# model = word2vec.Word2Vec.load(\"/home/ifte/resource/wikiextractor/wikidata/eng/en_wiki_w2v_dim_100_voc_1000000.model\") # これはダウンロードしたやつ\n",
    "model = word2vec.Word2Vec.load(\"/home/ifte/resource/wikiextractor/wikidata/eng/en_wiki_w2v_dim_100_voc_1000000.model\") # これはダウンロードしたやつ"
   ]
  },
  {
   "cell_type": "code",
   "execution_count": 4,
   "metadata": {},
   "outputs": [
    {
     "data": {
      "text/plain": [
       "[('jobs', 0.7071852684020996),\n",
       " ('employment', 0.613107442855835),\n",
       " ('receptionist', 0.6007806658744812),\n",
       " ('employee', 0.5998069047927856),\n",
       " ('liking', 0.5908795595169067),\n",
       " ('coworker', 0.5703909993171692),\n",
       " ('quits', 0.5682342648506165),\n",
       " ('janitor', 0.567145824432373),\n",
       " ('assistant', 0.5660017728805542),\n",
       " ('fulltime', 0.5539208650588989),\n",
       " ('advice', 0.551762580871582),\n",
       " ('secretarial', 0.5490992069244385),\n",
       " ('quitting', 0.5443965196609497),\n",
       " ('intern', 0.541365385055542),\n",
       " ('waiter', 0.536011815071106),\n",
       " ('sabbatical', 0.5354043841362),\n",
       " ('opportunity', 0.5305323004722595),\n",
       " ('salary', 0.5269986987113953),\n",
       " ('jobless', 0.5267811417579651),\n",
       " ('assignment', 0.525550127029419)]"
      ]
     },
     "execution_count": 4,
     "metadata": {},
     "output_type": "execute_result"
    }
   ],
   "source": [
    "model.wv.most_similar(positive=['job'], topn=20)"
   ]
  },
  {
   "cell_type": "code",
   "execution_count": 3,
   "metadata": {},
   "outputs": [],
   "source": [
    "from gensim.models import KeyedVectors\n",
    "\n",
    "\n",
    "# model = KeyedVectors.load_word2vec_format('/home/ifte/resource/wikiextractor/cc.ja.300.vec')\n",
    "model = KeyedVectors.load_word2vec_format('/home/ifte/resource/wikiextractor/wikidata/eng')"
   ]
  }
 ],
 "metadata": {
  "kernelspec": {
   "display_name": "Python 3 (ipykernel)",
   "language": "python",
   "name": "python3"
  },
  "language_info": {
   "codemirror_mode": {
    "name": "ipython",
    "version": 3
   },
   "file_extension": ".py",
   "mimetype": "text/x-python",
   "name": "python",
   "nbconvert_exporter": "python",
   "pygments_lexer": "ipython3",
   "version": "3.7.15"
  }
 },
 "nbformat": 4,
 "nbformat_minor": 4
}
