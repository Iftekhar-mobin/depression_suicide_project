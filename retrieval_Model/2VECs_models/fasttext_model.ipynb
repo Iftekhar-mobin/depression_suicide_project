{
 "cells": [
  {
   "cell_type": "code",
   "execution_count": 1,
   "metadata": {},
   "outputs": [],
   "source": [
    "from gensim.models import KeyedVectors\n",
    "from gensim.models.fasttext import load_facebook_vectors\n",
    "import fasttext"
   ]
  },
  {
   "cell_type": "code",
   "execution_count": null,
   "metadata": {},
   "outputs": [],
   "source": [
    "reloaded_word_vectors = KeyedVectors.load_word2vec_format('/home/ifte/resource/wikiextractor/wikidata/eng/fasttext.model.vec')"
   ]
  },
  {
   "cell_type": "code",
   "execution_count": 4,
   "metadata": {},
   "outputs": [
    {
     "data": {
      "text/plain": [
       "[('rehires', 0.825212299823761),\n",
       " ('receptionist', 0.8048514127731323),\n",
       " ('quitting', 0.7971461415290833),\n",
       " ('intern', 0.7922916412353516),\n",
       " ('getting', 0.7847103476524353),\n",
       " ('betterpaying', 0.7835544943809509),\n",
       " ('jobs', 0.7829914093017578),\n",
       " ('quit', 0.7793586850166321),\n",
       " ('quits', 0.7776607871055603),\n",
       " ('salesperson', 0.7694800496101379),\n",
       " ('assistant', 0.7684074640274048),\n",
       " ('rehired', 0.7683383822441101),\n",
       " ('accountant', 0.7682539820671082),\n",
       " ('exteacher', 0.7676882147789001),\n",
       " ('janitor', 0.7674114108085632),\n",
       " ('dayjob', 0.7649158239364624),\n",
       " ('flunked', 0.7641118168830872),\n",
       " ('secretarial', 0.7619057893753052),\n",
       " ('lowpaying', 0.7580212950706482),\n",
       " ('rehire', 0.7578116059303284)]"
      ]
     },
     "execution_count": 4,
     "metadata": {},
     "output_type": "execute_result"
    }
   ],
   "source": [
    "reloaded_word_vectors.most_similar('job', topn=20)"
   ]
  },
  {
   "cell_type": "code",
   "execution_count": 1,
   "metadata": {},
   "outputs": [],
   "source": [
    "from gensim.models import fasttext\n"
   ]
  },
  {
   "cell_type": "code",
   "execution_count": 2,
   "metadata": {},
   "outputs": [],
   "source": [
    "m = fasttext.load_facebook_model('/home/ifte/resource/wikiextractor/wikidata/eng/fasttext.model.bin')"
   ]
  },
  {
   "cell_type": "code",
   "execution_count": 3,
   "metadata": {},
   "outputs": [
    {
     "name": "stderr",
     "output_type": "stream",
     "text": [
      "/home/ifte/environments/experiment_env/lib/python3.6/site-packages/ipykernel_launcher.py:1: DeprecationWarning: Call to deprecated `most_similar` (Method will be removed in 4.0.0, use self.wv.most_similar() instead).\n",
      "  \"\"\"Entry point for launching an IPython kernel.\n"
     ]
    },
    {
     "data": {
      "text/plain": [
       "[('rabbit', 0.9152184128761292),\n",
       " ('cats', 0.8983899354934692),\n",
       " ('dog', 0.8909075260162354),\n",
       " ('beagle', 0.8861777186393738),\n",
       " ('fox', 0.8854079842567444),\n",
       " ('weasel', 0.8816766738891602),\n",
       " ('raccoon', 0.8808373212814331),\n",
       " ('kitten', 0.875144898891449),\n",
       " ('monkey', 0.872164249420166),\n",
       " ('pet', 0.8677222728729248)]"
      ]
     },
     "execution_count": 3,
     "metadata": {},
     "output_type": "execute_result"
    }
   ],
   "source": [
    "m.most_similar('cat')"
   ]
  }
 ],
 "metadata": {
  "kernelspec": {
   "display_name": "Python 3",
   "language": "python",
   "name": "python3"
  },
  "language_info": {
   "codemirror_mode": {
    "name": "ipython",
    "version": 3
   },
   "file_extension": ".py",
   "mimetype": "text/x-python",
   "name": "python",
   "nbconvert_exporter": "python",
   "pygments_lexer": "ipython3",
   "version": "3.6.9"
  }
 },
 "nbformat": 4,
 "nbformat_minor": 4
}
