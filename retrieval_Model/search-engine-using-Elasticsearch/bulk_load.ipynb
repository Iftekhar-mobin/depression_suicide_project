{
 "cells": [
  {
   "cell_type": "code",
   "execution_count": 20,
   "metadata": {},
   "outputs": [],
   "source": [
    "from elasticsearch import Elasticsearch\n",
    "from elasticsearch import helpers"
   ]
  },
  {
   "cell_type": "code",
   "execution_count": 21,
   "metadata": {},
   "outputs": [],
   "source": [
    "es = Elasticsearch(\"localhost:9200\", http_compress=True)"
   ]
  },
  {
   "cell_type": "code",
   "execution_count": 23,
   "metadata": {},
   "outputs": [
    {
     "data": {
      "text/plain": [
       "['page', 'title', 'text', 'key_phrase']"
      ]
     },
     "execution_count": 23,
     "metadata": {},
     "output_type": "execute_result"
    }
   ],
   "source": [
    "df.columns.values.tolist()"
   ]
  },
  {
   "cell_type": "code",
   "execution_count": 27,
   "metadata": {},
   "outputs": [],
   "source": [
    "import pandas as pd\n",
    "df = pd.read_csv('docomo_cleaned.csv')\n",
    "# df = pd.read_csv('Shimizu_cleaned.csv') "
   ]
  },
  {
   "cell_type": "code",
   "execution_count": 13,
   "metadata": {},
   "outputs": [
    {
     "data": {
      "text/plain": [
       "Index(['Unnamed: 0', 'page', 'title', 'text'], dtype='object')"
      ]
     },
     "execution_count": 13,
     "metadata": {},
     "output_type": "execute_result"
    }
   ],
   "source": [
    "df.columns"
   ]
  },
  {
   "cell_type": "code",
   "execution_count": 30,
   "metadata": {},
   "outputs": [
    {
     "data": {
      "text/plain": [
       "Unnamed: 0    0\n",
       "page          0\n",
       "title         0\n",
       "text          0\n",
       "key_phrase    0\n",
       "dtype: int64"
      ]
     },
     "execution_count": 30,
     "metadata": {},
     "output_type": "execute_result"
    }
   ],
   "source": [
    "df.isnull().sum()"
   ]
  },
  {
   "cell_type": "code",
   "execution_count": 29,
   "metadata": {},
   "outputs": [],
   "source": [
    "df = df.fillna('0')"
   ]
  },
  {
   "cell_type": "code",
   "execution_count": 17,
   "metadata": {},
   "outputs": [],
   "source": [
    "use_these_keys = df.columns.values.tolist()\n",
    "# use_these_keys = ['page', 'title', 'text']\n",
    "def filterKeys(document):\n",
    "    return {key: document[key] for key in use_these_keys }"
   ]
  },
  {
   "cell_type": "code",
   "execution_count": 31,
   "metadata": {},
   "outputs": [],
   "source": [
    "def doc_generator(df, index_name):\n",
    "    df_iter = df.iterrows()\n",
    "    i = 0\n",
    "    for index, document in df_iter:\n",
    "        yield {\n",
    "                \"_index\": index_name,\n",
    "                \"_type\": \"_doc\",\n",
    "                \"_id\" : f\"{document['page']}\",\n",
    "                \"_source\": filterKeys(document),\n",
    "            }\n",
    "#         print('ok:', i)\n",
    "        i += 1 \n",
    "#     raise StopIteration\n"
   ]
  },
  {
   "cell_type": "code",
   "execution_count": 26,
   "metadata": {},
   "outputs": [
    {
     "name": "stderr",
     "output_type": "stream",
     "text": [
      "/home/iftekhar/amiebot/experiment_env/lib/python3.6/site-packages/elasticsearch/connection/base.py:200: ElasticsearchWarning: [types removal] Specifying types in bulk requests is deprecated.\n",
      "  warnings.warn(message, category=ElasticsearchWarning)\n"
     ]
    },
    {
     "data": {
      "text/plain": [
       "(2957, [])"
      ]
     },
     "execution_count": 26,
     "metadata": {},
     "output_type": "execute_result"
    }
   ],
   "source": [
    "helpers.bulk(es, doc_generator(df, 'shimuzu'))"
   ]
  },
  {
   "cell_type": "code",
   "execution_count": 32,
   "metadata": {},
   "outputs": [
    {
     "data": {
      "text/plain": [
       "(1364, [])"
      ]
     },
     "execution_count": 32,
     "metadata": {},
     "output_type": "execute_result"
    }
   ],
   "source": [
    "helpers.bulk(es, doc_generator(df, 'docomo'))"
   ]
  },
  {
   "cell_type": "markdown",
   "metadata": {},
   "source": [
    "### Preprocessing is happening below"
   ]
  },
  {
   "cell_type": "code",
   "execution_count": 2,
   "metadata": {},
   "outputs": [],
   "source": [
    "import pandas as pd\n",
    "import MeCab\n",
    "import re\n",
    "import random\n",
    "from pathlib import Path\n",
    "\n",
    "\n",
    "mecab = MeCab.Tagger('-Owakati')"
   ]
  },
  {
   "cell_type": "code",
   "execution_count": 1,
   "metadata": {},
   "outputs": [],
   "source": [
    "def single_character_remover(text):\n",
    "    collector = []\n",
    "    for items in text.split():\n",
    "        if len(items) < 2:\n",
    "            replaced = re.sub(r'[ぁ-んァ-ン]', '', items)\n",
    "            replaced = re.sub(r'[A-Za-z]', '', replaced)\n",
    "            replaced = re.sub(r'[0-9]', '', replaced)\n",
    "            collector.append(replaced)\n",
    "        else:\n",
    "            collector.append(items)\n",
    "\n",
    "    return ' '.join([temp.strip(' ') for temp in collector])\n",
    "\n",
    "def get_stop_word_ja():\n",
    "    stop_word_file = Path(\"/home/iftekhar/amiecore_fresh/amieCore/amie_core/core/tokenizer/stopwords/stop_word_ja.txt\")\n",
    "    with open(stop_word_file, encoding='utf-8') as f:\n",
    "        stop_word_list = f.read().splitlines()\n",
    "    return stop_word_list\n",
    "\n",
    "def mecab_tokenization(text):\n",
    "    q = mecab.parse(text)\n",
    "    q_parts = q.split()\n",
    "    return ' '.join([word for word in q_parts if not word in get_stop_word_ja()])\n",
    "\n",
    "def cleaner(text):\n",
    "    collector = []\n",
    "    for items in text.split():\n",
    "        cleaned = clean_text(items)\n",
    "        cleaned = re.sub(r\"\\s+\", '', cleaned)\n",
    "        if cleaned is not '' or cleaned is not ' ':\n",
    "            collector.append(clean_text(items))\n",
    "    return ' '.join(collector)\n",
    "\n",
    "def clean_text(text):\n",
    "    replaced = text.replace(\"\\\\\", \"\")\n",
    "    replaced = replaced.replace(\"+\", \"\")\n",
    "    replaced = re.sub('_', '', replaced)\n",
    "    replaced = re.sub('\\W+', ' ', replaced)\n",
    "    replaced = re.sub(r'￥', '', replaced)  # 【】の除去\n",
    "    replaced = re.sub(r'．', '', replaced)  # ・ の除去\n",
    "    replaced = re.sub(r'｣', '', replaced)  # （）の除去\n",
    "    replaced = re.sub(r'｢', '', replaced)  # ［］の除去\n",
    "    replaced = re.sub(r'～', '', replaced)  # メンションの除去\n",
    "    replaced = re.sub(r'｜', '', replaced)  # URLの除去\n",
    "    replaced = re.sub(r'＠', '', replaced)  # 全角空白の除去\n",
    "    replaced = re.sub(r'？', '', replaced)  # 数字の除去\n",
    "    replaced = re.sub(r'％', '', replaced)\n",
    "    replaced = re.sub(r'＝', '', replaced)\n",
    "    replaced = re.sub(r'！', '', replaced)\n",
    "    replaced = re.sub(r'｝', '', replaced)\n",
    "    replaced = re.sub(r'：', '', replaced)\n",
    "    replaced = re.sub(r'－', '', replaced)\n",
    "    replaced = re.sub(r'･', '', replaced)\n",
    "    replaced = re.sub(r'ｔ', '', replaced)\n",
    "    replaced = re.sub(r'ｋ', '', replaced)\n",
    "    replaced = re.sub(r'ｄ', '', replaced)\n",
    "    replaced = re.sub(r'\\d+', '', replaced)\n",
    "    return replaced\n",
    "\n",
    "def corpus_preprocessing(dataset):\n",
    "    dataset.text = dataset.text.apply(lambda x: mecab_tokenization(x))\n",
    "    dataset.text = dataset.text.apply(lambda x: cleaner(x))\n",
    "    dataset.text = dataset.text.apply(lambda x: single_character_remover(x))\n",
    "    dataset.title = dataset.title.apply(lambda x: mecab_tokenization(x))\n",
    "    dataset.title = dataset.title.apply(lambda x: cleaner(x))\n",
    "    dataset.title = dataset.title.apply(lambda x: single_character_remover(x))\n",
    "    return dataset"
   ]
  },
  {
   "cell_type": "code",
   "execution_count": 6,
   "metadata": {},
   "outputs": [],
   "source": [
    "import pandas as pd"
   ]
  },
  {
   "cell_type": "code",
   "execution_count": 7,
   "metadata": {},
   "outputs": [],
   "source": [
    "df = pd.read_csv('/home/iftekhar/amiebot/Resources/amiebot_dataset/shimizu/data/merged_corpus.csv')"
   ]
  },
  {
   "cell_type": "code",
   "execution_count": 8,
   "metadata": {},
   "outputs": [
    {
     "data": {
      "text/html": [
       "<div>\n",
       "<style scoped>\n",
       "    .dataframe tbody tr th:only-of-type {\n",
       "        vertical-align: middle;\n",
       "    }\n",
       "\n",
       "    .dataframe tbody tr th {\n",
       "        vertical-align: top;\n",
       "    }\n",
       "\n",
       "    .dataframe thead th {\n",
       "        text-align: right;\n",
       "    }\n",
       "</style>\n",
       "<table border=\"1\" class=\"dataframe\">\n",
       "  <thead>\n",
       "    <tr style=\"text-align: right;\">\n",
       "      <th></th>\n",
       "      <th>page</th>\n",
       "      <th>title</th>\n",
       "      <th>text</th>\n",
       "    </tr>\n",
       "  </thead>\n",
       "  <tbody>\n",
       "    <tr>\n",
       "      <th>0</th>\n",
       "      <td>0</td>\n",
       "      <td>【施工管理標準】ME-10　冷媒用銅管_TAG_設備工事_空調設備_給排水衛生設備.pdf</td>\n",
       "      <td>施工管理標準   ME  冷媒用銅管 接合 保温     年 月 日  凡例  赤の文字 ...</td>\n",
       "    </tr>\n",
       "    <tr>\n",
       "      <th>1</th>\n",
       "      <td>1</td>\n",
       "      <td>【施工管理標準】ME-10　冷媒用銅管_TAG_設備工事_空調設備_給排水衛生設備.pdf</td>\n",
       "      <td>施工管理の内容  同 解説  業者の 検査を 確認  清水 建設 検査  記録方法  保管...</td>\n",
       "    </tr>\n",
       "    <tr>\n",
       "      <th>2</th>\n",
       "      <td>2</td>\n",
       "      <td>【施工管理標準】ME-10　冷媒用銅管_TAG_設備工事_空調設備_給排水衛生設備.pdf</td>\n",
       "      <td>施工管理の内容  同 解説内は外れた場合の処置  業者の 検査を 確認  清水 建設 検査...</td>\n",
       "    </tr>\n",
       "    <tr>\n",
       "      <th>3</th>\n",
       "      <td>3</td>\n",
       "      <td>【施工管理標準】ME-10　冷媒用銅管_TAG_設備工事_空調設備_給排水衛生設備.pdf</td>\n",
       "      <td>ロックジョイント  おっぞんくん  RGジョイント  ファイアレスジョイント  ARジョイ...</td>\n",
       "    </tr>\n",
       "    <tr>\n",
       "      <th>4</th>\n",
       "      <td>4</td>\n",
       "      <td>【施工管理標準】ME-10　冷媒用銅管_TAG_設備工事_空調設備_給排水衛生設備.pdf</td>\n",
       "      <td>施工管理の内容  同 解説内は外れた場合の処置  業者の 検査を 確認  清水 建設 検査...</td>\n",
       "    </tr>\n",
       "  </tbody>\n",
       "</table>\n",
       "</div>"
      ],
      "text/plain": [
       "   page                                          title  \\\n",
       "0     0  【施工管理標準】ME-10　冷媒用銅管_TAG_設備工事_空調設備_給排水衛生設備.pdf   \n",
       "1     1  【施工管理標準】ME-10　冷媒用銅管_TAG_設備工事_空調設備_給排水衛生設備.pdf   \n",
       "2     2  【施工管理標準】ME-10　冷媒用銅管_TAG_設備工事_空調設備_給排水衛生設備.pdf   \n",
       "3     3  【施工管理標準】ME-10　冷媒用銅管_TAG_設備工事_空調設備_給排水衛生設備.pdf   \n",
       "4     4  【施工管理標準】ME-10　冷媒用銅管_TAG_設備工事_空調設備_給排水衛生設備.pdf   \n",
       "\n",
       "                                                text  \n",
       "0   施工管理標準   ME  冷媒用銅管 接合 保温     年 月 日  凡例  赤の文字 ...  \n",
       "1   施工管理の内容  同 解説  業者の 検査を 確認  清水 建設 検査  記録方法  保管...  \n",
       "2   施工管理の内容  同 解説内は外れた場合の処置  業者の 検査を 確認  清水 建設 検査...  \n",
       "3   ロックジョイント  おっぞんくん  RGジョイント  ファイアレスジョイント  ARジョイ...  \n",
       "4   施工管理の内容  同 解説内は外れた場合の処置  業者の 検査を 確認  清水 建設 検査...  "
      ]
     },
     "execution_count": 8,
     "metadata": {},
     "output_type": "execute_result"
    }
   ],
   "source": [
    "df.head()"
   ]
  },
  {
   "cell_type": "code",
   "execution_count": 9,
   "metadata": {},
   "outputs": [],
   "source": [
    "df = corpus_preprocessing(df)"
   ]
  },
  {
   "cell_type": "code",
   "execution_count": 10,
   "metadata": {},
   "outputs": [],
   "source": [
    "df.to_csv('Shimizu_cleaned.csv')"
   ]
  }
 ],
 "metadata": {
  "kernelspec": {
   "display_name": "Python 3",
   "language": "python",
   "name": "python3"
  },
  "language_info": {
   "codemirror_mode": {
    "name": "ipython",
    "version": 3
   },
   "file_extension": ".py",
   "mimetype": "text/x-python",
   "name": "python",
   "nbconvert_exporter": "python",
   "pygments_lexer": "ipython3",
   "version": "3.6.9"
  }
 },
 "nbformat": 4,
 "nbformat_minor": 4
}
