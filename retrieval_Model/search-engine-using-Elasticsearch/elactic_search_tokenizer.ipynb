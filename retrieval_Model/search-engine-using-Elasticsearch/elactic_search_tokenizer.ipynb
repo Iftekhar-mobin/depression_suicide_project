{
 "cells": [
  {
   "cell_type": "code",
   "execution_count": 1,
   "metadata": {},
   "outputs": [],
   "source": [
    "import requests\n",
    "import json"
   ]
  },
  {
   "cell_type": "code",
   "execution_count": 7,
   "metadata": {},
   "outputs": [
    {
     "data": {
      "text/plain": [
       "'{\"acknowledged\":true,\"shards_acknowledged\":true,\"index\":\"dataset\"}'"
      ]
     },
     "execution_count": 7,
     "metadata": {},
     "output_type": "execute_result"
    }
   ],
   "source": [
    "API_ENDPOINT = \"http://127.0.0.1:9200/dataset\"\n",
    "headers = {'Content-type': 'application/json'}\n",
    "data = {\n",
    "  \"settings\": {\n",
    "    \"analysis\": {\n",
    "      \"analyzer\": {\n",
    "        \"my_kuromoji_analyzer\": {\n",
    "          \"type\": \"custom\",\n",
    "          \"tokenizer\": \"kuromoji_tokenizer\"\n",
    "        }\n",
    "      }\n",
    "    }\n",
    "  }\n",
    "}\n",
    "\n",
    "r = requests.put(url = API_ENDPOINT, data=json.dumps(data), headers=headers) \n",
    "r.text"
   ]
  },
  {
   "cell_type": "code",
   "execution_count": 12,
   "metadata": {},
   "outputs": [],
   "source": [
    "data = {\"analyzer\": \"my_kuromoji_analyzer\", \"text\": \"吾輩は猫である。\"}\n",
    "API_ENDPOINT = \"http://127.0.0.1:9200/dataset/_analyze\"\n",
    "headers = {'Content-type': 'application/json'}\n",
    "r = requests.post(url = API_ENDPOINT, data=json.dumps(data), headers=headers) \n",
    "r.text"
   ]
  },
  {
   "cell_type": "markdown",
   "metadata": {},
   "source": [
    "### Japanese Analyzer Setup"
   ]
  },
  {
   "cell_type": "code",
   "execution_count": 31,
   "metadata": {},
   "outputs": [],
   "source": [
    "x = {\n",
    "    \"settings\": {\n",
    "        \"analysis\": {\n",
    "            \"analyzer\": {\n",
    "                \"my_kuromoji_analyzer\": {\n",
    "                    \"type\": \"custom\",\n",
    "                    \"char_filter\" : [\"icu_normalizer\", \"kuromoji_iteration_mark\"],\n",
    "                    \"tokenizer\": \"kuromoji_tokenizer\",\n",
    "                    \"filter\": [\"kuromoji_baseform\", \"kuromoji_part_of_speech\", \"kuromoji_stemmer\", \"my_synonym_penguin_filter\", \"my_stop_filter\"]\n",
    "                }\n",
    "            },\n",
    "            \"filter\": {\n",
    "                \"my_synonym_penguin_filter\": {\n",
    "                    \"type\": \"synonym\",\n",
    "                    \"synonyms\": [\"コウテイペンギン,ペンギン\"]\n",
    "                },\n",
    "                \"my_stop_filter\": {\n",
    "                    \"type\": \"stop\",\n",
    "                    \"stopwords\": [\"いい\", \"もの\", \"ある\", \"いう\", \"それ\", \"いる\"]\n",
    "                }\n",
    "            }\n",
    "        }\n",
    "    }\n",
    "}"
   ]
  },
  {
   "cell_type": "code",
   "execution_count": 32,
   "metadata": {},
   "outputs": [
    {
     "data": {
      "text/plain": [
       "'{\"acknowledged\":true,\"shards_acknowledged\":true,\"index\":\"dataset\"}'"
      ]
     },
     "execution_count": 32,
     "metadata": {},
     "output_type": "execute_result"
    }
   ],
   "source": [
    "API_ENDPOINT = \"http://127.0.0.1:9200/dataset\"\n",
    "headers = {'Content-type': 'application/json'}\n",
    "r = requests.put(url = API_ENDPOINT, data=json.dumps(x), headers=headers) \n",
    "r.text"
   ]
  },
  {
   "cell_type": "code",
   "execution_count": 34,
   "metadata": {},
   "outputs": [],
   "source": [
    "d = {\n",
    "\"analyzer\": \"my_kuromoji_analyzer\",\n",
    "\"text\": \"コウテイペンギンは体格のいいものは１３０㌢あるという。僕は度々、コンピューターでそれを見て和んでいる\"\n",
    "}"
   ]
  },
  {
   "cell_type": "code",
   "execution_count": 35,
   "metadata": {},
   "outputs": [
    {
     "data": {
      "text/plain": [
       "'{\"tokens\":[{\"token\":\"コウテイペンギン\",\"start_offset\":0,\"end_offset\":8,\"type\":\"word\",\"position\":0},{\"token\":\"ペンギン\",\"start_offset\":0,\"end_offset\":8,\"type\":\"SYNONYM\",\"position\":0},{\"token\":\"体格\",\"start_offset\":9,\"end_offset\":11,\"type\":\"word\",\"position\":2},{\"token\":\"130\",\"start_offset\":17,\"end_offset\":20,\"type\":\"word\",\"position\":7},{\"token\":\"センチ\",\"start_offset\":20,\"end_offset\":21,\"type\":\"word\",\"position\":8},{\"token\":\"僕\",\"start_offset\":27,\"end_offset\":28,\"type\":\"word\",\"position\":12},{\"token\":\"度度\",\"start_offset\":29,\"end_offset\":31,\"type\":\"word\",\"position\":14},{\"token\":\"コンピュータ\",\"start_offset\":32,\"end_offset\":39,\"type\":\"word\",\"position\":15},{\"token\":\"見る\",\"start_offset\":43,\"end_offset\":44,\"type\":\"word\",\"position\":19},{\"token\":\"和む\",\"start_offset\":45,\"end_offset\":47,\"type\":\"word\",\"position\":21}]}'"
      ]
     },
     "execution_count": 35,
     "metadata": {},
     "output_type": "execute_result"
    }
   ],
   "source": [
    "API_ENDPOINT = \"http://127.0.0.1:9200/dataset/_analyze\"\n",
    "headers = {'Content-type': 'application/json'}\n",
    "r = requests.post(url = API_ENDPOINT, data=json.dumps(d), headers=headers) \n",
    "r.text"
   ]
  },
  {
   "cell_type": "code",
   "execution_count": null,
   "metadata": {},
   "outputs": [],
   "source": []
  }
 ],
 "metadata": {
  "kernelspec": {
   "display_name": "Python 3",
   "language": "python",
   "name": "python3"
  },
  "language_info": {
   "codemirror_mode": {
    "name": "ipython",
    "version": 3
   },
   "file_extension": ".py",
   "mimetype": "text/x-python",
   "name": "python",
   "nbconvert_exporter": "python",
   "pygments_lexer": "ipython3",
   "version": "3.6.9"
  }
 },
 "nbformat": 4,
 "nbformat_minor": 4
}
