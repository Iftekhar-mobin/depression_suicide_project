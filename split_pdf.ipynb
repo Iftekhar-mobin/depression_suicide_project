{
 "cells": [
  {
   "cell_type": "code",
   "execution_count": 13,
   "id": "865f5583",
   "metadata": {},
   "outputs": [
    {
     "name": "stdout",
     "output_type": "stream",
     "text": [
      "Enter the folder containing the PDF file: C:\\Users\\Teacher\\Downloads\n",
      "Enter the PDF file name (including extension): CamScanner 03-11-2025 14.52\n",
      "C:\\Users\\Teacher\\Downloads\n",
      "C:\\Users\\Teacher\\Downloads\\CamScanner 03-11-2025 14.52.pdf\n",
      "Saved: C:\\Users\\Teacher\\Downloads\\page_1.pdf\n",
      "Saved: C:\\Users\\Teacher\\Downloads\\page_2.pdf\n",
      "Saved: C:\\Users\\Teacher\\Downloads\\page_3.pdf\n",
      "Saved: C:\\Users\\Teacher\\Downloads\\page_4.pdf\n",
      "Saved: C:\\Users\\Teacher\\Downloads\\page_5.pdf\n",
      "Saved: C:\\Users\\Teacher\\Downloads\\page_6.pdf\n",
      "Saved: C:\\Users\\Teacher\\Downloads\\page_7.pdf\n",
      "Saved: C:\\Users\\Teacher\\Downloads\\page_8.pdf\n",
      "Saved: C:\\Users\\Teacher\\Downloads\\page_9.pdf\n",
      "PDF splitting completed.\n"
     ]
    }
   ],
   "source": [
    "import fitz  # PyMuPDF\n",
    "import os\n",
    "\n",
    "\"\"\"Splits each page of the provided PDF into separate PDFs in the same folder as the input file.\"\"\"\n",
    "input_folder = input(\"Enter the folder containing the PDF file: \").strip().strip('\"')\n",
    "input_pdf = input(\"Enter the PDF file name (including extension): \").strip().strip('\"')\n",
    "print(input_folder)\n",
    "input_path = os.path.join(input_folder, input_pdf + '.pdf')\n",
    "print(input_path)\n",
    "output_folder = input_folder  # Set output folder same as input folder\n",
    "\n",
    "def split_pdf():    \n",
    "    if not os.path.exists(input_path):\n",
    "        print(\"Error: The specified file does not exist.\")\n",
    "        return\n",
    "    \n",
    "    doc = fitz.open(input_path)\n",
    "    for page_num in range(len(doc)):\n",
    "        new_doc = fitz.open()\n",
    "        new_doc.insert_pdf(doc, from_page=page_num, to_page=page_num)\n",
    "        output_filename = os.path.join(output_folder, f\"page_{page_num + 1}.pdf\")\n",
    "        new_doc.save(output_filename)\n",
    "        new_doc.close()\n",
    "        print(f\"Saved: {output_filename}\")\n",
    "    \n",
    "    doc.close()\n",
    "    print(\"PDF splitting completed.\")\n",
    "\n",
    "# Run the function\n",
    "split_pdf()\n"
   ]
  }
 ],
 "metadata": {
  "kernelspec": {
   "display_name": "Python 3 (ipykernel)",
   "language": "python",
   "name": "python3"
  },
  "language_info": {
   "codemirror_mode": {
    "name": "ipython",
    "version": 3
   },
   "file_extension": ".py",
   "mimetype": "text/x-python",
   "name": "python",
   "nbconvert_exporter": "python",
   "pygments_lexer": "ipython3",
   "version": "3.10.0"
  }
 },
 "nbformat": 4,
 "nbformat_minor": 5
}
