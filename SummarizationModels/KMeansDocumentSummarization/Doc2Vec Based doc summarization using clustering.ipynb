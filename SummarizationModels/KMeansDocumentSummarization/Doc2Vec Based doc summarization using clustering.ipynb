{
 "cells": [
  {
   "cell_type": "code",
   "execution_count": null,
   "metadata": {},
   "outputs": [],
   "source": [
    "from nltk.corpus import stopwords\n",
    "from nltk.stem import PorterStemmer\n",
    "from sklearn.cluster import KMeans\n",
    "from sklearn.decomposition import PCA\n",
    "from gensim.models import Doc2Vec\n",
    "from sklearn.feature_extraction.text import TfidfVectorizer\n",
    "from sklearn.metrics.pairwise import cosine_similarity\n",
    "from nltk.corpus import stopwords\n",
    "from nltk.stem import PorterStemmer\n",
    "from nltk.tokenize import word_tokenize, sent_tokenize\n",
    "from gensim.models.doc2vec import Doc2Vec, TaggedDocument\n",
    "from modules.TextPreProcessor import removeShortDocs, removeStopWords, stemSentences\n",
    "\n",
    "ps = PorterStemmer()\n",
    "nltk_stop_words = set(stopwords.words('english'))\n",
    "\n",
    "file = '/home/ifte/amiebot_project/MyAI/AI-system/Summarization Models/Translated_text_mobicontrol_Page01_JP_to_En.txt'\n",
    "file = open(file , 'r')\n",
    "raw_data = file.read()\n",
    "\n",
    "####################################\n",
    "# PRE-PROCESSING\n",
    "####################################\n",
    "\n",
    "# split document into sentences and strip whitespace (delimeted by line)\n",
    "sentences = raw_data.split('.')\n",
    "sentences = map(lambda sentence: sentence.strip(), sentences)\n",
    "sentences = list(sentences)\n"
   ]
  },
  {
   "cell_type": "code",
   "execution_count": null,
   "metadata": {},
   "outputs": [],
   "source": [
    "sentences"
   ]
  },
  {
   "cell_type": "code",
   "execution_count": null,
   "metadata": {},
   "outputs": [],
   "source": [
    "tokenized_sentence = sent_tokenize(raw_data)\n",
    "tokenized_sentence"
   ]
  },
  {
   "cell_type": "code",
   "execution_count": null,
   "metadata": {},
   "outputs": [],
   "source": [
    "min_sentence_length = 30\n",
    "\n",
    "# remove sentences that do not contribute meaning by assuming short sentences have less meaning\n",
    "sentences = removeShortDocs(sentences, min_sentence_length)\n",
    "sentences = list(sentences)\n",
    "sentences"
   ]
  },
  {
   "cell_type": "code",
   "execution_count": null,
   "metadata": {},
   "outputs": [],
   "source": [
    "\n",
    "# remove stop words from all sentences\n",
    "processedSentences = removeStopWords(sentences, nltk_stop_words)\n",
    "processedSentences"
   ]
  },
  {
   "cell_type": "code",
   "execution_count": null,
   "metadata": {},
   "outputs": [],
   "source": [
    "# stem all tokens of all sentences\n",
    "processedSentences = stemSentences(processedSentences, ps)\n",
    "processedSentences\n",
    "\n",
    "#####################################\n",
    "\n"
   ]
  },
  {
   "cell_type": "code",
   "execution_count": null,
   "metadata": {},
   "outputs": [],
   "source": [
    "sentences"
   ]
  },
  {
   "cell_type": "code",
   "execution_count": null,
   "metadata": {},
   "outputs": [],
   "source": [
    "# data = sent_tokenize(raw_data)\n",
    "# data"
   ]
  },
  {
   "cell_type": "code",
   "execution_count": null,
   "metadata": {},
   "outputs": [],
   "source": [
    "data = processedSentences\n",
    "tagged_data = [TaggedDocument(words=word_tokenize(_d.lower()), tags=[str(i)]) for i, _d in enumerate(data)]\n",
    "tagged_data"
   ]
  },
  {
   "cell_type": "code",
   "execution_count": null,
   "metadata": {
    "scrolled": true
   },
   "outputs": [],
   "source": [
    "# df[df['page']==0].parsed.values\n",
    "\n",
    "max_epochs = 20\n",
    "vec_size = 300\n",
    "alpha = 0.025\n",
    "wnd=10\n",
    "m_lpha=0.065\n",
    "\n",
    "model = Doc2Vec(vector_size = vec_size,\n",
    "                alpha=alpha, \n",
    "                min_alpha=m_lpha,\n",
    "                min_count=1,\n",
    "                dm =1,\n",
    "                window=wnd)\n",
    "\n",
    "#Doc2Vec(dm=1, dm_mean=1, vector_size=300, window=10, negative=5, min_count=1, workers=5, alpha=0.065, min_alpha=0.065)\n",
    "\n",
    "model.build_vocab(tagged_data)\n",
    "\n",
    "for epoch in range(max_epochs):\n",
    "    print('iteration {0}'.format(epoch))\n",
    "    model.train(tagged_data,\n",
    "                total_examples=model.corpus_count,\n",
    "                epochs=model.iter)\n",
    "    # decrease the learning rate\n",
    "    model.alpha -= 0.0002\n",
    "    # fix the learning rate, no decay\n",
    "    model.min_alpha = model.alpha\n",
    "\n",
    "model.save(\"d2v.model\")\n",
    "print(\"Model Saved\")"
   ]
  },
  {
   "cell_type": "code",
   "execution_count": null,
   "metadata": {},
   "outputs": [],
   "source": [
    "# d2v_model = Doc2Vec(all_content_train, size = 100, window = 10, min_count = 500, workers=7, dm = 1,alpha=0.025, min_alpha=0.001)\n",
    "# d2v_model.train(all_content_train, total_examples=d2v_model.corpus_count, epochs=10, start_alpha=0.002, end_alpha=-0.016)\n",
    "\n",
    "# d2v_model.save(\"d2v.model\")\n",
    "# print(\"Model Saved\")"
   ]
  },
  {
   "cell_type": "code",
   "execution_count": null,
   "metadata": {},
   "outputs": [],
   "source": [
    "d2v_model= Doc2Vec.load(\"d2v.model\")\n",
    "\n",
    "kmeans_model = KMeans(n_clusters=4, init='k-means++', max_iter=100) \n",
    "X = kmeans_model.fit(d2v_model.docvecs.doctag_syn0)\n",
    "clusters=kmeans_model.labels_.tolist()\n",
    "l = kmeans_model.fit_predict(d2v_model.docvecs.doctag_syn0)\n",
    "pca = PCA(n_components=2).fit(d2v_model.docvecs.doctag_syn0)\n",
    "datapoint = pca.transform(d2v_model.docvecs.doctag_syn0)\n"
   ]
  },
  {
   "cell_type": "code",
   "execution_count": null,
   "metadata": {},
   "outputs": [],
   "source": [
    "datapoint\n",
    "clusters\n",
    "d2v_model.docvecs.doctag_syn0"
   ]
  },
  {
   "cell_type": "code",
   "execution_count": 44,
   "metadata": {},
   "outputs": [
    {
     "data": {
      "image/png": "[encoded data removed]",
      "text/plain": [
       "<Figure size 432x288 with 1 Axes>"
      ]
     },
     "metadata": {
      "needs_background": "light"
     },
     "output_type": "display_data"
    }
   ],
   "source": [
    "import matplotlib.pyplot as plt\n",
    "\n",
    "%matplotlib inline\n",
    "plt.figure\n",
    "label1 = ['#FFFF00', '#008000', '#0000FF', '#800080']\n",
    "color = [label1[i] for i in clusters]\n",
    "plt.scatter(datapoint[:, 0], datapoint[:, 1], c=color)\n",
    "centroids = kmeans_model.cluster_centers_\n",
    "centroidpoint = pca.transform(centroids)\n",
    "plt.scatter(centroidpoint[:, 0], centroidpoint[:, 1], marker='^', s=50, c='#000000')\n",
    "plt.show()"
   ]
  },
  {
   "cell_type": "code",
   "execution_count": 64,
   "metadata": {},
   "outputs": [
    {
     "name": "stderr",
     "output_type": "stream",
     "text": [
      "/home/ifte/amiebot_project/lib/python3.6/site-packages/ipykernel_launcher.py:4: DeprecationWarning: Call to deprecated `doctag_syn0` (Attribute will be removed in 4.0.0, use docvecs.vectors_docs instead).\n",
      "  after removing the cwd from sys.path.\n"
     ]
    }
   ],
   "source": [
    "d2v_model= Doc2Vec.load(\"d2v.model\")\n",
    "# cluster our tokenized sentences into 10 groups\n",
    "kMeansCluster = KMeans(n_clusters=10)\n",
    "kMeansCluster.fit(d2v_model.docvecs.doctag_syn0)\n",
    "clusters = kMeansCluster.labels_.tolist()"
   ]
  },
  {
   "cell_type": "code",
   "execution_count": null,
   "metadata": {},
   "outputs": [],
   "source": [
    "centroidpoint"
   ]
  },
  {
   "cell_type": "code",
   "execution_count": 65,
   "metadata": {},
   "outputs": [],
   "source": [
    "####################################\n",
    "# Organize Cluster Results\n",
    "####################################\n",
    "\n",
    "# Create new dictionary that tracks which cluster each sentence belongs to\n",
    "# keeps copy of original sentences and stemmed sentences\n",
    "# sentenceDictionary { idx: { text: String, stemmed: String, cluster: Number } }\n",
    "sentenceDictionary = {}\n",
    "for idx, sentence in enumerate(sentences):\n",
    "\tsentenceDictionary[idx] = {}\n",
    "\tsentenceDictionary[idx]['text'] = sentence\n",
    "\tsentenceDictionary[idx]['cluster'] = clusters[idx]\n",
    "\tsentenceDictionary[idx]['stemmed'] = processedSentences[idx]\n",
    "\n",
    "\n",
    "# Create new dictionary that contains 1 entry for each cluster\n",
    "# each key in dictionary will point to array of sentences, all of which belong to that cluster\n",
    "# we attach the index to the sentenceDictionary object so we can recall the original sentence\n",
    "clusterDictionary = {}\n",
    "for key, sentence in sentenceDictionary.items():\n",
    "\tif sentence['cluster'] not in clusterDictionary:\n",
    "\t\tclusterDictionary[sentence['cluster']] = []\n",
    "\tclusterDictionary[sentence['cluster']].append(sentence['stemmed'])\n",
    "\tsentence['idx'] = len(clusterDictionary[sentence['cluster']]) - 1\n",
    "\n",
    "\n",
    "vectorizer = TfidfVectorizer()\n",
    "\n",
    "####################################\n",
    "# Calculate Cosine Similarity Scores\n",
    "####################################\t\t\n",
    "\n",
    "# For each cluster of sentences,\n",
    "# Find the sentence with highet cosine similarity over all sentences in cluster\n",
    "maxCosineScores = {}\n",
    "for key, clusterSentences in clusterDictionary.items():\n",
    "\tmaxCosineScores[key] = {}\n",
    "\tmaxCosineScores[key]['score'] = 0\n",
    "\ttfidf_matrix = vectorizer.fit_transform(clusterSentences)\n",
    "\tcos_sim_matrix = cosine_similarity(tfidf_matrix)\n",
    "    \n",
    "\tfor idx, row in enumerate(cos_sim_matrix):\n",
    "\t\tsum = 0\n",
    "\t\tfor col in row:\n",
    "\t\t\tsum += col\n",
    "\t\tif sum > maxCosineScores[key]['score']:\n",
    "\t\t\tmaxCosineScores[key]['score'] = sum\n",
    "\t\t\tmaxCosineScores[key]['idx'] = idx\n",
    "\n",
    "\n",
    "####################################\n",
    "# Construct Document Summary\n",
    "####################################\t\n",
    "\n",
    "# for every cluster's max cosine score,\n",
    "# find the corresponding original sentence\n",
    "resultIndices = []\n",
    "i = 0\n",
    "for key, value in maxCosineScores.items():\n",
    "\tcluster = key\n",
    "\tidx = value['idx']\n",
    "\tstemmedSentence = clusterDictionary[cluster][idx]\n",
    "\t# key corresponds to the sentences index of the original document\n",
    "\t# we will use this key to sort our results in order of original document\n",
    "\tfor key, value in sentenceDictionary.items():\n",
    "\t\tif value['cluster'] == cluster and value['idx'] == idx:\n",
    "\t\t\tresultIndices.append(key)\n",
    "\n",
    "resultIndices.sort()\n",
    "\n",
    "# Iterate over sentences and construct summary output\n",
    "result = ''\n",
    "for idx in resultIndices:\n",
    "\tresult += sentences[idx] + ' '\n",
    "\t\t\n",
    "\n",
    "print(result)"
   ]
  },
  {
   "cell_type": "code",
   "execution_count": null,
   "metadata": {},
   "outputs": [],
   "source": []
  }
 ],
 "metadata": {
  "kernelspec": {
   "display_name": "Python 3",
   "language": "python",
   "name": "python3"
  },
  "language_info": {
   "codemirror_mode": {
    "name": "ipython",
    "version": 3
   },
   "file_extension": ".py",
   "mimetype": "text/x-python",
   "name": "python",
   "nbconvert_exporter": "python",
   "pygments_lexer": "ipython3",
   "version": "3.6.9"
  }
 },
 "nbformat": 4,
 "nbformat_minor": 2
}
