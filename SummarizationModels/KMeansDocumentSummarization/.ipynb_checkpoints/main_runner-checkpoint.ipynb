{
 "cells": [
  {
   "cell_type": "code",
   "execution_count": 37,
   "metadata": {},
   "outputs": [],
   "source": [
    "# 1. Cluster into 10 clusters\n",
    "# 2. Calculate the centroid of each cluster\n",
    "# 3. Use centroid of each cluster to create a 10 sentence summary\n",
    "# 4. Explain choice of clustering and similarity\n",
    "\n",
    "# Notes\n",
    "# The data set contains several sentences that contain just 1 punctuation character, '?'\n",
    "# We will ignore these sentences to improve clustering algorithm\n",
    "\n",
    "import re\n",
    "import numpy\n",
    "from os import listdir\n",
    "from os.path import join, abspath\n",
    "from nltk.corpus import stopwords\n",
    "from nltk.stem import PorterStemmer\n",
    "from sklearn.feature_extraction.text import TfidfVectorizer\n",
    "from sklearn.metrics.pairwise import cosine_similarity\n",
    "from sklearn.cluster import KMeans\n",
    "from modules.TextPreProcessor import removeShortDocs\n",
    "from modules.TextPreProcessor import removeStopWords\n",
    "from modules.TextPreProcessor import stemSentences\n",
    "\n",
    "# define data set and parameters\n",
    "raw_data = open('/home/iftekhar/AI-system/'\n",
    "                'Summarization Models/Translated_text_mobicontrol_Page01_JP_to_En.txt', 'r').read()\n",
    "ps = PorterStemmer()\n",
    "nltk_stop_words = set(stopwords.words('english'))\n",
    "cluster_count = 3\n",
    "\n",
    "\n",
    "####################################\n",
    "# PRE-PROCESSING\n",
    "####################################\n",
    "\n",
    "# split document into sentences and strip whitespace (delimeted by line)\n",
    "sentences = raw_data.split('.')\n",
    "sentences = map(lambda sentence: sentence.strip(), sentences)\n",
    "sentences = list(sentences)\n",
    "\n",
    "min_sentence_length = 30\n",
    "\n",
    "# remove sentences that do not contribute meaning by assuming short sentences have less meaning\n",
    "sentences = removeShortDocs(sentences, min_sentence_length)\n",
    "sentences = list(sentences)\n",
    "\n",
    "# remove stop words from all sentences\n",
    "processedSentences = removeStopWords(sentences, nltk_stop_words)\n",
    "#processedSentences\n",
    "\n",
    "sentences = list(sentences)\n",
    "\n",
    "# stem all tokens of all sentences\n",
    "processedSentences = stemSentences(sentences, ps)\n",
    "#processedSentences\n",
    "\n",
    "\n",
    "\n",
    "####################################\n",
    "# Apply K Means Clustering\n",
    "####################################\n",
    "\t\n",
    "# create tfidf matrix from the processed sentences\n",
    "vectorizer = TfidfVectorizer()\n",
    "tfidf_matrix = vectorizer.fit_transform(processedSentences)\n",
    "\n",
    "# cluster our tokenized sentences into 10 groups\n",
    "kMeansCluster = KMeans(n_clusters=cluster_count)\n",
    "kMeansCluster.fit(tfidf_matrix)\n",
    "clusters = kMeansCluster.labels_.tolist()"
   ]
  },
  {
   "cell_type": "code",
   "execution_count": null,
   "metadata": {},
   "outputs": [],
   "source": [
    "sentences"
   ]
  },
  {
   "cell_type": "code",
   "execution_count": null,
   "metadata": {},
   "outputs": [],
   "source": [
    "processedSentences"
   ]
  },
  {
   "cell_type": "code",
   "execution_count": null,
   "metadata": {},
   "outputs": [],
   "source": [
    "clusters"
   ]
  },
  {
   "cell_type": "code",
   "execution_count": 38,
   "metadata": {},
   "outputs": [
    {
     "data": {
      "text/plain": [
       "{0: {'text': 'The meaning of health has evolved over time',\n",
       "  'cluster': 1,\n",
       "  'stemmed': 'the mean of health ha evolv over time'},\n",
       " 1: {'text': \"In keeping with the biomedical perspective, early definitions of health focused on the theme of the body's ability to function; health was seen as a state of normal function that could be disrupted from time to time by disease\",\n",
       "  'cluster': 1,\n",
       "  'stemmed': \"In keep with the biomed perspect , earli definit of health focus on the theme of the bodi 's abil to function ; health wa seen as a state of normal function that could be disrupt from time to time by diseas\"},\n",
       " 2: {'text': 'An example of such a definition of health is: \"a state characterized by anatomic, physiologic, and psychological integrity; ability to perform personally valued family, work, and community roles; ability to deal with physical, biological, psychological, and social stress\"',\n",
       "  'cluster': 0,\n",
       "  'stemmed': \"An exampl of such a definit of health is : `` a state character by anatom , physiolog , and psycholog integr ; abil to perform person valu famili , work , and commun role ; abil to deal with physic , biolog , psycholog , and social stress ''\"},\n",
       " 3: {'text': 'Then in 1948, in a radical departure from previous definitions, the World Health Organization (WHO) proposed a definition that aimed higher: linking health to well-being, in terms of \"physical, mental, and social well-being, and not merely the absence of disease and infirmity\"',\n",
       "  'cluster': 1,\n",
       "  'stemmed': \"then in 1948 , in a radic departur from previou definit , the world health organ ( who ) propos a definit that aim higher : link health to well-b , in term of `` physic , mental , and social well-b , and not mere the absenc of diseas and infirm ''\"},\n",
       " 4: {'text': 'Although this definition was welcomed by some as being innovative, it was also criticized as being vague, excessively broad and was not construed as measurable',\n",
       "  'cluster': 2,\n",
       "  'stemmed': 'although thi definit wa welcom by some as be innov , it wa also critic as be vagu , excess broad and wa not constru as measur'},\n",
       " 5: {'text': 'For a long time, it was set aside as an impractical ideal and most discussions of health returned to the practicality of the biomedical model',\n",
       "  'cluster': 1,\n",
       "  'stemmed': 'for a long time , it wa set asid as an impract ideal and most discuss of health return to the practic of the biomed model'},\n",
       " 6: {'text': 'Just as there was a shift from viewing disease as a state to thinking of it as a process, the same shift happened in definitions of health',\n",
       "  'cluster': 2,\n",
       "  'stemmed': 'just as there wa a shift from view diseas as a state to think of it as a process , the same shift happen in definit of health'},\n",
       " 7: {'text': 'Again, the WHO played a leading role when it fostered the development of the health promotion movement in the 1980s',\n",
       "  'cluster': 1,\n",
       "  'stemmed': 'again , the who play a lead role when it foster the develop of the health promot movement in the 1980'},\n",
       " 8: {'text': 'This brought in a new conception of health, not as a state, but in dynamic terms of resiliency, in other words, as \"a resource for living\"',\n",
       "  'cluster': 2,\n",
       "  'stemmed': \"thi brought in a new concept of health , not as a state , but in dynam term of resili , in other word , as `` a resourc for live ''\"},\n",
       " 9: {'text': '1984 WHO revised the definition of health defined it as \"the extent to which an individual or group is able to realize aspirations and satisfy needs and to change or cope with the environment',\n",
       "  'cluster': 1,\n",
       "  'stemmed': '1984 who revis the definit of health defin it as `` the extent to which an individu or group is abl to realiz aspir and satisfi need and to chang or cope with the environ'},\n",
       " 10: {'text': 'Health is a resource for everyday life, not the objective of living; it is a positive concept, emphasizing social and personal resources, as well as physical capacities\"',\n",
       "  'cluster': 2,\n",
       "  'stemmed': \"health is a resourc for everyday life , not the object of live ; it is a posit concept , emphas social and person resourc , as well as physic capac ''\"},\n",
       " 11: {'text': 'Thus, health referred to the ability to maintain homeostasis and recover from insults',\n",
       "  'cluster': 0,\n",
       "  'stemmed': 'thu , health refer to the abil to maintain homeostasi and recov from insult'},\n",
       " 12: {'text': \"Mental, intellectual, emotional and social health referred to a person's ability to handle stress, to acquire skills, to maintain relationships, all of which form resources for resiliency and independent living\",\n",
       "  'cluster': 0,\n",
       "  'stemmed': \"mental , intellectu , emot and social health refer to a person 's abil to handl stress , to acquir skill , to maintain relationship , all of which form resourc for resili and independ live\"},\n",
       " 13: {'text': 'This opens up many possibilities for health to be taught, strengthened and learned',\n",
       "  'cluster': 2,\n",
       "  'stemmed': 'thi open up mani possibl for health to be taught , strengthen and learn'},\n",
       " 14: {'text': 'Since the late 1970s, the federal Healthy People Initiative has been a visible component of the United States’ approach to improving population health',\n",
       "  'cluster': 1,\n",
       "  'stemmed': 'sinc the late 1970 , the feder healthi peopl initi ha been a visibl compon of the unit state ’ approach to improv popul health'},\n",
       " 15: {'text': 'In each decade, a new version of Healthy People is issued, featuring updated goals and identifying topic areas and quantifiable objectives for health improvement during the succeeding ten years, with assessment at that point of progress or lack thereof',\n",
       "  'cluster': 1,\n",
       "  'stemmed': 'In each decad , a new version of healthi peopl is issu , featur updat goal and identifi topic area and quantifi object for health improv dure the succeed ten year , with assess at that point of progress or lack thereof'},\n",
       " 16: {'text': 'Progress has been limited to many objectives, leading to concerns about the effectiveness of Healthy People in shaping outcomes in the context of a decentralized and uncoordinated US health system',\n",
       "  'cluster': 1,\n",
       "  'stemmed': 'progress ha been limit to mani object , lead to concern about the effect of healthi peopl in shape outcom in the context of a decentr and uncoordin US health system'},\n",
       " 17: {'text': 'Healthy People 2020 gives more prominence to health promotion and preventive approaches and adds a substantive focus on the importance of addressing social determinants of health',\n",
       "  'cluster': 1,\n",
       "  'stemmed': 'healthi peopl 2020 give more promin to health promot and prevent approach and add a substant focu on the import of address social determin of health'},\n",
       " 18: {'text': 'A new expanded digital interface facilitates use and dissemination rather than bulky printed books as produced in the past',\n",
       "  'cluster': 2,\n",
       "  'stemmed': 'A new expand digit interfac facilit use and dissemin rather than bulki print book as produc in the past'},\n",
       " 19: {'text': 'The impact of these changes to Healthy People will be determined in the coming years',\n",
       "  'cluster': 1,\n",
       "  'stemmed': 'the impact of these chang to healthi peopl will be determin in the come year'},\n",
       " 20: {'text': 'Systematic activities to prevent or cure health problems and promote good health in humans are undertaken by health care providers',\n",
       "  'cluster': 0,\n",
       "  'stemmed': 'systemat activ to prevent or cure health problem and promot good health in human are undertaken by health care provid'},\n",
       " 21: {'text': 'Applications with regard to animal health are covered by the veterinary sciences',\n",
       "  'cluster': 0,\n",
       "  'stemmed': 'applic with regard to anim health are cover by the veterinari scienc'},\n",
       " 22: {'text': 'The term \"healthy\" is also widely used in the context of many types of non-living organizations and their impacts for the benefit of humans, such as in the sense of healthy communities, healthy cities or healthy environments',\n",
       "  'cluster': 1,\n",
       "  'stemmed': \"the term `` healthi '' is also wide use in the context of mani type of non-liv organ and their impact for the benefit of human , such as in the sens of healthi commun , healthi citi or healthi environ\"},\n",
       " 23: {'text': 'In addition to health care interventions and a person\\'s surroundings, a number of other factors are known to influence the health status of individuals, including their background, lifestyle, and economic, social conditions and spirituality; these are referred to as \"determinants of health',\n",
       "  'cluster': 1,\n",
       "  'stemmed': \"In addit to health care intervent and a person 's surround , a number of other factor are known to influenc the health statu of individu , includ their background , lifestyl , and econom , social condit and spiritu ; these are refer to as `` determin of health\"},\n",
       " 24: {'text': '\" Studies have shown that high levels of stress can affect human health',\n",
       "  'cluster': 1,\n",
       "  'stemmed': '`` studi have shown that high level of stress can affect human health'},\n",
       " 25: {'text': 'In the first decade of the 21st century, the conceptualization of health as an ability opened the door for self-assessments to become the main indicators to judge the performance of efforts aimed at improving human health',\n",
       "  'cluster': 1,\n",
       "  'stemmed': 'In the first decad of the 21st centuri , the conceptu of health as an abil open the door for self-assess to becom the main indic to judg the perform of effort aim at improv human health'},\n",
       " 26: {'text': 'It also created the opportunity for every person to feel healthy, even in the presence of multiple chronic diseases, or a terminal condition, and for the re-examination of determinants of health, away from the traditional approach that focuses on the reduction of the prevalence of diseases',\n",
       "  'cluster': 1,\n",
       "  'stemmed': 'It also creat the opportun for everi person to feel healthi , even in the presenc of multipl chronic diseas , or a termin condit , and for the re-examin of determin of health , away from the tradit approach that focus on the reduct of the preval of diseas'}}"
      ]
     },
     "execution_count": 38,
     "metadata": {},
     "output_type": "execute_result"
    }
   ],
   "source": [
    "####################################\n",
    "# Organize Cluster Results\n",
    "####################################\n",
    "\n",
    "# Create new dictionary that tracks which cluster each sentence belongs to\n",
    "# keeps copy of original sentences and stemmed sentences\n",
    "# sentenceDictionary { idx: { text: String, stemmed: String, cluster: Number } }\n",
    "sentenceDictionary = {}\n",
    "for idx, sentence in enumerate(sentences):\n",
    "\tsentenceDictionary[idx] = {}\n",
    "\tsentenceDictionary[idx]['text'] = sentence\n",
    "\tsentenceDictionary[idx]['cluster'] = clusters[idx]\n",
    "\tsentenceDictionary[idx]['stemmed'] = processedSentences[idx]\n",
    "\n",
    "sentenceDictionary"
   ]
  },
  {
   "cell_type": "code",
   "execution_count": 39,
   "metadata": {},
   "outputs": [
    {
     "data": {
      "text/plain": [
       "{1: ['the mean of health ha evolv over time',\n",
       "  \"In keep with the biomed perspect , earli definit of health focus on the theme of the bodi 's abil to function ; health wa seen as a state of normal function that could be disrupt from time to time by diseas\",\n",
       "  \"then in 1948 , in a radic departur from previou definit , the world health organ ( who ) propos a definit that aim higher : link health to well-b , in term of `` physic , mental , and social well-b , and not mere the absenc of diseas and infirm ''\",\n",
       "  'for a long time , it wa set asid as an impract ideal and most discuss of health return to the practic of the biomed model',\n",
       "  'again , the who play a lead role when it foster the develop of the health promot movement in the 1980',\n",
       "  '1984 who revis the definit of health defin it as `` the extent to which an individu or group is abl to realiz aspir and satisfi need and to chang or cope with the environ',\n",
       "  'sinc the late 1970 , the feder healthi peopl initi ha been a visibl compon of the unit state ’ approach to improv popul health',\n",
       "  'In each decad , a new version of healthi peopl is issu , featur updat goal and identifi topic area and quantifi object for health improv dure the succeed ten year , with assess at that point of progress or lack thereof',\n",
       "  'progress ha been limit to mani object , lead to concern about the effect of healthi peopl in shape outcom in the context of a decentr and uncoordin US health system',\n",
       "  'healthi peopl 2020 give more promin to health promot and prevent approach and add a substant focu on the import of address social determin of health',\n",
       "  'the impact of these chang to healthi peopl will be determin in the come year',\n",
       "  \"the term `` healthi '' is also wide use in the context of mani type of non-liv organ and their impact for the benefit of human , such as in the sens of healthi commun , healthi citi or healthi environ\",\n",
       "  \"In addit to health care intervent and a person 's surround , a number of other factor are known to influenc the health statu of individu , includ their background , lifestyl , and econom , social condit and spiritu ; these are refer to as `` determin of health\",\n",
       "  '`` studi have shown that high level of stress can affect human health',\n",
       "  'In the first decad of the 21st centuri , the conceptu of health as an abil open the door for self-assess to becom the main indic to judg the perform of effort aim at improv human health',\n",
       "  'It also creat the opportun for everi person to feel healthi , even in the presenc of multipl chronic diseas , or a termin condit , and for the re-examin of determin of health , away from the tradit approach that focus on the reduct of the preval of diseas'],\n",
       " 0: [\"An exampl of such a definit of health is : `` a state character by anatom , physiolog , and psycholog integr ; abil to perform person valu famili , work , and commun role ; abil to deal with physic , biolog , psycholog , and social stress ''\",\n",
       "  'thu , health refer to the abil to maintain homeostasi and recov from insult',\n",
       "  \"mental , intellectu , emot and social health refer to a person 's abil to handl stress , to acquir skill , to maintain relationship , all of which form resourc for resili and independ live\",\n",
       "  'systemat activ to prevent or cure health problem and promot good health in human are undertaken by health care provid',\n",
       "  'applic with regard to anim health are cover by the veterinari scienc'],\n",
       " 2: ['although thi definit wa welcom by some as be innov , it wa also critic as be vagu , excess broad and wa not constru as measur',\n",
       "  'just as there wa a shift from view diseas as a state to think of it as a process , the same shift happen in definit of health',\n",
       "  \"thi brought in a new concept of health , not as a state , but in dynam term of resili , in other word , as `` a resourc for live ''\",\n",
       "  \"health is a resourc for everyday life , not the object of live ; it is a posit concept , emphas social and person resourc , as well as physic capac ''\",\n",
       "  'thi open up mani possibl for health to be taught , strengthen and learn',\n",
       "  'A new expand digit interfac facilit use and dissemin rather than bulki print book as produc in the past']}"
      ]
     },
     "execution_count": 39,
     "metadata": {},
     "output_type": "execute_result"
    }
   ],
   "source": [
    "# Create new dictionary that contains 1 entry for each cluster\n",
    "# each key in dictionary will point to array of sentences, all of which belong to that cluster\n",
    "# we attach the index to the sentenceDictionary object so we can recall the original sentence\n",
    "clusterDictionary = {}\n",
    "for key, sentence in sentenceDictionary.items():\n",
    "\tif sentence['cluster'] not in clusterDictionary:\n",
    "\t\tclusterDictionary[sentence['cluster']] = []\n",
    "\tclusterDictionary[sentence['cluster']].append(sentence['stemmed'])\n",
    "\tsentence['idx'] = len(clusterDictionary[sentence['cluster']]) - 1\n",
    "clusterDictionary"
   ]
  },
  {
   "cell_type": "code",
   "execution_count": null,
   "metadata": {},
   "outputs": [],
   "source": [
    "####################################\n",
    "# Calculate Cosine Similarity Scores\n",
    "####################################\t\t\n",
    "\n",
    "# For each cluster of sentences,\n",
    "# Find the sentence with highet cosine similarity over all sentences in cluster\n",
    "maxCosineScores = {}\n",
    "for key, clusterSentences in clusterDictionary.items():\n",
    "\tmaxCosineScores[key] = {}\n",
    "\tmaxCosineScores[key]['score'] = 0\n",
    "\ttfidf_matrix = vectorizer.fit_transform(clusterSentences)\n",
    "\tcos_sim_matrix = cosine_similarity(tfidf_matrix)\n",
    "\t\n",
    "\tfor idx, row in enumerate(cos_sim_matrix):\n",
    "\t\tsum = 0\n",
    "\t\tfor col in row:\n",
    "\t\t\tsum += col\n",
    "\t\tif sum > maxCosineScores[key]['score']:\n",
    "\t\t\tmaxCosineScores[key]['score'] = sum\n",
    "\t\t\tmaxCosineScores[key]['idx'] = idx\n",
    "\n",
    "maxCosineScores"
   ]
  },
  {
   "cell_type": "code",
   "execution_count": 46,
   "metadata": {},
   "outputs": [
    {
     "data": {
      "text/plain": [
       "{1: {'score': 3.775852511523733, 'idx': 15},\n",
       " 0: {'score': 1.7668515260010889, 'idx': 2},\n",
       " 2: {'score': 1.939703440324808, 'idx': 2}}"
      ]
     },
     "execution_count": 46,
     "metadata": {},
     "output_type": "execute_result"
    }
   ],
   "source": [
    "maxCosineScores"
   ]
  },
  {
   "cell_type": "code",
   "execution_count": 45,
   "metadata": {},
   "outputs": [
    {
     "name": "stdout",
     "output_type": "stream",
     "text": [
      "0 [1.         0.23451747 0.11366216 0.12115711 0.13604642 0.05771266]\n",
      "1 [0.23451747 1.         0.28956494 0.17495927 0.06941952 0.09586532]\n",
      "2 [0.11366216 0.28956494 1.         0.28939366 0.09397814 0.15310455]\n",
      "3 [0.12115711 0.17495927 0.28939366 1.         0.07940973 0.07374433]\n",
      "4 [0.13604642 0.06941952 0.09397814 0.07940973 1.         0.02849438]\n",
      "5 [0.05771266 0.09586532 0.15310455 0.07374433 0.02849438 1.        ]\n"
     ]
    }
   ],
   "source": [
    "for idx, row in enumerate(cos_sim_matrix):\n",
    "    print(idx, row)"
   ]
  },
  {
   "cell_type": "code",
   "execution_count": 70,
   "metadata": {},
   "outputs": [
    {
     "data": {
      "text/plain": [
       "['1',\n",
       " '0.23451747',\n",
       " '0.11366216',\n",
       " '0.12115711',\n",
       " '0.13604642',\n",
       " '0.05771266',\n",
       " '0.23451747',\n",
       " '1',\n",
       " '0.28956494',\n",
       " '0.17495927',\n",
       " '0.06941952',\n",
       " '0.09586532',\n",
       " '0.11366216',\n",
       " '0.28956494',\n",
       " '1',\n",
       " '0.28939366',\n",
       " '0.09397814',\n",
       " '0.15310455',\n",
       " '0.12115711',\n",
       " '0.17495927',\n",
       " '0.28939366',\n",
       " '1',\n",
       " '0.07940973',\n",
       " '0.07374433',\n",
       " '0.13604642',\n",
       " '0.06941952',\n",
       " '0.09397814',\n",
       " '0.07940973',\n",
       " '1',\n",
       " '0.02849438',\n",
       " '0.05771266',\n",
       " '0.09586532',\n",
       " '0.15310455',\n",
       " '0.07374433',\n",
       " '0.02849438',\n",
       " '1',\n",
       " '']"
      ]
     },
     "execution_count": 70,
     "metadata": {},
     "output_type": "execute_result"
    }
   ],
   "source": [
    "b = \"1,0.23451747,0.11366216,0.12115711,0.13604642,0.05771266,0.23451747,1,0.28956494,0.17495927,0.06941952,0.09586532,0.11366216,0.28956494,1,0.28939366,0.09397814,0.15310455,0.12115711,0.17495927,0.28939366,1,0.07940973,0.07374433,0.13604642,0.06941952,0.09397814,0.07940973,1,0.02849438,0.05771266,0.09586532,0.15310455,0.07374433,0.02849438,1\"\n",
    "b = b.split(\",\")\n",
    "b "
   ]
  },
  {
   "cell_type": "code",
   "execution_count": 66,
   "metadata": {},
   "outputs": [
    {
     "ename": "ValueError",
     "evalue": "could not convert string to float: ",
     "output_type": "error",
     "traceback": [
      "\u001b[0;31m---------------------------------------------------------------------------\u001b[0m",
      "\u001b[0;31mValueError\u001b[0m                                Traceback (most recent call last)",
      "\u001b[0;32m<ipython-input-66-9d9b18ab29eb>\u001b[0m in \u001b[0;36m<module>\u001b[0;34m\u001b[0m\n\u001b[1;32m      1\u001b[0m \u001b[0msum\u001b[0m \u001b[0;34m=\u001b[0m \u001b[0;36m0\u001b[0m\u001b[0;34m\u001b[0m\u001b[0;34m\u001b[0m\u001b[0m\n\u001b[1;32m      2\u001b[0m \u001b[0;32mfor\u001b[0m \u001b[0mi\u001b[0m \u001b[0;32min\u001b[0m \u001b[0mb\u001b[0m\u001b[0;34m.\u001b[0m\u001b[0msplit\u001b[0m\u001b[0;34m(\u001b[0m\u001b[0;34m\",\"\u001b[0m\u001b[0;34m)\u001b[0m\u001b[0;34m:\u001b[0m\u001b[0;34m\u001b[0m\u001b[0;34m\u001b[0m\u001b[0m\n\u001b[0;32m----> 3\u001b[0;31m     \u001b[0mfloat\u001b[0m\u001b[0;34m(\u001b[0m\u001b[0mi\u001b[0m\u001b[0;34m)\u001b[0m\u001b[0;34m\u001b[0m\u001b[0;34m\u001b[0m\u001b[0m\n\u001b[0m",
      "\u001b[0;31mValueError\u001b[0m: could not convert string to float: "
     ]
    }
   ],
   "source": [
    "sum = 0\n",
    "for i in :\n",
    "    float(i)"
   ]
  },
  {
   "cell_type": "code",
   "execution_count": 8,
   "metadata": {},
   "outputs": [
    {
     "name": "stdout",
     "output_type": "stream",
     "text": [
      "There are some basic common threads, however, and the overarching theme is best summed up by this oft-quoted statement made by Arthur Samuel way back in 1959: “[Machine Learning is the] field of study that gives computers the ability to learn without being explicitly programmed ”\n",
      "“A computer program is said to learn from experience E with respect to some task T and some performance measure P, if its performance on T, as measured by P, improves with experience E All of these problems are excellent targets for an ML project, and in fact ML has been applied to each of them with great success \n"
     ]
    }
   ],
   "source": [
    "####################################\n",
    "# Construct Document Summary\n",
    "####################################\t\n",
    "\n",
    "# for every cluster's max cosine score,\n",
    "# find the corresponding original sentence\n",
    "resultIndices = []\n",
    "i = 0\n",
    "for key, value in maxCosineScores.items():\n",
    "\tcluster = key\n",
    "\tidx = value['idx']\n",
    "\tstemmedSentence = clusterDictionary[cluster][idx]\n",
    "\t# key corresponds to the sentences index of the original document\n",
    "\t# we will use this key to sort our results in order of original document\n",
    "\tfor key, value in sentenceDictionary.items():\n",
    "\t\tif value['cluster'] == cluster and value['idx'] == idx:\n",
    "\t\t\tresultIndices.append(key)\n",
    "\n",
    "resultIndices.sort()\n",
    "\n",
    "# Iterate over sentences and construct summary output\n",
    "result = ''\n",
    "for idx in resultIndices:\n",
    "\tresult += sentences[idx] + ' '\n",
    "\t\t\n",
    "\n",
    "print(result)\n",
    "\n",
    "\n",
    "\n"
   ]
  },
  {
   "cell_type": "code",
   "execution_count": 7,
   "metadata": {},
   "outputs": [
    {
     "data": {
      "text/plain": [
       "['all',\n",
       " 'an',\n",
       " 'and',\n",
       " 'appli',\n",
       " 'are',\n",
       " 'been',\n",
       " 'each',\n",
       " 'excel',\n",
       " 'fact',\n",
       " 'for',\n",
       " 'great',\n",
       " 'ha',\n",
       " 'in',\n",
       " 'ml',\n",
       " 'of',\n",
       " 'problem',\n",
       " 'project',\n",
       " 'success',\n",
       " 'target',\n",
       " 'them',\n",
       " 'these',\n",
       " 'to',\n",
       " 'with']"
      ]
     },
     "execution_count": 7,
     "metadata": {},
     "output_type": "execute_result"
    }
   ],
   "source": [
    "vectorizer.get_feature_names()"
   ]
  },
  {
   "cell_type": "code",
   "execution_count": 9,
   "metadata": {},
   "outputs": [
    {
     "data": {
      "text/html": [
       "<div>\n",
       "<style scoped>\n",
       "    .dataframe tbody tr th:only-of-type {\n",
       "        vertical-align: middle;\n",
       "    }\n",
       "\n",
       "    .dataframe tbody tr th {\n",
       "        vertical-align: top;\n",
       "    }\n",
       "\n",
       "    .dataframe thead th {\n",
       "        text-align: right;\n",
       "    }\n",
       "</style>\n",
       "<table border=\"1\" class=\"dataframe\">\n",
       "  <thead>\n",
       "    <tr style=\"text-align: right;\">\n",
       "      <th></th>\n",
       "      <th>0</th>\n",
       "      <th>1</th>\n",
       "      <th>2</th>\n",
       "      <th>3</th>\n",
       "      <th>4</th>\n",
       "      <th>5</th>\n",
       "      <th>6</th>\n",
       "      <th>7</th>\n",
       "      <th>8</th>\n",
       "      <th>9</th>\n",
       "      <th>...</th>\n",
       "      <th>158</th>\n",
       "      <th>159</th>\n",
       "      <th>160</th>\n",
       "      <th>161</th>\n",
       "      <th>162</th>\n",
       "      <th>163</th>\n",
       "      <th>164</th>\n",
       "      <th>165</th>\n",
       "      <th>166</th>\n",
       "      <th>167</th>\n",
       "    </tr>\n",
       "  </thead>\n",
       "  <tbody>\n",
       "    <tr>\n",
       "      <th>0</th>\n",
       "      <td>0.000000</td>\n",
       "      <td>0.000000</td>\n",
       "      <td>0.000000</td>\n",
       "      <td>0.000000</td>\n",
       "      <td>0.000000</td>\n",
       "      <td>0.00000</td>\n",
       "      <td>0.000000</td>\n",
       "      <td>0.226172</td>\n",
       "      <td>0.226172</td>\n",
       "      <td>0.106015</td>\n",
       "      <td>...</td>\n",
       "      <td>0.000000</td>\n",
       "      <td>0.00000</td>\n",
       "      <td>0.000000</td>\n",
       "      <td>0.000000</td>\n",
       "      <td>0.000000</td>\n",
       "      <td>0.130950</td>\n",
       "      <td>0.000000</td>\n",
       "      <td>0.000000</td>\n",
       "      <td>0.000000</td>\n",
       "      <td>0.000000</td>\n",
       "    </tr>\n",
       "    <tr>\n",
       "      <th>1</th>\n",
       "      <td>0.032392</td>\n",
       "      <td>0.000000</td>\n",
       "      <td>0.032392</td>\n",
       "      <td>0.000000</td>\n",
       "      <td>0.054512</td>\n",
       "      <td>0.04062</td>\n",
       "      <td>0.034485</td>\n",
       "      <td>0.000000</td>\n",
       "      <td>0.000000</td>\n",
       "      <td>0.083011</td>\n",
       "      <td>...</td>\n",
       "      <td>0.000000</td>\n",
       "      <td>0.13067</td>\n",
       "      <td>0.022843</td>\n",
       "      <td>0.022843</td>\n",
       "      <td>0.063534</td>\n",
       "      <td>0.013226</td>\n",
       "      <td>0.032392</td>\n",
       "      <td>0.040829</td>\n",
       "      <td>0.038587</td>\n",
       "      <td>0.000000</td>\n",
       "    </tr>\n",
       "    <tr>\n",
       "      <th>2</th>\n",
       "      <td>0.000000</td>\n",
       "      <td>0.054158</td>\n",
       "      <td>0.000000</td>\n",
       "      <td>0.042043</td>\n",
       "      <td>0.000000</td>\n",
       "      <td>0.00000</td>\n",
       "      <td>0.035510</td>\n",
       "      <td>0.000000</td>\n",
       "      <td>0.000000</td>\n",
       "      <td>0.106254</td>\n",
       "      <td>...</td>\n",
       "      <td>0.054158</td>\n",
       "      <td>0.00000</td>\n",
       "      <td>0.000000</td>\n",
       "      <td>0.000000</td>\n",
       "      <td>0.030875</td>\n",
       "      <td>0.175433</td>\n",
       "      <td>0.000000</td>\n",
       "      <td>0.000000</td>\n",
       "      <td>0.071020</td>\n",
       "      <td>0.042043</td>\n",
       "    </tr>\n",
       "  </tbody>\n",
       "</table>\n",
       "<p>3 rows × 168 columns</p>\n",
       "</div>"
      ],
      "text/plain": [
       "        0         1         2         3         4        5         6    \\\n",
       "0  0.000000  0.000000  0.000000  0.000000  0.000000  0.00000  0.000000   \n",
       "1  0.032392  0.000000  0.032392  0.000000  0.054512  0.04062  0.034485   \n",
       "2  0.000000  0.054158  0.000000  0.042043  0.000000  0.00000  0.035510   \n",
       "\n",
       "        7         8         9    ...       158      159       160       161  \\\n",
       "0  0.226172  0.226172  0.106015  ...  0.000000  0.00000  0.000000  0.000000   \n",
       "1  0.000000  0.000000  0.083011  ...  0.000000  0.13067  0.022843  0.022843   \n",
       "2  0.000000  0.000000  0.106254  ...  0.054158  0.00000  0.000000  0.000000   \n",
       "\n",
       "        162       163       164       165       166       167  \n",
       "0  0.000000  0.130950  0.000000  0.000000  0.000000  0.000000  \n",
       "1  0.063534  0.013226  0.032392  0.040829  0.038587  0.000000  \n",
       "2  0.030875  0.175433  0.000000  0.000000  0.071020  0.042043  \n",
       "\n",
       "[3 rows x 168 columns]"
      ]
     },
     "execution_count": 9,
     "metadata": {},
     "output_type": "execute_result"
    }
   ],
   "source": [
    "import pandas as pd\n",
    "centroids = pd.DataFrame(kMeansCluster.cluster_centers_)\n",
    "centroids"
   ]
  },
  {
   "cell_type": "code",
   "execution_count": 24,
   "metadata": {},
   "outputs": [],
   "source": [
    "from scipy.sparse import csr_matrix\n",
    "\n",
    "def save_sparse_csr(filename,array):\n",
    "    np.savez(filename,data = array.data ,indices=array.indices,\n",
    "             indptr =array.indptr, shape=array.shape )\n",
    "\n",
    "def load_sparse_csr(filename):\n",
    "    loader = np.load(filename)\n",
    "    return csr_matrix((loader['data'], loader['indices'], loader['indptr']),\n",
    "                         shape = loader['shape'])\n",
    "\n",
    "save_sparse_csr('laws_tf_idf.npz', tfidf_matrix)"
   ]
  },
  {
   "cell_type": "code",
   "execution_count": 25,
   "metadata": {},
   "outputs": [
    {
     "data": {
      "text/plain": [
       "NearestNeighbors(algorithm='brute', leaf_size=30, metric='cosine',\n",
       "                 metric_params=None, n_jobs=None, n_neighbors=5, p=2,\n",
       "                 radius=1.0)"
      ]
     },
     "execution_count": 25,
     "metadata": {},
     "output_type": "execute_result"
    }
   ],
   "source": [
    "from sklearn.neighbors import NearestNeighbors\n",
    "\n",
    "model_tf_idf = NearestNeighbors(metric='cosine', algorithm='brute')\n",
    "model_tf_idf.fit(tfidf_matrix)"
   ]
  },
  {
   "cell_type": "code",
   "execution_count": null,
   "metadata": {},
   "outputs": [],
   "source": [
    "def print_nearest_neighbors(query_tf_idf, full_bill_dictionary, knn_model, k):\n",
    "    \"\"\"\n",
    "    Inputs: a query tf_idf vector, the dictionary of bills, the knn model, and the number of neighbors\n",
    "    Prints the k nearest neighbors\n",
    "    \"\"\"\n",
    "    distances, indices = knn_model.kneighbors(query_tf_idf, n_neighbors = k+1)\n",
    "    nearest_neighbors = [full_bill_dictionary.keys()[x] for x in indices.flatten()]\n",
    "    \n",
    "    for bill in xrange(len(nearest_neighbors)):\n",
    "        if bill == 0:\n",
    "            print 'Query Law: {0}\\n'.format(nearest_neighbors[bill])\n",
    "        else:\n",
    "            print '{0}: {1}\\n'.format(bill, nearest_neighbors[bill])"
   ]
  },
  {
   "cell_type": "code",
   "execution_count": null,
   "metadata": {},
   "outputs": [],
   "source": [
    "bill_id = np.random.choice(tfidf_matrix.shape[0])\n",
    "print_nearest_neighbors(tfidf_matrix[bill_id], clean_bills_dictionary, model_tf_idf, k=5)"
   ]
  }
 ],
 "metadata": {
  "kernelspec": {
   "display_name": "Python 3",
   "language": "python",
   "name": "python3"
  },
  "language_info": {
   "codemirror_mode": {
    "name": "ipython",
    "version": 3
   },
   "file_extension": ".py",
   "mimetype": "text/x-python",
   "name": "python",
   "nbconvert_exporter": "python",
   "pygments_lexer": "ipython3",
   "version": "3.6.9"
  }
 },
 "nbformat": 4,
 "nbformat_minor": 2
}
