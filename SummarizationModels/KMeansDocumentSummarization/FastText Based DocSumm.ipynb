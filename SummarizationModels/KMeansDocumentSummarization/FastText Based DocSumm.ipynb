{
 "cells": [
  {
   "cell_type": "code",
   "execution_count": 1,
   "metadata": {},
   "outputs": [],
   "source": [
    "from nltk.corpus import stopwords\n",
    "from nltk.stem import PorterStemmer\n",
    "from sklearn.cluster import KMeans\n",
    "from sklearn.decomposition import PCA\n",
    "from gensim.models import Doc2Vec\n",
    "from sklearn.feature_extraction.text import TfidfVectorizer\n",
    "from sklearn.metrics.pairwise import cosine_similarity\n",
    "from nltk.corpus import stopwords\n",
    "from nltk.stem import PorterStemmer\n",
    "from nltk.tokenize import word_tokenize, sent_tokenize\n",
    "from gensim.models.doc2vec import Doc2Vec, TaggedDocument\n",
    "from modules.TextPreProcessor import removeShortDocs, removeStopWords, stemSentences\n",
    "from gensim.models import FastText\n",
    "\n",
    "ps = PorterStemmer()\n",
    "nltk_stop_words = set(stopwords.words('english'))\n",
    "\n",
    "file = open('/home/ifte/amiebot_project/MyAI/AI-system/Summarization Models/Translated_text_mobicontrol_Page01_JP_to_En.txt' , 'r')\n",
    "raw_data = file.read()\n",
    "\n",
    "####################################\n",
    "# PRE-PROCESSING\n",
    "####################################\n",
    "\n",
    "# split document into sentences and strip whitespace (delimeted by line)\n",
    "sentences = raw_data.split('.')\n",
    "sentences = map(lambda sentence: sentence.strip(), sentences)\n",
    "sentences = list(sentences)\n",
    "\n",
    "min_sentence_length = 30\n",
    "\n",
    "# remove sentences that do not contribute meaning by assuming short sentences have less meaning\n",
    "sentences = removeShortDocs(sentences, min_sentence_length)\n",
    "sentences = list(sentences)\n",
    "\n",
    "# remove stop words from all sentences\n",
    "processedSentences = removeStopWords(sentences, nltk_stop_words)\n",
    "#processedSentences\n",
    "\n",
    "sentences = list(sentences)\n",
    "\n",
    "# stem all tokens of all sentences\n",
    "processedSentences = stemSentences(sentences, ps)\n",
    "#processedSentences\n",
    "\n",
    "#####################################\n"
   ]
  },
  {
   "cell_type": "code",
   "execution_count": 19,
   "metadata": {},
   "outputs": [],
   "source": [
    "sent = sentences"
   ]
  },
  {
   "cell_type": "code",
   "execution_count": 20,
   "metadata": {},
   "outputs": [],
   "source": [
    "model = FastText(sentences=sentences, size=100, window=5, min_count=5, workers=4,sg=1)\n",
    "# model = FastText(size=100, window=3, min_count=1, sentences=sentences, word_ngrams=0, sg=0)"
   ]
  },
  {
   "cell_type": "code",
   "execution_count": 21,
   "metadata": {},
   "outputs": [
    {
     "name": "stdout",
     "output_type": "stream",
     "text": [
      "Model Saved\n"
     ]
    }
   ],
   "source": [
    "model.save(\"d2v.model\")\n",
    "print(\"Model Saved\")"
   ]
  },
  {
   "cell_type": "code",
   "execution_count": 3,
   "metadata": {},
   "outputs": [],
   "source": [
    "d2v_model= FastText.load(\"d2v.model\")"
   ]
  },
  {
   "cell_type": "code",
   "execution_count": 9,
   "metadata": {},
   "outputs": [
    {
     "ename": "TypeError",
     "evalue": "'method' object is not iterable",
     "output_type": "error",
     "traceback": [
      "\u001b[0;31m---------------------------------------------------------------------------\u001b[0m",
      "\u001b[0;31mTypeError\u001b[0m                                 Traceback (most recent call last)",
      "\u001b[0;32m<ipython-input-9-760735854d76>\u001b[0m in \u001b[0;36m<module>\u001b[0;34m\u001b[0m\n\u001b[0;32m----> 1\u001b[0;31m \u001b[0mlist\u001b[0m\u001b[0;34m(\u001b[0m\u001b[0md2v_model\u001b[0m\u001b[0;34m.\u001b[0m\u001b[0mwv\u001b[0m\u001b[0;34m.\u001b[0m\u001b[0mget_vector\u001b[0m\u001b[0;34m)\u001b[0m\u001b[0;34m\u001b[0m\u001b[0;34m\u001b[0m\u001b[0m\n\u001b[0m",
      "\u001b[0;31mTypeError\u001b[0m: 'method' object is not iterable"
     ]
    }
   ],
   "source": [
    "list(d2v_model.wv.get_vector)"
   ]
  },
  {
   "cell_type": "code",
   "execution_count": 5,
   "metadata": {},
   "outputs": [
    {
     "name": "stderr",
     "output_type": "stream",
     "text": [
      "/home/ifte/amiebot_project/lib/python3.6/site-packages/ipykernel_launcher.py:2: DeprecationWarning: Call to deprecated `syn0` (Attribute will be removed in 4.0.0, use self.vectors instead).\n",
      "  \n",
      "/home/ifte/amiebot_project/lib/python3.6/site-packages/ipykernel_launcher.py:4: DeprecationWarning: Call to deprecated `syn0` (Attribute will be removed in 4.0.0, use self.vectors instead).\n",
      "  after removing the cwd from sys.path.\n",
      "/home/ifte/amiebot_project/lib/python3.6/site-packages/ipykernel_launcher.py:5: DeprecationWarning: Call to deprecated `syn0` (Attribute will be removed in 4.0.0, use self.vectors instead).\n",
      "  \"\"\"\n",
      "/home/ifte/amiebot_project/lib/python3.6/site-packages/ipykernel_launcher.py:6: DeprecationWarning: Call to deprecated `syn0` (Attribute will be removed in 4.0.0, use self.vectors instead).\n",
      "  \n"
     ]
    },
    {
     "data": {
      "image/png": "[encoded data removed]",
      "text/plain": [
       "<Figure size 432x288 with 1 Axes>"
      ]
     },
     "metadata": {
      "needs_background": "light"
     },
     "output_type": "display_data"
    }
   ],
   "source": [
    "kmeans_model = KMeans(n_clusters=4, init='k-means++', max_iter=100) \n",
    "X = kmeans_model.fit(d2v_model.wv.syn0)\n",
    "clusters=kmeans_model.labels_.tolist()\n",
    "l = kmeans_model.fit_predict(d2v_model.wv.syn0)\n",
    "pca = PCA(n_components=2).fit(d2v_model.wv.syn0)\n",
    "datapoint = pca.transform(d2v_model.wv.syn0)\n",
    "\n",
    "import matplotlib.pyplot as plt\n",
    "\n",
    "%matplotlib inline\n",
    "plt.figure\n",
    "label1 = ['#FFFF00', '#008000', '#0000FF', '#800080']\n",
    "color = [label1[i] for i in clusters]\n",
    "plt.scatter(datapoint[:, 0], datapoint[:, 1], c=color)\n",
    "centroids = kmeans_model.cluster_centers_\n",
    "centroidpoint = pca.transform(centroids)\n",
    "plt.scatter(centroidpoint[:, 0], centroidpoint[:, 1], marker='^', s=50, c='#000000')\n",
    "plt.show()"
   ]
  },
  {
   "cell_type": "code",
   "execution_count": 12,
   "metadata": {},
   "outputs": [
    {
     "name": "stderr",
     "output_type": "stream",
     "text": [
      "/home/ifte/amiebot_project/lib/python3.6/site-packages/ipykernel_launcher.py:3: DeprecationWarning: Call to deprecated `syn0` (Attribute will be removed in 4.0.0, use self.vectors instead).\n",
      "  This is separate from the ipykernel package so we can avoid doing imports until\n"
     ]
    }
   ],
   "source": [
    "# cluster our tokenized sentences into 10 groups\n",
    "kMeansCluster = KMeans(n_clusters=4)\n",
    "kMeansCluster.fit(d2v_model.wv.syn0)\n",
    "clusters = kMeansCluster.labels_.tolist()"
   ]
  },
  {
   "cell_type": "code",
   "execution_count": 7,
   "metadata": {},
   "outputs": [
    {
     "name": "stderr",
     "output_type": "stream",
     "text": [
      "/home/ifte/amiebot_project/lib/python3.6/site-packages/ipykernel_launcher.py:3: DeprecationWarning: Call to deprecated `syn0` (Attribute will be removed in 4.0.0, use self.vectors instead).\n",
      "  This is separate from the ipykernel package so we can avoid doing imports until\n"
     ]
    },
    {
     "data": {
      "text/plain": [
       "57"
      ]
     },
     "execution_count": 7,
     "metadata": {},
     "output_type": "execute_result"
    }
   ],
   "source": [
    "len(clusters)\n",
    "sentences\n",
    "len(d2v_model.wv.syn0)\n",
    "#list(enumerate(sentences))"
   ]
  },
  {
   "cell_type": "code",
   "execution_count": null,
   "metadata": {},
   "outputs": [],
   "source": []
  },
  {
   "cell_type": "code",
   "execution_count": 6,
   "metadata": {},
   "outputs": [
    {
     "ename": "IndexError",
     "evalue": "list index out of range",
     "output_type": "error",
     "traceback": [
      "\u001b[0;31m---------------------------------------------------------------------------\u001b[0m",
      "\u001b[0;31mIndexError\u001b[0m                                Traceback (most recent call last)",
      "\u001b[0;32m<ipython-input-6-78bdd0cb44b9>\u001b[0m in \u001b[0;36m<module>\u001b[0;34m\u001b[0m\n\u001b[1;32m     10\u001b[0m         \u001b[0msentenceDictionary\u001b[0m\u001b[0;34m[\u001b[0m\u001b[0midx\u001b[0m\u001b[0;34m]\u001b[0m \u001b[0;34m=\u001b[0m \u001b[0;34m{\u001b[0m\u001b[0;34m}\u001b[0m\u001b[0;34m\u001b[0m\u001b[0;34m\u001b[0m\u001b[0m\n\u001b[1;32m     11\u001b[0m         \u001b[0msentenceDictionary\u001b[0m\u001b[0;34m[\u001b[0m\u001b[0midx\u001b[0m\u001b[0;34m]\u001b[0m\u001b[0;34m[\u001b[0m\u001b[0;34m'text'\u001b[0m\u001b[0;34m]\u001b[0m \u001b[0;34m=\u001b[0m \u001b[0msentence\u001b[0m\u001b[0;34m\u001b[0m\u001b[0;34m\u001b[0m\u001b[0m\n\u001b[0;32m---> 12\u001b[0;31m         \u001b[0msentenceDictionary\u001b[0m\u001b[0;34m[\u001b[0m\u001b[0midx\u001b[0m\u001b[0;34m]\u001b[0m\u001b[0;34m[\u001b[0m\u001b[0;34m'cluster'\u001b[0m\u001b[0;34m]\u001b[0m \u001b[0;34m=\u001b[0m \u001b[0mclusters\u001b[0m\u001b[0;34m[\u001b[0m\u001b[0midx\u001b[0m\u001b[0;34m]\u001b[0m\u001b[0;34m\u001b[0m\u001b[0;34m\u001b[0m\u001b[0m\n\u001b[0m\u001b[1;32m     13\u001b[0m         \u001b[0msentenceDictionary\u001b[0m\u001b[0;34m[\u001b[0m\u001b[0midx\u001b[0m\u001b[0;34m]\u001b[0m\u001b[0;34m[\u001b[0m\u001b[0;34m'stemmed'\u001b[0m\u001b[0;34m]\u001b[0m \u001b[0;34m=\u001b[0m \u001b[0mprocessedSentences\u001b[0m\u001b[0;34m[\u001b[0m\u001b[0midx\u001b[0m\u001b[0;34m]\u001b[0m\u001b[0;34m\u001b[0m\u001b[0;34m\u001b[0m\u001b[0m\n\u001b[1;32m     14\u001b[0m \u001b[0;34m\u001b[0m\u001b[0m\n",
      "\u001b[0;31mIndexError\u001b[0m: list index out of range"
     ]
    }
   ],
   "source": [
    "####################################\n",
    "# Organize Cluster Results\n",
    "####################################\n",
    "\n",
    "# Create new dictionary that tracks which cluster each sentence belongs to\n",
    "# keeps copy of original sentences and stemmed sentences\n",
    "# sentenceDictionary { idx: { text: String, stemmed: String, cluster: Number } }\n",
    "sentenceDictionary = {}\n",
    "for idx, sentence in enumerate(sentences):\n",
    "\tsentenceDictionary[idx] = {}\n",
    "\tsentenceDictionary[idx]['text'] = sentence\n",
    "\tsentenceDictionary[idx]['cluster'] = clusters[idx]\n",
    "\tsentenceDictionary[idx]['stemmed'] = processedSentences[idx]\n",
    "\n",
    "# Create new dictionary that contains 1 entry for each cluster\n",
    "# each key in dictionary will point to array of sentences, all of which belong to that cluster\n",
    "# we attach the index to the sentenceDictionary object so we can recall the original sentence\n",
    "clusterDictionary = {}\n",
    "for key, sentence in sentenceDictionary.items():\n",
    "\tif sentence['cluster'] not in clusterDictionary:\n",
    "\t\tclusterDictionary[sentence['cluster']] = []\n",
    "\tclusterDictionary[sentence['cluster']].append(sentence['stemmed'])\n",
    "\tsentence['idx'] = len(clusterDictionary[sentence['cluster']]) - 1\n",
    "\n",
    "\n",
    "vectorizer = TfidfVectorizer()\n",
    "\n",
    "####################################\n",
    "# Calculate Cosine Similarity Scores\n",
    "####################################\t\t\n",
    "\n",
    "# For each cluster of sentences,\n",
    "# Find the sentence with highet cosine similarity over all sentences in cluster\n",
    "maxCosineScores = {}\n",
    "for key, clusterSentences in clusterDictionary.items():\n",
    "\tmaxCosineScores[key] = {}\n",
    "\tmaxCosineScores[key]['score'] = 0\n",
    "\ttfidf_matrix = vectorizer.fit_transform(clusterSentences)\n",
    "\tcos_sim_matrix = cosine_similarity(tfidf_matrix)\n",
    "    \n",
    "\tfor idx, row in enumerate(cos_sim_matrix):\n",
    "\t\tsum = 0\n",
    "\t\tfor col in row:\n",
    "\t\t\tsum += col\n",
    "\t\tif sum > maxCosineScores[key]['score']:\n",
    "\t\t\tmaxCosineScores[key]['score'] = sum\n",
    "\t\t\tmaxCosineScores[key]['idx'] = idx\n",
    "\n",
    "\n",
    "####################################\n",
    "# Construct Document Summary\n",
    "####################################\t\n",
    "\n",
    "# for every cluster's max cosine score,\n",
    "# find the corresponding original sentence\n",
    "resultIndices = []\n",
    "i = 0\n",
    "for key, value in maxCosineScores.items():\n",
    "\tcluster = key\n",
    "\tidx = value['idx']\n",
    "\tstemmedSentence = clusterDictionary[cluster][idx]\n",
    "\t# key corresponds to the sentences index of the original document\n",
    "\t# we will use this key to sort our results in order of original document\n",
    "\tfor key, value in sentenceDictionary.items():\n",
    "\t\tif value['cluster'] == cluster and value['idx'] == idx:\n",
    "\t\t\tresultIndices.append(key)\n",
    "\n",
    "resultIndices.sort()\n",
    "\n",
    "# Iterate over sentences and construct summary output\n",
    "result = ''\n",
    "for idx in resultIndices:\n",
    "\tresult += sentences[idx] + ' '\n",
    "\t\t\n",
    "\n",
    "print(result)"
   ]
  },
  {
   "cell_type": "code",
   "execution_count": 16,
   "metadata": {},
   "outputs": [
    {
     "data": {
      "text/plain": [
       "57"
      ]
     },
     "execution_count": 16,
     "metadata": {},
     "output_type": "execute_result"
    }
   ],
   "source": [
    "clusters\n",
    "len(clusters)"
   ]
  }
 ],
 "metadata": {
  "kernelspec": {
   "display_name": "Python 3",
   "language": "python",
   "name": "python3"
  },
  "language_info": {
   "codemirror_mode": {
    "name": "ipython",
    "version": 3
   },
   "file_extension": ".py",
   "mimetype": "text/x-python",
   "name": "python",
   "nbconvert_exporter": "python",
   "pygments_lexer": "ipython3",
   "version": "3.6.8"
  }
 },
 "nbformat": 4,
 "nbformat_minor": 2
}
