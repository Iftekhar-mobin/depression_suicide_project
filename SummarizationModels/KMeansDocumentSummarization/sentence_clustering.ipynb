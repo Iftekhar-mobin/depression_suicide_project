{
 "cells": [
  {
   "cell_type": "code",
   "execution_count": 1,
   "metadata": {},
   "outputs": [],
   "source": [
    "import re\n",
    "import numpy\n",
    "from os import listdir\n",
    "from os.path import join, abspath\n",
    "from nltk.corpus import stopwords\n",
    "from nltk.stem import PorterStemmer\n",
    "from sklearn.feature_extraction.text import TfidfVectorizer\n",
    "from sklearn.metrics.pairwise import cosine_similarity\n",
    "from sklearn.cluster import KMeans\n",
    "from modules.TextPreProcessor import removeShortDocs\n",
    "from modules.TextPreProcessor import removeStopWords\n",
    "from modules.TextPreProcessor import stemSentences\n",
    "import pandas as pd\n",
    "from collections import Counter"
   ]
  },
  {
   "cell_type": "code",
   "execution_count": 2,
   "metadata": {},
   "outputs": [],
   "source": [
    "df = pd.read_pickle('/home/ifte/alechat_core/corpus/processed/processed_features.pkl')"
   ]
  },
  {
   "cell_type": "code",
   "execution_count": 3,
   "metadata": {},
   "outputs": [],
   "source": [
    "collector = []\n",
    "length = len(df)\n",
    "for i in range(length):\n",
    "    collector.append([x for x in df.lines[i]])"
   ]
  },
  {
   "cell_type": "code",
   "execution_count": 4,
   "metadata": {},
   "outputs": [],
   "source": [
    "all_sentences = [x for sub in collector for x in sub]\n",
    "def page_text_split(page_text, word_limit):\n",
    "    page_text = page_text.split()\n",
    "    return [' '.join(page_text[i:i + word_limit]) for i in range(0, len(page_text), word_limit)]\n",
    "collector = []\n",
    "for i in all_sentences:\n",
    "    if len(i) > 200:\n",
    "        collector.extend(page_text_split(i, 15))\n",
    "    else:\n",
    "        collector.append(i)"
   ]
  },
  {
   "cell_type": "code",
   "execution_count": 5,
   "metadata": {},
   "outputs": [],
   "source": [
    "ps = PorterStemmer()\n",
    "nltk_stop_words = set(stopwords.words('english'))"
   ]
  },
  {
   "cell_type": "code",
   "execution_count": 6,
   "metadata": {},
   "outputs": [],
   "source": [
    "# remove sentences that do not contribute meaning by assuming short sentences have less meaning\n",
    "sentences = [i for i in collector if len(i) > 25]\n",
    "\n",
    "# remove stop words from all sentences\n",
    "processedSentences = removeStopWords(sentences, nltk_stop_words)\n",
    "\n",
    "# stem all tokens of all sentences\n",
    "# processedSentences = stemSentences(sentences, ps)"
   ]
  },
  {
   "cell_type": "code",
   "execution_count": null,
   "metadata": {},
   "outputs": [],
   "source": [
    "processedSentences"
   ]
  },
  {
   "cell_type": "code",
   "execution_count": 7,
   "metadata": {},
   "outputs": [],
   "source": [
    "from spacy import load as spacy_model_load\n",
    "spacy_model = spacy_model_load(\"en_core_web_sm\")\n",
    "RECOMMEND_FEATURES = ['PROPN', 'NOUN']\n",
    "processed = []\n",
    "for sent in processedSentences:\n",
    "    doc = spacy_model(sent)\n",
    "    collector = []\n",
    "    for token in doc:\n",
    "        if not token.is_stop and token.pos_ in RECOMMEND_FEATURES:\n",
    "            collector.append(str(token.lemma_))\n",
    "    processed.append(' '.join(collector))"
   ]
  },
  {
   "cell_type": "code",
   "execution_count": 8,
   "metadata": {},
   "outputs": [],
   "source": [
    "cluster_count = int(len(processed)/25)"
   ]
  },
  {
   "cell_type": "code",
   "execution_count": 9,
   "metadata": {},
   "outputs": [],
   "source": [
    "# create tfidf matrix from the processed sentences\n",
    "vector = TfidfVectorizer()\n",
    "tfidf_matrix = vector.fit_transform(processed)\n",
    "\n",
    "# cluster our tokenized sentences into 10 groups\n",
    "kMeansCluster = KMeans(n_clusters=cluster_count)\n",
    "kMeansCluster.fit(tfidf_matrix)\n",
    "clusters = kMeansCluster.labels_.tolist()"
   ]
  },
  {
   "cell_type": "code",
   "execution_count": 27,
   "metadata": {},
   "outputs": [],
   "source": [
    "df = pd.DataFrame(zip(clusters, sentences, processedSentences), columns=['id', 'raw', 'processed'])"
   ]
  },
  {
   "cell_type": "code",
   "execution_count": 52,
   "metadata": {},
   "outputs": [
    {
     "data": {
      "text/html": [
       "<div>\n",
       "<style scoped>\n",
       "    .dataframe tbody tr th:only-of-type {\n",
       "        vertical-align: middle;\n",
       "    }\n",
       "\n",
       "    .dataframe tbody tr th {\n",
       "        vertical-align: top;\n",
       "    }\n",
       "\n",
       "    .dataframe thead th {\n",
       "        text-align: right;\n",
       "    }\n",
       "</style>\n",
       "<table border=\"1\" class=\"dataframe\">\n",
       "  <thead>\n",
       "    <tr style=\"text-align: right;\">\n",
       "      <th></th>\n",
       "      <th>id</th>\n",
       "      <th>raw</th>\n",
       "      <th>processed</th>\n",
       "    </tr>\n",
       "  </thead>\n",
       "  <tbody>\n",
       "    <tr>\n",
       "      <th>0</th>\n",
       "      <td>17</td>\n",
       "      <td>inveitco inveitco blog custom pages clients bl...</td>\n",
       "      <td>inveitco inveitco blog custom pages clients bl...</td>\n",
       "    </tr>\n",
       "    <tr>\n",
       "      <th>1</th>\n",
       "      <td>2</td>\n",
       "      <td>us transitions left right animation fade up do...</td>\n",
       "      <td>us transitions left right animation fade anima...</td>\n",
       "    </tr>\n",
       "    <tr>\n",
       "      <th>2</th>\n",
       "      <td>15</td>\n",
       "      <td>text under image without space home about us s...</td>\n",
       "      <td>text image without space home us services solu...</td>\n",
       "    </tr>\n",
       "    <tr>\n",
       "      <th>3</th>\n",
       "      <td>9</td>\n",
       "      <td>us inveitco inveitco blog  page template page ...</td>\n",
       "      <td>us inveitco inveitco blog page template page t...</td>\n",
       "    </tr>\n",
       "    <tr>\n",
       "      <th>4</th>\n",
       "      <td>4</td>\n",
       "      <td>ajax fade page not loaded qode theme ver</td>\n",
       "      <td>ajax fade page loaded qode theme ver</td>\n",
       "    </tr>\n",
       "  </tbody>\n",
       "</table>\n",
       "</div>"
      ],
      "text/plain": [
       "   id                                                raw  \\\n",
       "0  17  inveitco inveitco blog custom pages clients bl...   \n",
       "1   2  us transitions left right animation fade up do...   \n",
       "2  15  text under image without space home about us s...   \n",
       "3   9  us inveitco inveitco blog  page template page ...   \n",
       "4   4        ajax fade page not loaded qode theme ver      \n",
       "\n",
       "                                           processed  \n",
       "0  inveitco inveitco blog custom pages clients bl...  \n",
       "1  us transitions left right animation fade anima...  \n",
       "2  text image without space home us services solu...  \n",
       "3  us inveitco inveitco blog page template page t...  \n",
       "4               ajax fade page loaded qode theme ver  "
      ]
     },
     "execution_count": 52,
     "metadata": {},
     "output_type": "execute_result"
    }
   ],
   "source": [
    "df.head()"
   ]
  },
  {
   "cell_type": "code",
   "execution_count": 54,
   "metadata": {},
   "outputs": [],
   "source": [
    "raw = [df[(df['id'] == i)].raw.values.tolist() for i in [x for x in df.id.unique()]]\n",
    "processed = [df[(df['id'] == i)].processed.values.tolist() for i in [x for x in df.id.unique()]]"
   ]
  },
  {
   "cell_type": "code",
   "execution_count": 55,
   "metadata": {},
   "outputs": [],
   "source": [
    "df = pd.DataFrame(zip(raw, processed), columns=['raw', 'processed'])"
   ]
  },
  {
   "cell_type": "code",
   "execution_count": 56,
   "metadata": {},
   "outputs": [
    {
     "data": {
      "text/html": [
       "<div>\n",
       "<style scoped>\n",
       "    .dataframe tbody tr th:only-of-type {\n",
       "        vertical-align: middle;\n",
       "    }\n",
       "\n",
       "    .dataframe tbody tr th {\n",
       "        vertical-align: top;\n",
       "    }\n",
       "\n",
       "    .dataframe thead th {\n",
       "        text-align: right;\n",
       "    }\n",
       "</style>\n",
       "<table border=\"1\" class=\"dataframe\">\n",
       "  <thead>\n",
       "    <tr style=\"text-align: right;\">\n",
       "      <th></th>\n",
       "      <th>raw</th>\n",
       "      <th>processed</th>\n",
       "    </tr>\n",
       "  </thead>\n",
       "  <tbody>\n",
       "    <tr>\n",
       "      <th>0</th>\n",
       "      <td>[inveitco inveitco blog custom pages clients b...</td>\n",
       "      <td>[inveitco inveitco blog custom pages clients b...</td>\n",
       "    </tr>\n",
       "    <tr>\n",
       "      <th>1</th>\n",
       "      <td>[us transitions left right animation fade up d...</td>\n",
       "      <td>[us transitions left right animation fade anim...</td>\n",
       "    </tr>\n",
       "    <tr>\n",
       "      <th>2</th>\n",
       "      <td>[text under image without space home about us ...</td>\n",
       "      <td>[text image without space home us services sol...</td>\n",
       "    </tr>\n",
       "    <tr>\n",
       "      <th>3</th>\n",
       "      <td>[us inveitco inveitco blog  page template page...</td>\n",
       "      <td>[us inveitco inveitco blog page template page ...</td>\n",
       "    </tr>\n",
       "    <tr>\n",
       "      <th>4</th>\n",
       "      <td>[ajax fade page not loaded qode theme ver   , ...</td>\n",
       "      <td>[ajax fade page loaded qode theme ver, page pa...</td>\n",
       "    </tr>\n",
       "  </tbody>\n",
       "</table>\n",
       "</div>"
      ],
      "text/plain": [
       "                                                 raw  \\\n",
       "0  [inveitco inveitco blog custom pages clients b...   \n",
       "1  [us transitions left right animation fade up d...   \n",
       "2  [text under image without space home about us ...   \n",
       "3  [us inveitco inveitco blog  page template page...   \n",
       "4  [ajax fade page not loaded qode theme ver   , ...   \n",
       "\n",
       "                                           processed  \n",
       "0  [inveitco inveitco blog custom pages clients b...  \n",
       "1  [us transitions left right animation fade anim...  \n",
       "2  [text image without space home us services sol...  \n",
       "3  [us inveitco inveitco blog page template page ...  \n",
       "4  [ajax fade page loaded qode theme ver, page pa...  "
      ]
     },
     "execution_count": 56,
     "metadata": {},
     "output_type": "execute_result"
    }
   ],
   "source": [
    "df.head()"
   ]
  },
  {
   "cell_type": "code",
   "execution_count": 57,
   "metadata": {},
   "outputs": [],
   "source": [
    "collector = []\n",
    "length = len(df)\n",
    "for i in range(length):\n",
    "    doc = spacy_model(' '.join([x for x in df.raw[i]]))\n",
    "    collector.append(sorted([str(x) for x in doc.noun_chunks], key=len, reverse=True)[0])"
   ]
  },
  {
   "cell_type": "code",
   "execution_count": 59,
   "metadata": {},
   "outputs": [],
   "source": [
    "df['header'] = collector"
   ]
  },
  {
   "cell_type": "code",
   "execution_count": 60,
   "metadata": {},
   "outputs": [
    {
     "data": {
      "text/html": [
       "<div>\n",
       "<style scoped>\n",
       "    .dataframe tbody tr th:only-of-type {\n",
       "        vertical-align: middle;\n",
       "    }\n",
       "\n",
       "    .dataframe tbody tr th {\n",
       "        vertical-align: top;\n",
       "    }\n",
       "\n",
       "    .dataframe thead th {\n",
       "        text-align: right;\n",
       "    }\n",
       "</style>\n",
       "<table border=\"1\" class=\"dataframe\">\n",
       "  <thead>\n",
       "    <tr style=\"text-align: right;\">\n",
       "      <th></th>\n",
       "      <th>raw</th>\n",
       "      <th>processed</th>\n",
       "      <th>header</th>\n",
       "    </tr>\n",
       "  </thead>\n",
       "  <tbody>\n",
       "    <tr>\n",
       "      <th>0</th>\n",
       "      <td>[inveitco inveitco blog custom pages clients b...</td>\n",
       "      <td>[inveitco inveitco blog custom pages clients b...</td>\n",
       "      <td>clients blog contact inveitco orca australia c...</td>\n",
       "    </tr>\n",
       "    <tr>\n",
       "      <th>1</th>\n",
       "      <td>[us transitions left right animation fade up d...</td>\n",
       "      <td>[us transitions left right animation fade anim...</td>\n",
       "      <td>animation portfolio gallery style gallery styl...</td>\n",
       "    </tr>\n",
       "    <tr>\n",
       "      <th>2</th>\n",
       "      <td>[text under image without space home about us ...</td>\n",
       "      <td>[text image without space home us services sol...</td>\n",
       "      <td>us services solutions portfolio blog contact text</td>\n",
       "    </tr>\n",
       "    <tr>\n",
       "      <th>3</th>\n",
       "      <td>[us inveitco inveitco blog  page template page...</td>\n",
       "      <td>[us inveitco inveitco blog page template page ...</td>\n",
       "      <td>page template page template full width page te...</td>\n",
       "    </tr>\n",
       "    <tr>\n",
       "      <th>4</th>\n",
       "      <td>[ajax fade page not loaded qode theme ver   , ...</td>\n",
       "      <td>[ajax fade page loaded qode theme ver, page pa...</td>\n",
       "      <td>page parent ajax fade page</td>\n",
       "    </tr>\n",
       "  </tbody>\n",
       "</table>\n",
       "</div>"
      ],
      "text/plain": [
       "                                                 raw  \\\n",
       "0  [inveitco inveitco blog custom pages clients b...   \n",
       "1  [us transitions left right animation fade up d...   \n",
       "2  [text under image without space home about us ...   \n",
       "3  [us inveitco inveitco blog  page template page...   \n",
       "4  [ajax fade page not loaded qode theme ver   , ...   \n",
       "\n",
       "                                           processed  \\\n",
       "0  [inveitco inveitco blog custom pages clients b...   \n",
       "1  [us transitions left right animation fade anim...   \n",
       "2  [text image without space home us services sol...   \n",
       "3  [us inveitco inveitco blog page template page ...   \n",
       "4  [ajax fade page loaded qode theme ver, page pa...   \n",
       "\n",
       "                                              header  \n",
       "0  clients blog contact inveitco orca australia c...  \n",
       "1  animation portfolio gallery style gallery styl...  \n",
       "2  us services solutions portfolio blog contact text  \n",
       "3  page template page template full width page te...  \n",
       "4                         page parent ajax fade page  "
      ]
     },
     "execution_count": 60,
     "metadata": {},
     "output_type": "execute_result"
    }
   ],
   "source": [
    "df.head()"
   ]
  },
  {
   "cell_type": "code",
   "execution_count": 67,
   "metadata": {},
   "outputs": [],
   "source": [
    "generator = []\n",
    "for heads in df['header'].values:\n",
    "    generator.append([' '.join(y) for y in [x.split() for x in page_text_split(heads, 3)] if len(y)>2])\n",
    "\n",
    "df['generator'] = generator\n"
   ]
  },
  {
   "cell_type": "code",
   "execution_count": 88,
   "metadata": {},
   "outputs": [],
   "source": [
    "data = [x.split() for x in list(set([i for sub in [x for x in df.raw.values.tolist()] for i in sub]))]"
   ]
  },
  {
   "cell_type": "code",
   "execution_count": null,
   "metadata": {},
   "outputs": [],
   "source": [
    "data"
   ]
  },
  {
   "cell_type": "code",
   "execution_count": 90,
   "metadata": {},
   "outputs": [],
   "source": [
    "    TOKEN_SIZE = 3\n",
    "# Another model\n",
    "    def sequence_frequency_dict(data):\n",
    "        words_tokens = [s for sublist in data for s in sublist]\n",
    "        sequence_dict = {}\n",
    "        for c in range(len(words_tokens) - TOKEN_SIZE):\n",
    "            seq = ' '.join(words_tokens[c:c + TOKEN_SIZE])\n",
    "            if seq not in sequence_dict.keys():\n",
    "                sequence_dict[seq] = []\n",
    "            sequence_dict[seq].append(words_tokens[c + TOKEN_SIZE])\n",
    "        return sequence_dict\n",
    "\n",
    "    # Another model\n",
    "    def reply_generate(query, data):\n",
    "        sequence_dict = sequence_frequency_dict(data)\n",
    "        curr_sequence = query\n",
    "        result = curr_sequence\n",
    "        for counter in range(100):\n",
    "            if curr_sequence not in sequence_dict.keys():\n",
    "                break\n",
    "            possible_words = sequence_dict[curr_sequence]\n",
    "            result += ' ' + Counter(possible_words).most_common(1)[0][0]\n",
    "            seq_words = result.split()\n",
    "            curr_sequence = ' '.join(seq_words[len(seq_words) - TOKEN_SIZE:len(seq_words)])\n",
    "        return result\n",
    "\n",
    "    def driver(queries, data):\n",
    "        collector = []\n",
    "        for query in queries:\n",
    "            collector.append(reply_generate(query, data))\n",
    "        return collector"
   ]
  },
  {
   "cell_type": "code",
   "execution_count": 114,
   "metadata": {},
   "outputs": [],
   "source": [
    "collect = []\n",
    "for items in df['generator'].values:\n",
    "    collect.append(driver(items, data))\n",
    "\n",
    "df['reply'] = collect"
   ]
  },
  {
   "cell_type": "code",
   "execution_count": 117,
   "metadata": {},
   "outputs": [
    {
     "data": {
      "text/html": [
       "<div>\n",
       "<style scoped>\n",
       "    .dataframe tbody tr th:only-of-type {\n",
       "        vertical-align: middle;\n",
       "    }\n",
       "\n",
       "    .dataframe tbody tr th {\n",
       "        vertical-align: top;\n",
       "    }\n",
       "\n",
       "    .dataframe thead th {\n",
       "        text-align: right;\n",
       "    }\n",
       "</style>\n",
       "<table border=\"1\" class=\"dataframe\">\n",
       "  <thead>\n",
       "    <tr style=\"text-align: right;\">\n",
       "      <th></th>\n",
       "      <th>raw</th>\n",
       "      <th>processed</th>\n",
       "      <th>header</th>\n",
       "      <th>generator</th>\n",
       "      <th>reply</th>\n",
       "    </tr>\n",
       "  </thead>\n",
       "  <tbody>\n",
       "    <tr>\n",
       "      <th>0</th>\n",
       "      <td>[inveitco inveitco blog custom pages clients b...</td>\n",
       "      <td>[inveitco inveitco blog custom pages clients b...</td>\n",
       "      <td>clients blog contact inveitco orca australia c...</td>\n",
       "      <td>[clients blog contact, inveitco orca australia]</td>\n",
       "      <td>[clients blog contact us inveitco about us pag...</td>\n",
       "    </tr>\n",
       "    <tr>\n",
       "      <th>1</th>\n",
       "      <td>[us transitions left right animation fade up d...</td>\n",
       "      <td>[us transitions left right animation fade anim...</td>\n",
       "      <td>animation portfolio gallery style gallery styl...</td>\n",
       "      <td>[animation portfolio gallery, style gallery st...</td>\n",
       "      <td>[animation portfolio gallery style gallery sty...</td>\n",
       "    </tr>\n",
       "    <tr>\n",
       "      <th>2</th>\n",
       "      <td>[text under image without space home about us ...</td>\n",
       "      <td>[text image without space home us services sol...</td>\n",
       "      <td>us services solutions portfolio blog contact text</td>\n",
       "      <td>[us services solutions, portfolio blog contact]</td>\n",
       "      <td>[us services solutions portfolio blog contact ...</td>\n",
       "    </tr>\n",
       "    <tr>\n",
       "      <th>3</th>\n",
       "      <td>[us inveitco inveitco blog  page template page...</td>\n",
       "      <td>[us inveitco inveitco blog page template page ...</td>\n",
       "      <td>page template page template full width page te...</td>\n",
       "      <td>[page template page, template full width, page...</td>\n",
       "      <td>[page template page template full width page t...</td>\n",
       "    </tr>\n",
       "    <tr>\n",
       "      <th>4</th>\n",
       "      <td>[ajax fade page not loaded qode theme ver   , ...</td>\n",
       "      <td>[ajax fade page loaded qode theme ver, page pa...</td>\n",
       "      <td>page parent ajax fade page</td>\n",
       "      <td>[page parent ajax]</td>\n",
       "      <td>[page parent ajax fade page not loaded qode th...</td>\n",
       "    </tr>\n",
       "  </tbody>\n",
       "</table>\n",
       "</div>"
      ],
      "text/plain": [
       "                                                 raw  \\\n",
       "0  [inveitco inveitco blog custom pages clients b...   \n",
       "1  [us transitions left right animation fade up d...   \n",
       "2  [text under image without space home about us ...   \n",
       "3  [us inveitco inveitco blog  page template page...   \n",
       "4  [ajax fade page not loaded qode theme ver   , ...   \n",
       "\n",
       "                                           processed  \\\n",
       "0  [inveitco inveitco blog custom pages clients b...   \n",
       "1  [us transitions left right animation fade anim...   \n",
       "2  [text image without space home us services sol...   \n",
       "3  [us inveitco inveitco blog page template page ...   \n",
       "4  [ajax fade page loaded qode theme ver, page pa...   \n",
       "\n",
       "                                              header  \\\n",
       "0  clients blog contact inveitco orca australia c...   \n",
       "1  animation portfolio gallery style gallery styl...   \n",
       "2  us services solutions portfolio blog contact text   \n",
       "3  page template page template full width page te...   \n",
       "4                         page parent ajax fade page   \n",
       "\n",
       "                                           generator  \\\n",
       "0    [clients blog contact, inveitco orca australia]   \n",
       "1  [animation portfolio gallery, style gallery st...   \n",
       "2    [us services solutions, portfolio blog contact]   \n",
       "3  [page template page, template full width, page...   \n",
       "4                                 [page parent ajax]   \n",
       "\n",
       "                                               reply  \n",
       "0  [clients blog contact us inveitco about us pag...  \n",
       "1  [animation portfolio gallery style gallery sty...  \n",
       "2  [us services solutions portfolio blog contact ...  \n",
       "3  [page template page template full width page t...  \n",
       "4  [page parent ajax fade page not loaded qode th...  "
      ]
     },
     "execution_count": 117,
     "metadata": {},
     "output_type": "execute_result"
    }
   ],
   "source": [
    "df.head()"
   ]
  }
 ],
 "metadata": {
  "kernelspec": {
   "display_name": "Python 3 (ipykernel)",
   "language": "python",
   "name": "python3"
  },
  "language_info": {
   "codemirror_mode": {
    "name": "ipython",
    "version": 3
   },
   "file_extension": ".py",
   "mimetype": "text/x-python",
   "name": "python",
   "nbconvert_exporter": "python",
   "pygments_lexer": "ipython3",
   "version": "3.7.15"
  }
 },
 "nbformat": 4,
 "nbformat_minor": 4
}
