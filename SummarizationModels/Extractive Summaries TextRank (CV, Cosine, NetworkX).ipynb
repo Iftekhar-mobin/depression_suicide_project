{
 "cells": [
  {
   "cell_type": "code",
   "execution_count": 2,
   "id": "c554de1c",
   "metadata": {},
   "outputs": [
    {
     "name": "stderr",
     "output_type": "stream",
     "text": [
      "[nltk_data] Downloading package punkt to\n",
      "[nltk_data]     C:\\Users\\iftek\\AppData\\Roaming\\nltk_data...\n",
      "[nltk_data]   Package punkt is already up-to-date!\n"
     ]
    }
   ],
   "source": [
    "import nltk\n",
    "import numpy as np\n",
    "from sklearn.feature_extraction.text import CountVectorizer\n",
    "from sklearn.metrics.pairwise import cosine_similarity\n",
    "import networkx as nx\n",
    "\n",
    "nltk.download(\"punkt\")\n",
    "\n",
    "text = \"\"\"\n",
    "Machine learning is a branch of artificial intelligence that allows computers to learn and improve from experience without being explicitly programmed. It is the process of using algorithms and statistical models to analyze and draw insights from large amounts of data, and then use those insights to make predictions or decisions. Machine learning has become increasingly popular in recent years, as the amount of available data has grown and computing power has increased.\n",
    "There are three main types of machine learning: supervised learning, unsupervised learning, and reinforcement learning. In supervised learning, the algorithm is given a labeled dataset and learns to make predictions based on that data. In unsupervised learning, the algorithm is given an unlabeled dataset and must find patterns and relationships within the data on its own. In reinforcement learning, the algorithm learns by trial and error, receiving feedback in the form of rewards or punishments for certain actions.\n",
    "Machine learning is used in a wide range of applications, including image recognition, natural language processing, autonomous vehicles, fraud detection, and recommendation systems. As the technology continues to improve, it is likely that machine learning will become even more prevalent in our daily lives.\n",
    "\"\"\"\n",
    "\n",
    "sentences = nltk.sent_tokenize(text)\n",
    "\n",
    "vectorizer = CountVectorizer(stop_words=\"english\")\n",
    "sentence_vectors = vectorizer.fit_transform(sentences)\n",
    "\n",
    "similarity_matrix = cosine_similarity(sentence_vectors)\n",
    "\n",
    "graph = nx.from_numpy_array(similarity_matrix)\n",
    "\n"
   ]
  },
  {
   "cell_type": "code",
   "execution_count": 4,
   "id": "41ea355a",
   "metadata": {},
   "outputs": [],
   "source": [
    "scores = nx.pagerank(graph)\n"
   ]
  },
  {
   "cell_type": "code",
   "execution_count": null,
   "id": "dc82ba5b",
   "metadata": {},
   "outputs": [],
   "source": []
  },
  {
   "cell_type": "code",
   "execution_count": null,
   "id": "be952f36",
   "metadata": {},
   "outputs": [],
   "source": [
    "scores = nx.pagerank_numpy(graph)\n",
    "\n",
    "num_sentences = 3\n",
    "top_sentence_indices = sorted(range(len(scores)), key=lambda i: scores[i], reverse=True)[:num_sentences]\n",
    "\n",
    "summary = [sentences[i] for i in top_sentence_indices]\n",
    "\n",
    "print(\"Summary:\\n\")\n",
    "print(\"\\n\".join(summary))"
   ]
  }
 ],
 "metadata": {
  "kernelspec": {
   "display_name": "Python 3 (ipykernel)",
   "language": "python",
   "name": "python3"
  },
  "language_info": {
   "codemirror_mode": {
    "name": "ipython",
    "version": 3
   },
   "file_extension": ".py",
   "mimetype": "text/x-python",
   "name": "python",
   "nbconvert_exporter": "python",
   "pygments_lexer": "ipython3",
   "version": "3.10.9"
  }
 },
 "nbformat": 4,
 "nbformat_minor": 5
}
