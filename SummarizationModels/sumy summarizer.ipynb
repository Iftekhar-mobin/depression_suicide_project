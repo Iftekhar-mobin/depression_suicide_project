{
 "cells": [
  {
   "cell_type": "code",
   "execution_count": 1,
   "id": "cb29ca7a",
   "metadata": {},
   "outputs": [],
   "source": [
    "import nltk\n",
    "import gc"
   ]
  },
  {
   "cell_type": "code",
   "execution_count": 2,
   "id": "f81c4352",
   "metadata": {},
   "outputs": [],
   "source": [
    "text = \"The aim of secondary education is to make the learners fit for entry into higher education by flourishing their latent talents and prospects with a view to building the nation with the spirit of the Language Movement and the Liberation War. To make the learners skilled and competent citizens of the country based on the economic, social, cultural and environmental settings is also an important issue of secondary education. The textbooks of secondary level have been written and compiled according to the revised curriculum 2012 in accordance with the aims and objectives of National Education Policy 2010. Contents and presentations of the textbooks have been selected according to the moral and humanistic values of Bengali tradition and culture and the spirit of Liberation War 1971 ensuring equal dignity for all irrespective of caste and creed of different religions and sex. Honorable Prime Minister of the Government of the Peoples Republic of Bangladesh Sheikh Hasina expressed her firm determination to make the country free from illiteracy and instructed the concerned authority to give free textbooks to every student of the country. National Curriculum and Textbook Board started to distribute textbooks free of cost since 2010 according to her instruction. In its continuation, this textbook has been reviewed and updated with a view to create a developed and resourceful Bangladesh keeping vision 2041 ahead.In the era of globalization, English is one of the most powerful tools for pursuing higher studies, using technology, inter-cultural and inter-personal communications, and job markets at home and abroad. The curriculum makes it explicit that language learning will be graded and contents will reflect real life situations as the ultimate purpose of language learning is to communicate. The English for Today textbooks have been developed to help students attain competency in all four language skills, i.e. listening, speaking, reading and writing. The contents and illustrations of this textbook have been developed in order to suit the learners age and cognitive level.\""
   ]
  },
  {
   "cell_type": "code",
   "execution_count": 35,
   "id": "08e95bcb",
   "metadata": {},
   "outputs": [],
   "source": [
    "import sumy\n",
    "from sumy.nlp.tokenizers import Tokenizer\n",
    "from sumy.parsers.plaintext import PlaintextParser\n",
    "\n",
    "#LSA algorithm\n",
    "from sumy.summarizers.lsa import LsaSummarizer\n",
    "#text: text to summarize\n",
    "#no_sentences: number of sentences in your summary,\n",
    "#lang: language of text\n",
    "def lsa_summary(text, no_sentences, lang):\n",
    "    parser = PlaintextParser.from_string(text, Tokenizer(lang))\n",
    "    lsa_sum = LsaSummarizer()\n",
    "    summary = lsa_sum(parser.document, no_sentences)\n",
    "    gc.collect()\n",
    "    return [str(sentence) for sentence in summary]\n",
    "\n",
    "#Luhn \n",
    "from sumy.summarizers.luhn import LuhnSummarizer\n",
    "#text: text to summarize\n",
    "#no_sentences: number of sentences in your summary,\n",
    "#lang: language of text\n",
    "def luhn_summary(text, no_sentences, lang):\n",
    "    parser = PlaintextParser(text, Tokenizer(lang))\n",
    "    luhn_sum = LuhnSummarizer()\n",
    "    summary = luhn_sum(parser.document, no_sentences)\n",
    "    gc.collect()\n",
    "    return [str(sentence) for sentence in summary]\n",
    "  \n",
    "#LexRank\n",
    "from sumy.summarizers.lex_rank import LexRankSummarizer\n",
    "#text: text to summarize\n",
    "#no_sentences: number of sentences in your summary,\n",
    "#lang: language of text\n",
    "def lex_summary(text, no_sentences, lang):\n",
    "    parser = PlaintextParser.from_string(text,Tokenizer(lang))\n",
    "    lex_sum = LexRankSummarizer()\n",
    "    summary = lex_sum(parser.document, no_sentences)\n",
    "    gc.collect()\n",
    "    return[str(sentence) for sentence in summary]\n",
    "\n",
    "#KL\n",
    "from sumy.summarizers.kl import KLSummarizer\n",
    "#text: text to summarize\n",
    "#no_sentences: number of sentences in your summary,\n",
    "#lang: language of text\n",
    "def kl_summary(text, no_sentences, lang):\n",
    "    parser = PlaintextParser.from_string(text,Tokenizer(lang))\n",
    "    kl_summarizer=KLSummarizer()\n",
    "    summary=kl_summarizer(parser.document,sentences_count=no_sentences)\n",
    "    gc.collect()\n",
    "    return [str(sentence) for sentence in summary]\n",
    "\n",
    "\n"
   ]
  },
  {
   "cell_type": "code",
   "execution_count": 12,
   "id": "daedc619",
   "metadata": {},
   "outputs": [
    {
     "name": "stderr",
     "output_type": "stream",
     "text": [
      "[nltk_data] Downloading package punkt to\n",
      "[nltk_data]     C:\\Users\\iftek\\AppData\\Roaming\\nltk_data...\n",
      "[nltk_data]   Unzipping tokenizers\\punkt.zip.\n"
     ]
    },
    {
     "data": {
      "text/plain": [
       "True"
      ]
     },
     "execution_count": 12,
     "metadata": {},
     "output_type": "execute_result"
    }
   ],
   "source": [
    "nltk.download('punkt')"
   ]
  },
  {
   "cell_type": "code",
   "execution_count": 32,
   "id": "2b8de67d",
   "metadata": {},
   "outputs": [
    {
     "data": {
      "text/plain": [
       "['The aim of secondary education is to make the learners fit for entry into higher education by flourishing their latent talents and prospects with a view to building the nation with the spirit of the Language Movement and the Liberation War.',\n",
       " 'To make the learners skilled and competent citizens of the country based on the economic, social, cultural and environmental settings is also an important issue of secondary education.',\n",
       " 'The textbooks of secondary level have been written and compiled according to the revised curriculum 2012 in accordance with the aims and objectives of National Education Policy 2010.',\n",
       " 'Contents and presentations of the textbooks have been selected according to the moral and humanistic values of Bengali tradition and culture and the spirit of Liberation War 1971 ensuring equal dignity for all irrespective of caste and creed of different religions and sex.',\n",
       " 'Honorable Prime Minister of the Government of the Peoples Republic of Bangladesh Sheikh Hasina expressed her firm determination to make the country free from illiteracy and instructed the concerned authority to give free textbooks to every student of the country.',\n",
       " 'National Curriculum and Textbook Board started to distribute textbooks free of cost since 2010 according to her instruction.',\n",
       " 'In its continuation, this textbook has been reviewed and updated with a view to create a developed and resourceful Bangladesh keeping vision 2041 ahead.In the era of globalization, English is one of the most powerful tools for pursuing higher studies, using technology, inter-cultural and inter-personal communications, and job markets at home and abroad.',\n",
       " 'The curriculum makes it explicit that language learning will be graded and contents will reflect real life situations as the ultimate purpose of language learning is to communicate.',\n",
       " 'The English for Today textbooks have been developed to help students attain competency in all four language skills, i.e. listening, speaking, reading and writing.',\n",
       " 'The contents and illustrations of this textbook have been developed in order to suit the learners age and cognitive level.']"
      ]
     },
     "execution_count": 32,
     "metadata": {},
     "output_type": "execute_result"
    }
   ],
   "source": [
    "lsa_summary(text, 10, lang='en')"
   ]
  },
  {
   "cell_type": "code",
   "execution_count": 36,
   "id": "2fd91f2b",
   "metadata": {},
   "outputs": [
    {
     "data": {
      "text/plain": [
       "['The aim of secondary education is to make the learners fit for entry into higher education by flourishing their latent talents and prospects with a view to building the nation with the spirit of the Language Movement and the Liberation War.',\n",
       " 'To make the learners skilled and competent citizens of the country based on the economic, social, cultural and environmental settings is also an important issue of secondary education.',\n",
       " 'The textbooks of secondary level have been written and compiled according to the revised curriculum 2012 in accordance with the aims and objectives of National Education Policy 2010.',\n",
       " 'Contents and presentations of the textbooks have been selected according to the moral and humanistic values of Bengali tradition and culture and the spirit of Liberation War 1971 ensuring equal dignity for all irrespective of caste and creed of different religions and sex.',\n",
       " 'Honorable Prime Minister of the Government of the Peoples Republic of Bangladesh Sheikh Hasina expressed her firm determination to make the country free from illiteracy and instructed the concerned authority to give free textbooks to every student of the country.',\n",
       " 'National Curriculum and Textbook Board started to distribute textbooks free of cost since 2010 according to her instruction.',\n",
       " 'In its continuation, this textbook has been reviewed and updated with a view to create a developed and resourceful Bangladesh keeping vision 2041 ahead.In the era of globalization, English is one of the most powerful tools for pursuing higher studies, using technology, inter-cultural and inter-personal communications, and job markets at home and abroad.',\n",
       " 'The curriculum makes it explicit that language learning will be graded and contents will reflect real life situations as the ultimate purpose of language learning is to communicate.',\n",
       " 'The English for Today textbooks have been developed to help students attain competency in all four language skills, i.e. listening, speaking, reading and writing.',\n",
       " 'The contents and illustrations of this textbook have been developed in order to suit the learners age and cognitive level.']"
      ]
     },
     "execution_count": 36,
     "metadata": {},
     "output_type": "execute_result"
    }
   ],
   "source": [
    "luhn_summary(text, 10, lang='en')"
   ]
  },
  {
   "cell_type": "code",
   "execution_count": 37,
   "id": "fdc49347",
   "metadata": {},
   "outputs": [
    {
     "data": {
      "text/plain": [
       "['The aim of secondary education is to make the learners fit for entry into higher education by flourishing their latent talents and prospects with a view to building the nation with the spirit of the Language Movement and the Liberation War.',\n",
       " 'To make the learners skilled and competent citizens of the country based on the economic, social, cultural and environmental settings is also an important issue of secondary education.',\n",
       " 'The textbooks of secondary level have been written and compiled according to the revised curriculum 2012 in accordance with the aims and objectives of National Education Policy 2010.',\n",
       " 'Contents and presentations of the textbooks have been selected according to the moral and humanistic values of Bengali tradition and culture and the spirit of Liberation War 1971 ensuring equal dignity for all irrespective of caste and creed of different religions and sex.',\n",
       " 'Honorable Prime Minister of the Government of the Peoples Republic of Bangladesh Sheikh Hasina expressed her firm determination to make the country free from illiteracy and instructed the concerned authority to give free textbooks to every student of the country.',\n",
       " 'National Curriculum and Textbook Board started to distribute textbooks free of cost since 2010 according to her instruction.',\n",
       " 'In its continuation, this textbook has been reviewed and updated with a view to create a developed and resourceful Bangladesh keeping vision 2041 ahead.In the era of globalization, English is one of the most powerful tools for pursuing higher studies, using technology, inter-cultural and inter-personal communications, and job markets at home and abroad.',\n",
       " 'The curriculum makes it explicit that language learning will be graded and contents will reflect real life situations as the ultimate purpose of language learning is to communicate.',\n",
       " 'The English for Today textbooks have been developed to help students attain competency in all four language skills, i.e. listening, speaking, reading and writing.',\n",
       " 'The contents and illustrations of this textbook have been developed in order to suit the learners age and cognitive level.']"
      ]
     },
     "execution_count": 37,
     "metadata": {},
     "output_type": "execute_result"
    }
   ],
   "source": [
    "lex_summary(text, 10, lang='en')"
   ]
  },
  {
   "cell_type": "code",
   "execution_count": 38,
   "id": "e010830c",
   "metadata": {},
   "outputs": [
    {
     "data": {
      "text/plain": [
       "['The aim of secondary education is to make the learners fit for entry into higher education by flourishing their latent talents and prospects with a view to building the nation with the spirit of the Language Movement and the Liberation War.',\n",
       " 'To make the learners skilled and competent citizens of the country based on the economic, social, cultural and environmental settings is also an important issue of secondary education.',\n",
       " 'The textbooks of secondary level have been written and compiled according to the revised curriculum 2012 in accordance with the aims and objectives of National Education Policy 2010.',\n",
       " 'Contents and presentations of the textbooks have been selected according to the moral and humanistic values of Bengali tradition and culture and the spirit of Liberation War 1971 ensuring equal dignity for all irrespective of caste and creed of different religions and sex.',\n",
       " 'Honorable Prime Minister of the Government of the Peoples Republic of Bangladesh Sheikh Hasina expressed her firm determination to make the country free from illiteracy and instructed the concerned authority to give free textbooks to every student of the country.',\n",
       " 'National Curriculum and Textbook Board started to distribute textbooks free of cost since 2010 according to her instruction.',\n",
       " 'In its continuation, this textbook has been reviewed and updated with a view to create a developed and resourceful Bangladesh keeping vision 2041 ahead.In the era of globalization, English is one of the most powerful tools for pursuing higher studies, using technology, inter-cultural and inter-personal communications, and job markets at home and abroad.',\n",
       " 'The curriculum makes it explicit that language learning will be graded and contents will reflect real life situations as the ultimate purpose of language learning is to communicate.',\n",
       " 'The English for Today textbooks have been developed to help students attain competency in all four language skills, i.e. listening, speaking, reading and writing.',\n",
       " 'The contents and illustrations of this textbook have been developed in order to suit the learners age and cognitive level.']"
      ]
     },
     "execution_count": 38,
     "metadata": {},
     "output_type": "execute_result"
    }
   ],
   "source": [
    "kl_summary(text, 10, lang='en')"
   ]
  },
  {
   "cell_type": "code",
   "execution_count": 3,
   "id": "0f25caa3",
   "metadata": {},
   "outputs": [],
   "source": [
    "#Transformers T5\n",
    "from transformers import T5Tokenizer, T5Config, T5ForConditionalGeneration\n",
    "#text: text to summarize\n",
    "#model: t5-base, t5-small, t5-large, t5-3b, t5-11b\n",
    "def t5_summary(text, model):\n",
    "    my_model = T5ForConditionalGeneration.from_pretrained(model)\n",
    "    tokenizer = T5Tokenizer.from_pretrained(model)\n",
    "    input_ids=tokenizer.encode(\"summarize:\"+text, return_tensors='pt', max_length = 512, \n",
    "                               truncation=True)\n",
    "    summary_ids = my_model.generate(input_ids)\n",
    "    t5_sum = tokenizer.decode(summary_ids[0])\n",
    "    gc.collect()\n",
    "    return(str(t5_sum))\n",
    "  \n",
    "#BART\n",
    "from transformers import BartForConditionalGeneration, BartTokenizer, BartConfig\n",
    "#text: text to summarize\n",
    "#model: bart-base, bart-large, bart-large-cnn\n",
    "def bart_summary(text, model):\n",
    "    tokenizer=BartTokenizer.from_pretrained('facebook/'+str(model))\n",
    "    model=BartForConditionalGeneration.from_pretrained('facebook/'+str(model))\n",
    "    inputs = tokenizer.batch_encode_plus(text,return_tensors='pt', padding=True, truncation=True)\n",
    "    summary_ids = model.generate(inputs['input_ids'], early_stopping=True)\n",
    "    bart_summary = tokenizer.decode(summary_ids[0], skip_special_tokens=True)\n",
    "    gc.collect()\n",
    "    return(str(bart_summary))"
   ]
  },
  {
   "cell_type": "code",
   "execution_count": 6,
   "id": "18409678",
   "metadata": {},
   "outputs": [],
   "source": [
    "text = 'The crossing is presently closed. It was briefly opened on Saturday morning to allow the first convoy of 20 trucks, laden with vital supplies, to cross into Gaza.According to Egyptian authorities at the Rafah crossing, 13 trucks were carrying medicine and medical supplies, five were carrying food and two trucks had water.While many international organizations welcomed the short reopening, aid workers say the supplies are a fraction of what’s required for the 2.2 million people crammed into Gaza under a blockade imposed by Israel and Egypt.The United States has been pressuring Egypt to establish a humanitarian corridor for civilians in Gaza, as well as for foreigners. Egypt has said it won’t allow refugees to flood its territory and has instead insisted that Israel allow it to deliver aid to Gazans.TOPSHOT - Smoke billows after an Israeli air strike in Rafah in the southern Gaza Strip on October 16, 2023. The death toll from Israeli strikes on the Gaza Strip has risen to around 2,750 since Hamass deadly attack on southern Israel last week, the Gaza health ministry said October 16. Some 9,700 people have also been injured as Israel continued its withering air campaign on targets in the Palestinian coastal enclave, the Hamas-controlled ministry added. (Photo by SAID KHATIB / AFP) (Photo by SAID KHATIB/AFP via Getty Images) They followed evacuation orders. An Israeli airstrike killed them the next day. Opening of the border is a complicated matter given the number of parties involved. It requires the approval of Egypt and Hamas, which directly control the crossing, as well as an okay from Israel, which has been bombing Gaza, including Rafah’s vicinity. Egypt has demanded assurances that Israel won’t bomb aid convoys.There are around 200 trucks at the border waiting to get into Gaza and negotiations are ongoing between Israel and the US for an agreement that could allow more aid to get in.The 20 trucks which crossed the Rafah border from Egypt to deliver aid to Gaza on Saturday were carrying food, water and medical supplies, but no fuel.Head of communications for the Palestinian side of the Rafah crossing, Wael Abu Mohsen, told Saudi state media Al Hadath TV in an interview Saturday that fuel was not delivered, “despite fuel supplies running dangerously low at hospitals and schools in Gaza.'"
   ]
  },
  {
   "cell_type": "code",
   "execution_count": 7,
   "id": "4190429d",
   "metadata": {},
   "outputs": [
    {
     "data": {
      "text/plain": [
       "'T'"
      ]
     },
     "execution_count": 7,
     "metadata": {},
     "output_type": "execute_result"
    }
   ],
   "source": [
    " bart_summary(text, model='bart-base')"
   ]
  },
  {
   "cell_type": "code",
   "execution_count": 34,
   "id": "6b211759",
   "metadata": {},
   "outputs": [
    {
     "name": "stdout",
     "output_type": "stream",
     "text": [
      "What's the summary lsa/luhn/kl/lex? le\n",
      "The input does not match.\n",
      "What's the summary lsa/luhn/kl/lex? lex\n",
      "Lex_Summary\n",
      "What's the summary lsa/luhn/kl/lex? luhn\n",
      "luhn_Summary\n"
     ]
    },
    {
     "ename": "KeyboardInterrupt",
     "evalue": "Interrupted by user",
     "output_type": "error",
     "traceback": [
      "\u001b[1;31m---------------------------------------------------------------------------\u001b[0m",
      "\u001b[1;31mKeyboardInterrupt\u001b[0m                         Traceback (most recent call last)",
      "Cell \u001b[1;32mIn[34], line 3\u001b[0m\n\u001b[0;32m      1\u001b[0m i\u001b[38;5;241m=\u001b[39m\u001b[38;5;241m1\u001b[39m\n\u001b[0;32m      2\u001b[0m \u001b[38;5;28;01mwhile\u001b[39;00m i\u001b[38;5;241m>\u001b[39m\u001b[38;5;241m0\u001b[39m:\n\u001b[1;32m----> 3\u001b[0m     summ \u001b[38;5;241m=\u001b[39m \u001b[38;5;28;43minput\u001b[39;49m\u001b[43m(\u001b[49m\u001b[38;5;124;43m\"\u001b[39;49m\u001b[38;5;124;43mWhat\u001b[39;49m\u001b[38;5;124;43m'\u001b[39;49m\u001b[38;5;124;43ms the summary lsa/luhn/kl/lex? \u001b[39;49m\u001b[38;5;124;43m\"\u001b[39;49m\u001b[43m)\u001b[49m\n\u001b[0;32m      5\u001b[0m     \u001b[38;5;28;01mmatch\u001b[39;00m summ:\n\u001b[0;32m      6\u001b[0m         \u001b[38;5;28;01mcase\u001b[39;00m \u001b[38;5;124m\"\u001b[39m\u001b[38;5;124mlsa\u001b[39m\u001b[38;5;124m\"\u001b[39m:\n",
      "File \u001b[1;32m~\\AppData\\Local\\Programs\\Python\\Python310\\lib\\site-packages\\ipykernel\\kernelbase.py:1191\u001b[0m, in \u001b[0;36mKernel.raw_input\u001b[1;34m(self, prompt)\u001b[0m\n\u001b[0;32m   1189\u001b[0m     msg \u001b[38;5;241m=\u001b[39m \u001b[38;5;124m\"\u001b[39m\u001b[38;5;124mraw_input was called, but this frontend does not support input requests.\u001b[39m\u001b[38;5;124m\"\u001b[39m\n\u001b[0;32m   1190\u001b[0m     \u001b[38;5;28;01mraise\u001b[39;00m StdinNotImplementedError(msg)\n\u001b[1;32m-> 1191\u001b[0m \u001b[38;5;28;01mreturn\u001b[39;00m \u001b[38;5;28;43mself\u001b[39;49m\u001b[38;5;241;43m.\u001b[39;49m\u001b[43m_input_request\u001b[49m\u001b[43m(\u001b[49m\n\u001b[0;32m   1192\u001b[0m \u001b[43m    \u001b[49m\u001b[38;5;28;43mstr\u001b[39;49m\u001b[43m(\u001b[49m\u001b[43mprompt\u001b[49m\u001b[43m)\u001b[49m\u001b[43m,\u001b[49m\n\u001b[0;32m   1193\u001b[0m \u001b[43m    \u001b[49m\u001b[38;5;28;43mself\u001b[39;49m\u001b[38;5;241;43m.\u001b[39;49m\u001b[43m_parent_ident\u001b[49m\u001b[43m[\u001b[49m\u001b[38;5;124;43m\"\u001b[39;49m\u001b[38;5;124;43mshell\u001b[39;49m\u001b[38;5;124;43m\"\u001b[39;49m\u001b[43m]\u001b[49m\u001b[43m,\u001b[49m\n\u001b[0;32m   1194\u001b[0m \u001b[43m    \u001b[49m\u001b[38;5;28;43mself\u001b[39;49m\u001b[38;5;241;43m.\u001b[39;49m\u001b[43mget_parent\u001b[49m\u001b[43m(\u001b[49m\u001b[38;5;124;43m\"\u001b[39;49m\u001b[38;5;124;43mshell\u001b[39;49m\u001b[38;5;124;43m\"\u001b[39;49m\u001b[43m)\u001b[49m\u001b[43m,\u001b[49m\n\u001b[0;32m   1195\u001b[0m \u001b[43m    \u001b[49m\u001b[43mpassword\u001b[49m\u001b[38;5;241;43m=\u001b[39;49m\u001b[38;5;28;43;01mFalse\u001b[39;49;00m\u001b[43m,\u001b[49m\n\u001b[0;32m   1196\u001b[0m \u001b[43m\u001b[49m\u001b[43m)\u001b[49m\n",
      "File \u001b[1;32m~\\AppData\\Local\\Programs\\Python\\Python310\\lib\\site-packages\\ipykernel\\kernelbase.py:1234\u001b[0m, in \u001b[0;36mKernel._input_request\u001b[1;34m(self, prompt, ident, parent, password)\u001b[0m\n\u001b[0;32m   1231\u001b[0m \u001b[38;5;28;01mexcept\u001b[39;00m \u001b[38;5;167;01mKeyboardInterrupt\u001b[39;00m:\n\u001b[0;32m   1232\u001b[0m     \u001b[38;5;66;03m# re-raise KeyboardInterrupt, to truncate traceback\u001b[39;00m\n\u001b[0;32m   1233\u001b[0m     msg \u001b[38;5;241m=\u001b[39m \u001b[38;5;124m\"\u001b[39m\u001b[38;5;124mInterrupted by user\u001b[39m\u001b[38;5;124m\"\u001b[39m\n\u001b[1;32m-> 1234\u001b[0m     \u001b[38;5;28;01mraise\u001b[39;00m \u001b[38;5;167;01mKeyboardInterrupt\u001b[39;00m(msg) \u001b[38;5;28;01mfrom\u001b[39;00m \u001b[38;5;28;01mNone\u001b[39;00m\n\u001b[0;32m   1235\u001b[0m \u001b[38;5;28;01mexcept\u001b[39;00m \u001b[38;5;167;01mException\u001b[39;00m:\n\u001b[0;32m   1236\u001b[0m     \u001b[38;5;28mself\u001b[39m\u001b[38;5;241m.\u001b[39mlog\u001b[38;5;241m.\u001b[39mwarning(\u001b[38;5;124m\"\u001b[39m\u001b[38;5;124mInvalid Message:\u001b[39m\u001b[38;5;124m\"\u001b[39m, exc_info\u001b[38;5;241m=\u001b[39m\u001b[38;5;28;01mTrue\u001b[39;00m)\n",
      "\u001b[1;31mKeyboardInterrupt\u001b[0m: Interrupted by user"
     ]
    }
   ],
   "source": [
    "i=1\n",
    "while i>0:\n",
    "    summ = input(\"What's the summary lsa/luhn/kl/lex? \")\n",
    "\n",
    "    match summ:\n",
    "        case \"lsa\":\n",
    "            print(\"lsa_Summary\")\n",
    "            lsa_summary(text, 10, lang='en')\n",
    "\n",
    "        case \"luhn\":\n",
    "            print(\"luhn_Summary\")\n",
    "            luhn_summary(text, 10, lang='en')\n",
    "        case \"lex\":\n",
    "            print(\"Lex_Summary\")\n",
    "            lex_summary(text, 10, lang='en')\n",
    "        case \"kl\":\n",
    "            print(\"KL_Summary\")\n",
    "            kl_summary(text, 10, lang='en')\n",
    "        case _:\n",
    "            print(\"The input does not match.\")\n"
   ]
  },
  {
   "cell_type": "code",
   "execution_count": null,
   "id": "db906a23",
   "metadata": {},
   "outputs": [],
   "source": []
  }
 ],
 "metadata": {
  "kernelspec": {
   "display_name": "Python 3 (ipykernel)",
   "language": "python",
   "name": "python3"
  },
  "language_info": {
   "codemirror_mode": {
    "name": "ipython",
    "version": 3
   },
   "file_extension": ".py",
   "mimetype": "text/x-python",
   "name": "python",
   "nbconvert_exporter": "python",
   "pygments_lexer": "ipython3",
   "version": "3.10.9"
  }
 },
 "nbformat": 4,
 "nbformat_minor": 5
}
