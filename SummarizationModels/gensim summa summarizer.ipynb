{
 "cells": [
  {
   "cell_type": "code",
   "execution_count": 1,
   "metadata": {},
   "outputs": [],
   "source": [
    "  \n",
    "text = 'Generating Reports SOTI MobiControl provides an extensive range of device and system reports to analyze your SOTI MobiControl deployment. The default reports cover many aspects of SOTI MobiControl, including but not limited to, device status and information, deployment server status and information, and administrative topics. Furthermore, you can create custom reports on other statistics that SOTI MobiControl tracks. The deployment server database is a standard SQL database that can be queried using a custom query. For more information on creating custom reports, contact SOTI MobiControl support. Reports can be generated in the following formats: Adobe PDF (.pdf) Comma separated values (.csv) Excel (.xls) Plain text (.txt) You can set SOTI MobiControl to automatically generate and disseminate reports. If you experience difficulties generating reports, make sure you have correctly activated SOTI MobiControl and that you have enabled TCP/IP in your SQL Server network configuration. Additionally, authentication of SQL Server must be performed using SQL Server Authentication; Windows Authentication is no longer supported. Tip: For a more flexible alternative, consider executing an Advanced Search and exporting the search results to a .csv file.'\n"
   ]
  },
  {
   "cell_type": "markdown",
   "metadata": {},
   "source": [
    "# gensim.summarization offers TextRank summarization"
   ]
  },
  {
   "cell_type": "code",
   "execution_count": 5,
   "metadata": {},
   "outputs": [
    {
     "name": "stdout",
     "output_type": "stream",
     "text": [
      "Percent summary\n",
      "The default reports cover many aspects of SOTI MobiControl, including but not limited to, device status and information, deployment server status and information, and administrative topics.\n",
      "Furthermore, you can create custom reports on other statistics that SOTI MobiControl tracks.\n",
      "For more information on creating custom reports, contact SOTI MobiControl support.\n",
      "If you experience difficulties generating reports, make sure you have correctly activated SOTI MobiControl and that you have enabled TCP/IP in your SQL Server network configuration.\n"
     ]
    }
   ],
   "source": [
    "from gensim.summarization.summarizer import summarize \n",
    "from gensim.summarization import keywords \n",
    "\n",
    "#nlp = en_core_web_sm.load() \n",
    "#doc = nlp(text) \n",
    "  \n",
    "# Summary (0.5% of the original content). \n",
    "summ_per = summarize(str(text), ratio = 0.5) \n",
    "print(\"Percent summary\") \n",
    "print(summ_per) "
   ]
  },
  {
   "cell_type": "code",
   "execution_count": 6,
   "metadata": {},
   "outputs": [
    {
     "name": "stdout",
     "output_type": "stream",
     "text": [
      "Word count summary\n",
      "The default reports cover many aspects of SOTI MobiControl, including but not limited to, device status and information, deployment server status and information, and administrative topics.\n",
      "Furthermore, you can create custom reports on other statistics that SOTI MobiControl tracks.\n",
      "The deployment server database is a standard SQL database that can be queried using a custom query.\n",
      "For more information on creating custom reports, contact SOTI MobiControl support.\n",
      "If you experience difficulties generating reports, make sure you have correctly activated SOTI MobiControl and that you have enabled TCP/IP in your SQL Server network configuration.\n"
     ]
    }
   ],
   "source": [
    "# Summary (200 words) \n",
    "summ_words = summarize(str(text), word_count = 100) \n",
    "print(\"Word count summary\") \n",
    "print(summ_words) \n"
   ]
  },
  {
   "cell_type": "code",
   "execution_count": null,
   "metadata": {},
   "outputs": [],
   "source": [
    "from gensim.summarization import keywords\n",
    "\n",
    "print('Keywords:')\n",
    "print(keywords(text))"
   ]
  },
  {
   "cell_type": "code",
   "execution_count": null,
   "metadata": {},
   "outputs": [],
   "source": [
    "print('Keywords:')\n",
    "print(keywords(text, ratio=0.1))"
   ]
  },
  {
   "cell_type": "code",
   "execution_count": 8,
   "metadata": {},
   "outputs": [
    {
     "data": {
      "text/plain": [
       "'The default reports cover many aspects of SOTI MobiControl, including but not limited to, device status and information, deployment server status and information, and administrative topics.\\nFor more information on creating custom reports, contact SOTI MobiControl support.\\nIf you experience difficulties generating reports, make sure you have correctly activated SOTI MobiControl and that you have enabled TCP/IP in your SQL Server network configuration.'"
      ]
     },
     "execution_count": 8,
     "metadata": {},
     "output_type": "execute_result"
    }
   ],
   "source": [
    "from summa.summarizer import summarize\n",
    "summarize(text, ratio=0.4)"
   ]
  },
  {
   "cell_type": "code",
   "execution_count": null,
   "metadata": {},
   "outputs": [],
   "source": [
    "from summa import keywords\n",
    "print(keywords.keywords(text))"
   ]
  },
  {
   "cell_type": "code",
   "execution_count": 1,
   "metadata": {},
   "outputs": [
    {
     "ename": "ModuleNotFoundError",
     "evalue": "No module named 'sumy'",
     "output_type": "error",
     "traceback": [
      "\u001b[0;31m---------------------------------------------------------------------------\u001b[0m",
      "\u001b[0;31mModuleNotFoundError\u001b[0m                       Traceback (most recent call last)",
      "\u001b[0;32m<ipython-input-1-5de959d1498c>\u001b[0m in \u001b[0;36m<module>\u001b[0;34m\u001b[0m\n\u001b[1;32m      1\u001b[0m \u001b[0;32mfrom\u001b[0m \u001b[0mgensim\u001b[0m\u001b[0;34m.\u001b[0m\u001b[0msummarization\u001b[0m \u001b[0;32mimport\u001b[0m \u001b[0msummarize\u001b[0m\u001b[0;34m\u001b[0m\u001b[0;34m\u001b[0m\u001b[0m\n\u001b[1;32m      2\u001b[0m \u001b[0;34m\u001b[0m\u001b[0m\n\u001b[0;32m----> 3\u001b[0;31m \u001b[0;32mfrom\u001b[0m \u001b[0msumy\u001b[0m\u001b[0;34m.\u001b[0m\u001b[0msummarizers\u001b[0m \u001b[0;32mimport\u001b[0m \u001b[0mluhn\u001b[0m\u001b[0;34m\u001b[0m\u001b[0;34m\u001b[0m\u001b[0m\n\u001b[0m\u001b[1;32m      4\u001b[0m \u001b[0;32mfrom\u001b[0m \u001b[0msumy\u001b[0m\u001b[0;34m.\u001b[0m\u001b[0mutils\u001b[0m \u001b[0;32mimport\u001b[0m \u001b[0mget_stop_words\u001b[0m\u001b[0;34m\u001b[0m\u001b[0;34m\u001b[0m\u001b[0m\n\u001b[1;32m      5\u001b[0m \u001b[0;32mfrom\u001b[0m \u001b[0msumy\u001b[0m\u001b[0;34m.\u001b[0m\u001b[0mnlp\u001b[0m\u001b[0;34m.\u001b[0m\u001b[0mstemmers\u001b[0m \u001b[0;32mimport\u001b[0m \u001b[0mStemmer\u001b[0m\u001b[0;34m\u001b[0m\u001b[0;34m\u001b[0m\u001b[0m\n",
      "\u001b[0;31mModuleNotFoundError\u001b[0m: No module named 'sumy'"
     ]
    }
   ],
   "source": [
    "from gensim.summarization import summarize\n",
    "\n",
    "from sumy.summarizers import luhn\n",
    "from sumy.utils import get_stop_words\n",
    "from sumy.nlp.stemmers import Stemmer\n",
    "from sumy.summarizers.luhn import LuhnSummarizer \n",
    "from sumy.parsers.plaintext import PlaintextParser\n",
    "from sumy.nlp.tokenizers import Tokenizer as sumytoken\n",
    "from sumy.summarizers.lex_rank import LexRankSummarizer\n",
    "from sumy.summarizers.lsa import LsaSummarizer as Summarizer\n",
    "\n",
    "from pytldr.nlp.tokenizer import Tokenizer as pltdrtoken\n",
    "from pytldr.summarize.textrank import TextRankSummarizer\n",
    "from pytldr.summarize.relevance import RelevanceSummarizer\n",
    "from pytldr.summarize.lsa import LsaSummarizer, LsaOzsoy, LsaSteinberger\n",
    "\n",
    "\n",
    "LANGUAGE = \"english\"\n",
    "SENTENCES_COUNT = 2\n",
    "\n",
    "text = 'The contribution of cloud computing and mobile computing technologies lead to the newly emerging mobile cloud com- puting paradigm. Three major approaches have been pro- posed for mobile cloud applications: 1) extending the access to cloud services to mobile devices; 2) enabling mobile de- vices to work collaboratively as cloud resource providers; 3) augmenting the execution of mobile applications on portable devices using cloud resources. In this paper, we focus on the third approach in supporting mobile data stream applica- tions. More specifically, we study how to optimize the com- putation partitioning of a data stream application between mobile and cloud to achieve maximum speed/throughput in processing the streaming data. To the best of our knowledge, it is the first work to study the partitioning problem for mobile data stream applica- tions, where the optimization is placed on achieving high throughput of processing the streaming data rather than minimizing the makespan of executions as in other appli- cations. We first propose a framework to provide runtime support for the dynamic computation partitioning and exe- cution of the application. Different from existing works, the framework not only allows the dynamic partitioning for a single user but also supports the sharing of computation in- stances among multiple users in the cloud to achieve efficient utilization of the underlying cloud resources. Meanwhile, the framework has better scalability because it is designed on the elastic cloud fabrics. Based on the framework, we design a genetic algorithm for optimal computation parti- tion. Both numerical evaluation and real world experiment have been performed, and the results show that the par- titioned application can achieve at least two times better performance in terms of throughput than the application without partitioning.'\n",
    "\n",
    "parser = PlaintextParser.from_string((text), sumytoken(LANGUAGE))\n",
    "stemmer = Stemmer(LANGUAGE)\n",
    "\n",
    "def lexrank_summarizer():\n",
    "    print (\"\\n\",\"*\"*30, \"LEXRANK SUMARIZER\", \"*\"*30)\n",
    "    summarizer_LexRank = LexRankSummarizer(stemmer)\n",
    "    summarizer_LexRank.stop_words = get_stop_words(LANGUAGE)\n",
    "    for sentence in summarizer_LexRank(parser.document, SENTENCES_COUNT):\n",
    "        print (sentence)\n",
    "        \n",
    "def lsa_summarizer():\n",
    "    print (\"\\n\",\"*\"*30, \"LSA SUMMARIZER\", \"*\"*30)\n",
    "    summarizer_lsa = Summarizer(stemmer)\n",
    "    summarizer_lsa.stop_words = get_stop_words(LANGUAGE)\n",
    "    for sentence in summarizer_lsa(parser.document, SENTENCES_COUNT):\n",
    "        print (sentence)\n",
    "        \n",
    "def luhn_summarizer():\n",
    "    print (\"\\n\",\"*\"*30, \"LUHN SUMMARIZER\", \"*\"*30)\n",
    "    summarizer_luhn = LuhnSummarizer(stemmer)\n",
    "    summarizer_luhn.stop_words = get_stop_words(LANGUAGE)\n",
    "    for sentence in summarizer_luhn(parser.document, SENTENCES_COUNT):\n",
    "        print (sentence)\n",
    "        \n",
    "def gensim_summarizer():\n",
    "    print (\"\\n\",\"*\"*30, \"GENSIM SUMMARIZER\", \"*\"*30)\n",
    "    print (summarize(text))\n",
    "\n",
    "def pytldr_textrank():\n",
    "    print (\"\\n\",\"*\"*30, \"PYTLDR TEXTRANK\", \"*\"*30)\n",
    "    tokenizer = pltdrtoken('english')\n",
    "    summarizer = TextRankSummarizer(tokenizer)\n",
    "    summarizer = TextRankSummarizer() \n",
    "    summary = summarizer.summarize(text, length=4)\n",
    "    print (summary)\n",
    "\n",
    "def pytldr_lsa():\n",
    "    print (\"\\n\",\"*\"*30, \"PYTLDR LSA\", \"*\"*30)\n",
    "    summarizer = LsaOzsoy()\n",
    "    summarizer = LsaSteinberger()\n",
    "    summarizer = LsaSummarizer()  # This is identical to the LsaOzsoy object\n",
    "\n",
    "    summary = summarizer.summarize(\n",
    "        text, topics=4, length=5, binary_matrix=True, topic_sigma_threshold=0.5\n",
    "    )\n",
    "    print (summary)\n",
    "\n",
    "#----Call all the functions to compare the summaries\n",
    "lexrank_summarizer()\n",
    "lsa_summarizer()\n",
    "luhn_summarizer()\n",
    "gensim_summarizer()\n",
    "pytldr_lsa()"
   ]
  },
  {
   "cell_type": "code",
   "execution_count": null,
   "metadata": {},
   "outputs": [],
   "source": []
  }
 ],
 "metadata": {
  "kernelspec": {
   "display_name": "Python 3",
   "language": "python",
   "name": "python3"
  },
  "language_info": {
   "codemirror_mode": {
    "name": "ipython",
    "version": 3
   },
   "file_extension": ".py",
   "mimetype": "text/x-python",
   "name": "python",
   "nbconvert_exporter": "python",
   "pygments_lexer": "ipython3",
   "version": "3.6.9"
  }
 },
 "nbformat": 4,
 "nbformat_minor": 2
}
