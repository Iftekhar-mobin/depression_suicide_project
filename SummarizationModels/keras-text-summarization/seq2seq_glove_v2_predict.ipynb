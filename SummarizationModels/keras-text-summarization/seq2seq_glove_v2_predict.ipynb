{
 "cells": [
  {
   "cell_type": "code",
   "execution_count": 1,
   "metadata": {},
   "outputs": [
    {
     "name": "stderr",
     "output_type": "stream",
     "text": [
      "Using TensorFlow backend.\n"
     ]
    },
    {
     "name": "stdout",
     "output_type": "stream",
     "text": [
      "loading csv file ...\n"
     ]
    }
   ],
   "source": [
    "from __future__ import print_function\n",
    "\n",
    "import pandas as pd\n",
    "from keras_text_summarization.library.seq2seq import Seq2SeqGloVeSummarizerV2\n",
    "import numpy as np\n",
    "\n",
    "\n",
    "#def main():\n",
    "np.random.seed(42)\n",
    "data_dir_path = './demo/data'\n",
    "very_large_data_dir_path = './demo/very_large_data'\n",
    "model_dir_path = './demo/models'\n",
    "\n",
    "print('loading csv file ...')\n",
    "df = pd.read_csv(data_dir_path + \"/fake_or_real_news.csv\")\n",
    "X = df['text']\n",
    "Y = df.title\n",
    "\n"
   ]
  },
  {
   "cell_type": "code",
   "execution_count": 2,
   "metadata": {},
   "outputs": [
    {
     "name": "stdout",
     "output_type": "stream",
     "text": [
      "WARNING:tensorflow:From /home/ifte/amiebot_project/lib/python3.6/site-packages/tensorflow_core/python/ops/resource_variable_ops.py:1630: calling BaseResourceVariable.__init__ (from tensorflow.python.ops.resource_variable_ops) with constraint is deprecated and will be removed in a future version.\n",
      "Instructions for updating:\n",
      "If using Keras pass *_constraint arguments to layers.\n",
      "start predicting ...\n",
      "WARNING:tensorflow:From /home/ifte/amiebot_project/lib/python3.6/site-packages/keras/backend/tensorflow_backend.py:422: The name tf.global_variables is deprecated. Please use tf.compat.v1.global_variables instead.\n",
      "\n",
      "Generated Headline:  keystone aiding third more run run run - put put put spain spain spain : : : : : million million million : million : million : : million : : :\n",
      "Original Headline:  What happened in this election?\n",
      "Generated Headline:  abuse abuse shots shots killings isis, linked shots idea isis, victims victims\n",
      "Original Headline:  Blasphemy and the law of fanatics\n",
      "Generated Headline:  we how how remarks spain idea spain then idea killings killings couples killings problems problems problems problems problems problems increased debate, tim increased debate, delay delay delay tim tim missiles missiles the begin reads missiles missiles to india india enter enter\n",
      "Original Headline:  Rivals pile on Trump in Republican candidates’ debate\n",
      "Generated Headline:  | syria is is\n",
      "Original Headline:  House Votes To Repeal Affordable Care Act\n",
      "Generated Headline:  reads labor labor aiding deadly defend plan (opinion) irs\n",
      "Original Headline:  21 Things We’ve Learned About Hillary Clinton From Wikileaks That The MSM Won’t Share…But YOU Can!\n",
      "Generated Headline:  keystone became mandatory mandatory contain contain targeting targeting heart heart heart deal like? linked pitch pitch pitch pitch pitch spying mate funded globe naturally globe equality same same same equality size francis evolution doctors coverage francis doctors equality francis doctors insiders life: art life: yes, rubio:\n",
      "Original Headline:  VA admits it has no contracts in place for billions of dollars spent on veterans’ medical care\n",
      "Generated Headline:  come why how spain idea spain photos [video] needs\n",
      "Original Headline:  How mega-donors helped raise $1 billion for Hillary Clinton\n",
      "Generated Headline:  india continues continues targeting targeting spain targeting targeting targeting targeting targeting targeting targeting targeting targeting spying spying congressman pitch pitch spying mate equality ads equality ads realclearpolitics rigging doomed congressman sachs art art doubles art life: life: insiders:\n",
      "Original Headline:  Popular Health Exchange In Jeopardy After Surprise Republican Win\n",
      "Generated Headline:  info syria is is\n",
      "Original Headline:  Trudeau Elected Canada's Prime Minister As Liberals Assume Power\n",
      "Generated Headline:  | syria is is\n",
      "Original Headline:  Everything you need to know about the next Democratic debate\n",
      "Generated Headline:  info syria is is\n",
      "Original Headline:  U.S. Special Forces Join Fight For Mosul\n",
      "Generated Headline:  info syria is is\n",
      "Original Headline:  There's Something O'Reilly Trusts Even Less Than Iran\n",
      "Generated Headline:  | syria is is\n",
      "Original Headline:  Netflix Ceo: TV’s Future includes Hallucination Pills\n",
      "Generated Headline:  success please good capital capital alleged alleged alleged alleged (+video)\n",
      "Original Headline:  Booze Brands Polarize Just Like Politicians\n",
      "Generated Headline:  keystone efforts offensive missiles pipeline\n",
      "Original Headline:  Our meeting with Mark Zuckerberg: Conservatives need Facebook, and it needs us\n",
      "Generated Headline:  size davis killer remains syrian emergency emergency emergency emergency israel\n",
      "Original Headline:  Prisoner in van heard “banging against walls.”\n",
      "Generated Headline:  worker size mysterious in\n",
      "Original Headline:  Veto, filibuster threats ahead of vote next week to fund Homeland Security, roll back executive actions\n",
      "Generated Headline:  contain realclearpolitics offensive heart discuss floor concedes phone equality pipeline pipeline data deal idea concedes concedes concedes concedes concedes concedes selma concedes selma concedes selma equality size arrested arrested link arrested blog blog blog blog blog blog targeting drinking selma equality selma funded insiders debbie sachs life: art onpolitics insiders:\n",
      "Original Headline:  Doomsday Election\n",
      "Generated Headline:  info syria is is\n",
      "Original Headline:  Ted Cruz popularity among Republicans takes a serious nosedive: Gallup\n",
      "Generated Headline:  labor may urges urges spain spain ships ships “a team\n",
      "Original Headline:  Obama's Iran deal is now near certain to survive Congress\n"
     ]
    }
   ],
   "source": [
    "config = np.load(Seq2SeqGloVeSummarizerV2.get_config_file_path(model_dir_path=model_dir_path), allow_pickle=True).item()\n",
    "\n",
    "summarizer = Seq2SeqGloVeSummarizerV2(config)\n",
    "summarizer.load_glove(very_large_data_dir_path)\n",
    "summarizer.load_weights(weight_file_path=Seq2SeqGloVeSummarizerV2.get_weight_file_path(model_dir_path=model_dir_path))\n",
    "\n",
    "print('start predicting ...')\n",
    "for i in np.random.permutation(np.arange(len(X)))[0:20]:\n",
    "    x = X[i]\n",
    "    actual_headline = Y[i]\n",
    "    headline = summarizer.summarize(x)\n",
    "\n",
    "    print('Generated Headline: ', headline)\n",
    "    print('Original Headline: ', actual_headline)\n",
    "    # print('Article: ', x[0:100])\n"
   ]
  },
  {
   "cell_type": "code",
   "execution_count": null,
   "metadata": {},
   "outputs": [],
   "source": []
  }
 ],
 "metadata": {
  "kernelspec": {
   "display_name": "Python 3",
   "language": "python",
   "name": "python3"
  },
  "language_info": {
   "codemirror_mode": {
    "name": "ipython",
    "version": 3
   },
   "file_extension": ".py",
   "mimetype": "text/x-python",
   "name": "python",
   "nbconvert_exporter": "python",
   "pygments_lexer": "ipython3",
   "version": "3.6.8"
  }
 },
 "nbformat": 4,
 "nbformat_minor": 2
}
