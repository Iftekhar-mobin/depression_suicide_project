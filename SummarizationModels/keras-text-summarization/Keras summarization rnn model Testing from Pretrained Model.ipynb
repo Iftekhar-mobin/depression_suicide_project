{
 "cells": [
  {
   "cell_type": "code",
   "execution_count": 1,
   "metadata": {},
   "outputs": [
    {
     "name": "stderr",
     "output_type": "stream",
     "text": [
      "Using TensorFlow backend.\n"
     ]
    },
    {
     "name": "stdout",
     "output_type": "stream",
     "text": [
      "loading csv file ...\n",
      "extract configuration from input texts ...\n"
     ]
    }
   ],
   "source": [
    "from __future__ import print_function\n",
    "\n",
    "import pandas as pd\n",
    "# from keras_text_summarization.library.rnn import OneShotRNN\n",
    "from keras_text_summarization.library.rnn import RecursiveRNN2 as mod\n",
    "\n",
    "import numpy as np\n",
    "\n",
    "np.random.seed(42)\n",
    "data_dir_path = './demo/data' # refers to the demo/data folder\n",
    "model_dir_path = './demo/models' # refers to the demo/models folder\n",
    "\n",
    "print('loading csv file ...')\n",
    "df = pd.read_csv(\"/home/ifte/amiebot_project/MyAI/AI-system/Helpers/processed_dataset.csv\")\n",
    "df = df.dropna()\n",
    "df_all = df.reset_index(drop=True)\n",
    "\n",
    "print('extract configuration from input texts ...')\n",
    "Y = df_all.Summary\n",
    "X = df_all['Article']\n"
   ]
  },
  {
   "cell_type": "code",
   "execution_count": 2,
   "metadata": {},
   "outputs": [
    {
     "name": "stdout",
     "output_type": "stream",
     "text": [
      "WARNING:tensorflow:From /home/ifte/amiebot_project/lib/python3.6/site-packages/tensorflow_core/python/ops/resource_variable_ops.py:1630: calling BaseResourceVariable.__init__ (from tensorflow.python.ops.resource_variable_ops) with constraint is deprecated and will be removed in a future version.\n",
      "Instructions for updating:\n",
      "If using Keras pass *_constraint arguments to layers.\n",
      "Model: \"model_1\"\n",
      "__________________________________________________________________________________________________\n",
      "Layer (type)                    Output Shape         Param #     Connected to                     \n",
      "==================================================================================================\n",
      "input_2 (InputLayer)            (None, 4)            0                                            \n",
      "__________________________________________________________________________________________________\n",
      "embedding_2 (Embedding)         (None, 4, 128)       124544      input_2[0][0]                    \n",
      "__________________________________________________________________________________________________\n",
      "input_1 (InputLayer)            (None, 500)          0                                            \n",
      "__________________________________________________________________________________________________\n",
      "dropout_2 (Dropout)             (None, 4, 128)       0           embedding_2[0][0]                \n",
      "__________________________________________________________________________________________________\n",
      "embedding_1 (Embedding)         (None, 500, 128)     548224      input_1[0][0]                    \n",
      "__________________________________________________________________________________________________\n",
      "lstm_1 (LSTM)                   (None, 128)          131584      dropout_2[0][0]                  \n",
      "__________________________________________________________________________________________________\n",
      "dropout_1 (Dropout)             (None, 500, 128)     0           embedding_1[0][0]                \n",
      "__________________________________________________________________________________________________\n",
      "repeat_vector_1 (RepeatVector)  (None, 500, 128)     0           lstm_1[0][0]                     \n",
      "__________________________________________________________________________________________________\n",
      "concatenate_1 (Concatenate)     (None, 500, 256)     0           dropout_1[0][0]                  \n",
      "                                                                 repeat_vector_1[0][0]            \n",
      "__________________________________________________________________________________________________\n",
      "lstm_2 (LSTM)                   (None, 128)          197120      concatenate_1[0][0]              \n",
      "__________________________________________________________________________________________________\n",
      "dense_1 (Dense)                 (None, 973)          125517      lstm_2[0][0]                     \n",
      "==================================================================================================\n",
      "Total params: 1,126,989\n",
      "Trainable params: 1,126,989\n",
      "Non-trainable params: 0\n",
      "__________________________________________________________________________________________________\n",
      "None\n",
      "loading weights from  ./demo/models/recursive-rnn-2-weights.h5\n",
      "start predicting ...\n"
     ]
    }
   ],
   "source": [
    "# config = np.load(OneShotRNN.get_config_file_path(model_dir_path=model_dir_path), allow_pickle = True).item()\n",
    "\n",
    "# summarizer = OneShotRNN(config)\n",
    "# summarizer.load_weights(weight_file_path=OneShotRNN.get_weight_file_path(model_dir_path=model_dir_path))\n",
    "\n",
    "# print('start predicting ...')\n",
    "\n",
    "\n",
    "config = np.load(mod.get_config_file_path(model_dir_path=model_dir_path), allow_pickle = True).item()\n",
    "\n",
    "summarizer = mod(config)\n",
    "summarizer.load_weights(weight_file_path=mod.get_weight_file_path(model_dir_path=model_dir_path))\n",
    "\n",
    "print('start predicting ...')"
   ]
  },
  {
   "cell_type": "code",
   "execution_count": 3,
   "metadata": {},
   "outputs": [
    {
     "name": "stdout",
     "output_type": "stream",
     "text": [
      "WARNING:tensorflow:From /home/ifte/amiebot_project/lib/python3.6/site-packages/keras/backend/tensorflow_backend.py:422: The name tf.global_variables is deprecated. Please use tf.compat.v1.global_variables instead.\n",
      "\n",
      "Generated Headline:  profile console reference dialog profile androidplus profile namecard androidplus\n",
      "Original Headline:  banner\n",
      "Generated Headline:  soti mobicontrol console reference dialog profile androidplus profile featurecontrol androidplus\n",
      "Original Headline:  search\n",
      "Generated Headline:  using soti mobicontrol server adminutility\n",
      "Original Headline:  welcome soti mobicontrol help start\n",
      "Generated Headline:  using soti mobicontrol your soti mobicontrol setup configure\n",
      "Original Headline:  setting up soti mobicontrol setup setupindex\n",
      "Generated Headline:  using soti mobicontrol setup uninstalling\n",
      "Original Headline:  setting up soti mobicontrol setup installing installation\n",
      "Generated Headline:  using soti mobicontrol certificate adminutility reference dialog adminutility wizard\n",
      "Original Headline:  system requirement setup installing system requirement\n",
      "Generated Headline:  configure term cloudlink configure tenant\n",
      "Original Headline:  network port setup installing network port\n",
      "Generated Headline:  soti mobicontrol administration utility adminutility extension\n",
      "Original Headline:  soti service setup installing soti service\n",
      "Generated Headline:  using soti mobicontrol console device managing enrolling platform printer enroll\n",
      "Original Headline:  supported device setup installing supported device\n",
      "Generated Headline:  using soti mobicontrol console device managing enrolling platform wmodern\n",
      "Original Headline:  installing soti mobicontrol setup installing\n",
      "Generated Headline:  configure configure condition console reference dialog rule adddevice androidplus adddevice gotolocation androidplus\n",
      "Original Headline:  database partitioning setup installing database partitioning\n",
      "Generated Headline:  deleting soti mobicontrol your soti mobicontrol console device managing enrolling platform afw link\n",
      "Original Headline:  repairing installation error setup installing repairing\n",
      "Generated Headline:  using soti mobicontrol setup reference dialog adminutility wizard\n",
      "Original Headline:  registering soti mobicontrol setup activating activation\n",
      "Generated Headline:  adding soti mobicontrol console device managing enrolling platform wmodern\n",
      "Original Headline:  activating soti mobicontrol setup activating online\n",
      "Generated Headline:  deleting soti mobicontrol setup uninstalling tool\n",
      "Original Headline:  activating soti mobicontrol offline setup activating offline\n",
      "Generated Headline:  adding soti mobicontrol console device managing enrolling platform wmodern\n",
      "Original Headline:  upgrading soti mobicontrol setup upgrading upgrade\n",
      "Generated Headline:  configure configure condition console reference dialog profile androidplus profile lockdown selectimage androidplus\n",
      "Original Headline:  upgrade path setup upgrading upgrade path\n",
      "Generated Headline:  using soti mobicontrol setup reference dialog\n",
      "Original Headline:  upgrading soti mobicontrol setup upgrading\n",
      "Generated Headline:  using soti mobicontrol device using soti mobicontrol console device managing enrolling platform wmodern agent\n",
      "Original Headline:  upgrading device agent setup upgrading agent upgrade\n",
      "Generated Headline:  import up account console device managing enrolling platform dep link\n",
      "Original Headline:  identifying upgrade error setup upgrading upgrade error\n"
     ]
    }
   ],
   "source": [
    "import re\n",
    "from nltk.corpus import stopwords\n",
    "Stopwords = set(stopwords.words('english'))\n",
    "\n",
    "for i in range(20):\n",
    "    x = X[i]\n",
    "    actual_headline = Y[i]\n",
    "    headline = summarizer.summarize(x)\n",
    "#     print('Article: ', x)\n",
    "#     headline = [word for word in headline if word.lower() not in Stopwords and len(word) > 1]\n",
    "#     headline = ' '.join(headline)\n",
    "#     headline = re.sub('START',\"\",headline)\n",
    "#     headline = re.sub('END',\"\",headline)\n",
    "    \n",
    "    print('Generated Headline: ', headline)\n",
    "    print('Original Headline: ', actual_headline)\n",
    "\n",
    "# Configure to run on GPU on Windows\n",
    "\n",
    "#     Step 1: Change tensorflow to tensorflow-gpu in requirements.txt and install tensorflow-gpu\n",
    "#     Step 2: Download and install the CUDA® Toolkit 9.0 (Please note that currently CUDA® Toolkit 9.1 is not yet supported by tensorflow, therefore you should download CUDA® Toolkit 9.0)\n",
    "#     Step 3: Download and unzip the cuDNN 7.0.4 for CUDA@ Toolkit 9.0 and add the bin folder of the unzipped directory to the $PATH of your Windows environment"
   ]
  },
  {
   "cell_type": "code",
   "execution_count": null,
   "metadata": {},
   "outputs": [],
   "source": []
  }
 ],
 "metadata": {
  "kernelspec": {
   "display_name": "Python 3",
   "language": "python",
   "name": "python3"
  },
  "language_info": {
   "codemirror_mode": {
    "name": "ipython",
    "version": 3
   },
   "file_extension": ".py",
   "mimetype": "text/x-python",
   "name": "python",
   "nbconvert_exporter": "python",
   "pygments_lexer": "ipython3",
   "version": "3.6.8"
  }
 },
 "nbformat": 4,
 "nbformat_minor": 2
}
