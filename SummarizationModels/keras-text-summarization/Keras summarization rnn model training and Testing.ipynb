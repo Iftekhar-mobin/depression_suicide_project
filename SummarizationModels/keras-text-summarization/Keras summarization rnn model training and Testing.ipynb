{
 "cells": [
  {
   "cell_type": "code",
   "execution_count": 4,
   "metadata": {},
   "outputs": [],
   "source": [
    "from __future__ import print_function\n",
    "\n",
    "import pandas as pd\n",
    "from sklearn.model_selection import train_test_split\n",
    "from keras_text_summarization.library.utility.plot_utils import plot_and_save_history\n",
    "#from keras_text_summarization.library.rnn import RecursiveRNN1\n",
    "from keras_text_summarization.library.rnn import RecursiveRNN2 as rnn\n",
    "from keras_text_summarization.library.applications.fake_news_loader import fit_text\n",
    "import numpy as np\n",
    "\n",
    "LOAD_EXISTING_WEIGHTS = False\n",
    "\n",
    "\n"
   ]
  },
  {
   "cell_type": "code",
   "execution_count": 5,
   "metadata": {},
   "outputs": [
    {
     "name": "stdout",
     "output_type": "stream",
     "text": [
      "loading csv file ...\n"
     ]
    }
   ],
   "source": [
    "np.random.seed(42)\n",
    "report_dir_path = './demo/reports'\n",
    "model_dir_path = './demo/models'\n",
    "\n",
    "print('loading csv file ...')\n",
    "df = pd.read_csv(\"/home/ifte/amiebot_project/MyAI/AI-system/Helpers/processed_dataset.csv\")\n"
   ]
  },
  {
   "cell_type": "code",
   "execution_count": 6,
   "metadata": {},
   "outputs": [
    {
     "name": "stdout",
     "output_type": "stream",
     "text": [
      "extract configuration from input texts ...\n",
      "configuration extracted from input texts ...\n",
      "WARNING:tensorflow:From /home/ifte/amiebot_project/lib/python3.6/site-packages/tensorflow_core/python/ops/resource_variable_ops.py:1630: calling BaseResourceVariable.__init__ (from tensorflow.python.ops.resource_variable_ops) with constraint is deprecated and will be removed in a future version.\n",
      "Instructions for updating:\n",
      "If using Keras pass *_constraint arguments to layers.\n",
      "Model: \"model_1\"\n",
      "__________________________________________________________________________________________________\n",
      "Layer (type)                    Output Shape         Param #     Connected to                     \n",
      "==================================================================================================\n",
      "input_2 (InputLayer)            (None, 4)            0                                            \n",
      "__________________________________________________________________________________________________\n",
      "embedding_2 (Embedding)         (None, 4, 128)       124544      input_2[0][0]                    \n",
      "__________________________________________________________________________________________________\n",
      "input_1 (InputLayer)            (None, 500)          0                                            \n",
      "__________________________________________________________________________________________________\n",
      "dropout_2 (Dropout)             (None, 4, 128)       0           embedding_2[0][0]                \n",
      "__________________________________________________________________________________________________\n",
      "embedding_1 (Embedding)         (None, 500, 128)     548224      input_1[0][0]                    \n",
      "__________________________________________________________________________________________________\n",
      "lstm_1 (LSTM)                   (None, 128)          131584      dropout_2[0][0]                  \n",
      "__________________________________________________________________________________________________\n",
      "dropout_1 (Dropout)             (None, 500, 128)     0           embedding_1[0][0]                \n",
      "__________________________________________________________________________________________________\n",
      "repeat_vector_1 (RepeatVector)  (None, 500, 128)     0           lstm_1[0][0]                     \n",
      "__________________________________________________________________________________________________\n",
      "concatenate_1 (Concatenate)     (None, 500, 256)     0           dropout_1[0][0]                  \n",
      "                                                                 repeat_vector_1[0][0]            \n",
      "__________________________________________________________________________________________________\n",
      "lstm_2 (LSTM)                   (None, 128)          197120      concatenate_1[0][0]              \n",
      "__________________________________________________________________________________________________\n",
      "dense_1 (Dense)                 (None, 973)          125517      lstm_2[0][0]                     \n",
      "==================================================================================================\n",
      "Total params: 1,126,989\n",
      "Trainable params: 1,126,989\n",
      "Non-trainable params: 0\n",
      "__________________________________________________________________________________________________\n",
      "None\n",
      "demo size:  1387\n",
      "testing size:  15\n",
      "start fitting ...\n"
     ]
    }
   ],
   "source": [
    "\n",
    "\n",
    "# df = df.loc[df.index < 1000]\n",
    "\n",
    "print('extract configuration from input texts ...')\n",
    "Y = df.Summary\n",
    "X = df['Article']\n",
    "config = fit_text(X, Y)\n",
    "\n",
    "print('configuration extracted from input texts ...')\n",
    "\n",
    "summarizer = rnn(config)\n",
    "\n",
    "if LOAD_EXISTING_WEIGHTS:\n",
    "    weight_file_path = rnn.get_weight_file_path(model_dir_path=model_dir_path)\n",
    "    summarizer.load_weights(weight_file_path=weight_file_path)\n",
    "\n",
    "Xtrain, Xtest, Ytrain, Ytest = train_test_split(X, Y, test_size=0.01, random_state=42)\n",
    "\n",
    "print('demo size: ', len(Xtrain))\n",
    "print('testing size: ', len(Xtest))\n",
    "\n",
    "print('start fitting ...')\n"
   ]
  },
  {
   "cell_type": "code",
   "execution_count": 7,
   "metadata": {},
   "outputs": [
    {
     "name": "stdout",
     "output_type": "stream",
     "text": [
      "(1387, 500)\n",
      "(15, 500)\n",
      "WARNING:tensorflow:From /home/ifte/amiebot_project/lib/python3.6/site-packages/keras/backend/tensorflow_backend.py:422: The name tf.global_variables is deprecated. Please use tf.compat.v1.global_variables instead.\n",
      "\n",
      "Epoch 1/20\n",
      "232/232 [==============================] - 277s 1s/step - loss: 4.8103 - accuracy: 0.1816 - val_loss: 4.1347 - val_accuracy: 0.3359\n",
      "Epoch 2/20\n",
      "232/232 [==============================] - 279s 1s/step - loss: 3.7629 - accuracy: 0.3250 - val_loss: 3.4933 - val_accuracy: 0.3750\n",
      "Epoch 3/20\n",
      "232/232 [==============================] - 279s 1s/step - loss: 3.3599 - accuracy: 0.3685 - val_loss: 3.6480 - val_accuracy: 0.3516\n",
      "Epoch 4/20\n",
      "232/232 [==============================] - 278s 1s/step - loss: 3.2449 - accuracy: 0.3732 - val_loss: 3.5598 - val_accuracy: 0.3672\n",
      "Epoch 5/20\n",
      "232/232 [==============================] - 273s 1s/step - loss: 3.0599 - accuracy: 0.3883 - val_loss: 4.0258 - val_accuracy: 0.3750\n",
      "Epoch 6/20\n",
      "232/232 [==============================] - 274s 1s/step - loss: 2.9357 - accuracy: 0.4056 - val_loss: 3.3163 - val_accuracy: 0.3750\n",
      "Epoch 7/20\n",
      "232/232 [==============================] - 274s 1s/step - loss: 2.8341 - accuracy: 0.4197 - val_loss: 2.9559 - val_accuracy: 0.4453\n",
      "Epoch 8/20\n",
      "232/232 [==============================] - 274s 1s/step - loss: 2.7310 - accuracy: 0.4312 - val_loss: 3.3824 - val_accuracy: 0.3750\n",
      "Epoch 9/20\n",
      "232/232 [==============================] - 274s 1s/step - loss: 2.5972 - accuracy: 0.4529 - val_loss: 3.4114 - val_accuracy: 0.4141\n",
      "Epoch 10/20\n",
      "232/232 [==============================] - 273s 1s/step - loss: 2.5084 - accuracy: 0.4639 - val_loss: 3.5948 - val_accuracy: 0.4375\n",
      "Epoch 11/20\n",
      "232/232 [==============================] - 273s 1s/step - loss: 2.4105 - accuracy: 0.4757 - val_loss: 2.6045 - val_accuracy: 0.4688\n",
      "Epoch 12/20\n",
      "232/232 [==============================] - 273s 1s/step - loss: 2.3448 - accuracy: 0.4840 - val_loss: 3.0929 - val_accuracy: 0.4453\n",
      "Epoch 13/20\n",
      "232/232 [==============================] - 274s 1s/step - loss: 2.2393 - accuracy: 0.4987 - val_loss: 3.9404 - val_accuracy: 0.4688\n",
      "Epoch 14/20\n",
      "232/232 [==============================] - 274s 1s/step - loss: 2.1369 - accuracy: 0.5146 - val_loss: 3.0942 - val_accuracy: 0.5234\n",
      "Epoch 15/20\n",
      "232/232 [==============================] - 273s 1s/step - loss: 2.0414 - accuracy: 0.5297 - val_loss: 2.3686 - val_accuracy: 0.4922\n",
      "Epoch 16/20\n",
      "232/232 [==============================] - 273s 1s/step - loss: 1.9520 - accuracy: 0.5445 - val_loss: 2.7806 - val_accuracy: 0.5000\n",
      "Epoch 17/20\n",
      "232/232 [==============================] - 274s 1s/step - loss: 1.8830 - accuracy: 0.5607 - val_loss: 3.2260 - val_accuracy: 0.5000\n",
      "Epoch 18/20\n",
      "232/232 [==============================] - 296s 1s/step - loss: 1.8179 - accuracy: 0.5752 - val_loss: 2.8416 - val_accuracy: 0.5156\n",
      "Epoch 19/20\n",
      "232/232 [==============================] - 300s 1s/step - loss: 1.7018 - accuracy: 0.5965 - val_loss: 2.9082 - val_accuracy: 0.5000\n",
      "Epoch 20/20\n",
      "232/232 [==============================] - 301s 1s/step - loss: 1.6176 - accuracy: 0.6125 - val_loss: 2.2526 - val_accuracy: 0.4766\n"
     ]
    }
   ],
   "source": [
    "history = summarizer.fit(Xtrain, Ytrain, Xtest, Ytest, epochs=20)"
   ]
  },
  {
   "cell_type": "code",
   "execution_count": 7,
   "metadata": {},
   "outputs": [
    {
     "name": "stdout",
     "output_type": "stream",
     "text": [
      "Saved model to disk\n"
     ]
    }
   ],
   "source": [
    "# serialize model to JSON\n",
    "model_json = summarizer.model.to_json()\n",
    "with open(\"model.json\", \"w\") as json_file:\n",
    "    json_file.write(model_json)\n",
    "# serialize weights to HDF5\n",
    "summarizer.model.save_weights(\"model.h5\")\n",
    "print(\"Saved model to disk\")"
   ]
  },
  {
   "cell_type": "code",
   "execution_count": null,
   "metadata": {},
   "outputs": [],
   "source": [
    "# later...\n",
    " \n",
    "# load json and create model\n",
    "json_file = open('model.json', 'r')\n",
    "loaded_model_json = json_file.read()\n",
    "json_file.close()\n",
    "loaded_model = model_from_json(loaded_model_json)\n",
    "# load weights into new model\n",
    "loaded_model.load_weights(\"model.h5\")\n",
    "print(\"Loaded model from disk\")"
   ]
  }
 ],
 "metadata": {
  "kernelspec": {
   "display_name": "Python 3",
   "language": "python",
   "name": "python3"
  },
  "language_info": {
   "codemirror_mode": {
    "name": "ipython",
    "version": 3
   },
   "file_extension": ".py",
   "mimetype": "text/x-python",
   "name": "python",
   "nbconvert_exporter": "python",
   "pygments_lexer": "ipython3",
   "version": "3.6.8"
  }
 },
 "nbformat": 4,
 "nbformat_minor": 2
}
