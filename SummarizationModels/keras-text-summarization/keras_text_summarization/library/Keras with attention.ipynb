{
 "cells": [
  {
   "cell_type": "code",
   "execution_count": 30,
   "metadata": {
    "colab": {},
    "colab_type": "code",
    "id": "3Ei6E6gryWGB"
   },
   "outputs": [],
   "source": [
    "import tensorflow as tf\n",
    "import os\n",
    "from tensorflow.python.keras.layers import Layer\n",
    "from tensorflow.python.keras import backend as K\n",
    "\n",
    "\n",
    "class AttentionLayer(Layer):\n",
    "    \"\"\"\n",
    "    This class implements Bahdanau attention (https://arxiv.org/pdf/1409.0473.pdf).\n",
    "    There are three sets of weights introduced W_a, U_a, and V_a\n",
    "     \"\"\"\n",
    "\n",
    "    def __init__(self, **kwargs):\n",
    "        super(AttentionLayer, self).__init__(**kwargs)\n",
    "\n",
    "    def build(self, input_shape):\n",
    "        assert isinstance(input_shape, list)\n",
    "        # Create a trainable weight variable for this layer.\n",
    "\n",
    "        self.W_a = self.add_weight(name='W_a',\n",
    "                                   shape=tf.TensorShape((input_shape[0][2], input_shape[0][2])),\n",
    "                                   initializer='uniform',\n",
    "                                   trainable=True)\n",
    "        self.U_a = self.add_weight(name='U_a',\n",
    "                                   shape=tf.TensorShape((input_shape[1][2], input_shape[0][2])),\n",
    "                                   initializer='uniform',\n",
    "                                   trainable=True)\n",
    "        self.V_a = self.add_weight(name='V_a',\n",
    "                                   shape=tf.TensorShape((input_shape[0][2], 1)),\n",
    "                                   initializer='uniform',\n",
    "                                   trainable=True)\n",
    "\n",
    "        super(AttentionLayer, self).build(input_shape)  # Be sure to call this at the end\n",
    "\n",
    "    def call(self, inputs, verbose=False):\n",
    "        \"\"\"\n",
    "        inputs: [encoder_output_sequence, decoder_output_sequence]\n",
    "        \"\"\"\n",
    "        assert type(inputs) == list\n",
    "        encoder_out_seq, decoder_out_seq = inputs\n",
    "        if verbose:\n",
    "            print('encoder_out_seq>', encoder_out_seq.shape)\n",
    "            print('decoder_out_seq>', decoder_out_seq.shape)\n",
    "\n",
    "        def energy_step(inputs, states):\n",
    "            \"\"\" Step function for computing energy for a single decoder state \"\"\"\n",
    "\n",
    "            assert_msg = \"States must be a list. However states {} is of type {}\".format(states, type(states))\n",
    "            assert isinstance(states, list) or isinstance(states, tuple), assert_msg\n",
    "\n",
    "            \"\"\" Some parameters required for shaping tensors\"\"\"\n",
    "            en_seq_len, en_hidden = encoder_out_seq.shape[1], encoder_out_seq.shape[2]\n",
    "            de_hidden = inputs.shape[-1]\n",
    "\n",
    "            \"\"\" Computing S.Wa where S=[s0, s1, ..., si]\"\"\"\n",
    "            # <= batch_size*en_seq_len, latent_dim\n",
    "            reshaped_enc_outputs = K.reshape(encoder_out_seq, (-1, en_hidden))\n",
    "            # <= batch_size*en_seq_len, latent_dim\n",
    "            W_a_dot_s = K.reshape(K.dot(reshaped_enc_outputs, self.W_a), (-1, en_seq_len, en_hidden))\n",
    "            if verbose:\n",
    "                print('wa.s>',W_a_dot_s.shape)\n",
    "\n",
    "            \"\"\" Computing hj.Ua \"\"\"\n",
    "            U_a_dot_h = K.expand_dims(K.dot(inputs, self.U_a), 1)  # <= batch_size, 1, latent_dim\n",
    "            if verbose:\n",
    "                print('Ua.h>',U_a_dot_h.shape)\n",
    "\n",
    "            \"\"\" tanh(S.Wa + hj.Ua) \"\"\"\n",
    "            # <= batch_size*en_seq_len, latent_dim\n",
    "            reshaped_Ws_plus_Uh = K.tanh(K.reshape(W_a_dot_s + U_a_dot_h, (-1, en_hidden)))\n",
    "            if verbose:\n",
    "                print('Ws+Uh>', reshaped_Ws_plus_Uh.shape)\n",
    "\n",
    "            \"\"\" softmax(va.tanh(S.Wa + hj.Ua)) \"\"\"\n",
    "            # <= batch_size, en_seq_len\n",
    "            e_i = K.reshape(K.dot(reshaped_Ws_plus_Uh, self.V_a), (-1, en_seq_len))\n",
    "            # <= batch_size, en_seq_len\n",
    "            e_i = K.softmax(e_i)\n",
    "\n",
    "            if verbose:\n",
    "                print('ei>', e_i.shape)\n",
    "\n",
    "            return e_i, [e_i]\n",
    "\n",
    "        def context_step(inputs, states):\n",
    "            \"\"\" Step function for computing ci using ei \"\"\"\n",
    "            # <= batch_size, hidden_size\n",
    "            c_i = K.sum(encoder_out_seq * K.expand_dims(inputs, -1), axis=1)\n",
    "            if verbose:\n",
    "                print('ci>', c_i.shape)\n",
    "            return c_i, [c_i]\n",
    "\n",
    "        def create_inital_state(inputs, hidden_size):\n",
    "            # We are not using initial states, but need to pass something to K.rnn funciton\n",
    "            fake_state = K.zeros_like(inputs)  # <= (batch_size, enc_seq_len, latent_dim\n",
    "            fake_state = K.sum(fake_state, axis=[1, 2])  # <= (batch_size)\n",
    "            fake_state = K.expand_dims(fake_state)  # <= (batch_size, 1)\n",
    "            fake_state = K.tile(fake_state, [1, hidden_size])  # <= (batch_size, latent_dim\n",
    "            return fake_state\n",
    "\n",
    "        fake_state_c = create_inital_state(encoder_out_seq, encoder_out_seq.shape[-1])\n",
    "        fake_state_e = create_inital_state(encoder_out_seq, encoder_out_seq.shape[1])  # <= (batch_size, enc_seq_len, latent_dim\n",
    "\n",
    "        \"\"\" Computing energy outputs \"\"\"\n",
    "        # e_outputs => (batch_size, de_seq_len, en_seq_len)\n",
    "        last_out, e_outputs, _ = K.rnn(\n",
    "            energy_step, decoder_out_seq, [fake_state_e],\n",
    "        )\n",
    "\n",
    "        \"\"\" Computing context vectors \"\"\"\n",
    "        last_out, c_outputs, _ = K.rnn(\n",
    "            context_step, e_outputs, [fake_state_c],\n",
    "        )\n",
    "\n",
    "        return c_outputs, e_outputs\n",
    "\n",
    "    def compute_output_shape(self, input_shape):\n",
    "        \"\"\" Outputs produced by the layer \"\"\"\n",
    "        return [\n",
    "            tf.TensorShape((input_shape[1][0], input_shape[1][1], input_shape[1][2])),\n",
    "            tf.TensorShape((input_shape[1][0], input_shape[1][1], input_shape[0][1]))\n",
    "        ]"
   ]
  },
  {
   "cell_type": "code",
   "execution_count": 31,
   "metadata": {
    "colab": {},
    "colab_type": "code",
    "id": "gADRBtllx69-"
   },
   "outputs": [],
   "source": [
    "import numpy as np  \n",
    "import pandas as pd \n",
    "import re           \n",
    "from bs4 import BeautifulSoup \n",
    "from keras.preprocessing.text import Tokenizer \n",
    "from keras.preprocessing.sequence import pad_sequences\n",
    "from nltk.corpus import stopwords   \n",
    "from tensorflow.keras.layers import Input, LSTM, Embedding, Dense, Concatenate, TimeDistributed, Bidirectional\n",
    "from tensorflow.keras.models import Model\n",
    "from tensorflow.keras.callbacks import EarlyStopping\n",
    "import warnings\n",
    "pd.set_option(\"display.max_colwidth\", 200)\n",
    "warnings.filterwarnings(\"ignore\")"
   ]
  },
  {
   "cell_type": "code",
   "execution_count": 32,
   "metadata": {
    "colab": {},
    "colab_type": "code",
    "id": "_O2NTNAXx6-M"
   },
   "outputs": [],
   "source": [
    "df = pd.read_csv(\"/home/ifte/amiebot_project/MyAI/AI-system/Helpers/processed_dataset.csv\")\n",
    "df['SP_Tok_summ'] = df['Summary'].apply(lambda x : '_START_ '+ x + ' _END_')"
   ]
  },
  {
   "cell_type": "code",
   "execution_count": 33,
   "metadata": {
    "colab": {
     "base_uri": "https://localhost:8080/",
     "height": 52
    },
    "colab_type": "code",
    "executionInfo": {
     "elapsed": 8738,
     "status": "ok",
     "timestamp": 1578491643020,
     "user": {
      "displayName": "Iftekhar Mobin",
      "photoUrl": "https://lh3.googleusercontent.com/a-/AAuE7mCxLNbNExaSWFqAVmN9ZkaD9crPayCz8LhrZ2yh1w=s64",
      "userId": "18286273137344533987"
     },
     "user_tz": -540
    },
    "id": "2bG2DTRkx6-W",
    "outputId": "74ba6343-ec08-4001-8c01-1f8a971035dc"
   },
   "outputs": [
    {
     "name": "stdout",
     "output_type": "stream",
     "text": [
      "0.905848787446505\n",
      "0.8509272467902995\n"
     ]
    }
   ],
   "source": [
    "cnt=0\n",
    "for i in df['Summary']:\n",
    "    if(len(i.split())<=12):\n",
    "        cnt=cnt+1\n",
    "print(cnt/len(df['Summary']))\n",
    "\n",
    "cnt=0\n",
    "for i in df['Article']:\n",
    "    if(len(i.split())<=250):\n",
    "        cnt=cnt+1\n",
    "print(cnt/len(df['Article']))"
   ]
  },
  {
   "cell_type": "code",
   "execution_count": 34,
   "metadata": {
    "colab": {},
    "colab_type": "code",
    "id": "BzRn2kD-x6-e"
   },
   "outputs": [],
   "source": [
    "max_text_len=250\n",
    "max_summary_len=12"
   ]
  },
  {
   "cell_type": "code",
   "execution_count": 35,
   "metadata": {
    "colab": {
     "base_uri": "https://localhost:8080/",
     "height": 225
    },
    "colab_type": "code",
    "executionInfo": {
     "elapsed": 11566,
     "status": "ok",
     "timestamp": 1578491645867,
     "user": {
      "displayName": "Iftekhar Mobin",
      "photoUrl": "https://lh3.googleusercontent.com/a-/AAuE7mCxLNbNExaSWFqAVmN9ZkaD9crPayCz8LhrZ2yh1w=s64",
      "userId": "18286273137344533987"
     },
     "user_tz": -540
    },
    "id": "ssMrdC09x6-l",
    "outputId": "8fc8dc63-587a-4344-8ca3-cc7926b360c7"
   },
   "outputs": [
    {
     "name": "stdout",
     "output_type": "stream",
     "text": [
      "device                                   9013\n",
      "select                                   3038\n",
      "email                                    2763\n",
      "file                                     2679\n",
      "soti                                     2638\n",
      "user                                     2396\n",
      "name                                     2186\n",
      "mobicontrol                              2029\n",
      "server                                   2025\n",
      "enter                                    2024\n",
      "the                                      1785\n",
      "rule                                     1643\n",
      "setting                                  1500\n",
      "application                              1473\n",
      "option                                   1436\n",
      "profile                                  1427\n",
      "click                                    1419\n",
      "topic                                    1404\n",
      "parent                                   1387\n",
      "use                                      1385\n",
      "certificate                              1365\n",
      "list                                     1335\n",
      "want                                     1291\n",
      "box                                      1267\n",
      "to                                       1215\n",
      "data                                     1200\n",
      "configuration                            1162\n",
      "dialog                                   1154\n",
      "connection                               1144\n",
      "password                                 1111\n",
      "                                         ... \n",
      "routine                                     1\n",
      "nonssl                                      1\n",
      "null                                        1\n",
      "thereafter                                  1\n",
      "validaterequest                             1\n",
      "netsotisettingsmanager                      1\n",
      "updatedb                                    1\n",
      "ctemponboardlogtxt                          1\n",
      "tolerancefield                              1\n",
      "combo                                       1\n",
      "hkeylocalmachinesoftwareappsmicrosoft       1\n",
      "enforcing                                   1\n",
      "accomplishes                                1\n",
      "varying                                     1\n",
      "confirms                                    1\n",
      "colour                                      1\n",
      "release                                     1\n",
      "deep                                        1\n",
      "cater                                       1\n",
      "decrypted                                   1\n",
      "conventional                                1\n",
      "transformed                                 1\n",
      "devicelevel                                 1\n",
      "streamline                                  1\n",
      "rerun                                       1\n",
      "ringtonevolumeringtonevolume                1\n",
      "keyregkey                                   1\n",
      "smartsystemsenabled                         1\n",
      "mydomaincom                                 1\n",
      "relies                                      1\n",
      "Length: 4574, dtype: int64\n"
     ]
    }
   ],
   "source": [
    "series = df.Article.str.split(expand=True).stack().value_counts()\n",
    "print(series) "
   ]
  },
  {
   "cell_type": "code",
   "execution_count": 234,
   "metadata": {
    "colab": {
     "base_uri": "https://localhost:8080/",
     "height": 69
    },
    "colab_type": "code",
    "executionInfo": {
     "elapsed": 11556,
     "status": "ok",
     "timestamp": 1578491645870,
     "user": {
      "displayName": "Iftekhar Mobin",
      "photoUrl": "https://lh3.googleusercontent.com/a-/AAuE7mCxLNbNExaSWFqAVmN9ZkaD9crPayCz8LhrZ2yh1w=s64",
      "userId": "18286273137344533987"
     },
     "user_tz": -540
    },
    "id": "zKxyPrDK0eua",
    "outputId": "b1a9e006-ba3b-4944-ff65-b5663f81f4b5"
   },
   "outputs": [
    {
     "name": "stdout",
     "output_type": "stream",
     "text": [
      "[nltk_data] Downloading package punkt to /root/nltk_data...\n",
      "[nltk_data]   Package punkt is already up-to-date!\n"
     ]
    },
    {
     "data": {
      "text/plain": [
       "True"
      ]
     },
     "execution_count": 234,
     "metadata": {
      "tags": []
     },
     "output_type": "execute_result"
    }
   ],
   "source": [
    "import nltk\n",
    "nltk.download('punkt')"
   ]
  },
  {
   "cell_type": "code",
   "execution_count": 36,
   "metadata": {
    "colab": {
     "base_uri": "https://localhost:8080/",
     "height": 345
    },
    "colab_type": "code",
    "executionInfo": {
     "elapsed": 13120,
     "status": "ok",
     "timestamp": 1578491647449,
     "user": {
      "displayName": "Iftekhar Mobin",
      "photoUrl": "https://lh3.googleusercontent.com/a-/AAuE7mCxLNbNExaSWFqAVmN9ZkaD9crPayCz8LhrZ2yh1w=s64",
      "userId": "18286273137344533987"
     },
     "user_tz": -540
    },
    "id": "TbpIssvdx6-r",
    "outputId": "0c7c4a07-4dfe-43ce-c089-374b9dbaf521"
   },
   "outputs": [
    {
     "data": {
      "text/html": [
       "<div>\n",
       "<style scoped>\n",
       "    .dataframe tbody tr th:only-of-type {\n",
       "        vertical-align: middle;\n",
       "    }\n",
       "\n",
       "    .dataframe tbody tr th {\n",
       "        vertical-align: top;\n",
       "    }\n",
       "\n",
       "    .dataframe thead th {\n",
       "        text-align: right;\n",
       "    }\n",
       "</style>\n",
       "<table border=\"1\" class=\"dataframe\">\n",
       "  <thead>\n",
       "    <tr style=\"text-align: right;\">\n",
       "      <th></th>\n",
       "      <th>Unnamed: 0</th>\n",
       "      <th>Article</th>\n",
       "      <th>Summary</th>\n",
       "      <th>SP_Tok_summ</th>\n",
       "    </tr>\n",
       "  </thead>\n",
       "  <tbody>\n",
       "    <tr>\n",
       "      <th>0</th>\n",
       "      <td>1</td>\n",
       "      <td>help version</td>\n",
       "      <td>banner</td>\n",
       "      <td>_START_ banner _END_</td>\n",
       "    </tr>\n",
       "    <tr>\n",
       "      <th>1</th>\n",
       "      <td>3</td>\n",
       "      <td>find page containing match case match whole word use search must enable javascript web browser match case match whole word</td>\n",
       "      <td>search</td>\n",
       "      <td>_START_ search _END_</td>\n",
       "    </tr>\n",
       "    <tr>\n",
       "      <th>2</th>\n",
       "      <td>4</td>\n",
       "      <td>mobicontrol help mobicontrol enterprise mobile management solution dedicated helping manage monitor enterprise use mobicontrol help learn feature available mobicontrol a employee increasingly rely...</td>\n",
       "      <td>welcome mobicontrol help start</td>\n",
       "      <td>_START_ welcome soti mobicontrol help start _END_</td>\n",
       "    </tr>\n",
       "    <tr>\n",
       "      <th>3</th>\n",
       "      <td>5</td>\n",
       "      <td>mobicontrol this section provides instruction installing activating upgrading mobicontrol instance once installed mobicontrol able manage central system email</td>\n",
       "      <td>setting up mobicontrol setup setupindex</td>\n",
       "      <td>_START_ setting up soti mobicontrol setup setupindex _END_</td>\n",
       "    </tr>\n",
       "    <tr>\n",
       "      <th>4</th>\n",
       "      <td>6</td>\n",
       "      <td>mobicontrol each mobicontrol installation consists three component console database deployment server mobicontrol console main interface managing it communicates deployment server exchanging infor...</td>\n",
       "      <td>setting up mobicontrol setup installing installation</td>\n",
       "      <td>_START_ setting up soti mobicontrol setup installing installation _END_</td>\n",
       "    </tr>\n",
       "  </tbody>\n",
       "</table>\n",
       "</div>"
      ],
      "text/plain": [
       "   Unnamed: 0  \\\n",
       "0           1   \n",
       "1           3   \n",
       "2           4   \n",
       "3           5   \n",
       "4           6   \n",
       "\n",
       "                                                                                                                                                                                                   Article  \\\n",
       "0                                                                                                                                                                                             help version   \n",
       "1                                                                               find page containing match case match whole word use search must enable javascript web browser match case match whole word   \n",
       "2  mobicontrol help mobicontrol enterprise mobile management solution dedicated helping manage monitor enterprise use mobicontrol help learn feature available mobicontrol a employee increasingly rely...   \n",
       "3                                           mobicontrol this section provides instruction installing activating upgrading mobicontrol instance once installed mobicontrol able manage central system email   \n",
       "4  mobicontrol each mobicontrol installation consists three component console database deployment server mobicontrol console main interface managing it communicates deployment server exchanging infor...   \n",
       "\n",
       "                                                Summary  \\\n",
       "0                                                banner   \n",
       "1                                                search   \n",
       "2                        welcome mobicontrol help start   \n",
       "3               setting up mobicontrol setup setupindex   \n",
       "4  setting up mobicontrol setup installing installation   \n",
       "\n",
       "                                                               SP_Tok_summ  \n",
       "0                                                     _START_ banner _END_  \n",
       "1                                                     _START_ search _END_  \n",
       "2                        _START_ welcome soti mobicontrol help start _END_  \n",
       "3               _START_ setting up soti mobicontrol setup setupindex _END_  \n",
       "4  _START_ setting up soti mobicontrol setup installing installation _END_  "
      ]
     },
     "execution_count": 36,
     "metadata": {},
     "output_type": "execute_result"
    }
   ],
   "source": [
    "from nltk.tokenize import word_tokenize\n",
    "\n",
    "frequent_words = ['device', 'click', 'select', 'the', 'to', 'soti']\n",
    "\n",
    "def preprocess_text(sentence):\n",
    "    tokenized_words = word_tokenize(sentence)\n",
    "    tokenized_words = [word for word in tokenized_words if word not in frequent_words]\n",
    "    return \" \".join(tokenized_words)\n",
    "\n",
    "df.Summary = df.Summary.apply(lambda x: preprocess_text(str(x)))\n",
    "df.Article = df.Article.apply(lambda x: preprocess_text(str(x)))\n",
    "df.head()"
   ]
  },
  {
   "cell_type": "code",
   "execution_count": 37,
   "metadata": {
    "colab": {},
    "colab_type": "code",
    "id": "tp71IcFtx6-y"
   },
   "outputs": [],
   "source": [
    "cleaned_text =np.array(df['Article'])\n",
    "cleaned_summary=np.array(df['Summary'])\n",
    "\n",
    "short_text=[]\n",
    "short_summary=[]\n",
    "\n",
    "for i in range(len(cleaned_text)):\n",
    "    if(len(cleaned_summary[i].split())<=max_summary_len and len(cleaned_text[i].split())<=max_text_len):\n",
    "        short_text.append(cleaned_text[i])\n",
    "        short_summary.append(cleaned_summary[i])\n",
    "        \n",
    "df=pd.DataFrame({'text':short_text,'summary':short_summary})"
   ]
  },
  {
   "cell_type": "code",
   "execution_count": 38,
   "metadata": {
    "colab": {},
    "colab_type": "code",
    "id": "zIUW0IGMx6-4"
   },
   "outputs": [],
   "source": [
    "df['summary'] = df['summary'].apply(lambda x : 'sostok '+ x + ' eostok')"
   ]
  },
  {
   "cell_type": "code",
   "execution_count": 39,
   "metadata": {
    "colab": {},
    "colab_type": "code",
    "id": "usRrpdBSx6-9"
   },
   "outputs": [],
   "source": [
    "from sklearn.model_selection import train_test_split\n",
    "x_tr,x_val,y_tr,y_val=train_test_split(np.array(df['text']),np.array(df['summary']),test_size=0.1,random_state=0,shuffle=True)"
   ]
  },
  {
   "cell_type": "code",
   "execution_count": 40,
   "metadata": {
    "colab": {},
    "colab_type": "code",
    "id": "3Qa2c3S_x6_E"
   },
   "outputs": [],
   "source": [
    "from keras.preprocessing.text import Tokenizer \n",
    "from keras.preprocessing.sequence import pad_sequences\n",
    "\n",
    "#prepare a tokenizer for reviews on training data\n",
    "x_tokenizer = Tokenizer() \n",
    "x_tokenizer.fit_on_texts(list(x_tr))"
   ]
  },
  {
   "cell_type": "code",
   "execution_count": 41,
   "metadata": {
    "colab": {
     "base_uri": "https://localhost:8080/",
     "height": 52
    },
    "colab_type": "code",
    "executionInfo": {
     "elapsed": 13106,
     "status": "ok",
     "timestamp": 1578491647468,
     "user": {
      "displayName": "Iftekhar Mobin",
      "photoUrl": "https://lh3.googleusercontent.com/a-/AAuE7mCxLNbNExaSWFqAVmN9ZkaD9crPayCz8LhrZ2yh1w=s64",
      "userId": "18286273137344533987"
     },
     "user_tz": -540
    },
    "id": "0J1MW6hax6_K",
    "outputId": "65fc089c-e84e-45cb-bced-e6bcef72afbc"
   },
   "outputs": [
    {
     "name": "stdout",
     "output_type": "stream",
     "text": [
      "% of rare words in vocabulary: 49.51747088186356\n",
      "Total Coverage of rare words: 3.39120467443876\n"
     ]
    }
   ],
   "source": [
    "thresh=4\n",
    "\n",
    "cnt=0\n",
    "tot_cnt=0\n",
    "freq=0\n",
    "tot_freq=0\n",
    "\n",
    "for key,value in x_tokenizer.word_counts.items():\n",
    "    tot_cnt=tot_cnt+1\n",
    "    tot_freq=tot_freq+value\n",
    "    if(value<thresh):\n",
    "        cnt=cnt+1\n",
    "        freq=freq+value\n",
    "    \n",
    "print(\"% of rare words in vocabulary:\",(cnt/tot_cnt)*100)\n",
    "print(\"Total Coverage of rare words:\",(freq/tot_freq)*100)"
   ]
  },
  {
   "cell_type": "code",
   "execution_count": 42,
   "metadata": {
    "colab": {
     "base_uri": "https://localhost:8080/",
     "height": 34
    },
    "colab_type": "code",
    "executionInfo": {
     "elapsed": 13098,
     "status": "ok",
     "timestamp": 1578491647472,
     "user": {
      "displayName": "Iftekhar Mobin",
      "photoUrl": "https://lh3.googleusercontent.com/a-/AAuE7mCxLNbNExaSWFqAVmN9ZkaD9crPayCz8LhrZ2yh1w=s64",
      "userId": "18286273137344533987"
     },
     "user_tz": -540
    },
    "id": "Xi_9mmPex6_S",
    "outputId": "70d614fb-6f8f-45d1-f8ef-1180966f4112"
   },
   "outputs": [
    {
     "data": {
      "text/plain": [
       "1518"
      ]
     },
     "execution_count": 42,
     "metadata": {},
     "output_type": "execute_result"
    }
   ],
   "source": [
    "#prepare a tokenizer for reviews on training data\n",
    "x_tokenizer = Tokenizer(num_words=tot_cnt-cnt) \n",
    "x_tokenizer.fit_on_texts(list(x_tr))\n",
    "\n",
    "#convert text sequences into integer sequences\n",
    "x_tr_seq    =   x_tokenizer.texts_to_sequences(x_tr) \n",
    "x_val_seq   =   x_tokenizer.texts_to_sequences(x_val)\n",
    "\n",
    "#padding zero upto maximum length\n",
    "x_tr    =   pad_sequences(x_tr_seq,  maxlen=max_text_len, padding='post')\n",
    "x_val   =   pad_sequences(x_val_seq, maxlen=max_text_len, padding='post')\n",
    "\n",
    "#size of vocabulary ( +1 for padding token)\n",
    "x_voc   =  x_tokenizer.num_words + 1\n",
    "\n",
    "x_voc"
   ]
  },
  {
   "cell_type": "code",
   "execution_count": 43,
   "metadata": {
    "colab": {},
    "colab_type": "code",
    "id": "B5bu_PeZx6_X"
   },
   "outputs": [],
   "source": [
    "#prepare a tokenizer for reviews on training data\n",
    "y_tokenizer = Tokenizer()   \n",
    "y_tokenizer.fit_on_texts(list(y_tr))"
   ]
  },
  {
   "cell_type": "code",
   "execution_count": 44,
   "metadata": {
    "colab": {
     "base_uri": "https://localhost:8080/",
     "height": 52
    },
    "colab_type": "code",
    "executionInfo": {
     "elapsed": 13080,
     "status": "ok",
     "timestamp": 1578491647475,
     "user": {
      "displayName": "Iftekhar Mobin",
      "photoUrl": "https://lh3.googleusercontent.com/a-/AAuE7mCxLNbNExaSWFqAVmN9ZkaD9crPayCz8LhrZ2yh1w=s64",
      "userId": "18286273137344533987"
     },
     "user_tz": -540
    },
    "id": "ftVMo5L2x6_d",
    "outputId": "50b15f3b-9df9-49d6-a0d5-3ba3ebecc49b"
   },
   "outputs": [
    {
     "name": "stdout",
     "output_type": "stream",
     "text": [
      "% of rare words in vocabulary: 73.65792759051186\n",
      "Total Coverage of rare words: 9.946619217081851\n"
     ]
    }
   ],
   "source": [
    "thresh=6\n",
    "\n",
    "cnt=0\n",
    "tot_cnt=0\n",
    "freq=0\n",
    "tot_freq=0\n",
    "\n",
    "for key,value in y_tokenizer.word_counts.items():\n",
    "    tot_cnt=tot_cnt+1\n",
    "    tot_freq=tot_freq+value\n",
    "    if(value<thresh):\n",
    "        cnt=cnt+1\n",
    "        freq=freq+value\n",
    "    \n",
    "print(\"% of rare words in vocabulary:\",(cnt/tot_cnt)*100)\n",
    "print(\"Total Coverage of rare words:\",(freq/tot_freq)*100)\n",
    "\n"
   ]
  },
  {
   "cell_type": "code",
   "execution_count": 45,
   "metadata": {
    "colab": {},
    "colab_type": "code",
    "id": "9djM9rOnx6_h"
   },
   "outputs": [],
   "source": [
    "#prepare a tokenizer for reviews on training data\n",
    "y_tokenizer = Tokenizer(num_words=tot_cnt-cnt) \n",
    "y_tokenizer.fit_on_texts(list(y_tr))\n",
    "\n",
    "#convert text sequences into integer sequences\n",
    "y_tr_seq    =   y_tokenizer.texts_to_sequences(y_tr) \n",
    "y_val_seq   =   y_tokenizer.texts_to_sequences(y_val) \n",
    "\n",
    "#padding zero upto maximum length\n",
    "y_tr    =   pad_sequences(y_tr_seq, maxlen=max_summary_len, padding='post')\n",
    "y_val   =   pad_sequences(y_val_seq, maxlen=max_summary_len, padding='post')\n",
    "\n",
    "#size of vocabulary\n",
    "y_voc  =   y_tokenizer.num_words +1"
   ]
  },
  {
   "cell_type": "code",
   "execution_count": 46,
   "metadata": {
    "colab": {
     "base_uri": "https://localhost:8080/",
     "height": 34
    },
    "colab_type": "code",
    "executionInfo": {
     "elapsed": 13069,
     "status": "ok",
     "timestamp": 1578491647480,
     "user": {
      "displayName": "Iftekhar Mobin",
      "photoUrl": "https://lh3.googleusercontent.com/a-/AAuE7mCxLNbNExaSWFqAVmN9ZkaD9crPayCz8LhrZ2yh1w=s64",
      "userId": "18286273137344533987"
     },
     "user_tz": -540
    },
    "id": "JvOGlhjWx6_m",
    "outputId": "bd61b25f-7755-498d-ed64-57c77c1c3f39"
   },
   "outputs": [
    {
     "data": {
      "text/plain": [
       "(1020, 1020)"
      ]
     },
     "execution_count": 46,
     "metadata": {},
     "output_type": "execute_result"
    }
   ],
   "source": [
    "y_tokenizer.word_counts['sostok'],len(y_tr)"
   ]
  },
  {
   "cell_type": "code",
   "execution_count": 47,
   "metadata": {
    "colab": {},
    "colab_type": "code",
    "id": "LpoUfLRrx6_r"
   },
   "outputs": [],
   "source": [
    "ind=[]\n",
    "for i in range(len(y_tr)):\n",
    "    cnt=0\n",
    "    for j in y_tr[i]:\n",
    "        if j!=0:\n",
    "            cnt=cnt+1\n",
    "    if(cnt==2):\n",
    "        ind.append(i)\n",
    "\n",
    "y_tr=np.delete(y_tr,ind, axis=0)\n",
    "x_tr=np.delete(x_tr,ind, axis=0)"
   ]
  },
  {
   "cell_type": "code",
   "execution_count": 48,
   "metadata": {
    "colab": {},
    "colab_type": "code",
    "id": "UOXf-xkSx6_w"
   },
   "outputs": [],
   "source": [
    "ind=[]\n",
    "for i in range(len(y_val)):\n",
    "    cnt=0\n",
    "    for j in y_val[i]:\n",
    "        if j!=0:\n",
    "            cnt=cnt+1\n",
    "    if(cnt==2):\n",
    "        ind.append(i)\n",
    "\n",
    "y_val=np.delete(y_val,ind, axis=0)\n",
    "x_val=np.delete(x_val,ind, axis=0)\n"
   ]
  },
  {
   "cell_type": "code",
   "execution_count": 49,
   "metadata": {
    "colab": {},
    "colab_type": "code",
    "id": "IyvKIirnCZQC"
   },
   "outputs": [],
   "source": [
    "from keras import backend as K \n",
    "K.clear_session()\n",
    "\n",
    "latent_dim = 300\n",
    "embedding_dim=100"
   ]
  },
  {
   "cell_type": "code",
   "execution_count": 50,
   "metadata": {
    "colab": {},
    "colab_type": "code",
    "id": "gGeRM_2pE-PQ"
   },
   "outputs": [],
   "source": [
    "# from tensorflow.keras.models import model_from_json\n",
    "\n",
    "# # load json and create model\n",
    "# json_file = open('model.json', 'r')\n",
    "# loaded_model_json = json_file.read()\n",
    "# json_file.close()\n",
    "# loaded_model = model_from_json(loaded_model_json)\n"
   ]
  },
  {
   "cell_type": "code",
   "execution_count": 51,
   "metadata": {
    "colab": {
     "base_uri": "https://localhost:8080/",
     "height": 607
    },
    "colab_type": "code",
    "executionInfo": {
     "elapsed": 15126,
     "status": "ok",
     "timestamp": 1578491649566,
     "user": {
      "displayName": "Iftekhar Mobin",
      "photoUrl": "https://lh3.googleusercontent.com/a-/AAuE7mCxLNbNExaSWFqAVmN9ZkaD9crPayCz8LhrZ2yh1w=s64",
      "userId": "18286273137344533987"
     },
     "user_tz": -540
    },
    "id": "YXB5KcmYx6_0",
    "outputId": "53e96b57-8bb4-42b7-ea40-2202595b9e2f"
   },
   "outputs": [
    {
     "name": "stdout",
     "output_type": "stream",
     "text": [
      "Model: \"model\"\n",
      "__________________________________________________________________________________________________\n",
      "Layer (type)                    Output Shape         Param #     Connected to                     \n",
      "==================================================================================================\n",
      "input_1 (InputLayer)            [(None, 250)]        0                                            \n",
      "__________________________________________________________________________________________________\n",
      "embedding (Embedding)           (None, 250, 100)     151800      input_1[0][0]                    \n",
      "__________________________________________________________________________________________________\n",
      "lstm (LSTM)                     [(None, 250, 300), ( 481200      embedding[0][0]                  \n",
      "__________________________________________________________________________________________________\n",
      "input_2 (InputLayer)            [(None, None)]       0                                            \n",
      "__________________________________________________________________________________________________\n",
      "lstm_1 (LSTM)                   [(None, 250, 300), ( 721200      lstm[0][0]                       \n",
      "__________________________________________________________________________________________________\n",
      "embedding_1 (Embedding)         (None, None, 100)    21200       input_2[0][0]                    \n",
      "__________________________________________________________________________________________________\n",
      "lstm_2 (LSTM)                   [(None, 250, 300), ( 721200      lstm_1[0][0]                     \n",
      "__________________________________________________________________________________________________\n",
      "lstm_3 (LSTM)                   [(None, None, 300),  481200      embedding_1[0][0]                \n",
      "                                                                 lstm_2[0][1]                     \n",
      "                                                                 lstm_2[0][2]                     \n",
      "__________________________________________________________________________________________________\n",
      "attention_layer (AttentionLayer ((None, None, 300),  180300      lstm_2[0][0]                     \n",
      "                                                                 lstm_3[0][0]                     \n",
      "__________________________________________________________________________________________________\n",
      "concat_layer (Concatenate)      (None, None, 600)    0           lstm_3[0][0]                     \n",
      "                                                                 attention_layer[0][0]            \n",
      "__________________________________________________________________________________________________\n",
      "time_distributed (TimeDistribut (None, None, 212)    127412      concat_layer[0][0]               \n",
      "==================================================================================================\n",
      "Total params: 2,885,512\n",
      "Trainable params: 2,885,512\n",
      "Non-trainable params: 0\n",
      "__________________________________________________________________________________________________\n"
     ]
    }
   ],
   "source": [
    "\n",
    "\n",
    "# Encoder\n",
    "encoder_inputs = Input(shape=(max_text_len,))\n",
    "\n",
    "#embedding layer\n",
    "enc_emb =  Embedding(x_voc, embedding_dim,trainable=True)(encoder_inputs)\n",
    "\n",
    "#encoder lstm 1\n",
    "encoder_lstm1 = LSTM(latent_dim,return_sequences=True,return_state=True,dropout=0.4,recurrent_dropout=0.4)\n",
    "encoder_output1, state_h1, state_c1 = encoder_lstm1(enc_emb)\n",
    "\n",
    "#encoder lstm 2\n",
    "encoder_lstm2 = LSTM(latent_dim,return_sequences=True,return_state=True,dropout=0.4,recurrent_dropout=0.4)\n",
    "encoder_output2, state_h2, state_c2 = encoder_lstm2(encoder_output1)\n",
    "\n",
    "#encoder lstm 3\n",
    "encoder_lstm3=LSTM(latent_dim, return_state=True, return_sequences=True,dropout=0.4,recurrent_dropout=0.4)\n",
    "encoder_outputs, state_h, state_c= encoder_lstm3(encoder_output2)\n",
    "\n",
    "# Set up the decoder, using `encoder_states` as initial state.\n",
    "decoder_inputs = Input(shape=(None,))\n",
    "\n",
    "#embedding layer\n",
    "dec_emb_layer = Embedding(y_voc, embedding_dim,trainable=True)\n",
    "dec_emb = dec_emb_layer(decoder_inputs)\n",
    "\n",
    "decoder_lstm = LSTM(latent_dim, return_sequences=True, return_state=True,dropout=0.4,recurrent_dropout=0.2)\n",
    "decoder_outputs,decoder_fwd_state, decoder_back_state = decoder_lstm(dec_emb,initial_state=[state_h, state_c])\n",
    "\n",
    "# Attention layer\n",
    "attn_layer = AttentionLayer(name='attention_layer')\n",
    "attn_out, attn_states = attn_layer([encoder_outputs, decoder_outputs])\n",
    "\n",
    "# Concat attention input and decoder LSTM output\n",
    "decoder_concat_input = Concatenate(axis=-1, name='concat_layer')([decoder_outputs, attn_out])\n",
    "\n",
    "#dense layer\n",
    "decoder_dense =  TimeDistributed(Dense(y_voc, activation='softmax'))\n",
    "decoder_outputs = decoder_dense(decoder_concat_input)\n",
    "\n",
    "# Define the model \n",
    "model = Model([encoder_inputs, decoder_inputs], decoder_outputs)\n",
    "\n",
    "model.summary()"
   ]
  },
  {
   "cell_type": "code",
   "execution_count": 0,
   "metadata": {
    "colab": {},
    "colab_type": "code",
    "id": "xkpwXxdsRzAA"
   },
   "outputs": [],
   "source": [
    "# from keras.callbacks import ModelCheckpoint\n",
    "\n",
    "# # checkpoint\n",
    "# filepath=\"weights.best.hdf5\"\n",
    "# checkpoint = ModelCheckpoint(filepath, monitor='val_accuracy', verbose=1, save_best_only=True, mode='max')\n",
    "# callbacks_list = [checkpoint]\n"
   ]
  },
  {
   "cell_type": "code",
   "execution_count": 52,
   "metadata": {
    "colab": {},
    "colab_type": "code",
    "id": "FntSCCWax6_6"
   },
   "outputs": [],
   "source": [
    "# # load weights\n",
    "# model.load_weights(\"weights.best.hdf5\")\n",
    "model.load_weights(\"/home/ifte/Downloads/trained_weights_seq2seqAtt.hdf5\")\n",
    "# model.load_model(\"/home/ifte/amiebot_project/MyAI/AI-system/Summarization Models/keras-text-summarization/model.h5\")\n",
    "model.compile(optimizer='rmsprop', loss='sparse_categorical_crossentropy')"
   ]
  },
  {
   "cell_type": "code",
   "execution_count": 0,
   "metadata": {
    "colab": {},
    "colab_type": "code",
    "id": "4dSafbK9x6__"
   },
   "outputs": [],
   "source": [
    "es = EarlyStopping(monitor='val_loss', mode='min', verbose=1,patience=2)"
   ]
  },
  {
   "cell_type": "code",
   "execution_count": 261,
   "metadata": {
    "colab": {
     "base_uri": "https://localhost:8080/",
     "height": 729
    },
    "colab_type": "code",
    "executionInfo": {
     "elapsed": 3087400,
     "status": "ok",
     "timestamp": 1578495153791,
     "user": {
      "displayName": "Iftekhar Mobin",
      "photoUrl": "https://lh3.googleusercontent.com/a-/AAuE7mCxLNbNExaSWFqAVmN9ZkaD9crPayCz8LhrZ2yh1w=s64",
      "userId": "18286273137344533987"
     },
     "user_tz": -540
    },
    "id": "OmOybekH02Tl",
    "outputId": "e4760db8-5b90-4705-daa2-f1235b1c9860"
   },
   "outputs": [
    {
     "name": "stdout",
     "output_type": "stream",
     "text": [
      "Train on 1018 samples, validate on 114 samples\n",
      "Epoch 1/20\n",
      "1018/1018 [==============================] - 158s 155ms/sample - loss: 3.1896 - val_loss: 3.0682\n",
      "Epoch 2/20\n",
      "1018/1018 [==============================] - 163s 161ms/sample - loss: 3.1401 - val_loss: 2.8479\n",
      "Epoch 3/20\n",
      "1018/1018 [==============================] - 160s 157ms/sample - loss: 2.9490 - val_loss: 2.7310\n",
      "Epoch 4/20\n",
      "1018/1018 [==============================] - 157s 154ms/sample - loss: 2.8895 - val_loss: 2.6413\n",
      "Epoch 5/20\n",
      "1018/1018 [==============================] - 158s 156ms/sample - loss: 2.7544 - val_loss: 2.5471\n",
      "Epoch 6/20\n",
      "1018/1018 [==============================] - 162s 159ms/sample - loss: 2.6559 - val_loss: 2.4989\n",
      "Epoch 7/20\n",
      "1018/1018 [==============================] - 156s 153ms/sample - loss: 2.5432 - val_loss: 2.3443\n",
      "Epoch 8/20\n",
      "1018/1018 [==============================] - 163s 160ms/sample - loss: 2.4636 - val_loss: 2.2769\n",
      "Epoch 9/20\n",
      "1018/1018 [==============================] - 149s 147ms/sample - loss: 2.3542 - val_loss: 2.2302\n",
      "Epoch 10/20\n",
      "1018/1018 [==============================] - 149s 147ms/sample - loss: 2.2879 - val_loss: 2.1040\n",
      "Epoch 11/20\n",
      "1018/1018 [==============================] - 149s 147ms/sample - loss: 2.2120 - val_loss: 2.0988\n",
      "Epoch 12/20\n",
      "1018/1018 [==============================] - 153s 150ms/sample - loss: 2.1425 - val_loss: 2.0416\n",
      "Epoch 13/20\n",
      "1018/1018 [==============================] - 153s 150ms/sample - loss: 2.0944 - val_loss: 1.9864\n",
      "Epoch 14/20\n",
      "1018/1018 [==============================] - 154s 151ms/sample - loss: 2.0486 - val_loss: 1.9463\n",
      "Epoch 15/20\n",
      "1018/1018 [==============================] - 148s 145ms/sample - loss: 1.9936 - val_loss: 1.9005\n",
      "Epoch 16/20\n",
      "1018/1018 [==============================] - 147s 144ms/sample - loss: 1.9362 - val_loss: 1.8653\n",
      "Epoch 17/20\n",
      "1018/1018 [==============================] - 154s 151ms/sample - loss: 1.8858 - val_loss: 1.8461\n",
      "Epoch 18/20\n",
      "1018/1018 [==============================] - 153s 151ms/sample - loss: 1.8681 - val_loss: 1.8335\n",
      "Epoch 19/20\n",
      "1018/1018 [==============================] - 151s 148ms/sample - loss: 1.7923 - val_loss: 1.8007\n",
      "Epoch 20/20\n",
      "1018/1018 [==============================] - 148s 146ms/sample - loss: 1.7767 - val_loss: 1.7365\n"
     ]
    }
   ],
   "source": [
    "# history=model.fit([x_tr,y_tr[:,:-1]], y_tr.reshape(y_tr.shape[0],y_tr.shape[1], 1)[:,1:] ,epochs=20,callbacks=[es],batch_size=150, validation_data=([x_val,y_val[:,:-1]], y_val.reshape(y_val.shape[0],y_val.shape[1], 1)[:,1:]))\n",
    "history=model.fit([x_tr,y_tr[:,:-1]], y_tr.reshape(y_tr.shape[0],y_tr.shape[1], 1)[:,1:] ,epochs=20,batch_size=150, callbacks=callbacks_list, validation_data=([x_val,y_val[:,:-1]], y_val.reshape(y_val.shape[0],y_val.shape[1], 1)[:,1:]))"
   ]
  },
  {
   "cell_type": "code",
   "execution_count": 0,
   "metadata": {
    "colab": {},
    "colab_type": "code",
    "id": "KKaCQ7NNNWzu"
   },
   "outputs": [],
   "source": [
    "# # serialize weights to HDF5\n",
    "# model.save_weights(\"model.h5\")\n",
    "# print(\"Saved model to disk\")"
   ]
  },
  {
   "cell_type": "code",
   "execution_count": 264,
   "metadata": {
    "colab": {
     "base_uri": "https://localhost:8080/",
     "height": 265
    },
    "colab_type": "code",
    "executionInfo": {
     "elapsed": 3087369,
     "status": "ok",
     "timestamp": 1578495153804,
     "user": {
      "displayName": "Iftekhar Mobin",
      "photoUrl": "https://lh3.googleusercontent.com/a-/AAuE7mCxLNbNExaSWFqAVmN9ZkaD9crPayCz8LhrZ2yh1w=s64",
      "userId": "18286273137344533987"
     },
     "user_tz": -540
    },
    "id": "jq9ahZe81WqD",
    "outputId": "c6adac0a-d255-46bb-ad58-fcc0d8569ee0"
   },
   "outputs": [
    {
     "data": {
      "image/png": "[encoded data removed]",
      "text/plain": [
       "<Figure size 432x288 with 1 Axes>"
      ]
     },
     "metadata": {
      "tags": []
     },
     "output_type": "display_data"
    }
   ],
   "source": [
    "from matplotlib import pyplot\n",
    "pyplot.plot(history.history['loss'], label='train')\n",
    "pyplot.plot(history.history['val_loss'], label='test')\n",
    "pyplot.legend()\n",
    "pyplot.show()"
   ]
  },
  {
   "cell_type": "code",
   "execution_count": 53,
   "metadata": {
    "colab": {},
    "colab_type": "code",
    "id": "LHiMrkvX1aTJ"
   },
   "outputs": [],
   "source": [
    "reverse_target_word_index=y_tokenizer.index_word\n",
    "reverse_source_word_index=x_tokenizer.index_word\n",
    "target_word_index=y_tokenizer.word_index\n",
    "\n",
    "# Encode the input sequence to get the feature vector\n",
    "encoder_model = Model(inputs=encoder_inputs,outputs=[encoder_outputs, state_h, state_c])\n",
    "\n",
    "# Decoder setup\n",
    "# Below tensors will hold the states of the previous time step\n",
    "decoder_state_input_h = Input(shape=(latent_dim,))\n",
    "decoder_state_input_c = Input(shape=(latent_dim,))\n",
    "decoder_hidden_state_input = Input(shape=(max_text_len,latent_dim))\n",
    "\n",
    "# Get the embeddings of the decoder sequence\n",
    "dec_emb2= dec_emb_layer(decoder_inputs) \n",
    "# To predict the next word in the sequence, set the initial states to the states from the previous time step\n",
    "decoder_outputs2, state_h2, state_c2 = decoder_lstm(dec_emb2, initial_state=[decoder_state_input_h, decoder_state_input_c])\n",
    "\n",
    "#attention inference\n",
    "attn_out_inf, attn_states_inf = attn_layer([decoder_hidden_state_input, decoder_outputs2])\n",
    "decoder_inf_concat = Concatenate(axis=-1, name='concat')([decoder_outputs2, attn_out_inf])\n",
    "\n",
    "# A dense softmax layer to generate prob dist. over the target vocabulary\n",
    "decoder_outputs2 = decoder_dense(decoder_inf_concat) \n",
    "\n",
    "# Final decoder model\n",
    "decoder_model = Model(\n",
    "    [decoder_inputs] + [decoder_hidden_state_input,decoder_state_input_h, decoder_state_input_c],\n",
    "    [decoder_outputs2] + [state_h2, state_c2])"
   ]
  },
  {
   "cell_type": "code",
   "execution_count": 54,
   "metadata": {
    "colab": {},
    "colab_type": "code",
    "id": "WeiZDuO61jdL"
   },
   "outputs": [],
   "source": [
    "def decode_sequence(input_seq):\n",
    "    # Encode the input as state vectors.\n",
    "    e_out, e_h, e_c = encoder_model.predict(input_seq)\n",
    "    \n",
    "    # Generate empty target sequence of length 1.\n",
    "    target_seq = np.zeros((1,1))\n",
    "    \n",
    "    # Populate the first word of target sequence with the start word.\n",
    "    target_seq[0, 0] = target_word_index['sostok']\n",
    "\n",
    "    stop_condition = False\n",
    "    decoded_sentence = ''\n",
    "    while not stop_condition:\n",
    "      \n",
    "        output_tokens, h, c = decoder_model.predict([target_seq] + [e_out, e_h, e_c])\n",
    "\n",
    "        # Sample a token\n",
    "        sampled_token_index = np.argmax(output_tokens[0, -1, :])\n",
    "        sampled_token = reverse_target_word_index[sampled_token_index]\n",
    "        \n",
    "        if(sampled_token!='eostok'):\n",
    "            decoded_sentence += ' '+sampled_token\n",
    "\n",
    "        # Exit condition: either hit max length or find stop word.\n",
    "        if (sampled_token == 'eostok'  or len(decoded_sentence.split()) >= (max_summary_len-1)):\n",
    "            stop_condition = True\n",
    "\n",
    "        # Update the target sequence (of length 1).\n",
    "        target_seq = np.zeros((1,1))\n",
    "        target_seq[0, 0] = sampled_token_index\n",
    "\n",
    "        # Update internal states\n",
    "        e_h, e_c = h, c\n",
    "\n",
    "    return decoded_sentence"
   ]
  },
  {
   "cell_type": "code",
   "execution_count": 55,
   "metadata": {
    "colab": {},
    "colab_type": "code",
    "id": "kEYoYGl31kKS"
   },
   "outputs": [],
   "source": [
    "def seq2summary(input_seq):\n",
    "    newString=''\n",
    "    for i in input_seq:\n",
    "        if((i!=0 and i!=target_word_index['sostok']) and i!=target_word_index['eostok']):\n",
    "            newString=newString+reverse_target_word_index[i]+' '\n",
    "    return newString\n",
    "\n",
    "def seq2text(input_seq):\n",
    "    newString=''\n",
    "    for i in input_seq:\n",
    "        if(i!=0):\n",
    "            newString=newString+reverse_source_word_index[i]+' '\n",
    "    return newString"
   ]
  },
  {
   "cell_type": "code",
   "execution_count": 56,
   "metadata": {
    "colab": {
     "base_uri": "https://localhost:8080/",
     "height": 1000
    },
    "colab_type": "code",
    "executionInfo": {
     "elapsed": 3149611,
     "status": "ok",
     "timestamp": 1578495216086,
     "user": {
      "displayName": "Iftekhar Mobin",
      "photoUrl": "https://lh3.googleusercontent.com/a-/AAuE7mCxLNbNExaSWFqAVmN9ZkaD9crPayCz8LhrZ2yh1w=s64",
      "userId": "18286273137344533987"
     },
     "user_tz": -540
    },
    "id": "JVoWzHik1nA-",
    "outputId": "6aab5488-84ab-4a7c-d229-2c0983d94af0"
   },
   "outputs": [
    {
     "name": "stdout",
     "output_type": "stream",
     "text": [
      "Review: you must microsoft azure account set prior configuring connection setting mobicontrol you must also see microsoft azure documentation information following information required mobicontrol azure ldap connection setup metadata document url azure ad api endpoint domain name default set mobicontrol client id application client key application add azure ldap connection mobicontrol on all platform tab server tab under global setting wrench icon beside ldap connection open ldap connection manager dialog box new button azure dropdown list fill field appropriate value manage button configure azure tenant id azure application ok save new ldap connection you enroll window modern using ldap parent topic email \n",
      "Original summary: adding azure ldap connection console system ldap adding azure \n",
      "Predicted summary:  using content console data\n",
      "\n",
      "\n",
      "Review: you must perform action configure vpp bb application use application catalog on all platform tab go server tab under global setting wrench icon beside apple volume purchase program open manage apple volume purchase program dialog box vpp account bb application want configure edit pencil icon beside bb application enter necessary information configure bb application ok finished parent topic email \n",
      "Original summary: configuring application console application applevpp configure \n",
      "Predicted summary:  schedule console reference dialog rule alert alert alert\n",
      "\n",
      "\n",
      "Review: license information dialog box display information type license mobicontrol for information product registration option see tip you create alert notify reach certain number available license all platform tab choose system event trigger either license remaining percentage license remaining license threshold after enable alert mobicontrol notify available license reach point parent topic email \n",
      "Original summary: license information console reference dialog common license information common \n",
      "Predicted summary:  schedule console reference dialog rule alert alert alert\n",
      "\n",
      "\n",
      "Review: ipsec xauth vpn profile configuration enables configure ipsec xauth vpn setting general vpn name descriptive name vpn connection vpn server hostnameip address hostname ip address vpn server ipsec identifier internet protocol security identifier authentication key parent topic email vpn name descriptive name vpn connection vpn server hostnameip address hostname ip address vpn server ipsec identifier internet protocol security identifier key email \n",
      "Original summary: vpn console reference dialog profile androidplus profile androidplus \n",
      "Predicted summary:  profile console reference dialog profile androidplus profile androidplus\n",
      "\n",
      "\n",
      "Review: using saml identity provider idp allows administrator identity information outside individual application certificate used establish trust mobicontrol idp mobicontrol use signed security idp allow user access mobicontrol resource once configured instead authentication mobicontrol log page user idp authenticate already done back mobicontrol console single experience you also use idp mobicontrol endpoint self service portal io profile catalog mobicontrol support idp using saml authentication authorization directly idp configured secondary via ldap authorization required enrollment android io parent topic email \n",
      "Original summary: managing connection console system idp \n",
      "Predicted summary:  setting console reference dialog profile androidplus profile androidplus\n",
      "\n",
      "\n",
      "Review: help available panel create data collection rule wizard tab edit data collection rule dialog box parent topic email \n",
      "Original summary: collection rule linux console reference dialog rule datacollection linux datacollection linux \n",
      "Predicted summary:  summary console reference dialog rule alert alert alert\n",
      "\n",
      "\n",
      "Review: specify complexity requirement user password must meet minimum passwordpin length minimum number character number password pin must contain least one digit password must contain least one digit must contain least one upper case letter password must contain least one uppercase letter must contain least one lower case letter password must contain least one lowercase letter must contain least one punctuation symbol password must contain least one punctuation symbol parent topic email minimum passwordpin length minimum number character number password pin must contain least one digit password must contain least one digit must contain least one upper case letter password must contain least one uppercase letter must contain least one lower case letter password must contain least one lowercase letter must contain least one punctuation symbol password must contain least one punctuation symbol email \n",
      "Original summary: policy console reference dialog profile windowsmobile profile authentication windowsmobile \n",
      "Predicted summary:  setting console reference dialog profile androidplus profile androidplus\n",
      "\n",
      "\n",
      "Review: when create new ldap connection dialog box specify azure connection type this create connection us cloudbased azure active directory azure ad service access mobicontrol parent topic email \n",
      "Original summary: azure connection console reference dialog globalsettings azure \n",
      "Predicted summary:  using content console data\n",
      "\n",
      "\n",
      "Review: temporarily disconnect mobicontrol server want disable disable icon action menu bar more menu button see full action list if applicable warning message bottom dialog box see selected disabled disable receive configuration change update mobicontrol reenabled enable enable action menu bar parent topic email \n",
      "Original summary: disabling console managing removing \n",
      "Predicted summary:  using mobicontrol console managing\n",
      "\n",
      "\n",
      "Review: display summary information alert rule review correctness specify activation date time rule advanced button parent topic email \n",
      "Original summary: summary console reference dialog rule alert printer alert summarycard printer \n",
      "Predicted summary:  summary console reference dialog rule alert alert alert\n",
      "\n",
      "\n",
      "Review: added mobicontrol using add rule an add rule determines enroll mobicontrol when create add rule choose automatic easy reference establish link mobicontrol due many type operating system mobicontrol support mobicontrol divided different platform manages support specific subset operating system type add rule available setting differ across platform refer specific information platform you create multiple add rule accommodate requirement throughout organization however add rule platform specific therefore create single add rule target android io example parent topic related reference email \n",
      "Original summary: adding console managing adding using \n",
      "Predicted summary:  using mobicontrol console managing\n",
      "\n",
      "\n",
      "Review: hub using package recommends using easily receive app update apple app google play store however possible environment due security concern reason deploy hub using package note this procedure applicable android while hub app available io apple security restriction prevent providing file outside apple app store use package push hub app enrolled download hub apk file push profile tip consider hub package profile configures user use hub configured parent topic email \n",
      "Original summary: hub using package console data sotihub hub app package \n",
      "Predicted summary:  using content console data\n",
      "\n",
      "\n",
      "Review: enter ip address range add rule target from bottom end ip address range top end ip address range parent topic related concept email from bottom end ip address range top end ip address range email \n",
      "Original summary: ip filter console reference dialog rule adddevice linux adddevice rulefilter linux \n",
      "Predicted summary:  using content console data\n",
      "\n",
      "\n",
      "Review: enter password used generate export pa certificate password enter password used generate export pa certificate note password must minimum six character parent topic email password enter password used generate export pa certificate note password must minimum six character email \n",
      "Original summary: pa certificate console reference dialog server \n",
      "Predicted summary:  using console reference dialog profile\n",
      "\n",
      "\n",
      "Review: group content library policy target when group left pane enrolled group listed right pane deselect individual check box left name parent topic email \n",
      "Original summary: policy target console reference dialog contentlibrary targetcard \n"
     ]
    },
    {
     "name": "stdout",
     "output_type": "stream",
     "text": [
      "Predicted summary:  using content console data\n",
      "\n",
      "\n",
      "Review: new custom attribute on all platform tab go server tab under global setting wrench icon beside manage custom attribute in manage custom attribute dialog box add enter name new attribute set data type note once custom attribute saved data type see information if want store attribute value mobicontrol agent enable this option required want use custom attribute option lockdown screen do enable sensitive data ok save new custom attribute you assign value custom attribute system custom attribute type specific parent topic email \n",
      "Original summary: creating custom attribute console data customattributes creating \n",
      "Predicted summary:  schedule console reference dialog rule alert alert alert\n",
      "\n",
      "\n",
      "Review: package studio uploaded file general executable file if package studio file executable file automatically executed installing package package studio following file type cab exe xml by default file set autoexecute upon installation parent topic email \n",
      "Original summary: file property packagestudio package file property \n",
      "Predicted summary:  using mobicontrol console reference dialog profile\n",
      "\n",
      "\n",
      "Review: display summary information data collection rule review correctness specify activation date time rule advanced button parent topic email \n",
      "Original summary: summary console reference dialog rule datacollection linux datacollection summarycard linux \n",
      "Predicted summary:  summary console reference dialog rule alert alert alert\n",
      "\n",
      "\n",
      "Review: specify event want track action want mobicontrol execute event occurs event event want track mobicontrol execute specified action event occurs action script executed event occurs define new script script button open manage script dialog box parent topic email \n",
      "Original summary: event configuration console reference dialog profile windowsmobile profile authentication eventconfiguration windowsmobile \n",
      "Predicted summary:  using mobicontrol console system\n",
      "\n",
      "\n",
      "Review: apple push notification service apns allows mobicontrol deployment server request enrolled io check check process allows take advantage advanced management feature io including information applying configuration policy connection mobicontrol apns securely established installing apns certificate parent topic email \n",
      "Original summary: using apple notification service console managing enrolling platform io \n",
      "Predicted summary:  using mobicontrol console data\n",
      "\n",
      "\n",
      "Review: enter unique identifier printer configure enrollment criterion printer enrolled using add rule printer rest enrollment criterion enrolled using add rule when printer blacklist take whitelist parent topic email \n",
      "Original summary: console reference dialog rule adddevice printer adddevice printer \n",
      "Predicted summary:  using mobicontrol console data\n",
      "\n",
      "\n",
      "Review: configure several printer setting print method darkness speed print method either direct transfer print darkness set print darkness level note while range mobicontrol specific printer model range may differ print speed in determines printer speed per second action medium door determines printer behaves medium door feed label advance first web sensor length label advance based upon setting length printer label dot no motion label advance remains position prior opening medium cover action printer power determines printer behaves feed label advance first web sensor length label advance based upon setting length printer label dot no motion label advance remains position prior opening medium cover parent topic email print method either direct transfer print darkness set print darkness level note while range mobicontrol specific printer model range may differ print speed in determines printer speed per second action medium door determines printer behaves medium door feed label advance first web sensor length label advance based upon setting length printer label dot no motion label advance remains position prior opening medium cover action printer power determines printer behaves feed label advance first web sensor length label advance based upon setting length printer label dot no motion label advance remains position prior opening medium cover email \n",
      "Original summary: printer run control console reference dialog profile printer profile printer \n",
      "Predicted summary:  setting console reference dialog profile androidplus profile androidplus\n",
      "\n",
      "\n",
      "Review: mobicontrol stage barcode generator use mobicontrol stage barcode generator create custom barcodes containing various configuration setting mobicontrol stage barcode generator simple use it wizard guide creation configuration barcodes parent topic email \n",
      "Original summary: using mobicontrol stage mcstage start \n",
      "Predicted summary:  using mobicontrol console system\n",
      "\n",
      "\n",
      "Review: edit content library policy on either android plus io platform tab content library tab under content library policy section left policy want edit edit edit content library policy dialog box open in edit content library policy dialog box make desired edits policy when done ok save policy change you see summary information content library policy time policy selecting policy property parent topic email \n",
      "Original summary: editing content library policy console data contentlibrary \n",
      "Predicted summary:  schedule console reference dialog rule alert alert alert\n",
      "\n",
      "\n",
      "Review: by default add rule add running agent created specifically rule filter enable restrict get added rule connect mobicontrol there type add rule filter rule tag filter ip address filter property filter firmware version filter rule tag filter rule tag filter restricts rule adding specific rule tag when mobicontrol agent generated unique identifier rule tag inserted agent when agent connects mobicontrol deployment server present server rule tag when filter used deployment server add match rule tag presented agent add rule mobicontrol database in way add rule used add using agent specifically created rule this default filter automatically added add rule created if filter deleted add rule used configure using agent created third example agent already installed manufacturer agent created add rule ip address filter an ip address filter restricts add rule adding whose ip address within specified range this rule filter useful security limit connection mean different set property filter property filter restricts add rule adding specified property minimum operating system version firmware version filter firmware version filter restricts add rule adding whose firmware version within specified range parent topic email \n",
      "Original summary: using add rule filter console managing adding \n",
      "Predicted summary:  using content console data\n",
      "\n",
      "\n",
      "Review: some feature may compatible mdm version refer table see feature supported mdm version feature name generic plus samsung signed amazon casio drs samsung elm signed honeywell htc huawei kyocera lenovo lg motorola panasonic pidion sony minimum number complex character allowed mdm maximum password age day none mdm number unique password before reuse mdm parent topic email minimum number complex character allowed mdm maximum password age day none mdm number unique password before reuse mdm email \n",
      "Original summary: compatibility authentication console reference dialog profile androidplus authentication androidplus \n",
      "Predicted summary:  setting console reference dialog profile androidplus profile androidplus\n",
      "\n",
      "\n",
      "Review: use custom configuration profile configuration configure printer property directly mobicontrol this profile configuration available printer parent topic email \n",
      "Original summary: custom configuration console configuration profile configuration category \n",
      "Predicted summary:  profile console reference dialog profile androidplus profile androidplus\n",
      "\n",
      "\n",
      "Review: use dialog box create modify entry scheduled agent connection time day day want agent connect deployment server time time want agent initiate connection connection deployment server parent topic email day day want agent connect deployment server time time want agent initiate connection connection deployment server email \n",
      "Original summary: add schedule console reference dialog devicesettings \n",
      "Predicted summary:  using mobicontrol console data\n",
      "\n",
      "\n",
      "Review: configuration added profile push setting use table see configuration available platform printer management configuration description manages power setting printer configures printer accommodate different label template creates printer profile represents identity it administrator determines property define printer behaviour connectivity configuration description configures network setting printer configures wifi setting other configuration description configures additional printer property parent topic email manages power setting printer configures printer accommodate different label template creates printer profile represents identity it administrator determines property define printer behaviour configures network setting printer configures wifi setting configures additional printer property email \n",
      "Original summary: printer profile configuration console configuration profile configuration platform printer \n"
     ]
    },
    {
     "name": "stdout",
     "output_type": "stream",
     "text": [
      "Predicted summary:  profile console reference dialog profile androidplus profile androidplus\n",
      "\n",
      "\n",
      "Review: you edit name custom attribute data type edit value custom attribute see edit custom attribute on all platform tab go server tab under global setting wrench icon beside manage custom attribute in manage custom attribute dialog box doubleclick custom attribute want edit activate field enter new name attribute enable disable store attribute value mobicontrol agent this option required want use custom attribute option lockdown screen do enable sensitive data ok rename new custom attribute parent topic email \n",
      "Original summary: editing custom attribute console data customattributes editing \n",
      "Predicted summary:  using content console data\n",
      "\n",
      "\n",
      "Review: execution status panel profile tab display various state profile installation targeted profile tip hover pie chart section legend see exact count percentage execution status possible execution status administratively removed describes profile content removed mobicontrol administrator install failed describes mobicontrol attempted failed install profile installation disabled describes mobicontrol administrator disabled profile installed installed describes profile content successfully installed partially describes profile configuration installed no assigned describes situation profile assigned target group contain not installed describes profile installed pending install describes installation profile progress removal failed describes profile unsuccessfully removed removal pending describes profile process removed parent topic email administratively removed describes profile content removed mobicontrol administrator install failed describes mobicontrol attempted failed install profile installation disabled describes mobicontrol administrator disabled profile installed installed describes profile content successfully installed partially describes profile configuration installed no assigned describes situation profile assigned target group contain not installed describes profile installed pending install describes installation profile progress removal failed describes profile unsuccessfully removed removal pending describes profile process removed email \n",
      "Original summary: execution status console reference dialog profile io profile execution status io \n",
      "Predicted summary:  setting console reference dialog profile androidplus profile androidplus\n",
      "\n",
      "\n",
      "Review: group data collection rule target when group left pane enrolled group listed right pane deselect individual check box left name parent topic email \n",
      "Original summary: rule target console reference dialog rule datacollection linux datacollection targetcard linux \n",
      "Predicted summary:  summary console reference dialog rule alert alert alert\n",
      "\n",
      "\n",
      "Review: enter name want assign file sync rule name enter name want assign file sync rule parent topic email name enter name want assign file sync rule email \n",
      "Original summary: rule name console reference dialog rule filesync linux filesync namecard linux \n",
      "Predicted summary:  schedule console reference dialog rule alert alert alert\n",
      "\n",
      "\n",
      "Review: user authentication method enrolling user authentication option note this section appears selected manual group selection method directory service authenticate user enrollment use ldap directory service identity provider ldap group user authentication ldap directory service ldap connection list search ldap group using connection if ldap connection yet configured manage directory service open use configure new connection identity provider ldap identity provider connection backed ldap list search ldap group using connection if identity provider connection yet configured manage idp connection open use configure new connection password required verify enrollment specify single password enrollment across enroll using add rule no password required verify enrollment allow enroll without verification certificate authentication authority issue identity using certificate authority used identify parent topic email directory service authenticate user enrollment use ldap directory service identity provider ldap group user authentication ldap directory service ldap connection list search ldap group using connection if ldap connection yet configured manage directory service open use configure new connection identity provider ldap identity provider connection backed ldap list search ldap group using connection if identity provider connection yet configured manage idp connection open use configure new connection password required verify enrollment specify single password enrollment across enroll using add rule no password required verify enrollment allow enroll without verification issue identity using certificate authority used identify email \n",
      "Original summary: authentication console reference dialog rule adddevice androidplus adddevice androidplus \n",
      "Predicted summary:  setting console reference dialog profile androidplus profile androidplus\n",
      "\n",
      "\n",
      "Review: use authentication profile configuration set administrator user password policy when administrator password enabled bypass security feature enabled mobicontrol lockdown application run control user password policy determines complexity standard user must creating password parent topic email \n",
      "Original summary: authentication console configuration profile configuration category security authentication \n",
      "Predicted summary:  profile console reference dialog profile androidplus profile androidplus\n",
      "\n",
      "\n",
      "Review: apps setup wizard field enter following information apps setup wizard installing surf port port erg run connect erg using port using dedicated port recommended mobicontrol instance name mobicontrol deployment server mobicontrol instance must match common associated mobicontrol console certificate you get name mobicontrol instance certificate section certificate binding if mobicontrol root certificate ip address rather fqdn use ip address fqdn ip address must accessible server surf erg installed client id client id surf api refer instruction find client id client secret client secret surf api refer instruction find client secret username username administrator account mobicontrol instance you also use specific use surf password password associated administrator account mobicontrol instance you also use specific use surf parent topic email port port erg run connect erg using port using dedicated port recommended mobicontrol instance name mobicontrol deployment server mobicontrol instance must match common associated mobicontrol console certificate you get name mobicontrol instance certificate section certificate binding if mobicontrol root certificate ip address rather fqdn use ip address fqdn ip address must accessible server surf erg installed client id client id surf api refer instruction find client id client secret client secret surf api refer instruction find client secret username username administrator account mobicontrol instance you also use specific use surf password password associated administrator account mobicontrol instance you also use specific use surf email \n",
      "Original summary: apps setup wizard console data sotisurf surf apps extension \n",
      "Predicted summary:  schedule console reference dialog rule alert alert alert\n",
      "\n",
      "\n",
      "Review: file encryption profile configuration enables use file encryption secure data stored storage card data readable encrypted note this configuration successfully install unless authentication configuration also present targeted encrypt this section list file folder encrypted excluded encryption add open file encryption dialog box specify file folder path want encrypted excluded encryption tip mobicontrol support use entering name edit open file encryption dialog box modify file folder path want encrypted excluded encryption delete deletes selected file folder path list parent topic email add open file encryption dialog box specify file folder path want encrypted excluded encryption tip mobicontrol support use entering name edit open file encryption dialog box modify file folder path want encrypted excluded encryption delete deletes selected file folder path list email \n",
      "Original summary: file console reference dialog profile windowsmobile profile windowsmobile \n"
     ]
    },
    {
     "name": "stdout",
     "output_type": "stream",
     "text": [
      "Predicted summary:  setting console reference dialog profile androidplus profile androidplus\n",
      "\n",
      "\n",
      "Review: status value want trigger alert you specify customized message severity level status event available memory trigger alert based numeric value entered available memory byte available storage trigger alert based numeric value entered available storage byte battery status trigger alert based numeric value entered battery status cellular carrier trigger alert based string value entered cellular carrier ip address trigger alert based string value entered ip address operating system version trigger alert based numeric value entered current system version wifi access point mac address trigger alert based string value entered wifi mac address parent topic email available memory trigger alert based numeric value entered available memory byte available storage trigger alert based numeric value entered available storage byte battery status trigger alert based numeric value entered battery status cellular carrier trigger alert based string value entered cellular carrier ip address trigger alert based string value entered ip address operating system version trigger alert based numeric value entered current system version wifi access point mac address trigger alert based string value entered wifi mac address email \n",
      "Original summary: status event console reference dialog rule alert io alert io \n",
      "Predicted summary:  using mobicontrol console managing\n",
      "\n",
      "\n",
      "Review: system event want trigger alert you specify customized message severity level system event parent topic email \n",
      "Original summary: system event console reference dialog rule alert \n",
      "Predicted summary:  using mobicontrol console system\n",
      "\n",
      "\n",
      "Review: general use tab enter name description profile name enter unique name profile description enter description profile configuration use tab add remove configuration add open menu configuration want add profile action open menu option edit selected configuration delete selected configuration delete configuration package use tab add remove package add open add package dialog box package want add profile action open menu option delete selected package delete package define package dependency parent topic email name enter unique name profile description enter description profile add open menu configuration want add profile action open menu option edit selected configuration delete selected configuration delete configuration add open add package dialog box package want add profile action open menu option delete selected package delete package define package dependency email \n",
      "Original summary: addedit profile console reference dialog profile windowsdesktop profile addedit windowsdesktop \n",
      "Predicted summary:  profile console reference dialog profile androidplus profile androidplus\n",
      "\n",
      "\n",
      "Review: remove user account user group mobicontrol console on all platform tab security tab manage user option left pane console user group group list beside user group delete entry parent topic email \n",
      "Original summary: deleting user group console user deleting \n",
      "Predicted summary:  using mobicontrol console system\n",
      "\n",
      "\n",
      "Review: use per app vpn profile configuration configure vpn setting specific individual application you set vpn connection following provider via cisco anyconnect custom ssl juniper ssl netmotion pulse secure mobile connect note available vpn provider option differ platform parent topic email \n",
      "Original summary: app vpn console configuration profile configuration category connectivity \n",
      "Predicted summary:  profile console reference dialog profile androidplus profile androidplus\n",
      "\n",
      "\n",
      "Review: you must generate application enrollment token enable enterprise app window mobicontrol deploy you must use certificate sign application generate see window center information enable enterprise app window mobicontrol on all platform tab server tab under global setting wrench icon beside window enterprise apps configuration open window enterprise apps configuration dialog box enable enterprise apps window follow instruction dialog box properly configure enterprise application ok save setting close dialog box you parent topic email \n",
      "Original summary: enterprise apps window console application appcatalogrules wmodern enterprise apps \n",
      "Predicted summary:  using file console data enrolling\n",
      "\n",
      "\n",
      "Review: note deleting custom data item affect group rule use item if simply want remove custom data monitoring field group see delete custom data item mobicontrol name open information panel switch configuration tab scroll advanced configuration table beside custom data more edit open custom data manager dialog box custom data item move available item list displayed item list delete yes deletion confirmation dialog box ok apply custom data parent topic email \n",
      "Original summary: deleting custom data console monitoring deleting \n",
      "Predicted summary:  using content console data\n",
      "\n",
      "\n",
      "Review: apps server extension these instruction surf if want install apps server extension hub see hub ensure system compatible apps server extension installs surf proxy server component server machine enabling provide encrypted connection server surf app apps server extension required use surf highly recommended provides security functionality note installing apps server extension machine mobicontrol recommended install apps server extension download apps server extension installer onto window server machine rightclick installation file setupexe run administrator open apps server extension installation wizard next read accept enduser license agreement next surf radio button list installation component next fill field appropriate information next see description field review summary make sure detail correct install complete installation once installation wizard installation successful finish you proceed using profile configuration note surf browser must restarted restart window server apps server extension installed parent topic email \n",
      "Original summary: installing apps server extension console data sotisurf surf apps extension \n",
      "Predicted summary:  schedule console reference dialog rule alert alert alert\n",
      "\n",
      "\n",
      "Review: help available profile dialog box parent topic email \n",
      "Original summary: io profile console reference dialog profile io profile io \n",
      "Predicted summary:  profile console reference dialog profile androidplus profile androidplus\n",
      "\n",
      "\n",
      "Review: apps setup wizard review requirement ensure installation apps server extension you must administrator right machine note installing apps server extension machine mobicontrol recommended server compatibility apps server extension compatible bit version following server window server window server window server window server server must accessible ip net mobicontrol root certificate installed client id client secret an api client id client secret required install server component see instruction find two value parent topic email \n",
      "Original summary: system apps setup wizard console data sotisurf surf apps extension compatibility \n",
      "Predicted summary:  schedule console reference dialog rule alert alert alert\n",
      "\n",
      "\n",
      "Review: help available profile dialog box parent topic email \n",
      "Original summary: window mobilece profile console reference dialog profile windowsmobile profile windowsmobile \n",
      "Predicted summary:  profile console reference dialog profile androidplus profile androidplus\n",
      "\n",
      "\n",
      "Review: use window mobilece platform enroll manage running one following operating system ce net later window mobile later pocket pc once created must install enroll mobicontrol agent window mobilece platform custom built add rule parent topic email \n",
      "Original summary: adding window mobilece console managing enrolling platform \n",
      "Predicted summary:  using mobicontrol console system\n",
      "\n",
      "\n",
      "Review: group relocation rule target group presented hierarchical tree view expand group see subgroup when group subgroup also selected parent topic email \n",
      "Original summary: rule target console reference dialog rule devicerelocation linux devicerelocation targetcard linux \n",
      "Predicted summary:  summary console reference dialog rule alert alert alert\n",
      "\n",
      "\n",
      "Review: group application catalog rule target when group left pane enrolled group listed right pane deselect individual check box left name parent topic email \n",
      "Original summary: rule target console reference dialog rule appcatalog window appcatalog targetcard window \n"
     ]
    },
    {
     "name": "stdout",
     "output_type": "stream",
     "text": [
      "Predicted summary:  summary console reference dialog rule alert alert alert\n",
      "\n",
      "\n",
      "Review: mobicontrol review plan upgrade process note a it change recommends test product upgrade environment if already practice place upgrade upgrade installation mobicontrol back mobicontrol database while mobicontrol setup wizard automatically back database good practice also back if running microsoft sql server back database using tool provided microsoft sql server enterprise manager you also use thirdparty back utility shut current mobicontrol deployment server close mobicontrol console download mobicontrol installer move installer computer want upgrade mobicontrol see information installer need download upgrade run mobicontrol installer administrator launch mobicontrol setup wizard follow instruction setup wizard warning when selecting feature upgrade deselect feature installed previously setup wizard remove feature upgrade once completed wizard automatically upgrade version mobicontrol your warning sign mobicontrol console it agent upgrade must enabled automatic upgrade agent proceed parent topic email \n",
      "Original summary: upgrading mobicontrol setup upgrading \n",
      "Predicted summary:  using mobicontrol console reference dialog\n",
      "\n",
      "\n",
      "Review: turn package project package package project want build package it highlighted open project menu build package output window display progress package building you upload package mobicontrol see information parent topic email \n",
      "Original summary: package packagestudio package \n",
      "Predicted summary:  profile console reference dialog profile androidplus profile androidplus\n",
      "\n",
      "\n",
      "Review: bookmark profile configuration enables configure bookmark user web page single touch name enter name want give bookmark icon image open dialog box icon file bookmark note icon file filename extension pixel size url enter full url bookmark once configuration applied bookmark icon appear web browser note this configuration supported samsung parent topic email name enter name want give bookmark icon image open dialog box icon file bookmark note icon file filename extension pixel size url enter full url bookmark email \n",
      "Original summary: bookmark android plus console reference dialog profile androidplus profile bookmark androidplus \n",
      "Predicted summary:  setting console reference dialog profile androidplus profile androidplus\n",
      "\n",
      "\n",
      "Review: display summary information application catalog rule review correctness specify activation date time rule advanced button parent topic email \n",
      "Original summary: summary console reference dialog rule appcatalog androidplus appcatalog summarycard androidplus \n",
      "Predicted summary:  summary console reference dialog rule alert alert alert\n",
      "\n",
      "\n",
      "Review: specify advanced option add rule activationdeactivation schedule activate date date time rule activated specify deactivation time option want date time rule deactivated deactivation date date time rule deactivated rule filter use one add rule filter specify targeted rule only satisfy listed rule filter added mobicontrol deployment server see information new open menu type rule filter want add list edit enables edit selected rule filter delete deletes selected rule filter other option enable rule enables add rule preserve location reenrollment preserve membership group reenrolled force sha client certificate distribution force distribution sha client certificate parent topic related concept email activate date date time rule activated specify deactivation time option want date time rule deactivated deactivation date date time rule deactivated new open menu type rule filter want add list edit enables edit selected rule filter delete deletes selected rule filter enable rule enables add rule preserve location reenrollment preserve membership group reenrolled force sha client certificate distribution force distribution sha client certificate email \n",
      "Original summary: advanced console reference dialog rule adddevice linux adddevice advancedcard linux \n",
      "Predicted summary:  schedule console reference dialog rule alert alert androidplus\n",
      "\n",
      "\n",
      "Review: remove term condition agreement mobicontrol on all platform tab server tab under global setting wrench icon beside term condition manager term condition set want delete delete ok close dialog box parent topic email \n",
      "Original summary: deleting term condition console system delete \n",
      "Predicted summary:  using content console data\n",
      "\n",
      "\n",
      "Review: package information panel allows add basic information package project file project name enter name project want create project location folder want save project saved cusers username documentsmobicontrol package default processor specify processor in case need modify default all setting platform platform in case all setting rather specific platform o version enter range version package deployed in case need modify default setting version string enter version number package for example update version number whenever modify package upload modified package mobicontrol console comment optional enter brief description package vendor optional enter name vendor parent topic email project name enter name project want create project location folder want save project saved cusers username documentsmobicontrol package default processor specify processor in case need modify default all setting platform platform in case all setting rather specific platform o version enter range version package deployed in case need modify default setting version string enter version number package for example update version number whenever modify package upload modified package mobicontrol console comment optional enter brief description package vendor optional enter name vendor email \n",
      "Original summary: package information packagestudio reference dialog new package project package \n",
      "Predicted summary:  setting console reference dialog profile androidplus profile androidplus\n",
      "\n",
      "\n",
      "Review: group data collection rule target when group left pane enrolled group listed right pane deselect individual check box left name parent topic email \n",
      "Original summary: rule target console reference dialog rule datacollection io datacollection targetcard io \n",
      "Predicted summary:  summary console reference dialog rule alert alert alert\n",
      "\n",
      "\n",
      "Review: specify relocation mapping used mobicontrol move one group another mapping evaluated order appear mapping list note these mapping evaluated connects deployment server if already online ip address change must disconnect reconnect relocation take place add open addedit relocation mapping dialog box create new relocation mapping edit open addedit relocation mapping dialog box edit selected relocation mapping delete deletes selected mapping list move up move selected mapping one position list move down move selected mapping one position list parent topic email add open addedit relocation mapping dialog box create new relocation mapping edit open addedit relocation mapping dialog box edit selected relocation mapping delete deletes selected mapping list move up move selected mapping one position list move down move selected mapping one position list email \n",
      "Original summary: mapping console reference dialog rule devicerelocation windowsdesktop devicerelocation windowsdesktop \n",
      "Predicted summary:  schedule console reference dialog rule alert alert alert\n",
      "\n",
      "\n",
      "Review: web filter configuration enables specify url want block allow if url blocked user able access url add url filter list enter url specify whether block allow url edit enables edit selected entry filter list delete deletes selected entry filter list parent topic email add url filter list enter url specify whether block allow url edit enables edit selected entry filter list delete deletes selected entry filter list email \n",
      "Original summary: web filter console reference dialog profile androidplus profile androidplus \n",
      "Predicted summary:  setting console reference dialog profile androidplus profile androidplus\n",
      "\n",
      "\n",
      "Review: specify date time want relocation rule activated optionally deactivated you also choose enable disable rule activationdeactivation schedule activate date date time rule activated specify deactivation time option want date time rule deactivated deactivation date date time rule deactivated parent topic email activate date date time rule activated specify deactivation time option want date time rule deactivated deactivation date date time rule deactivated email \n",
      "Original summary: advanced console reference dialog rule devicerelocation windowsmobile devicerelocation advancedcard windowsmobile \n"
     ]
    },
    {
     "name": "stdout",
     "output_type": "stream",
     "text": [
      "Predicted summary:  advanced console reference dialog rule datacollection io linux\n",
      "\n",
      "\n",
      "Review: enter name want assign relocation rule name enter name want assign relocation rule parent topic email name enter name want assign relocation rule email \n",
      "Original summary: rule name console reference dialog rule devicerelocation androidplus devicerelocation namecard androidplus \n",
      "Predicted summary:  summary console reference dialog rule alert alert alert\n",
      "\n",
      "\n",
      "Review: display summary information add rule review correctness specify advanced option rule advanced button parent topic email \n",
      "Original summary: summary console reference dialog rule adddevice windowsdesktop adddevice summarycard windowsdesktop \n",
      "Predicted summary:  summary console reference dialog rule alert alert alert\n",
      "\n",
      "\n",
      "Review: group data collection rule target when group left pane enrolled group listed right pane deselect individual check box left name parent topic email \n",
      "Original summary: rule target console reference dialog rule datacollection windowsdesktop datacollection targetcard windowsdesktop \n",
      "Predicted summary:  summary console reference dialog rule alert alert alert\n",
      "\n",
      "\n",
      "Review: use tab specify profile assignment option in first section profile installation method network type want enable profile assignment minimum battery level assignment package option in section option package storage package reinstallation occur package uninstalled scheduled action in section specify time date profile assigned included package installed profile disabled profile revoked parent topic email \n",
      "Original summary: option console reference dialog profile windowsdesktop profile action assign option windowsdesktop \n",
      "Predicted summary:  using mobicontrol console system\n",
      "\n",
      "\n",
      "Review: user account mobicontrol console managed security tab on tab create new user group set permission group track user activity you also use ldap idp credential mobicontrol console authentication addition local mobicontrol account access control policy after set user group mobicontrol mobicontrol console console security term user access console access control policy include setting limit failed login attempt password complexity requirement allowing user change reset password parent topic email \n",
      "Original summary: managing user console user \n",
      "Predicted summary:  using mobicontrol console system\n",
      "\n",
      "\n",
      "Review: stop custom data monitoring name open information panel switch configuration tab scroll advanced configuration table beside custom data more edit open custom data manager dialog box custom data item move displayed item list available item list ok save change stop custom data monitoring group in group tree beside group name more group detail open group information panel switch configuration tab find custom data setting relevant family advanced configuration table beside custom data more edit open custom data manager dialog box custom data item move displayed item list available item list ok save change information custom data item longer appear information panel parent topic email \n",
      "Original summary: removing custom data console monitoring removing \n",
      "Predicted summary:  using content console data\n",
      "\n",
      "\n",
      "Review: use email profile configuration configure email account setting you configure email account using one different protocol exchange active sync imap pop current user parent topic email \n",
      "Original summary: email console configuration profile configuration category email \n",
      "Predicted summary:  profile console reference dialog profile androidplus profile androidplus\n",
      "\n",
      "\n",
      "Review: use self service dialog box customize self service portal branding behaviour user mobicontrol global setting delete enduser unenrollment option delete mobicontrol unenrolled user revoke issued certificate enduser unenrollment option revoke issued certificate unenrolled user branding use section custom logo displayed self service portal header image update graphic note recommended maximum image size pixel parent topic related concept email delete enduser unenrollment option delete mobicontrol unenrolled user revoke issued certificate enduser unenrollment option revoke issued certificate unenrolled user email \n",
      "Original summary: service console reference dialog globalsettings \n",
      "Predicted summary:  setting console reference dialog profile androidplus profile androidplus\n",
      "\n",
      "\n",
      "Review: help available panel create alert rule wizard tab edit alert rule dialog box parent topic email \n",
      "Original summary: rule window modern console reference dialog rule alert windowsmodern alert windowsmodern \n",
      "Predicted summary:  using content console data\n",
      "\n",
      "\n",
      "Review: this step setting enterprise resource gateway you must perform procedure successfully note if installing microsoft internet information service ii module exchange server using separate proxy server install ii module site available default web site ii manager connection panel configure ii module perform step machine erg installed copy cprogram file copy cprogram file open microsoft internet information service ii manager in connection panel website proxy server component display setting central pane module central pane rightclick module pane add managed module open edit managed module dialog box in edit managed module dialog box enter module name name field enter type field verify following section added configuration module add module configuration if section automatically added need manually edit add increase timeout interval web site add following configuration setting file systemweb systemweb enable support special character url add attribute add attribute page systemweb page systemweb you successfully configured erg you begin using hub webdav server parent topic email \n",
      "Original summary: setting up console data sotihub erg setup \n",
      "Predicted summary:  using content console data\n",
      "\n",
      "\n",
      "Review: display summary information add rule review correctness specify advanced option rule advanced button parent topic email \n",
      "Original summary: summary console reference dialog rule adddevice windowsmobile adddevice summarycard windowsmobile \n",
      "Predicted summary:  summary console reference dialog rule alert alert alert\n",
      "\n",
      "\n",
      "Review: window notification service wns provides way mobicontrol administrator push important configuration change update window modern immediately without next scheduled checkin occur currently use wns push update window phone window parent topic email \n",
      "Original summary: window notification service console managing enrolling platform wmodern \n",
      "Predicted summary:  using mobicontrol console reference dialog\n",
      "\n",
      "\n",
      "Review: help available profile configuration dialog box parent topic related reference email \n",
      "Original summary: profile configuration console reference dialog profile windowsdesktop profile configuration windowsdesktop \n",
      "Predicted summary:  profile console reference dialog profile androidplus profile androidplus\n",
      "\n",
      "\n",
      "Review: use dialog box method installing selected agent selfextracting executable this simplest installation method recommended scenario single executable exe file exported install agent simply file execute selfextracting executable contains agent installation cab file well supporting file may required targeted platform note this installation method supported window mobile window mobile standard selfextracting executable this installation method remote location execute application desktop computer install agent onto this open application install agent via activesync agent url address this option post agent exe file special directory accessed via url send url user download install agent parent topic email selfextracting executable this simplest installation method recommended scenario single executable exe file exported install agent simply file execute selfextracting executable contains agent installation cab file well supporting file may required targeted platform note this installation method supported window mobile window mobile standard selfextracting executable this installation method remote location execute application desktop computer install agent onto this open application install agent via activesync agent url address this option post agent exe file special directory accessed via url send url user download install agent email \n",
      "Original summary: agent installation console reference dialog agent \n"
     ]
    },
    {
     "name": "stdout",
     "output_type": "stream",
     "text": [
      "Predicted summary:  setting console reference dialog profile androidplus profile androidplus\n",
      "\n",
      "\n",
      "Review: you must set enabled use feature see movement open information panel move location tab location tab visible location service available history icon location menu bar movement data collection rule appear map parent topic email \n",
      "Original summary: viewing location console monitoring locationservices viewing location \n",
      "Predicted summary:  using mobicontrol console managing\n",
      "\n",
      "\n",
      "Review: use window information protection profile configuration manage access corporate data set restriction application access work data network easily integrated existing data protection policy force use specific application protect data instead general application encrypt data application personal work data parent topic related reference email \n",
      "Original summary: window information console configuration profile configuration category restriction \n",
      "Predicted summary:  profile console reference dialog profile androidplus profile androidplus\n",
      "\n",
      "\n",
      "Review: disable report schedule on report tab in left pane report type whose schedule want disable report detail appear right pane in right pane schedule section report schedule want disable rightclick schedule disable report scheduling selected report schedule disabled if schedule created report type schedule reenable disabled report schedule rightclick schedule enable report scheduling parent topic email \n",
      "Original summary: disabling report schedule console report disabling \n",
      "Predicted summary:  using content console data\n",
      "\n",
      "\n",
      "Review: specify name start date billing total voice data usage limit telecom plan note if total voice total data left usage parent topic email \n",
      "Original summary: telecom policy console reference dialog rule telecomem io telecomem io \n"
     ]
    },
    {
     "ename": "KeyboardInterrupt",
     "evalue": "",
     "output_type": "error",
     "traceback": [
      "\u001b[0;31m---------------------------------------------------------------------------\u001b[0m",
      "\u001b[0;31mKeyboardInterrupt\u001b[0m                         Traceback (most recent call last)",
      "\u001b[0;32m<ipython-input-56-2b144fdc53a8>\u001b[0m in \u001b[0;36m<module>\u001b[0;34m\u001b[0m\n\u001b[1;32m      2\u001b[0m     \u001b[0mprint\u001b[0m\u001b[0;34m(\u001b[0m\u001b[0;34m\"Review:\"\u001b[0m\u001b[0;34m,\u001b[0m\u001b[0mseq2text\u001b[0m\u001b[0;34m(\u001b[0m\u001b[0mx_tr\u001b[0m\u001b[0;34m[\u001b[0m\u001b[0mi\u001b[0m\u001b[0;34m]\u001b[0m\u001b[0;34m)\u001b[0m\u001b[0;34m)\u001b[0m\u001b[0;34m\u001b[0m\u001b[0;34m\u001b[0m\u001b[0m\n\u001b[1;32m      3\u001b[0m     \u001b[0mprint\u001b[0m\u001b[0;34m(\u001b[0m\u001b[0;34m\"Original summary:\"\u001b[0m\u001b[0;34m,\u001b[0m\u001b[0mseq2summary\u001b[0m\u001b[0;34m(\u001b[0m\u001b[0my_tr\u001b[0m\u001b[0;34m[\u001b[0m\u001b[0mi\u001b[0m\u001b[0;34m]\u001b[0m\u001b[0;34m)\u001b[0m\u001b[0;34m)\u001b[0m\u001b[0;34m\u001b[0m\u001b[0;34m\u001b[0m\u001b[0m\n\u001b[0;32m----> 4\u001b[0;31m     \u001b[0mprint\u001b[0m\u001b[0;34m(\u001b[0m\u001b[0;34m\"Predicted summary:\"\u001b[0m\u001b[0;34m,\u001b[0m\u001b[0mdecode_sequence\u001b[0m\u001b[0;34m(\u001b[0m\u001b[0mx_tr\u001b[0m\u001b[0;34m[\u001b[0m\u001b[0mi\u001b[0m\u001b[0;34m]\u001b[0m\u001b[0;34m.\u001b[0m\u001b[0mreshape\u001b[0m\u001b[0;34m(\u001b[0m\u001b[0;36m1\u001b[0m\u001b[0;34m,\u001b[0m\u001b[0mmax_text_len\u001b[0m\u001b[0;34m)\u001b[0m\u001b[0;34m)\u001b[0m\u001b[0;34m)\u001b[0m\u001b[0;34m\u001b[0m\u001b[0;34m\u001b[0m\u001b[0m\n\u001b[0m\u001b[1;32m      5\u001b[0m     \u001b[0mprint\u001b[0m\u001b[0;34m(\u001b[0m\u001b[0;34m\"\\n\"\u001b[0m\u001b[0;34m)\u001b[0m\u001b[0;34m\u001b[0m\u001b[0;34m\u001b[0m\u001b[0m\n\u001b[1;32m      6\u001b[0m \u001b[0;34m\u001b[0m\u001b[0m\n",
      "\u001b[0;32m<ipython-input-54-219f1da445c8>\u001b[0m in \u001b[0;36mdecode_sequence\u001b[0;34m(input_seq)\u001b[0m\n\u001b[1;32m      1\u001b[0m \u001b[0;32mdef\u001b[0m \u001b[0mdecode_sequence\u001b[0m\u001b[0;34m(\u001b[0m\u001b[0minput_seq\u001b[0m\u001b[0;34m)\u001b[0m\u001b[0;34m:\u001b[0m\u001b[0;34m\u001b[0m\u001b[0;34m\u001b[0m\u001b[0m\n\u001b[1;32m      2\u001b[0m     \u001b[0;31m# Encode the input as state vectors.\u001b[0m\u001b[0;34m\u001b[0m\u001b[0;34m\u001b[0m\u001b[0;34m\u001b[0m\u001b[0m\n\u001b[0;32m----> 3\u001b[0;31m     \u001b[0me_out\u001b[0m\u001b[0;34m,\u001b[0m \u001b[0me_h\u001b[0m\u001b[0;34m,\u001b[0m \u001b[0me_c\u001b[0m \u001b[0;34m=\u001b[0m \u001b[0mencoder_model\u001b[0m\u001b[0;34m.\u001b[0m\u001b[0mpredict\u001b[0m\u001b[0;34m(\u001b[0m\u001b[0minput_seq\u001b[0m\u001b[0;34m)\u001b[0m\u001b[0;34m\u001b[0m\u001b[0;34m\u001b[0m\u001b[0m\n\u001b[0m\u001b[1;32m      4\u001b[0m \u001b[0;34m\u001b[0m\u001b[0m\n\u001b[1;32m      5\u001b[0m     \u001b[0;31m# Generate empty target sequence of length 1.\u001b[0m\u001b[0;34m\u001b[0m\u001b[0;34m\u001b[0m\u001b[0;34m\u001b[0m\u001b[0m\n",
      "\u001b[0;32m~/amiebot_project/lib/python3.6/site-packages/tensorflow_core/python/keras/engine/training.py\u001b[0m in \u001b[0;36mpredict\u001b[0;34m(self, x, batch_size, verbose, steps, callbacks, max_queue_size, workers, use_multiprocessing)\u001b[0m\n\u001b[1;32m    906\u001b[0m         \u001b[0mmax_queue_size\u001b[0m\u001b[0;34m=\u001b[0m\u001b[0mmax_queue_size\u001b[0m\u001b[0;34m,\u001b[0m\u001b[0;34m\u001b[0m\u001b[0;34m\u001b[0m\u001b[0m\n\u001b[1;32m    907\u001b[0m         \u001b[0mworkers\u001b[0m\u001b[0;34m=\u001b[0m\u001b[0mworkers\u001b[0m\u001b[0;34m,\u001b[0m\u001b[0;34m\u001b[0m\u001b[0;34m\u001b[0m\u001b[0m\n\u001b[0;32m--> 908\u001b[0;31m         use_multiprocessing=use_multiprocessing)\n\u001b[0m\u001b[1;32m    909\u001b[0m \u001b[0;34m\u001b[0m\u001b[0m\n\u001b[1;32m    910\u001b[0m   \u001b[0;32mdef\u001b[0m \u001b[0mreset_metrics\u001b[0m\u001b[0;34m(\u001b[0m\u001b[0mself\u001b[0m\u001b[0;34m)\u001b[0m\u001b[0;34m:\u001b[0m\u001b[0;34m\u001b[0m\u001b[0;34m\u001b[0m\u001b[0m\n",
      "\u001b[0;32m~/amiebot_project/lib/python3.6/site-packages/tensorflow_core/python/keras/engine/training_arrays.py\u001b[0m in \u001b[0;36mpredict\u001b[0;34m(self, model, x, batch_size, verbose, steps, callbacks, **kwargs)\u001b[0m\n\u001b[1;32m    721\u001b[0m         \u001b[0mverbose\u001b[0m\u001b[0;34m=\u001b[0m\u001b[0mverbose\u001b[0m\u001b[0;34m,\u001b[0m\u001b[0;34m\u001b[0m\u001b[0;34m\u001b[0m\u001b[0m\n\u001b[1;32m    722\u001b[0m         \u001b[0msteps\u001b[0m\u001b[0;34m=\u001b[0m\u001b[0msteps\u001b[0m\u001b[0;34m,\u001b[0m\u001b[0;34m\u001b[0m\u001b[0;34m\u001b[0m\u001b[0m\n\u001b[0;32m--> 723\u001b[0;31m         callbacks=callbacks)\n\u001b[0m",
      "\u001b[0;32m~/amiebot_project/lib/python3.6/site-packages/tensorflow_core/python/keras/engine/training_arrays.py\u001b[0m in \u001b[0;36mmodel_iteration\u001b[0;34m(model, inputs, targets, sample_weights, batch_size, epochs, verbose, callbacks, val_inputs, val_targets, val_sample_weights, shuffle, initial_epoch, steps_per_epoch, validation_steps, validation_freq, mode, validation_in_fit, prepared_feed_values_from_dataset, steps_name, **kwargs)\u001b[0m\n\u001b[1;32m    392\u001b[0m \u001b[0;34m\u001b[0m\u001b[0m\n\u001b[1;32m    393\u001b[0m         \u001b[0;31m# Get outputs.\u001b[0m\u001b[0;34m\u001b[0m\u001b[0;34m\u001b[0m\u001b[0;34m\u001b[0m\u001b[0m\n\u001b[0;32m--> 394\u001b[0;31m         \u001b[0mbatch_outs\u001b[0m \u001b[0;34m=\u001b[0m \u001b[0mf\u001b[0m\u001b[0;34m(\u001b[0m\u001b[0mins_batch\u001b[0m\u001b[0;34m)\u001b[0m\u001b[0;34m\u001b[0m\u001b[0;34m\u001b[0m\u001b[0m\n\u001b[0m\u001b[1;32m    395\u001b[0m         \u001b[0;32mif\u001b[0m \u001b[0;32mnot\u001b[0m \u001b[0misinstance\u001b[0m\u001b[0;34m(\u001b[0m\u001b[0mbatch_outs\u001b[0m\u001b[0;34m,\u001b[0m \u001b[0mlist\u001b[0m\u001b[0;34m)\u001b[0m\u001b[0;34m:\u001b[0m\u001b[0;34m\u001b[0m\u001b[0;34m\u001b[0m\u001b[0m\n\u001b[1;32m    396\u001b[0m           \u001b[0mbatch_outs\u001b[0m \u001b[0;34m=\u001b[0m \u001b[0;34m[\u001b[0m\u001b[0mbatch_outs\u001b[0m\u001b[0;34m]\u001b[0m\u001b[0;34m\u001b[0m\u001b[0;34m\u001b[0m\u001b[0m\n",
      "\u001b[0;32m~/amiebot_project/lib/python3.6/site-packages/tensorflow_core/python/keras/backend.py\u001b[0m in \u001b[0;36m__call__\u001b[0;34m(self, inputs)\u001b[0m\n\u001b[1;32m   3474\u001b[0m \u001b[0;34m\u001b[0m\u001b[0m\n\u001b[1;32m   3475\u001b[0m     fetched = self._callable_fn(*array_vals,\n\u001b[0;32m-> 3476\u001b[0;31m                                 run_metadata=self.run_metadata)\n\u001b[0m\u001b[1;32m   3477\u001b[0m     \u001b[0mself\u001b[0m\u001b[0;34m.\u001b[0m\u001b[0m_call_fetch_callbacks\u001b[0m\u001b[0;34m(\u001b[0m\u001b[0mfetched\u001b[0m\u001b[0;34m[\u001b[0m\u001b[0;34m-\u001b[0m\u001b[0mlen\u001b[0m\u001b[0;34m(\u001b[0m\u001b[0mself\u001b[0m\u001b[0;34m.\u001b[0m\u001b[0m_fetches\u001b[0m\u001b[0;34m)\u001b[0m\u001b[0;34m:\u001b[0m\u001b[0;34m]\u001b[0m\u001b[0;34m)\u001b[0m\u001b[0;34m\u001b[0m\u001b[0;34m\u001b[0m\u001b[0m\n\u001b[1;32m   3478\u001b[0m     output_structure = nest.pack_sequence_as(\n",
      "\u001b[0;32m~/amiebot_project/lib/python3.6/site-packages/tensorflow_core/python/client/session.py\u001b[0m in \u001b[0;36m__call__\u001b[0;34m(self, *args, **kwargs)\u001b[0m\n\u001b[1;32m   1470\u001b[0m         ret = tf_session.TF_SessionRunCallable(self._session._session,\n\u001b[1;32m   1471\u001b[0m                                                \u001b[0mself\u001b[0m\u001b[0;34m.\u001b[0m\u001b[0m_handle\u001b[0m\u001b[0;34m,\u001b[0m \u001b[0margs\u001b[0m\u001b[0;34m,\u001b[0m\u001b[0;34m\u001b[0m\u001b[0;34m\u001b[0m\u001b[0m\n\u001b[0;32m-> 1472\u001b[0;31m                                                run_metadata_ptr)\n\u001b[0m\u001b[1;32m   1473\u001b[0m         \u001b[0;32mif\u001b[0m \u001b[0mrun_metadata\u001b[0m\u001b[0;34m:\u001b[0m\u001b[0;34m\u001b[0m\u001b[0;34m\u001b[0m\u001b[0m\n\u001b[1;32m   1474\u001b[0m           \u001b[0mproto_data\u001b[0m \u001b[0;34m=\u001b[0m \u001b[0mtf_session\u001b[0m\u001b[0;34m.\u001b[0m\u001b[0mTF_GetBuffer\u001b[0m\u001b[0;34m(\u001b[0m\u001b[0mrun_metadata_ptr\u001b[0m\u001b[0;34m)\u001b[0m\u001b[0;34m\u001b[0m\u001b[0;34m\u001b[0m\u001b[0m\n",
      "\u001b[0;31mKeyboardInterrupt\u001b[0m: "
     ]
    }
   ],
   "source": [
    "for i in range(0,100):\n",
    "    print(\"Review:\",seq2text(x_tr[i]))\n",
    "    print(\"Original summary:\",seq2summary(y_tr[i]))\n",
    "    print(\"Predicted summary:\",decode_sequence(x_tr[i].reshape(1,max_text_len)))\n",
    "    print(\"\\n\")\n",
    "\n"
   ]
  },
  {
   "cell_type": "code",
   "execution_count": null,
   "metadata": {},
   "outputs": [],
   "source": []
  }
 ],
 "metadata": {
  "colab": {
   "name": "Keras with attention.ipynb",
   "provenance": []
  },
  "kernelspec": {
   "display_name": "Python 3",
   "language": "python",
   "name": "python3"
  },
  "language_info": {
   "codemirror_mode": {
    "name": "ipython",
    "version": 3
   },
   "file_extension": ".py",
   "mimetype": "text/x-python",
   "name": "python",
   "nbconvert_exporter": "python",
   "pygments_lexer": "ipython3",
   "version": "3.6.8"
  }
 },
 "nbformat": 4,
 "nbformat_minor": 1
}
