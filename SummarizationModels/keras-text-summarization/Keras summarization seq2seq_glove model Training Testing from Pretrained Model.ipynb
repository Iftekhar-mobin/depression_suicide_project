{
 "cells": [
  {
   "cell_type": "code",
   "execution_count": 1,
   "metadata": {},
   "outputs": [
    {
     "name": "stderr",
     "output_type": "stream",
     "text": [
      "Using TensorFlow backend.\n"
     ]
    },
    {
     "name": "stdout",
     "output_type": "stream",
     "text": [
      "loading csv file ...\n",
      "extract configuration from input texts ...\n",
      "configuration extracted from input texts ...\n",
      "WARNING:tensorflow:From /home/ifte/amiebot_project/lib/python3.6/site-packages/tensorflow_core/python/ops/resource_variable_ops.py:1630: calling BaseResourceVariable.__init__ (from tensorflow.python.ops.resource_variable_ops) with constraint is deprecated and will be removed in a future version.\n",
      "Instructions for updating:\n",
      "If using Keras pass *_constraint arguments to layers.\n",
      "training size:  1121\n",
      "testing size:  281\n",
      "start fitting ...\n",
      "(1121,)\n",
      "(281,)\n",
      "(1121, 2, 100)\n",
      "(281, 2, 100)\n",
      "WARNING:tensorflow:From /home/ifte/amiebot_project/lib/python3.6/site-packages/tensorflow_core/python/ops/math_grad.py:1424: where (from tensorflow.python.ops.array_ops) is deprecated and will be removed in a future version.\n",
      "Instructions for updating:\n",
      "Use tf.where in 2.0, which has the same broadcast rule as np.where\n",
      "WARNING:tensorflow:From /home/ifte/amiebot_project/lib/python3.6/site-packages/keras/backend/tensorflow_backend.py:422: The name tf.global_variables is deprecated. Please use tf.compat.v1.global_variables instead.\n",
      "\n",
      "Epoch 1/20\n",
      "70/70 [==============================] - 5s 71ms/step - loss: 2.3758 - accuracy: 0.0641 - val_loss: 2.0328 - val_accuracy: 0.0766\n",
      "Epoch 2/20\n",
      "70/70 [==============================] - 5s 65ms/step - loss: 2.1211 - accuracy: 0.0843 - val_loss: 1.9438 - val_accuracy: 0.1041\n",
      "Epoch 3/20\n",
      "70/70 [==============================] - 5s 67ms/step - loss: 2.0086 - accuracy: 0.1038 - val_loss: 1.8503 - val_accuracy: 0.1148\n",
      "Epoch 4/20\n",
      "70/70 [==============================] - 5s 67ms/step - loss: 1.9056 - accuracy: 0.1196 - val_loss: 1.7754 - val_accuracy: 0.1320\n",
      "Epoch 5/20\n",
      "70/70 [==============================] - 5s 65ms/step - loss: 1.8085 - accuracy: 0.1356 - val_loss: 1.7102 - val_accuracy: 0.1448\n",
      "Epoch 6/20\n",
      "70/70 [==============================] - 5s 67ms/step - loss: 1.7203 - accuracy: 0.1497 - val_loss: 1.6500 - val_accuracy: 0.1586\n",
      "Epoch 7/20\n",
      "70/70 [==============================] - 5s 66ms/step - loss: 1.6426 - accuracy: 0.1630 - val_loss: 1.6012 - val_accuracy: 0.1680\n",
      "Epoch 8/20\n",
      "70/70 [==============================] - 5s 72ms/step - loss: 1.5745 - accuracy: 0.1708 - val_loss: 1.5522 - val_accuracy: 0.1742\n",
      "Epoch 9/20\n",
      "70/70 [==============================] - 5s 65ms/step - loss: 1.5161 - accuracy: 0.1791 - val_loss: 1.5102 - val_accuracy: 0.1790\n",
      "Epoch 10/20\n",
      "70/70 [==============================] - 5s 64ms/step - loss: 1.4633 - accuracy: 0.1865 - val_loss: 1.4698 - val_accuracy: 0.1840\n",
      "Epoch 11/20\n",
      "70/70 [==============================] - 5s 66ms/step - loss: 1.4124 - accuracy: 0.1944 - val_loss: 1.4341 - val_accuracy: 0.1881\n",
      "Epoch 12/20\n",
      "70/70 [==============================] - 4s 63ms/step - loss: 1.3651 - accuracy: 0.2003 - val_loss: 1.3985 - val_accuracy: 0.1947\n",
      "Epoch 13/20\n",
      "70/70 [==============================] - 5s 65ms/step - loss: 1.3206 - accuracy: 0.2061 - val_loss: 1.3617 - val_accuracy: 0.2012\n",
      "Epoch 14/20\n",
      "70/70 [==============================] - 5s 68ms/step - loss: 1.2782 - accuracy: 0.2118 - val_loss: 1.3274 - val_accuracy: 0.2060\n",
      "Epoch 15/20\n",
      "70/70 [==============================] - 5s 76ms/step - loss: 1.2365 - accuracy: 0.2174 - val_loss: 1.2927 - val_accuracy: 0.2112\n",
      "Epoch 16/20\n",
      "70/70 [==============================] - 5s 65ms/step - loss: 1.1969 - accuracy: 0.2226 - val_loss: 1.2617 - val_accuracy: 0.2180\n",
      "Epoch 17/20\n",
      "70/70 [==============================] - 5s 66ms/step - loss: 1.1589 - accuracy: 0.2291 - val_loss: 1.2331 - val_accuracy: 0.2263\n",
      "Epoch 18/20\n",
      "70/70 [==============================] - 5s 67ms/step - loss: 1.1217 - accuracy: 0.2361 - val_loss: 1.2106 - val_accuracy: 0.2323\n",
      "Epoch 19/20\n",
      "70/70 [==============================] - 5s 68ms/step - loss: 1.0874 - accuracy: 0.2424 - val_loss: 1.1870 - val_accuracy: 0.2375\n",
      "Epoch 20/20\n",
      "70/70 [==============================] - 5s 68ms/step - loss: 1.0547 - accuracy: 0.2475 - val_loss: 1.1724 - val_accuracy: 0.2391\n"
     ]
    },
    {
     "data": {
      "text/plain": [
       "<keras.callbacks.callbacks.History at 0x7fef75749c50>"
      ]
     },
     "execution_count": 1,
     "metadata": {},
     "output_type": "execute_result"
    }
   ],
   "source": [
    "import pandas as pd\n",
    "from sklearn.model_selection import train_test_split\n",
    "from keras_text_summarization.library.utility.plot_utils import plot_and_save_history\n",
    "from keras_text_summarization.library.seq2seq import Seq2SeqGloVeSummarizer\n",
    "from keras_text_summarization.library.applications.fake_news_loader import fit_text\n",
    "import numpy as np\n",
    "\n",
    "LOAD_EXISTING_WEIGHTS = False\n",
    "\n",
    "\n",
    "np.random.seed(42)\n",
    "data_dir_path = './demo/data'\n",
    "very_large_data_dir_path = './demo/very_large_data'\n",
    "report_dir_path = './demo/reports'\n",
    "model_dir_path = './demo/models'\n",
    "\n",
    "print('loading csv file ...')\n",
    "df = pd.read_csv(\"/home/ifte/amiebot_project/MyAI/AI-system/Helpers/processed_dataset.csv\")\n",
    "\n",
    "print('extract configuration from input texts ...')\n",
    "Y = df.Summary\n",
    "X = df['Article']\n",
    "config = fit_text(str(X), Y)\n",
    "\n",
    "print('configuration extracted from input texts ...')\n",
    "\n",
    "summarizer = Seq2SeqGloVeSummarizer(config)\n",
    "summarizer.load_glove(very_large_data_dir_path)\n",
    "\n",
    "if LOAD_EXISTING_WEIGHTS:\n",
    "    summarizer.load_weights(weight_file_path=Seq2SeqGloVeSummarizer.get_weight_file_path(model_dir_path=model_dir_path))\n",
    "\n",
    "Xtrain, Xtest, Ytrain, Ytest = train_test_split(X, Y, test_size=0.2, random_state=42)\n",
    "\n",
    "print('training size: ', len(Xtrain))\n",
    "print('testing size: ', len(Xtest))\n",
    "\n",
    "print('start fitting ...')\n",
    "summarizer.fit(Xtrain, Ytrain, Xtest, Ytest, epochs=20, batch_size=16)\n"
   ]
  },
  {
   "cell_type": "code",
   "execution_count": 2,
   "metadata": {},
   "outputs": [
    {
     "name": "stdout",
     "output_type": "stream",
     "text": [
      "start predicting ...\n",
      "Generated Headline:  rule console reference dialog rule alert windowsdesktop alert namecard\n"
     ]
    }
   ],
   "source": [
    "from __future__ import print_function\n",
    "\n",
    "import pandas as pd\n",
    "from keras_text_summarization.library.seq2seq import Seq2SeqGloVeSummarizer\n",
    "import numpy as np\n",
    "\n",
    "np.random.seed(42)\n",
    "data_dir_path = './demo/data' # refers to the demo/data folder\n",
    "model_dir_path = './demo/models' # refers to the demo/models folder\n",
    "very_large_data_dir_path = './demo/very_large_data'\n",
    "\n",
    "# print('loading csv file ...')\n",
    "# df = pd.read_csv(data_dir_path + \"/fake_or_real_news.csv\")\n",
    "# X = df['text']\n",
    "# Y = df.title\n",
    "\n",
    "config = np.load(Seq2SeqGloVeSummarizer.get_config_file_path(model_dir_path=model_dir_path), allow_pickle=True).item()\n",
    "\n",
    "summarizer = Seq2SeqGloVeSummarizer(config)\n",
    "summarizer.load_glove(very_large_data_dir_path)\n",
    "summarizer.load_weights(weight_file_path=Seq2SeqGloVeSummarizer.get_weight_file_path(model_dir_path=model_dir_path))\n",
    "\n",
    "print('start predicting ...')\n",
    "# for i in range(20):\n",
    "#     x = X[i]\n",
    "#     actual_headline = Y[i]\n",
    "#     headline = summarizer.summarize(x)\n",
    "#     # print('Article: ', x)\n",
    "#     print('Generated Headline: ', headline)\n",
    "#     print('Original Headline: ', actual_headline)\n",
    "\n",
    "text = \"creat new user user group within soti mobicontrol consol whose permiss restrict specif devic group platform tab select secur tab select devic group permiss option left pane consol select user user group userus group list select devic group devic group list devic group permiss pane select permiss want appli user user group see inform specif permiss satisfi permiss click save bottom right corner soti mobicontrol consol streamlin process futur use copi past button devic group permiss section replic permiss onto anoth group parent topic email email\"\n",
    "print('Generated Headline: ', summarizer.summarize(text))"
   ]
  },
  {
   "cell_type": "code",
   "execution_count": null,
   "metadata": {},
   "outputs": [],
   "source": []
  }
 ],
 "metadata": {
  "kernelspec": {
   "display_name": "Python 3",
   "language": "python",
   "name": "python3"
  },
  "language_info": {
   "codemirror_mode": {
    "name": "ipython",
    "version": 3
   },
   "file_extension": ".py",
   "mimetype": "text/x-python",
   "name": "python",
   "nbconvert_exporter": "python",
   "pygments_lexer": "ipython3",
   "version": "3.6.8"
  }
 },
 "nbformat": 4,
 "nbformat_minor": 2
}
