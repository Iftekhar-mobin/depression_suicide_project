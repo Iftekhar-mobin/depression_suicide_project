{
 "cells": [
  {
   "cell_type": "code",
   "execution_count": 1,
   "id": "cb701ab4",
   "metadata": {},
   "outputs": [],
   "source": [
    "import nltk\n",
    "import re\n",
    "from nltk.corpus import stopwords\n",
    "stop_words_nltk = set(stopwords.words('english'))\n",
    "import spacy\n",
    "nlp = spacy.load('en_core_web_sm')\n",
    "\n",
    "# Tags I want to remove from the text\n",
    "removal= ['DET','ADP','SPACE', 'NUM', 'SYM', 'AUX', 'PRON','CCONJ','PUNCT','PART']\n",
    "\n",
    "def prepare_tokens_cleaning(lines):\n",
    "    return ' '.join([token.lemma_.lower() for token in nlp(lines) \n",
    "            if token.pos_ not in removal and not token.is_stop and token.is_alpha])\n",
    "def remove_noisy_features(tok):\n",
    "    # remove words less than 3 characters\n",
    "    collect_text = []\n",
    "    for i in tok:\n",
    "        if len(i) > 2:\n",
    "            collect_text.append(i)\n",
    "    return ' '.join(collect_text)\n",
    "\n",
    "def text_preprocessing(text):    \n",
    "    # Convert words to lower case\n",
    "    text = text.lower()    \n",
    "    text = re.sub(r'\\'', ' ', text) \n",
    "\n",
    "    # Tokenize each word\n",
    "    text = nltk.WordPunctTokenizer().tokenize(text)\n",
    "\n",
    "    # Lemmatize each word\n",
    "    text = [x for x in [nltk.stem.WordNetLemmatizer().lemmatize(w, pos='v') \n",
    "                            for w in text if len(w)>1] if x not in stop_words_nltk]\n",
    "    \n",
    "    return text\n",
    "\n",
    "def preprocess_dataset(final_df):\n",
    "    final_df['Post'] = final_df.Post.apply(lambda x: prepare_tokens_cleaning(x))\n",
    "    final_df['Post'] = final_df.Post.apply(lambda x: ' '.join(text_preprocessing(x)))\n",
    "    final_df['Post'] = final_df.Post.apply(lambda x: remove_noisy_features(x.split()))\n",
    "    return final_df"
   ]
  },
  {
   "cell_type": "code",
   "execution_count": null,
   "id": "40ea5eba",
   "metadata": {},
   "outputs": [],
   "source": []
  }
 ],
 "metadata": {
  "kernelspec": {
   "display_name": "Python 3 (ipykernel)",
   "language": "python",
   "name": "python3"
  },
  "language_info": {
   "codemirror_mode": {
    "name": "ipython",
    "version": 3
   },
   "file_extension": ".py",
   "mimetype": "text/x-python",
   "name": "python",
   "nbconvert_exporter": "python",
   "pygments_lexer": "ipython3",
   "version": "3.10.0"
  }
 },
 "nbformat": 4,
 "nbformat_minor": 5
}
