{
 "cells": [
  {
   "cell_type": "code",
   "execution_count": null,
   "id": "00004795",
   "metadata": {},
   "outputs": [],
   "source": [
    "## The dataset is a collection of posts from the \"SuicideWatch\" and \"depression\" subreddits of the Reddit platform. The posts are collected using Pushshift API. \n",
    "## All posts that were made to \"SuicideWatch\" from Dec 16, 2008(creation) till Jan 2, 2021, were collected while \"depression\" posts were collected from Jan 1, 2009, to Jan 2, 2021. All posts collected from SuicideWatch are labeled as suicide, While posts collected from the depression subreddit are labeled as depression. \n",
    "## Non-suicide posts are collected from r/teenagers."
   ]
  },
  {
   "cell_type": "code",
   "execution_count": 1,
   "id": "017ade74",
   "metadata": {},
   "outputs": [],
   "source": [
    "import pandas as pd"
   ]
  },
  {
   "cell_type": "code",
   "execution_count": 16,
   "id": "25a7e48d",
   "metadata": {},
   "outputs": [],
   "source": [
    "import nltk\n",
    "import re\n",
    "from nltk.corpus import stopwords\n",
    "stop_words_nltk = set(stopwords.words('english'))"
   ]
  },
  {
   "cell_type": "code",
   "execution_count": 17,
   "id": "ce378e5e",
   "metadata": {},
   "outputs": [],
   "source": [
    "import spacy\n",
    "nlp = spacy.load('en_core_web_sm')"
   ]
  },
  {
   "cell_type": "code",
   "execution_count": 3,
   "id": "d9a2987e",
   "metadata": {},
   "outputs": [],
   "source": [
    "# Tags I want to remove from the text\n",
    "removal= ['DET','ADP','SPACE', 'NUM', 'SYM', 'AUX', 'PRON','CCONJ','PUNCT','PART']\n",
    "\n",
    "def prepare_tokens_cleaning(lines):\n",
    "    return ' '.join([token.lemma_.lower() for token in nlp(lines) \n",
    "            if token.pos_ not in removal and not token.is_stop and token.is_alpha])\n",
    "def remove_noisy_features(tok):\n",
    "    # remove words less than 3 characters\n",
    "    collect_text = []\n",
    "    for i in tok:\n",
    "        if len(i) > 2:\n",
    "            collect_text.append(i)\n",
    "    return ' '.join(collect_text)\n",
    "\n",
    "def text_preprocessing(text):    \n",
    "    # Convert words to lower case\n",
    "    text = text.lower()    \n",
    "    text = re.sub(r'\\'', ' ', text) \n",
    "\n",
    "    # Tokenize each word\n",
    "    text = nltk.WordPunctTokenizer().tokenize(text)\n",
    "\n",
    "    # Lemmatize each word\n",
    "    text = [x for x in [nltk.stem.WordNetLemmatizer().lemmatize(w, pos='v') \n",
    "                            for w in text if len(w)>1] if x not in stop_words_nltk]\n",
    "    \n",
    "    return text"
   ]
  },
  {
   "cell_type": "code",
   "execution_count": 7,
   "id": "48050bf4",
   "metadata": {},
   "outputs": [],
   "source": [
    "file_path = 'D:/depression_suicide_project/Pretrained_embedding_models/dataset/suicide/CSSRS/reddit_sui_vs_dep'"
   ]
  },
  {
   "cell_type": "code",
   "execution_count": 8,
   "id": "9ad680c4",
   "metadata": {},
   "outputs": [],
   "source": [
    "file = file_path + '/' + 'Suicide_Detection.csv'"
   ]
  },
  {
   "cell_type": "code",
   "execution_count": 10,
   "id": "483bc0a9",
   "metadata": {},
   "outputs": [],
   "source": [
    "df = pd.read_csv(file, index_col=0)"
   ]
  },
  {
   "cell_type": "code",
   "execution_count": 13,
   "id": "6d09e337",
   "metadata": {},
   "outputs": [
    {
     "data": {
      "text/plain": [
       "class\n",
       "suicide        116037\n",
       "non-suicide    116037\n",
       "Name: count, dtype: int64"
      ]
     },
     "execution_count": 13,
     "metadata": {},
     "output_type": "execute_result"
    }
   ],
   "source": [
    "df['class'].value_counts()"
   ]
  },
  {
   "cell_type": "code",
   "execution_count": 11,
   "id": "e83a3e11",
   "metadata": {},
   "outputs": [
    {
     "data": {
      "text/html": [
       "<div>\n",
       "<style scoped>\n",
       "    .dataframe tbody tr th:only-of-type {\n",
       "        vertical-align: middle;\n",
       "    }\n",
       "\n",
       "    .dataframe tbody tr th {\n",
       "        vertical-align: top;\n",
       "    }\n",
       "\n",
       "    .dataframe thead th {\n",
       "        text-align: right;\n",
       "    }\n",
       "</style>\n",
       "<table border=\"1\" class=\"dataframe\">\n",
       "  <thead>\n",
       "    <tr style=\"text-align: right;\">\n",
       "      <th></th>\n",
       "      <th>text</th>\n",
       "      <th>class</th>\n",
       "    </tr>\n",
       "  </thead>\n",
       "  <tbody>\n",
       "    <tr>\n",
       "      <th>2</th>\n",
       "      <td>Ex Wife Threatening SuicideRecently I left my ...</td>\n",
       "      <td>suicide</td>\n",
       "    </tr>\n",
       "    <tr>\n",
       "      <th>3</th>\n",
       "      <td>Am I weird I don't get affected by compliments...</td>\n",
       "      <td>non-suicide</td>\n",
       "    </tr>\n",
       "    <tr>\n",
       "      <th>4</th>\n",
       "      <td>Finally 2020 is almost over... So I can never ...</td>\n",
       "      <td>non-suicide</td>\n",
       "    </tr>\n",
       "    <tr>\n",
       "      <th>8</th>\n",
       "      <td>i need helpjust help me im crying so hard</td>\n",
       "      <td>suicide</td>\n",
       "    </tr>\n",
       "    <tr>\n",
       "      <th>9</th>\n",
       "      <td>I’m so lostHello, my name is Adam (16) and I’v...</td>\n",
       "      <td>suicide</td>\n",
       "    </tr>\n",
       "    <tr>\n",
       "      <th>...</th>\n",
       "      <td>...</td>\n",
       "      <td>...</td>\n",
       "    </tr>\n",
       "    <tr>\n",
       "      <th>348103</th>\n",
       "      <td>If you don't like rock then your not going to ...</td>\n",
       "      <td>non-suicide</td>\n",
       "    </tr>\n",
       "    <tr>\n",
       "      <th>348106</th>\n",
       "      <td>You how you can tell i have so many friends an...</td>\n",
       "      <td>non-suicide</td>\n",
       "    </tr>\n",
       "    <tr>\n",
       "      <th>348107</th>\n",
       "      <td>pee probably tastes like salty tea😏💦‼️ can som...</td>\n",
       "      <td>non-suicide</td>\n",
       "    </tr>\n",
       "    <tr>\n",
       "      <th>348108</th>\n",
       "      <td>The usual stuff you find hereI'm not posting t...</td>\n",
       "      <td>suicide</td>\n",
       "    </tr>\n",
       "    <tr>\n",
       "      <th>348110</th>\n",
       "      <td>I still haven't beaten the first boss in Hollo...</td>\n",
       "      <td>non-suicide</td>\n",
       "    </tr>\n",
       "  </tbody>\n",
       "</table>\n",
       "<p>232074 rows × 2 columns</p>\n",
       "</div>"
      ],
      "text/plain": [
       "                                                     text        class\n",
       "2       Ex Wife Threatening SuicideRecently I left my ...      suicide\n",
       "3       Am I weird I don't get affected by compliments...  non-suicide\n",
       "4       Finally 2020 is almost over... So I can never ...  non-suicide\n",
       "8               i need helpjust help me im crying so hard      suicide\n",
       "9       I’m so lostHello, my name is Adam (16) and I’v...      suicide\n",
       "...                                                   ...          ...\n",
       "348103  If you don't like rock then your not going to ...  non-suicide\n",
       "348106  You how you can tell i have so many friends an...  non-suicide\n",
       "348107  pee probably tastes like salty tea😏💦‼️ can som...  non-suicide\n",
       "348108  The usual stuff you find hereI'm not posting t...      suicide\n",
       "348110  I still haven't beaten the first boss in Hollo...  non-suicide\n",
       "\n",
       "[232074 rows x 2 columns]"
      ]
     },
     "execution_count": 11,
     "metadata": {},
     "output_type": "execute_result"
    }
   ],
   "source": [
    "df"
   ]
  },
  {
   "cell_type": "code",
   "execution_count": 18,
   "id": "58ef6a5a",
   "metadata": {},
   "outputs": [],
   "source": [
    "df['post'] = df.text.apply(lambda x: prepare_tokens_cleaning(x))\n",
    "df['post'] = df.post.apply(lambda x: ' '.join(text_preprocessing(x)))\n",
    "df['post'] = df.post.apply(lambda x: remove_noisy_features(x.split()))\n",
    "# df = df.drop(['Post'], axis=1)\n",
    "# df.rename(columns={'post': 'Post'}, inplace=True)"
   ]
  },
  {
   "cell_type": "code",
   "execution_count": 19,
   "id": "fafb5c3a",
   "metadata": {},
   "outputs": [],
   "source": [
    "df.to_csv('processed_dataset_reddit_suicide_vs_depression.csv')"
   ]
  },
  {
   "cell_type": "code",
   "execution_count": 5,
   "id": "b9183926",
   "metadata": {},
   "outputs": [],
   "source": [
    "df = pd.read_csv('D:/depression_suicide_project/Pretrained_embedding_models/dataset/suicide/CSSRS/processed_dataset_reddit_suicide_vs_depression.csv', index_col=0)"
   ]
  },
  {
   "cell_type": "code",
   "execution_count": 6,
   "id": "c98ee10d",
   "metadata": {},
   "outputs": [
    {
     "data": {
      "text/html": [
       "<div>\n",
       "<style scoped>\n",
       "    .dataframe tbody tr th:only-of-type {\n",
       "        vertical-align: middle;\n",
       "    }\n",
       "\n",
       "    .dataframe tbody tr th {\n",
       "        vertical-align: top;\n",
       "    }\n",
       "\n",
       "    .dataframe thead th {\n",
       "        text-align: right;\n",
       "    }\n",
       "</style>\n",
       "<table border=\"1\" class=\"dataframe\">\n",
       "  <thead>\n",
       "    <tr style=\"text-align: right;\">\n",
       "      <th></th>\n",
       "      <th>text</th>\n",
       "      <th>class</th>\n",
       "      <th>post</th>\n",
       "    </tr>\n",
       "  </thead>\n",
       "  <tbody>\n",
       "    <tr>\n",
       "      <th>2</th>\n",
       "      <td>Ex Wife Threatening SuicideRecently I left my ...</td>\n",
       "      <td>suicide</td>\n",
       "      <td>wife threaten suiciderecently leave wife good ...</td>\n",
       "    </tr>\n",
       "    <tr>\n",
       "      <th>3</th>\n",
       "      <td>Am I weird I don't get affected by compliments...</td>\n",
       "      <td>non-suicide</td>\n",
       "      <td>weird affect compliment come know irl feel goo...</td>\n",
       "    </tr>\n",
       "    <tr>\n",
       "      <th>4</th>\n",
       "      <td>Finally 2020 is almost over... So I can never ...</td>\n",
       "      <td>non-suicide</td>\n",
       "      <td>finally hear bad year swear fuck god annoy</td>\n",
       "    </tr>\n",
       "    <tr>\n",
       "      <th>8</th>\n",
       "      <td>i need helpjust help me im crying so hard</td>\n",
       "      <td>suicide</td>\n",
       "      <td>need helpjust help cry hard</td>\n",
       "    </tr>\n",
       "    <tr>\n",
       "      <th>9</th>\n",
       "      <td>I’m so lostHello, my name is Adam (16) and I’v...</td>\n",
       "      <td>suicide</td>\n",
       "      <td>losthello adam struggle year afraid past year ...</td>\n",
       "    </tr>\n",
       "    <tr>\n",
       "      <th>...</th>\n",
       "      <td>...</td>\n",
       "      <td>...</td>\n",
       "      <td>...</td>\n",
       "    </tr>\n",
       "    <tr>\n",
       "      <th>348103</th>\n",
       "      <td>If you don't like rock then your not going to ...</td>\n",
       "      <td>non-suicide</td>\n",
       "      <td>like rock</td>\n",
       "    </tr>\n",
       "    <tr>\n",
       "      <th>348106</th>\n",
       "      <td>You how you can tell i have so many friends an...</td>\n",
       "      <td>non-suicide</td>\n",
       "      <td>tell friend lonely deprive pre buy little nigh...</td>\n",
       "    </tr>\n",
       "    <tr>\n",
       "      <th>348107</th>\n",
       "      <td>pee probably tastes like salty tea😏💦‼️ can som...</td>\n",
       "      <td>non-suicide</td>\n",
       "      <td>pee probably taste salty tea drink pee confirm</td>\n",
       "    </tr>\n",
       "    <tr>\n",
       "      <th>348108</th>\n",
       "      <td>The usual stuff you find hereI'm not posting t...</td>\n",
       "      <td>suicide</td>\n",
       "      <td>usual stuff find post sympathy pity know far b...</td>\n",
       "    </tr>\n",
       "    <tr>\n",
       "      <th>348110</th>\n",
       "      <td>I still haven't beaten the first boss in Hollo...</td>\n",
       "      <td>non-suicide</td>\n",
       "      <td>beat boss hollow knight fight time die early f...</td>\n",
       "    </tr>\n",
       "  </tbody>\n",
       "</table>\n",
       "<p>232074 rows × 3 columns</p>\n",
       "</div>"
      ],
      "text/plain": [
       "                                                     text        class   \n",
       "2       Ex Wife Threatening SuicideRecently I left my ...      suicide  \\\n",
       "3       Am I weird I don't get affected by compliments...  non-suicide   \n",
       "4       Finally 2020 is almost over... So I can never ...  non-suicide   \n",
       "8               i need helpjust help me im crying so hard      suicide   \n",
       "9       I’m so lostHello, my name is Adam (16) and I’v...      suicide   \n",
       "...                                                   ...          ...   \n",
       "348103  If you don't like rock then your not going to ...  non-suicide   \n",
       "348106  You how you can tell i have so many friends an...  non-suicide   \n",
       "348107  pee probably tastes like salty tea😏💦‼️ can som...  non-suicide   \n",
       "348108  The usual stuff you find hereI'm not posting t...      suicide   \n",
       "348110  I still haven't beaten the first boss in Hollo...  non-suicide   \n",
       "\n",
       "                                                     post  \n",
       "2       wife threaten suiciderecently leave wife good ...  \n",
       "3       weird affect compliment come know irl feel goo...  \n",
       "4              finally hear bad year swear fuck god annoy  \n",
       "8                             need helpjust help cry hard  \n",
       "9       losthello adam struggle year afraid past year ...  \n",
       "...                                                   ...  \n",
       "348103                                          like rock  \n",
       "348106  tell friend lonely deprive pre buy little nigh...  \n",
       "348107     pee probably taste salty tea drink pee confirm  \n",
       "348108  usual stuff find post sympathy pity know far b...  \n",
       "348110  beat boss hollow knight fight time die early f...  \n",
       "\n",
       "[232074 rows x 3 columns]"
      ]
     },
     "execution_count": 6,
     "metadata": {},
     "output_type": "execute_result"
    }
   ],
   "source": [
    "df"
   ]
  },
  {
   "cell_type": "code",
   "execution_count": null,
   "id": "9013d5e2",
   "metadata": {},
   "outputs": [],
   "source": []
  }
 ],
 "metadata": {
  "kernelspec": {
   "display_name": "Python 3 (ipykernel)",
   "language": "python",
   "name": "python3"
  },
  "language_info": {
   "codemirror_mode": {
    "name": "ipython",
    "version": 3
   },
   "file_extension": ".py",
   "mimetype": "text/x-python",
   "name": "python",
   "nbconvert_exporter": "python",
   "pygments_lexer": "ipython3",
   "version": "3.7.5"
  }
 },
 "nbformat": 4,
 "nbformat_minor": 5
}
