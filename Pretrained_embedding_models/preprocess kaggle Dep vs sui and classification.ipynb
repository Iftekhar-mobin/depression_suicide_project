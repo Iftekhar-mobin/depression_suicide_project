{
 "cells": [
  {
   "cell_type": "code",
   "execution_count": null,
   "id": "e2efd27e",
   "metadata": {},
   "outputs": [],
   "source": [
    "## The dataset is a collection of posts from the \"SuicideWatch\" and \"depression\" subreddits of the Reddit platform. The posts are collected using Pushshift API. All posts that were made to \"SuicideWatch\" from Dec 16, 2008(creation) till Jan 2, 2021, were collected while \"depression\" posts were collected from Jan 1, 2009, to Jan 2, 2021. All posts collected from SuicideWatch are labeled as suicide, While posts collected from the depression subreddit are labeled as depression. Non-suicide posts are collected from r/teenagers."
   ]
  }
 ],
 "metadata": {
  "kernelspec": {
   "display_name": "Python 3 (ipykernel)",
   "language": "python",
   "name": "python3"
  },
  "language_info": {
   "codemirror_mode": {
    "name": "ipython",
    "version": 3
   },
   "file_extension": ".py",
   "mimetype": "text/x-python",
   "name": "python",
   "nbconvert_exporter": "python",
   "pygments_lexer": "ipython3",
   "version": "3.10.0"
  }
 },
 "nbformat": 4,
 "nbformat_minor": 5
}
