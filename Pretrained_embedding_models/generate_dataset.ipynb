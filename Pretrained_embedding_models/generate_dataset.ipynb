{
 "cells": [
  {
   "cell_type": "code",
   "execution_count": 15,
   "id": "e9d4ad30",
   "metadata": {},
   "outputs": [],
   "source": [
    "import pandas as pd\n",
    "import random"
   ]
  },
  {
   "cell_type": "code",
   "execution_count": 16,
   "id": "986880f5",
   "metadata": {},
   "outputs": [],
   "source": [
    "# CORPUS_DIR = os.path.expanduser('~') + '/Documents/mental_health/suicide/'\n",
    "CORPUS_DIR = \"D:\\MY_REPOSITORY\\depression_suicide_project\\Pretrained_embedding_models\\dataset\\suicide\"\n",
    "CORPUS_NAME = 'Suicide_Detection.csv'\n",
    "CORPUS_PATH = CORPUS_DIR + CORPUS_NAME\n",
    "PROCESSED_CORPUS = 'Suicide_Detection_processed.csv'\n",
    "CSSR_DATASET = '500_Reddit_users_posts_labels.csv'\n",
    "CSSR_DIR = CORPUS_DIR + '\\CSSRS'\n",
    "BEST_ENTITIES = ['high school', 'mental health', 'best friend', 'feel like', 'really want', 'suicide thought',\n",
    "                 'friend family']\n",
    "CSSR_CAT = ['Indicator', 'Attempt','Behavior','Ideation']\n",
    "CSSR_FILES = ['suicidal_indicator.csv', 'suicidal_attempt.csv', 'suicidal_behavior.csv', 'suicidal_ideation.csv']\n"
   ]
  },
  {
   "cell_type": "code",
   "execution_count": null,
   "id": "cc265eba",
   "metadata": {},
   "outputs": [],
   "source": []
  },
  {
   "cell_type": "code",
   "execution_count": 92,
   "id": "f53aff1b",
   "metadata": {},
   "outputs": [],
   "source": [
    "def generate_dataset(classes, res):\n",
    "    data = []\n",
    "    category = []\n",
    "    for sample in res:\n",
    "        data.append(''.join(sample))\n",
    "        category.append(classes)\n",
    "    return pd.DataFrame(zip(data, category), columns=['Post', 'Label'])\n",
    "\n",
    "def generate_samples(sentence_num, size):\n",
    "    index = 0\n",
    "    dataset = pd.DataFrame()\n",
    "    \n",
    "    for items in CSSR_FILES:\n",
    "        frame = pd.read_csv(CSSR_DIR + '\\\\' + items, index_col=0)\n",
    "        col_name = list(frame.columns)\n",
    "        # Making the class evenly distributed\n",
    "        if index == 0:\n",
    "            size = 5*2\n",
    "        elif index == 1:\n",
    "            size = 48*2\n",
    "        elif index == 2:\n",
    "            size = 42*2\n",
    "        else:\n",
    "            size = 14*2\n",
    "        for k in range(size):\n",
    "            temp = [col_name[items:items + sentence_num] \n",
    "                    for items in range(0, len(col_name), sentence_num)]\n",
    "            dataset = pd.concat([dataset, generate_dataset(CSSR_CAT[index], temp)])\n",
    "            random.shuffle(col_name)\n",
    "        index += 1\n",
    "        \n",
    "    return dataset.sample(frac=1)\n",
    "\n",
    "\n",
    "def generate_dataframe(sent_size, size):\n",
    "    x = generate_samples(sent_size, size)\n",
    "#     x = pd.concat([prepare_main_dataset(), x])\n",
    "#     x = x[['Post','Label','code']]\n",
    "#     x['code'] = Le.fit_transform(x['Label'])\n",
    "    return x"
   ]
  },
  {
   "cell_type": "code",
   "execution_count": 93,
   "id": "78e13518",
   "metadata": {},
   "outputs": [],
   "source": [
    "f = generate_dataframe(20, 100)"
   ]
  },
  {
   "cell_type": "code",
   "execution_count": 94,
   "id": "10953a69",
   "metadata": {},
   "outputs": [
    {
     "data": {
      "text/plain": [
       "Label\n",
       "Indicator    770\n",
       "Ideation     672\n",
       "Attempt      672\n",
       "Behavior     672\n",
       "Name: count, dtype: int64"
      ]
     },
     "execution_count": 94,
     "metadata": {},
     "output_type": "execute_result"
    }
   ],
   "source": [
    "f['Label'].value_counts()"
   ]
  },
  {
   "cell_type": "code",
   "execution_count": 30,
   "id": "f5ec53bd",
   "metadata": {},
   "outputs": [],
   "source": [
    "s = f['Label'].value_counts()\n",
    "\n",
    "max(s.to_list())"
   ]
  }
 ],
 "metadata": {
  "kernelspec": {
   "display_name": "Python 3 (ipykernel)",
   "language": "python",
   "name": "python3"
  },
  "language_info": {
   "codemirror_mode": {
    "name": "ipython",
    "version": 3
   },
   "file_extension": ".py",
   "mimetype": "text/x-python",
   "name": "python",
   "nbconvert_exporter": "python",
   "pygments_lexer": "ipython3",
   "version": "3.10.9"
  }
 },
 "nbformat": 4,
 "nbformat_minor": 5
}
